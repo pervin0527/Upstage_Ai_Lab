{
 "cells": [
  {
   "cell_type": "code",
   "execution_count": 1,
   "metadata": {},
   "outputs": [],
   "source": [
    "import warnings\n",
    "warnings.filterwarnings('ignore')\n",
    "\n",
    "import os\n",
    "import time\n",
    "import pandas as pd\n",
    "\n",
    "from selenium import webdriver\n",
    "from selenium.webdriver.common.by import By\n",
    "from selenium.webdriver.common.keys import Keys\n",
    "from webdriver_manager.chrome import ChromeDriverManager"
   ]
  },
  {
   "cell_type": "code",
   "execution_count": 2,
   "metadata": {},
   "outputs": [],
   "source": [
    "# ChromeDriverManager().install()"
   ]
  },
  {
   "cell_type": "code",
   "execution_count": 3,
   "metadata": {},
   "outputs": [],
   "source": [
    "data_dir = \"/Users/pervin0527/upstage-ml-regression-ml11/data\"\n",
    "train_data = pd.read_csv(f\"{data_dir}/train.csv\")\n",
    "test_data = pd.read_csv(f\"{data_dir}/test.csv\")"
   ]
  },
  {
   "cell_type": "code",
   "execution_count": 4,
   "metadata": {},
   "outputs": [
    {
     "name": "stdout",
     "output_type": "stream",
     "text": [
      "<class 'pandas.core.frame.DataFrame'>\n",
      "RangeIndex: 1118822 entries, 0 to 1118821\n",
      "Data columns (total 52 columns):\n",
      " #   Column                  Non-Null Count    Dtype  \n",
      "---  ------                  --------------    -----  \n",
      " 0   시군구                     1118822 non-null  object \n",
      " 1   번지                      1118597 non-null  object \n",
      " 2   본번                      1118747 non-null  float64\n",
      " 3   부번                      1118747 non-null  float64\n",
      " 4   아파트명                    1116696 non-null  object \n",
      " 5   전용면적(㎡)                 1118822 non-null  float64\n",
      " 6   계약년월                    1118822 non-null  int64  \n",
      " 7   계약일                     1118822 non-null  int64  \n",
      " 8   층                       1118822 non-null  int64  \n",
      " 9   건축년도                    1118822 non-null  int64  \n",
      " 10  도로명                     1118822 non-null  object \n",
      " 11  해제사유발생일                 5983 non-null     float64\n",
      " 12  등기신청일자                  1118822 non-null  object \n",
      " 13  거래유형                    1118822 non-null  object \n",
      " 14  중개사소재지                  1118822 non-null  object \n",
      " 15  k-단지분류(아파트,주상복합등등)      248131 non-null   object \n",
      " 16  k-전화번호                  248548 non-null   object \n",
      " 17  k-팩스번호                  246080 non-null   object \n",
      " 18  단지소개기존clob              68582 non-null    float64\n",
      " 19  k-세대타입(분양형태)            249259 non-null   object \n",
      " 20  k-관리방식                  249259 non-null   object \n",
      " 21  k-복도유형                  248932 non-null   object \n",
      " 22  k-난방방식                  249259 non-null   object \n",
      " 23  k-전체동수                  248192 non-null   float64\n",
      " 24  k-전체세대수                 249259 non-null   float64\n",
      " 25  k-건설사(시공사)              247764 non-null   object \n",
      " 26  k-시행사                   247568 non-null   object \n",
      " 27  k-사용검사일-사용승인일           249126 non-null   object \n",
      " 28  k-연면적                   249259 non-null   float64\n",
      " 29  k-주거전용면적                249214 non-null   float64\n",
      " 30  k-관리비부과면적               249259 non-null   float64\n",
      " 31  k-전용면적별세대현황(60㎡이하)      249214 non-null   float64\n",
      " 32  k-전용면적별세대현황(60㎡~85㎡이하)  249214 non-null   float64\n",
      " 33  k-85㎡~135㎡이하            249214 non-null   float64\n",
      " 34  k-135㎡초과                327 non-null      float64\n",
      " 35  k-홈페이지                  113175 non-null   object \n",
      " 36  k-등록일자                  10990 non-null    object \n",
      " 37  k-수정일자                  249214 non-null   object \n",
      " 38  고용보험관리번호                205518 non-null   object \n",
      " 39  경비비관리형태                 247834 non-null   object \n",
      " 40  세대전기계약방법                240075 non-null   object \n",
      " 41  청소비관리형태                 247644 non-null   object \n",
      " 42  건축면적                    249108 non-null   float64\n",
      " 43  주차대수                    249108 non-null   float64\n",
      " 44  기타/의무/임대/임의=1/2/3/4     249259 non-null   object \n",
      " 45  단지승인일                   248536 non-null   object \n",
      " 46  사용허가여부                  249259 non-null   object \n",
      " 47  관리비 업로드                 249259 non-null   object \n",
      " 48  좌표X                     249152 non-null   float64\n",
      " 49  좌표Y                     249152 non-null   float64\n",
      " 50  단지신청일                   249197 non-null   object \n",
      " 51  target                  1118822 non-null  int64  \n",
      "dtypes: float64(18), int64(5), object(29)\n",
      "memory usage: 443.9+ MB\n"
     ]
    }
   ],
   "source": [
    "train_data.info()"
   ]
  },
  {
   "cell_type": "code",
   "execution_count": 5,
   "metadata": {},
   "outputs": [
    {
     "data": {
      "text/plain": [
       "시군구                             0\n",
       "번지                            225\n",
       "본번                             75\n",
       "부번                             75\n",
       "아파트명                         2126\n",
       "전용면적(㎡)                         0\n",
       "계약년월                            0\n",
       "계약일                             0\n",
       "층                               0\n",
       "건축년도                            0\n",
       "도로명                             0\n",
       "해제사유발생일                   1112839\n",
       "등기신청일자                          0\n",
       "거래유형                            0\n",
       "중개사소재지                          0\n",
       "k-단지분류(아파트,주상복합등등)         870691\n",
       "k-전화번호                     870274\n",
       "k-팩스번호                     872742\n",
       "단지소개기존clob                1050240\n",
       "k-세대타입(분양형태)               869563\n",
       "k-관리방식                     869563\n",
       "k-복도유형                     869890\n",
       "k-난방방식                     869563\n",
       "k-전체동수                     870630\n",
       "k-전체세대수                    869563\n",
       "k-건설사(시공사)                 871058\n",
       "k-시행사                      871254\n",
       "k-사용검사일-사용승인일              869696\n",
       "k-연면적                      869563\n",
       "k-주거전용면적                   869608\n",
       "k-관리비부과면적                  869563\n",
       "k-전용면적별세대현황(60㎡이하)         869608\n",
       "k-전용면적별세대현황(60㎡~85㎡이하)     869608\n",
       "k-85㎡~135㎡이하               869608\n",
       "k-135㎡초과                  1118495\n",
       "k-홈페이지                    1005647\n",
       "k-등록일자                    1107832\n",
       "k-수정일자                     869608\n",
       "고용보험관리번호                   913304\n",
       "경비비관리형태                    870988\n",
       "세대전기계약방법                   878747\n",
       "청소비관리형태                    871178\n",
       "건축면적                       869714\n",
       "주차대수                       869714\n",
       "기타/의무/임대/임의=1/2/3/4        869563\n",
       "단지승인일                      870286\n",
       "사용허가여부                     869563\n",
       "관리비 업로드                    869563\n",
       "좌표X                        869670\n",
       "좌표Y                        869670\n",
       "단지신청일                      869625\n",
       "target                          0\n",
       "dtype: int64"
      ]
     },
     "execution_count": 5,
     "metadata": {},
     "output_type": "execute_result"
    }
   ],
   "source": [
    "train_data.isnull().sum()"
   ]
  },
  {
   "cell_type": "code",
   "execution_count": 6,
   "metadata": {},
   "outputs": [
    {
     "name": "stdout",
     "output_type": "stream",
     "text": [
      "<class 'pandas.core.frame.DataFrame'>\n",
      "RangeIndex: 9272 entries, 0 to 9271\n",
      "Data columns (total 51 columns):\n",
      " #   Column                  Non-Null Count  Dtype  \n",
      "---  ------                  --------------  -----  \n",
      " 0   시군구                     9272 non-null   object \n",
      " 1   번지                      9270 non-null   object \n",
      " 2   본번                      9272 non-null   float64\n",
      " 3   부번                      9272 non-null   float64\n",
      " 4   아파트명                    9262 non-null   object \n",
      " 5   전용면적(㎡)                 9272 non-null   float64\n",
      " 6   계약년월                    9272 non-null   int64  \n",
      " 7   계약일                     9272 non-null   int64  \n",
      " 8   층                       9272 non-null   int64  \n",
      " 9   건축년도                    9272 non-null   int64  \n",
      " 10  도로명                     9272 non-null   object \n",
      " 11  해제사유발생일                 212 non-null    float64\n",
      " 12  등기신청일자                  9272 non-null   object \n",
      " 13  거래유형                    9272 non-null   object \n",
      " 14  중개사소재지                  9272 non-null   object \n",
      " 15  k-단지분류(아파트,주상복합등등)      2690 non-null   object \n",
      " 16  k-전화번호                  2696 non-null   object \n",
      " 17  k-팩스번호                  2666 non-null   object \n",
      " 18  단지소개기존clob              554 non-null    float64\n",
      " 19  k-세대타입(분양형태)            2710 non-null   object \n",
      " 20  k-관리방식                  2710 non-null   object \n",
      " 21  k-복도유형                  2708 non-null   object \n",
      " 22  k-난방방식                  2710 non-null   object \n",
      " 23  k-전체동수                  2695 non-null   float64\n",
      " 24  k-전체세대수                 2710 non-null   float64\n",
      " 25  k-건설사(시공사)              2693 non-null   object \n",
      " 26  k-시행사                   2692 non-null   object \n",
      " 27  k-사용검사일-사용승인일           2709 non-null   object \n",
      " 28  k-연면적                   2710 non-null   float64\n",
      " 29  k-주거전용면적                2710 non-null   float64\n",
      " 30  k-관리비부과면적               2710 non-null   float64\n",
      " 31  k-전용면적별세대현황(60㎡이하)      2710 non-null   float64\n",
      " 32  k-전용면적별세대현황(60㎡~85㎡이하)  2710 non-null   float64\n",
      " 33  k-85㎡~135㎡이하            2710 non-null   float64\n",
      " 34  k-135㎡초과                2 non-null      float64\n",
      " 35  k-홈페이지                  1396 non-null   object \n",
      " 36  k-등록일자                  718 non-null    object \n",
      " 37  k-수정일자                  2710 non-null   object \n",
      " 38  고용보험관리번호                1819 non-null   object \n",
      " 39  경비비관리형태                 2699 non-null   object \n",
      " 40  세대전기계약방법                2630 non-null   object \n",
      " 41  청소비관리형태                 2699 non-null   object \n",
      " 42  건축면적                    2707 non-null   float64\n",
      " 43  주차대수                    2709 non-null   float64\n",
      " 44  기타/의무/임대/임의=1/2/3/4     2710 non-null   object \n",
      " 45  단지승인일                   2704 non-null   object \n",
      " 46  사용허가여부                  2710 non-null   object \n",
      " 47  관리비 업로드                 2710 non-null   object \n",
      " 48  좌표X                     2710 non-null   float64\n",
      " 49  좌표Y                     2710 non-null   float64\n",
      " 50  단지신청일                   2710 non-null   object \n",
      "dtypes: float64(18), int64(4), object(29)\n",
      "memory usage: 3.6+ MB\n"
     ]
    }
   ],
   "source": [
    "test_data.info()"
   ]
  },
  {
   "cell_type": "code",
   "execution_count": 7,
   "metadata": {},
   "outputs": [
    {
     "data": {
      "text/plain": [
       "시군구                          0\n",
       "번지                           2\n",
       "본번                           0\n",
       "부번                           0\n",
       "아파트명                        10\n",
       "전용면적(㎡)                      0\n",
       "계약년월                         0\n",
       "계약일                          0\n",
       "층                            0\n",
       "건축년도                         0\n",
       "도로명                          0\n",
       "해제사유발생일                   9060\n",
       "등기신청일자                       0\n",
       "거래유형                         0\n",
       "중개사소재지                       0\n",
       "k-단지분류(아파트,주상복합등등)        6582\n",
       "k-전화번호                    6576\n",
       "k-팩스번호                    6606\n",
       "단지소개기존clob                8718\n",
       "k-세대타입(분양형태)              6562\n",
       "k-관리방식                    6562\n",
       "k-복도유형                    6564\n",
       "k-난방방식                    6562\n",
       "k-전체동수                    6577\n",
       "k-전체세대수                   6562\n",
       "k-건설사(시공사)                6579\n",
       "k-시행사                     6580\n",
       "k-사용검사일-사용승인일             6563\n",
       "k-연면적                     6562\n",
       "k-주거전용면적                  6562\n",
       "k-관리비부과면적                 6562\n",
       "k-전용면적별세대현황(60㎡이하)        6562\n",
       "k-전용면적별세대현황(60㎡~85㎡이하)    6562\n",
       "k-85㎡~135㎡이하              6562\n",
       "k-135㎡초과                  9270\n",
       "k-홈페이지                    7876\n",
       "k-등록일자                    8554\n",
       "k-수정일자                    6562\n",
       "고용보험관리번호                  7453\n",
       "경비비관리형태                   6573\n",
       "세대전기계약방법                  6642\n",
       "청소비관리형태                   6573\n",
       "건축면적                      6565\n",
       "주차대수                      6563\n",
       "기타/의무/임대/임의=1/2/3/4       6562\n",
       "단지승인일                     6568\n",
       "사용허가여부                    6562\n",
       "관리비 업로드                   6562\n",
       "좌표X                       6562\n",
       "좌표Y                       6562\n",
       "단지신청일                     6562\n",
       "dtype: int64"
      ]
     },
     "execution_count": 7,
     "metadata": {},
     "output_type": "execute_result"
    }
   ],
   "source": [
    "test_data.isnull().sum()"
   ]
  },
  {
   "cell_type": "code",
   "execution_count": 8,
   "metadata": {},
   "outputs": [
    {
     "data": {
      "text/plain": [
       "0    1118822\n",
       "1       9272\n",
       "Name: is_test, dtype: int64"
      ]
     },
     "execution_count": 8,
     "metadata": {},
     "output_type": "execute_result"
    }
   ],
   "source": [
    "train_data['is_test'] = 0\n",
    "test_data['is_test'] = 1\n",
    "\n",
    "data = pd.concat([train_data, test_data])\n",
    "data['is_test'].value_counts() "
   ]
  },
  {
   "cell_type": "code",
   "execution_count": 9,
   "metadata": {},
   "outputs": [
    {
     "name": "stdout",
     "output_type": "stream",
     "text": [
      "227\n"
     ]
    }
   ],
   "source": [
    "missing_data = data[data[['번지', '본번', '부번']].isnull().any(axis=1)]\n",
    "print(len(missing_data))"
   ]
  },
  {
   "cell_type": "code",
   "execution_count": 10,
   "metadata": {},
   "outputs": [
    {
     "name": "stdout",
     "output_type": "stream",
     "text": [
      "227\n",
      "{'서울특별시 서초구 헌릉로8길 45', '서울특별시 서초구 헌릉로8길 10-12'}\n"
     ]
    }
   ],
   "source": [
    "values = []\n",
    "for i, (index, row) in enumerate(missing_data.iterrows()):\n",
    "    city = row['시군구']\n",
    "    road_name = row['도로명']\n",
    "\n",
    "    value = ' '.join(city.split(' ')[:-1]) + \" \" + road_name\n",
    "    values.append(value)\n",
    "\n",
    "print(len(values))\n",
    "\n",
    "values_set = set(values)\n",
    "print(values_set)"
   ]
  },
  {
   "cell_type": "code",
   "execution_count": 11,
   "metadata": {},
   "outputs": [
    {
     "name": "stdout",
     "output_type": "stream",
     "text": [
      "검색어: 서울특별시 서초구 헌릉로8길 45\n",
      "Main number: 384.0, Sub number: 0.0\n",
      "검색어: 서울특별시 서초구 헌릉로8길 10-12\n",
      "Main number: 557.0, Sub number: 0.0\n"
     ]
    }
   ],
   "source": [
    "url = \"https://www.naver.com/\"\n",
    "browser = webdriver.Chrome()\n",
    "browser.get(url)\n",
    "\n",
    "results = {}\n",
    "for idx, value in enumerate(values_set):\n",
    "    print(f\"검색어: {value}\")\n",
    "\n",
    "    if idx == 0:\n",
    "        search_element = browser.find_element(By.ID, \"query\")\n",
    "    else:\n",
    "        search_element = browser.find_element(By.ID, \"nx_query\")\n",
    "        search_element.clear()\n",
    "    \n",
    "    search_element.send_keys(value)\n",
    "    search_element.send_keys(Keys.RETURN)\n",
    "\n",
    "    try:\n",
    "        target = browser.find_element(By.CLASS_NAME, 'L9_SH').text\n",
    "        splited = target.split(' ')\n",
    "        main_number = splited[-1]\n",
    "\n",
    "        if \"-\" in main_number:\n",
    "            splited = main_number.split('-')\n",
    "            main_number = float(splited[0])\n",
    "            sub_number = float(splited[1])\n",
    "        else:\n",
    "            main_number = float(main_number)\n",
    "            sub_number = 0.0\n",
    "\n",
    "        print(f\"Main number: {main_number}, Sub number: {sub_number}\")\n",
    "        results[value] = (main_number, sub_number)\n",
    "\n",
    "        time.sleep(3)\n",
    "    except Exception as e:\n",
    "        print(f\"크롤링 오류 발생: {e}\")\n",
    "        continue"
   ]
  },
  {
   "cell_type": "code",
   "execution_count": 12,
   "metadata": {},
   "outputs": [],
   "source": [
    "for i, (index, row) in enumerate(missing_data.iterrows()):\n",
    "    city = row['시군구']\n",
    "    road_name = row['도로명']\n",
    "    value = ' '.join(city.split(' ')[:-1]) + \" \" + road_name\n",
    "\n",
    "    if value in results:\n",
    "        main_number, sub_number = results[value]\n",
    "        data.loc[index, '번지'] = f\"{int(main_number)}-{int(sub_number)}\" if sub_number != 0 else f\"{int(main_number)}\"\n",
    "        data.loc[index, '본번'] = int(main_number)\n",
    "        data.loc[index, '부번'] = int(sub_number)"
   ]
  },
  {
   "cell_type": "code",
   "execution_count": 21,
   "metadata": {},
   "outputs": [
    {
     "name": "stdout",
     "output_type": "stream",
     "text": [
      "(1118822, 52) (9272, 51)\n"
     ]
    }
   ],
   "source": [
    "train_df = data[data['is_test'] == 0]\n",
    "test_df = data[data['is_test'] == 1]\n",
    "\n",
    "train_df = train_df.drop(columns=['is_test'])\n",
    "test_df = test_df.drop(columns=['is_test', 'target'])\n",
    "\n",
    "print(train_df.shape, test_df.shape)\n",
    "\n",
    "os.makedirs(f'{data_dir}/new', exist_ok=True)\n",
    "train_df.to_csv(f'{data_dir}/new/new_train_ver1.csv', index=False) \n",
    "test_df.to_csv(f'{data_dir}/new/new_test_ver1.csv', index=False)\n",
    "\n",
    "browser.quit()"
   ]
  },
  {
   "cell_type": "code",
   "execution_count": 22,
   "metadata": {},
   "outputs": [
    {
     "name": "stdout",
     "output_type": "stream",
     "text": [
      "(1118822, 52) (9272, 51)\n"
     ]
    }
   ],
   "source": [
    "print(train_df.shape, test_df.shape)"
   ]
  },
  {
   "cell_type": "code",
   "execution_count": 23,
   "metadata": {},
   "outputs": [
    {
     "name": "stdout",
     "output_type": "stream",
     "text": [
      "<class 'pandas.core.frame.DataFrame'>\n",
      "Int64Index: 1118822 entries, 0 to 1118821\n",
      "Data columns (total 52 columns):\n",
      " #   Column                  Non-Null Count    Dtype  \n",
      "---  ------                  --------------    -----  \n",
      " 0   시군구                     1118822 non-null  object \n",
      " 1   번지                      1118822 non-null  object \n",
      " 2   본번                      1118822 non-null  float64\n",
      " 3   부번                      1118822 non-null  float64\n",
      " 4   아파트명                    1116696 non-null  object \n",
      " 5   전용면적(㎡)                 1118822 non-null  float64\n",
      " 6   계약년월                    1118822 non-null  int64  \n",
      " 7   계약일                     1118822 non-null  int64  \n",
      " 8   층                       1118822 non-null  int64  \n",
      " 9   건축년도                    1118822 non-null  int64  \n",
      " 10  도로명                     1118822 non-null  object \n",
      " 11  해제사유발생일                 5983 non-null     float64\n",
      " 12  등기신청일자                  1118822 non-null  object \n",
      " 13  거래유형                    1118822 non-null  object \n",
      " 14  중개사소재지                  1118822 non-null  object \n",
      " 15  k-단지분류(아파트,주상복합등등)      248131 non-null   object \n",
      " 16  k-전화번호                  248548 non-null   object \n",
      " 17  k-팩스번호                  246080 non-null   object \n",
      " 18  단지소개기존clob              68582 non-null    float64\n",
      " 19  k-세대타입(분양형태)            249259 non-null   object \n",
      " 20  k-관리방식                  249259 non-null   object \n",
      " 21  k-복도유형                  248932 non-null   object \n",
      " 22  k-난방방식                  249259 non-null   object \n",
      " 23  k-전체동수                  248192 non-null   float64\n",
      " 24  k-전체세대수                 249259 non-null   float64\n",
      " 25  k-건설사(시공사)              247764 non-null   object \n",
      " 26  k-시행사                   247568 non-null   object \n",
      " 27  k-사용검사일-사용승인일           249126 non-null   object \n",
      " 28  k-연면적                   249259 non-null   float64\n",
      " 29  k-주거전용면적                249214 non-null   float64\n",
      " 30  k-관리비부과면적               249259 non-null   float64\n",
      " 31  k-전용면적별세대현황(60㎡이하)      249214 non-null   float64\n",
      " 32  k-전용면적별세대현황(60㎡~85㎡이하)  249214 non-null   float64\n",
      " 33  k-85㎡~135㎡이하            249214 non-null   float64\n",
      " 34  k-135㎡초과                327 non-null      float64\n",
      " 35  k-홈페이지                  113175 non-null   object \n",
      " 36  k-등록일자                  10990 non-null    object \n",
      " 37  k-수정일자                  249214 non-null   object \n",
      " 38  고용보험관리번호                205518 non-null   object \n",
      " 39  경비비관리형태                 247834 non-null   object \n",
      " 40  세대전기계약방법                240075 non-null   object \n",
      " 41  청소비관리형태                 247644 non-null   object \n",
      " 42  건축면적                    249108 non-null   float64\n",
      " 43  주차대수                    249108 non-null   float64\n",
      " 44  기타/의무/임대/임의=1/2/3/4     249259 non-null   object \n",
      " 45  단지승인일                   248536 non-null   object \n",
      " 46  사용허가여부                  249259 non-null   object \n",
      " 47  관리비 업로드                 249259 non-null   object \n",
      " 48  좌표X                     249152 non-null   float64\n",
      " 49  좌표Y                     249152 non-null   float64\n",
      " 50  단지신청일                   249197 non-null   object \n",
      " 51  target                  1118822 non-null  float64\n",
      "dtypes: float64(19), int64(4), object(29)\n",
      "memory usage: 452.4+ MB\n"
     ]
    }
   ],
   "source": [
    "train_df.info()"
   ]
  },
  {
   "cell_type": "code",
   "execution_count": 24,
   "metadata": {},
   "outputs": [
    {
     "name": "stdout",
     "output_type": "stream",
     "text": [
      "<class 'pandas.core.frame.DataFrame'>\n",
      "Int64Index: 9272 entries, 0 to 9271\n",
      "Data columns (total 51 columns):\n",
      " #   Column                  Non-Null Count  Dtype  \n",
      "---  ------                  --------------  -----  \n",
      " 0   시군구                     9272 non-null   object \n",
      " 1   번지                      9272 non-null   object \n",
      " 2   본번                      9272 non-null   float64\n",
      " 3   부번                      9272 non-null   float64\n",
      " 4   아파트명                    9262 non-null   object \n",
      " 5   전용면적(㎡)                 9272 non-null   float64\n",
      " 6   계약년월                    9272 non-null   int64  \n",
      " 7   계약일                     9272 non-null   int64  \n",
      " 8   층                       9272 non-null   int64  \n",
      " 9   건축년도                    9272 non-null   int64  \n",
      " 10  도로명                     9272 non-null   object \n",
      " 11  해제사유발생일                 212 non-null    float64\n",
      " 12  등기신청일자                  9272 non-null   object \n",
      " 13  거래유형                    9272 non-null   object \n",
      " 14  중개사소재지                  9272 non-null   object \n",
      " 15  k-단지분류(아파트,주상복합등등)      2690 non-null   object \n",
      " 16  k-전화번호                  2696 non-null   object \n",
      " 17  k-팩스번호                  2666 non-null   object \n",
      " 18  단지소개기존clob              554 non-null    float64\n",
      " 19  k-세대타입(분양형태)            2710 non-null   object \n",
      " 20  k-관리방식                  2710 non-null   object \n",
      " 21  k-복도유형                  2708 non-null   object \n",
      " 22  k-난방방식                  2710 non-null   object \n",
      " 23  k-전체동수                  2695 non-null   float64\n",
      " 24  k-전체세대수                 2710 non-null   float64\n",
      " 25  k-건설사(시공사)              2693 non-null   object \n",
      " 26  k-시행사                   2692 non-null   object \n",
      " 27  k-사용검사일-사용승인일           2709 non-null   object \n",
      " 28  k-연면적                   2710 non-null   float64\n",
      " 29  k-주거전용면적                2710 non-null   float64\n",
      " 30  k-관리비부과면적               2710 non-null   float64\n",
      " 31  k-전용면적별세대현황(60㎡이하)      2710 non-null   float64\n",
      " 32  k-전용면적별세대현황(60㎡~85㎡이하)  2710 non-null   float64\n",
      " 33  k-85㎡~135㎡이하            2710 non-null   float64\n",
      " 34  k-135㎡초과                2 non-null      float64\n",
      " 35  k-홈페이지                  1396 non-null   object \n",
      " 36  k-등록일자                  718 non-null    object \n",
      " 37  k-수정일자                  2710 non-null   object \n",
      " 38  고용보험관리번호                1819 non-null   object \n",
      " 39  경비비관리형태                 2699 non-null   object \n",
      " 40  세대전기계약방법                2630 non-null   object \n",
      " 41  청소비관리형태                 2699 non-null   object \n",
      " 42  건축면적                    2707 non-null   float64\n",
      " 43  주차대수                    2709 non-null   float64\n",
      " 44  기타/의무/임대/임의=1/2/3/4     2710 non-null   object \n",
      " 45  단지승인일                   2704 non-null   object \n",
      " 46  사용허가여부                  2710 non-null   object \n",
      " 47  관리비 업로드                 2710 non-null   object \n",
      " 48  좌표X                     2710 non-null   float64\n",
      " 49  좌표Y                     2710 non-null   float64\n",
      " 50  단지신청일                   2710 non-null   object \n",
      "dtypes: float64(18), int64(4), object(29)\n",
      "memory usage: 3.7+ MB\n"
     ]
    }
   ],
   "source": [
    "test_df.info()"
   ]
  },
  {
   "cell_type": "code",
   "execution_count": null,
   "metadata": {},
   "outputs": [],
   "source": []
  }
 ],
 "metadata": {
  "kernelspec": {
   "display_name": "DL",
   "language": "python",
   "name": "python3"
  },
  "language_info": {
   "codemirror_mode": {
    "name": "ipython",
    "version": 3
   },
   "file_extension": ".py",
   "mimetype": "text/x-python",
   "name": "python",
   "nbconvert_exporter": "python",
   "pygments_lexer": "ipython3",
   "version": "3.9.13"
  }
 },
 "nbformat": 4,
 "nbformat_minor": 2
}
