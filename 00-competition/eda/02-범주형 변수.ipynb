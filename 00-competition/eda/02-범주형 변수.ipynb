{
 "cells": [
  {
   "cell_type": "code",
   "execution_count": 1,
   "metadata": {},
   "outputs": [],
   "source": [
    "import warnings\n",
    "warnings.filterwarnings('ignore')\n",
    "\n",
    "import os\n",
    "import pandas as pd"
   ]
  },
  {
   "cell_type": "markdown",
   "metadata": {},
   "source": [
    "# 1.데이터 로드"
   ]
  },
  {
   "cell_type": "code",
   "execution_count": 2,
   "metadata": {},
   "outputs": [
    {
     "name": "stdout",
     "output_type": "stream",
     "text": [
      "['new', 'subway_feature.csv', 'train.csv', 'test.csv', 'bus_feature.csv', 'sample_submission.csv']\n"
     ]
    }
   ],
   "source": [
    "data_path = '../data'\n",
    "# data_path = '/Users/pervin0527/upstage-ml-regression-ml11/data'\n",
    "train_path = f'{data_path}/new/new_train_ver2.csv'\n",
    "test_path  = f'{data_path}/new/new_test_ver2.csv'\n",
    "\n",
    "print(os.listdir(data_path))"
   ]
  },
  {
   "cell_type": "code",
   "execution_count": 3,
   "metadata": {},
   "outputs": [
    {
     "name": "stdout",
     "output_type": "stream",
     "text": [
      "Train data shape :  (1118822, 52) Test data shape :  (9272, 51)\n"
     ]
    }
   ],
   "source": [
    "train_data = pd.read_csv(train_path)\n",
    "test_data = pd.read_csv(test_path)\n",
    "print('Train data shape : ', train_data.shape, 'Test data shape : ', test_data.shape)"
   ]
  },
  {
   "cell_type": "markdown",
   "metadata": {},
   "source": [
    "## 1-1.병합"
   ]
  },
  {
   "cell_type": "code",
   "execution_count": 4,
   "metadata": {},
   "outputs": [
    {
     "name": "stdout",
     "output_type": "stream",
     "text": [
      "(1128094, 53)\n"
     ]
    }
   ],
   "source": [
    "# train/test 구분을 위한 칼럼 생성.\n",
    "train_data['is_test'] = 0\n",
    "test_data['is_test'] = 1\n",
    "data = pd.concat([train_data, test_data]) # 하나의 데이터로 합친다.\n",
    "\n",
    "print(data.shape)"
   ]
  },
  {
   "cell_type": "markdown",
   "metadata": {},
   "source": [
    "# 2.컬럼 제거"
   ]
  },
  {
   "cell_type": "code",
   "execution_count": 5,
   "metadata": {},
   "outputs": [
    {
     "name": "stdout",
     "output_type": "stream",
     "text": [
      "(1128094, 35)\n"
     ]
    }
   ],
   "source": [
    "## 제거할컬럼\n",
    "drop_columns = [\n",
    "    'k-사용검사일-사용승인일', \n",
    "    'k-등록일자',\n",
    "    'k-수정일자', \n",
    "    '단지승인일', \n",
    "    '단지신청일',\n",
    "    '중개사소재지', \n",
    "    'k-전화번호', \n",
    "    'k-팩스번호', \n",
    "    '단지소개기존clob', \n",
    "    'k-홈페이지', \n",
    "    '고용보험관리번호', \n",
    "    '기타/의무/임대/임의=1/2/3/4', \n",
    "    '사용허가여부', \n",
    "    '관리비 업로드',\n",
    "    'k-전용면적별세대현황(60㎡이하)', \n",
    "    'k-전용면적별세대현황(60㎡~85㎡이하)',  \n",
    "    'k-85㎡~135㎡이하', \n",
    "    'k-135㎡초과'\n",
    "]\n",
    "data = data.drop(drop_columns, axis=1)\n",
    "print(data.shape)"
   ]
  },
  {
   "cell_type": "code",
   "execution_count": 6,
   "metadata": {},
   "outputs": [
    {
     "data": {
      "text/plain": [
       "시군구                         0\n",
       "번지                          0\n",
       "본번                          0\n",
       "부번                          0\n",
       "아파트명                     2136\n",
       "전용면적(㎡)                     0\n",
       "계약년월                        0\n",
       "계약일                         0\n",
       "층                           0\n",
       "건축년도                        0\n",
       "도로명                         0\n",
       "해제사유발생일               1121899\n",
       "등기신청일자                      0\n",
       "거래유형                        0\n",
       "k-단지분류(아파트,주상복합등등)     877273\n",
       "k-세대타입(분양형태)           876125\n",
       "k-관리방식                 876125\n",
       "k-복도유형                 876454\n",
       "k-난방방식                 876125\n",
       "k-전체동수                 877207\n",
       "k-전체세대수                876125\n",
       "k-건설사(시공사)             877637\n",
       "k-시행사                  877834\n",
       "k-연면적                  876125\n",
       "k-주거전용면적               876170\n",
       "k-관리비부과면적              876125\n",
       "경비비관리형태                877561\n",
       "세대전기계약방법               885389\n",
       "청소비관리형태                877751\n",
       "건축면적                   876279\n",
       "주차대수                   876277\n",
       "좌표X                         0\n",
       "좌표Y                         0\n",
       "target                   9272\n",
       "is_test                     0\n",
       "dtype: int64"
      ]
     },
     "execution_count": 6,
     "metadata": {},
     "output_type": "execute_result"
    }
   ],
   "source": [
    "## 결측치를 확인.\n",
    "data.isnull().sum()"
   ]
  },
  {
   "cell_type": "markdown",
   "metadata": {},
   "source": [
    "# 3.파생변수"
   ]
  },
  {
   "cell_type": "markdown",
   "metadata": {},
   "source": [
    "## 3-0.전용면적 rename"
   ]
  },
  {
   "cell_type": "code",
   "execution_count": 7,
   "metadata": {},
   "outputs": [],
   "source": [
    "data = data.rename(columns={'전용면적(㎡)':'전용면적'})"
   ]
  },
  {
   "cell_type": "code",
   "execution_count": 8,
   "metadata": {},
   "outputs": [
    {
     "data": {
      "text/plain": [
       "Index(['시군구', '번지', '본번', '부번', '아파트명', '전용면적', '계약년월', '계약일', '층', '건축년도',\n",
       "       '도로명', '해제사유발생일', '등기신청일자', '거래유형', 'k-단지분류(아파트,주상복합등등)',\n",
       "       'k-세대타입(분양형태)', 'k-관리방식', 'k-복도유형', 'k-난방방식', 'k-전체동수', 'k-전체세대수',\n",
       "       'k-건설사(시공사)', 'k-시행사', 'k-연면적', 'k-주거전용면적', 'k-관리비부과면적', '경비비관리형태',\n",
       "       '세대전기계약방법', '청소비관리형태', '건축면적', '주차대수', '좌표X', '좌표Y', 'target',\n",
       "       'is_test'],\n",
       "      dtype='object')"
      ]
     },
     "execution_count": 8,
     "metadata": {},
     "output_type": "execute_result"
    }
   ],
   "source": [
    "data.columns"
   ]
  },
  {
   "cell_type": "markdown",
   "metadata": {},
   "source": [
    "## 3-1.\"시군구\" $\\rightarrow$ \"시\", \"군\", \"구\"로 분할"
   ]
  },
  {
   "cell_type": "code",
   "execution_count": 9,
   "metadata": {},
   "outputs": [
    {
     "data": {
      "text/plain": [
       "Index(['시군구', '번지', '본번', '부번', '아파트명', '전용면적', '계약년월', '계약일', '층', '건축년도',\n",
       "       '도로명', '해제사유발생일', '등기신청일자', '거래유형', 'k-단지분류(아파트,주상복합등등)',\n",
       "       'k-세대타입(분양형태)', 'k-관리방식', 'k-복도유형', 'k-난방방식', 'k-전체동수', 'k-전체세대수',\n",
       "       'k-건설사(시공사)', 'k-시행사', 'k-연면적', 'k-주거전용면적', 'k-관리비부과면적', '경비비관리형태',\n",
       "       '세대전기계약방법', '청소비관리형태', '건축면적', '주차대수', '좌표X', '좌표Y', 'target',\n",
       "       'is_test', '구', '동'],\n",
       "      dtype='object')"
      ]
     },
     "execution_count": 9,
     "metadata": {},
     "output_type": "execute_result"
    }
   ],
   "source": [
    "# '시군구' 컬럼을 공백을 기준으로 분할\n",
    "data[['시', '구', '동']] = data['시군구'].str.split(' ', expand=True)\n",
    "data = data.drop(['시'], axis=1)\n",
    "\n",
    "data.columns"
   ]
  },
  {
   "cell_type": "code",
   "execution_count": 10,
   "metadata": {},
   "outputs": [
    {
     "name": "stdout",
     "output_type": "stream",
     "text": [
      "25\n",
      "['강남구' '강동구' '강북구' '강서구' '관악구' '광진구' '구로구' '금천구' '노원구' '도봉구' '동대문구' '동작구'\n",
      " '마포구' '서대문구' '서초구' '성동구' '성북구' '송파구' '양천구' '영등포구' '용산구' '은평구' '종로구' '중구'\n",
      " '중랑구']\n"
     ]
    }
   ],
   "source": [
    "print(len(data['구'].unique()))\n",
    "print(data['구'].unique())"
   ]
  },
  {
   "cell_type": "code",
   "execution_count": 11,
   "metadata": {},
   "outputs": [
    {
     "name": "stdout",
     "output_type": "stream",
     "text": [
      "337\n",
      "['개포동' '논현동' '대치동' '도곡동' '삼성동' '세곡동' '수서동' '신사동' '역삼동' '압구정동' '일원동' '자곡동'\n",
      " '청담동' '강일동' '율현동' '고덕동' '길동' '둔촌동' '명일동' '상일동' '성내동' '암사동' '천호동' '미아동'\n",
      " '번동' '가양동' '수유동' '우이동' '내발산동' '등촌동' '공항동' '마곡동' '방화동' '염창동' '화곡동' '남현동'\n",
      " '봉천동' '신림동' '광장동' '구의동' '자양동' '군자동' '화양동' '개봉동' '고척동' '중곡동' '가리봉동' '구로동'\n",
      " '오류동' '천왕동' '독산동' '온수동' '궁동' '신도림동' '항동' '가산동' '시흥동' '공릉동' '상계동' '월계동'\n",
      " '중계동' '하계동' '도봉동' '방학동' '쌍문동' '창동' '답십리동' '용두동' '이문동' '신설동' '장안동' '전농동'\n",
      " '회기동' '제기동' '청량리동' '휘경동' '노량진동' '대방동' '동작동' '본동' '사당동' '상도동' '상도1동'\n",
      " '신대방동' '흑석동' '공덕동' '노고산동' '대흥동' '도화동' '마포동' '상수동' '상암동' '서교동' '성산동'\n",
      " '신공덕동' '신수동' '신정동' '아현동' '동교동' '망원동' '염리동' '용강동' '중동' '창전동' '하중동' '합정동'\n",
      " '남가좌동' '냉천동' '북가좌동' '연남동' '토정동' '현석동' '대현동' '연희동' '영천동' '충정로3가' '현저동'\n",
      " '홍은동' '홍제동' '북아현동' '창천동' '천연동' '충정로2가' '합동' '내곡동' '반포동' '방배동' '서초동' '신원동'\n",
      " '우면동' '잠원동' '양재동' '금호동1가' '금호동2가' '금호동3가' '성수동1가' '성수동2가' '금호동4가' '송정동'\n",
      " '도선동' '마장동' '사근동' '상왕십리동' '옥수동' '하왕십리동' '행당동' '응봉동' '용답동' '홍익동' '길음동'\n",
      " '돈암동' '동소문동5가' '동소문동7가' '보문동3가' '동선동1가' '동선동3가' '동선동4가' '동선동5가' '동소문동4가'\n",
      " '동소문동6가' '보문동6가' '삼선동2가' '상월곡동' '석관동' '장위동' '정릉동' '보문동4가' '삼선동3가' '삼선동4가'\n",
      " '삼선동5가' '성북동' '성북동1가' '안암동1가' '안암동3가' '안암동4가' '종암동' '하월곡동' '가락동' '거여동'\n",
      " '마천동' '문정동' '석촌동' '송파동' '방이동' '삼전동' '신천동' '오금동' '잠실동' '장지동' '풍납동' '목동'\n",
      " '신월동' '당산동' '당산동3가' '당산동4가' '대림동' '도림동' '문래동3가' '당산동5가' '당산동1가' '당산동2가'\n",
      " '당산동6가' '문래동2가' '문래동5가' '문래동6가' '신길동' '양평동2가' '양평동5가' '여의도동' '문래동4가'\n",
      " '양평동1가' '양평동3가' '양평동4가' '양평동6가' '영등포동' '영등포동8가' '문배동' '산천동' '신계동' '원효로1가'\n",
      " '이촌동' '한강로1가' '영등포동1가' '영등포동2가' '영등포동3가' '영등포동4가' '영등포동5가' '영등포동7가' '갈월동'\n",
      " '도원동' '동빙고동' '동자동' '보광동' '서빙고동' '신창동' '용문동' '용산동2가' '용산동5가' '원효로2가'\n",
      " '원효로3가' '원효로4가' '이태원동' '주성동' '청암동' '청파동1가' '청파동3가' '한강로2가' '한남동' '효창동'\n",
      " '후암동' '구산동' '녹번동' '불광동' '수색동' '한강로3가' '갈현동' '대조동' '역촌동' '응암동' '증산동' '진관동'\n",
      " '내수동' '무악동' '숭인동' '익선동' '효제동' '만리동1가' '만리동2가' '신당동' '충무로4가' '견지동' '교남동'\n",
      " '교북동' '누상동' '당주동' '동숭동' '명륜1가' '명륜2가' '명륜3가' '사직동' '신문로1가' '신영동' '연건동'\n",
      " '옥인동' '인의동' '창신동' '청운동' '충신동' '평창동' '필운동' '행촌동' '혜화동' '홍파동' '남대문로5가'\n",
      " '남창동' '묵정동' '산림동' '순화동' '예장동' '을지로5가' '인현동2가' '장충동1가' '장충동2가' '중림동'\n",
      " '충무로5가' '필동1가' '황학동' '회현동1가' '회현동2가' '흥인동' '망우동' '면목동' '묵동' '상봉동' '신내동'\n",
      " '중화동' '능동' '미근동' '보문동2가' '구기동' '부암동' '수송동' '통인동' '남산동2가' '신교동' '정동'\n",
      " '필동3가' '안암동5가' '신문로2가' '연지동' '평동' '오장동' '입정동' '이화동' '구수동' '원남동' '낙원동']\n"
     ]
    }
   ],
   "source": [
    "print(len(data['동'].unique()))\n",
    "print(data['동'].unique())"
   ]
  },
  {
   "cell_type": "markdown",
   "metadata": {},
   "source": [
    "## 3-2.계약일 drop"
   ]
  },
  {
   "cell_type": "code",
   "execution_count": 12,
   "metadata": {},
   "outputs": [],
   "source": [
    "# data['계약날짜'] = pd.to_datetime(data['계약년월'].astype(str) + data['계약일'].astype(str), format='%Y%m%d')\n",
    "# data = data.drop(columns=['계약년월', '계약일'])\n",
    "# data.head(3)\n",
    "\n",
    "data = data.drop(columns=['계약일'])"
   ]
  },
  {
   "cell_type": "markdown",
   "metadata": {},
   "source": [
    "## 3-3.해제사유발생여부, 등기신청여부 생성"
   ]
  },
  {
   "cell_type": "code",
   "execution_count": 13,
   "metadata": {},
   "outputs": [],
   "source": [
    "# data['해제사유발생여부'] = pd.notnull(data['해제사유발생일']).astype(int)\n",
    "# print(data[['해제사유발생여부']])"
   ]
  },
  {
   "cell_type": "code",
   "execution_count": 14,
   "metadata": {},
   "outputs": [],
   "source": [
    "# data['등기신청일자여부'] = pd.notnull(data['등기신청일자']).astype(int)\n",
    "# print(data[['등기신청일자여부']])"
   ]
  },
  {
   "cell_type": "code",
   "execution_count": 15,
   "metadata": {},
   "outputs": [],
   "source": [
    "# data = data.drop(columns=['해제사유발생일', '등기신청일자'])"
   ]
  },
  {
   "cell_type": "markdown",
   "metadata": {},
   "source": [
    "## 3-4.세대별 주차대수"
   ]
  },
  {
   "cell_type": "code",
   "execution_count": 16,
   "metadata": {},
   "outputs": [],
   "source": [
    "data['세대별_주차대수'] = data['주차대수'] / data['k-전체세대수']\n",
    "data = data.drop(columns=['주차대수'])"
   ]
  },
  {
   "cell_type": "markdown",
   "metadata": {},
   "source": [
    "# 4.범주형 변수 결측치 처리"
   ]
  },
  {
   "cell_type": "code",
   "execution_count": 17,
   "metadata": {},
   "outputs": [
    {
     "name": "stdout",
     "output_type": "stream",
     "text": [
      "<class 'pandas.core.frame.DataFrame'>\n",
      "Index: 1128094 entries, 0 to 9271\n",
      "Data columns (total 36 columns):\n",
      " #   Column              Non-Null Count    Dtype  \n",
      "---  ------              --------------    -----  \n",
      " 0   시군구                 1128094 non-null  object \n",
      " 1   번지                  1128094 non-null  object \n",
      " 2   본번                  1128094 non-null  float64\n",
      " 3   부번                  1128094 non-null  float64\n",
      " 4   아파트명                1125958 non-null  object \n",
      " 5   전용면적                1128094 non-null  float64\n",
      " 6   계약년월                1128094 non-null  int64  \n",
      " 7   층                   1128094 non-null  int64  \n",
      " 8   건축년도                1128094 non-null  int64  \n",
      " 9   도로명                 1128094 non-null  object \n",
      " 10  해제사유발생일             6195 non-null     float64\n",
      " 11  등기신청일자              1128094 non-null  object \n",
      " 12  거래유형                1128094 non-null  object \n",
      " 13  k-단지분류(아파트,주상복합등등)  250821 non-null   object \n",
      " 14  k-세대타입(분양형태)        251969 non-null   object \n",
      " 15  k-관리방식              251969 non-null   object \n",
      " 16  k-복도유형              251640 non-null   object \n",
      " 17  k-난방방식              251969 non-null   object \n",
      " 18  k-전체동수              250887 non-null   float64\n",
      " 19  k-전체세대수             251969 non-null   float64\n",
      " 20  k-건설사(시공사)          250457 non-null   object \n",
      " 21  k-시행사               250260 non-null   object \n",
      " 22  k-연면적               251969 non-null   float64\n",
      " 23  k-주거전용면적            251924 non-null   float64\n",
      " 24  k-관리비부과면적           251969 non-null   float64\n",
      " 25  경비비관리형태             250533 non-null   object \n",
      " 26  세대전기계약방법            242705 non-null   object \n",
      " 27  청소비관리형태             250343 non-null   object \n",
      " 28  건축면적                251815 non-null   float64\n",
      " 29  좌표X                 1128094 non-null  float64\n",
      " 30  좌표Y                 1128094 non-null  float64\n",
      " 31  target              1118822 non-null  float64\n",
      " 32  is_test             1128094 non-null  int64  \n",
      " 33  구                   1128094 non-null  object \n",
      " 34  동                   1128094 non-null  object \n",
      " 35  세대별_주차대수            251817 non-null   float64\n",
      "dtypes: float64(14), int64(4), object(18)\n",
      "memory usage: 318.4+ MB\n"
     ]
    }
   ],
   "source": [
    "data.info()"
   ]
  },
  {
   "cell_type": "markdown",
   "metadata": {},
   "source": [
    "## 4-1.k-세대타입(분양형태)\n",
    "\n",
    "- 개인이 분양인이지, 임대인지 계약 정보를 대체할 수 없기 때문에 ```nan```은 ```unknown```으로 처리한다. \n",
    "- 컬럼 이름을 ```분양형태```로 대체한다.\n",
    "- 결측치를 채운다면 **모델 예측**을 예상하고 있다."
   ]
  },
  {
   "cell_type": "code",
   "execution_count": 18,
   "metadata": {},
   "outputs": [
    {
     "data": {
      "text/plain": [
       "array(['분양', '기타', nan, '임대'], dtype=object)"
      ]
     },
     "metadata": {},
     "output_type": "display_data"
    }
   ],
   "source": [
    "display(data['k-세대타입(분양형태)'].unique())"
   ]
  },
  {
   "cell_type": "code",
   "execution_count": 19,
   "metadata": {},
   "outputs": [
    {
     "data": {
      "text/plain": [
       "분양형태\n",
       "unknown    917763\n",
       "분양         208098\n",
       "임대           2233\n",
       "Name: count, dtype: int64"
      ]
     },
     "metadata": {},
     "output_type": "display_data"
    }
   ],
   "source": [
    "data['k-세대타입(분양형태)'] = data['k-세대타입(분양형태)'].fillna('unknown')\n",
    "data['k-세대타입(분양형태)'] = data['k-세대타입(분양형태)'].replace('기타', 'unknown')\n",
    "data = data.rename(columns={'k-세대타입(분양형태)':'분양형태'})\n",
    "display(data['분양형태'].value_counts())"
   ]
  },
  {
   "cell_type": "markdown",
   "metadata": {},
   "source": [
    "## 4-2.k-단지분류(아파트,주상복합등등)\n",
    "\n",
    "- 건물이 [아파트, 주상복합, 연립주택, 도시형 생활주택(아파트), 도시형 생활주택(주상복합), nan] 어떤 유형인지 나타냄.\n",
    "- nan을 ```unknown```으로 대체\n",
    "- 컬럼 이름을 ```부동산유형```으로 변경한다."
   ]
  },
  {
   "cell_type": "code",
   "execution_count": 20,
   "metadata": {},
   "outputs": [
    {
     "data": {
      "text/plain": [
       "array(['아파트', '주상복합', nan, '연립주택', '도시형 생활주택(아파트)', '도시형 생활주택(주상복합)'],\n",
       "      dtype=object)"
      ]
     },
     "metadata": {},
     "output_type": "display_data"
    }
   ],
   "source": [
    "display(data['k-단지분류(아파트,주상복합등등)'].unique())"
   ]
  },
  {
   "cell_type": "code",
   "execution_count": 21,
   "metadata": {},
   "outputs": [
    {
     "name": "stdout",
     "output_type": "stream",
     "text": [
      "부동산유형\n",
      "unknown           877273\n",
      "아파트               238586\n",
      "주상복합               11450\n",
      "도시형 생활주택(주상복합)       505\n",
      "도시형 생활주택(아파트)        155\n",
      "연립주택                 125\n",
      "Name: count, dtype: int64\n"
     ]
    }
   ],
   "source": [
    "data['k-단지분류(아파트,주상복합등등)'] = data['k-단지분류(아파트,주상복합등등)'].fillna('unknown')\n",
    "data = data.rename(columns={'k-단지분류(아파트,주상복합등등)':'부동산유형'})\n",
    "\n",
    "print(data['부동산유형'].value_counts())"
   ]
  },
  {
   "cell_type": "markdown",
   "metadata": {},
   "source": [
    "## 4-3.k-관리방식, k-복도유형, k-난방방식"
   ]
  },
  {
   "cell_type": "code",
   "execution_count": 22,
   "metadata": {},
   "outputs": [
    {
     "data": {
      "text/plain": [
       "array(['자치관리', '위탁관리', '직영', nan], dtype=object)"
      ]
     },
     "metadata": {},
     "output_type": "display_data"
    }
   ],
   "source": [
    "display(data['k-관리방식'].unique())"
   ]
  },
  {
   "cell_type": "code",
   "execution_count": 23,
   "metadata": {},
   "outputs": [
    {
     "name": "stdout",
     "output_type": "stream",
     "text": [
      "k-관리방식\n",
      "unknown    876125\n",
      "위탁관리       230361\n",
      "자치관리        18144\n",
      "직영           3464\n",
      "Name: count, dtype: int64\n"
     ]
    }
   ],
   "source": [
    "data['k-관리방식'] = data['k-관리방식'].fillna('unknown')\n",
    "print(data['k-관리방식'].value_counts())"
   ]
  },
  {
   "cell_type": "code",
   "execution_count": 24,
   "metadata": {},
   "outputs": [
    {
     "data": {
      "text/plain": [
       "array(['계단식', '혼합식', '복도식', '타워형', '기타', nan], dtype=object)"
      ]
     },
     "metadata": {},
     "output_type": "display_data"
    }
   ],
   "source": [
    "display(data['k-복도유형'].unique())"
   ]
  },
  {
   "cell_type": "code",
   "execution_count": 25,
   "metadata": {},
   "outputs": [
    {
     "name": "stdout",
     "output_type": "stream",
     "text": [
      "k-복도유형\n",
      "unknown    877536\n",
      "계단식        124964\n",
      "혼합식         85513\n",
      "복도식         38710\n",
      "타워형          1371\n",
      "Name: count, dtype: int64\n"
     ]
    }
   ],
   "source": [
    "data['k-복도유형'] = data['k-복도유형'].fillna('unknown')\n",
    "data['k-복도유형'] = data['k-복도유형'].replace('기타', 'unknown')\n",
    "print(data['k-복도유형'].value_counts())"
   ]
  },
  {
   "cell_type": "code",
   "execution_count": 26,
   "metadata": {},
   "outputs": [
    {
     "data": {
      "text/plain": [
       "array(['개별난방', '지역난방', '기타', nan, '중앙난방'], dtype=object)"
      ]
     },
     "metadata": {},
     "output_type": "display_data"
    }
   ],
   "source": [
    "display(data['k-난방방식'].unique())"
   ]
  },
  {
   "cell_type": "code",
   "execution_count": 27,
   "metadata": {},
   "outputs": [
    {
     "name": "stdout",
     "output_type": "stream",
     "text": [
      "k-난방방식\n",
      "unknown    878216\n",
      "개별난방       152365\n",
      "지역난방        84826\n",
      "중앙난방        12687\n",
      "Name: count, dtype: int64\n"
     ]
    }
   ],
   "source": [
    "data['k-난방방식'] = data['k-난방방식'].fillna('unknown')\n",
    "data['k-난방방식'] = data['k-난방방식'].replace('기타', 'unknown')\n",
    "print(data['k-난방방식'].value_counts())"
   ]
  },
  {
   "cell_type": "markdown",
   "metadata": {},
   "source": [
    "## 4-4.경비비관리형태, 세대전기계약방법, 청소비관리형태"
   ]
  },
  {
   "cell_type": "code",
   "execution_count": 28,
   "metadata": {},
   "outputs": [
    {
     "name": "stdout",
     "output_type": "stream",
     "text": [
      "['직영' '위탁' '위탁+직영' nan '기타']\n"
     ]
    }
   ],
   "source": [
    "print(data[\"경비비관리형태\"].unique())"
   ]
  },
  {
   "cell_type": "code",
   "execution_count": 29,
   "metadata": {},
   "outputs": [
    {
     "name": "stdout",
     "output_type": "stream",
     "text": [
      "경비비관리형태\n",
      "unknown    879378\n",
      "위탁         208757\n",
      "직영          33791\n",
      "위탁+직영        6168\n",
      "Name: count, dtype: int64\n",
      "['직영' '위탁' '위탁+직영' 'unknown']\n"
     ]
    }
   ],
   "source": [
    "data[\"경비비관리형태\"] = data[\"경비비관리형태\"].fillna('unknown')\n",
    "data[\"경비비관리형태\"] = data[\"경비비관리형태\"].replace(\"기타\", \"unknown\")\n",
    "print(data[\"경비비관리형태\"].value_counts())\n",
    "print(data[\"경비비관리형태\"].unique())"
   ]
  },
  {
   "cell_type": "code",
   "execution_count": 30,
   "metadata": {},
   "outputs": [
    {
     "name": "stdout",
     "output_type": "stream",
     "text": [
      "['단일계약' '종합계약' nan]\n"
     ]
    }
   ],
   "source": [
    "print(data[\"세대전기계약방법\"].unique())"
   ]
  },
  {
   "cell_type": "code",
   "execution_count": 31,
   "metadata": {},
   "outputs": [
    {
     "name": "stdout",
     "output_type": "stream",
     "text": [
      "세대전기계약방법\n",
      "unknown    885389\n",
      "종합계약       124610\n",
      "단일계약       118095\n",
      "Name: count, dtype: int64\n"
     ]
    }
   ],
   "source": [
    "data[\"세대전기계약방법\"] = data[\"세대전기계약방법\"].fillna('unknown')\n",
    "print(data[\"세대전기계약방법\"].value_counts())"
   ]
  },
  {
   "cell_type": "code",
   "execution_count": 32,
   "metadata": {},
   "outputs": [
    {
     "name": "stdout",
     "output_type": "stream",
     "text": [
      "['직영' '위탁' '위탁+직영' nan '기타']\n"
     ]
    }
   ],
   "source": [
    "print(data[\"청소비관리형태\"].unique())"
   ]
  },
  {
   "cell_type": "code",
   "execution_count": 33,
   "metadata": {},
   "outputs": [
    {
     "name": "stdout",
     "output_type": "stream",
     "text": [
      "청소비관리형태\n",
      "unknown    881230\n",
      "위탁         227511\n",
      "직영          15174\n",
      "위탁+직영        4179\n",
      "Name: count, dtype: int64\n",
      "['직영' '위탁' '위탁+직영' 'unknown']\n"
     ]
    }
   ],
   "source": [
    "data[\"청소비관리형태\"] = data[\"청소비관리형태\"].fillna('unknown')\n",
    "data[\"청소비관리형태\"] = data[\"청소비관리형태\"].replace(\"기타\", \"unknown\")\n",
    "print(data[\"청소비관리형태\"].value_counts())\n",
    "print(data[\"청소비관리형태\"].unique())"
   ]
  },
  {
   "cell_type": "markdown",
   "metadata": {},
   "source": [
    "## 4-5.아파트명 데이터 정리\n",
    "\n",
    "- 숫자로만 구성되어 있거나 아파트명이 없는 경우 숫자-숫자 형태로 채워진 데이터가 존재.\n",
    "- 201호 미공시와 같은 의미없는 값도 존재.\n",
    "- nan\n",
    "- 이들을 모두 unknown으로 처리"
   ]
  },
  {
   "cell_type": "code",
   "execution_count": 34,
   "metadata": {},
   "outputs": [],
   "source": [
    "def convert_to_unknown(x):\n",
    "    if pd.isna(x):\n",
    "        return 'unknown'\n",
    "    if not isinstance(x, str):\n",
    "        return 'unknown'\n",
    "    if x.isdigit():\n",
    "        return 'unknown'\n",
    "    if '-' in x and all(part.isdigit() for part in x.split('-')):\n",
    "        return 'unknown'\n",
    "    return x\n",
    "\n",
    "data['아파트명'] = data['아파트명'].apply(convert_to_unknown)\n",
    "data['아파트명'] = data['아파트명'].replace('201호 미공시', 'unknown')"
   ]
  },
  {
   "cell_type": "markdown",
   "metadata": {},
   "source": [
    "# 5.처리된 데이터 분할 및 저장"
   ]
  },
  {
   "cell_type": "code",
   "execution_count": 35,
   "metadata": {},
   "outputs": [],
   "source": [
    "data = data.drop(columns=['k-복도유형', 'k-관리방식', 'k-난방방식', '경비비관리형태', '세대전기계약방법', '청소비관리형태',\n",
    "                          '본번', '부번', '구', '동', '부동산유형', '분양형태', 'k-전체동수', 'k-전체세대수', 'k-시행사', \n",
    "                          'k-연면적', 'k-주거전용면적', 'k-관리비부과면적', '건축면적'])"
   ]
  },
  {
   "cell_type": "code",
   "execution_count": 36,
   "metadata": {},
   "outputs": [],
   "source": [
    "train_df = data[data['is_test'] == 0]\n",
    "test_df = data[data['is_test'] == 1]\n",
    "\n",
    "train_df = train_df.drop(columns=['is_test'])\n",
    "test_df = test_df.drop(columns=['is_test', 'target'])\n",
    "\n",
    "train_df.to_csv(f'{data_path}/new/new_train_ver3.csv', index=False)\n",
    "test_df.to_csv(f'{data_path}/new/new_test_ver3.csv', index=False)"
   ]
  },
  {
   "cell_type": "code",
   "execution_count": 37,
   "metadata": {},
   "outputs": [
    {
     "name": "stdout",
     "output_type": "stream",
     "text": [
      "<class 'pandas.core.frame.DataFrame'>\n",
      "Index: 1118822 entries, 0 to 1118821\n",
      "Data columns (total 16 columns):\n",
      " #   Column      Non-Null Count    Dtype  \n",
      "---  ------      --------------    -----  \n",
      " 0   시군구         1118822 non-null  object \n",
      " 1   번지          1118822 non-null  object \n",
      " 2   아파트명        1118822 non-null  object \n",
      " 3   전용면적        1118822 non-null  float64\n",
      " 4   계약년월        1118822 non-null  int64  \n",
      " 5   층           1118822 non-null  int64  \n",
      " 6   건축년도        1118822 non-null  int64  \n",
      " 7   도로명         1118822 non-null  object \n",
      " 8   해제사유발생일     5983 non-null     float64\n",
      " 9   등기신청일자      1118822 non-null  object \n",
      " 10  거래유형        1118822 non-null  object \n",
      " 11  k-건설사(시공사)  247764 non-null   object \n",
      " 12  좌표X         1118822 non-null  float64\n",
      " 13  좌표Y         1118822 non-null  float64\n",
      " 14  target      1118822 non-null  float64\n",
      " 15  세대별_주차대수    249108 non-null   float64\n",
      "dtypes: float64(6), int64(3), object(7)\n",
      "memory usage: 145.1+ MB\n"
     ]
    }
   ],
   "source": [
    "train_df.info()"
   ]
  },
  {
   "cell_type": "code",
   "execution_count": 38,
   "metadata": {},
   "outputs": [
    {
     "name": "stdout",
     "output_type": "stream",
     "text": [
      "<class 'pandas.core.frame.DataFrame'>\n",
      "Index: 9272 entries, 0 to 9271\n",
      "Data columns (total 15 columns):\n",
      " #   Column      Non-Null Count  Dtype  \n",
      "---  ------      --------------  -----  \n",
      " 0   시군구         9272 non-null   object \n",
      " 1   번지          9272 non-null   object \n",
      " 2   아파트명        9272 non-null   object \n",
      " 3   전용면적        9272 non-null   float64\n",
      " 4   계약년월        9272 non-null   int64  \n",
      " 5   층           9272 non-null   int64  \n",
      " 6   건축년도        9272 non-null   int64  \n",
      " 7   도로명         9272 non-null   object \n",
      " 8   해제사유발생일     212 non-null    float64\n",
      " 9   등기신청일자      9272 non-null   object \n",
      " 10  거래유형        9272 non-null   object \n",
      " 11  k-건설사(시공사)  2693 non-null   object \n",
      " 12  좌표X         9272 non-null   float64\n",
      " 13  좌표Y         9272 non-null   float64\n",
      " 14  세대별_주차대수    2709 non-null   float64\n",
      "dtypes: float64(5), int64(3), object(7)\n",
      "memory usage: 1.1+ MB\n"
     ]
    }
   ],
   "source": [
    "test_df.info()"
   ]
  }
 ],
 "metadata": {
  "kernelspec": {
   "display_name": "DL",
   "language": "python",
   "name": "python3"
  },
  "language_info": {
   "codemirror_mode": {
    "name": "ipython",
    "version": 3
   },
   "file_extension": ".py",
   "mimetype": "text/x-python",
   "name": "python",
   "nbconvert_exporter": "python",
   "pygments_lexer": "ipython3",
   "version": "3.9.19"
  }
 },
 "nbformat": 4,
 "nbformat_minor": 2
}
