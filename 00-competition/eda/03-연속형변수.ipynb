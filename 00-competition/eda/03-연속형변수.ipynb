{
 "cells": [
  {
   "cell_type": "code",
   "execution_count": 1,
   "metadata": {},
   "outputs": [],
   "source": [
    "import warnings;warnings.filterwarnings('ignore')\n",
    "\n",
    "import os\n",
    "import pandas as pd\n",
    "import seaborn as sns\n",
    "import matplotlib.pyplot as plt\n",
    "\n",
    "import matplotlib.font_manager as fm\n",
    "fe = fm.FontEntry(\n",
    "    fname=r'/usr/share/fonts/truetype/nanum/NanumGothic.ttf', # ttf 파일이 저장되어 있는 경로\n",
    "    name='NanumBarunGothic')                        # 이 폰트의 원하는 이름 설정\n",
    "fm.fontManager.ttflist.insert(0, fe)              # Matplotlib에 폰트 추가\n",
    "plt.rcParams.update({'font.size': 10, 'font.family': 'NanumBarunGothic'}) # 폰트 설정\n",
    "plt.rc('font', family='NanumBarunGothic')"
   ]
  },
  {
   "cell_type": "markdown",
   "metadata": {},
   "source": [
    "# 1.데이터 로드"
   ]
  },
  {
   "cell_type": "code",
   "execution_count": 2,
   "metadata": {},
   "outputs": [
    {
     "name": "stdout",
     "output_type": "stream",
     "text": [
      "['new', 'subway_feature.csv', 'sampled_data.csv', 'train.csv', 'test.csv', 'bus_feature.csv', 'sample_submission.csv', '.DS_Store']\n"
     ]
    }
   ],
   "source": [
    "data_path = '../data'\n",
    "train_path = f'{data_path}/new/new_train_ver3.csv'\n",
    "test_path  = f'{data_path}/new/new_test_ver3.csv'\n",
    "\n",
    "print(os.listdir(data_path))"
   ]
  },
  {
   "cell_type": "code",
   "execution_count": 3,
   "metadata": {},
   "outputs": [
    {
     "name": "stdout",
     "output_type": "stream",
     "text": [
      "Train data shape :  (1118822, 42) Test data shape :  (9272, 41)\n"
     ]
    }
   ],
   "source": [
    "train_data = pd.read_csv(train_path)\n",
    "test_data = pd.read_csv(test_path)\n",
    "print('Train data shape : ', train_data.shape, 'Test data shape : ', test_data.shape)"
   ]
  },
  {
   "cell_type": "code",
   "execution_count": 4,
   "metadata": {},
   "outputs": [],
   "source": [
    "sampled_data = train_data.sample(n=20)\n",
    "sampled_data.to_csv('sampled_data_ver3.csv', index=False)"
   ]
  },
  {
   "cell_type": "code",
   "execution_count": 5,
   "metadata": {},
   "outputs": [
    {
     "data": {
      "text/plain": [
       "Index(['본번', '부번', '아파트명', '전용면적', '층', '건축년도', '도로명', '해제사유발생일', '등기신청일자',\n",
       "       '거래유형', '부동산유형', '분양형태', 'k-관리방식', 'k-복도유형', 'k-난방방식', 'k-전체동수',\n",
       "       'k-전체세대수', 'k-건설사', 'k-시행사', 'k-사용검사일-사용승인일', 'k-연면적', 'k-주거전용면적',\n",
       "       'k-관리비부과면적', 'k-전용면적별세대현황(60㎡이하)', 'k-전용면적별세대현황(60㎡~85㎡이하)',\n",
       "       'k-85㎡~135㎡이하', 'k-135㎡초과', 'k-등록일자', 'k-수정일자', '경비비관리형태', '세대전기계약방법',\n",
       "       '청소비관리형태', '건축면적', '주차대수', '단지승인일', '좌표X', '좌표Y', '단지신청일', 'target',\n",
       "       '구', '동', '계약날짜'],\n",
       "      dtype='object')"
      ]
     },
     "metadata": {},
     "output_type": "display_data"
    }
   ],
   "source": [
    "display(train_data.columns)"
   ]
  },
  {
   "cell_type": "code",
   "execution_count": 10,
   "metadata": {},
   "outputs": [
    {
     "name": "stdout",
     "output_type": "stream",
     "text": [
      "<class 'pandas.core.frame.DataFrame'>\n",
      "RangeIndex: 1118822 entries, 0 to 1118821\n",
      "Data columns (total 42 columns):\n",
      " #   Column                  Non-Null Count    Dtype  \n",
      "---  ------                  --------------    -----  \n",
      " 0   본번                      1118822 non-null  float64\n",
      " 1   부번                      1118822 non-null  float64\n",
      " 2   아파트명                    1118822 non-null  object \n",
      " 3   전용면적                    1118822 non-null  float64\n",
      " 4   층                       1118822 non-null  int64  \n",
      " 5   건축년도                    1118822 non-null  int64  \n",
      " 6   도로명                     1118822 non-null  object \n",
      " 7   해제사유발생일                 5983 non-null     float64\n",
      " 8   등기신청일자                  1118822 non-null  object \n",
      " 9   거래유형                    1118822 non-null  object \n",
      " 10  부동산유형                   1118822 non-null  object \n",
      " 11  분양형태                    1118822 non-null  object \n",
      " 12  k-관리방식                  1118822 non-null  object \n",
      " 13  k-복도유형                  1118822 non-null  object \n",
      " 14  k-난방방식                  1118822 non-null  object \n",
      " 15  k-전체동수                  248192 non-null   float64\n",
      " 16  k-전체세대수                 249259 non-null   float64\n",
      " 17  k-건설사                   1118822 non-null  object \n",
      " 18  k-시행사                   1118822 non-null  object \n",
      " 19  k-사용검사일-사용승인일           249126 non-null   object \n",
      " 20  k-연면적                   249259 non-null   float64\n",
      " 21  k-주거전용면적                249214 non-null   float64\n",
      " 22  k-관리비부과면적               249259 non-null   float64\n",
      " 23  k-전용면적별세대현황(60㎡이하)      249214 non-null   float64\n",
      " 24  k-전용면적별세대현황(60㎡~85㎡이하)  249214 non-null   float64\n",
      " 25  k-85㎡~135㎡이하            249214 non-null   float64\n",
      " 26  k-135㎡초과                327 non-null      float64\n",
      " 27  k-등록일자                  10990 non-null    object \n",
      " 28  k-수정일자                  249214 non-null   object \n",
      " 29  경비비관리형태                 1118822 non-null  object \n",
      " 30  세대전기계약방법                1118822 non-null  object \n",
      " 31  청소비관리형태                 1118822 non-null  object \n",
      " 32  건축면적                    249108 non-null   float64\n",
      " 33  주차대수                    249108 non-null   float64\n",
      " 34  단지승인일                   248536 non-null   object \n",
      " 35  좌표X                     1118822 non-null  float64\n",
      " 36  좌표Y                     1118822 non-null  float64\n",
      " 37  단지신청일                   249197 non-null   object \n",
      " 38  target                  1118822 non-null  float64\n",
      " 39  구                       1118822 non-null  object \n",
      " 40  동                       1118822 non-null  object \n",
      " 41  계약날짜                    1118822 non-null  object \n",
      "dtypes: float64(18), int64(2), object(22)\n",
      "memory usage: 358.5+ MB\n"
     ]
    },
    {
     "data": {
      "text/plain": [
       "None"
      ]
     },
     "metadata": {},
     "output_type": "display_data"
    }
   ],
   "source": [
    "display(train_data.info())"
   ]
  },
  {
   "cell_type": "code",
   "execution_count": 7,
   "metadata": {},
   "outputs": [
    {
     "data": {
      "text/plain": [
       "Index(['본번', '부번', '아파트명', '전용면적', '층', '건축년도', '도로명', '해제사유발생일', '등기신청일자',\n",
       "       '거래유형', '부동산유형', '분양형태', 'k-관리방식', 'k-복도유형', 'k-난방방식', 'k-전체동수',\n",
       "       'k-전체세대수', 'k-건설사', 'k-시행사', 'k-사용검사일-사용승인일', 'k-연면적', 'k-주거전용면적',\n",
       "       'k-관리비부과면적', 'k-전용면적별세대현황(60㎡이하)', 'k-전용면적별세대현황(60㎡~85㎡이하)',\n",
       "       'k-85㎡~135㎡이하', 'k-135㎡초과', 'k-등록일자', 'k-수정일자', '경비비관리형태', '세대전기계약방법',\n",
       "       '청소비관리형태', '건축면적', '주차대수', '단지승인일', '좌표X', '좌표Y', '단지신청일', '구', '동',\n",
       "       '계약날짜'],\n",
       "      dtype='object')"
      ]
     },
     "metadata": {},
     "output_type": "display_data"
    }
   ],
   "source": [
    "display(test_data.columns)"
   ]
  },
  {
   "cell_type": "code",
   "execution_count": 8,
   "metadata": {},
   "outputs": [
    {
     "name": "stdout",
     "output_type": "stream",
     "text": [
      "<class 'pandas.core.frame.DataFrame'>\n",
      "RangeIndex: 9272 entries, 0 to 9271\n",
      "Data columns (total 41 columns):\n",
      " #   Column                  Non-Null Count  Dtype  \n",
      "---  ------                  --------------  -----  \n",
      " 0   본번                      9272 non-null   float64\n",
      " 1   부번                      9272 non-null   float64\n",
      " 2   아파트명                    9272 non-null   object \n",
      " 3   전용면적                    9272 non-null   float64\n",
      " 4   층                       9272 non-null   int64  \n",
      " 5   건축년도                    9272 non-null   int64  \n",
      " 6   도로명                     9272 non-null   object \n",
      " 7   해제사유발생일                 212 non-null    float64\n",
      " 8   등기신청일자                  9272 non-null   object \n",
      " 9   거래유형                    9272 non-null   object \n",
      " 10  부동산유형                   9272 non-null   object \n",
      " 11  분양형태                    9272 non-null   object \n",
      " 12  k-관리방식                  9272 non-null   object \n",
      " 13  k-복도유형                  9272 non-null   object \n",
      " 14  k-난방방식                  9272 non-null   object \n",
      " 15  k-전체동수                  2695 non-null   float64\n",
      " 16  k-전체세대수                 2710 non-null   float64\n",
      " 17  k-건설사                   9272 non-null   object \n",
      " 18  k-시행사                   9272 non-null   object \n",
      " 19  k-사용검사일-사용승인일           2709 non-null   object \n",
      " 20  k-연면적                   2710 non-null   float64\n",
      " 21  k-주거전용면적                2710 non-null   float64\n",
      " 22  k-관리비부과면적               2710 non-null   float64\n",
      " 23  k-전용면적별세대현황(60㎡이하)      2710 non-null   float64\n",
      " 24  k-전용면적별세대현황(60㎡~85㎡이하)  2710 non-null   float64\n",
      " 25  k-85㎡~135㎡이하            2710 non-null   float64\n",
      " 26  k-135㎡초과                2 non-null      float64\n",
      " 27  k-등록일자                  718 non-null    object \n",
      " 28  k-수정일자                  2710 non-null   object \n",
      " 29  경비비관리형태                 9272 non-null   object \n",
      " 30  세대전기계약방법                9272 non-null   object \n",
      " 31  청소비관리형태                 9272 non-null   object \n",
      " 32  건축면적                    2707 non-null   float64\n",
      " 33  주차대수                    2709 non-null   float64\n",
      " 34  단지승인일                   2704 non-null   object \n",
      " 35  좌표X                     9272 non-null   float64\n",
      " 36  좌표Y                     9272 non-null   float64\n",
      " 37  단지신청일                   2710 non-null   object \n",
      " 38  구                       9272 non-null   object \n",
      " 39  동                       9272 non-null   object \n",
      " 40  계약날짜                    9272 non-null   object \n",
      "dtypes: float64(17), int64(2), object(22)\n",
      "memory usage: 2.9+ MB\n"
     ]
    },
    {
     "data": {
      "text/plain": [
       "None"
      ]
     },
     "metadata": {},
     "output_type": "display_data"
    }
   ],
   "source": [
    "display(test_data.info())"
   ]
  },
  {
   "cell_type": "markdown",
   "metadata": {},
   "source": [
    "# 2.결측치 처리"
   ]
  },
  {
   "cell_type": "markdown",
   "metadata": {},
   "source": [
    "## 2-1.k-전체동수"
   ]
  },
  {
   "cell_type": "code",
   "execution_count": 25,
   "metadata": {},
   "outputs": [
    {
     "name": "stdout",
     "output_type": "stream",
     "text": [
      "[8.0, 5.0, 4.0, 124.0, 6.0, 9.0, 1.0, 14.0, nan, 34.0, 2.0, 11.0, 28.0, 15.0, 7.0, 12.0, 16.0, 3.0, 19.0, 10.0, 26.0, 20.0, 13.0, 22.0, 41.0, 40.0, 37.0, 21.0, 50.0, 23.0, 18.0, 32.0, 24.0, 31.0, 17.0, 33.0, 51.0, 44.0, 30.0, 56.0, 72.0, 84.0]\n",
      "k-전체동수\n",
      "10.0     19801\n",
      "2.0      17162\n",
      "6.0      16167\n",
      "3.0      15271\n",
      "4.0      13245\n",
      "1.0      12348\n",
      "5.0      11775\n",
      "7.0      11694\n",
      "9.0      10825\n",
      "8.0      10644\n",
      "14.0      9801\n",
      "15.0      8900\n",
      "11.0      8030\n",
      "12.0      7722\n",
      "28.0      7567\n",
      "13.0      6997\n",
      "19.0      6550\n",
      "16.0      4667\n",
      "22.0      4215\n",
      "31.0      3966\n",
      "32.0      3806\n",
      "23.0      3198\n",
      "72.0      3028\n",
      "124.0     2816\n",
      "56.0      2589\n",
      "30.0      2584\n",
      "20.0      2451\n",
      "33.0      2360\n",
      "44.0      2346\n",
      "34.0      2187\n",
      "17.0      1679\n",
      "24.0      1673\n",
      "18.0      1586\n",
      "40.0      1496\n",
      "51.0      1490\n",
      "21.0      1377\n",
      "50.0      1365\n",
      "37.0      1008\n",
      "26.0       815\n",
      "41.0       507\n",
      "84.0       484\n",
      "Name: count, dtype: int64\n"
     ]
    }
   ],
   "source": [
    "print(list(train_data['k-전체동수'].unique()))\n",
    "print(train_data['k-전체동수'].value_counts())"
   ]
  },
  {
   "cell_type": "code",
   "execution_count": 28,
   "metadata": {},
   "outputs": [
    {
     "name": "stdout",
     "output_type": "stream",
     "text": [
      "강남구 대치동 988-4\n",
      "강남구 대치동 988-4\n",
      "강남구 대치동 988-4\n",
      "강남구 대치동 1025-0\n",
      "강남구 대치동 1025-0\n",
      "강남구 대치동 1025-0\n",
      "강남구 대치동 1025-0\n",
      "강남구 대치동 1025-0\n",
      "강남구 개포동 189-0\n",
      "강남구 개포동 189-0\n",
      "강남구 개포동 189-0\n"
     ]
    }
   ],
   "source": [
    "missing_row = train_data[train_data['k-전체동수'].isna()]\n",
    "for idx, (index, row) in enumerate(missing_row.iterrows()):\n",
    "    print(f\"{row['구']} {row['동']} {int(row['본번'])}-{int(row['부번'])}\")\n",
    "\n",
    "    if idx == 10:\n",
    "        break"
   ]
  },
  {
   "cell_type": "code",
   "execution_count": null,
   "metadata": {},
   "outputs": [],
   "source": []
  }
 ],
 "metadata": {
  "kernelspec": {
   "display_name": "DL",
   "language": "python",
   "name": "python3"
  },
  "language_info": {
   "codemirror_mode": {
    "name": "ipython",
    "version": 3
   },
   "file_extension": ".py",
   "mimetype": "text/x-python",
   "name": "python",
   "nbconvert_exporter": "python",
   "pygments_lexer": "ipython3",
   "version": "3.9.19"
  }
 },
 "nbformat": 4,
 "nbformat_minor": 2
}
