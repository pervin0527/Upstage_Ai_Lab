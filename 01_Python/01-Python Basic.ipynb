{
 "cells": [
  {
   "cell_type": "markdown",
   "metadata": {},
   "source": [
    "### 자료형\n",
    "\n",
    "- 숫자형(Number)\n",
    "- 문자형(String)\n",
    "- 리스트형(List)\n",
    "- 튜플형(Tuple), 딕셔너리형(Dict), 집합형(Set)\n",
    "- 불린(Boolean)\n",
    "\n",
    "\n",
    "### 최근 파이썬 트렌드는 변수들에 자료형을 명시하는 것이 트렌드.\n",
    "[https://docs.pydantic.dev/latest/](https://docs.pydantic.dev/latest/)"
   ]
  },
  {
   "cell_type": "code",
   "execution_count": 1,
   "metadata": {},
   "outputs": [
    {
     "name": "stdout",
     "output_type": "stream",
     "text": [
      "3140.0\n",
      "0.00314\n"
     ]
    }
   ],
   "source": [
    "x = 3.14e3 ## 3.14 * 10^3\n",
    "y = 3.14e-3 ## 3.14 * 10^(-3)\n",
    "\n",
    "print(x)\n",
    "print(y)"
   ]
  },
  {
   "cell_type": "code",
   "execution_count": 4,
   "metadata": {},
   "outputs": [
    {
     "name": "stdout",
     "output_type": "stream",
     "text": [
      "l\n",
      "ello Python!\n",
      "Python\n"
     ]
    }
   ],
   "source": [
    "## indexing, slicing\n",
    "\n",
    "test = \"Hello Python!\"\n",
    "\n",
    "print(test[2])\n",
    "print(test[1:])\n",
    "print(test[6:-1])"
   ]
  },
  {
   "cell_type": "code",
   "execution_count": 6,
   "metadata": {},
   "outputs": [
    {
     "name": "stdout",
     "output_type": "stream",
     "text": [
      "Titanic James\n"
     ]
    }
   ],
   "source": [
    "a = \"TitanicJames\"\n",
    "\n",
    "title = a[:7]\n",
    "name = a[7:]\n",
    "print(title, name)"
   ]
  },
  {
   "cell_type": "code",
   "execution_count": 8,
   "metadata": {},
   "outputs": [
    {
     "name": "stdout",
     "output_type": "stream",
     "text": [
      "Name : minjun, Age : 30\n",
      "Name minjun, Age: 30\n",
      "Name : minjun, Age : 30\n"
     ]
    }
   ],
   "source": [
    "name = \"minjun\"\n",
    "age = 30\n",
    "\n",
    "print(\"Name : \" + name + \", Age : \" +str(age))\n",
    "print(\"Name {}, Age: {}\".format(name, age)) ## formatting\n",
    "print(f\"Name : {name}, Age : {age}\")"
   ]
  },
  {
   "cell_type": "code",
   "execution_count": 9,
   "metadata": {},
   "outputs": [
    {
     "name": "stdout",
     "output_type": "stream",
     "text": [
      "[2, 4, 6, 8, 10]\n"
     ]
    }
   ],
   "source": [
    "## 문제 1. 1부터 10까지의 정수 중에서 짝수만 출력하는 프로그램\n",
    "\n",
    "a = [x for x in range(1, 10+1) if x % 2 == 0]\n",
    "print(a)"
   ]
  },
  {
   "cell_type": "code",
   "execution_count": 11,
   "metadata": {},
   "outputs": [
    {
     "name": "stdout",
     "output_type": "stream",
     "text": [
      "Odd number.\n"
     ]
    }
   ],
   "source": [
    "## 문제2. 사용자로부터 입력 받은 숫자가 양수인지 음수인지 출력하는 프로그램\n",
    "\n",
    "def check_func(n):\n",
    "    if n % 2 == 0:\n",
    "        print(\"Even number.\")\n",
    "    else:\n",
    "        print(\"Odd number.\")\n",
    "\n",
    "number = int(input())\n",
    "check_func(number)"
   ]
  },
  {
   "cell_type": "code",
   "execution_count": 13,
   "metadata": {},
   "outputs": [
    {
     "name": "stdout",
     "output_type": "stream",
     "text": [
      "315\n"
     ]
    }
   ],
   "source": [
    "## 문제3. 1부터 100까지의 정수 중에서 3의 배수이면서 5의 배수인 정수의 합을 구하는 코드.\n",
    "\n",
    "arr = []\n",
    "for i in range(1, 101):\n",
    "    if i % 3 == 0 and i % 5 == 0:\n",
    "        arr.append(i)\n",
    "\n",
    "print(sum(arr))"
   ]
  },
  {
   "cell_type": "code",
   "execution_count": null,
   "metadata": {},
   "outputs": [],
   "source": [
    "## 문제4. 사용자로부터 n개의 정수를 입력 받아 이 중에서 가장 큰 값과 가장 작은 값을 구하는 코드.\n",
    "\n",
    "arr = []\n",
    "while True:\n",
    "    try:\n",
    "        n = int(input())\n",
    "    except EOFError:\n",
    "        break\n",
    "\n",
    "arr.sort()\n",
    "print(arr[0], arr[-1])"
   ]
  },
  {
   "cell_type": "code",
   "execution_count": 14,
   "metadata": {},
   "outputs": [
    {
     "name": "stdout",
     "output_type": "stream",
     "text": [
      "5 * 1 = 5\n",
      "5 * 2 = 10\n",
      "5 * 3 = 15\n",
      "5 * 4 = 20\n",
      "5 * 5 = 25\n",
      "5 * 6 = 30\n",
      "5 * 7 = 35\n",
      "5 * 8 = 40\n",
      "5 * 9 = 45\n"
     ]
    }
   ],
   "source": [
    "## 문제5. 사용자로부터 입력 받은 숫자의 구구단을 출력하는 코드를 작성해라.\n",
    "\n",
    "n = int(input())\n",
    "\n",
    "for i in range(1, 10):\n",
    "    print(f\"{n} * {i} = {n * i}\")"
   ]
  },
  {
   "cell_type": "code",
   "execution_count": null,
   "metadata": {},
   "outputs": [],
   "source": []
  }
 ],
 "metadata": {
  "kernelspec": {
   "display_name": "AiLab",
   "language": "python",
   "name": "python3"
  },
  "language_info": {
   "codemirror_mode": {
    "name": "ipython",
    "version": 3
   },
   "file_extension": ".py",
   "mimetype": "text/x-python",
   "name": "python",
   "nbconvert_exporter": "python",
   "pygments_lexer": "ipython3",
   "version": "3.8.19"
  }
 },
 "nbformat": 4,
 "nbformat_minor": 2
}
