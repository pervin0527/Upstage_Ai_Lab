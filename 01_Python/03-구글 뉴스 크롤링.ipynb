{
 "cells": [
  {
   "cell_type": "code",
   "execution_count": null,
   "metadata": {},
   "outputs": [],
   "source": [
    "from selenium import webdriver\n",
    "from selenium.webdriver.common.by import By"
   ]
  },
  {
   "cell_type": "code",
   "execution_count": null,
   "metadata": {},
   "outputs": [],
   "source": [
    "browser = webdriver.Chrome()"
   ]
  },
  {
   "cell_type": "code",
   "execution_count": null,
   "metadata": {},
   "outputs": [],
   "source": [
    "## 어떤 페이지에서 어떤 정보를 가져올거야 명시.\n",
    "## 셀레니움은 브라우저 속도가 느리기 때문에 Beautiful Soup을 사용한다.\n",
    "\n",
    "url = 'https://www.google.com/search?q=%EC%9D%B8%EA%B3%B5%EC%A7%80%EB%8A%A5+%EC%B1%97%EB%B4%87&newwindow=1&sca_esv=30c375223fbe6df1&biw=1410&bih=938&tbm=nws&ei=q1IPZpyTGcqKvr0PnZqc0A4&udm=&ved=0ahUKEwjclMD59KmFAxVKha8BHR0NB-oQ4dUDCA0&uact=5&oq=%EC%9D%B8%EA%B3%B5%EC%A7%80%EB%8A%A5+%EC%B1%97%EB%B4%87&gs_lp=Egxnd3Mtd2l6LW5ld3MiE-yduOqzteyngOuKpSDssZfrtIcyCxAAGIAEGLEDGIMBMgUQABiABDIFEAAYgAQyBRAAGIAEMgUQABiABDIFEAAYgAQyBRAAGIAEMgUQABiABDIFEAAYgAQyBRAAGIAESMAMUNwGWMwLcAB4AJABAJgBjgGgAeoFqgEDMi41uAEDyAEA-AEBmAIFoAK3BMICBhAAGB4YDcICChAAGAgYHhgNGA-YAwCIBgGSBwMwLjWgB44m&sclient=gws-wiz-news'\n",
    "browser.get(url) ## url로 이동."
   ]
  },
  {
   "cell_type": "code",
   "execution_count": null,
   "metadata": {},
   "outputs": [],
   "source": [
    "## 뉴스 제목 가져오기.\n",
    "## n0jPhd ynAwRc MBeuO nDgy9d 셀레니움은 space를 인식하지 못하기 때문에 첫번째 클래스만 사용.\n",
    "browser.find_element(By.CLASS_NAME, 'n0jPhd').text"
   ]
  },
  {
   "cell_type": "code",
   "execution_count": null,
   "metadata": {},
   "outputs": [],
   "source": [
    "## 언론사, 내용, 작성일 가져오기. span 태그에 있고, 클래스가 없으니 상위 요소를 가져온다.\n",
    "\n",
    "## 언론사.\n",
    "print(browser.find_element(By.CLASS_NAME, 'MgUUmf').text)\n",
    "\n",
    "## 내용.\n",
    "print(browser.find_element(By.CLASS_NAME, 'GI74Re').text)\n",
    "\n",
    "## 작성일.\n",
    "# print(browser.find_element(By.CLASS_NAME, 'OSrXXb').text) ## 클래스 문제.\n",
    "# browser.find_element(By.CLASS_NAME, 'OSrXXb').find_element(By.TAG_NAME, 'span') ## No Search element. -> 다른 요소에서도 사용되는 클래스.\n",
    "## find element는 \"클래스명\"으로 가장 먼저 찾은 요소 하나를 가져옴. 따라서 다른 클래스명을 사용해볼 것.\n",
    "\n",
    "print(browser.find_element(By.XPATH, '//*[@id=\"rso\"]/div/div/div[1]/div/div/a/div/div[2]/div[4]/span').text)"
   ]
  },
  {
   "cell_type": "code",
   "execution_count": null,
   "metadata": {},
   "outputs": [],
   "source": [
    "## 각 글의 클래스는 모두 공통적으로 n0jPhd를 사용. 따라서 find_elements를 이용해 모든 요소들을 리스트에 담아 반환한다.\n",
    "title_list = browser.find_elements(By.CLASS_NAME, 'n0jPhd')\n",
    "\n",
    "print(len(title_list))\n",
    "for title in title_list:\n",
    "    print(title.text)"
   ]
  },
  {
   "cell_type": "code",
   "execution_count": null,
   "metadata": {},
   "outputs": [],
   "source": [
    "company_list = browser.find_elements(By.CLASS_NAME, 'MgUUmf')\n",
    "\n",
    "print(len(company_list))\n",
    "for comany in company_list:\n",
    "    print(comany.text)"
   ]
  },
  {
   "cell_type": "code",
   "execution_count": null,
   "metadata": {},
   "outputs": [],
   "source": [
    "## 그럼 요소마다 반복문을 만들어야하냐? 그렇지는 않다.\n",
    "## 컨테이너 자체를 가져와서 필요한 것들을 분리.\n",
    "\n",
    "containers = browser.find_elements(By.CLASS_NAME, \"SoaBEf\")\n",
    "print(len(containers))\n",
    "\n",
    "for container in containers:\n",
    "    # print(container.text, '\\n')\n",
    "    \n",
    "    title = container.find_element(By.CLASS_NAME, 'n0jPhd').text\n",
    "    company = container.find_element(By.CLASS_NAME, 'MgUUmf').text\n",
    "    content = container.find_element(By.CLASS_NAME, 'GI74Re').text\n",
    "    created_at = container.find_element(By.CLASS_NAME, 'rbYSKb').text\n",
    "\n",
    "    print(f\"[{title}] - {company} - {created_at}\\n{content}\\n\\n\")"
   ]
  },
  {
   "cell_type": "code",
   "execution_count": null,
   "metadata": {},
   "outputs": [],
   "source": [
    "## 링크 수집. <a> 태그의 href 속성값을 가져와야한다.\n",
    "link = browser.find_element(By.CLASS_NAME, 'WlydOe').get_attribute('href')\n",
    "\n",
    "print(link)"
   ]
  },
  {
   "cell_type": "code",
   "execution_count": null,
   "metadata": {},
   "outputs": [],
   "source": [
    "## 그럼 요소마다 반복문을 만들어야하냐? 그렇지는 않다.\n",
    "## 컨테이너 자체를 가져와서 필요한 것들을 분리.\n",
    "\n",
    "containers = browser.find_elements(By.CLASS_NAME, \"SoaBEf\")\n",
    "print(len(containers))\n",
    "\n",
    "for container in containers:\n",
    "    # print(container.text, '\\n')\n",
    "    \n",
    "    title = container.find_element(By.CLASS_NAME, 'n0jPhd').text\n",
    "    company = container.find_element(By.CLASS_NAME, 'MgUUmf').text\n",
    "    content = container.find_element(By.CLASS_NAME, 'GI74Re').text\n",
    "    created_at = container.find_element(By.CLASS_NAME, 'rbYSKb').text\n",
    "    link = container.find_element(By.CLASS_NAME, 'WlydOe').get_attribute('href')\n",
    "\n",
    "    print(f\"[{title}] - {company} - {created_at}\\n{link}\\n{content}\\n\\n\")"
   ]
  },
  {
   "cell_type": "code",
   "execution_count": null,
   "metadata": {},
   "outputs": [],
   "source": [
    "## 이미지 링크\n",
    "img_link = browser.find_element(By.CLASS_NAME, 'uhHOwf').find_element(By.TAG_NAME, 'img').get_attribute('src')\n",
    "print(img_link)"
   ]
  },
  {
   "cell_type": "code",
   "execution_count": null,
   "metadata": {},
   "outputs": [],
   "source": [
    "import pandas as pd\n",
    "\n",
    "data_list = []\n",
    "containers = browser.find_elements(By.CLASS_NAME, \"SoaBEf\")\n",
    "for container in containers:\n",
    "    # print(container.text, '\\n')\n",
    "    \n",
    "    title = container.find_element(By.CLASS_NAME, 'n0jPhd').text\n",
    "    company = container.find_element(By.CLASS_NAME, 'MgUUmf').text\n",
    "    content = container.find_element(By.CLASS_NAME, 'GI74Re').text\n",
    "    created_at = container.find_element(By.CLASS_NAME, 'rbYSKb').text\n",
    "    link = container.find_element(By.CLASS_NAME, 'WlydOe').get_attribute('href')\n",
    "\n",
    "    data_list.append({'제목' : title, \n",
    "                      '언론사' : company, \n",
    "                      '날짜' : created_at, \n",
    "                      '링크' : link, \n",
    "                      '내용' : content})\n",
    "\n",
    "df = pd.DataFrame(data_list) ## 데이터 리스트를 판다스 데이터 프레임으로 변환\n",
    "print(df)\n",
    "\n",
    "df.to_csv(\"03_Google_NEWS.csv\", encoding='utf-8-sig') ## 저장.\n",
    "browser.close()"
   ]
  }
 ],
 "metadata": {
  "kernelspec": {
   "display_name": "base",
   "language": "python",
   "name": "python3"
  },
  "language_info": {
   "codemirror_mode": {
    "name": "ipython",
    "version": 3
   },
   "file_extension": ".py",
   "mimetype": "text/x-python",
   "name": "python",
   "nbconvert_exporter": "python",
   "pygments_lexer": "ipython3",
   "version": "3.9.13"
  }
 },
 "nbformat": 4,
 "nbformat_minor": 2
}
