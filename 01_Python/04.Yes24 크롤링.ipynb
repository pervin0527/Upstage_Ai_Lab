{
 "cells": [
  {
   "cell_type": "code",
   "execution_count": null,
   "metadata": {},
   "outputs": [],
   "source": [
    "## YES24 베스트 셀러 -> 제목, 저자, 링크\n",
    "import pandas as pd\n",
    "\n",
    "from selenium import webdriver\n",
    "from selenium.webdriver.common.by import By"
   ]
  },
  {
   "cell_type": "code",
   "execution_count": null,
   "metadata": {},
   "outputs": [],
   "source": [
    "browser = webdriver.Chrome()\n",
    "\n",
    "url = \"https://www.yes24.com/Product/Category/BestSeller?categoryNumber=001&pageNumber=1&pageSize=24\"\n",
    "browser.get(url)"
   ]
  },
  {
   "cell_type": "code",
   "execution_count": null,
   "metadata": {},
   "outputs": [],
   "source": [
    "parent = browser.find_element(By.ID, 'yesBestList')\n",
    "book_container_list = parent.find_elements(By.CLASS_NAME, 'item_info')\n",
    "\n",
    "len(book_container_list)\n",
    "\n",
    "# 책 제목, 저자, 출간일, 가격, 판매지수, (평점, 리뷰갯수)\n",
    "\n",
    "data_list = []\n",
    "for book_container in book_container_list:\n",
    "    title = book_container.find_element(By.CLASS_NAME, 'gd_name').text\n",
    "    author = book_container.find_element(By.CLASS_NAME, 'info_auth').find_element(By.TAG_NAME, 'a').text\n",
    "    public_date = book_container.find_element(By.CLASS_NAME, 'info_date').text\n",
    "    \n",
    "    price = book_container.find_element(By.CLASS_NAME, 'yes_b').text\n",
    "    # currency_unit = book_container.find_element(By.CLASS_NAME, 'txt_num').text\n",
    "    sales_rate = book_container.find_element(By.CLASS_NAME, 'saleNum').text.split(' ')[-1]\n",
    "    \n",
    "    rate = book_container.find_element(By.CLASS_NAME, 'rating_grade').find_element(By.CLASS_NAME, 'yes_b').text\n",
    "    num_reviews = book_container.find_element(By.CLASS_NAME, 'rating_rvCount').find_element(By.CLASS_NAME, 'txC_blue').text\n",
    "\n",
    "    # print(title, author, public_date, price, sales_rate, rate, num_reviews)\n",
    "\n",
    "    data = {'책 제목' : title, '저자' : author, '출간일' : public_date, '가격(원)' : price, '판매지수' : sales_rate, '평점' : rate, '리뷰갯수' : num_reviews}    \n",
    "    data_list.append(data)\n",
    "\n",
    "df = pd.DataFrame(data_list)\n",
    "df.to_csv(\"04_Yes24_BEST_SELLER.csv\", encoding='utf-8-sig')\n"
   ]
  },
  {
   "cell_type": "code",
   "execution_count": null,
   "metadata": {},
   "outputs": [],
   "source": []
  },
  {
   "cell_type": "code",
   "execution_count": null,
   "metadata": {},
   "outputs": [],
   "source": [
    "# 페이지 전환\n",
    "import time\n",
    "import pandas as pd\n",
    "\n",
    "data_list = []\n",
    "for i in range(1,4):\n",
    "    url = f'https://www.yes24.com/Product/Category/BestSeller?categoryNumber=001&pageNumber={i}'\n",
    "    browser.get(url)\n",
    "    time.sleep(3)\n",
    "    \n",
    "    parent = browser.find_element(By.ID, 'yesBestList')\n",
    "    book_list = parent.find_elements(By.CLASS_NAME, 'item_info')\n",
    "\n",
    "    for book in book_list:\n",
    "        title = book.find_element(By.CLASS_NAME, 'gd_name').text\n",
    "        link = book.find_element(By.CLASS_NAME, 'gd_name').get_attribute('href')\n",
    "        author = book.find_element(By.CLASS_NAME, 'authPub').text\n",
    "        \n",
    "        data_list.append({\n",
    "            \"제목\": title, \"저자\": author, \"링크\": link\n",
    "        })"
   ]
  },
  {
   "cell_type": "code",
   "execution_count": null,
   "metadata": {},
   "outputs": [],
   "source": [
    "# //*[@id=\"bestContentsWrap\"]/div[5]/div/div/div/a[1] # 2페이지\n",
    "# //*[@id=\"bestContentsWrap\"]/div[5]/div/div/div/a[2] # 3페이지\n",
    "# //*[@id=\"bestContentsWrap\"]/div[5]/div/div/div/a[3] # 4페이지\n",
    "\n",
    "\n",
    "# 페이지 전환\n",
    "import time\n",
    "for i in range(1,4):\n",
    "    xpath = f'//*[@id=\"bestContentsWrap\"]/div[5]/div/div/div/a[{i}]'\n",
    "    browser.find_element(By.XPATH, xpath).click()\n",
    "    \n",
    "    time.sleep(3)"
   ]
  },
  {
   "cell_type": "code",
   "execution_count": null,
   "metadata": {},
   "outputs": [],
   "source": [
    "## N개 페이지\n",
    "\n",
    "import time\n",
    "import pandas as pd\n",
    "\n",
    "from selenium import webdriver\n",
    "from selenium.webdriver.common.by import By"
   ]
  },
  {
   "cell_type": "code",
   "execution_count": null,
   "metadata": {},
   "outputs": [],
   "source": [
    "browser = webdriver.Chrome()\n",
    "url = \"https://www.yes24.com/Product/Category/BestSeller?categoryNumber=001&pageNumber=1&pageSize=24\"\n",
    "browser.get(url)"
   ]
  },
  {
   "cell_type": "code",
   "execution_count": null,
   "metadata": {},
   "outputs": [],
   "source": [
    "end_page = int(browser.find_element(By.CLASS_NAME, 'bSGoodsPagen').find_element(By.CLASS_NAME, 'end').get_attribute('title'))\n",
    "print(end_page)\n",
    "\n",
    "data_list = []\n",
    "for idx in range(1, end_page+1):\n",
    "    ## 페이지 순회\n",
    "    if idx > 1:\n",
    "        url = f\"https://www.yes24.com/Product/Category/BestSeller?categoryNumber=001&pageNumber={idx}\"\n",
    "        browser.get(url)\n",
    "        time.sleep(10)\n",
    "    \n",
    "    ## 페이지에서 크롤링\n",
    "    print(f\"Page Number : {idx}\", end=' ')\n",
    "    parent = browser.find_element(By.ID, 'yesBestList')\n",
    "    book_container_list = parent.find_elements(By.CLASS_NAME, 'item_info')\n",
    "    for i, book_container in enumerate(book_container_list):\n",
    "\n",
    "        print(i)\n",
    "        \n",
    "        title = book_container.find_element(By.CLASS_NAME, 'gd_name').text\n",
    "        author = book_container.find_element(By.CLASS_NAME, 'info_auth').find_element(By.TAG_NAME, 'a').text\n",
    "        public_date = book_container.find_element(By.CLASS_NAME, 'info_date').text\n",
    "        \n",
    "        price = book_container.find_element(By.CLASS_NAME, 'yes_b').text\n",
    "        sales_rate = book_container.find_element(By.CLASS_NAME, 'saleNum').text.split(' ')[-1]\n",
    "                \n",
    "        rating_info = book_container.find_element(By.CLASS_NAME, 'info_rating')\n",
    "        rate = rating_info.find_element(By.CLASS_NAME, 'rating_grade').find_element(By.CLASS_NAME, 'yes_b').text\n",
    "\n",
    "        num_reviews = book_container.find_element(By.CLASS_NAME, 'rating_rvCount').find_element(By.CLASS_NAME, 'txC_blue').text\n",
    "\n",
    "        data = {'책 제목' : title, '저자' : author, '출간일' : public_date, '가격(원)' : price, '판매지수' : sales_rate, '평점' : rate, '리뷰갯수' : num_reviews}    \n",
    "        data_list.append(data)\n",
    "    \n",
    "    print(len(data_list))\n",
    "\n",
    "df = pd.DataFrame(data_list)\n",
    "df.to_csv(\"04_Yes24_BEST_SELLER.csv\", encoding='utf-8-sig')"
   ]
  },
  {
   "cell_type": "code",
   "execution_count": null,
   "metadata": {},
   "outputs": [],
   "source": []
  }
 ],
 "metadata": {
  "kernelspec": {
   "display_name": "base",
   "language": "python",
   "name": "python3"
  },
  "language_info": {
   "codemirror_mode": {
    "name": "ipython",
    "version": 3
   },
   "file_extension": ".py",
   "mimetype": "text/x-python",
   "name": "python",
   "nbconvert_exporter": "python",
   "pygments_lexer": "ipython3",
   "version": "3.9.13"
  }
 },
 "nbformat": 4,
 "nbformat_minor": 2
}
