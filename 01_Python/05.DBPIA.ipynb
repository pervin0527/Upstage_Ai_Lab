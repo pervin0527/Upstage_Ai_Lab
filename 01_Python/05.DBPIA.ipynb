{
 "cells": [
  {
   "cell_type": "code",
   "execution_count": null,
   "metadata": {},
   "outputs": [],
   "source": [
    "## 상세 페이지 가져오기\n",
    "\n",
    "import time\n",
    "import pandas as pd\n",
    "\n",
    "from selenium import webdriver\n",
    "from selenium.webdriver.common.by import By"
   ]
  },
  {
   "cell_type": "code",
   "execution_count": null,
   "metadata": {},
   "outputs": [],
   "source": [
    "keyword = '인공지능' #input('주제를 입력해주세요.')\n",
    "url = f'https://www.dbpia.co.kr/search/topSearch?searchOption=all&query={keyword}'\n",
    "\n",
    "browser = webdriver.Chrome()\n",
    "browser.get(url)"
   ]
  },
  {
   "cell_type": "code",
   "execution_count": null,
   "metadata": {},
   "outputs": [],
   "source": [
    "## 1페이지에 있는 모든 링크를 가져온다.\n",
    "link_list = browser.find_elements(By.CLASS_NAME, 'thesis__link')\n",
    "\n",
    "link_data_list = []\n",
    "for elem in link_list:\n",
    "    link = elem.get_attribute('href')\n",
    "    link_data_list.append(link)\n",
    "\n",
    "print(link_data_list)"
   ]
  },
  {
   "cell_type": "code",
   "execution_count": null,
   "metadata": {},
   "outputs": [],
   "source": [
    "for idx, link in enumerate(link_data_list):\n",
    "    browser.get(link)\n",
    "    print(f'{idx}, {link}')\n",
    "    \n",
    "    time.sleep(3)\n",
    "    ## 초록.키워드가 없는 경우 -> 예외처리.\n",
    "\n",
    "    try:\n",
    "        abstract = browser.find_element(By.CLASS_NAME, 'abstractTxt').text\n",
    "    except:\n",
    "        abstract = '없음'"
   ]
  }
 ],
 "metadata": {
  "kernelspec": {
   "display_name": "base",
   "language": "python",
   "name": "python3"
  },
  "language_info": {
   "codemirror_mode": {
    "name": "ipython",
    "version": 3
   },
   "file_extension": ".py",
   "mimetype": "text/x-python",
   "name": "python",
   "nbconvert_exporter": "python",
   "pygments_lexer": "ipython3",
   "version": "3.9.13"
  }
 },
 "nbformat": 4,
 "nbformat_minor": 2
}
