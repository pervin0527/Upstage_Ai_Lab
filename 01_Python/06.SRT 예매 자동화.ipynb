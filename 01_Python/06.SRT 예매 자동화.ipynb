{
 "cells": [
  {
   "cell_type": "code",
   "execution_count": null,
   "metadata": {},
   "outputs": [],
   "source": [
    "## SRT 자동 예매\n",
    "import time\n",
    "import pandas as pd\n",
    "\n",
    "from selenium import webdriver\n",
    "from selenium.webdriver.common.by import By"
   ]
  },
  {
   "cell_type": "code",
   "execution_count": null,
   "metadata": {},
   "outputs": [],
   "source": [
    "url = 'https://etk.srail.kr/cmc/01/selectLoginForm.do?pageId=TK0701000000&rsvTpCd=07btYNcdmWD9MWHh3EKBQA%3D%3D'\n",
    "browser = webdriver.Chrome()\n",
    "browser.get(url)"
   ]
  },
  {
   "cell_type": "code",
   "execution_count": null,
   "metadata": {},
   "outputs": [],
   "source": [
    "# browser.find_element(By.ID, 'srchDvCd3').click()\n",
    "browser.find_element(By.ID, 'srchDvNm01').click()\n",
    "browser.find_element(By.ID, 'srchDvNm01').send_keys('')\n",
    "\n",
    "browser.find_element(By.ID, 'hmpgPwdCphd01').click()\n",
    "browser.find_element(By.ID, 'hmpgPwdCphd01').send_keys('')"
   ]
  },
  {
   "cell_type": "code",
   "execution_count": null,
   "metadata": {},
   "outputs": [],
   "source": [
    "browser.find_element(By.XPATH, '//*[@id=\"login-form\"]/fieldset/div[1]/div[1]/div[2]/div/div[2]/input').click()"
   ]
  },
  {
   "cell_type": "code",
   "execution_count": null,
   "metadata": {},
   "outputs": [],
   "source": [
    "## 예약 페이지로 이동.\n",
    "reserve_url = 'https://etk.srail.kr/hpg/hra/01/selectScheduleList.do?pageId=TK0101010000'\n",
    "browser.get(reserve_url)"
   ]
  },
  {
   "cell_type": "code",
   "execution_count": null,
   "metadata": {},
   "outputs": [],
   "source": [
    "## 도착역 입력\n",
    "destination = browser.find_element(By.ID, 'arvRsStnCdNm')\n",
    "destination.clear()\n",
    "destination.send_keys('울산(통도사)')"
   ]
  },
  {
   "cell_type": "code",
   "execution_count": null,
   "metadata": {},
   "outputs": [],
   "source": [
    "## 시간 선택. <select>\n",
    "xpath = '//*[@id=\"dptTm\"]/option[11]'\n",
    "browser.find_element(By.XPATH, xpath).click()"
   ]
  },
  {
   "cell_type": "code",
   "execution_count": null,
   "metadata": {},
   "outputs": [],
   "source": [
    "## 조회 버튼 누르기.\n",
    "browser.find_element(By.XPATH, '//*[@id=\"search_top_tag\"]/input').click()"
   ]
  },
  {
   "cell_type": "code",
   "execution_count": null,
   "metadata": {},
   "outputs": [],
   "source": [
    "## 매진이면 새로고침, 예약 가능이면 클릭.\n",
    "for i in range(10):\n",
    "    is_soldout = browser.find_element(By.XPATH, '//*[@id=\"result-form\"]/fieldset/div[6]/table/tbody/tr[4]/td[7]/a/span')\n",
    "    print(f'{i}번째 시도 중입니다.')\n",
    "    if is_soldout.text == '매진':\n",
    "        browser.refresh()\n",
    "        time.sleep(3)\n",
    "    else:\n",
    "        browser.find_element(By.XPATH, '//*[@id=\"result-form\"]/fieldset/div[6]/table/tbody/tr[4]/td[7]/a/span').click()"
   ]
  },
  {
   "cell_type": "code",
   "execution_count": 4,
   "metadata": {},
   "outputs": [
    {
     "name": "stdout",
     "output_type": "stream",
     "text": [
      "<Response [200]>\n"
     ]
    }
   ],
   "source": [
    "## 슬랫봇으로 나만의 데이터 파이프라인 만들기\n",
    "import requests\n",
    "import json\n",
    "\n",
    "slack_hooks_url = \"your slack bot url\"\n",
    "\n",
    "payload = {\"text\":\"안녕하세용!\"}\n",
    "headers = {'Content-type': 'application/json'}\n",
    "response = requests.post(slack_hooks_url, data=json.dumps(payload), headers=headers)\n",
    "print(response)"
   ]
  },
  {
   "cell_type": "code",
   "execution_count": null,
   "metadata": {},
   "outputs": [],
   "source": []
  }
 ],
 "metadata": {
  "kernelspec": {
   "display_name": "base",
   "language": "python",
   "name": "python3"
  },
  "language_info": {
   "codemirror_mode": {
    "name": "ipython",
    "version": 3
   },
   "file_extension": ".py",
   "mimetype": "text/x-python",
   "name": "python",
   "nbconvert_exporter": "python",
   "pygments_lexer": "ipython3",
   "version": "3.9.13"
  }
 },
 "nbformat": 4,
 "nbformat_minor": 2
}
