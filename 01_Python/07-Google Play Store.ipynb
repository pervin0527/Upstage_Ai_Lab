{
 "cells": [
  {
   "cell_type": "markdown",
   "metadata": {},
   "source": [
    "### 3.구글 플레이 스토어에서 앱 검색 후 댓글을 수집하는 코드를 작성하시오.\n",
    "\n",
    "- 조건1: 내가 입력한 검색어를 기반으로 첫 번째 앱을 선택합니다.\n",
    "- 조건2: 댓글 수집이 100개 이상 수집되어야 합니다. (댓글 갯수가 100미만인 앱은 예외)\n",
    "- 조건3: 댓글에서 아래의 정보를 가져오세요.\n",
    "    - 작성자명, 별표 갯수, 작성일, 작성 내용\n",
    "- 조건4: 크롤링한 데이터를 오늘 날짜를 기준으로 엑셀에 저장하시오. (파일명: 2023-04-18)"
   ]
  },
  {
   "cell_type": "code",
   "execution_count": 1,
   "metadata": {},
   "outputs": [],
   "source": [
    "import time\n",
    "import pandas as pd\n",
    "\n",
    "from datetime import datetime\n",
    "from selenium import webdriver\n",
    "from selenium.webdriver.common.by import By\n",
    "from selenium.webdriver.common.keys import Keys\n",
    "from selenium.webdriver.support.ui import WebDriverWait\n",
    "from selenium.webdriver.support import expected_conditions as EC"
   ]
  },
  {
   "cell_type": "code",
   "execution_count": 2,
   "metadata": {},
   "outputs": [],
   "source": [
    "url = 'https://play.google.com/store/apps'\n",
    "browser = webdriver.Chrome()\n",
    "browser.get(url)\n",
    "browser.implicitly_wait(10)\n",
    "\n",
    "## 앱 검색.\n",
    "browser.find_element(By.XPATH, '//*[@id=\"kO001e\"]/header/nav/div/div[1]/button/i').click()\n",
    "browser.find_element(By.XPATH, '//*[@id=\"kO001e\"]/header/nav/c-wiz/div/div/label/input').send_keys('speak' + Keys.ENTER)\n",
    "\n",
    "## 앱 페이지 이동.\n",
    "browser.find_element(By.XPATH, '//*[@id=\"yDmH0d\"]/c-wiz[3]/div/div/c-wiz/c-wiz[1]/c-wiz/section/div/div/a').click()"
   ]
  },
  {
   "cell_type": "code",
   "execution_count": 3,
   "metadata": {},
   "outputs": [],
   "source": [
    "## 리뷰 페이지.\n",
    "## 스크롤을 밑으로 내리고 버튼을 클릭해야함...(심지어 클릭도 아님)\n",
    "\n",
    "browser.execute_script(\"window.scrollTo(0, document.body.scrollHeight);\")"
   ]
  },
  {
   "cell_type": "code",
   "execution_count": 4,
   "metadata": {},
   "outputs": [],
   "source": [
    "## 리뷰 전체 보기 클릭\n",
    "spread_review = browser.find_element(by=By.XPATH, value = '//*[@id=\"yDmH0d\"]/c-wiz[4]/div/div/div[1]/div/div[2]/div/div[1]/div[1]/c-wiz[5]/section/div/div[2]/div[5]/div/div/button')\n",
    "isTrue = spread_review.is_displayed()\n",
    "if isTrue :\n",
    "    browser.execute_script(\"arguments[0].click();\", spread_review)\n",
    "    time.sleep(1.5)"
   ]
  },
  {
   "cell_type": "code",
   "execution_count": 5,
   "metadata": {},
   "outputs": [],
   "source": [
    "# 스크롤할 요소 찾기\n",
    "all_reviews = browser.find_element(by=By.XPATH, value='//*[@id=\"yDmH0d\"]/div[5]/div[2]/div/div/div/div/div[2]') ## 리뷰 컨테이너\n",
    "\n",
    "# 이전 스크롤 높이\n",
    "previous_height = browser.execute_script(\"return arguments[0].scrollHeight\", all_reviews)\n",
    "\n",
    "while True:\n",
    "    # 요소 내부를 최하단으로 스크롤\n",
    "    browser.execute_script('arguments[0].scrollTop = arguments[0].scrollHeight', all_reviews)\n",
    "    \n",
    "    # 페이지 로드를 기다림\n",
    "    time.sleep(3)\n",
    "    \n",
    "    # 새로운 스크롤 높이\n",
    "    new_height = browser.execute_script(\"return arguments[0].scrollHeight\", all_reviews)\n",
    "    \n",
    "    # 스크롤 높이가 변경되지 않았다면, 더 이상 로드할 항목이 없는 것으로 판단하고 반복을 종료\n",
    "    if new_height == previous_height:\n",
    "        break\n",
    "    \n",
    "    # 이전 스크롤 높이 업데이트\n",
    "    previous_height = new_height"
   ]
  },
  {
   "cell_type": "code",
   "execution_count": 6,
   "metadata": {},
   "outputs": [
    {
     "name": "stdout",
     "output_type": "stream",
     "text": [
      "2840\n"
     ]
    }
   ],
   "source": [
    "total_reviews = browser.find_elements(By.CLASS_NAME, 'RHo1pe')\n",
    "print(len(total_reviews))"
   ]
  },
  {
   "cell_type": "code",
   "execution_count": 7,
   "metadata": {},
   "outputs": [],
   "source": [
    "## 작성자명, 별표 갯수, 작성일, 작성 내용\n",
    "total_data = []\n",
    "for review in total_reviews:\n",
    "    name = review.find_element(By.CLASS_NAME, 'X5PpBb').text\n",
    "    stars = review.find_element(By.CLASS_NAME, 'iXRFPc').get_attribute('aria-label')\n",
    "    date = review.find_element(By.CLASS_NAME, 'bp9Aid').text\n",
    "    content = review.find_element(By.CLASS_NAME, 'h3YV2d').text\n",
    "\n",
    "    star_str = stars.split(' ')\n",
    "    max_star = star_str[1][0]\n",
    "    min_star = star_str[3][0]\n",
    "    # print(f\"{name} {min_star}/{max_star} {date} {content}\")\n",
    "    total_data.append({'이름' : name, '평점' : f'{min_star}/{max_star}', '작성일' : date, '내용' : content})"
   ]
  },
  {
   "cell_type": "code",
   "execution_count": 8,
   "metadata": {},
   "outputs": [],
   "source": [
    "current_time = datetime.now()\n",
    "date_str = current_time.strftime('%Y-%m-%d')\n",
    "filename = f'{date_str}.csv'\n",
    "\n",
    "\n",
    "df = pd.DataFrame(total_data)\n",
    "df.to_csv(filename)"
   ]
  }
 ],
 "metadata": {
  "kernelspec": {
   "display_name": "base",
   "language": "python",
   "name": "python3"
  },
  "language_info": {
   "codemirror_mode": {
    "name": "ipython",
    "version": 3
   },
   "file_extension": ".py",
   "mimetype": "text/x-python",
   "name": "python",
   "nbconvert_exporter": "python",
   "pygments_lexer": "ipython3",
   "version": "3.9.13"
  }
 },
 "nbformat": 4,
 "nbformat_minor": 2
}
