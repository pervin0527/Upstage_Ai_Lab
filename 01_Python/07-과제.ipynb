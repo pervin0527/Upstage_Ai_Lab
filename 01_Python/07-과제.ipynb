{
 "cells": [
  {
   "cell_type": "markdown",
   "metadata": {},
   "source": [
    "### 문제 1. 별찍기 문제 - 아래와 같은 모양의 별을 찍는 코드를 작성하세요.\n",
    "\n",
    "\t*****\n",
    "\t**** \n",
    "\t***  \n",
    "\t**   \n",
    "\t*    "
   ]
  },
  {
   "cell_type": "code",
   "execution_count": 1,
   "metadata": {},
   "outputs": [
    {
     "name": "stdout",
     "output_type": "stream",
     "text": [
      "*****\n",
      "****\n",
      "***\n",
      "**\n",
      "*\n"
     ]
    }
   ],
   "source": [
    "for i in range(5, 0, -1):\n",
    "\tprint('*' * i)"
   ]
  },
  {
   "cell_type": "markdown",
   "metadata": {},
   "source": [
    "### 문제 2. 별찍기 문제 - 아래와 같은 모양의 별을 찍는 코드를 작성하세요.\n",
    "\n",
    "\t   *\n",
    "\t  *** \n",
    "\t *****\n",
    "\t******"
   ]
  },
  {
   "cell_type": "code",
   "execution_count": 2,
   "metadata": {},
   "outputs": [
    {
     "name": "stdout",
     "output_type": "stream",
     "text": [
      "   *   \n",
      "  ***  \n",
      " ***** \n",
      "*******\n"
     ]
    }
   ],
   "source": [
    "\"\"\"\n",
    "000*000 3\n",
    "00***00 2\n",
    "0*****0 1\n",
    "\n",
    "2 * 1 - 1\n",
    "2 * 2 - 1\n",
    "2 * 3 - 1\n",
    "2 * 4 - 1\n",
    "\"\"\"\n",
    "for i in range(1, 5):\n",
    "\tn_star = 2 * i - 1\n",
    "\tn_blank = (7 - n_star) // 2\n",
    "\t\n",
    "\tstars = '*' * n_star\n",
    "\tblanks = ' ' * n_blank\n",
    "\tprint(f'{blanks}{stars}{blanks}')"
   ]
  },
  {
   "cell_type": "markdown",
   "metadata": {},
   "source": [
    "### 문제 3. 별찍기 문제 - 아래와 같은 모양의 별을 찍는 코드를 작성하세요.\n",
    "\n",
    "\t*****\n",
    " \t *** \n",
    "  \t  *  "
   ]
  },
  {
   "cell_type": "code",
   "execution_count": 3,
   "metadata": {},
   "outputs": [
    {
     "name": "stdout",
     "output_type": "stream",
     "text": [
      "*****\n",
      " *** \n",
      "  *  \n"
     ]
    }
   ],
   "source": [
    "\"\"\"\n",
    "***** 0\n",
    "0***0 1\n",
    "00*00 2\n",
    "\"\"\"\n",
    "\n",
    "for i in range(3):\n",
    "\tn_blank = 2 * i\n",
    "\tn_star = 5 - n_blank\n",
    "\t\n",
    "\tstars = '*' * n_star\n",
    "\tblanks = ' ' * (n_blank // 2)\n",
    "\tprint(f'{blanks}{stars}{blanks}')"
   ]
  },
  {
   "cell_type": "markdown",
   "metadata": {},
   "source": [
    "### 문제 4. 별찍기 문제 - 아래와 같은 모양의 별을 찍는 코드를 작성하세요.\n",
    "\n",
    "\t*********\n",
    "\t ******* \n",
    "\t  *****  \n",
    "\t   ***   \n",
    "\t    *    \n",
    "\t   ***   \n",
    "\t  *****  \n",
    "\t ******* \n",
    "\t*********"
   ]
  },
  {
   "cell_type": "code",
   "execution_count": 19,
   "metadata": {},
   "outputs": [
    {
     "name": "stdout",
     "output_type": "stream",
     "text": [
      "*********\n",
      " ******* \n",
      "  *****  \n",
      "   ***   \n",
      "    *    \n",
      "   ***   \n",
      "  *****  \n",
      " ******* \n",
      "*********\n"
     ]
    }
   ],
   "source": [
    "\"\"\"\n",
    "********* 0\n",
    "0*******0 1\n",
    "00*****00 2\n",
    "000***000 3\n",
    "0000*0000 4\n",
    "000***000 5 --> 6\n",
    "00*****00 6 --> 4\n",
    "0*******0 7 --> 2\n",
    "********* 8 --> 0\n",
    "\"\"\"\n",
    "for i in range(9):\n",
    "\tif i <= (9 // 2):\n",
    "\t\tn_blank = 2 * i\n",
    "\t\tn_star = 9 - n_blank\n",
    "\t\tblanks = ' ' * (n_blank // 2)\n",
    "\t\tstars = '*' * n_star\n",
    "\telse: ## 5, 6, 7, 8\n",
    "\t\tn_blank = 9 - (i + 1)\n",
    "\t\tn_star = 9 - (n_blank * 2)\n",
    "\t\tblanks = ' ' * n_blank\n",
    "\t\tstars = '*' * n_star\n",
    "\n",
    "\tprint(f'{blanks}{stars}{blanks}')"
   ]
  },
  {
   "cell_type": "code",
   "execution_count": 49,
   "metadata": {},
   "outputs": [],
   "source": [
    "\"\"\"\n",
    "today : 오늘 날짜. YYYY.MM.DD\n",
    "    \"2022.05.19\"\t\n",
    "terms : 약관 유효 기관 배열. [약관종류(A to Z) '공백' 유효기간(정수)]  \n",
    "    [\"A 6\", \"B 12\", \"C 3\"]\n",
    "\n",
    "privacies : [개인정보 수집일자(YYYY.MM.DD) '공백' 약관종류(A to Z)]\n",
    "    [\"2021.05.02 A\", \"2021.07.01 B\", \"2022.02.19 C\", \"2022.02.20 C\"]\n",
    "\"\"\"\n",
    "\n",
    "def solution(today, terms, privacies):\n",
    "    answer = []\n",
    "    \n",
    "    # 오늘 날짜를 YYYYMMDD 형태의 정수로 변환\n",
    "    ty, tm, td = map(int, today.split('.'))\n",
    "    today_int = ty * 10000 + tm * 100 + td\n",
    "    \n",
    "    terms_dict = {}\n",
    "    for t in terms:\n",
    "        k, v = t.split(' ')\n",
    "        terms_dict[k] = int(v)\n",
    "\n",
    "    for idx, priv in enumerate(privacies):\n",
    "        join_ymd, join_type = priv.split(' ')\n",
    "        y, m, d = map(int, join_ymd.split('.'))\n",
    "        \n",
    "        # 유효기간을 더함\n",
    "        m += terms_dict[join_type]\n",
    "        while m > 12:\n",
    "            y += 1\n",
    "            m -= 12\n",
    "        \n",
    "        # 유효기간 마지막 날짜 조정\n",
    "        d -= 1\n",
    "        if d < 1:\n",
    "            m -= 1\n",
    "            if m < 1:\n",
    "                y -= 1\n",
    "                m = 12\n",
    "            d = 28\n",
    "        \n",
    "        # 유효기간이 끝나는 날짜를 YYYYMMDD 형태의 정수로 변환\n",
    "        expire_int = y * 10000 + m * 100 + d\n",
    "        \n",
    "        # 오늘 날짜와 비교\n",
    "        if today_int > expire_int:\n",
    "            answer.append(idx+1)\n",
    "\n",
    "    return answer\n"
   ]
  },
  {
   "cell_type": "code",
   "execution_count": 50,
   "metadata": {},
   "outputs": [
    {
     "data": {
      "text/plain": [
       "[1, 3]"
      ]
     },
     "execution_count": 50,
     "metadata": {},
     "output_type": "execute_result"
    }
   ],
   "source": [
    "solution(\n",
    "    \"2022.05.19\", \n",
    "    [\"A 6\", \"B 12\", \"C 3\"], \n",
    "    [\"2021.05.02 A\", \"2021.07.01 B\", \"2022.02.19 C\", \"2022.02.20 C\"]\n",
    ")"
   ]
  },
  {
   "cell_type": "code",
   "execution_count": 51,
   "metadata": {},
   "outputs": [
    {
     "data": {
      "text/plain": [
       "[1, 4, 5]"
      ]
     },
     "execution_count": 51,
     "metadata": {},
     "output_type": "execute_result"
    }
   ],
   "source": [
    "solution(\n",
    "    \"2020.01.01\",\t\n",
    "    [\"Z 3\", \"D 5\"],\n",
    "    [\"2019.01.01 D\", \"2019.11.15 Z\", \"2019.08.02 D\", \"2019.07.01 D\", \"2018.12.28 Z\"]\n",
    ")"
   ]
  },
  {
   "cell_type": "markdown",
   "metadata": {},
   "source": [
    "### 2. 크롤링 (문법 정리), method를 사용하여 표현해 주세요.\n",
    "- 셀레늄을 사용하여 웹 페이지를 어떻게 로드할 수 있나요?\n",
    "\n",
    "        from selenium import webdriver\n",
    "\n",
    "        driver = webdriver.Chrome('/path/to/chromedriver')  # chromedriver의 경로\n",
    "        driver.get('http://www.example.com')  # 원하는 URL로 이동\n",
    "\n",
    "- 셀레늄으로 웹 페이지에서 특정 요소를 어떻게 찾을 수 있나요? 요소를 찾을 수 있는 함수는 어떤 것들이 있나요? ex) ID, XPATH…\n",
    "\n",
    "        element_by_id = driver.find_element_by_id('id')\n",
    "        element_by_xpath = driver.find_element_by_xpath('//div[@class=\"example\"]')\n",
    "        element_by_class_name = driver.find_element_by_class_name('class_name')\n",
    "\n",
    "\n",
    "- 셀레늄으로 찾은 요소의 텍스트를 가져오려면 어떻게 해야 하나요?\n",
    "\n",
    "        text = element_by_id.text\n",
    "\n",
    "\n",
    "- 셀레늄에서 특정 텍스트를 입력하고 엔터 키를 누르는 방법은 무엇인가요?\n",
    "\n",
    "        from selenium.webdriver.common.keys import Keys\n",
    "\n",
    "        input_element = driver.find_element_by_id('input_id')\n",
    "        input_element.send_keys('검색어' + Keys.ENTER)\n",
    "\n",
    "\n",
    "- 셀레늄으로 찾은 요소의 속성값을 가져오려면 어떻게 해야 하나요?\n",
    "\n",
    "        attribute_value = element_by_id.get_attribute('href')\n",
    "\n",
    "\n",
    "- 셀레늄으로 웹 페이지를 스크롤하는 방법은 무엇인가요?\n",
    "\n",
    "        driver.execute_script(\"window.scrollTo(0, document.body.scrollHeight);\")  # 페이지 맨 아래로 스크롤\n",
    "\n",
    "- 셀레늄으로 특정 요소를 클릭하는 방법은 무엇인가요?\n",
    "\n",
    "        element_by_id.click()\n",
    "\n",
    "\n",
    "- 셀레늄으로 텍스트를 입력하는 방법은 무엇인가요?\n",
    "\n",
    "        input_element.send_keys('입력할 텍스트')\n",
    "\n",
    "\n",
    "- 셀레늄으로 웹 페이지에서 이전 페이지로 이동하는 방법은 무엇인가요?\n",
    "\n",
    "        driver.back()\n",
    "\n",
    "\n",
    "- 셀레늄으로 웹 페이지에서 다음 페이지로 이동하는 방법은 무엇인가요?\n",
    "\n",
    "        driver.forward()\n",
    "\n",
    "\n",
    "- 셀레늄의 Implicit Waits와 Explicit Waits의 차이점은 무엇인가요?\n",
    "\n",
    "        - Implicit Waits: 드라이버에게 요소를 찾을 때까지 최대 지정된 시간을 기다리라고 설정합니다. 설정 후에는 드라이버의 생명주기 동안 유효합니다.\n",
    "        - Explicit Waits: 특정 조건이 만족될 때까지만 기다리는 방법입니다. 특정 요소가 나타나거나, 어떤 상태가 될 때까지 명시적으로 기다립니다.\n"
   ]
  },
  {
   "cell_type": "markdown",
   "metadata": {},
   "source": []
  }
 ],
 "metadata": {
  "kernelspec": {
   "display_name": "AiLab",
   "language": "python",
   "name": "python3"
  },
  "language_info": {
   "codemirror_mode": {
    "name": "ipython",
    "version": 3
   },
   "file_extension": ".py",
   "mimetype": "text/x-python",
   "name": "python",
   "nbconvert_exporter": "python",
   "pygments_lexer": "ipython3",
   "version": "3.8.19"
  }
 },
 "nbformat": 4,
 "nbformat_minor": 2
}
