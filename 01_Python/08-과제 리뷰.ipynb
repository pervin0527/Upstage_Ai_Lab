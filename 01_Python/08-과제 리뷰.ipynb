{
 "cells": [
  {
   "cell_type": "code",
   "execution_count": 1,
   "metadata": {},
   "outputs": [],
   "source": [
    "import time\n",
    "import pandas as pd\n",
    "\n",
    "from selenium import webdriver\n",
    "from selenium.webdriver.common.by import By"
   ]
  },
  {
   "cell_type": "code",
   "execution_count": 2,
   "metadata": {},
   "outputs": [
    {
     "name": "stdout",
     "output_type": "stream",
     "text": [
      "https://play.google.com/store/search?q=배달의 민족&c=apps\n"
     ]
    }
   ],
   "source": [
    "# keyword = input(\"수집하고자 하는 앱의 이름을 입력하세요. : \")\n",
    "keyword = '배달의 민족'\n",
    "url = f'https://play.google.com/store/search?q={keyword}&c=apps'\n",
    "\n",
    "print(url)"
   ]
  },
  {
   "cell_type": "code",
   "execution_count": 3,
   "metadata": {},
   "outputs": [],
   "source": [
    "browser = webdriver.Chrome()\n",
    "browser.get(url)"
   ]
  },
  {
   "cell_type": "code",
   "execution_count": 4,
   "metadata": {},
   "outputs": [
    {
     "name": "stdout",
     "output_type": "stream",
     "text": [
      "https://play.google.com/store/apps/details?id=com.sampleapp\n"
     ]
    }
   ],
   "source": [
    "app_url = browser.find_element(By.CLASS_NAME, 'ipRz4').find_element(By.TAG_NAME, 'a')\n",
    "print(app_url.get_attribute('href'))\n",
    "app_url.click()"
   ]
  },
  {
   "cell_type": "code",
   "execution_count": 5,
   "metadata": {},
   "outputs": [],
   "source": [
    "## 리뷰 버튼 클릭.(크롤링 브라우저에서 XPATH를 가져와서 적용했음.)\n",
    "## 유저 브라우저 XPath : //*[@id=\"ow3969\"]/section/header/div/div[2]/button\n",
    "## 크롤러 브라우저 XPath : //*[@id=\"yDmH0d\"]/c-wiz[3]/div/div/div[1]/div/div[2]/div/div[1]/div[1]/c-wiz[5]/section/header/div/div[2]/button\n",
    "## //*[@id=\"yDmH0d\"]/c-wiz[3]/div/div/div[1]/div/div[2]/div/div[1]/div[1]/c-wiz[5]/section/header/div/div[2]/button\n",
    "\n",
    "time.sleep(2)\n",
    "btn_xpath = '//*[@id=\"yDmH0d\"]/c-wiz[3]/div/div/div[1]/div/div[2]/div/div[1]/div[1]/c-wiz[5]/section/header/div/div[2]/button'\n",
    "review_btn = browser.find_element(By.XPATH, btn_xpath)\n",
    "review_btn.click()"
   ]
  },
  {
   "cell_type": "code",
   "execution_count": 6,
   "metadata": {},
   "outputs": [],
   "source": [
    "## 스크롤 내리기.\n",
    "## 마우스 포인터를 리뷰 창 내부로 옮겨줘야함.(헤더 부분 클릭)\n",
    "review_window_header = browser.find_element(By.CLASS_NAME, 'fysCi') ## 모달창 클릭.\n",
    "review_window_header.click()"
   ]
  },
  {
   "cell_type": "code",
   "execution_count": 7,
   "metadata": {},
   "outputs": [],
   "source": [
    "## javascript scrollto 구글에 검색.\n",
    "modal_element = browser.find_element(By.CLASS_NAME, 'fysCi')\n",
    "\n",
    "for i in range(3):\n",
    "\tjs_code = 'arguments[0].scrollTo(0, arguments[0].scrollHeight)'\n",
    "\tbrowser.execute_script(js_code, modal_element) ## 자바 스크립트 코드를 실행시키겠다.\n",
    "\ttime.sleep(1.5)"
   ]
  },
  {
   "cell_type": "code",
   "execution_count": 8,
   "metadata": {},
   "outputs": [
    {
     "name": "stdout",
     "output_type": "stream",
     "text": [
      "80\n",
      "80\n"
     ]
    }
   ],
   "source": [
    "## 리뷰 항목 가져오기.\n",
    "reviews = browser.find_elements(By.CLASS_NAME, 'RHo1pe')\n",
    "print(len(reviews))\n",
    "\n",
    "data_list = []\n",
    "for review in reviews:\n",
    "    username = review.find_element(By.CLASS_NAME, 'X5PpBb').text\n",
    "    rank = review.find_element(By.CLASS_NAME, 'iXRFPc').get_attribute('aria-label')\n",
    "    rank = rank[10:11]\n",
    "    date = review.find_element(By.CLASS_NAME, 'bp9Aid').text\n",
    "    content = review.find_element(By.CLASS_NAME, 'h3YV2d').text\n",
    "\n",
    "    # print(username, rank, date, content)\n",
    "    data_list.append({\n",
    "        '사용자명' : username, \n",
    "        '평점' : rank,\n",
    "        '작성일' : date,\n",
    "        '작성내용' : content\n",
    "    })\n",
    "\n",
    "print(len(data_list))"
   ]
  },
  {
   "cell_type": "code",
   "execution_count": 9,
   "metadata": {},
   "outputs": [],
   "source": [
    "df = pd.DataFrame(data_list)\n",
    "df.to_csv('08-Play Store App Review.csv')\n",
    "browser.close()"
   ]
  }
 ],
 "metadata": {
  "kernelspec": {
   "display_name": "base",
   "language": "python",
   "name": "python3"
  },
  "language_info": {
   "codemirror_mode": {
    "name": "ipython",
    "version": 3
   },
   "file_extension": ".py",
   "mimetype": "text/x-python",
   "name": "python",
   "nbconvert_exporter": "python",
   "pygments_lexer": "ipython3",
   "version": "3.9.13"
  }
 },
 "nbformat": 4,
 "nbformat_minor": 2
}
