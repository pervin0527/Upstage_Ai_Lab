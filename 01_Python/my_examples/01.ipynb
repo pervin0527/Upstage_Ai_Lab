{
 "cells": [
  {
   "cell_type": "code",
   "execution_count": 1,
   "metadata": {},
   "outputs": [],
   "source": [
    "from selenium import webdriver\n",
    "from selenium.webdriver.common.by import By\n",
    "from webdriver_manager.chrome import ChromeDriverManager"
   ]
  },
  {
   "cell_type": "code",
   "execution_count": 2,
   "metadata": {},
   "outputs": [
    {
     "data": {
      "text/plain": [
       "'/Users/pervin0527/.wdm/drivers/chromedriver/mac64/123.0.6312.86/chromedriver-mac-x64/chromedriver'"
      ]
     },
     "execution_count": 2,
     "metadata": {},
     "output_type": "execute_result"
    }
   ],
   "source": [
    "ChromeDriverManager().install()"
   ]
  },
  {
   "cell_type": "code",
   "execution_count": 3,
   "metadata": {},
   "outputs": [],
   "source": [
    "browser = webdriver.Chrome()\n",
    "\n",
    "url = \"https://www.naver.com\"\n",
    "browser.get(url)"
   ]
  },
  {
   "cell_type": "code",
   "execution_count": 4,
   "metadata": {},
   "outputs": [],
   "source": [
    "## 검색\n",
    "browser.find_element(By.CLASS_NAME, 'search_input').click() ## 검색창 클릭.\n",
    "browser.find_element(By.ID, 'query').send_keys('원달러 환율') ## 검색창에 \"원달러 환율\" 입력\n",
    "browser.find_element(By.XPATH, '/html/body/div[2]/div[1]/div/div[3]/div[2]/div/form/fieldset/button').click() ## 검색버튼(돋보기) 클릭."
   ]
  },
  {
   "cell_type": "code",
   "execution_count": 5,
   "metadata": {},
   "outputs": [],
   "source": [
    "\"\"\"\n",
    "element라는 변수가 Python에서만 다루는 객체처럼 보일 수 있지만, 실제로는 그것이 참조하는 HTML 요소에 대한 작업이 브라우저 상에서 이루어지게 된다.\n",
    "\"\"\"\n",
    "element = browser.find_element(By.CLASS_NAME, '_input')\n",
    "element.clear() ## 기존에 있던 html 원소 값을 지움.\n",
    "element.send_keys(1000)"
   ]
  },
  {
   "cell_type": "code",
   "execution_count": 6,
   "metadata": {},
   "outputs": [
    {
     "name": "stdout",
     "output_type": "stream",
     "text": [
      "1,000\n",
      "1,347.50\n"
     ]
    }
   ],
   "source": [
    "## 동일한 클래스명을 갖는 경우 find_elements를 통해 모두 가져온다.\n",
    "elements = browser.find_elements(By.CLASS_NAME, \"_input\")\n",
    "for element in elements:\n",
    "    print(element.get_attribute('value'))"
   ]
  }
 ],
 "metadata": {
  "kernelspec": {
   "display_name": "base",
   "language": "python",
   "name": "python3"
  },
  "language_info": {
   "codemirror_mode": {
    "name": "ipython",
    "version": 3
   },
   "file_extension": ".py",
   "mimetype": "text/x-python",
   "name": "python",
   "nbconvert_exporter": "python",
   "pygments_lexer": "ipython3",
   "version": "3.9.13"
  }
 },
 "nbformat": 4,
 "nbformat_minor": 2
}
