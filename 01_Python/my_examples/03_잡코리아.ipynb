{
 "cells": [
  {
   "cell_type": "code",
   "execution_count": 1,
   "metadata": {},
   "outputs": [],
   "source": [
    "import time\n",
    "import pandas as pd\n",
    "\n",
    "from selenium import webdriver\n",
    "from selenium.webdriver.common.by import By\n",
    "from selenium.common.exceptions import NoSuchElementException"
   ]
  },
  {
   "cell_type": "code",
   "execution_count": 2,
   "metadata": {},
   "outputs": [],
   "source": [
    "url = 'https://www.jobkorea.co.kr/'\n",
    "keyword = '딥러닝'\n",
    "\n",
    "browser = webdriver.Chrome()\n",
    "browser.get(url)"
   ]
  },
  {
   "cell_type": "code",
   "execution_count": 3,
   "metadata": {},
   "outputs": [],
   "source": [
    "search = browser.find_element(By.CLASS_NAME, 'smKey')\n",
    "search.find_element(By.TAG_NAME, 'input').send_keys('딥러닝')\n",
    "search_btn = browser.find_element(By.CLASS_NAME, 'spGnb')\n",
    "search_btn.click()"
   ]
  },
  {
   "cell_type": "code",
   "execution_count": 4,
   "metadata": {},
   "outputs": [
    {
     "name": "stdout",
     "output_type": "stream",
     "text": [
      "Page No : 1, There are 20 job openings. --> Current num of data : 20\n",
      "Page No : 2, There are 20 job openings. --> Current num of data : 40\n",
      "Page No : 3, There are 20 job openings. --> Current num of data : 60\n",
      "Page No : 4, There are 20 job openings. --> Current num of data : 80\n",
      "Page No : 5, There are 20 job openings. --> Current num of data : 100\n"
     ]
    }
   ],
   "source": [
    "## 최초 검색 시 URL : https://www.jobkorea.co.kr/Search/?stext=%EB%94%A5%EB%9F%AC%EB%8B%9D\n",
    "## 두번째 페이지 URL : https://www.jobkorea.co.kr/Search/?stext=%EB%94%A5%EB%9F%AC%EB%8B%9D&tabType=recruit&Page_No=2\n",
    "\n",
    "total_data = []\n",
    "\n",
    "idx = 1\n",
    "while True:\n",
    "    if idx == 6:\n",
    "        break\n",
    "\n",
    "    if idx > 1:\n",
    "        url = f'https://www.jobkorea.co.kr/Search/?stext=%EB%94%A5%EB%9F%AC%EB%8B%9D&tabType=recruit&Page_No={idx}'\n",
    "        try:\n",
    "            browser.get(url)\n",
    "        except:\n",
    "            print(f'Page Not Found. Current Page No : {idx}')\n",
    "            break\n",
    "        \n",
    "    time.sleep(5)\n",
    "    container = browser.find_element(By.CLASS_NAME, 'list-default')\n",
    "    blocks = container.find_elements(By.CLASS_NAME, 'list-post')\n",
    "\n",
    "    print(f\"Page No : {idx}, There are {len(blocks)} job openings.\", end=\" \")\n",
    "    for i, block in enumerate(blocks):\n",
    "        try:\n",
    "            company_name = block.find_element(By.CLASS_NAME, 'post-list-corp').find_element(By.TAG_NAME, 'a').text\n",
    "            list_info = block.find_element(By.CLASS_NAME, 'post-list-info').find_element(By.TAG_NAME, 'a')\n",
    "            title = list_info.get_attribute('title')\n",
    "            link = list_info.get_attribute('href')\n",
    "            \n",
    "            options = block.find_element(By.CLASS_NAME, 'option').find_elements(By.TAG_NAME, 'span')\n",
    "            options = ','.join([option.text for option in options])\n",
    "\n",
    "            detail_fields = block.find_element(By.CLASS_NAME, 'etc').text\n",
    "\n",
    "            data = {'회사명' : company_name, '채용공고 제목' : title, '채용공고 세부 사항' : options, '기술 세부 사항' : detail_fields, '링크' : link}\n",
    "            total_data.append(data)\n",
    "\n",
    "        except NoSuchElementException as e:\n",
    "            print(f'\\n\\tBlock No : {i}, \\n\\t{e}')\n",
    "            \n",
    "\n",
    "    print(f\"--> Current num of data : {len(total_data)}\")    \n",
    "\n",
    "    idx += 1"
   ]
  },
  {
   "cell_type": "code",
   "execution_count": 5,
   "metadata": {},
   "outputs": [],
   "source": [
    "df = pd.DataFrame(total_data)\n",
    "df.to_csv(\"JobKorea_data.csv\", encoding='utf-8-sig')\n",
    "browser.close()"
   ]
  },
  {
   "cell_type": "code",
   "execution_count": null,
   "metadata": {},
   "outputs": [],
   "source": []
  }
 ],
 "metadata": {
  "kernelspec": {
   "display_name": "base",
   "language": "python",
   "name": "python3"
  },
  "language_info": {
   "codemirror_mode": {
    "name": "ipython",
    "version": 3
   },
   "file_extension": ".py",
   "mimetype": "text/x-python",
   "name": "python",
   "nbconvert_exporter": "python",
   "pygments_lexer": "ipython3",
   "version": "3.9.13"
  }
 },
 "nbformat": 4,
 "nbformat_minor": 2
}
