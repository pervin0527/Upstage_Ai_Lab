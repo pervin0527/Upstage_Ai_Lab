{
 "cells": [
  {
   "cell_type": "code",
   "execution_count": 1,
   "metadata": {},
   "outputs": [],
   "source": [
    "import time\n",
    "import pandas as pd\n",
    "\n",
    "from selenium import webdriver\n",
    "from selenium.webdriver.common.by import By\n",
    "from selenium.common.exceptions import NoSuchElementException"
   ]
  },
  {
   "cell_type": "code",
   "execution_count": 2,
   "metadata": {},
   "outputs": [],
   "source": [
    "url = 'https://www.saramin.co.kr/'\n",
    "keyword = '딥러닝'\n",
    "\n",
    "browser = webdriver.Chrome()\n",
    "browser.get(url)"
   ]
  },
  {
   "cell_type": "code",
   "execution_count": 3,
   "metadata": {},
   "outputs": [],
   "source": [
    "search_btn = browser.find_element(By.CLASS_NAME, 'btn_search').click()\n",
    "\n",
    "keyword_input = browser.find_element(By.ID, 'ipt_keyword_recruit')\n",
    "keyword_input.click()\n",
    "keyword_input.send_keys(keyword)\n",
    "\n",
    "btn_search_recruit = browser.find_element(By.ID, 'btn_search_recruit')\n",
    "btn_search_recruit.click()"
   ]
  },
  {
   "cell_type": "code",
   "execution_count": 4,
   "metadata": {},
   "outputs": [
    {
     "name": "stdout",
     "output_type": "stream",
     "text": [
      "Page No : 1, There are 40 job openings. --> Current num of data : 40\n",
      "Page No : 2, There are 40 job openings. --> Current num of data : 80\n",
      "Page No : 3, There are 40 job openings. --> Current num of data : 120\n",
      "Page No : 4, There are 40 job openings. --> Current num of data : 160\n",
      "Page No : 5, There are 40 job openings. --> Current num of data : 200\n"
     ]
    }
   ],
   "source": [
    "total_data = []\n",
    "\n",
    "idx = 1\n",
    "while True:\n",
    "    if idx == 6:\n",
    "        break\n",
    "\n",
    "    if idx > 1:\n",
    "        url = f'https://www.saramin.co.kr/zf_user/search/recruit?search_area=main&search_done=y&search_optional_item=n&searchType=search&searchword=%EB%94%A5%EB%9F%AC%EB%8B%9D&recruitPage={idx}&recruitSort=relation&recruitPageCount=40&inner_com_type=&company_cd=0%2C1%2C2%2C3%2C4%2C5%2C6%2C7%2C9%2C10&show_applied=&quick_apply=&except_read=&ai_head_hunting='\n",
    "        try:\n",
    "            browser.get(url)\n",
    "        except:\n",
    "            print(f'Page Not Found. Current Page No : {idx}')\n",
    "            break\n",
    "\n",
    "    time.sleep(3)\n",
    "    container = browser.find_element(By.CLASS_NAME, 'content')\n",
    "    blocks = container.find_elements(By.CLASS_NAME, 'item_recruit')\n",
    "    \n",
    "    print(f\"Page No : {idx}, There are {len(blocks)} job openings.\", end=\" \")\n",
    "    for i, block in enumerate(blocks):\n",
    "        try:\n",
    "            company_name = block.find_element(By.CLASS_NAME, 'corp_name').find_element(By.TAG_NAME, 'a').text\n",
    "            \n",
    "            job_tit = block.find_element(By.CLASS_NAME, 'job_tit').find_element(By.TAG_NAME, 'a')\n",
    "            title = job_tit.get_attribute('title')\n",
    "            link = job_tit.get_attribute('href')\n",
    "            \n",
    "            options = []\n",
    "            job_condition = block.find_element(By.CLASS_NAME, 'job_condition').find_elements(By.TAG_NAME, 'span')\n",
    "            for j, condition in enumerate(job_condition):\n",
    "                if j == 0:\n",
    "                    regions = condition.find_elements(By.TAG_NAME, 'a')\n",
    "                    regions = ','.join([region.text for region in regions])\n",
    "                    options.append(regions)\n",
    "                else:\n",
    "                    options.append(condition.text)\n",
    "            options = ','.join([option for option in options])\n",
    "\n",
    "            detail_fields = block.find_element(By.CLASS_NAME, 'job_sector').find_elements(By.TAG_NAME, 'a')\n",
    "            detail_fields = ','.join([x.text for x in detail_fields])\n",
    "\n",
    "            data = {'회사명' : company_name, '채용공고 제목' : title, '채용공고 세부 사항' : options, '기술 세부 사항' : detail_fields, '링크' : link}\n",
    "            total_data.append(data)\n",
    "        \n",
    "        except NoSuchElementException as e:\n",
    "            print(f'\\n\\tBlock No : {i}, \\n\\t{e}')\n",
    "\n",
    "    print(f\"--> Current num of data : {len(total_data)}\")\n",
    "    idx += 1"
   ]
  },
  {
   "cell_type": "code",
   "execution_count": 5,
   "metadata": {},
   "outputs": [],
   "source": [
    "df = pd.DataFrame(total_data)\n",
    "df.to_csv(\"Saramin.csv\", encoding='utf-8-sig')\n",
    "browser.close()"
   ]
  }
 ],
 "metadata": {
  "kernelspec": {
   "display_name": "base",
   "language": "python",
   "name": "python3"
  },
  "language_info": {
   "codemirror_mode": {
    "name": "ipython",
    "version": 3
   },
   "file_extension": ".py",
   "mimetype": "text/x-python",
   "name": "python",
   "nbconvert_exporter": "python",
   "pygments_lexer": "ipython3",
   "version": "3.9.13"
  }
 },
 "nbformat": 4,
 "nbformat_minor": 2
}
