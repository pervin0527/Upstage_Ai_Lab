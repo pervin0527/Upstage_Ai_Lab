{
 "cells": [
  {
   "cell_type": "code",
   "execution_count": 1,
   "metadata": {},
   "outputs": [],
   "source": [
    "import time\n",
    "import pandas as pd\n",
    "\n",
    "from selenium import webdriver\n",
    "from selenium.webdriver.common.by import By\n",
    "from selenium.common.exceptions import NoSuchAttributeException"
   ]
  },
  {
   "cell_type": "code",
   "execution_count": 2,
   "metadata": {},
   "outputs": [],
   "source": [
    "url = 'https://www.wanted.co.kr/'\n",
    "keyword = '딥러닝'\n",
    "\n",
    "browser = webdriver.Chrome()\n",
    "browser.get(url)"
   ]
  },
  {
   "cell_type": "code",
   "execution_count": 3,
   "metadata": {},
   "outputs": [],
   "source": [
    "find_btn = browser.find_element(By.XPATH, '//*[@id=\"__next\"]/main/section/article[1]/ul/li[1]').find_element(By.TAG_NAME, 'a').click()\n",
    "\n",
    "time.sleep(3)\n",
    "jobs_btn = browser.find_element(By.CLASS_NAME, 'JobGroup_JobGroup__H1m1m').click()\n",
    "\n",
    "time.sleep(3)\n",
    "dev_btn = browser.find_element(By.XPATH, '//*[@id=\"__next\"]/div[3]/article/div/div[1]/section/ul/li[1]/a').click()\n",
    "pos_btn = browser.find_element(By.XPATH, '//*[@id=\"__next\"]/div[3]/article/div/div[2]/button/span[2]').click()\n",
    "dl_dev_btn = browser.find_element(By.XPATH, '//*[@id=\"__next\"]/div[3]/article/div/div[2]/section/div[1]/div/button[9]').click()\n",
    "search_btn = browser.find_element(By.XPATH, '//*[@id=\"__next\"]/div[3]/article/div/div[2]/section/div[2]/button/span[2]').click()"
   ]
  },
  {
   "cell_type": "code",
   "execution_count": 4,
   "metadata": {},
   "outputs": [],
   "source": [
    "last_height = browser.execute_script(\"return document.body.scrollHeight\")\n",
    "\n",
    "while True:\n",
    "    browser.execute_script(\"window.scrollTo(0, document.body.scrollHeight);\")\n",
    "\n",
    "    time.sleep(4)\n",
    "    new_height = browser.execute_script(\"return document.body.scrollHeight\")\n",
    "    if new_height == last_height:\n",
    "        break\n",
    "\n",
    "    last_height = new_height"
   ]
  },
  {
   "cell_type": "code",
   "execution_count": 5,
   "metadata": {},
   "outputs": [
    {
     "name": "stdout",
     "output_type": "stream",
     "text": [
      "333\n"
     ]
    }
   ],
   "source": [
    "container = browser.find_element(By.CLASS_NAME, 'List_List__FsLch')\n",
    "blocks = container.find_elements(By.CLASS_NAME, 'JobCard_JobCard__oZL4d')\n",
    "print(len(blocks))"
   ]
  },
  {
   "cell_type": "code",
   "execution_count": 10,
   "metadata": {},
   "outputs": [
    {
     "name": "stdout",
     "output_type": "stream",
     "text": [
      "• 정형/비정형 문서의 인식 모델 개발\n",
      "• AI 엔진 성능 향상을 위한 딥러닝 모델 개발\n",
      "• 딥러닝 모델 serving을 위한 변환 및 최적화\n",
      "• 모델 성능 개선 및 관리\n",
      "• 머신러닝 관련 개발/연구 경력이 5년 이상이거나 그에 준하는 역량을 보유하신 분\n",
      "• 팀 리딩이 가능하신 분\n",
      "• 아래 내용에 대한 지식, 논문 작성 경험 및 논문 구현 능력이 있는 분\n",
      "    - 컴퓨터비전\n",
      "    - 자연어처리\n",
      "    - 딥러닝 / 머신러닝\n",
      "• 본인이 구현한 코드, 업무의 진행 상황 및 결과 등을 정확하고 체계적으로 문서화할 수 있는 능력이 있는 분\n",
      "• 이공계(전공 무관) 학사 이상이신 분\n",
      "\n",
      "다양한 분야의 연구 경험 보유자로, 각 연구에 대한 본인의 Contribution, 연구 내용, 문제점 도출, 해결에 따른 결과물 등을 잘 표현해 주시면 더욱 좋습니다. 이 과정에서 어려움과 문제 해결을 하는 방식 및 지적 호기심을 보여주시면 더욱 좋으며, 팀 리딩이 가능하시면 가장 좋습니다.\n",
      "\n",
      "• 주요 스택 : Pytorch, Tensorflow, OpenCV, Huggingface\n"
     ]
    }
   ],
   "source": [
    "for block in blocks:\n",
    "    card = block.find_element(By.TAG_NAME, 'a')\n",
    "    comany_name = card.get_attribute('data-company-name')\n",
    "    title = card.get_attribute('data-position-name')\n",
    "    link = card.get_attribute('href')\n",
    "\n",
    "    page = webdriver.Chrome()\n",
    "    page.get(link)\n",
    "\n",
    "    main_tasks = page.find_element(By.XPATH, '//*[@id=\"__next\"]/main/div[1]/div/section/section/article[1]/div/div[1]').find_element(By.TAG_NAME, 'span').text\n",
    "    print(main_tasks)\n",
    "\n",
    "    reqirements = page.find_element(By.XPATH, '//*[@id=\"__next\"]/main/div[1]/div/section/section/article[1]/div/div[2]').find_element(By.TAG_NAME, 'span').text\n",
    "    print(reqirements)\n",
    "\n",
    "    page.close()\n",
    "\n",
    "    break"
   ]
  },
  {
   "cell_type": "code",
   "execution_count": null,
   "metadata": {},
   "outputs": [],
   "source": []
  }
 ],
 "metadata": {
  "kernelspec": {
   "display_name": "base",
   "language": "python",
   "name": "python3"
  },
  "language_info": {
   "codemirror_mode": {
    "name": "ipython",
    "version": 3
   },
   "file_extension": ".py",
   "mimetype": "text/x-python",
   "name": "python",
   "nbconvert_exporter": "python",
   "pygments_lexer": "ipython3",
   "version": "3.9.13"
  }
 },
 "nbformat": 4,
 "nbformat_minor": 2
}
