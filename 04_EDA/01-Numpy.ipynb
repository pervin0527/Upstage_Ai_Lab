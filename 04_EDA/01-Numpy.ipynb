{
 "cells": [
  {
   "cell_type": "code",
   "execution_count": 1,
   "metadata": {},
   "outputs": [],
   "source": [
    "import numpy as np"
   ]
  },
  {
   "cell_type": "markdown",
   "metadata": {},
   "source": [
    "### 1. Numpy Array and Operation\n",
    "\n",
    "- numpy의 기본적인 사용법에 대해서 배워봅니다.\n",
    "\n",
    "\n",
    "- numpy에서 numpy.array를 만드는 여러가지 방법과 지원하는 연산자에 대해서 공부합니다.\n",
    "\n",
    "\n",
    "< numpy array의 특징 >\n",
    "1. 모든 원소의 dtype이 같다.\n",
    "\n",
    "2. 연산의 의미가 조금 다르다. (broadcasting)\n",
    "\n",
    "3. 대용량 array인 경우에 for문을 직접 사용하는 것보다 내부적으로 정의된 연산을 사용하는게 더 빠르다.\n",
    "\n",
    "4. 생성 후에 크기 변경이 불가능하다."
   ]
  },
  {
   "cell_type": "markdown",
   "metadata": {},
   "source": [
    "### 1.1. Numpy Array creation"
   ]
  },
  {
   "cell_type": "code",
   "execution_count": 2,
   "metadata": {},
   "outputs": [
    {
     "data": {
      "text/plain": [
       "array([1, 2, 3, 4])"
      ]
     },
     "execution_count": 2,
     "metadata": {},
     "output_type": "execute_result"
    }
   ],
   "source": [
    "data = [1, 2, 3, 4]\n",
    "np.array(data)"
   ]
  },
  {
   "cell_type": "code",
   "execution_count": 5,
   "metadata": {},
   "outputs": [
    {
     "data": {
      "text/plain": [
       "(2, 2)"
      ]
     },
     "execution_count": 5,
     "metadata": {},
     "output_type": "execute_result"
    }
   ],
   "source": [
    "data2 = [[1, 2], \n",
    "         [3, 4]]\n",
    "arr2 = np.array(data2)\n",
    "arr2.shape"
   ]
  },
  {
   "cell_type": "code",
   "execution_count": 6,
   "metadata": {},
   "outputs": [
    {
     "data": {
      "text/plain": [
       "array([[-2.29156114,  0.98138576,  0.0735142 ],\n",
       "       [ 0.64898323,  0.40222537, -0.23131237],\n",
       "       [-1.01101436,  0.07909985,  0.99006783],\n",
       "       [-0.96488607,  0.85837019,  0.45079753],\n",
       "       [-1.20289577, -1.31985769, -0.3670272 ]])"
      ]
     },
     "execution_count": 6,
     "metadata": {},
     "output_type": "execute_result"
    }
   ],
   "source": [
    "# 0부터 9까지 숫자를 자동으로 생성한 array\n",
    "np.arange(0, 10)\n",
    "np.zeros(shape=(5, 3))\n",
    "np.linspace(0, 1, 100) # [start, stop]에서 num개의 number를 균등한 구간으로 잘라서 원소를 생성.\n",
    "np.random.randn(5, 3)  # 주어진 shape을 가지는 numpy array를 만들어주는데, 원소는 표준정규분포에서 sampling."
   ]
  },
  {
   "cell_type": "code",
   "execution_count": 7,
   "metadata": {},
   "outputs": [
    {
     "name": "stdout",
     "output_type": "stream",
     "text": [
      "[10 11 12 13 14 15 16 17 18 19 20 21 22 23 24 25 26 27 28 29 30 31 32 33\n",
      " 34 35 36 37 38 39 40 41 42 43 44 45 46 47 48 49 50 51 52 53 54 55 56 57\n",
      " 58 59 60 61 62 63 64 65 66 67 68 69 70 71 72 73 74 75 76 77 78 79 80 81\n",
      " 82 83 84 85 86 87 88 89 90 91 92 93 94 95 96 97 98 99]\n"
     ]
    }
   ],
   "source": [
    "# 10부터 99까지 숫자를 자동으로 생성한 array\n",
    "test = np.arange(10, 100)\n",
    "print(test)"
   ]
  },
  {
   "cell_type": "markdown",
   "metadata": {},
   "source": [
    "### 1.2. Reshaping array"
   ]
  },
  {
   "cell_type": "code",
   "execution_count": 8,
   "metadata": {},
   "outputs": [
    {
     "name": "stdout",
     "output_type": "stream",
     "text": [
      "[[[0. 0. 0. 0.]\n",
      "  [0. 0. 0. 0.]\n",
      "  [0. 0. 0. 0.]]\n",
      "\n",
      " [[0. 0. 0. 0.]\n",
      "  [0. 0. 0. 0.]\n",
      "  [0. 0. 0. 0.]]\n",
      "\n",
      " [[0. 0. 0. 0.]\n",
      "  [0. 0. 0. 0.]\n",
      "  [0. 0. 0. 0.]]\n",
      "\n",
      " [[0. 0. 0. 0.]\n",
      "  [0. 0. 0. 0.]\n",
      "  [0. 0. 0. 0.]]\n",
      "\n",
      " [[0. 0. 0. 0.]\n",
      "  [0. 0. 0. 0.]\n",
      "  [0. 0. 0. 0.]]]\n"
     ]
    }
   ],
   "source": [
    "## 1차원 : 벡터\n",
    "## 2차원 : 행렬\n",
    "## 3차원 이상 : 텐서\n",
    "\n",
    "## array의 shape은 가장 바깥 괄호 '['부터 원소의 개수를 순차적으로 기록한 것.\n",
    "x = np.zeros(shape=(5, 3, 4))\n",
    "print(x)\n",
    "\n",
    "## 224 x 224 크기의 RGB channel을 가지고 있는 이미지가 32개다.\n",
    "x = np.zeros(shape=(32, 3, 224, 224))"
   ]
  },
  {
   "cell_type": "code",
   "execution_count": 9,
   "metadata": {},
   "outputs": [
    {
     "name": "stdout",
     "output_type": "stream",
     "text": [
      "(3, 3)\n",
      "[[1 2 3]\n",
      " [4 5 6]\n",
      " [7 8 9]]\n"
     ]
    }
   ],
   "source": [
    "x = np.arange(1, 10).reshape(3, 3)\n",
    "print(x.shape)\n",
    "print(x)"
   ]
  },
  {
   "cell_type": "code",
   "execution_count": 10,
   "metadata": {},
   "outputs": [
    {
     "name": "stdout",
     "output_type": "stream",
     "text": [
      "(9,)\n",
      "[1 2 3 4 5 6 7 8 9]\n",
      "(9, 1)\n",
      "[[1]\n",
      " [2]\n",
      " [3]\n",
      " [4]\n",
      " [5]\n",
      " [6]\n",
      " [7]\n",
      " [8]\n",
      " [9]]\n"
     ]
    }
   ],
   "source": [
    "# reshape을 이용하여 만들어봅시다.\n",
    "# 주의1 - (9, )와 (9, 1)의 결과는 완전히 다르다.\n",
    "# 주의2 - 새로운 형태로 배열을 재구성할 때 원래 배열의 원소 수와 정확히 일치해야 한다.\n",
    "\n",
    "x1 = np.arange(1, 10).reshape(9,)\n",
    "print(x1.shape)\n",
    "print(x1)\n",
    "\n",
    "x2 = np.arange(1, 10).reshape(9, 1)\n",
    "print(x2.shape)\n",
    "print(x2)"
   ]
  },
  {
   "cell_type": "markdown",
   "metadata": {},
   "source": [
    "### 1.3. Concatenation of arrays"
   ]
  },
  {
   "cell_type": "code",
   "execution_count": 18,
   "metadata": {},
   "outputs": [
    {
     "name": "stdout",
     "output_type": "stream",
     "text": [
      "(6,)\n",
      "[1 2 3 4 5 6]\n",
      "(6,)\n",
      "[1 2 3 4 5 6]\n"
     ]
    }
   ],
   "source": [
    "arr1 = np.array([1, 2, 3])\n",
    "arr2 = np.array([4, 5, 6])\n",
    "\n",
    "arr3 = np.concatenate((arr1, arr2), axis=0)\n",
    "print(arr3.shape)\n",
    "print(arr3)"
   ]
  },
  {
   "cell_type": "code",
   "execution_count": 15,
   "metadata": {},
   "outputs": [
    {
     "data": {
      "text/plain": [
       "array([[1, 2, 3],\n",
       "       [4, 5, 6]])"
      ]
     },
     "execution_count": 15,
     "metadata": {},
     "output_type": "execute_result"
    }
   ],
   "source": [
    "# stacking vertically\n",
    "np.vstack([arr1, arr2])"
   ]
  },
  {
   "cell_type": "code",
   "execution_count": 16,
   "metadata": {},
   "outputs": [
    {
     "data": {
      "text/plain": [
       "array([1, 2, 3, 4, 5, 6])"
      ]
     },
     "execution_count": 16,
     "metadata": {},
     "output_type": "execute_result"
    }
   ],
   "source": [
    "# stacking horizontally\n",
    "np.hstack([arr1, arr2])"
   ]
  },
  {
   "cell_type": "markdown",
   "metadata": {},
   "source": [
    "## 1.4. Array Arithmetic (like vector) --> Universal Function"
   ]
  },
  {
   "cell_type": "code",
   "execution_count": 19,
   "metadata": {},
   "outputs": [
    {
     "name": "stdout",
     "output_type": "stream",
     "text": [
      "[5 7 9]\n",
      "[-3 -3 -3]\n",
      "[ 4 10 18]\n",
      "[0.25 0.4  0.5 ]\n",
      "32\n"
     ]
    }
   ],
   "source": [
    "## 벡터 연산\n",
    "v1 = np.array((1, 2, 3))\n",
    "v2 = np.array((4, 5, 6))\n",
    "\n",
    "print(v1 + v2)\n",
    "print(v1 - v2)\n",
    "print(v1 * v2)\n",
    "print(v1 / v2)\n",
    "print(v1 @ v2) ## dot product"
   ]
  },
  {
   "cell_type": "markdown",
   "metadata": {},
   "source": [
    "### 1.5. Broadcast and Universal Function\n",
    "\n",
    "서로 다른 크기의 배열 간에 산술 연산을 수행할 수 있게 해주는 메커니즘. 효율적으로 대규모 배열 연산을 수행할 수 있게 한다.\n",
    "\n",
    "- 규칙 1: 배열의 차원 수가 다르면, 차원 수가 적은 배열의 형태가 차원 수가 더 많은 배열의 형태와 같아질 때까지 왼쪽에 1을 추가합니다.  \n",
    "- 규칙 2: 특정 차원에서 크기가 다른 경우, 그 차원의 크기가 1인 배열이 다른 배열의 해당 차원 크기에 맞춰 확장됩니다.  \n",
    "\n",
    "서로 크기가 다른 numpy array를 연산할 때, 자동으로 연산을 전파(broadcast)해주는 기능. 행렬곱 연산을 할 때 편리하다."
   ]
  },
  {
   "cell_type": "code",
   "execution_count": 20,
   "metadata": {},
   "outputs": [
    {
     "name": "stdout",
     "output_type": "stream",
     "text": [
      "[[2 3 4]\n",
      " [3 4 5]\n",
      " [4 5 6]]\n"
     ]
    }
   ],
   "source": [
    "a = np.array([1, 2, 3])      # 1차원 배열 (3,)\n",
    "b = np.array([[1], [2], [3]]) # 2차원 배열 (3,1)\n",
    "\n",
    "# a는 1x3으로 확장되고, b는 각 행에 대해 1x3으로 확장됩니다.\n",
    "print(a + b)"
   ]
  },
  {
   "cell_type": "code",
   "execution_count": 21,
   "metadata": {},
   "outputs": [
    {
     "name": "stdout",
     "output_type": "stream",
     "text": [
      "[[11 21 31]\n",
      " [12 22 32]\n",
      " [13 23 33]]\n"
     ]
    }
   ],
   "source": [
    "a = np.array([1, 2, 3])    # 1차원 배열 (3,)\n",
    "b = np.array([10, 20, 30]) # 1차원 배열 (3,)\n",
    "\n",
    "# a는 (1, 3)으로 확장되고, b는 (3, 1)으로 확장되어 최종적으로 (3, 3) 배열이 됩니다.\n",
    "print(a[:, np.newaxis] + b)"
   ]
  },
  {
   "cell_type": "markdown",
   "metadata": {},
   "source": [
    "- Universal Function : broadcast 기능을 확장해서, numpy array의 모든 원소에 동일한 함수를 반복문으로 적용한 것과 같은 효과를 내는 기능."
   ]
  },
  {
   "cell_type": "code",
   "execution_count": 22,
   "metadata": {},
   "outputs": [],
   "source": [
    "# f = lambda x : 1/x\n",
    "arr1 / 1  ## int -> float\n",
    "\n",
    "## Universal Function\n",
    "1 / arr1  ## 각 원소를 reverse 연산.\n",
    "\n",
    "def reverse_num(x):\n",
    "    return 1/x\n",
    "for i in range(len(arr1)):\n",
    "    arr1[i] = reverse_num(arr1[i])"
   ]
  },
  {
   "cell_type": "markdown",
   "metadata": {},
   "source": [
    "## 2. Numpy Methods\n",
    "\n",
    "- numpy에서 사용되는 여러가지 함수들을 사용해봅시다."
   ]
  },
  {
   "cell_type": "markdown",
   "metadata": {},
   "source": [
    "### 2.1. Math Functions "
   ]
  },
  {
   "cell_type": "code",
   "execution_count": 23,
   "metadata": {},
   "outputs": [
    {
     "data": {
      "text/plain": [
       "array([[ 0.49671415, -0.1382643 ,  0.64768854],\n",
       "       [ 1.52302986, -0.23415337, -0.23413696],\n",
       "       [ 1.57921282,  0.76743473, -0.46947439],\n",
       "       [ 0.54256004, -0.46341769, -0.46572975],\n",
       "       [ 0.24196227, -1.91328024, -1.72491783]])"
      ]
     },
     "execution_count": 23,
     "metadata": {},
     "output_type": "execute_result"
    }
   ],
   "source": [
    "# 표준정규분포에서 random sampling을 한 원소를 가지는 5x3 행렬을 만든다.\n",
    "# pseudo-random : 현재 시각(ns)\n",
    "np.random.seed(42)   # set seed number\n",
    "mat1 = np.random.randn(5, 3)\n",
    "mat1"
   ]
  },
  {
   "cell_type": "code",
   "execution_count": 24,
   "metadata": {},
   "outputs": [
    {
     "data": {
      "text/plain": [
       "array([[0.49671415, 0.1382643 , 0.64768854],\n",
       "       [1.52302986, 0.23415337, 0.23413696],\n",
       "       [1.57921282, 0.76743473, 0.46947439],\n",
       "       [0.54256004, 0.46341769, 0.46572975],\n",
       "       [0.24196227, 1.91328024, 1.72491783]])"
      ]
     },
     "execution_count": 24,
     "metadata": {},
     "output_type": "execute_result"
    }
   ],
   "source": [
    "# mat1에 절대값 씌우기\n",
    "np.abs(mat1)"
   ]
  },
  {
   "cell_type": "code",
   "execution_count": 25,
   "metadata": {},
   "outputs": [
    {
     "data": {
      "text/plain": [
       "array([[0.24672495, 0.01911702, 0.41950044],\n",
       "       [2.31961994, 0.0548278 , 0.05482011],\n",
       "       [2.49391312, 0.58895606, 0.2204062 ],\n",
       "       [0.2943714 , 0.21475596, 0.2169042 ],\n",
       "       [0.05854574, 3.66064129, 2.97534153]])"
      ]
     },
     "execution_count": 25,
     "metadata": {},
     "output_type": "execute_result"
    }
   ],
   "source": [
    "# mat1 제곱하기\n",
    "np.square(mat1)"
   ]
  },
  {
   "cell_type": "code",
   "execution_count": 26,
   "metadata": {},
   "outputs": [
    {
     "data": {
      "text/plain": [
       "array([[0.70477951+0.j        , 0.        +0.37183908j,\n",
       "        0.80479099+0.j        ],\n",
       "       [1.23411096+0.j        , 0.        +0.48389397j,\n",
       "        0.        +0.48387701j],\n",
       "       [1.25666734+0.j        , 0.87603352+0.j        ,\n",
       "        0.        +0.68518201j],\n",
       "       [0.73658675+0.j        , 0.        +0.68074789j,\n",
       "        0.        +0.68244396j],\n",
       "       [0.49189661+0.j        , 0.        +1.38321374j,\n",
       "        0.        +1.31336127j]])"
      ]
     },
     "execution_count": 26,
     "metadata": {},
     "output_type": "execute_result"
    }
   ],
   "source": [
    "# mat1의 제곱근 구하기\n",
    "np.sqrt(mat1.astype('complex')) # nan = not a number"
   ]
  },
  {
   "cell_type": "code",
   "execution_count": 27,
   "metadata": {},
   "outputs": [
    {
     "data": {
      "text/plain": [
       "(array([1., 1.]),\n",
       " array([[1., 0.],\n",
       "        [0., 1.]]))"
      ]
     },
     "execution_count": 27,
     "metadata": {},
     "output_type": "execute_result"
    }
   ],
   "source": [
    "# linear algebra functions\n",
    "vec = np.array([1, 2, 3])\n",
    "\n",
    "# 1. norm\n",
    "np.linalg.norm(vec)\n",
    "\n",
    "# 2. eigenvalue\n",
    "mat = np.array([[1, 0],\n",
    "                [0, 1]])\n",
    "np.linalg.eig(mat)"
   ]
  },
  {
   "cell_type": "markdown",
   "metadata": {},
   "source": [
    "### 2.2. Aggregation functions "
   ]
  },
  {
   "cell_type": "code",
   "execution_count": 28,
   "metadata": {},
   "outputs": [
    {
     "data": {
      "text/plain": [
       "array([[0.57290783, 0.81519505],\n",
       "       [0.92585076, 0.09358959],\n",
       "       [0.26716135, 0.96059676]])"
      ]
     },
     "execution_count": 28,
     "metadata": {},
     "output_type": "execute_result"
    }
   ],
   "source": [
    "np.random.seed(0xC0FFEE)\n",
    "mat2 = np.random.rand(3, 2)\n",
    "mat2"
   ]
  },
  {
   "cell_type": "code",
   "execution_count": 30,
   "metadata": {},
   "outputs": [
    {
     "data": {
      "text/plain": [
       "3.635301352873192"
      ]
     },
     "execution_count": 30,
     "metadata": {},
     "output_type": "execute_result"
    }
   ],
   "source": [
    "np.sum(mat2)"
   ]
  },
  {
   "cell_type": "code",
   "execution_count": 29,
   "metadata": {},
   "outputs": [
    {
     "data": {
      "text/plain": [
       "array([1.38810288, 1.01944035, 1.22775812])"
      ]
     },
     "execution_count": 29,
     "metadata": {},
     "output_type": "execute_result"
    }
   ],
   "source": [
    "# Summation\n",
    "# axis=0 : 세로방향(=column방향), axis=1 : 가로방향(=row방향)\n",
    "np.sum(mat2, axis=1)"
   ]
  },
  {
   "cell_type": "code",
   "execution_count": 31,
   "metadata": {},
   "outputs": [
    {
     "data": {
      "text/plain": [
       "array([0.58863998, 0.62312714])"
      ]
     },
     "execution_count": 31,
     "metadata": {},
     "output_type": "execute_result"
    }
   ],
   "source": [
    "# mean\n",
    "np.mean(mat2, axis=0)"
   ]
  },
  {
   "cell_type": "code",
   "execution_count": 32,
   "metadata": {},
   "outputs": [
    {
     "data": {
      "text/plain": [
       "array([0.12114361, 0.41613058, 0.3467177 ])"
      ]
     },
     "execution_count": 32,
     "metadata": {},
     "output_type": "execute_result"
    }
   ],
   "source": [
    "# std\n",
    "np.std(mat2, axis=1)"
   ]
  },
  {
   "cell_type": "code",
   "execution_count": 33,
   "metadata": {},
   "outputs": [
    {
     "data": {
      "text/plain": [
       "array([0.81519505, 0.92585076, 0.96059676])"
      ]
     },
     "execution_count": 33,
     "metadata": {},
     "output_type": "execute_result"
    }
   ],
   "source": [
    "# min, max\n",
    "np.min(mat2)\n",
    "np.max(mat2, axis=1)"
   ]
  },
  {
   "cell_type": "code",
   "execution_count": 34,
   "metadata": {},
   "outputs": [
    {
     "data": {
      "text/plain": [
       "array([0, 1, 0])"
      ]
     },
     "execution_count": 34,
     "metadata": {},
     "output_type": "execute_result"
    }
   ],
   "source": [
    "# 최소값이 있는 Index\n",
    "np.argmin(mat2, axis=1)"
   ]
  },
  {
   "cell_type": "code",
   "execution_count": 35,
   "metadata": {},
   "outputs": [
    {
     "data": {
      "text/plain": [
       "array([1, 2])"
      ]
     },
     "execution_count": 35,
     "metadata": {},
     "output_type": "execute_result"
    }
   ],
   "source": [
    "# 최대값이 있는 Index\n",
    "np.argmax(mat2, axis=0)"
   ]
  },
  {
   "cell_type": "markdown",
   "metadata": {},
   "source": [
    "## 3. Performance Check\n",
    "- Universal Function 기능을 통해 반복문을 사용한 것보다 훨씬 빠른 성능을 냅니다.\n",
    "\n",
    "\n",
    "- 직접 실험을 통해 그 차이를 확인해보겠습니다."
   ]
  },
  {
   "cell_type": "code",
   "execution_count": 36,
   "metadata": {},
   "outputs": [],
   "source": [
    "np.random.seed(0)\n",
    "\n",
    "def reverse_num(values):\n",
    "    output = np.empty(len(values))\n",
    "    \n",
    "    for i in range(len(values)):\n",
    "        output[i] = 1.0 / values[i]\n",
    "    \n",
    "    return output"
   ]
  },
  {
   "cell_type": "code",
   "execution_count": 37,
   "metadata": {},
   "outputs": [],
   "source": [
    "# 1부터 100까지 범위에서 1000000개를 랜덤으로 뽑아서 array를 만듭니다.\n",
    "big_array = np.random.randint(1, 100, 10000000)"
   ]
  },
  {
   "cell_type": "code",
   "execution_count": 38,
   "metadata": {},
   "outputs": [
    {
     "name": "stdout",
     "output_type": "stream",
     "text": [
      "2.17 s ± 53.5 ms per loop (mean ± std. dev. of 7 runs, 1 loop each)\n"
     ]
    }
   ],
   "source": [
    "%timeit reverse_num(big_array)"
   ]
  },
  {
   "cell_type": "code",
   "execution_count": 39,
   "metadata": {},
   "outputs": [
    {
     "name": "stdout",
     "output_type": "stream",
     "text": [
      "23.1 ms ± 255 µs per loop (mean ± std. dev. of 7 runs, 10 loops each)\n"
     ]
    }
   ],
   "source": [
    "%timeit 1.0 / big_array"
   ]
  },
  {
   "cell_type": "code",
   "execution_count": null,
   "metadata": {},
   "outputs": [],
   "source": []
  }
 ],
 "metadata": {
  "kernelspec": {
   "display_name": "base",
   "language": "python",
   "name": "python3"
  },
  "language_info": {
   "codemirror_mode": {
    "name": "ipython",
    "version": 3
   },
   "file_extension": ".py",
   "mimetype": "text/x-python",
   "name": "python",
   "nbconvert_exporter": "python",
   "pygments_lexer": "ipython3",
   "version": "3.9.13"
  }
 },
 "nbformat": 4,
 "nbformat_minor": 2
}
