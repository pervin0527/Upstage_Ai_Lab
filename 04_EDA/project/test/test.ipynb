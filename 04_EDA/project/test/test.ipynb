{
 "cells": [
  {
   "cell_type": "code",
   "execution_count": 1,
   "metadata": {
    "metadata": {}
   },
   "outputs": [],
   "source": [
    "import re\n",
    "import numpy as np\n",
    "import pandas as pd\n",
    "import seaborn as sns\n",
    "import matplotlib.pyplot as plt\n",
    "\n",
    "from scipy import stats\n",
    "from sklearn.decomposition import PCA\n",
    "from sklearn.preprocessing import LabelEncoder\n",
    "from sklearn.preprocessing import StandardScaler\n",
    "\n",
    "\n",
    "from sklearn.linear_model import LinearRegression\n",
    "from sklearn.model_selection import train_test_split\n",
    "from sklearn.metrics import mean_squared_error, r2_score\n",
    "from sklearn.ensemble import RandomForestClassifier, GradientBoostingClassifier"
   ]
  },
  {
   "cell_type": "markdown",
   "metadata": {},
   "source": [
    "## 1.데이터 로드"
   ]
  },
  {
   "cell_type": "code",
   "execution_count": 2,
   "metadata": {
    "metadata": {}
   },
   "outputs": [],
   "source": [
    "file_path = '/home/pervinco/Upstage_Ai_Lab/04_EDA/project/Leagues/all_players_stats_total.csv'\n",
    "data = pd.read_csv(file_path)"
   ]
  },
  {
   "cell_type": "markdown",
   "metadata": {},
   "source": [
    "## 2.결측치, 이상치 정리"
   ]
  },
  {
   "cell_type": "code",
   "execution_count": 3,
   "metadata": {
    "metadata": {}
   },
   "outputs": [],
   "source": [
    "## Apps 컬럼 정리\n",
    "def convert_apps(apps):\n",
    "    total_apps = 0\n",
    "    parts = re.findall(r'\\d+', apps)\n",
    "    if parts:\n",
    "        total_apps = sum(map(int, parts))\n",
    "    return total_apps\n",
    "\n",
    "data['Apps'] = data['Apps'].apply(convert_apps)\n",
    "\n",
    "## 결측치 제거\n",
    "numeric_columns = data.select_dtypes(include=['number']).columns\n",
    "data[numeric_columns] = data[numeric_columns].fillna(data[numeric_columns].median())\n",
    "\n",
    "## feature로 적용될 컬럼 정리\n",
    "selected_features = list(data.columns)\n",
    "selected_features.remove('player_name')\n",
    "selected_features.remove('team_name')\n",
    "selected_features.remove('position')"
   ]
  },
  {
   "cell_type": "code",
   "execution_count": 4,
   "metadata": {
    "metadata": {}
   },
   "outputs": [],
   "source": [
    "## 이상치 제거\n",
    "def remove_outliers(df, feature):\n",
    "    Q1 = df[feature].quantile(0.25)\n",
    "    Q3 = df[feature].quantile(0.75)\n",
    "    IQR = Q3 - Q1\n",
    "    lower_bound = Q1 - 1.5 * IQR\n",
    "    upper_bound = Q3 + 1.5 * IQR\n",
    "    return df[(df[feature] >= lower_bound) & (df[feature] <= upper_bound)]\n",
    "\n",
    "cleaned_data = pd.DataFrame()\n",
    "for name, group in data.groupby('position'):\n",
    "    for feature in numeric_columns:\n",
    "        group = remove_outliers(group, feature)\n",
    "    cleaned_data = pd.concat([cleaned_data, group], axis=0)\n"
   ]
  },
  {
   "cell_type": "code",
   "execution_count": 5,
   "metadata": {
    "metadata": {}
   },
   "outputs": [
    {
     "name": "stdout",
     "output_type": "stream",
     "text": [
      "Attacking Midfield 213\n",
      "Central Midfield 394\n",
      "Centre-Back 513\n",
      "Centre-Forward 394\n",
      "Defensive Midfield 229\n",
      "Goalkeeper 210\n",
      "Left Midfield 25\n",
      "Left Winger 222\n",
      "Left-Back 207\n",
      "Right Midfield 24\n",
      "Right Winger 197\n",
      "Right-Back 247\n",
      "Second Striker 14\n"
     ]
    }
   ],
   "source": [
    "grouped_data = data.groupby('position')[selected_features]\n",
    "\n",
    "for position, group in grouped_data:\n",
    "    print(position, len(group))"
   ]
  },
  {
   "cell_type": "code",
   "execution_count": 6,
   "metadata": {
    "metadata": {}
   },
   "outputs": [],
   "source": [
    "positions = data['position'].unique()\n",
    "position_data = {pos: data[data['position'] == pos].copy() for pos in positions}\n",
    "\n",
    "## 스케일링\n",
    "scaler = StandardScaler()\n",
    "for pos in positions:\n",
    "    position_data[pos][numeric_columns] = scaler.fit_transform(position_data[pos][numeric_columns].values)"
   ]
  },
  {
   "cell_type": "markdown",
   "metadata": {},
   "source": [
    "## 3.Correlation Matrix"
   ]
  },
  {
   "cell_type": "code",
   "execution_count": 7,
   "metadata": {
    "metadata": {}
   },
   "outputs": [
    {
     "data": {
      "text/plain": [
       "'\\n스탯간 상관관계 분석이기 때문에 포지션마다 주요한 스탯이 무엇인지 판단하기엔 애매함.\\n'"
      ]
     },
     "execution_count": 7,
     "metadata": {},
     "output_type": "execute_result"
    }
   ],
   "source": [
    "\"\"\"\n",
    "스탯간 상관관계 분석이기 때문에 포지션마다 주요한 스탯이 무엇인지 판단하기엔 애매함.\n",
    "\"\"\"\n",
    "\n",
    "# position_stats_dict = {}\n",
    "\n",
    "# for position, group in grouped_data:\n",
    "#     corr_matrix = group[selected_features].corr()\n",
    "#     np.fill_diagonal(corr_matrix.values, 0)\n",
    "    \n",
    "#     flat_corr = corr_matrix.abs().unstack()\n",
    "#     sorted_pairs = flat_corr.sort_values(ascending=False)\n",
    "#     unique_pairs = sorted_pairs.drop_duplicates()\n",
    "#     top_10_pairs = unique_pairs.head(10)\n",
    "#     position_stats_dict[position] = top_10_pairs\n",
    "\n",
    "#     # # 각 포지션별 상관계수 행렬 시각화\n",
    "#     # plt.figure(figsize=(10, 8))\n",
    "#     # sns.heatmap(corr_matrix, annot=True, cmap='coolwarm', fmt=\".2f\")\n",
    "#     # plt.title(f'Correlation Matrix for {position}')\n",
    "#     # plt.show()\n",
    "\n",
    "# for position, top_pairs in position_stats_dict.items():\n",
    "#     print(f\"Position: {position}\")\n",
    "#     print(\"Top 10 Correlated Stat Pairs:\")\n",
    "#     print(top_pairs)\n",
    "#     print(\"\\n\")"
   ]
  },
  {
   "cell_type": "markdown",
   "metadata": {},
   "source": [
    "## 4.PCA"
   ]
  },
  {
   "cell_type": "code",
   "execution_count": 8,
   "metadata": {
    "metadata": {}
   },
   "outputs": [
    {
     "data": {
      "text/plain": [
       "'\\n주성분 역시 값이 낮아서 데이터를 대표하는 주성분이라 보기 어려움.\\n'"
      ]
     },
     "execution_count": 8,
     "metadata": {},
     "output_type": "execute_result"
    }
   ],
   "source": [
    "'''\n",
    "주성분 역시 값이 낮아서 데이터를 대표하는 주성분이라 보기 어려움.\n",
    "'''\n",
    "\n",
    "# pca_results = {}\n",
    "# for pos, df in position_data.items():\n",
    "#     # 포지션별 수치 데이터 선택\n",
    "#     features = df.select_dtypes(include=['number'])\n",
    "    \n",
    "#     # PCA 모델 생성 및 적용\n",
    "#     pca = PCA(n_components=2)  # 주성분을 2개로 설정\n",
    "#     principalComponents = pca.fit_transform(features)\n",
    "    \n",
    "#     # 결과 저장\n",
    "#     pca_results[pos] = {\n",
    "#         'explained_variance_ratio': pca.explained_variance_ratio_,\n",
    "#         'components': pca.components_\n",
    "#     }\n",
    "\n",
    "#     # 주성분에 대한 설명력과 주요 변수의 계수 출력\n",
    "#     print(f\"Position: {pos}\")\n",
    "#     print(\"Explained Variance Ratio:\", pca.explained_variance_ratio_)\n",
    "#     print(\"PCA Components:\\n\", pca.components_)\n",
    "#     print()\n"
   ]
  },
  {
   "cell_type": "markdown",
   "metadata": {},
   "source": [
    "## 5.Random Forest & Gradient Boosting"
   ]
  },
  {
   "cell_type": "code",
   "execution_count": 9,
   "metadata": {
    "metadata": {}
   },
   "outputs": [],
   "source": [
    "X = cleaned_data[selected_features]\n",
    "y = cleaned_data['position']\n",
    "y_encoded = LabelEncoder().fit_transform(y)\n",
    "\n",
    "X_train, X_test, y_train, y_test = train_test_split(X, y_encoded, test_size=0.2, random_state=42)"
   ]
  },
  {
   "cell_type": "code",
   "execution_count": 10,
   "metadata": {
    "metadata": {}
   },
   "outputs": [
    {
     "name": "stdout",
     "output_type": "stream",
     "text": [
      "Random Forest Feature Importances:\n",
      "age: 0.022\n",
      "Apps: 0.020\n",
      "Mins: 0.024\n",
      "Goals: 0.004\n",
      "Assists: 0.006\n",
      "Yellow: 0.015\n",
      "Red: 0.000\n",
      "SpG: 0.022\n",
      "PS%: 0.041\n",
      "AerialsWon: 0.026\n",
      "MoM: 0.002\n",
      "Rating: 0.032\n",
      "Tackles: 0.031\n",
      "Inter: 0.018\n",
      "Offsides: 0.013\n",
      "Clear: 0.055\n",
      "Dribbles allowed: 0.024\n",
      "Blocks: 0.028\n",
      "OwnGoal: 0.000\n",
      "Key_pass_per_game: 0.025\n",
      "Dribble: 0.025\n",
      "Foul_given_game: 0.023\n",
      "Offside_given_per_game: 0.028\n",
      "Dispossessed_per_game: 0.026\n",
      "Unsuccessful touches: 0.026\n",
      "Passes_per_game: 0.029\n",
      "Crosses_per_game: 0.032\n",
      "Longpass_per_game: 0.039\n",
      "Through_ball_per_game: 0.006\n",
      "xG: 0.026\n",
      "xGDiff: 0.022\n",
      "xGPerNinety: 0.070\n",
      "totalShots: 0.017\n",
      "xGPerShot: 0.031\n",
      "TotalTackles: 0.004\n",
      "DribbledPast: 0.009\n",
      "TotalAttemptedTackles: 0.005\n",
      "Total_Interception: 0.005\n",
      "Fouled: 0.006\n",
      "Fouls: 0.007\n",
      "CaughtOffside: 0.002\n",
      "Total_Clearances: 0.008\n",
      "ShotsBlocked: 0.005\n",
      "CrossesBlocked: 0.001\n",
      "PassesBlocked: 0.005\n",
      "Total_Saves: 0.000\n",
      "SixYardBox_Saves: 0.000\n",
      "PenaltyArea_Saves: 0.000\n",
      "OutOfBox_Saves: 0.000\n",
      "Total_Shots: 0.008\n",
      "OutOfBox_Shots: 0.004\n",
      "SixYardBox_Shots: 0.002\n",
      "PenaltyArea_Shots: 0.008\n",
      "Total_Goals: 0.001\n",
      "SixYardBox_Goals: 0.000\n",
      "PenaltyArea_Goals: 0.002\n",
      "OutOfBox_Goals: 0.000\n",
      "Unsuccessful_Dribbles: 0.003\n",
      "Successful_Dribbles: 0.003\n",
      "Total Dribbles: 0.004\n",
      "UnsuccessfulTouches: 0.007\n",
      "Dispossessed: 0.003\n",
      "Total_Aerial: 0.006\n",
      "AerialWon: 0.003\n",
      "AerialLost: 0.007\n",
      "Total_Passes: 0.005\n",
      "AccLB: 0.002\n",
      "InAccLB: 0.004\n",
      "AccSP: 0.010\n",
      "InAccSP: 0.009\n",
      "Total_Key passes: 0.004\n",
      "Long_Keypass: 0.001\n",
      "Short_Keypass: 0.005\n",
      "Cross_Assist: 0.000\n",
      "Corner_Assist: 0.000\n",
      "Throughball_Assist: 0.002\n",
      "Freekick_Assist: 0.000\n",
      "Throwin_Assist: 0.000\n",
      "Other_Assist: 0.001\n",
      "Total_Assists: 0.001\n",
      "Market Value: 0.030\n"
     ]
    }
   ],
   "source": [
    "rf_model = RandomForestClassifier(random_state=42)\n",
    "rf_model.fit(X_train, y_train)\n",
    "rf_importances = rf_model.feature_importances_\n",
    "\n",
    "print(\"Random Forest Feature Importances:\")\n",
    "for feature, importance in zip(selected_features, rf_importances):\n",
    "    print(f\"{feature}: {importance:.3f}\")"
   ]
  },
  {
   "cell_type": "code",
   "execution_count": 11,
   "metadata": {
    "metadata": {}
   },
   "outputs": [
    {
     "name": "stdout",
     "output_type": "stream",
     "text": [
      "\n",
      "Gradient Boosting Feature Importances:\n",
      "age: 0.010\n",
      "Apps: 0.004\n",
      "Mins: 0.057\n",
      "Goals: 0.000\n",
      "Assists: 0.002\n",
      "Yellow: 0.021\n",
      "Red: 0.000\n",
      "SpG: 0.016\n",
      "PS%: 0.072\n",
      "AerialsWon: 0.021\n",
      "MoM: 0.003\n",
      "Rating: 0.032\n",
      "Tackles: 0.010\n",
      "Inter: 0.001\n",
      "Offsides: 0.027\n",
      "Clear: 0.101\n",
      "Dribbles allowed: 0.025\n",
      "Blocks: 0.005\n",
      "OwnGoal: 0.000\n",
      "Key_pass_per_game: 0.026\n",
      "Dribble: 0.016\n",
      "Foul_given_game: 0.063\n",
      "Offside_given_per_game: 0.019\n",
      "Dispossessed_per_game: 0.001\n",
      "Unsuccessful touches: 0.006\n",
      "Passes_per_game: 0.015\n",
      "Crosses_per_game: 0.021\n",
      "Longpass_per_game: 0.012\n",
      "Through_ball_per_game: 0.059\n",
      "xG: 0.010\n",
      "xGDiff: 0.041\n",
      "xGPerNinety: 0.145\n",
      "totalShots: 0.000\n",
      "xGPerShot: 0.041\n",
      "TotalTackles: 0.002\n",
      "DribbledPast: 0.006\n",
      "TotalAttemptedTackles: 0.000\n",
      "Total_Interception: 0.000\n",
      "Fouled: 0.000\n",
      "Fouls: 0.033\n",
      "CaughtOffside: 0.000\n",
      "Total_Clearances: 0.003\n",
      "ShotsBlocked: 0.012\n",
      "CrossesBlocked: 0.004\n",
      "PassesBlocked: 0.000\n",
      "Total_Saves: 0.000\n",
      "SixYardBox_Saves: 0.000\n",
      "PenaltyArea_Saves: 0.000\n",
      "OutOfBox_Saves: 0.000\n",
      "Total_Shots: 0.000\n",
      "OutOfBox_Shots: 0.002\n",
      "SixYardBox_Shots: 0.001\n",
      "PenaltyArea_Shots: 0.000\n",
      "Total_Goals: 0.000\n",
      "SixYardBox_Goals: 0.000\n",
      "PenaltyArea_Goals: 0.000\n",
      "OutOfBox_Goals: 0.000\n",
      "Unsuccessful_Dribbles: 0.000\n",
      "Successful_Dribbles: 0.001\n",
      "Total Dribbles: 0.001\n",
      "UnsuccessfulTouches: 0.001\n",
      "Dispossessed: 0.004\n",
      "Total_Aerial: 0.000\n",
      "AerialWon: 0.000\n",
      "AerialLost: 0.000\n",
      "Total_Passes: 0.000\n",
      "AccLB: 0.000\n",
      "InAccLB: 0.000\n",
      "AccSP: 0.002\n",
      "InAccSP: 0.001\n",
      "Total_Key passes: 0.001\n",
      "Long_Keypass: 0.000\n",
      "Short_Keypass: 0.009\n",
      "Cross_Assist: 0.000\n",
      "Corner_Assist: 0.000\n",
      "Throughball_Assist: 0.000\n",
      "Freekick_Assist: 0.000\n",
      "Throwin_Assist: 0.000\n",
      "Other_Assist: 0.000\n",
      "Total_Assists: 0.000\n",
      "Market Value: 0.033\n"
     ]
    }
   ],
   "source": [
    "gb_model = GradientBoostingClassifier(random_state=42)\n",
    "gb_model.fit(X_train, y_train)\n",
    "gb_importances = gb_model.feature_importances_\n",
    "\n",
    "print(\"\\nGradient Boosting Feature Importances:\")\n",
    "for feature, importance in zip(selected_features, gb_importances):\n",
    "    print(f\"{feature}: {importance:.3f}\")"
   ]
  }
 ],
 "metadata": {
  "kernelspec": {
   "display_name": "base",
   "language": "python",
   "name": "python3"
  },
  "language_info": {
   "codemirror_mode": {
    "name": "ipython",
    "version": 3
   },
   "file_extension": ".py",
   "mimetype": "text/x-python",
   "name": "python",
   "nbconvert_exporter": "python",
   "pygments_lexer": "ipython3",
   "version": "3.8.19"
  }
 },
 "nbformat": 4,
 "nbformat_minor": 2
}
