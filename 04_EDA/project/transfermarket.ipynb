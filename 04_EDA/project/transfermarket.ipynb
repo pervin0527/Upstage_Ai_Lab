{
 "cells": [
  {
   "cell_type": "code",
   "execution_count": 1,
   "metadata": {},
   "outputs": [],
   "source": [
    "import time\n",
    "import pandas as pd\n",
    "\n",
    "from selenium import webdriver\n",
    "from selenium.webdriver.common.by import By\n",
    "from selenium.webdriver.support.ui import Select"
   ]
  },
  {
   "cell_type": "code",
   "execution_count": 2,
   "metadata": {},
   "outputs": [],
   "source": [
    "url = 'https://www.transfermarkt.com/bundesliga/startseite/wettbewerb/L1'\n",
    "browser = webdriver.Chrome()\n",
    "browser.get(url)"
   ]
  },
  {
   "cell_type": "code",
   "execution_count": 8,
   "metadata": {},
   "outputs": [
    {
     "name": "stdout",
     "output_type": "stream",
     "text": [
      "18\n"
     ]
    }
   ],
   "source": [
    "## 구단 테이블\n",
    "\n",
    "table = browser.find_element(By.XPATH, '//*[@id=\"yw1\"]/table/tbody')\n",
    "odd_rows = table.find_elements(By.CLASS_NAME, 'odd')\n",
    "even_rows = table.find_elements(By.CLASS_NAME, 'even')\n",
    "rows = odd_rows + even_rows\n",
    "\n",
    "print(len(rows))"
   ]
  },
  {
   "cell_type": "code",
   "execution_count": 14,
   "metadata": {},
   "outputs": [
    {
     "name": "stdout",
     "output_type": "stream",
     "text": [
      "Bayern Munich 27 26.7 16 €34.42m €929.45m\n",
      "RB Leipzig 24 25.3 16 €20.70m €496.90m\n",
      "VfB Stuttgart 28 24.4 11 €9.93m €277.90m\n",
      "VfL Wolfsburg 28 25.1 18 €8.08m €226.20m\n",
      "Borussia Mönchengladbach 31 25.6 16 €5.98m €185.23m\n",
      "TSG 1899 Hoffenheim 28 25.4 12 €5.16m €144.35m\n",
      "1.FSV Mainz 05 27 26.7 11 €3.81m €102.85m\n",
      "1.FC Köln 29 25.4 8 €3.23m €93.55m\n",
      "1.FC Heidenheim 1846 28 26.2 5 €2.18m €61.05m\n",
      "Bayer 04 Leverkusen 27 24.8 22 €22.02m €594.55m\n",
      "Borussia Dortmund 28 25.7 13 €16.56m €463.70m\n",
      "Eintracht Frankfurt 35 24.2 21 €6.88m €240.85m\n",
      "SC Freiburg 28 26.3 11 €6.74m €188.65m\n",
      "1.FC Union Berlin 25 27.5 15 €5.79m €144.65m\n",
      "FC Augsburg 27 25.6 16 €4.54m €122.55m\n",
      "SV Werder Bremen 25 26.3 12 €3.90m €97.60m\n",
      "VfL Bochum 29 28.2 13 €2.18m €63.10m\n",
      "SV Darmstadt 98 31 26.6 11 €1.32m €40.85m\n"
     ]
    }
   ],
   "source": [
    "for row in rows:\n",
    "    team_name = row.find_element(By.CLASS_NAME, 'hauptlink').find_element(By.TAG_NAME, 'a').text\n",
    "\n",
    "    zs = row.find_elements(By.CLASS_NAME, 'zentriert')\n",
    "    squad = zs[1].find_element(By.TAG_NAME, 'a').text\n",
    "    average_age = zs[2].text\n",
    "    foreigners = zs[3].text\n",
    "    \n",
    "    market_values = row.find_elements(By.CLASS_NAME, 'rechts')\n",
    "    average_market_value = market_values[0].text\n",
    "    market_value = market_values[1].text\n",
    "    \n",
    "    print(team_name, squad, average_age, foreigners, average_market_value, market_value)"
   ]
  },
  {
   "cell_type": "code",
   "execution_count": 15,
   "metadata": {},
   "outputs": [
    {
     "data": {
      "text/html": [
       "<div>\n",
       "<style scoped>\n",
       "    .dataframe tbody tr th:only-of-type {\n",
       "        vertical-align: middle;\n",
       "    }\n",
       "\n",
       "    .dataframe tbody tr th {\n",
       "        vertical-align: top;\n",
       "    }\n",
       "\n",
       "    .dataframe thead th {\n",
       "        text-align: right;\n",
       "    }\n",
       "</style>\n",
       "<table border=\"1\" class=\"dataframe\">\n",
       "  <thead>\n",
       "    <tr style=\"text-align: right;\">\n",
       "      <th></th>\n",
       "    </tr>\n",
       "  </thead>\n",
       "  <tbody>\n",
       "  </tbody>\n",
       "</table>\n",
       "</div>"
      ],
      "text/plain": [
       "Empty DataFrame\n",
       "Columns: []\n",
       "Index: []"
      ]
     },
     "execution_count": 15,
     "metadata": {},
     "output_type": "execute_result"
    }
   ],
   "source": [
    "import requests\n",
    "from bs4 import BeautifulSoup as bs\n",
    "import pandas as pd\n",
    "import time\n",
    "\n",
    "url = 'https://www.transfermarkt.com/inter-mailand/startseite/verein/46/saison_id/2022'\n",
    "r = requests.get(url)\n",
    "\n",
    "soup =bs(r.text, 'html.parser')\n",
    "player_info = soup.find_all('tr', class_= ['odd', 'even'])\n",
    "\n",
    "player_data = []\n",
    "for player in player_info:\n",
    "    name = player.find('td', class_='hauptlink').find('a').text.strip()\n",
    "    position = player.find('td', class_='posrela').find_all('td')[-1].text.strip()\n",
    "\n",
    "    dob_age_text = player.find_all('td', class_='zentriert')[1].text.strip() \n",
    "    dob = ' '.join(dob_age_text.split()[:-1])  \n",
    "    age = dob_age_text.split()[-1].strip('()') \n",
    "    \n",
    "    nationality = player.find('img', class_='flaggenrahmen')['title']\n",
    "    market_value = player.find('td', class_='rechts hauptlink').text.strip()\n",
    "\n",
    "    player_data.append({\n",
    "        'Name': name,\n",
    "        'Position': position,\n",
    "        'Date of Birth': dob,\n",
    "        'Age': age,\n",
    "        'Nationality': nationality,\n",
    "        'Market Value': market_value\n",
    "    })\n",
    "\n",
    "player_data = pd.DataFrame(player_data)\n",
    "player_data.to_csv('Inter_Player_Value.csv', index=False)\n",
    "player_data"
   ]
  },
  {
   "cell_type": "code",
   "execution_count": null,
   "metadata": {},
   "outputs": [],
   "source": []
  }
 ],
 "metadata": {
  "kernelspec": {
   "display_name": "base",
   "language": "python",
   "name": "python3"
  },
  "language_info": {
   "codemirror_mode": {
    "name": "ipython",
    "version": 3
   },
   "file_extension": ".py",
   "mimetype": "text/x-python",
   "name": "python",
   "nbconvert_exporter": "python",
   "pygments_lexer": "ipython3",
   "version": "3.9.13"
  }
 },
 "nbformat": 4,
 "nbformat_minor": 2
}
