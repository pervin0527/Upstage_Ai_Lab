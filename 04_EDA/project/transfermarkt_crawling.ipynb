{
  "cells": [
    {
      "cell_type": "markdown",
      "metadata": {
        "id": "HqWHFnEe2XgR"
      },
      "source": [
        "# Transfermarkt에서 선수 정보 크롤링\n",
        "- 2022~2023시즌 epl의 각 팀 선수 정보 크롤링\n",
        "- selenium으로 팝업창 제어 방법을 몰라서 beautifulsoup 사용\n",
        "- beautifulsoup으로 버튼 클릭과 같은 기능을 어떻게 구현하는지 몰라서 링크를 전부 찾아서 사용"
      ]
    },
    {
      "cell_type": "code",
      "execution_count": 1,
      "metadata": {
        "id": "4fdxzUIn2XgU"
      },
      "outputs": [],
      "source": [
        "import requests\n",
        "from bs4 import BeautifulSoup as bs\n",
        "import pandas as pd\n",
        "import time"
      ]
    },
    {
      "cell_type": "code",
      "execution_count": 2,
      "metadata": {
        "id": "ZGFxnIS12XgW"
      },
      "outputs": [],
      "source": [
        "url_list = ['https://www.transfermarkt.com/manchester-city/kader/verein/281/saison_id/2022',\n",
        "            'https://www.transfermarkt.com/arsenal-fc/kader/verein/11/saison_id/2022',\n",
        "            'https://www.transfermarkt.com/chelsea-fc/kader/verein/631/saison_id/2022',\n",
        "            'https://www.transfermarkt.com/manchester-united/kader/verein/985/saison_id/2022',\n",
        "            'https://www.transfermarkt.com/liverpool-fc/kader/verein/31/saison_id/2022',\n",
        "            'https://www.transfermarkt.com/tottenham-hotspur/kader/verein/148/saison_id/2022',\n",
        "            'https://www.transfermarkt.com/newcastle-united/kader/verein/762/saison_id/2022',\n",
        "            'https://www.transfermarkt.com/brighton-amp-hove-albion/kader/verein/1237/saison_id/2022',\n",
        "            'https://www.transfermarkt.com/aston-villa/kader/verein/405/saison_id/2022',\n",
        "            'https://www.transfermarkt.com/wolverhampton-wanderers/kader/verein/543/saison_id/2022',\n",
        "            'https://www.transfermarkt.com/leicester-city/kader/verein/1003/saison_id/2022',\n",
        "            'https://www.transfermarkt.com/west-ham-united/kader/verein/379/saison_id/2022',\n",
        "            'https://www.transfermarkt.com/southampton-fc/kader/verein/180/saison_id/2022',\n",
        "            'https://www.transfermarkt.com/everton-fc/kader/verein/29/saison_id/2022',\n",
        "            'https://www.transfermarkt.com/nottingham-forest/kader/verein/703/saison_id/2022',\n",
        "            'https://www.transfermarkt.com/brentford-fc/kader/verein/1148/saison_id/2022',\n",
        "            'https://www.transfermarkt.com/leeds-united/kader/verein/399/saison_id/2022',\n",
        "            'https://www.transfermarkt.com/crystal-palace/kader/verein/873/saison_id/2022',\n",
        "            'https://www.transfermarkt.com/fulham-fc/kader/verein/931/saison_id/2022',\n",
        "            'https://www.transfermarkt.com/afc-bournemouth/kader/verein/989/saison_id/2022']\n"
      ]
    },
    {
      "cell_type": "code",
      "execution_count": 3,
      "metadata": {
        "id": "kY4bxAqI2XgW"
      },
      "outputs": [],
      "source": [
        "team_list = ['manchester-city', 'arsenal-fc', 'chelsea-fc',\n",
        "             'manchester-united', 'liverpool-fc', 'tottenham-hotspur',\n",
        "             'newcastle-united', 'brighton-amp-hove-albion', 'aston-villa',\n",
        "             'wolverhampton-wanderers', 'leicester-city', 'west-ham-united',\n",
        "             'southampton-fc', 'everton-fc', 'nottingham-forest',\n",
        "             'brentford-fc', 'leeds-united', 'crystal-palace',\n",
        "             'fulham-fc', 'afc-bournemouth'\n",
        "             ]\n"
      ]
    },
    {
      "cell_type": "code",
      "execution_count": 5,
      "metadata": {
        "id": "y53D65U52XgX",
        "outputId": "99134ee4-b810-4b7d-f6b5-6a5f79eb9171"
      },
      "outputs": [],
      "source": [
        "Headers = {'User-Agent' : 'Mozilla/5.0 (Windows NT 10.0; Win64; x64) AppleWebKit/537.36 (KHTML, like Gecko) Chrome/124.0.0.0 Safari/537.36'}\n",
        "\n",
        "for i in range(20):\n",
        "    url = url_list[i]\n",
        "    r = requests.get(url, headers=Headers)\n",
        "\n",
        "    soup =bs(r.text, 'html.parser')\n",
        "    player_info = soup.find_all('tr', class_= ['odd', 'even'])\n",
        "\n",
        "    player_data = []\n",
        "    for player in player_info:\n",
        "        name = player.find('td', class_='hauptlink').find('a').text.strip()\n",
        "        position = player.find('td', class_='posrela').find_all('td')[-1].text.strip()\n",
        "\n",
        "        dob_age_text = player.find_all('td', class_='zentriert')[1].text.strip()\n",
        "        dob = ' '.join(dob_age_text.split()[:-1])\n",
        "        age = dob_age_text.split()[-1].strip('()')\n",
        "\n",
        "        nationality = player.find('img', class_='flaggenrahmen')['title']\n",
        "        market_value = player.find('td', class_='rechts hauptlink').text.strip()\n",
        "\n",
        "        player_data.append({\n",
        "            'Name': name,\n",
        "            'Position': position,\n",
        "            'Date of Birth': dob,\n",
        "            'Age': age,\n",
        "            'Nationality': nationality,\n",
        "            'Market Value': market_value\n",
        "        })\n",
        "\n",
        "    player_data = pd.DataFrame(player_data)\n",
        "    player_data.to_csv(f'{team_list[i]}_Player_Value.csv', index=False)\n",
        "    player_data"
      ]
    },
    {
      "cell_type": "code",
      "execution_count": null,
      "metadata": {
        "id": "VZcYBC1c2XgY"
      },
      "outputs": [],
      "source": []
    },
    {
      "cell_type": "code",
      "execution_count": null,
      "metadata": {
        "id": "fpk1RpxX2XgY"
      },
      "outputs": [],
      "source": []
    },
    {
      "cell_type": "code",
      "execution_count": null,
      "metadata": {
        "id": "KhP38nCs2XgY"
      },
      "outputs": [],
      "source": []
    },
    {
      "cell_type": "code",
      "execution_count": null,
      "metadata": {
        "id": "JA60HO4q2XgZ"
      },
      "outputs": [],
      "source": []
    },
    {
      "cell_type": "code",
      "execution_count": null,
      "metadata": {
        "id": "6rxqpbMs2XgZ"
      },
      "outputs": [],
      "source": []
    },
    {
      "cell_type": "code",
      "execution_count": null,
      "metadata": {
        "id": "N9EoUrMB2XgZ"
      },
      "outputs": [],
      "source": []
    },
    {
      "cell_type": "code",
      "execution_count": null,
      "metadata": {
        "id": "hNxMYlj-2XgZ"
      },
      "outputs": [],
      "source": []
    },
    {
      "cell_type": "code",
      "execution_count": null,
      "metadata": {
        "id": "ntevs8Xl2XgZ"
      },
      "outputs": [],
      "source": []
    },
    {
      "cell_type": "code",
      "execution_count": null,
      "metadata": {
        "id": "mJXikZL-2XgZ"
      },
      "outputs": [],
      "source": []
    },
    {
      "cell_type": "code",
      "execution_count": null,
      "metadata": {
        "id": "LQUtjg2d2XgZ"
      },
      "outputs": [],
      "source": []
    },
    {
      "cell_type": "code",
      "execution_count": null,
      "metadata": {
        "id": "7opKzyKn2XgZ"
      },
      "outputs": [],
      "source": []
    },
    {
      "cell_type": "code",
      "execution_count": null,
      "metadata": {
        "id": "jatDIhfX2XgZ"
      },
      "outputs": [],
      "source": []
    },
    {
      "cell_type": "code",
      "execution_count": null,
      "metadata": {
        "id": "m0xxiqIn2XgZ"
      },
      "outputs": [],
      "source": []
    },
    {
      "cell_type": "code",
      "execution_count": null,
      "metadata": {
        "id": "VHJBNCjL2XgZ"
      },
      "outputs": [],
      "source": []
    },
    {
      "cell_type": "code",
      "execution_count": null,
      "metadata": {
        "id": "lMrkAlSB2Xga"
      },
      "outputs": [],
      "source": []
    },
    {
      "cell_type": "code",
      "execution_count": null,
      "metadata": {
        "id": "cqk3SVau2Xga"
      },
      "outputs": [],
      "source": []
    },
    {
      "cell_type": "code",
      "execution_count": null,
      "metadata": {
        "id": "0O7LB1Ch2Xga"
      },
      "outputs": [],
      "source": []
    },
    {
      "cell_type": "code",
      "execution_count": null,
      "metadata": {
        "id": "RHCJ-n5V2Xga"
      },
      "outputs": [],
      "source": []
    },
    {
      "cell_type": "code",
      "execution_count": null,
      "metadata": {
        "id": "UyAgyG2E2Xga"
      },
      "outputs": [],
      "source": []
    },
    {
      "cell_type": "code",
      "execution_count": null,
      "metadata": {
        "id": "XJhAvD3K2Xga"
      },
      "outputs": [],
      "source": []
    },
    {
      "cell_type": "code",
      "execution_count": null,
      "metadata": {
        "id": "xq0vH08W2Xga"
      },
      "outputs": [],
      "source": []
    },
    {
      "cell_type": "code",
      "execution_count": null,
      "metadata": {
        "id": "sUgqQLvo2Xga"
      },
      "outputs": [],
      "source": []
    },
    {
      "cell_type": "code",
      "execution_count": null,
      "metadata": {
        "id": "fsN2IBG62Xga"
      },
      "outputs": [],
      "source": []
    },
    {
      "cell_type": "code",
      "execution_count": null,
      "metadata": {
        "id": "0SIlKMwI2Xga"
      },
      "outputs": [],
      "source": []
    }
  ],
  "metadata": {
    "colab": {
      "provenance": []
    },
    "kernelspec": {
      "display_name": "base",
      "language": "python",
      "name": "python3"
    },
    "language_info": {
      "codemirror_mode": {
        "name": "ipython",
        "version": 3
      },
      "file_extension": ".py",
      "mimetype": "text/x-python",
      "name": "python",
      "nbconvert_exporter": "python",
      "pygments_lexer": "ipython3",
      "version": "3.9.13"
    }
  },
  "nbformat": 4,
  "nbformat_minor": 0
}
