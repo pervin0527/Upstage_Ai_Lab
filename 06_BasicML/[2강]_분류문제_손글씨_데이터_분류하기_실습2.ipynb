{
  "cells": [
    {
      "cell_type": "markdown",
      "metadata": {
        "id": "H95gEMa8ncdT"
      },
      "source": [
        "# 손글씨(MNIST) 분류기 만들기\n",
        "\n",
        "- 이번 실습에서는 손글씨 숫자 데이터셋(MNIST)을 사용하여 분류 모델을 학습하고 평가하는 방법을 배웁니다. 단계별로 데이터 전처리, 모델 학습, 평가 및 결과 시각화를 수행하여 머신러닝의 기본 개념을 이해할 수 있습니다.\n",
        "\n",
        "- `28*28 pixel` 을 `784` 개의 숫자로 표현한 데이터를 입력으로 받아 `0~9` 사이에 어떤 숫자인 지 맞추는 문제입니다.모델 구축부터 학습 및 평가까지 진행하여 `분류 정확도를 91.6% 이상`으로 만듭니다."
      ]
    },
    {
      "cell_type": "markdown",
      "metadata": {
        "id": "4-vpjZFlnhcF"
      },
      "source": [
        "```\n",
        "실습목표\n",
        "1. MNIST 데이터셋을 불러와서 모델에 입력가능하도록 변경합니다.(전처리, 분할)\n",
        "2. 로지스틱회귀 모델을 불러와서 학습시킵니다.\n",
        "3. 모델의 성능을 평가하고 예측 결과를 시각화합니다.\n",
        "\n",
        "```"
      ]
    },
    {
      "cell_type": "markdown",
      "metadata": {
        "id": "NPVckA6ynnCi"
      },
      "source": [
        "\n",
        "\n",
        "```\n",
        "실습단계\n",
        "1. 라이브러리 임포트\n",
        "2. 데이터셋 로드 및 전처리\n",
        "3. 모델 로드\n",
        "4. 모델 학습\n",
        "5. 모델 평가 및 예측\n",
        "6. 결과 시각화\n",
        "\n",
        "```\n"
      ]
    },
    {
      "cell_type": "markdown",
      "metadata": {
        "id": "OqI6UONSnziN"
      },
      "source": [
        "### 1.라이브러리 임포트"
      ]
    },
    {
      "cell_type": "code",
      "execution_count": 1,
      "metadata": {
        "id": "_3xj8syCnI7n"
      },
      "outputs": [],
      "source": [
        "import numpy as np\n",
        "import matplotlib.pyplot as plt\n",
        "from sklearn.datasets import fetch_openml\n",
        "from sklearn.model_selection import train_test_split\n",
        "from sklearn.preprocessing import StandardScaler\n",
        "from sklearn.linear_model import LogisticRegression\n",
        "from sklearn.metrics import classification_report, accuracy_score"
      ]
    },
    {
      "cell_type": "markdown",
      "metadata": {
        "id": "gSmCWpYmn5w0"
      },
      "source": [
        "### 2.데이터셋 로드 및 전처리\n",
        "- MNIST 데이터셋을 로드하고 분할 및 스케일링해줍니다.\n"
      ]
    },
    {
      "cell_type": "code",
      "execution_count": 2,
      "metadata": {
        "colab": {
          "base_uri": "https://localhost:8080/"
        },
        "collapsed": true,
        "id": "WYcpz5JRn03C",
        "outputId": "dba677ec-92bf-45f3-8166-16d47ce26755"
      },
      "outputs": [],
      "source": [
        "# MNIST 데이터셋 로드\n",
        "mnist = fetch_openml('mnist_784')\n",
        "X, y = mnist[\"data\"], mnist[\"target\"]"
      ]
    },
    {
      "cell_type": "code",
      "execution_count": 3,
      "metadata": {
        "id": "zCZtx57hpLGl"
      },
      "outputs": [],
      "source": [
        "# 데이터를 0-9까지의 숫자로 변환\n",
        "y = y.astype(np.int16)"
      ]
    },
    {
      "cell_type": "code",
      "execution_count": 4,
      "metadata": {
        "colab": {
          "base_uri": "https://localhost:8080/",
          "height": 255
        },
        "id": "h9YKnPbXpnbG",
        "outputId": "a49f752c-91aa-46a2-c620-61d166793e6c"
      },
      "outputs": [
        {
          "data": {
            "text/html": [
              "<div>\n",
              "<style scoped>\n",
              "    .dataframe tbody tr th:only-of-type {\n",
              "        vertical-align: middle;\n",
              "    }\n",
              "\n",
              "    .dataframe tbody tr th {\n",
              "        vertical-align: top;\n",
              "    }\n",
              "\n",
              "    .dataframe thead th {\n",
              "        text-align: right;\n",
              "    }\n",
              "</style>\n",
              "<table border=\"1\" class=\"dataframe\">\n",
              "  <thead>\n",
              "    <tr style=\"text-align: right;\">\n",
              "      <th></th>\n",
              "      <th>pixel1</th>\n",
              "      <th>pixel2</th>\n",
              "      <th>pixel3</th>\n",
              "      <th>pixel4</th>\n",
              "      <th>pixel5</th>\n",
              "      <th>pixel6</th>\n",
              "      <th>pixel7</th>\n",
              "      <th>pixel8</th>\n",
              "      <th>pixel9</th>\n",
              "      <th>pixel10</th>\n",
              "      <th>...</th>\n",
              "      <th>pixel775</th>\n",
              "      <th>pixel776</th>\n",
              "      <th>pixel777</th>\n",
              "      <th>pixel778</th>\n",
              "      <th>pixel779</th>\n",
              "      <th>pixel780</th>\n",
              "      <th>pixel781</th>\n",
              "      <th>pixel782</th>\n",
              "      <th>pixel783</th>\n",
              "      <th>pixel784</th>\n",
              "    </tr>\n",
              "  </thead>\n",
              "  <tbody>\n",
              "    <tr>\n",
              "      <th>0</th>\n",
              "      <td>0.0</td>\n",
              "      <td>0.0</td>\n",
              "      <td>0.0</td>\n",
              "      <td>0.0</td>\n",
              "      <td>0.0</td>\n",
              "      <td>0.0</td>\n",
              "      <td>0.0</td>\n",
              "      <td>0.0</td>\n",
              "      <td>0.0</td>\n",
              "      <td>0.0</td>\n",
              "      <td>...</td>\n",
              "      <td>0.0</td>\n",
              "      <td>0.0</td>\n",
              "      <td>0.0</td>\n",
              "      <td>0.0</td>\n",
              "      <td>0.0</td>\n",
              "      <td>0.0</td>\n",
              "      <td>0.0</td>\n",
              "      <td>0.0</td>\n",
              "      <td>0.0</td>\n",
              "      <td>0.0</td>\n",
              "    </tr>\n",
              "    <tr>\n",
              "      <th>1</th>\n",
              "      <td>0.0</td>\n",
              "      <td>0.0</td>\n",
              "      <td>0.0</td>\n",
              "      <td>0.0</td>\n",
              "      <td>0.0</td>\n",
              "      <td>0.0</td>\n",
              "      <td>0.0</td>\n",
              "      <td>0.0</td>\n",
              "      <td>0.0</td>\n",
              "      <td>0.0</td>\n",
              "      <td>...</td>\n",
              "      <td>0.0</td>\n",
              "      <td>0.0</td>\n",
              "      <td>0.0</td>\n",
              "      <td>0.0</td>\n",
              "      <td>0.0</td>\n",
              "      <td>0.0</td>\n",
              "      <td>0.0</td>\n",
              "      <td>0.0</td>\n",
              "      <td>0.0</td>\n",
              "      <td>0.0</td>\n",
              "    </tr>\n",
              "    <tr>\n",
              "      <th>2</th>\n",
              "      <td>0.0</td>\n",
              "      <td>0.0</td>\n",
              "      <td>0.0</td>\n",
              "      <td>0.0</td>\n",
              "      <td>0.0</td>\n",
              "      <td>0.0</td>\n",
              "      <td>0.0</td>\n",
              "      <td>0.0</td>\n",
              "      <td>0.0</td>\n",
              "      <td>0.0</td>\n",
              "      <td>...</td>\n",
              "      <td>0.0</td>\n",
              "      <td>0.0</td>\n",
              "      <td>0.0</td>\n",
              "      <td>0.0</td>\n",
              "      <td>0.0</td>\n",
              "      <td>0.0</td>\n",
              "      <td>0.0</td>\n",
              "      <td>0.0</td>\n",
              "      <td>0.0</td>\n",
              "      <td>0.0</td>\n",
              "    </tr>\n",
              "    <tr>\n",
              "      <th>3</th>\n",
              "      <td>0.0</td>\n",
              "      <td>0.0</td>\n",
              "      <td>0.0</td>\n",
              "      <td>0.0</td>\n",
              "      <td>0.0</td>\n",
              "      <td>0.0</td>\n",
              "      <td>0.0</td>\n",
              "      <td>0.0</td>\n",
              "      <td>0.0</td>\n",
              "      <td>0.0</td>\n",
              "      <td>...</td>\n",
              "      <td>0.0</td>\n",
              "      <td>0.0</td>\n",
              "      <td>0.0</td>\n",
              "      <td>0.0</td>\n",
              "      <td>0.0</td>\n",
              "      <td>0.0</td>\n",
              "      <td>0.0</td>\n",
              "      <td>0.0</td>\n",
              "      <td>0.0</td>\n",
              "      <td>0.0</td>\n",
              "    </tr>\n",
              "    <tr>\n",
              "      <th>4</th>\n",
              "      <td>0.0</td>\n",
              "      <td>0.0</td>\n",
              "      <td>0.0</td>\n",
              "      <td>0.0</td>\n",
              "      <td>0.0</td>\n",
              "      <td>0.0</td>\n",
              "      <td>0.0</td>\n",
              "      <td>0.0</td>\n",
              "      <td>0.0</td>\n",
              "      <td>0.0</td>\n",
              "      <td>...</td>\n",
              "      <td>0.0</td>\n",
              "      <td>0.0</td>\n",
              "      <td>0.0</td>\n",
              "      <td>0.0</td>\n",
              "      <td>0.0</td>\n",
              "      <td>0.0</td>\n",
              "      <td>0.0</td>\n",
              "      <td>0.0</td>\n",
              "      <td>0.0</td>\n",
              "      <td>0.0</td>\n",
              "    </tr>\n",
              "  </tbody>\n",
              "</table>\n",
              "<p>5 rows × 784 columns</p>\n",
              "</div>"
            ],
            "text/plain": [
              "   pixel1  pixel2  pixel3  pixel4  pixel5  pixel6  pixel7  pixel8  pixel9  \\\n",
              "0     0.0     0.0     0.0     0.0     0.0     0.0     0.0     0.0     0.0   \n",
              "1     0.0     0.0     0.0     0.0     0.0     0.0     0.0     0.0     0.0   \n",
              "2     0.0     0.0     0.0     0.0     0.0     0.0     0.0     0.0     0.0   \n",
              "3     0.0     0.0     0.0     0.0     0.0     0.0     0.0     0.0     0.0   \n",
              "4     0.0     0.0     0.0     0.0     0.0     0.0     0.0     0.0     0.0   \n",
              "\n",
              "   pixel10  ...  pixel775  pixel776  pixel777  pixel778  pixel779  pixel780  \\\n",
              "0      0.0  ...       0.0       0.0       0.0       0.0       0.0       0.0   \n",
              "1      0.0  ...       0.0       0.0       0.0       0.0       0.0       0.0   \n",
              "2      0.0  ...       0.0       0.0       0.0       0.0       0.0       0.0   \n",
              "3      0.0  ...       0.0       0.0       0.0       0.0       0.0       0.0   \n",
              "4      0.0  ...       0.0       0.0       0.0       0.0       0.0       0.0   \n",
              "\n",
              "   pixel781  pixel782  pixel783  pixel784  \n",
              "0       0.0       0.0       0.0       0.0  \n",
              "1       0.0       0.0       0.0       0.0  \n",
              "2       0.0       0.0       0.0       0.0  \n",
              "3       0.0       0.0       0.0       0.0  \n",
              "4       0.0       0.0       0.0       0.0  \n",
              "\n",
              "[5 rows x 784 columns]"
            ]
          },
          "execution_count": 4,
          "metadata": {},
          "output_type": "execute_result"
        }
      ],
      "source": [
        "# X 데이터 확인\n",
        "X.head()"
      ]
    },
    {
      "cell_type": "code",
      "execution_count": 7,
      "metadata": {
        "colab": {
          "base_uri": "https://localhost:8080/"
        },
        "id": "Er5hwKfGpphu",
        "outputId": "bea77339-113b-46ee-d90d-0c70b909575f"
      },
      "outputs": [
        {
          "data": {
            "text/plain": [
              "0    5\n",
              "1    0\n",
              "2    4\n",
              "3    1\n",
              "4    9\n",
              "Name: class, dtype: int16"
            ]
          },
          "execution_count": 7,
          "metadata": {},
          "output_type": "execute_result"
        }
      ],
      "source": [
        "# y 데이터 확인\n",
        "y[:5]"
      ]
    },
    {
      "cell_type": "markdown",
      "metadata": {
        "id": "74hf-AsKqmR8"
      },
      "source": [
        "분할 시에, `sklearn train_test_split` 모듈 사용하며,\n",
        "입력으로 허용되는 array 는 다음과 같다.\n",
        "\n",
        "\n",
        "> __Allowed inputs are lists, numpy arrays, scipy-sparse matrices or pandas dataframes.__\n",
        "\n",
        "\n",
        "\n"
      ]
    },
    {
      "cell_type": "code",
      "execution_count": 8,
      "metadata": {
        "id": "A8qosoY4qlVs"
      },
      "outputs": [],
      "source": [
        "# 데이터셋을 훈련 세트와 테스트 세트로 분할\n",
        "X_train, X_test, y_train, y_test = train_test_split(X, y, test_size=0.2, random_state=42)"
      ]
    },
    {
      "cell_type": "markdown",
      "metadata": {
        "id": "3Ic1Kw_FFdy1"
      },
      "source": [
        "> 정규화를 하는 이유는?\n",
        "1. 모델이 특정 특성에만 불균형하게 학습되는 것 방지\n",
        "2. 모델 수렴 속도 향상 시킨다.\n",
        "3. (표준정규화를 쓰는이유는) 데이터를 표준화하여 모델의 성능을 일관성있게 뱉어준다."
      ]
    },
    {
      "cell_type": "code",
      "execution_count": 11,
      "metadata": {
        "id": "s6WA81mIFdZF"
      },
      "outputs": [],
      "source": [
        "# 데이터 정규화 (스케일링)\n",
        "scaler = StandardScaler()\n",
        "X_train = scaler.fit_transform(X_train)\n",
        "X_test = scaler.fit_transform(X_test)"
      ]
    },
    {
      "cell_type": "markdown",
      "metadata": {
        "id": "9LcBp6_In94t"
      },
      "source": [
        "### 3.모델 로드\n",
        "- 로지스틱 회귀 모델을 로드합니다."
      ]
    },
    {
      "cell_type": "markdown",
      "metadata": {
        "id": "FeMCbEi2GEla"
      },
      "source": [
        "- max_iter = 100 - 100번 반복해서 학습\n",
        "- solver = 'lbfgs'- 대규모 데이터셋에 효율적임 , 작은데이터에는 'liblinear' 가 더 나을 수도 있음\n",
        "- multi_class = 'auto'- 자동으로 이진/다중 클래스 분류 선택\n",
        "- verbose = 1 - 학습결과에 대해 어느정도로 보여줄지 정도를 표시하는 파라미터"
      ]
    },
    {
      "cell_type": "code",
      "execution_count": 12,
      "metadata": {
        "id": "TaLCe8Yln-to"
      },
      "outputs": [],
      "source": [
        "# 로지스틱 회귀 모델 로드\n",
        "model = LogisticRegression(max_iter=100, solver='lbfgs', multi_class='auto', verbose=1)"
      ]
    },
    {
      "cell_type": "markdown",
      "metadata": {
        "id": "smE3giL7FroK"
      },
      "source": [
        "### 4.모델 학습\n",
        "- train 데이터를 사용하여 모델을 학습시킵니다.\n"
      ]
    },
    {
      "cell_type": "markdown",
      "metadata": {
        "id": "S_HO-OBUGKur"
      },
      "source": [
        "> 학습 진행 경과를 보고싶다면?!\n",
        " - model 정의할때, verbose 파라미터 조정하기"
      ]
    },
    {
      "cell_type": "code",
      "execution_count": 14,
      "metadata": {
        "colab": {
          "base_uri": "https://localhost:8080/",
          "height": 92
        },
        "id": "71_kdz7hoBkp",
        "outputId": "005be939-a315-4e7a-cc89-02d537d7324a"
      },
      "outputs": [
        {
          "name": "stderr",
          "output_type": "stream",
          "text": [
            "[Parallel(n_jobs=1)]: Using backend SequentialBackend with 1 concurrent workers.\n"
          ]
        },
        {
          "name": "stdout",
          "output_type": "stream",
          "text": [
            "RUNNING THE L-BFGS-B CODE\n",
            "\n",
            "           * * *\n",
            "\n",
            "Machine precision = 2.220D-16\n",
            " N =         7850     M =           10\n",
            "\n",
            "At X0         0 variables are exactly at the bounds\n",
            "\n",
            "At iterate    0    f=  1.28945D+05    |proj g|=  9.46693D+03\n"
          ]
        },
        {
          "name": "stderr",
          "output_type": "stream",
          "text": [
            " This problem is unconstrained.\n"
          ]
        },
        {
          "name": "stdout",
          "output_type": "stream",
          "text": [
            "\n",
            "At iterate   50    f=  1.17959D+04    |proj g|=  5.88215D+01\n",
            "\n",
            "At iterate  100    f=  1.12063D+04    |proj g|=  2.61322D+01\n",
            "\n",
            "           * * *\n",
            "\n",
            "Tit   = total number of iterations\n",
            "Tnf   = total number of function evaluations\n",
            "Tnint = total number of segments explored during Cauchy searches\n",
            "Skip  = number of BFGS updates skipped\n",
            "Nact  = number of active bounds at final generalized Cauchy point\n",
            "Projg = norm of the final projected gradient\n",
            "F     = final function value\n",
            "\n",
            "           * * *\n",
            "\n",
            "   N    Tit     Tnf  Tnint  Skip  Nact     Projg        F\n",
            " 7850    100    104      1     0     0   2.613D+01   1.121D+04\n",
            "  F =   11206.273538062742     \n",
            "\n",
            "STOP: TOTAL NO. of ITERATIONS REACHED LIMIT                 \n"
          ]
        },
        {
          "name": "stderr",
          "output_type": "stream",
          "text": [
            "/opt/anaconda3/lib/python3.9/site-packages/sklearn/linear_model/_logistic.py:814: ConvergenceWarning: lbfgs failed to converge (status=1):\n",
            "STOP: TOTAL NO. of ITERATIONS REACHED LIMIT.\n",
            "\n",
            "Increase the number of iterations (max_iter) or scale the data as shown in:\n",
            "    https://scikit-learn.org/stable/modules/preprocessing.html\n",
            "Please also refer to the documentation for alternative solver options:\n",
            "    https://scikit-learn.org/stable/modules/linear_model.html#logistic-regression\n",
            "  n_iter_i = _check_optimize_result(\n",
            "[Parallel(n_jobs=1)]: Done   1 out of   1 | elapsed:   14.6s finished\n"
          ]
        },
        {
          "data": {
            "text/plain": [
              "LogisticRegression(verbose=1)"
            ]
          },
          "execution_count": 14,
          "metadata": {},
          "output_type": "execute_result"
        }
      ],
      "source": [
        "# 모델 학습\n",
        "model.fit(X_train, y_train)"
      ]
    },
    {
      "cell_type": "markdown",
      "metadata": {
        "id": "Nzjjv8kyFymN"
      },
      "source": [
        "### 5.모델 평가 및 예측\n",
        "- 테스트 데이터를 사용하여 모델을 평가하고 예측합니다."
      ]
    },
    {
      "cell_type": "code",
      "execution_count": 15,
      "metadata": {
        "colab": {
          "base_uri": "https://localhost:8080/"
        },
        "id": "owKtDBYkFwK0",
        "outputId": "af24a46d-eb76-48dd-bc94-69b3a127c2bb"
      },
      "outputs": [
        {
          "name": "stdout",
          "output_type": "stream",
          "text": [
            "Accuracy: 0.9155\n",
            "              precision    recall  f1-score   support\n",
            "\n",
            "           0       0.96      0.96      0.96      1343\n",
            "           1       0.95      0.97      0.96      1600\n",
            "           2       0.90      0.90      0.90      1380\n",
            "           3       0.90      0.88      0.89      1433\n",
            "           4       0.92      0.92      0.92      1295\n",
            "           5       0.88      0.88      0.88      1273\n",
            "           6       0.93      0.95      0.94      1396\n",
            "           7       0.92      0.94      0.93      1503\n",
            "           8       0.89      0.86      0.87      1357\n",
            "           9       0.90      0.90      0.90      1420\n",
            "\n",
            "    accuracy                           0.92     14000\n",
            "   macro avg       0.91      0.91      0.91     14000\n",
            "weighted avg       0.92      0.92      0.92     14000\n",
            "\n"
          ]
        }
      ],
      "source": [
        "# 테스트 세트를 사용하여 예측 수행\n",
        "y_pred = model.predict(X_test)\n",
        "\n",
        "# 모델 평가\n",
        "accuracy = accuracy_score(y_pred, y_test)\n",
        "print(\"Accuracy:\", accuracy)\n",
        "\n",
        "# 분류 보고서 출력\n",
        "print(classification_report(y_test, y_pred))"
      ]
    },
    {
      "cell_type": "markdown",
      "metadata": {
        "id": "aci-rQXqF-6q"
      },
      "source": [
        "### 6.결과 시각화\n",
        "- 예측 결과를 시각화하여 실제 레이블과 비교합니다."
      ]
    },
    {
      "cell_type": "code",
      "execution_count": 16,
      "metadata": {
        "colab": {
          "base_uri": "https://localhost:8080/",
          "height": 344
        },
        "id": "ojMu22JKF-IH",
        "outputId": "ec999243-2fff-42da-b70a-50275b69a99c"
      },
      "outputs": [
        {
          "data": {
            "image/png": "[encoded data removed]",
            "text/plain": [
              "<Figure size 1000x1000 with 1 Axes>"
            ]
          },
          "metadata": {},
          "output_type": "display_data"
        },
        {
          "name": "stdout",
          "output_type": "stream",
          "text": [
            "----------------------------------------------------------------------------------------------------\n",
            "Labels: [8 4 8 7 7 0 6 2 7 4 3 9 9 8 2 5 9 1 7 8 0 0 0 3 6 3 6 1 6 9]\n",
            "Predicted: [8 4 5 7 7 0 6 2 7 7 2 7 9 8 2 5 9 1 7 8 0 0 0 3 6 3 6 1 6 9]\n",
            "틀림:8인데, 5로 예측\n",
            "틀림:4인데, 7로 예측\n",
            "틀림:3인데, 2로 예측\n",
            "틀림:9인데, 7로 예측\n"
          ]
        }
      ],
      "source": [
        "# 몇 가지 예측 결과 시각화\n",
        "def plot_digits(instances, images_per_row=10, **options):\n",
        "    size = 28\n",
        "    images_per_row = min(len(instances), images_per_row)\n",
        "    images = [instance.reshape(size, size) for instance in instances]\n",
        "    n_rows = (len(instances) - 1) // images_per_row + 1\n",
        "    row_images = []\n",
        "    n_empty = n_rows * images_per_row - len(instances)\n",
        "    images.append(np.zeros((size, size * n_empty)))\n",
        "    for row in range(n_rows):\n",
        "        rimages = images[row * images_per_row: (row + 1) * images_per_row]\n",
        "        row_images.append(np.concatenate(rimages, axis=1))\n",
        "    image = np.concatenate(row_images, axis=0)\n",
        "    plt.imshow(image, cmap=plt.cm.binary, **options)\n",
        "    plt.axis(\"off\")\n",
        "\n",
        "# 테스트 세트에서 처음 30개의 이미지와 예측 결과를 시각화\n",
        "some_images = X_test[:30]\n",
        "some_labels = y_test[:30].values\n",
        "some_predicted = y_pred[:30]\n",
        "\n",
        "plt.figure(figsize=(10,10))\n",
        "plot_digits(some_images)\n",
        "plt.show()\n",
        "print(\"-\"*100)\n",
        "print(\"Labels:\",some_labels)\n",
        "print(\"Predicted:\", some_predicted)\n",
        "\n",
        "for i,j in zip(some_labels,some_predicted):\n",
        "    if i!=j:\n",
        "        print(f\"틀림:{i}인데, {j}로 예측\")"
      ]
    },
    {
      "cell_type": "code",
      "execution_count": null,
      "metadata": {
        "id": "uKd_b5MMPgep"
      },
      "outputs": [],
      "source": []
    }
  ],
  "metadata": {
    "colab": {
      "provenance": []
    },
    "kernelspec": {
      "display_name": "Python 3",
      "name": "python3"
    },
    "language_info": {
      "codemirror_mode": {
        "name": "ipython",
        "version": 3
      },
      "file_extension": ".py",
      "mimetype": "text/x-python",
      "name": "python",
      "nbconvert_exporter": "python",
      "pygments_lexer": "ipython3",
      "version": "3.9.13"
    }
  },
  "nbformat": 4,
  "nbformat_minor": 0
}
