{
  "cells": [
    {
      "cell_type": "markdown",
      "metadata": {
        "id": "AYbKyhYse8Vg"
      },
      "source": [
        "# 붓꽃(iris)분류기 만들기"
      ]
    },
    {
      "cell_type": "markdown",
      "metadata": {
        "id": "D2vIx5-rfXbz"
      },
      "source": [
        "- Iris 데이터셋은 3종류의 붓꽃(Setosa, Versicolour, Virginica)을 4가지 특성(꽃받침 길이와 너비, 꽃잎 길이와 너비)을 사용하여 분류하는 문제입니다.\n",
        "\n",
        "- ` 4가지 특성(feature)들을 이용`하여 붓꽃 품종을 분류해봅니다.모델 구축부터 훈련 및 평가까지 진행하여 `분류 정확도를 93% 이상`으로 만듭니다."
      ]
    },
    {
      "cell_type": "markdown",
      "metadata": {
        "id": "TBrAeswLewcl"
      },
      "source": [
        "```\n",
        "실습목표\n",
        "1. 데이터셋을 불러와서 모델에 입력가능하도록 변경합니다.\n",
        "2. 의사결정 트리 모델을 불러와서 학습시킵니다.\n",
        "3. 모델을 학습시키고 평가합니다.\n",
        "\n",
        "```"
      ]
    },
    {
      "cell_type": "markdown",
      "metadata": {
        "id": "eUileI6Ie7dr"
      },
      "source": [
        "\n",
        "\n",
        "```\n",
        "실습단계\n",
        "1. 라이브러리 임포트\n",
        "2. 데이터셋 로드 및 전처리\n",
        "3. 모델 로드\n",
        "4. 모델 학습\n",
        "5. 모델 평가 및 예측\n",
        "6. 결과 시각화\n",
        "\n",
        "```\n"
      ]
    },
    {
      "cell_type": "markdown",
      "metadata": {
        "id": "bGAwKSBl_jdF"
      },
      "source": [
        "### 1.라이브러리 임포트"
      ]
    },
    {
      "cell_type": "code",
      "execution_count": 1,
      "metadata": {
        "id": "Qtm_4bG1uzYD"
      },
      "outputs": [],
      "source": [
        "import numpy as np\n",
        "import matplotlib.pyplot as plt\n",
        "from sklearn.datasets import load_iris\n",
        "from sklearn.model_selection import train_test_split\n",
        "from sklearn.preprocessing import StandardScaler\n",
        "from sklearn.tree import DecisionTreeClassifier\n",
        "from sklearn.metrics import classification_report, accuracy_score, confusion_matrix\n",
        "import seaborn as sns"
      ]
    },
    {
      "cell_type": "markdown",
      "metadata": {
        "id": "K6uhEkI2fVEE"
      },
      "source": [
        "### 2.데이터셋 로드 및 전처리"
      ]
    },
    {
      "cell_type": "markdown",
      "metadata": {
        "id": "epKzIdOke9ke"
      },
      "source": [
        "iris data는 사이킷런에 이미 준비되어 있는 데이터이며, 꽃의 정보를 저장하고 있는 data와 해당 꽃의 품종을 저장하는 target으로 이루어져 있습니다.\n",
        "\n",
        "\n",
        "---\n",
        "\n",
        "\n",
        "data는 다음과 같은 `4가지의 feature`로 이루어져 있으며, (150, 4) shape을 가진 numpy array입니다.\n",
        "\n",
        "- sepal length(꽃받침 길이)\n",
        "- sepal width (꽃받침 넓이)\n",
        "- petal length (꽃잎 길이)\n",
        "- petal width (꽃잎 넓이)\n",
        "\n",
        "target은 다음과 같은 `세 종류`의 붓꽃 품종이 저장되어 있으며, (150, ) shape을 가진 numpy array입니다.\n",
        "\n",
        "- setosa\n",
        "- versicolor\n",
        "- virginica\n",
        "\n",
        "---\n",
        "아이리스(Iris) 데이터셋을 로드하여, 특성(feature) 데이터를 X에, 타겟(target) 데이터를 y에 저장합니다."
      ]
    },
    {
      "cell_type": "code",
      "execution_count": 2,
      "metadata": {
        "id": "EHYGBp5EfByP"
      },
      "outputs": [
        {
          "name": "stdout",
          "output_type": "stream",
          "text": [
            "(150, 4) (150,)\n"
          ]
        }
      ],
      "source": [
        "iris = load_iris()\n",
        "X, y = iris.data, iris.target\n",
        "print(X.shape, y.shape)"
      ]
    },
    {
      "cell_type": "markdown",
      "metadata": {
        "id": "YA7OislpfMnl"
      },
      "source": [
        "데이터를 정규화하기 위해 StandardScaler를 사용하여 특성 데이터의 스케일을 조정하고, <br> 훈련(train) 데이터와 검증(test) 데이터를 80:20의 비율로 분리합니다."
      ]
    },
    {
      "cell_type": "code",
      "execution_count": 3,
      "metadata": {
        "id": "BDNNzZTXfCnn"
      },
      "outputs": [],
      "source": [
        "# 데이터 정규화\n",
        "scaler = StandardScaler()\n",
        "X_scaled = scaler.fit_transform(X)\n",
        "\n",
        "# 훈련 데이터와 테스트 데이터 분리\n",
        "X_train, X_test, y_train, y_test = train_test_split(X_scaled, y, test_size=0.2, random_state=42)"
      ]
    },
    {
      "cell_type": "markdown",
      "metadata": {
        "id": "aTGnr6dcfldS"
      },
      "source": [
        "### 3.모델 로드"
      ]
    },
    {
      "cell_type": "code",
      "execution_count": 4,
      "metadata": {
        "id": "MSxWxj5rpLCc"
      },
      "outputs": [],
      "source": [
        "# 로지스틱 회귀 모델 로드\n",
        "model = DecisionTreeClassifier(max_depth=3, random_state=42)"
      ]
    },
    {
      "cell_type": "markdown",
      "metadata": {
        "id": "IRAdIpukfoWF"
      },
      "source": [
        "### 4.모델 학습"
      ]
    },
    {
      "cell_type": "code",
      "execution_count": 5,
      "metadata": {
        "colab": {
          "base_uri": "https://localhost:8080/",
          "height": 74
        },
        "id": "OwcO-0Lefrb9",
        "outputId": "47d05caa-47c5-4180-c001-680c722ecb37"
      },
      "outputs": [
        {
          "data": {
            "text/plain": [
              "DecisionTreeClassifier(max_depth=3, random_state=42)"
            ]
          },
          "execution_count": 5,
          "metadata": {},
          "output_type": "execute_result"
        }
      ],
      "source": [
        "# 모델 훈련\n",
        "model.fit(X_train, y_train)"
      ]
    },
    {
      "cell_type": "markdown",
      "metadata": {
        "id": "Cc_sMDVIf3xf"
      },
      "source": [
        "### 5.모델 평가 및 예측"
      ]
    },
    {
      "cell_type": "code",
      "execution_count": 6,
      "metadata": {
        "colab": {
          "base_uri": "https://localhost:8080/",
          "height": 752
        },
        "id": "2ABFtH1Pf4d5",
        "outputId": "f62ac517-1417-4515-b07d-e389414595ea"
      },
      "outputs": [
        {
          "name": "stdout",
          "output_type": "stream",
          "text": [
            "Accuracy: 1.0\n",
            "              precision    recall  f1-score   support\n",
            "\n",
            "           0       1.00      1.00      1.00        10\n",
            "           1       1.00      1.00      1.00         9\n",
            "           2       1.00      1.00      1.00        11\n",
            "\n",
            "    accuracy                           1.00        30\n",
            "   macro avg       1.00      1.00      1.00        30\n",
            "weighted avg       1.00      1.00      1.00        30\n",
            "\n"
          ]
        },
        {
          "data": {
            "image/png": "[encoded data removed]",
            "text/plain": [
              "<Figure size 800x600 with 2 Axes>"
            ]
          },
          "metadata": {},
          "output_type": "display_data"
        }
      ],
      "source": [
        "# 테스트 세트를 사용하여 예측 수행\n",
        "y_pred = model.predict(X_test)\n",
        "\n",
        "# 모델 평가\n",
        "accuracy = accuracy_score(y_test, y_pred)\n",
        "print(\"Accuracy:\", accuracy)\n",
        "\n",
        "# 분류 보고서 출력\n",
        "print(classification_report(y_test, y_pred))\n",
        "\n",
        "# 혼동 행렬 출력\n",
        "conf_matrix = confusion_matrix(y_test, y_pred)\n",
        "plt.figure(figsize=(8, 6))\n",
        "sns.heatmap(conf_matrix, annot=True, cmap=\"Blues\", fmt='g', xticklabels=iris.target_names, yticklabels=iris.target_names)\n",
        "plt.xlabel('Predicted')\n",
        "plt.ylabel('True')\n",
        "plt.title('Confusion Matrix')\n",
        "plt.show()"
      ]
    },
    {
      "cell_type": "markdown",
      "metadata": {
        "id": "oIwKfJmDf7AP"
      },
      "source": [
        "### 6.결과 시각화"
      ]
    },
    {
      "cell_type": "code",
      "execution_count": 7,
      "metadata": {
        "colab": {
          "base_uri": "https://localhost:8080/",
          "height": 329
        },
        "id": "Ovsn34hVf7pX",
        "outputId": "deda3823-b549-4742-995d-834d00390e24"
      },
      "outputs": [
        {
          "data": {
            "image/png": "[encoded data removed]",
            "text/plain": [
              "<Figure size 1200x600 with 4 Axes>"
            ]
          },
          "metadata": {},
          "output_type": "display_data"
        }
      ],
      "source": [
        "# 몇 가지 예측 결과 시각화\n",
        "def plot_iris_predictions(X, y_true, y_pred, features):\n",
        "    plt.figure(figsize=(12, 6))\n",
        "    for i, feature in enumerate(features):\n",
        "        plt.subplot(1, len(features), i+1)\n",
        "        plt.scatter(X[:, i], y_true, color='blue', marker='o', label='True')\n",
        "        plt.scatter(X[:, i], y_pred, color='red', marker='x', label='Predicted')\n",
        "        plt.xlabel(feature)\n",
        "        plt.ylabel('Class')\n",
        "        plt.legend(loc='best')\n",
        "    plt.tight_layout()\n",
        "    plt.show()\n",
        "\n",
        "# 테스트 세트의 예측 결과 시각화\n",
        "features = iris.feature_names\n",
        "plot_iris_predictions(X_test, y_test, y_pred, features)"
      ]
    },
    {
      "cell_type": "markdown",
      "metadata": {
        "id": "dxn1BCenlmpq"
      },
      "source": [
        "## (선택) 부스팅계열 모델로 붓꽃분류하기\n",
        "\n",
        "1. 데이터셋 불러오기\n",
        "2. 모델 불러오기\n",
        "3. 모델 학습하기\n",
        "4. 모델 추론/평가하기"
      ]
    },
    {
      "cell_type": "code",
      "execution_count": 8,
      "metadata": {
        "id": "WVIisuguivoW"
      },
      "outputs": [],
      "source": [
        "from xgboost import XGBClassifier\n",
        "from sklearn.datasets import load_iris\n",
        "from sklearn.model_selection import train_test_split\n",
        "from sklearn.metrics import accuracy_score"
      ]
    },
    {
      "cell_type": "markdown",
      "metadata": {
        "id": "hvVMT-Ehl81K"
      },
      "source": [
        "###1.데이터셋 불러오기"
      ]
    },
    {
      "cell_type": "code",
      "execution_count": 9,
      "metadata": {
        "id": "z2QLCnh1lkGv"
      },
      "outputs": [],
      "source": [
        "# 아이리스 데이터셋을 불러옵니다.\n",
        "iris = load_iris()\n",
        "X = iris.data\n",
        "y = iris.target"
      ]
    },
    {
      "cell_type": "code",
      "execution_count": 10,
      "metadata": {
        "id": "OzM7k3pvmAHV"
      },
      "outputs": [],
      "source": [
        "# 데이터를 훈련 세트와 테스트 세트로 분할합니다.\n",
        "X_train, X_test, y_train, y_test = train_test_split(X, y, test_size=0.2, random_state=42)"
      ]
    },
    {
      "cell_type": "markdown",
      "metadata": {
        "id": "i-sb1RgamJYl"
      },
      "source": [
        "### 2.모델 불러오기\n",
        "\n",
        "- XGBoost 모델이란? : <br>\n",
        "eXtreme Gradient Boosting 모델로, 다양한 머신러닝 문제에서 인기가 있는 앙상블 모델\n",
        "- XGBoost 가 궁금하다면? : https://www.analyticsvidhya.com/blog/2016/03/complete-guide-parameter-tuning-xgboost-with-codes-python/"
      ]
    },
    {
      "cell_type": "code",
      "execution_count": 11,
      "metadata": {
        "id": "VHCX40KAmHgF"
      },
      "outputs": [],
      "source": [
        "# XGBoost 분류기를 생성합니다.\n",
        "model = XGBClassifier(\n",
        "    use_label_encoder=False,\n",
        "    eval_metric='mlogloss'\n",
        "    )"
      ]
    },
    {
      "cell_type": "markdown",
      "metadata": {
        "id": "FFmGTl8Kpf1M"
      },
      "source": [
        "### 3.모델 학습하기\n",
        "\n",
        "- sklearn 내부 모듈을 사용하므로, fit 메서드 사용가능"
      ]
    },
    {
      "cell_type": "code",
      "execution_count": 12,
      "metadata": {
        "colab": {
          "base_uri": "https://localhost:8080/",
          "height": 248
        },
        "id": "Iy2ujuNGmM_C",
        "outputId": "adbf132e-127b-41ab-d6f4-430acf47c7bb"
      },
      "outputs": [
        {
          "data": {
            "text/plain": [
              "XGBClassifier(base_score=None, booster=None, callbacks=None,\n",
              "              colsample_bylevel=None, colsample_bynode=None,\n",
              "              colsample_bytree=None, device=None, early_stopping_rounds=None,\n",
              "              enable_categorical=False, eval_metric='mlogloss',\n",
              "              feature_types=None, gamma=None, grow_policy=None,\n",
              "              importance_type=None, interaction_constraints=None,\n",
              "              learning_rate=None, max_bin=None, max_cat_threshold=None,\n",
              "              max_cat_to_onehot=None, max_delta_step=None, max_depth=None,\n",
              "              max_leaves=None, min_child_weight=None, missing=nan,\n",
              "              monotone_constraints=None, multi_strategy=None, n_estimators=None,\n",
              "              n_jobs=None, num_parallel_tree=None, objective='multi:softprob', ...)"
            ]
          },
          "execution_count": 12,
          "metadata": {},
          "output_type": "execute_result"
        }
      ],
      "source": [
        "# 모델을 훈련 데이터에 적합시킵니다.\n",
        "model.fit(X_train, y_train)"
      ]
    },
    {
      "cell_type": "markdown",
      "metadata": {
        "id": "b9zhYIrjpwK8"
      },
      "source": [
        "### 4.모델 평가/추론하기"
      ]
    },
    {
      "cell_type": "code",
      "execution_count": 13,
      "metadata": {
        "id": "pZaTQ2R3pmf_"
      },
      "outputs": [],
      "source": [
        "# 테스트 데이터에 대해 예측을 수행합니다.\n",
        "predictions = model.predict(X_test)"
      ]
    },
    {
      "cell_type": "code",
      "execution_count": 14,
      "metadata": {
        "colab": {
          "base_uri": "https://localhost:8080/"
        },
        "id": "xlOcWxgxpx-a",
        "outputId": "787ff45b-c1aa-4b04-83db-cd07eef6f6f8"
      },
      "outputs": [
        {
          "name": "stdout",
          "output_type": "stream",
          "text": [
            "정확도: 100.00%\n"
          ]
        }
      ],
      "source": [
        "# 모델의 정확도를 평가합니다.\n",
        "accuracy = accuracy_score(y_test, predictions)\n",
        "print(f\"정확도: {accuracy * 100:.2f}%\")"
      ]
    },
    {
      "cell_type": "code",
      "execution_count": 15,
      "metadata": {
        "colab": {
          "base_uri": "https://localhost:8080/"
        },
        "id": "pcLZ6xtvpzCB",
        "outputId": "616dd54e-842d-46eb-ba66-930ca0cc89ea"
      },
      "outputs": [
        {
          "data": {
            "text/plain": [
              "array([1, 0, 2, 1, 1, 0, 1, 2, 1, 1, 2, 0, 0, 0, 0, 1, 2, 1, 1, 2, 0, 2,\n",
              "       0, 2, 2, 2, 2, 2, 0, 0])"
            ]
          },
          "execution_count": 15,
          "metadata": {},
          "output_type": "execute_result"
        }
      ],
      "source": [
        "predictions"
      ]
    },
    {
      "cell_type": "code",
      "execution_count": 16,
      "metadata": {
        "colab": {
          "base_uri": "https://localhost:8080/"
        },
        "id": "_200-RR3p1-i",
        "outputId": "3977585b-74d3-4fe4-b0dc-b46f9952acca"
      },
      "outputs": [
        {
          "data": {
            "text/plain": [
              "array([1, 0, 2, 1, 1, 0, 1, 2, 1, 1, 2, 0, 0, 0, 0, 1, 2, 1, 1, 2, 0, 2,\n",
              "       0, 2, 2, 2, 2, 2, 0, 0])"
            ]
          },
          "execution_count": 16,
          "metadata": {},
          "output_type": "execute_result"
        }
      ],
      "source": [
        "y_test"
      ]
    },
    {
      "cell_type": "code",
      "execution_count": null,
      "metadata": {
        "id": "5g0__boJp30A"
      },
      "outputs": [],
      "source": []
    }
  ],
  "metadata": {
    "colab": {
      "provenance": [],
      "toc_visible": true
    },
    "kernelspec": {
      "display_name": "Python 3",
      "name": "python3"
    },
    "language_info": {
      "codemirror_mode": {
        "name": "ipython",
        "version": 3
      },
      "file_extension": ".py",
      "mimetype": "text/x-python",
      "name": "python",
      "nbconvert_exporter": "python",
      "pygments_lexer": "ipython3",
      "version": "3.9.undefined"
    }
  },
  "nbformat": 4,
  "nbformat_minor": 0
}
