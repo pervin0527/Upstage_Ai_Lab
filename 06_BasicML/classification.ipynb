{
  "cells": [
    {
      "cell_type": "markdown",
      "metadata": {
        "id": "B7Xlsk3cpJWE"
      },
      "source": [
        "## 예제 데이터로 암 진단 분류하기"
      ]
    },
    {
      "cell_type": "markdown",
      "metadata": {
        "id": "q6vSV8-5otF-"
      },
      "source": [
        "### 1.라이브러리 임포트"
      ]
    },
    {
      "cell_type": "code",
      "execution_count": null,
      "metadata": {
        "id": "9asbnHwwoKnW"
      },
      "outputs": [],
      "source": [
        "import numpy as np\n",
        "import pandas as pd\n",
        "import matplotlib.pyplot as plt\n",
        "\n",
        "from sklearn.model_selection import train_test_split\n",
        "from sklearn.preprocessing import StandardScaler\n",
        "from sklearn.linear_model import LogisticRegression\n",
        "\n",
        "from sklearn.metrics import accuracy_score , confusion_matrix , classification_report"
      ]
    },
    {
      "cell_type": "markdown",
      "metadata": {
        "id": "jzQIseNPoxS8"
      },
      "source": [
        "### 2.예시 데이터 생성"
      ]
    },
    {
      "cell_type": "code",
      "execution_count": null,
      "metadata": {
        "id": "6_OcpXAqozyQ"
      },
      "outputs": [],
      "source": [
        "np.random.seed(42)\n",
        "data_size = 300\n",
        "features = 10\n",
        "\n",
        "X = np.random.randn(data_size,features) #300,10\n",
        "y = (np.random.randn(data_size) > 0.5).astype(int)\n",
        "\n",
        "columns = [f\"feature{i}\" for i in range(features)] # 0 ~ 9"
      ]
    },
    {
      "cell_type": "code",
      "execution_count": null,
      "metadata": {
        "colab": {
          "base_uri": "https://localhost:8080/"
        },
        "id": "Vzkf1KVcsAzX",
        "outputId": "6fc1d078-fa9b-4068-d4ed-6861c314f959"
      },
      "outputs": [
        {
          "data": {
            "text/plain": [
              "['feature0',\n",
              " 'feature1',\n",
              " 'feature2',\n",
              " 'feature3',\n",
              " 'feature4',\n",
              " 'feature5',\n",
              " 'feature6',\n",
              " 'feature7',\n",
              " 'feature8',\n",
              " 'feature9']"
            ]
          },
          "execution_count": 35,
          "metadata": {},
          "output_type": "execute_result"
        }
      ],
      "source": [
        "columns"
      ]
    },
    {
      "cell_type": "code",
      "execution_count": null,
      "metadata": {
        "colab": {
          "base_uri": "https://localhost:8080/",
          "height": 206
        },
        "id": "ANUAIfE_sGR3",
        "outputId": "cb624a69-dd94-4d53-b918-69f408fa38ea"
      },
      "outputs": [
        {
          "data": {
            "application/vnd.google.colaboratory.intrinsic+json": {
              "summary": "{\n  \"name\": \"df\",\n  \"rows\": 300,\n  \"fields\": [\n    {\n      \"column\": \"feature0\",\n      \"properties\": {\n        \"dtype\": \"number\",\n        \"std\": 0.9243224116383388,\n        \"min\": -2.703232292999237,\n        \"max\": 2.5269324258736217,\n        \"num_unique_values\": 300,\n        \"samples\": [\n          0.8071225966373103,\n          -1.1755946056248516,\n          1.221033695525353\n        ],\n        \"semantic_type\": \"\",\n        \"description\": \"\"\n      }\n    },\n    {\n      \"column\": \"feature1\",\n      \"properties\": {\n        \"dtype\": \"number\",\n        \"std\": 1.0769220812640625,\n        \"min\": -2.9403886346642802,\n        \"max\": 2.98525900260341,\n        \"num_unique_values\": 300,\n        \"samples\": [\n          -0.9735461997044687,\n          -0.8950698422766047,\n          0.5820977034686158\n        ],\n        \"semantic_type\": \"\",\n        \"description\": \"\"\n      }\n    },\n    {\n      \"column\": \"feature2\",\n      \"properties\": {\n        \"dtype\": \"number\",\n        \"std\": 0.959008389744319,\n        \"min\": -3.2412673400690726,\n        \"max\": 2.5600845382687947,\n        \"num_unique_values\": 300,\n        \"samples\": [\n          0.47635776935621926,\n          0.5972282182533848,\n          -0.22648409884983192\n        ],\n        \"semantic_type\": \"\",\n        \"description\": \"\"\n      }\n    },\n    {\n      \"column\": \"feature3\",\n      \"properties\": {\n        \"dtype\": \"number\",\n        \"std\": 0.9618963658971483,\n        \"min\": -2.296180953137238,\n        \"max\": 2.601683114180395,\n        \"num_unique_values\": 300,\n        \"samples\": [\n          0.5054701591666269,\n          -0.9483480042242007,\n          -0.9594392367234797\n        ],\n        \"semantic_type\": \"\",\n        \"description\": \"\"\n      }\n    },\n    {\n      \"column\": \"feature4\",\n      \"properties\": {\n        \"dtype\": \"number\",\n        \"std\": 1.0316748245249612,\n        \"min\": -3.0195121558208253,\n        \"max\": 2.6443433470170348,\n        \"num_unique_values\": 300,\n        \"samples\": [\n          1.0602099074988798,\n          0.46320629209912306,\n          -0.372206776071053\n        ],\n        \"semantic_type\": \"\",\n        \"description\": \"\"\n      }\n    },\n    {\n      \"column\": \"feature5\",\n      \"properties\": {\n        \"dtype\": \"number\",\n        \"std\": 1.0460483545297938,\n        \"min\": -2.59104229214491,\n        \"max\": 3.9262377064363267,\n        \"num_unique_values\": 300,\n        \"samples\": [\n          2.7596600389110777,\n          -1.3671378064602457,\n          1.088748619704186\n        ],\n        \"semantic_type\": \"\",\n        \"description\": \"\"\n      }\n    },\n    {\n      \"column\": \"feature6\",\n      \"properties\": {\n        \"dtype\": \"number\",\n        \"std\": 1.0017855077400366,\n        \"min\": -2.6968866429415717,\n        \"max\": 2.9490944253087252,\n        \"num_unique_values\": 300,\n        \"samples\": [\n          0.39241596717876703,\n          0.8481742126666681,\n          1.884586305934609\n        ],\n        \"semantic_type\": \"\",\n        \"description\": \"\"\n      }\n    },\n    {\n      \"column\": \"feature7\",\n      \"properties\": {\n        \"dtype\": \"number\",\n        \"std\": 0.9538434806552214,\n        \"min\": -2.9911359709007233,\n        \"max\": 3.1377485336599937,\n        \"num_unique_values\": 300,\n        \"samples\": [\n          -0.5089636257074988,\n          -1.232523314768509,\n          1.543243528272189\n        ],\n        \"semantic_type\": \"\",\n        \"description\": \"\"\n      }\n    },\n    {\n      \"column\": \"feature8\",\n      \"properties\": {\n        \"dtype\": \"number\",\n        \"std\": 0.9241920578041409,\n        \"min\": -2.650969808393012,\n        \"max\": 3.0788808084552377,\n        \"num_unique_values\": 300,\n        \"samples\": [\n          -0.025574312191994436,\n          0.5522999376795232,\n          -0.4888494217862741\n        ],\n        \"semantic_type\": \"\",\n        \"description\": \"\"\n      }\n    },\n    {\n      \"column\": \"feature9\",\n      \"properties\": {\n        \"dtype\": \"number\",\n        \"std\": 0.9770142392181375,\n        \"min\": -2.8722622132816493,\n        \"max\": 3.852731490654721,\n        \"num_unique_values\": 300,\n        \"samples\": [\n          -1.7690759048891183,\n          0.6256309336460009,\n          -1.1196174332890112\n        ],\n        \"semantic_type\": \"\",\n        \"description\": \"\"\n      }\n    }\n  ]\n}",
              "type": "dataframe",
              "variable_name": "df"
            },
            "text/html": [
              "\n",
              "  <div id=\"df-cc7d49c4-2837-459e-b3fa-ec8302239a41\" class=\"colab-df-container\">\n",
              "    <div>\n",
              "<style scoped>\n",
              "    .dataframe tbody tr th:only-of-type {\n",
              "        vertical-align: middle;\n",
              "    }\n",
              "\n",
              "    .dataframe tbody tr th {\n",
              "        vertical-align: top;\n",
              "    }\n",
              "\n",
              "    .dataframe thead th {\n",
              "        text-align: right;\n",
              "    }\n",
              "</style>\n",
              "<table border=\"1\" class=\"dataframe\">\n",
              "  <thead>\n",
              "    <tr style=\"text-align: right;\">\n",
              "      <th></th>\n",
              "      <th>feature0</th>\n",
              "      <th>feature1</th>\n",
              "      <th>feature2</th>\n",
              "      <th>feature3</th>\n",
              "      <th>feature4</th>\n",
              "      <th>feature5</th>\n",
              "      <th>feature6</th>\n",
              "      <th>feature7</th>\n",
              "      <th>feature8</th>\n",
              "      <th>feature9</th>\n",
              "    </tr>\n",
              "  </thead>\n",
              "  <tbody>\n",
              "    <tr>\n",
              "      <th>0</th>\n",
              "      <td>0.496714</td>\n",
              "      <td>-0.138264</td>\n",
              "      <td>0.647689</td>\n",
              "      <td>1.523030</td>\n",
              "      <td>-0.234153</td>\n",
              "      <td>-0.234137</td>\n",
              "      <td>1.579213</td>\n",
              "      <td>0.767435</td>\n",
              "      <td>-0.469474</td>\n",
              "      <td>0.542560</td>\n",
              "    </tr>\n",
              "    <tr>\n",
              "      <th>1</th>\n",
              "      <td>-0.463418</td>\n",
              "      <td>-0.465730</td>\n",
              "      <td>0.241962</td>\n",
              "      <td>-1.913280</td>\n",
              "      <td>-1.724918</td>\n",
              "      <td>-0.562288</td>\n",
              "      <td>-1.012831</td>\n",
              "      <td>0.314247</td>\n",
              "      <td>-0.908024</td>\n",
              "      <td>-1.412304</td>\n",
              "    </tr>\n",
              "    <tr>\n",
              "      <th>2</th>\n",
              "      <td>1.465649</td>\n",
              "      <td>-0.225776</td>\n",
              "      <td>0.067528</td>\n",
              "      <td>-1.424748</td>\n",
              "      <td>-0.544383</td>\n",
              "      <td>0.110923</td>\n",
              "      <td>-1.150994</td>\n",
              "      <td>0.375698</td>\n",
              "      <td>-0.600639</td>\n",
              "      <td>-0.291694</td>\n",
              "    </tr>\n",
              "    <tr>\n",
              "      <th>3</th>\n",
              "      <td>-0.601707</td>\n",
              "      <td>1.852278</td>\n",
              "      <td>-0.013497</td>\n",
              "      <td>-1.057711</td>\n",
              "      <td>0.822545</td>\n",
              "      <td>-1.220844</td>\n",
              "      <td>0.208864</td>\n",
              "      <td>-1.959670</td>\n",
              "      <td>-1.328186</td>\n",
              "      <td>0.196861</td>\n",
              "    </tr>\n",
              "    <tr>\n",
              "      <th>4</th>\n",
              "      <td>0.738467</td>\n",
              "      <td>0.171368</td>\n",
              "      <td>-0.115648</td>\n",
              "      <td>-0.301104</td>\n",
              "      <td>-1.478522</td>\n",
              "      <td>-0.719844</td>\n",
              "      <td>-0.460639</td>\n",
              "      <td>1.057122</td>\n",
              "      <td>0.343618</td>\n",
              "      <td>-1.763040</td>\n",
              "    </tr>\n",
              "  </tbody>\n",
              "</table>\n",
              "</div>\n",
              "    <div class=\"colab-df-buttons\">\n",
              "\n",
              "  <div class=\"colab-df-container\">\n",
              "    <button class=\"colab-df-convert\" onclick=\"convertToInteractive('df-cc7d49c4-2837-459e-b3fa-ec8302239a41')\"\n",
              "            title=\"Convert this dataframe to an interactive table.\"\n",
              "            style=\"display:none;\">\n",
              "\n",
              "  <svg xmlns=\"http://www.w3.org/2000/svg\" height=\"24px\" viewBox=\"0 -960 960 960\">\n",
              "    <path d=\"M120-120v-720h720v720H120Zm60-500h600v-160H180v160Zm220 220h160v-160H400v160Zm0 220h160v-160H400v160ZM180-400h160v-160H180v160Zm440 0h160v-160H620v160ZM180-180h160v-160H180v160Zm440 0h160v-160H620v160Z\"/>\n",
              "  </svg>\n",
              "    </button>\n",
              "\n",
              "  <style>\n",
              "    .colab-df-container {\n",
              "      display:flex;\n",
              "      gap: 12px;\n",
              "    }\n",
              "\n",
              "    .colab-df-convert {\n",
              "      background-color: #E8F0FE;\n",
              "      border: none;\n",
              "      border-radius: 50%;\n",
              "      cursor: pointer;\n",
              "      display: none;\n",
              "      fill: #1967D2;\n",
              "      height: 32px;\n",
              "      padding: 0 0 0 0;\n",
              "      width: 32px;\n",
              "    }\n",
              "\n",
              "    .colab-df-convert:hover {\n",
              "      background-color: #E2EBFA;\n",
              "      box-shadow: 0px 1px 2px rgba(60, 64, 67, 0.3), 0px 1px 3px 1px rgba(60, 64, 67, 0.15);\n",
              "      fill: #174EA6;\n",
              "    }\n",
              "\n",
              "    .colab-df-buttons div {\n",
              "      margin-bottom: 4px;\n",
              "    }\n",
              "\n",
              "    [theme=dark] .colab-df-convert {\n",
              "      background-color: #3B4455;\n",
              "      fill: #D2E3FC;\n",
              "    }\n",
              "\n",
              "    [theme=dark] .colab-df-convert:hover {\n",
              "      background-color: #434B5C;\n",
              "      box-shadow: 0px 1px 3px 1px rgba(0, 0, 0, 0.15);\n",
              "      filter: drop-shadow(0px 1px 2px rgba(0, 0, 0, 0.3));\n",
              "      fill: #FFFFFF;\n",
              "    }\n",
              "  </style>\n",
              "\n",
              "    <script>\n",
              "      const buttonEl =\n",
              "        document.querySelector('#df-cc7d49c4-2837-459e-b3fa-ec8302239a41 button.colab-df-convert');\n",
              "      buttonEl.style.display =\n",
              "        google.colab.kernel.accessAllowed ? 'block' : 'none';\n",
              "\n",
              "      async function convertToInteractive(key) {\n",
              "        const element = document.querySelector('#df-cc7d49c4-2837-459e-b3fa-ec8302239a41');\n",
              "        const dataTable =\n",
              "          await google.colab.kernel.invokeFunction('convertToInteractive',\n",
              "                                                    [key], {});\n",
              "        if (!dataTable) return;\n",
              "\n",
              "        const docLinkHtml = 'Like what you see? Visit the ' +\n",
              "          '<a target=\"_blank\" href=https://colab.research.google.com/notebooks/data_table.ipynb>data table notebook</a>'\n",
              "          + ' to learn more about interactive tables.';\n",
              "        element.innerHTML = '';\n",
              "        dataTable['output_type'] = 'display_data';\n",
              "        await google.colab.output.renderOutput(dataTable, element);\n",
              "        const docLink = document.createElement('div');\n",
              "        docLink.innerHTML = docLinkHtml;\n",
              "        element.appendChild(docLink);\n",
              "      }\n",
              "    </script>\n",
              "  </div>\n",
              "\n",
              "\n",
              "<div id=\"df-3a5c212c-fede-43dc-9347-ce501911498c\">\n",
              "  <button class=\"colab-df-quickchart\" onclick=\"quickchart('df-3a5c212c-fede-43dc-9347-ce501911498c')\"\n",
              "            title=\"Suggest charts\"\n",
              "            style=\"display:none;\">\n",
              "\n",
              "<svg xmlns=\"http://www.w3.org/2000/svg\" height=\"24px\"viewBox=\"0 0 24 24\"\n",
              "     width=\"24px\">\n",
              "    <g>\n",
              "        <path d=\"M19 3H5c-1.1 0-2 .9-2 2v14c0 1.1.9 2 2 2h14c1.1 0 2-.9 2-2V5c0-1.1-.9-2-2-2zM9 17H7v-7h2v7zm4 0h-2V7h2v10zm4 0h-2v-4h2v4z\"/>\n",
              "    </g>\n",
              "</svg>\n",
              "  </button>\n",
              "\n",
              "<style>\n",
              "  .colab-df-quickchart {\n",
              "      --bg-color: #E8F0FE;\n",
              "      --fill-color: #1967D2;\n",
              "      --hover-bg-color: #E2EBFA;\n",
              "      --hover-fill-color: #174EA6;\n",
              "      --disabled-fill-color: #AAA;\n",
              "      --disabled-bg-color: #DDD;\n",
              "  }\n",
              "\n",
              "  [theme=dark] .colab-df-quickchart {\n",
              "      --bg-color: #3B4455;\n",
              "      --fill-color: #D2E3FC;\n",
              "      --hover-bg-color: #434B5C;\n",
              "      --hover-fill-color: #FFFFFF;\n",
              "      --disabled-bg-color: #3B4455;\n",
              "      --disabled-fill-color: #666;\n",
              "  }\n",
              "\n",
              "  .colab-df-quickchart {\n",
              "    background-color: var(--bg-color);\n",
              "    border: none;\n",
              "    border-radius: 50%;\n",
              "    cursor: pointer;\n",
              "    display: none;\n",
              "    fill: var(--fill-color);\n",
              "    height: 32px;\n",
              "    padding: 0;\n",
              "    width: 32px;\n",
              "  }\n",
              "\n",
              "  .colab-df-quickchart:hover {\n",
              "    background-color: var(--hover-bg-color);\n",
              "    box-shadow: 0 1px 2px rgba(60, 64, 67, 0.3), 0 1px 3px 1px rgba(60, 64, 67, 0.15);\n",
              "    fill: var(--button-hover-fill-color);\n",
              "  }\n",
              "\n",
              "  .colab-df-quickchart-complete:disabled,\n",
              "  .colab-df-quickchart-complete:disabled:hover {\n",
              "    background-color: var(--disabled-bg-color);\n",
              "    fill: var(--disabled-fill-color);\n",
              "    box-shadow: none;\n",
              "  }\n",
              "\n",
              "  .colab-df-spinner {\n",
              "    border: 2px solid var(--fill-color);\n",
              "    border-color: transparent;\n",
              "    border-bottom-color: var(--fill-color);\n",
              "    animation:\n",
              "      spin 1s steps(1) infinite;\n",
              "  }\n",
              "\n",
              "  @keyframes spin {\n",
              "    0% {\n",
              "      border-color: transparent;\n",
              "      border-bottom-color: var(--fill-color);\n",
              "      border-left-color: var(--fill-color);\n",
              "    }\n",
              "    20% {\n",
              "      border-color: transparent;\n",
              "      border-left-color: var(--fill-color);\n",
              "      border-top-color: var(--fill-color);\n",
              "    }\n",
              "    30% {\n",
              "      border-color: transparent;\n",
              "      border-left-color: var(--fill-color);\n",
              "      border-top-color: var(--fill-color);\n",
              "      border-right-color: var(--fill-color);\n",
              "    }\n",
              "    40% {\n",
              "      border-color: transparent;\n",
              "      border-right-color: var(--fill-color);\n",
              "      border-top-color: var(--fill-color);\n",
              "    }\n",
              "    60% {\n",
              "      border-color: transparent;\n",
              "      border-right-color: var(--fill-color);\n",
              "    }\n",
              "    80% {\n",
              "      border-color: transparent;\n",
              "      border-right-color: var(--fill-color);\n",
              "      border-bottom-color: var(--fill-color);\n",
              "    }\n",
              "    90% {\n",
              "      border-color: transparent;\n",
              "      border-bottom-color: var(--fill-color);\n",
              "    }\n",
              "  }\n",
              "</style>\n",
              "\n",
              "  <script>\n",
              "    async function quickchart(key) {\n",
              "      const quickchartButtonEl =\n",
              "        document.querySelector('#' + key + ' button');\n",
              "      quickchartButtonEl.disabled = true;  // To prevent multiple clicks.\n",
              "      quickchartButtonEl.classList.add('colab-df-spinner');\n",
              "      try {\n",
              "        const charts = await google.colab.kernel.invokeFunction(\n",
              "            'suggestCharts', [key], {});\n",
              "      } catch (error) {\n",
              "        console.error('Error during call to suggestCharts:', error);\n",
              "      }\n",
              "      quickchartButtonEl.classList.remove('colab-df-spinner');\n",
              "      quickchartButtonEl.classList.add('colab-df-quickchart-complete');\n",
              "    }\n",
              "    (() => {\n",
              "      let quickchartButtonEl =\n",
              "        document.querySelector('#df-3a5c212c-fede-43dc-9347-ce501911498c button');\n",
              "      quickchartButtonEl.style.display =\n",
              "        google.colab.kernel.accessAllowed ? 'block' : 'none';\n",
              "    })();\n",
              "  </script>\n",
              "</div>\n",
              "\n",
              "    </div>\n",
              "  </div>\n"
            ],
            "text/plain": [
              "   feature0  feature1  feature2  feature3  feature4  feature5  feature6  \\\n",
              "0  0.496714 -0.138264  0.647689  1.523030 -0.234153 -0.234137  1.579213   \n",
              "1 -0.463418 -0.465730  0.241962 -1.913280 -1.724918 -0.562288 -1.012831   \n",
              "2  1.465649 -0.225776  0.067528 -1.424748 -0.544383  0.110923 -1.150994   \n",
              "3 -0.601707  1.852278 -0.013497 -1.057711  0.822545 -1.220844  0.208864   \n",
              "4  0.738467  0.171368 -0.115648 -0.301104 -1.478522 -0.719844 -0.460639   \n",
              "\n",
              "   feature7  feature8  feature9  \n",
              "0  0.767435 -0.469474  0.542560  \n",
              "1  0.314247 -0.908024 -1.412304  \n",
              "2  0.375698 -0.600639 -0.291694  \n",
              "3 -1.959670 -1.328186  0.196861  \n",
              "4  1.057122  0.343618 -1.763040  "
            ]
          },
          "execution_count": 36,
          "metadata": {},
          "output_type": "execute_result"
        }
      ],
      "source": [
        "df = pd.DataFrame(X, columns=columns)\n",
        "df.head()"
      ]
    },
    {
      "cell_type": "code",
      "execution_count": null,
      "metadata": {
        "id": "ERaWKizssTNg"
      },
      "outputs": [],
      "source": [
        "df['label'] = y"
      ]
    },
    {
      "cell_type": "code",
      "execution_count": null,
      "metadata": {
        "colab": {
          "base_uri": "https://localhost:8080/",
          "height": 206
        },
        "id": "DmN5p8s_sV-0",
        "outputId": "6d357439-f4db-48da-8bae-ab72b35751b8"
      },
      "outputs": [
        {
          "data": {
            "application/vnd.google.colaboratory.intrinsic+json": {
              "summary": "{\n  \"name\": \"df\",\n  \"rows\": 300,\n  \"fields\": [\n    {\n      \"column\": \"feature0\",\n      \"properties\": {\n        \"dtype\": \"number\",\n        \"std\": 0.9243224116383388,\n        \"min\": -2.703232292999237,\n        \"max\": 2.5269324258736217,\n        \"num_unique_values\": 300,\n        \"samples\": [\n          0.8071225966373103,\n          -1.1755946056248516,\n          1.221033695525353\n        ],\n        \"semantic_type\": \"\",\n        \"description\": \"\"\n      }\n    },\n    {\n      \"column\": \"feature1\",\n      \"properties\": {\n        \"dtype\": \"number\",\n        \"std\": 1.0769220812640625,\n        \"min\": -2.9403886346642802,\n        \"max\": 2.98525900260341,\n        \"num_unique_values\": 300,\n        \"samples\": [\n          -0.9735461997044687,\n          -0.8950698422766047,\n          0.5820977034686158\n        ],\n        \"semantic_type\": \"\",\n        \"description\": \"\"\n      }\n    },\n    {\n      \"column\": \"feature2\",\n      \"properties\": {\n        \"dtype\": \"number\",\n        \"std\": 0.959008389744319,\n        \"min\": -3.2412673400690726,\n        \"max\": 2.5600845382687947,\n        \"num_unique_values\": 300,\n        \"samples\": [\n          0.47635776935621926,\n          0.5972282182533848,\n          -0.22648409884983192\n        ],\n        \"semantic_type\": \"\",\n        \"description\": \"\"\n      }\n    },\n    {\n      \"column\": \"feature3\",\n      \"properties\": {\n        \"dtype\": \"number\",\n        \"std\": 0.9618963658971483,\n        \"min\": -2.296180953137238,\n        \"max\": 2.601683114180395,\n        \"num_unique_values\": 300,\n        \"samples\": [\n          0.5054701591666269,\n          -0.9483480042242007,\n          -0.9594392367234797\n        ],\n        \"semantic_type\": \"\",\n        \"description\": \"\"\n      }\n    },\n    {\n      \"column\": \"feature4\",\n      \"properties\": {\n        \"dtype\": \"number\",\n        \"std\": 1.0316748245249612,\n        \"min\": -3.0195121558208253,\n        \"max\": 2.6443433470170348,\n        \"num_unique_values\": 300,\n        \"samples\": [\n          1.0602099074988798,\n          0.46320629209912306,\n          -0.372206776071053\n        ],\n        \"semantic_type\": \"\",\n        \"description\": \"\"\n      }\n    },\n    {\n      \"column\": \"feature5\",\n      \"properties\": {\n        \"dtype\": \"number\",\n        \"std\": 1.0460483545297938,\n        \"min\": -2.59104229214491,\n        \"max\": 3.9262377064363267,\n        \"num_unique_values\": 300,\n        \"samples\": [\n          2.7596600389110777,\n          -1.3671378064602457,\n          1.088748619704186\n        ],\n        \"semantic_type\": \"\",\n        \"description\": \"\"\n      }\n    },\n    {\n      \"column\": \"feature6\",\n      \"properties\": {\n        \"dtype\": \"number\",\n        \"std\": 1.0017855077400366,\n        \"min\": -2.6968866429415717,\n        \"max\": 2.9490944253087252,\n        \"num_unique_values\": 300,\n        \"samples\": [\n          0.39241596717876703,\n          0.8481742126666681,\n          1.884586305934609\n        ],\n        \"semantic_type\": \"\",\n        \"description\": \"\"\n      }\n    },\n    {\n      \"column\": \"feature7\",\n      \"properties\": {\n        \"dtype\": \"number\",\n        \"std\": 0.9538434806552214,\n        \"min\": -2.9911359709007233,\n        \"max\": 3.1377485336599937,\n        \"num_unique_values\": 300,\n        \"samples\": [\n          -0.5089636257074988,\n          -1.232523314768509,\n          1.543243528272189\n        ],\n        \"semantic_type\": \"\",\n        \"description\": \"\"\n      }\n    },\n    {\n      \"column\": \"feature8\",\n      \"properties\": {\n        \"dtype\": \"number\",\n        \"std\": 0.9241920578041409,\n        \"min\": -2.650969808393012,\n        \"max\": 3.0788808084552377,\n        \"num_unique_values\": 300,\n        \"samples\": [\n          -0.025574312191994436,\n          0.5522999376795232,\n          -0.4888494217862741\n        ],\n        \"semantic_type\": \"\",\n        \"description\": \"\"\n      }\n    },\n    {\n      \"column\": \"feature9\",\n      \"properties\": {\n        \"dtype\": \"number\",\n        \"std\": 0.9770142392181375,\n        \"min\": -2.8722622132816493,\n        \"max\": 3.852731490654721,\n        \"num_unique_values\": 300,\n        \"samples\": [\n          -1.7690759048891183,\n          0.6256309336460009,\n          -1.1196174332890112\n        ],\n        \"semantic_type\": \"\",\n        \"description\": \"\"\n      }\n    },\n    {\n      \"column\": \"label\",\n      \"properties\": {\n        \"dtype\": \"number\",\n        \"std\": 0,\n        \"min\": 0,\n        \"max\": 1,\n        \"num_unique_values\": 2,\n        \"samples\": [\n          1,\n          0\n        ],\n        \"semantic_type\": \"\",\n        \"description\": \"\"\n      }\n    }\n  ]\n}",
              "type": "dataframe",
              "variable_name": "df"
            },
            "text/html": [
              "\n",
              "  <div id=\"df-ada824c0-2183-499a-911d-a5c885fa3d5f\" class=\"colab-df-container\">\n",
              "    <div>\n",
              "<style scoped>\n",
              "    .dataframe tbody tr th:only-of-type {\n",
              "        vertical-align: middle;\n",
              "    }\n",
              "\n",
              "    .dataframe tbody tr th {\n",
              "        vertical-align: top;\n",
              "    }\n",
              "\n",
              "    .dataframe thead th {\n",
              "        text-align: right;\n",
              "    }\n",
              "</style>\n",
              "<table border=\"1\" class=\"dataframe\">\n",
              "  <thead>\n",
              "    <tr style=\"text-align: right;\">\n",
              "      <th></th>\n",
              "      <th>feature0</th>\n",
              "      <th>feature1</th>\n",
              "      <th>feature2</th>\n",
              "      <th>feature3</th>\n",
              "      <th>feature4</th>\n",
              "      <th>feature5</th>\n",
              "      <th>feature6</th>\n",
              "      <th>feature7</th>\n",
              "      <th>feature8</th>\n",
              "      <th>feature9</th>\n",
              "      <th>label</th>\n",
              "    </tr>\n",
              "  </thead>\n",
              "  <tbody>\n",
              "    <tr>\n",
              "      <th>0</th>\n",
              "      <td>0.496714</td>\n",
              "      <td>-0.138264</td>\n",
              "      <td>0.647689</td>\n",
              "      <td>1.523030</td>\n",
              "      <td>-0.234153</td>\n",
              "      <td>-0.234137</td>\n",
              "      <td>1.579213</td>\n",
              "      <td>0.767435</td>\n",
              "      <td>-0.469474</td>\n",
              "      <td>0.542560</td>\n",
              "      <td>0</td>\n",
              "    </tr>\n",
              "    <tr>\n",
              "      <th>1</th>\n",
              "      <td>-0.463418</td>\n",
              "      <td>-0.465730</td>\n",
              "      <td>0.241962</td>\n",
              "      <td>-1.913280</td>\n",
              "      <td>-1.724918</td>\n",
              "      <td>-0.562288</td>\n",
              "      <td>-1.012831</td>\n",
              "      <td>0.314247</td>\n",
              "      <td>-0.908024</td>\n",
              "      <td>-1.412304</td>\n",
              "      <td>0</td>\n",
              "    </tr>\n",
              "    <tr>\n",
              "      <th>2</th>\n",
              "      <td>1.465649</td>\n",
              "      <td>-0.225776</td>\n",
              "      <td>0.067528</td>\n",
              "      <td>-1.424748</td>\n",
              "      <td>-0.544383</td>\n",
              "      <td>0.110923</td>\n",
              "      <td>-1.150994</td>\n",
              "      <td>0.375698</td>\n",
              "      <td>-0.600639</td>\n",
              "      <td>-0.291694</td>\n",
              "      <td>0</td>\n",
              "    </tr>\n",
              "    <tr>\n",
              "      <th>3</th>\n",
              "      <td>-0.601707</td>\n",
              "      <td>1.852278</td>\n",
              "      <td>-0.013497</td>\n",
              "      <td>-1.057711</td>\n",
              "      <td>0.822545</td>\n",
              "      <td>-1.220844</td>\n",
              "      <td>0.208864</td>\n",
              "      <td>-1.959670</td>\n",
              "      <td>-1.328186</td>\n",
              "      <td>0.196861</td>\n",
              "      <td>1</td>\n",
              "    </tr>\n",
              "    <tr>\n",
              "      <th>4</th>\n",
              "      <td>0.738467</td>\n",
              "      <td>0.171368</td>\n",
              "      <td>-0.115648</td>\n",
              "      <td>-0.301104</td>\n",
              "      <td>-1.478522</td>\n",
              "      <td>-0.719844</td>\n",
              "      <td>-0.460639</td>\n",
              "      <td>1.057122</td>\n",
              "      <td>0.343618</td>\n",
              "      <td>-1.763040</td>\n",
              "      <td>1</td>\n",
              "    </tr>\n",
              "  </tbody>\n",
              "</table>\n",
              "</div>\n",
              "    <div class=\"colab-df-buttons\">\n",
              "\n",
              "  <div class=\"colab-df-container\">\n",
              "    <button class=\"colab-df-convert\" onclick=\"convertToInteractive('df-ada824c0-2183-499a-911d-a5c885fa3d5f')\"\n",
              "            title=\"Convert this dataframe to an interactive table.\"\n",
              "            style=\"display:none;\">\n",
              "\n",
              "  <svg xmlns=\"http://www.w3.org/2000/svg\" height=\"24px\" viewBox=\"0 -960 960 960\">\n",
              "    <path d=\"M120-120v-720h720v720H120Zm60-500h600v-160H180v160Zm220 220h160v-160H400v160Zm0 220h160v-160H400v160ZM180-400h160v-160H180v160Zm440 0h160v-160H620v160ZM180-180h160v-160H180v160Zm440 0h160v-160H620v160Z\"/>\n",
              "  </svg>\n",
              "    </button>\n",
              "\n",
              "  <style>\n",
              "    .colab-df-container {\n",
              "      display:flex;\n",
              "      gap: 12px;\n",
              "    }\n",
              "\n",
              "    .colab-df-convert {\n",
              "      background-color: #E8F0FE;\n",
              "      border: none;\n",
              "      border-radius: 50%;\n",
              "      cursor: pointer;\n",
              "      display: none;\n",
              "      fill: #1967D2;\n",
              "      height: 32px;\n",
              "      padding: 0 0 0 0;\n",
              "      width: 32px;\n",
              "    }\n",
              "\n",
              "    .colab-df-convert:hover {\n",
              "      background-color: #E2EBFA;\n",
              "      box-shadow: 0px 1px 2px rgba(60, 64, 67, 0.3), 0px 1px 3px 1px rgba(60, 64, 67, 0.15);\n",
              "      fill: #174EA6;\n",
              "    }\n",
              "\n",
              "    .colab-df-buttons div {\n",
              "      margin-bottom: 4px;\n",
              "    }\n",
              "\n",
              "    [theme=dark] .colab-df-convert {\n",
              "      background-color: #3B4455;\n",
              "      fill: #D2E3FC;\n",
              "    }\n",
              "\n",
              "    [theme=dark] .colab-df-convert:hover {\n",
              "      background-color: #434B5C;\n",
              "      box-shadow: 0px 1px 3px 1px rgba(0, 0, 0, 0.15);\n",
              "      filter: drop-shadow(0px 1px 2px rgba(0, 0, 0, 0.3));\n",
              "      fill: #FFFFFF;\n",
              "    }\n",
              "  </style>\n",
              "\n",
              "    <script>\n",
              "      const buttonEl =\n",
              "        document.querySelector('#df-ada824c0-2183-499a-911d-a5c885fa3d5f button.colab-df-convert');\n",
              "      buttonEl.style.display =\n",
              "        google.colab.kernel.accessAllowed ? 'block' : 'none';\n",
              "\n",
              "      async function convertToInteractive(key) {\n",
              "        const element = document.querySelector('#df-ada824c0-2183-499a-911d-a5c885fa3d5f');\n",
              "        const dataTable =\n",
              "          await google.colab.kernel.invokeFunction('convertToInteractive',\n",
              "                                                    [key], {});\n",
              "        if (!dataTable) return;\n",
              "\n",
              "        const docLinkHtml = 'Like what you see? Visit the ' +\n",
              "          '<a target=\"_blank\" href=https://colab.research.google.com/notebooks/data_table.ipynb>data table notebook</a>'\n",
              "          + ' to learn more about interactive tables.';\n",
              "        element.innerHTML = '';\n",
              "        dataTable['output_type'] = 'display_data';\n",
              "        await google.colab.output.renderOutput(dataTable, element);\n",
              "        const docLink = document.createElement('div');\n",
              "        docLink.innerHTML = docLinkHtml;\n",
              "        element.appendChild(docLink);\n",
              "      }\n",
              "    </script>\n",
              "  </div>\n",
              "\n",
              "\n",
              "<div id=\"df-5195db10-804a-4a79-9e63-ef38f4060766\">\n",
              "  <button class=\"colab-df-quickchart\" onclick=\"quickchart('df-5195db10-804a-4a79-9e63-ef38f4060766')\"\n",
              "            title=\"Suggest charts\"\n",
              "            style=\"display:none;\">\n",
              "\n",
              "<svg xmlns=\"http://www.w3.org/2000/svg\" height=\"24px\"viewBox=\"0 0 24 24\"\n",
              "     width=\"24px\">\n",
              "    <g>\n",
              "        <path d=\"M19 3H5c-1.1 0-2 .9-2 2v14c0 1.1.9 2 2 2h14c1.1 0 2-.9 2-2V5c0-1.1-.9-2-2-2zM9 17H7v-7h2v7zm4 0h-2V7h2v10zm4 0h-2v-4h2v4z\"/>\n",
              "    </g>\n",
              "</svg>\n",
              "  </button>\n",
              "\n",
              "<style>\n",
              "  .colab-df-quickchart {\n",
              "      --bg-color: #E8F0FE;\n",
              "      --fill-color: #1967D2;\n",
              "      --hover-bg-color: #E2EBFA;\n",
              "      --hover-fill-color: #174EA6;\n",
              "      --disabled-fill-color: #AAA;\n",
              "      --disabled-bg-color: #DDD;\n",
              "  }\n",
              "\n",
              "  [theme=dark] .colab-df-quickchart {\n",
              "      --bg-color: #3B4455;\n",
              "      --fill-color: #D2E3FC;\n",
              "      --hover-bg-color: #434B5C;\n",
              "      --hover-fill-color: #FFFFFF;\n",
              "      --disabled-bg-color: #3B4455;\n",
              "      --disabled-fill-color: #666;\n",
              "  }\n",
              "\n",
              "  .colab-df-quickchart {\n",
              "    background-color: var(--bg-color);\n",
              "    border: none;\n",
              "    border-radius: 50%;\n",
              "    cursor: pointer;\n",
              "    display: none;\n",
              "    fill: var(--fill-color);\n",
              "    height: 32px;\n",
              "    padding: 0;\n",
              "    width: 32px;\n",
              "  }\n",
              "\n",
              "  .colab-df-quickchart:hover {\n",
              "    background-color: var(--hover-bg-color);\n",
              "    box-shadow: 0 1px 2px rgba(60, 64, 67, 0.3), 0 1px 3px 1px rgba(60, 64, 67, 0.15);\n",
              "    fill: var(--button-hover-fill-color);\n",
              "  }\n",
              "\n",
              "  .colab-df-quickchart-complete:disabled,\n",
              "  .colab-df-quickchart-complete:disabled:hover {\n",
              "    background-color: var(--disabled-bg-color);\n",
              "    fill: var(--disabled-fill-color);\n",
              "    box-shadow: none;\n",
              "  }\n",
              "\n",
              "  .colab-df-spinner {\n",
              "    border: 2px solid var(--fill-color);\n",
              "    border-color: transparent;\n",
              "    border-bottom-color: var(--fill-color);\n",
              "    animation:\n",
              "      spin 1s steps(1) infinite;\n",
              "  }\n",
              "\n",
              "  @keyframes spin {\n",
              "    0% {\n",
              "      border-color: transparent;\n",
              "      border-bottom-color: var(--fill-color);\n",
              "      border-left-color: var(--fill-color);\n",
              "    }\n",
              "    20% {\n",
              "      border-color: transparent;\n",
              "      border-left-color: var(--fill-color);\n",
              "      border-top-color: var(--fill-color);\n",
              "    }\n",
              "    30% {\n",
              "      border-color: transparent;\n",
              "      border-left-color: var(--fill-color);\n",
              "      border-top-color: var(--fill-color);\n",
              "      border-right-color: var(--fill-color);\n",
              "    }\n",
              "    40% {\n",
              "      border-color: transparent;\n",
              "      border-right-color: var(--fill-color);\n",
              "      border-top-color: var(--fill-color);\n",
              "    }\n",
              "    60% {\n",
              "      border-color: transparent;\n",
              "      border-right-color: var(--fill-color);\n",
              "    }\n",
              "    80% {\n",
              "      border-color: transparent;\n",
              "      border-right-color: var(--fill-color);\n",
              "      border-bottom-color: var(--fill-color);\n",
              "    }\n",
              "    90% {\n",
              "      border-color: transparent;\n",
              "      border-bottom-color: var(--fill-color);\n",
              "    }\n",
              "  }\n",
              "</style>\n",
              "\n",
              "  <script>\n",
              "    async function quickchart(key) {\n",
              "      const quickchartButtonEl =\n",
              "        document.querySelector('#' + key + ' button');\n",
              "      quickchartButtonEl.disabled = true;  // To prevent multiple clicks.\n",
              "      quickchartButtonEl.classList.add('colab-df-spinner');\n",
              "      try {\n",
              "        const charts = await google.colab.kernel.invokeFunction(\n",
              "            'suggestCharts', [key], {});\n",
              "      } catch (error) {\n",
              "        console.error('Error during call to suggestCharts:', error);\n",
              "      }\n",
              "      quickchartButtonEl.classList.remove('colab-df-spinner');\n",
              "      quickchartButtonEl.classList.add('colab-df-quickchart-complete');\n",
              "    }\n",
              "    (() => {\n",
              "      let quickchartButtonEl =\n",
              "        document.querySelector('#df-5195db10-804a-4a79-9e63-ef38f4060766 button');\n",
              "      quickchartButtonEl.style.display =\n",
              "        google.colab.kernel.accessAllowed ? 'block' : 'none';\n",
              "    })();\n",
              "  </script>\n",
              "</div>\n",
              "\n",
              "    </div>\n",
              "  </div>\n"
            ],
            "text/plain": [
              "   feature0  feature1  feature2  feature3  feature4  feature5  feature6  \\\n",
              "0  0.496714 -0.138264  0.647689  1.523030 -0.234153 -0.234137  1.579213   \n",
              "1 -0.463418 -0.465730  0.241962 -1.913280 -1.724918 -0.562288 -1.012831   \n",
              "2  1.465649 -0.225776  0.067528 -1.424748 -0.544383  0.110923 -1.150994   \n",
              "3 -0.601707  1.852278 -0.013497 -1.057711  0.822545 -1.220844  0.208864   \n",
              "4  0.738467  0.171368 -0.115648 -0.301104 -1.478522 -0.719844 -0.460639   \n",
              "\n",
              "   feature7  feature8  feature9  label  \n",
              "0  0.767435 -0.469474  0.542560      0  \n",
              "1  0.314247 -0.908024 -1.412304      0  \n",
              "2  0.375698 -0.600639 -0.291694      0  \n",
              "3 -1.959670 -1.328186  0.196861      1  \n",
              "4  1.057122  0.343618 -1.763040      1  "
            ]
          },
          "execution_count": 38,
          "metadata": {},
          "output_type": "execute_result"
        }
      ],
      "source": [
        "df.head()"
      ]
    },
    {
      "cell_type": "markdown",
      "metadata": {
        "id": "6xZM68ueo3CW"
      },
      "source": [
        "### 3.데이터 전처리"
      ]
    },
    {
      "cell_type": "code",
      "execution_count": null,
      "metadata": {
        "id": "T5yk9MKAo5Q_"
      },
      "outputs": [],
      "source": [
        "X_train, X_test, y_train, y_test  = train_test_split(X,y,test_size=0.2,random_state=0)"
      ]
    },
    {
      "cell_type": "code",
      "execution_count": null,
      "metadata": {
        "colab": {
          "base_uri": "https://localhost:8080/"
        },
        "id": "uncILskotMZG",
        "outputId": "c1ae0616-de8d-4ae8-e1aa-da0bfae694be"
      },
      "outputs": [
        {
          "data": {
            "text/plain": [
              "(240, 10)"
            ]
          },
          "execution_count": 40,
          "metadata": {},
          "output_type": "execute_result"
        }
      ],
      "source": [
        "X_train.shape"
      ]
    },
    {
      "cell_type": "code",
      "execution_count": null,
      "metadata": {
        "colab": {
          "base_uri": "https://localhost:8080/"
        },
        "id": "YVPZfcfDtQRx",
        "outputId": "8d51ec7c-b994-4b95-932a-8f4a0af30547"
      },
      "outputs": [
        {
          "data": {
            "text/plain": [
              "(60, 10)"
            ]
          },
          "execution_count": 41,
          "metadata": {},
          "output_type": "execute_result"
        }
      ],
      "source": [
        "X_test.shape"
      ]
    },
    {
      "cell_type": "code",
      "execution_count": null,
      "metadata": {
        "colab": {
          "base_uri": "https://localhost:8080/"
        },
        "id": "vRG9g8mJtSAh",
        "outputId": "5e3b606f-354c-4ac3-f258-451967decdd7"
      },
      "outputs": [
        {
          "data": {
            "text/plain": [
              "(240,)"
            ]
          },
          "execution_count": 42,
          "metadata": {},
          "output_type": "execute_result"
        }
      ],
      "source": [
        "y_train.shape"
      ]
    },
    {
      "cell_type": "code",
      "execution_count": null,
      "metadata": {
        "colab": {
          "base_uri": "https://localhost:8080/"
        },
        "id": "zovxId4htUHq",
        "outputId": "fce82585-436e-4ef7-b057-33d4d5ab4eef"
      },
      "outputs": [
        {
          "data": {
            "text/plain": [
              "(60,)"
            ]
          },
          "execution_count": 43,
          "metadata": {},
          "output_type": "execute_result"
        }
      ],
      "source": [
        "y_test.shape"
      ]
    },
    {
      "cell_type": "code",
      "execution_count": null,
      "metadata": {
        "id": "QKNi-w-ytY8s"
      },
      "outputs": [],
      "source": [
        "# 데이터 정규화\n",
        "scaler = StandardScaler()\n",
        "X_train_scaled = scaler.fit_transform(X_train)"
      ]
    },
    {
      "cell_type": "code",
      "execution_count": null,
      "metadata": {
        "colab": {
          "base_uri": "https://localhost:8080/"
        },
        "id": "PFjfdWqotwOZ",
        "outputId": "1bdb20fd-d4d8-4d58-addb-e8c1b29a1e33"
      },
      "outputs": [
        {
          "data": {
            "text/plain": [
              "array([ 0.16057398,  0.00304602,  0.43693817,  1.19064627,  0.94955414,\n",
              "       -1.48489797, -2.55392113,  0.93431991, -1.3668787 , -0.2247654 ])"
            ]
          },
          "execution_count": 45,
          "metadata": {},
          "output_type": "execute_result"
        }
      ],
      "source": [
        "X_train[0]"
      ]
    },
    {
      "cell_type": "code",
      "execution_count": null,
      "metadata": {
        "colab": {
          "base_uri": "https://localhost:8080/"
        },
        "id": "vTUSmKK4ttDj",
        "outputId": "d580c040-fc9a-4e50-a403-8c3bb92529f9"
      },
      "outputs": [
        {
          "data": {
            "text/plain": [
              "array([ 0.12704631, -0.08247099,  0.48683579,  1.21427839,  0.78326148,\n",
              "       -1.45737458, -2.50413138,  0.90724522, -1.52258614, -0.3807814 ])"
            ]
          },
          "execution_count": 46,
          "metadata": {},
          "output_type": "execute_result"
        }
      ],
      "source": [
        "X_train_scaled[0]"
      ]
    },
    {
      "cell_type": "code",
      "execution_count": null,
      "metadata": {
        "id": "tqxpYuoM_4bj"
      },
      "outputs": [],
      "source": [
        "X_test_scaled = scaler.transform(X_test)"
      ]
    },
    {
      "cell_type": "markdown",
      "metadata": {
        "id": "wJWG0LKPo6O7"
      },
      "source": [
        "### 4.분류 모델 정의 및 학습"
      ]
    },
    {
      "cell_type": "code",
      "execution_count": null,
      "metadata": {
        "id": "GeY81jl3o7gR"
      },
      "outputs": [],
      "source": [
        "model = LogisticRegression()"
      ]
    },
    {
      "cell_type": "code",
      "execution_count": null,
      "metadata": {
        "id": "Y2wX67MrANH0"
      },
      "outputs": [],
      "source": [
        "type(model)"
      ]
    },
    {
      "cell_type": "code",
      "execution_count": null,
      "metadata": {
        "colab": {
          "base_uri": "https://localhost:8080/",
          "height": 74
        },
        "id": "y_c1OQGKAa2v",
        "outputId": "e7ce15a9-5e0c-4c67-c086-44c55a75ea66"
      },
      "outputs": [
        {
          "data": {
            "text/html": [
              "<style>#sk-container-id-3 {color: black;background-color: white;}#sk-container-id-3 pre{padding: 0;}#sk-container-id-3 div.sk-toggleable {background-color: white;}#sk-container-id-3 label.sk-toggleable__label {cursor: pointer;display: block;width: 100%;margin-bottom: 0;padding: 0.3em;box-sizing: border-box;text-align: center;}#sk-container-id-3 label.sk-toggleable__label-arrow:before {content: \"▸\";float: left;margin-right: 0.25em;color: #696969;}#sk-container-id-3 label.sk-toggleable__label-arrow:hover:before {color: black;}#sk-container-id-3 div.sk-estimator:hover label.sk-toggleable__label-arrow:before {color: black;}#sk-container-id-3 div.sk-toggleable__content {max-height: 0;max-width: 0;overflow: hidden;text-align: left;background-color: #f0f8ff;}#sk-container-id-3 div.sk-toggleable__content pre {margin: 0.2em;color: black;border-radius: 0.25em;background-color: #f0f8ff;}#sk-container-id-3 input.sk-toggleable__control:checked~div.sk-toggleable__content {max-height: 200px;max-width: 100%;overflow: auto;}#sk-container-id-3 input.sk-toggleable__control:checked~label.sk-toggleable__label-arrow:before {content: \"▾\";}#sk-container-id-3 div.sk-estimator input.sk-toggleable__control:checked~label.sk-toggleable__label {background-color: #d4ebff;}#sk-container-id-3 div.sk-label input.sk-toggleable__control:checked~label.sk-toggleable__label {background-color: #d4ebff;}#sk-container-id-3 input.sk-hidden--visually {border: 0;clip: rect(1px 1px 1px 1px);clip: rect(1px, 1px, 1px, 1px);height: 1px;margin: -1px;overflow: hidden;padding: 0;position: absolute;width: 1px;}#sk-container-id-3 div.sk-estimator {font-family: monospace;background-color: #f0f8ff;border: 1px dotted black;border-radius: 0.25em;box-sizing: border-box;margin-bottom: 0.5em;}#sk-container-id-3 div.sk-estimator:hover {background-color: #d4ebff;}#sk-container-id-3 div.sk-parallel-item::after {content: \"\";width: 100%;border-bottom: 1px solid gray;flex-grow: 1;}#sk-container-id-3 div.sk-label:hover label.sk-toggleable__label {background-color: #d4ebff;}#sk-container-id-3 div.sk-serial::before {content: \"\";position: absolute;border-left: 1px solid gray;box-sizing: border-box;top: 0;bottom: 0;left: 50%;z-index: 0;}#sk-container-id-3 div.sk-serial {display: flex;flex-direction: column;align-items: center;background-color: white;padding-right: 0.2em;padding-left: 0.2em;position: relative;}#sk-container-id-3 div.sk-item {position: relative;z-index: 1;}#sk-container-id-3 div.sk-parallel {display: flex;align-items: stretch;justify-content: center;background-color: white;position: relative;}#sk-container-id-3 div.sk-item::before, #sk-container-id-3 div.sk-parallel-item::before {content: \"\";position: absolute;border-left: 1px solid gray;box-sizing: border-box;top: 0;bottom: 0;left: 50%;z-index: -1;}#sk-container-id-3 div.sk-parallel-item {display: flex;flex-direction: column;z-index: 1;position: relative;background-color: white;}#sk-container-id-3 div.sk-parallel-item:first-child::after {align-self: flex-end;width: 50%;}#sk-container-id-3 div.sk-parallel-item:last-child::after {align-self: flex-start;width: 50%;}#sk-container-id-3 div.sk-parallel-item:only-child::after {width: 0;}#sk-container-id-3 div.sk-dashed-wrapped {border: 1px dashed gray;margin: 0 0.4em 0.5em 0.4em;box-sizing: border-box;padding-bottom: 0.4em;background-color: white;}#sk-container-id-3 div.sk-label label {font-family: monospace;font-weight: bold;display: inline-block;line-height: 1.2em;}#sk-container-id-3 div.sk-label-container {text-align: center;}#sk-container-id-3 div.sk-container {/* jupyter's `normalize.less` sets `[hidden] { display: none; }` but bootstrap.min.css set `[hidden] { display: none !important; }` so we also need the `!important` here to be able to override the default hidden behavior on the sphinx rendered scikit-learn.org. See: https://github.com/scikit-learn/scikit-learn/issues/21755 */display: inline-block !important;position: relative;}#sk-container-id-3 div.sk-text-repr-fallback {display: none;}</style><div id=\"sk-container-id-3\" class=\"sk-top-container\"><div class=\"sk-text-repr-fallback\"><pre>LogisticRegression()</pre><b>In a Jupyter environment, please rerun this cell to show the HTML representation or trust the notebook. <br />On GitHub, the HTML representation is unable to render, please try loading this page with nbviewer.org.</b></div><div class=\"sk-container\" hidden><div class=\"sk-item\"><div class=\"sk-estimator sk-toggleable\"><input class=\"sk-toggleable__control sk-hidden--visually\" id=\"sk-estimator-id-3\" type=\"checkbox\" checked><label for=\"sk-estimator-id-3\" class=\"sk-toggleable__label sk-toggleable__label-arrow\">LogisticRegression</label><div class=\"sk-toggleable__content\"><pre>LogisticRegression()</pre></div></div></div></div></div>"
            ],
            "text/plain": [
              "LogisticRegression()"
            ]
          },
          "execution_count": 59,
          "metadata": {},
          "output_type": "execute_result"
        }
      ],
      "source": [
        "# 모델 학습\n",
        "model.fit(X_train_scaled,y_train)"
      ]
    },
    {
      "cell_type": "markdown",
      "metadata": {
        "id": "7PI56vYlo9x_"
      },
      "source": [
        "### 5.분류 결과 예측 및 평가"
      ]
    },
    {
      "cell_type": "code",
      "execution_count": null,
      "metadata": {
        "id": "br9gKw_NpAKf"
      },
      "outputs": [],
      "source": [
        "# 예측\n",
        "y_pred = model.predict(X_test_scaled)"
      ]
    },
    {
      "cell_type": "code",
      "execution_count": null,
      "metadata": {
        "colab": {
          "base_uri": "https://localhost:8080/"
        },
        "id": "vWxJUAU_BSkw",
        "outputId": "44793f04-7e6e-410a-eeab-6488a3f6de4c"
      },
      "outputs": [
        {
          "data": {
            "text/plain": [
              "(60,)"
            ]
          },
          "execution_count": 61,
          "metadata": {},
          "output_type": "execute_result"
        }
      ],
      "source": [
        "y_pred.shape"
      ]
    },
    {
      "cell_type": "code",
      "execution_count": null,
      "metadata": {
        "colab": {
          "base_uri": "https://localhost:8080/"
        },
        "id": "znUmBgcgBXKH",
        "outputId": "9b90bf19-ceab-473e-fb52-c1f507f33af9"
      },
      "outputs": [
        {
          "data": {
            "text/plain": [
              "array([0, 0, 0, 0, 0, 0, 0, 0, 0, 0, 0, 0, 0, 0, 0, 0, 0, 0, 0, 0, 0, 0,\n",
              "       0, 0, 0, 0, 0, 0, 0, 0, 0, 0, 0, 0, 0, 0, 0, 0, 0, 0, 0, 0, 0, 0,\n",
              "       0, 0, 0, 0, 0, 0, 0, 0, 0, 0, 0, 0, 0, 0, 0, 0])"
            ]
          },
          "execution_count": 62,
          "metadata": {},
          "output_type": "execute_result"
        }
      ],
      "source": [
        "y_pred"
      ]
    },
    {
      "cell_type": "code",
      "execution_count": null,
      "metadata": {
        "id": "upM8WAM4BhU9"
      },
      "outputs": [],
      "source": [
        "# 정확도(accuracy) 체크\n",
        "# 맞은 것의 갯수 y <-> y_pred\n",
        "#  accuracy_score , confusion_matrix , classification_report\n",
        "\n",
        "accuracy = accuracy_score(y_test,y_pred)"
      ]
    },
    {
      "cell_type": "code",
      "execution_count": null,
      "metadata": {
        "id": "PPB_udvOB2x_"
      },
      "outputs": [],
      "source": [
        "conf_matrix = confusion_matrix(y_test,y_pred)"
      ]
    },
    {
      "cell_type": "code",
      "execution_count": null,
      "metadata": {
        "id": "9taPf0uICNQi"
      },
      "outputs": [],
      "source": [
        "class_report = classification_report(y_test,y_pred)"
      ]
    },
    {
      "cell_type": "code",
      "execution_count": null,
      "metadata": {
        "colab": {
          "base_uri": "https://localhost:8080/"
        },
        "id": "L2TBFbGqDG-K",
        "outputId": "78fcf207-a839-4137-d90e-d0c96537a1a9"
      },
      "outputs": [
        {
          "name": "stdout",
          "output_type": "stream",
          "text": [
            "accuracy: 0.6666666666666666\n",
            "[Confusion Matrix]\n",
            "[[40  0]\n",
            " [20  0]]\n",
            "----------------------------------------------------------------------------------------------------\n",
            "[classification Report]\n",
            "              precision    recall  f1-score   support\n",
            "\n",
            "           0       0.67      1.00      0.80        40\n",
            "           1       0.00      0.00      0.00        20\n",
            "\n",
            "    accuracy                           0.67        60\n",
            "   macro avg       0.33      0.50      0.40        60\n",
            "weighted avg       0.44      0.67      0.53        60\n",
            "\n"
          ]
        }
      ],
      "source": [
        "print(\"accuracy:\", accuracy)\n",
        "print(\"[Confusion Matrix]\")\n",
        "print(conf_matrix)\n",
        "print(\"-\"* 100)\n",
        "print(\"[classification Report]\")\n",
        "print(class_report)"
      ]
    },
    {
      "cell_type": "markdown",
      "metadata": {
        "id": "TC4DXyHxpHGP"
      },
      "source": [
        "### 6.결과 시각화"
      ]
    },
    {
      "cell_type": "code",
      "execution_count": null,
      "metadata": {
        "colab": {
          "base_uri": "https://localhost:8080/"
        },
        "collapsed": true,
        "id": "myGIt25WD19o",
        "outputId": "6761c31d-a225-4e15-93c2-9476dab4efbf"
      },
      "outputs": [
        {
          "data": {
            "text/plain": [
              "array([[ 5.27958857e-04,  6.01206749e-01, -1.44385482e+00,\n",
              "        -2.29618095e+00, -5.50536849e-01, -1.22071243e+00,\n",
              "        -5.08140198e-01, -1.47780319e-01, -4.53248409e-01,\n",
              "         1.45246753e+00],\n",
              "       [ 9.64851633e-01,  1.61558282e+00, -1.23434887e+00,\n",
              "        -5.92464259e-01, -2.64057570e-02,  2.80161159e-01,\n",
              "        -8.09603520e-01,  4.24061044e-01, -4.73839347e-01,\n",
              "        -1.44522709e-02],\n",
              "       [ 7.91031947e-01, -9.09387455e-01,  1.40279431e+00,\n",
              "        -1.40185106e+00,  5.86857094e-01,  2.19045563e+00,\n",
              "        -9.90536325e-01, -5.66297730e-01,  9.96513651e-02,\n",
              "        -5.03475654e-01],\n",
              "       [-1.25040773e+00,  6.04515326e-01,  8.82333062e-01,\n",
              "        -4.52090333e-01, -4.70042148e-01,  2.65878230e-01,\n",
              "        -4.36719736e-01, -6.61326146e-02,  2.09972179e+00,\n",
              "        -2.47025701e-01],\n",
              "       [-1.84618786e+00, -9.29510860e-01, -1.49652926e+00,\n",
              "        -6.50023934e-01, -8.34379698e-02, -1.44964522e+00,\n",
              "        -9.21859813e-01, -1.00395737e+00,  2.07267329e-01,\n",
              "         6.93443370e-02],\n",
              "       [-1.53098492e-02,  5.79291500e-01,  1.19580368e-01,\n",
              "        -9.73068941e-01,  1.19657150e+00, -1.58529573e-01,\n",
              "        -2.73045395e-02, -9.33267959e-01, -4.43282251e-01,\n",
              "        -8.84802714e-01],\n",
              "       [ 1.05194762e+00, -9.98060627e-01, -3.83971272e-01,\n",
              "         2.50200206e-01,  1.99566749e+00,  3.10991856e+00,\n",
              "         6.06723059e-01, -1.83196619e-01,  5.34505648e-01,\n",
              "         8.87655426e-01],\n",
              "       [ 8.50897962e-01, -1.37371788e-01,  3.90464850e-01,\n",
              "        -1.03221753e-01,  2.65362349e-01, -5.82758658e-01,\n",
              "        -2.43881716e+00, -1.34279162e-01,  1.42274814e+00,\n",
              "         9.26215402e-01],\n",
              "       [-1.66940528e+00,  5.43360192e-01, -6.62623759e-01,\n",
              "         5.70598669e-01, -7.63259157e-01, -1.80488210e+00,\n",
              "        -1.62754244e+00,  4.80849467e-02,  2.59722502e-01,\n",
              "        -9.04316625e-01],\n",
              "       [-3.48652134e-01, -3.49257704e-01, -3.21635051e-01,\n",
              "         2.07674798e+00,  3.81935452e-01,  4.30041647e-01,\n",
              "         1.03028345e+00,  2.38789159e-01, -2.59042146e-01,\n",
              "        -1.96349849e-01],\n",
              "       [-4.55122453e-02, -4.24236333e-01, -5.69832928e-01,\n",
              "         3.29508736e-01, -1.51717370e+00,  7.50579168e-01,\n",
              "        -4.16194405e-01, -1.13006934e+00, -4.50012858e-01,\n",
              "         1.25714922e+00],\n",
              "       [ 2.50492850e-01,  3.46448209e-01, -6.80024722e-01,\n",
              "         2.32253697e-01,  2.93072473e-01, -7.14351418e-01,\n",
              "         1.86577451e+00,  4.73832921e-01, -1.19130350e+00,\n",
              "         6.56553609e-01],\n",
              "       [-1.28537511e-01, -1.88184905e+00, -5.48724908e-01,\n",
              "         9.28449011e-02,  1.59856392e-01, -1.02767514e+00,\n",
              "         1.26570784e+00, -8.66174848e-01,  9.69457201e-01,\n",
              "         4.27194362e-01],\n",
              "       [-6.05860821e-01,  1.71937791e+00,  1.99251535e+00,\n",
              "        -7.66656588e-01, -5.49557136e-01,  8.59587887e-01,\n",
              "        -3.87130650e-01, -4.54112179e-02,  2.53884205e-02,\n",
              "        -1.91967316e+00],\n",
              "       [ 2.31465857e+00, -1.86726519e+00,  6.86260190e-01,\n",
              "        -1.61271587e+00, -4.71931866e-01,  1.08895060e+00,\n",
              "         6.42800191e-02, -1.07774478e+00, -7.15303709e-01,\n",
              "         6.79597749e-01],\n",
              "       [-1.84087423e+00, -1.27957697e+00, -6.24818578e-01,\n",
              "         2.60910502e-02,  5.17659020e-01, -7.25743813e-01,\n",
              "         1.86766764e-01, -7.55382932e-01, -6.11517803e-01,\n",
              "        -1.40666110e+00],\n",
              "       [ 3.86808521e-01,  1.09098043e+00,  2.01227045e+00,\n",
              "         1.02370955e+00,  2.49308596e-01,  1.04508847e+00,\n",
              "         1.44887833e-01,  2.39030433e-02, -3.51414236e-01,\n",
              "         1.56341336e+00],\n",
              "       [ 3.68673309e-01, -3.93338812e-01,  2.87448229e-02,\n",
              "         1.27845186e+00,  1.91099068e-01,  4.64365482e-02,\n",
              "        -1.35985614e+00,  7.46253566e-01,  6.45484181e-01,\n",
              "         2.16325472e+00],\n",
              "       [ 1.73889966e+00,  9.78858051e-01,  8.53181426e-02,\n",
              "        -8.08265722e-01, -8.30444407e-01,  5.22514105e-01,\n",
              "         4.18398221e-01,  1.40159859e+00,  6.50450093e-01,\n",
              "        -1.50308030e+00],\n",
              "       [ 2.42194567e-02,  1.41222056e+00, -7.96413912e-02,\n",
              "         4.52371796e-01, -1.06239353e+00,  4.28307097e-01,\n",
              "        -1.87144265e-01,  9.85729996e-01,  1.18738605e+00,\n",
              "         2.58956364e+00],\n",
              "       [ 6.96954405e-01, -3.33819490e-01,  1.17312464e+00,\n",
              "         3.69642192e-01, -1.07302144e-01,  4.47716926e-01,\n",
              "        -1.57087615e+00, -1.12676747e+00, -1.19392501e+00,\n",
              "         1.42943095e-01],\n",
              "       [-2.57376537e-01, -1.66858407e+00,  3.99223123e-01,\n",
              "         6.47195940e-01, -4.83186462e-01,  1.57398676e+00,\n",
              "        -1.22576566e+00, -1.46437488e+00,  2.24451819e-01,\n",
              "         1.04709830e+00],\n",
              "       [-3.79127741e-01, -2.03580360e-01, -5.81680914e-01,\n",
              "        -1.01475673e+00, -6.49277545e-01, -1.22394027e+00,\n",
              "         3.40834683e-02, -7.69973231e-01,  2.33785912e-01,\n",
              "        -1.55589565e+00],\n",
              "       [ 3.88578605e-01,  2.49299952e+00, -6.07091154e-03,\n",
              "         8.38490774e-01,  8.18293585e-02, -9.88896532e-02,\n",
              "         9.19076483e-01, -2.90274544e-01,  2.67392314e-01,\n",
              "         3.21697806e-01],\n",
              "       [-3.58340152e-01, -6.47541806e-01,  7.44191971e-01,\n",
              "        -1.81224173e-01, -6.49373038e-01,  1.32130403e+00,\n",
              "         1.41960300e+00, -6.00423566e-01, -1.86653995e+00,\n",
              "         1.00751369e+00],\n",
              "       [-2.49940571e+00,  2.29094257e+00, -1.38957247e+00,\n",
              "        -1.64539875e+00,  1.02257043e+00,  2.43975241e+00,\n",
              "         1.38427282e+00,  5.63909120e-01,  5.94754342e-01,\n",
              "         8.53415559e-01],\n",
              "       [ 3.08050540e-01, -3.91648567e-01,  2.69126941e-01,\n",
              "        -3.43192275e-01,  6.21571890e-01, -3.69610336e-01,\n",
              "         3.77100394e-01, -2.92628137e-02,  1.12605025e+00,\n",
              "        -5.13937236e-02],\n",
              "       [-5.31214295e-01,  4.83876651e-01, -1.10229215e+00,\n",
              "         6.81359510e-01,  4.08607308e-01, -3.07808471e-01,\n",
              "        -8.38585798e-01, -8.86680922e-01,  5.34817336e-01,\n",
              "         1.22898050e+00],\n",
              "       [ 6.98828420e-01,  4.20972944e-01,  4.92018848e-01,\n",
              "        -5.26034843e-01, -2.15334292e+00,  1.09715271e+00,\n",
              "        -4.78837456e-01, -8.62775764e-01,  6.93478912e-01,\n",
              "        -3.92012640e-01],\n",
              "       [ 1.20599452e+00,  7.77407353e-01,  4.66670982e-01,\n",
              "         1.52100623e+00, -9.48916521e-01,  1.74736320e+00,\n",
              "         9.32191564e-01, -2.36555287e-01,  1.13562015e+00,\n",
              "        -1.10629351e+00],\n",
              "       [ 1.07363175e+00, -1.02651530e+00,  1.32969674e-01,\n",
              "        -7.00120815e-01,  1.19504663e+00, -1.52318690e+00,\n",
              "        -5.58921847e-01,  3.77211875e-01,  1.56552403e+00,\n",
              "        -6.57502611e-02],\n",
              "       [-5.73662007e-01, -5.46858941e-01, -3.27532702e-02,\n",
              "        -5.43424771e-01, -7.12845783e-01,  1.06430228e-01,\n",
              "        -2.54977217e-01,  1.50399299e+00, -2.65096981e+00,\n",
              "         1.09150685e+00],\n",
              "       [-2.19671888e-01,  3.57112572e-01,  1.47789404e+00,\n",
              "        -5.18270218e-01, -8.08493603e-01, -5.01757044e-01,\n",
              "         9.15402118e-01,  3.28751110e-01, -5.29760204e-01,\n",
              "         5.13267433e-01],\n",
              "       [-1.18759842e+00,  3.09820710e-01,  6.33776881e-01,\n",
              "         4.13799097e-01, -1.85287659e-01, -1.29820700e-01,\n",
              "         4.38114720e-02, -1.47002002e-01,  9.63879117e-01,\n",
              "         2.21052300e+00],\n",
              "       [-1.59812435e+00,  4.62172666e-01,  2.02430962e+00,\n",
              "        -1.36317400e+00,  1.89706168e-01, -6.61982178e-01,\n",
              "         4.25887206e-01,  1.91477774e-02, -6.41486909e-01,\n",
              "         4.87872285e-01],\n",
              "       [ 7.78361076e-01, -5.51185716e-01, -8.18198883e-01,\n",
              "        -3.37445741e-03, -1.70184623e-01, -4.53228049e-01,\n",
              "         6.96387447e-01,  9.55305209e-01,  8.84068863e-02,\n",
              "         1.47753008e+00],\n",
              "       [ 1.63996453e+00,  7.42127491e-01,  7.54336389e-02,\n",
              "        -1.60196581e+00, -2.46062488e-01, -8.43246595e-01,\n",
              "         2.17094272e+00, -1.75885812e-01,  1.23204807e-01,\n",
              "         5.51485376e-01],\n",
              "       [-1.31256967e-01,  7.68518830e-02, -2.24855982e-01,\n",
              "        -6.50002581e-01,  1.68654672e-01,  4.41940650e-01,\n",
              "        -1.09039908e+00,  1.41093238e+00, -9.85881323e-02,\n",
              "         1.88496229e-02],\n",
              "       [ 1.51639406e+00,  6.02118320e-01,  7.20368613e-02,\n",
              "        -2.12208970e-01, -9.51918460e-01,  7.74805185e-02,\n",
              "         2.57752540e-01, -1.24176058e+00,  3.34176417e-01,\n",
              "        -1.55259049e-01],\n",
              "       [ 3.24083969e-01, -3.85082280e-01, -6.76922000e-01,\n",
              "         6.11676289e-01,  1.03099952e+00,  9.31280119e-01,\n",
              "        -8.39217523e-01, -3.09212376e-01,  3.31263431e-01,\n",
              "         9.75545127e-01],\n",
              "       [-6.84629826e-01,  7.90625599e-01, -1.97010382e+00,\n",
              "         8.92597338e-01, -1.21117193e+00,  7.30764119e-01,\n",
              "         1.42730678e-02, -9.53939419e-01, -4.07036313e-01,\n",
              "         6.86318457e-01],\n",
              "       [ 8.20482181e-01,  5.07274031e-01,  1.06667469e+00,\n",
              "         1.16929559e+00,  1.38215899e+00,  6.48709888e-01,\n",
              "        -1.67118080e-01,  1.46713686e-01,  1.20650897e+00,\n",
              "        -8.16935671e-01],\n",
              "       [-1.86871644e-01, -4.39731058e-01,  1.44697788e+00,\n",
              "         1.96554777e-01,  1.03184454e+00, -1.48556037e+00,\n",
              "         2.67050266e-01,  8.89630796e-01,  8.22839893e-02,\n",
              "         1.06548038e+00],\n",
              "       [-8.22220396e-01,  2.43687211e-01,  2.44966571e-01,\n",
              "        -5.06943175e-01, -4.71038306e-01,  2.32049937e-01,\n",
              "        -1.44808434e+00, -1.40746377e+00, -7.18444221e-01,\n",
              "        -2.13447152e-01],\n",
              "       [ 8.65897875e-02, -1.55677235e-01,  1.16778206e+00,\n",
              "         2.54420843e-01,  3.37602662e-01, -4.11876966e-01,\n",
              "        -4.87606224e-01, -4.32558188e-01,  3.94452142e-01,\n",
              "        -4.20984481e-01],\n",
              "       [ 4.59972143e-01, -6.77715370e-01,  2.01338725e+00,\n",
              "         1.36535331e-01, -3.65321551e-01,  1.84680306e-01,\n",
              "        -1.34712629e+00, -9.71614039e-01,  1.20041391e+00,\n",
              "        -6.56894279e-01],\n",
              "       [-1.02937151e+00, -1.35267029e+00, -1.52235919e+00,\n",
              "         1.11268837e+00, -6.29263394e-01,  1.53372771e+00,\n",
              "        -5.35801463e-01, -1.70735796e+00, -1.11652444e+00,\n",
              "         1.23581162e+00],\n",
              "       [-3.35784699e-01,  1.66902153e+00, -2.59591351e-01,\n",
              "        -1.50314295e+00, -2.45743064e-01, -2.72723570e-01,\n",
              "        -2.69688664e+00, -5.42948665e-02, -2.30934530e-01,\n",
              "         6.96206365e-01],\n",
              "       [ 3.61395606e-01,  1.53803657e+00, -3.58260391e-02,\n",
              "         1.56464366e+00, -2.61974510e+00,  8.21902504e-01,\n",
              "         8.70470682e-02, -2.99007350e-01,  9.17607765e-02,\n",
              "        -1.98756891e+00],\n",
              "       [-6.26790973e-02,  9.55142321e-01, -9.85726046e-01,\n",
              "         5.04046516e-01, -5.30257618e-01, -7.92872832e-01,\n",
              "        -1.07030360e-01, -1.03524232e+00, -5.53649305e-01,\n",
              "        -1.19787789e+00],\n",
              "       [ 1.95845255e-01, -9.78372778e-01,  4.08252756e-01,\n",
              "        -1.70258360e+00,  1.02915564e+00,  4.72597482e-01,\n",
              "         2.56029734e-01,  9.82690984e-01,  1.66547444e+00,\n",
              "         1.01437007e+00],\n",
              "       [ 4.38475739e-01,  1.96166577e-02,  6.72861236e-01,\n",
              "         5.91814134e-01, -3.54040711e-01, -5.73601773e-01,\n",
              "         1.01856295e-01,  1.54902015e+00, -1.23910708e+00,\n",
              "        -1.46752527e+00],\n",
              "       [-2.23465982e-01, -3.49316796e-01, -1.94196059e-02,\n",
              "        -3.03179783e-01,  7.99941902e-01, -1.61631061e+00,\n",
              "        -1.05368242e+00, -1.06780292e+00,  9.50307592e-01,\n",
              "         1.71061337e+00],\n",
              "       [ 7.71698711e-01, -2.84854262e+00,  1.14876570e+00,\n",
              "        -1.73971378e+00, -3.62440941e-01, -1.11966989e+00,\n",
              "        -1.29468148e+00,  1.16082679e+00, -4.67701201e-01,\n",
              "         3.46503882e-01],\n",
              "       [ 7.15662372e-02, -4.77657447e-01,  4.78979826e-01,\n",
              "         3.33662105e-01,  1.03753994e+00, -5.10016399e-01,\n",
              "        -2.69874935e-01, -9.78763716e-01, -4.44293260e-01,\n",
              "         3.77300493e-01],\n",
              "       [ 4.73632077e-01, -9.26381130e-01,  5.55512646e-01,\n",
              "        -9.18686511e-01, -4.17366814e-01, -2.95089914e-01,\n",
              "         9.75816719e-01,  9.18454444e-01, -1.24571738e+00,\n",
              "         5.49341110e-02],\n",
              "       [ 4.03730090e-01, -2.41956064e-02, -9.03701861e-01,\n",
              "         3.24359282e-01, -1.17903979e+00,  1.18767939e+00,\n",
              "        -4.64617297e-01,  2.01159656e-01,  2.83287872e-01,\n",
              "        -2.58904974e-01],\n",
              "       [-9.26930472e-01, -5.95253561e-02, -3.24126734e+00,\n",
              "        -1.02438764e+00, -2.52568151e-01, -1.24778318e+00,\n",
              "         1.63241130e+00, -1.43014138e+00, -4.40044487e-01,\n",
              "         1.30740577e-01],\n",
              "       [ 2.95624489e-01, -1.51664255e+00,  1.47693443e+00,\n",
              "        -1.16777955e+00,  2.16775564e-01, -1.09730253e+00,\n",
              "        -5.88866827e-01, -8.37262431e-01, -6.07875261e-01,\n",
              "        -5.39122703e-01],\n",
              "       [ 1.40886247e-01, -1.76843937e+00,  3.23167714e-01,\n",
              "        -1.47602586e-01, -4.66036502e-01, -1.59470307e+00,\n",
              "         5.13600107e-01, -5.32700840e-01, -1.16991684e+00,\n",
              "        -2.87226221e+00]])"
            ]
          },
          "execution_count": 75,
          "metadata": {},
          "output_type": "execute_result"
        }
      ],
      "source": [
        "X_test"
      ]
    },
    {
      "cell_type": "code",
      "execution_count": null,
      "metadata": {
        "colab": {
          "base_uri": "https://localhost:8080/"
        },
        "id": "F-hE9RbRDtWA",
        "outputId": "3ef4e569-41ce-4c7b-f914-2c19f77e51f4"
      },
      "outputs": [
        {
          "data": {
            "text/plain": [
              "array([ 0.60120675,  1.61558282, -0.90938745,  0.60451533, -0.92951086,\n",
              "        0.5792915 , -0.99806063, -0.13737179,  0.54336019, -0.3492577 ,\n",
              "       -0.42423633,  0.34644821, -1.88184905,  1.71937791, -1.86726519,\n",
              "       -1.27957697,  1.09098043, -0.39333881,  0.97885805,  1.41222056,\n",
              "       -0.33381949, -1.66858407, -0.20358036,  2.49299952, -0.64754181,\n",
              "        2.29094257, -0.39164857,  0.48387665,  0.42097294,  0.77740735,\n",
              "       -1.0265153 , -0.54685894,  0.35711257,  0.30982071,  0.46217267,\n",
              "       -0.55118572,  0.74212749,  0.07685188,  0.60211832, -0.38508228,\n",
              "        0.7906256 ,  0.50727403, -0.43973106,  0.24368721, -0.15567724,\n",
              "       -0.67771537, -1.35267029,  1.66902153,  1.53803657,  0.95514232,\n",
              "       -0.97837278,  0.01961666, -0.3493168 , -2.84854262, -0.47765745,\n",
              "       -0.92638113, -0.02419561, -0.05952536, -1.51664255, -1.76843937])"
            ]
          },
          "execution_count": 74,
          "metadata": {},
          "output_type": "execute_result"
        }
      ],
      "source": [
        "X_test[:, 0] ,X_test[:, 1]"
      ]
    },
    {
      "cell_type": "code",
      "execution_count": null,
      "metadata": {
        "colab": {
          "base_uri": "https://localhost:8080/",
          "height": 472
        },
        "id": "dztkpnaapIZb",
        "outputId": "1fd3c288-2dc3-4505-fe39-fb664e5283b3"
      },
      "outputs": [
        {
          "data": {
            "image/png": "[encoded data removed]",
            "text/plain": [
              "<Figure size 640x480 with 1 Axes>"
            ]
          },
          "metadata": {},
          "output_type": "display_data"
        }
      ],
      "source": [
        "# 시각화를 1,2번 특성에 대해서 시각화\n",
        "plt.scatter(X_test[:, 0], X_test[:, 1], c=y_test, cmap='viridis', marker='o', label='Actual')\n",
        "plt.scatter(X_test[:, 0], X_test[:, 1], c=y_pred, cmap='coolwarm', marker='x', label='Predicted')\n",
        "plt.xlabel('Feature 0')\n",
        "plt.ylabel('Feature 1')\n",
        "plt.legend()\n",
        "plt.title('Cancer Diagnosis Classification')\n",
        "plt.show()"
      ]
    },
    {
      "cell_type": "code",
      "execution_count": null,
      "metadata": {
        "id": "ecAEXD4oD-BH"
      },
      "outputs": [],
      "source": []
    }
  ],
  "metadata": {
    "colab": {
      "provenance": []
    },
    "kernelspec": {
      "display_name": "Python 3",
      "name": "python3"
    },
    "language_info": {
      "name": "python",
      "version": "3.9.13"
    }
  },
  "nbformat": 4,
  "nbformat_minor": 0
}
