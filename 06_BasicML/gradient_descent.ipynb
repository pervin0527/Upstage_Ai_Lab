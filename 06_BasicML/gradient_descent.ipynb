{
 "cells": [
  {
   "cell_type": "code",
   "execution_count": 1,
   "metadata": {},
   "outputs": [],
   "source": [
    "import numpy as np\n",
    "import matplotlib.pyplot as plt"
   ]
  },
  {
   "cell_type": "code",
   "execution_count": 2,
   "metadata": {},
   "outputs": [],
   "source": [
    "## seed 고정\n",
    "np.random.seed(42)"
   ]
  },
  {
   "cell_type": "code",
   "execution_count": 3,
   "metadata": {},
   "outputs": [],
   "source": [
    "X = np.random.rand(100, 1)\n",
    "Y = X * 3 + 4\n",
    "\n",
    "Y += np.random.rand(100, 1) ## 노이즈를 추가해줌."
   ]
  },
  {
   "cell_type": "code",
   "execution_count": 4,
   "metadata": {},
   "outputs": [
    {
     "name": "stdout",
     "output_type": "stream",
     "text": [
      "X 앞 10개 : [[0.37454012]\n",
      " [0.95071431]\n",
      " [0.73199394]\n",
      " [0.59865848]\n",
      " [0.15601864]\n",
      " [0.15599452]\n",
      " [0.05808361]\n",
      " [0.86617615]\n",
      " [0.60111501]\n",
      " [0.70807258]]\n",
      "--------------------------------------------------\n",
      "X_shape: (100, 1)\n",
      "--------------------------------------------------\n",
      "y 앞 10개 : [[5.15504954]\n",
      " [7.48855333]\n",
      " [6.51033781]\n",
      " [6.30454614]\n",
      " [5.3756224 ]\n",
      " [4.71727579]\n",
      " [4.58463376]\n",
      " [7.35407958]\n",
      " [6.0321432 ]\n",
      " [6.20119764]]\n",
      "--------------------------------------------------\n",
      "y_shape: (100, 1)\n"
     ]
    }
   ],
   "source": [
    "print(f\"X 앞 10개 : {X[:10]}\")\n",
    "print(\"-\"*50)\n",
    "print(f\"X_shape: {X.shape}\")\n",
    "print(\"-\"*50)\n",
    "print(f\"y 앞 10개 : {Y[:10]}\")\n",
    "print(\"-\"*50)\n",
    "print(f\"y_shape: {Y.shape}\")"
   ]
  },
  {
   "cell_type": "code",
   "execution_count": 5,
   "metadata": {},
   "outputs": [],
   "source": [
    "learning_rate = 0.001\n",
    "n_iterations = 1000"
   ]
  },
  {
   "cell_type": "code",
   "execution_count": 6,
   "metadata": {},
   "outputs": [],
   "source": [
    "theta = np.random.randn(2, 1)\n",
    "bias = np.c_[np.ones((100, 1)), X]"
   ]
  },
  {
   "cell_type": "code",
   "execution_count": null,
   "metadata": {},
   "outputs": [],
   "source": [
    "for i in range(n_iterations):\n",
    "    gradients = X.T(X.dot(theta) - Y)\n",
    "    theta = theta - learning_rate * gradients"
   ]
  }
 ],
 "metadata": {
  "kernelspec": {
   "display_name": "base",
   "language": "python",
   "name": "python3"
  },
  "language_info": {
   "codemirror_mode": {
    "name": "ipython",
    "version": 3
   },
   "file_extension": ".py",
   "mimetype": "text/x-python",
   "name": "python",
   "nbconvert_exporter": "python",
   "pygments_lexer": "ipython3",
   "version": "3.9.13"
  }
 },
 "nbformat": 4,
 "nbformat_minor": 2
}
