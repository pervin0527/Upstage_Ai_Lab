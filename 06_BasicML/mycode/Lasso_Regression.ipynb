{
 "cells": [
  {
   "cell_type": "code",
   "execution_count": 1,
   "metadata": {},
   "outputs": [],
   "source": [
    "import scipy\n",
    "import numpy as np\n",
    "import pandas as pd\n",
    "\n",
    "import warnings\n",
    "warnings.filterwarnings(\"ignore\")\n",
    "\n",
    "from sklearn import metrics\n",
    "from sklearn.linear_model import Lasso, LassoCV\n",
    "from sklearn.model_selection import GridSearchCV\n",
    "from sklearn.preprocessing import MinMaxScaler\n",
    "from sklearn.metrics import mean_squared_error\n",
    "from sklearn.model_selection import train_test_split"
   ]
  },
  {
   "cell_type": "code",
   "execution_count": 2,
   "metadata": {},
   "outputs": [],
   "source": [
    "data = pd.read_csv('https://www4.stat.ncsu.edu/~boos/var.select/diabetes.tab.txt', sep='\\t')"
   ]
  },
  {
   "cell_type": "code",
   "execution_count": 3,
   "metadata": {},
   "outputs": [],
   "source": [
    "Y = data['Y']\n",
    "X = data.drop(columns=['Y']) \n",
    "X = pd.get_dummies(X, columns=['SEX'])"
   ]
  },
  {
   "cell_type": "code",
   "execution_count": 4,
   "metadata": {},
   "outputs": [
    {
     "name": "stdout",
     "output_type": "stream",
     "text": [
      ">>>> # of Train data : 309\n",
      ">>>> # of valid data : 133\n"
     ]
    }
   ],
   "source": [
    "idx = list(range(X.shape[0]))\n",
    "train_idx, valid_idx = train_test_split(idx, test_size=0.3, random_state=2023)\n",
    "print(\">>>> # of Train data : {}\".format(len(train_idx)))\n",
    "print(\">>>> # of valid data : {}\".format(len(valid_idx)))"
   ]
  },
  {
   "cell_type": "code",
   "execution_count": 5,
   "metadata": {},
   "outputs": [],
   "source": [
    "# Scaling\n",
    "scaler = MinMaxScaler().fit(X.iloc[train_idx])\n",
    "X_scaled = scaler.transform(X)\n",
    "X_scaled = pd.DataFrame(X_scaled, columns=X.columns)"
   ]
  },
  {
   "cell_type": "code",
   "execution_count": 6,
   "metadata": {},
   "outputs": [],
   "source": [
    "def sse(clf, X, y):\n",
    "    \"\"\"Calculate the standard squared error of the model.\n",
    "    Parameters\n",
    "    ----------\n",
    "    clf : sklearn.linear_model\n",
    "        A scikit-learn linear model classifier with a `predict()` method.\n",
    "    X : numpy.ndarray\n",
    "        Training data used to fit the classifier.\n",
    "    y : numpy.ndarray\n",
    "        Target training values, of shape = [n_samples].\n",
    "    Returns\n",
    "    -------\n",
    "    float\n",
    "        The standard squared error of the model.\n",
    "    \"\"\"\n",
    "    y_hat = clf.predict(X)\n",
    "    sse = np.sum((y_hat - y) ** 2)\n",
    "    return sse / X.shape[0]\n",
    "\n",
    "\n",
    "def adj_r2_score(clf, X, y):\n",
    "    \"\"\"Calculate the adjusted :math:`R^2` of the model.\n",
    "    Parameters\n",
    "    ----------\n",
    "    clf : sklearn.linear_model\n",
    "        A scikit-learn linear model classifier with a `predict()` method.\n",
    "    X : numpy.ndarray\n",
    "        Training data used to fit the classifier.\n",
    "    y : numpy.ndarray\n",
    "        Target training values, of shape = [n_samples].\n",
    "    Returns\n",
    "    -------\n",
    "    float\n",
    "        The adjusted :math:`R^2` of the model.\n",
    "    \"\"\"\n",
    "    n = X.shape[0]  # Number of observations\n",
    "    p = X.shape[1]  # Number of features\n",
    "    r_squared = metrics.r2_score(y, clf.predict(X))\n",
    "    return 1 - (1 - r_squared) * ((n - 1) / (n - p - 1))\n",
    "\n",
    "\n",
    "def coef_se(clf, X, y):\n",
    "    \"\"\"Calculate standard error for beta coefficients.\n",
    "    Parameters\n",
    "    ----------\n",
    "    clf : sklearn.linear_model\n",
    "        A scikit-learn linear model classifier with a `predict()` method.\n",
    "    X : numpy.ndarray\n",
    "        Training data used to fit the classifier.\n",
    "    y : numpy.ndarray\n",
    "        Target training values, of shape = [n_samples].\n",
    "    Returns\n",
    "    -------\n",
    "    numpy.ndarray\n",
    "        An array of standard errors for the beta coefficients.\n",
    "    \"\"\"\n",
    "    n = X.shape[0]\n",
    "    X1 = np.hstack((np.ones((n, 1)), np.matrix(X)))\n",
    "    se_matrix = scipy.linalg.sqrtm(\n",
    "        metrics.mean_squared_error(y, clf.predict(X)) *\n",
    "        np.linalg.inv(X1.T * X1)\n",
    "    )\n",
    "    return np.diagonal(se_matrix)\n",
    "\n",
    "\n",
    "def coef_tval(clf, X, y):\n",
    "    \"\"\"Calculate t-statistic for beta coefficients.\n",
    "    Parameters\n",
    "    ----------\n",
    "    clf : sklearn.linear_model\n",
    "        A scikit-learn linear model classifier with a `predict()` method.\n",
    "    X : numpy.ndarray\n",
    "        Training data used to fit the classifier.\n",
    "    y : numpy.ndarray\n",
    "        Target training values, of shape = [n_samples].\n",
    "    Returns\n",
    "    -------\n",
    "    numpy.ndarray\n",
    "        An array of t-statistic values.\n",
    "    \"\"\"\n",
    "    a = np.array(clf.intercept_ / coef_se(clf, X, y)[0])\n",
    "    b = np.array(clf.coef_ / coef_se(clf, X, y)[1:])\n",
    "    return np.append(a, b)\n",
    "\n",
    "\n",
    "def coef_pval(clf, X, y):\n",
    "    \"\"\"Calculate p-values for beta coefficients.\n",
    "    Parameters\n",
    "    ----------\n",
    "    clf : sklearn.linear_model\n",
    "        A scikit-learn linear model classifier with a `predict()` method.\n",
    "    X : numpy.ndarray\n",
    "        Training data used to fit the classifier.\n",
    "    y : numpy.ndarray\n",
    "        Target training values, of shape = [n_samples].\n",
    "    Returns\n",
    "    -------\n",
    "    numpy.ndarray\n",
    "        An array of p-values.\n",
    "    \"\"\"\n",
    "    n = X.shape[0]\n",
    "    t = coef_tval(clf, X, y)\n",
    "    p = 2 * (1 - scipy.stats.t.cdf(abs(t), n - 1))\n",
    "    return p\n",
    "\n",
    "def summary(clf, X, y, xlabels=None):\n",
    "    \"\"\"\n",
    "    Output summary statistics for a fitted regression model.\n",
    "    Parameters\n",
    "    ----------\n",
    "    clf : sklearn.linear_model\n",
    "        A scikit-learn linear model classifier with a `predict()` method.\n",
    "    X : numpy.ndarray\n",
    "        Training data used to fit the classifier.\n",
    "    y : numpy.ndarray\n",
    "        Target training values, of shape = [n_samples].\n",
    "    xlabels : list, tuple\n",
    "        The labels for the predictors.\n",
    "    \"\"\"\n",
    "    # Check and/or make xlabels\n",
    "    ncols = X.shape[1]\n",
    "    if xlabels is None:\n",
    "        xlabels = np.array(\n",
    "            ['x{0}'.format(i) for i in range(1, ncols + 1)], dtype='str')\n",
    "    elif isinstance(xlabels, (tuple, list)):\n",
    "        xlabels = np.array(xlabels, dtype='str')\n",
    "    # Make sure dims of xlabels matches dims of X\n",
    "    if xlabels.shape[0] != ncols:\n",
    "        raise AssertionError(\n",
    "            \"Dimension of xlabels {0} does not match \"\n",
    "            \"X {1}.\".format(xlabels.shape, X.shape))\n",
    "    # Create data frame of coefficient estimates and associated stats\n",
    "    coef_df = pd.DataFrame(\n",
    "        index=['_intercept'] + list(xlabels),\n",
    "        columns=['Estimate', 'Std. Error', 't value', 'p value']\n",
    "    )\n",
    "    try:\n",
    "        coef_df['Estimate'] = np.concatenate(\n",
    "            (np.round(np.array([clf.intercept_]), 6), np.round((clf.coef_), 6)))\n",
    "    except Exception as e:\n",
    "        coef_df['Estimate'] = np.concatenate(\n",
    "            (\n",
    "                np.round(np.array([clf.intercept_]), 6),\n",
    "                np.round((clf.coef_), 6)\n",
    "            ), axis = 1\n",
    "    )[0,:]\n",
    "    coef_df['Std. Error'] = np.round(coef_se(clf, X, y), 6)\n",
    "    coef_df['t value'] = np.round(coef_tval(clf, X, y), 4)\n",
    "    coef_df['p value'] = np.round(coef_pval(clf, X, y), 6)\n",
    "    # Output results\n",
    "    print('Coefficients:')\n",
    "    print(coef_df.to_string(index=True))\n",
    "    print('---')\n",
    "    print('R-squared:  {0:.6f},    Adjusted R-squared:  {1:.6f},    MSE: {2:.1f}'.format(\n",
    "        metrics.r2_score(y, clf.predict(X)), adj_r2_score(clf, X, y), sse(clf, X, y)))"
   ]
  },
  {
   "cell_type": "code",
   "execution_count": 7,
   "metadata": {},
   "outputs": [
    {
     "name": "stdout",
     "output_type": "stream",
     "text": [
      "Alpah : 0.00001, R2 : 0.5301656, MSE : 3084.6092464, RMSE : 55.5392586\n",
      "Alpah : 0.00005, R2 : 0.5301674, MSE : 3084.5972157, RMSE : 55.5391503\n",
      "Alpah : 0.00010, R2 : 0.5301697, MSE : 3084.5822667, RMSE : 55.5390157\n",
      "Alpah : 0.00100, R2 : 0.5302081, MSE : 3084.3301897, RMSE : 55.5367463\n",
      "Alpah : 0.01000, R2 : 0.5304264, MSE : 3082.8971348, RMSE : 55.5238429\n",
      "Alpah : 0.10000, R2 : 0.5281775, MSE : 3097.6617244, RMSE : 55.6566413\n",
      "Alpah : 0.30000, R2 : 0.5210059, MSE : 3144.7454151, RMSE : 56.0780297\n",
      "Alpah : 0.50000, R2 : 0.5131125, MSE : 3196.5679788, RMSE : 56.5381993\n",
      "Alpah : 0.60000, R2 : 0.5092452, MSE : 3221.9578939, RMSE : 56.7622929\n",
      "Alpah : 0.70000, R2 : 0.5050718, MSE : 3249.3577616, RMSE : 57.0031382\n",
      "Alpah : 0.90000, R2 : 0.4958220, MSE : 3310.0854310, RMSE : 57.5333419\n",
      "Alpah : 1.00000, R2 : 0.4906431, MSE : 3344.0866656, RMSE : 57.8280785\n",
      "Alpah : 10.00000, R2 : -0.0256145, MSE : 6733.4784067, RMSE : 82.0577748\n"
     ]
    }
   ],
   "source": [
    "penalties = [0.00001, 0.00005, 0.0001, 0.001, 0.01, 0.1, 0.3, 0.5, 0.6, 0.7, 0.9, 1, 10]\n",
    "\n",
    "for penalty in penalties:\n",
    "    model = Lasso(alpha=penalty).fit(X_scaled.iloc[train_idx], Y.iloc[train_idx])\n",
    "    score = model.score(X_scaled.iloc[valid_idx], Y.iloc[valid_idx]) ## R square\n",
    "    pred_y = model.predict(X_scaled.iloc[valid_idx])\n",
    "    mse = mean_squared_error(Y.iloc[valid_idx], pred_y)\n",
    "    print(f\"Alpah : {penalty:.5f}, R2 : {score:.7f}, MSE : {mse:.7f}, RMSE : {np.sqrt(mse):.7f}\")"
   ]
  },
  {
   "cell_type": "code",
   "execution_count": 8,
   "metadata": {},
   "outputs": [
    {
     "name": "stdout",
     "output_type": "stream",
     "text": [
      "Coefficients:\n",
      "              Estimate                  Std. Error         t value   p value\n",
      "_intercept    4.144976  3.802265e+08+3.448469e+00j  0.0000-0.0000j  1.000000\n",
      "AGE         -13.359132  2.367189e+01+3.358180e-01j -0.5642+0.0080j  0.573515\n",
      "BMI         127.876677  3.180436e+01+1.855780e-01j  4.0206-0.0235j  0.000097\n",
      "BP           66.897382  2.810967e+01+3.986340e-01j  2.3794-0.0337j  0.018761\n",
      "S1         -153.025383  1.636532e+02+3.289490e-01j -0.9351+0.0019j  0.351466\n",
      "S2          102.155001  1.151253e+02+8.750340e-01j  0.8873-0.0067j  0.376525\n",
      "S3          -10.583686  7.280668e+01-2.029050e-01j -0.1454-0.0004j  0.884643\n",
      "S4            9.263867  5.721106e+01+2.310020e-01j  0.1619-0.0007j  0.871614\n",
      "S5          181.017864  5.026443e+01+1.280330e-01j  3.6013-0.0092j  0.000447\n",
      "S6           18.390761  3.405064e+01+5.075420e-01j  0.5400-0.0080j  0.590079\n",
      "SEX_1        20.777166  3.802265e+08+1.747474e+00j  0.0000-0.0000j  1.000000\n",
      "SEX_2        -0.000000  3.802265e+08+2.824800e-01j -0.0000+0.0000j  1.000000\n",
      "---\n",
      "R-squared:  0.530602,    Adjusted R-squared:  0.487930,    MSE: 3081.7\n"
     ]
    }
   ],
   "source": [
    "model_best = Lasso(alpha=0.02).fit(X_scaled.iloc[train_idx], Y.iloc[train_idx])\n",
    "summary(model_best, X_scaled.iloc[valid_idx], Y.iloc[valid_idx], xlabels=X.columns)"
   ]
  },
  {
   "cell_type": "code",
   "execution_count": 9,
   "metadata": {},
   "outputs": [
    {
     "name": "stdout",
     "output_type": "stream",
     "text": [
      "Best Alpha : 0.3000000\n"
     ]
    }
   ],
   "source": [
    "lasso_cv=LassoCV(alphas=penalties, cv=5)\n",
    "model = lasso_cv.fit(X_scaled.iloc[train_idx], Y.iloc[train_idx])\n",
    "print(f\"Best Alpha : {model.alpha_:.7f}\")"
   ]
  },
  {
   "cell_type": "code",
   "execution_count": 10,
   "metadata": {},
   "outputs": [
    {
     "name": "stdout",
     "output_type": "stream",
     "text": [
      "Alpha:0.3000000, R2:0.5210059, MSE:3144.7454151, RMSE:56.0780297\n",
      "Coefficients:\n",
      "              Estimate                  Std. Error         t value   p value\n",
      "_intercept   35.476784  3.840936e+08-0.000000e+00j  0.0000+0.0000j  1.000000\n",
      "AGE          -3.436299  2.353316e+01-0.000000e+00j -0.1460-0.0000j  0.884129\n",
      "BMI         127.199861  3.189525e+01-0.000000e+00j  3.9881+0.0000j  0.000110\n",
      "BP           60.468162  2.792128e+01-0.000000e+00j  2.1657+0.0000j  0.032134\n",
      "S1           -6.083815  1.648463e+02-0.000000e+00j -0.0369-0.0000j  0.970616\n",
      "S2           -0.000000  1.161079e+02-0.000000e+00j -0.0000+0.0000j  1.000000\n",
      "S3          -62.922734  7.335835e+01-0.000000e+00j -0.8577-0.0000j  0.392588\n",
      "S4            0.000000  5.756817e+01-0.000000e+00j  0.0000+0.0000j  1.000000\n",
      "S5          124.200563  5.029221e+01-0.000000e+00j  2.4696+0.0000j  0.014804\n",
      "S6            8.099838  3.395800e+01+0.000000e+00j  0.2385-0.0000j  0.811844\n",
      "SEX_1        18.108153  3.840936e+08-0.000000e+00j  0.0000+0.0000j  1.000000\n",
      "SEX_2        -0.000000  3.840936e+08+0.000000e+00j -0.0000+0.0000j  1.000000\n",
      "---\n",
      "R-squared:  0.521006,    Adjusted R-squared:  0.477461,    MSE: 3144.7\n"
     ]
    }
   ],
   "source": [
    "model_best = Lasso(alpha=model.alpha_).fit(X_scaled.iloc[train_idx], Y.iloc[train_idx])\n",
    "\n",
    "score = model_best.score(X_scaled.iloc[valid_idx], Y.iloc[valid_idx])\n",
    "pred_y = model_best.predict(X_scaled.iloc[valid_idx])\n",
    "mse = mean_squared_error(Y.iloc[valid_idx], pred_y)\n",
    "\n",
    "print(f\"Alpha:{model.alpha_:.7f}, R2:{score:.7f}, MSE:{mse:.7f}, RMSE:{np.sqrt(mse):.7f}\")\n",
    "summary(model_best, X_scaled.iloc[valid_idx], Y.iloc[valid_idx], xlabels=X.columns)"
   ]
  },
  {
   "cell_type": "code",
   "execution_count": null,
   "metadata": {},
   "outputs": [],
   "source": []
  }
 ],
 "metadata": {
  "kernelspec": {
   "display_name": "base",
   "language": "python",
   "name": "python3"
  },
  "language_info": {
   "codemirror_mode": {
    "name": "ipython",
    "version": 3
   },
   "file_extension": ".py",
   "mimetype": "text/x-python",
   "name": "python",
   "nbconvert_exporter": "python",
   "pygments_lexer": "ipython3",
   "version": "3.9.13"
  }
 },
 "nbformat": 4,
 "nbformat_minor": 2
}
