{
 "cells": [
  {
   "cell_type": "code",
   "execution_count": 1,
   "metadata": {},
   "outputs": [],
   "source": [
    "import time\n",
    "import torch\n",
    "import numpy as np\n",
    "import matplotlib.pyplot as plt\n",
    "\n",
    "from functools import partial\n",
    "from scipy.spatial import distance\n",
    "\n",
    "import torch.nn as nn\n",
    "from torch.nn.utils.rnn import pad_sequence\n",
    "from torch.profiler import profile, record_function, ProfilerActivity\n",
    "\n",
    "from rdkit import Chem\n",
    "from rdkit.Chem import rdMolDescriptors\n",
    "from rdkit.Chem import DataStructs\n",
    "from rdkit.Chem import rdFingerprintGenerator"
   ]
  },
  {
   "cell_type": "code",
   "execution_count": 2,
   "metadata": {},
   "outputs": [],
   "source": [
    "smiles = ['CC1CN(c2cc(CNc3nc(Nc4cc(C(=O)N[Dy])ccc4Cl)nc(Nc4nccnc4Cl)n3)ccn2)CCO1',\n",
    "       'O=C(N[Dy])c1cncc(Nc2nc(NCC3(N4CCOCC4)CC3)nc(Nc3c(O)ncnc3O)n2)n1',\n",
    "       'Cc1cnc(Cl)nc1Nc1nc(NCC(C)c2c(Cl)cccc2Cl)nc(N[C@@H](Cc2ccc([N+](=O)[O-])cc2)C(=O)N[Dy])n1',\n",
    "       'O=C(N[Dy])c1cccc(Nc2nc(NCCN3CCCS3(=O)=O)nc(Nc3cc(Cl)c([N+](=O)[O-])cn3)n2)c1',\n",
    "       'C#CC[C@H](Nc1nc(NCCS(=O)(=O)Nc2ccccc2)nc(NCc2ccnc(C(N)=O)c2)n1)C(=O)N[Dy]',\n",
    "       'COc1ccc(Nc2nc(Nc3cccc(S(C)(=O)=O)c3)nc(Nc3ccc(OC)c([N+](=O)[O-])c3)n2)c(C(=O)N[Dy])c1',\n",
    "       'O=C(N[Dy])[C@@H](CCC1CCCCC1)Nc1nc(NCc2nccn2-c2ccccc2)nc(Nc2ccc(O)cc2C(F)(F)F)n1',\n",
    "       'O=C(N[Dy])[C@H]1CC[C@@H](Nc2nc(Nc3ccnc(-c4ccccc4)c3)nc(Nc3cc(C4CC4)[nH]n3)n2)C1',\n",
    "       'CCSC1CCC1(O)CNc1nc(Nc2cccc(I)c2C(=O)N[Dy])nc(Nc2cccc3ocnc23)n1',\n",
    "       'COc1ccnc(Nc2nc(NCC#Cc3cccnc3)nc(N[C@H](Cc3ccc(Cl)c(Cl)c3)C(=O)N[Dy])n2)c1',\n",
    "       'CC(CNc1nc(Nc2cc[nH]n2)nc(N[C@@H](CCC2CCCCC2)C(=O)N[Dy])n1)S(N)(=O)=O',\n",
    "       'O=C(N[Dy])[C@@H]1Cc2ccc(O)cc2CN1c1nc(NCc2nnc(-c3ccncc3)[nH]2)nc(NCC2(N3CCOCC3)CCOCC2)n1',\n",
    "       'COc1cccc(Nc2nc(Nc3ccc4c(c3)oc3ccccc34)nc(N[C@@H]3CN(C(=O)OC(C)(C)C)C[C@H]3C(=O)N[Dy])n2)n1',\n",
    "       'Cn1ccnc1Cn1c(CCCNc2nc(Nc3ccnc(-c4ccccc4)c3)nc(N[C@@H](CCCN=[N+]=[N-])C(=O)N[Dy])n2)nc2c1CCCC2',\n",
    "       'COC1(C(F)(F)CNc2nc(NCc3nnc(-c4ccncc4)[nH]3)nc(N3CCC[C@H]3C(=O)N[Dy])n2)CCOCC1',\n",
    "       'COC(=O)c1cc(Nc2nc(Nc3ccc(Br)c(C(=O)N[Dy])c3)nc(Nc3ccc(C#N)cc3[N+](=O)[O-])n2)ccc1C',\n",
    "       'Cc1cc(Cl)cc(Nc2nc(NCC3CC4(CC4)CO3)nc(Nc3ccc(CC(=O)N[Dy])cc3)n2)c1',\n",
    "       'CCS(=O)(=O)N1CC(CNc2nc(NCCC3CCCC3(F)F)nc(Nc3nc(-c4ccc(C(=O)N[Dy])cc4)cs3)n2)C1',\n",
    "       'COCC1(CNc2nc(NCC(O)c3ccc(Cl)s3)nc(N[C@@H](CC(=O)N[Dy])Cc3ccc([N+](=O)[O-])cc3)n2)CCCCC1',\n",
    "       'Cc1cc(F)ccc1Nc1nc(NCc2cnns2)nc(NC2(C(=O)N[Dy])CCc3ccccc32)n1',\n",
    "       'COC(=O)c1c[nH]nc1Nc1nc(Nc2cc(Br)cnc2C(=O)N[Dy])nc(Nc2cc(C)nn2-c2ccccc2)n1',\n",
    "       'CC(C)(CCC#N)CNc1nc(Nc2cccnc2C(=O)N[Dy])nc(Nc2ncc(Cl)cc2F)n1',\n",
    "       'N#Cc1c(Nc2nc(NCC3(O)CC3)nc(Nc3c(C(=O)O)cccc3C(=O)N[Dy])n2)sc2c1CCCC2',\n",
    "       'Cc1cccc(CCCNc2nc(Nc3ccc(Br)c(C(=O)N[Dy])c3)nc(Nc3nccs3)n2)n1',\n",
    "       'COC1(C(F)(F)CNc2nc(Nc3[nH]c(=O)ncc3F)nc(N3CCCC[C@H]3C(=O)N[Dy])n2)CCOCC1',\n",
    "       'O=C(N[Dy])c1sc2ncccc2c1Nc1nc(NCCc2nccn2C(F)F)nc(NCc2cc(-c3ccccc3)[nH]n2)n1',\n",
    "       'Cc1cc(C(=O)N[Dy])ccc1Nc1nc(NCCN2CC[C@@H](O)C2)nc(NCc2cnns2)n1',\n",
    "       'COc1cncc(Nc2nc(NCc3cn(C)nc3Br)nc(Nc3c(Br)cccc3C(=O)N[Dy])n2)n1',\n",
    "       'COc1cnc(Nc2nc(NCC3CC4CC3C3CC43)nc(N3CCOC[C@@H]3C(=O)N[Dy])n2)nc1',\n",
    "       'O=C(N[Dy])c1ccccc1C(=O)c1ccccc1Nc1nc(NCc2cccc3c2OCO3)nc(Nc2ccc(O)cc2C(F)(F)F)n1',\n",
    "       'COC(=O)c1ccc2nc(Nc3nc(NCCc4ccno4)nc(N4CCCC[C@H]4C(=O)N[Dy])n3)sc2c1',\n",
    "       'C#CC[C@H](CC(=O)N[Dy])Nc1nc(NCCNC(=O)C(=C)C)nc(Nc2nc(-c3ccc(Cl)c(Cl)c3)cs2)n1',\n",
    "       'CCSCCNc1nc(NCC2(F)CCCCC2)nc(Nc2ccc(C(=O)N[Dy])cc2F)n1',\n",
    "       'N#Cc1c(Nc2nc(Nc3cncc(F)c3)nc(N[C@H](CC(=O)N[Dy])Cc3ccc(Br)cc3)n2)sc2c1CCCC2',\n",
    "       'COc1cnc(CNc2nc(Nc3nnc(C)s3)nc(Nc3c(C(=O)N[Dy])ccc(F)c3OC)n2)cn1',\n",
    "       'CCOC(=O)c1ncccc1Nc1nc(NCc2nnc3c(=O)[nH]ccn23)nc(Nc2nc(-c3ccc(C(=O)N[Dy])cc3)cs2)n1',\n",
    "       'O=C(NCCNc1nc(NCc2cc3n(n2)CCCO3)nc(N[C@@H](Cc2c(F)c(F)c(F)c(F)c2F)C(=O)N[Dy])n1)c1ccn[nH]1',\n",
    "       'O=C(N[Dy])[C@H](Cc1ccc(F)cc1F)Nc1nc(NCc2ccsc2C(F)(F)F)nc(Nc2cc(=O)[nH]c(=S)[nH]2)n1',\n",
    "       'CN(CC(F)(F)F)C(=O)CNc1nc(NCC(C)(O)CN2CCOCC2)nc(Nc2c(OC(F)(F)F)cccc2C(=O)N[Dy])n1',\n",
    "       'CN1CCN(Cc2cccc(Nc3nc(Nc4ccc(N5CCCC5=O)cc4)nc(NC4(C(=O)N[Dy])CC4)n3)c2)CC1',\n",
    "       'COc1cc2c(cc1CNc1nc(NC[C@@H]3C[C@H](F)CN3Cc3ccnn3C)nc(N[C@H](CC(=O)N[Dy])Cc3cccs3)n1)OCO2',\n",
    "       'COc1ccc([C@H](Nc2nc(NCCC(=O)NS(C)(=O)=O)nc(NCc3ccc(Oc4ccc(Cl)cc4Cl)c(C)c3)n2)C(=O)N[Dy])cc1',\n",
    "       'O=C1CN(CCCNc2nc(Nc3ccc(F)c(C(F)(F)F)c3)nc(N3CC[C@@H]3C(=O)N[Dy])n2)CCN1',\n",
    "       'COc1cnc(Nc2nc(NCc3nc(C)ccc3O)nc(N[C@H](Cc3ccc(I)cc3)C(=O)N[Dy])n2)nc1',\n",
    "       'NC(=O)C1=NOC(CNc2nc(NCc3c[nH]c4ccccc34)nc(N[C@@H](Cc3ccco3)C(=O)N[Dy])n2)C1',\n",
    "       'O=C(N[Dy])c1cccc(I)c1Nc1nc(NCc2cc(C(F)(F)F)co2)nc(Nc2cc(CO)ccn2)n1',\n",
    "       'COC(=O)c1nccnc1Nc1nc(NC[C@H]2CC[C@H](C(N)=O)CC2)nc(Nc2ccc(C#N)cc2C(=O)N[Dy])n1',\n",
    "       'COC(=O)c1cc(F)cc(Nc2nc(Nc3ccc(Cl)c(C#N)c3)nc(Nc3ccc(C(=O)N[Dy])cc3C(F)(F)F)n2)c1',\n",
    "       'O=C(N[Dy])c1c(Br)ccc(F)c1Nc1nc(NCC2Cc3ccccc3NC2=O)nc(Nc2nccnc2Br)n1',\n",
    "       'Cc1cc(Br)c(C(=O)N[Dy])cc1Nc1nc(NCc2cnc3n2CCOC3)nc(NCC(F)(F)CC2CC2)n1',\n",
    "       'COc1cccc(F)c1CNc1nc(NCCN2C(=O)SC(=Cc3cccs3)C2=O)nc(N[C@H](Cc2ccc([N+](=O)[O-])cc2)C(=O)N[Dy])n1',\n",
    "       'C#Cc1cccc(Nc2nc(Nc3ccc4c(cnn4C(=O)OC(C)(C)C)c3)nc(Nc3nc(-c4ccc(C(=O)N[Dy])cc4)cs3)n2)c1',\n",
    "       'Cc1cc(Nc2nc(NCc3ccon3)nc(N[C@@H](Cc3ccc(F)c(F)c3)C(=O)N[Dy])n2)ccc1O',\n",
    "       'CC(CNc1nc(NCCCc2nc3c(n2Cc2nccn2C)CCCC3)nc(Nc2c(C(=O)O)cccc2C(=O)N[Dy])n1)c1nccs1',\n",
    "       'COC(=O)c1ccc(Nc2nc(NC[C@@H]3C[C@H](F)CN3Cc3ccnn3C)nc(Nc3ccc(F)cc3C(=O)N[Dy])n2)cc1O',\n",
    "       'COC(=O)c1occc1Nc1nc(NC[C@@H]2CCC(=O)N2)nc(N[C@@H](Cc2ccsc2)C(=O)N[Dy])n1',\n",
    "       'Cc1ccc(F)c(Nc2nc(NCc3noc(C4CCOCC4)n3)nc(N[C@@H](CC(=O)N[Dy])Cc3ccc(C(F)(F)F)cc3)n2)c1',\n",
    "       'COCc1ccc(Nc2nc(Nc3nnc(C)o3)nc(Nc3c(C)cc(Cl)cc3C(=O)N[Dy])n2)cc1',\n",
    "       'O=C(N[Dy])c1ccc(Nc2nc(NCc3cccs3)nc(Nc3nccc(-c4cccnc4)n3)n2)c(Cl)c1',\n",
    "       'CC(C)(C)OCC(Nc1nc(NCC(=O)NC2CCC2)nc(Nc2nccc(Cl)n2)n1)C(=O)N[Dy]',\n",
    "       'COc1c(F)cccc1Nc1nc(Nc2ccc(O)c(C)c2)nc(Nc2cccc(Cl)c2C(=O)N[Dy])n1',\n",
    "       'C=CCOC(C)CNc1nc(NCC(C)Cn2cccn2)nc(Nc2c(I)cccc2C(=O)N[Dy])n1',\n",
    "       'CN(CCNc1nc(NCC(O)COc2cccc(Cl)c2Cl)nc(N[C@H]2CCC[C@@H]2C(=O)N[Dy])n1)C1CCOCC1',\n",
    "       'COc1cc(Nc2nc(NCCCc3cc(=O)[nH][nH]3)nc(NCc3ccnc(C(N)=O)c3)n2)c(C(=O)N[Dy])cc1OC',\n",
    "       'O=C(N[Dy])[C@H](Nc1nc(NCCn2cc(C3CC3)nn2)nc(NCc2ncon2)n1)C1CCCC1',\n",
    "       'COc1ccnc(Nc2nc(NCc3cc(Br)cc4cccnc34)nc(Nc3ccc(C(=O)N[Dy])c(Cl)c3)n2)n1',\n",
    "       'CCOC(=O)c1ccc(O)c(Nc2nc(Nc3cnc(Cl)c(Cl)c3)nc(Nc3ccc(Cl)nc3C(=O)N[Dy])n2)c1',\n",
    "       'O=C(N[Dy])c1ccc(Nc2nc(NCCOc3ccc(F)c(F)c3)nc(NCC3CCOC4(CCOCC4)C3)n2)cc1C(F)(F)F',\n",
    "       'COc1cccc(-c2cc(Nc3nc(NCCC4CN(c5ncnc6[nH]ncc56)c5ccccc54)nc(Nc4ccc(CC(=O)N[Dy])cc4)n3)on2)c1',\n",
    "       'COc1ccc(CNc2nc(Nc3ccc(N4CCOCC4)cc3)nc(N3Cc4ccccc4C[C@@H]3CC(=O)N[Dy])n2)c(C)c1OC',\n",
    "       'O=C(NCCNc1nc(Nc2ccc(O)cn2)nc(Nc2ccc(Cl)cc2C(=O)N[Dy])n1)c1cnccn1',\n",
    "       'COc1nc(C)ccc1CNc1nc(NCc2ccc(SC)o2)nc(Nc2cc(I)ccc2C(=O)N[Dy])n1',\n",
    "       'O=C(C[C@@H](Cc1ccc(F)cc1)Nc1nc(NCc2ccc[n+]([O-])c2)nc(Nc2nc(-c3cccc([N+](=O)[O-])c3)cs2)n1)N[Dy]',\n",
    "       'O=C(N[Dy])c1ccncc1Nc1nc(NCCc2c[nH]c3cc(Cl)ccc23)nc(Nc2nc3cccc(Br)n3n2)n1',\n",
    "       'Cc1cc(F)ccc1Nc1nc(Nc2cc(C(F)(F)F)cnc2Cl)nc(Nc2c(I)c(C(=O)O)c(I)c(C(=O)N[Dy])c2I)n1',\n",
    "       'O=C(N[Dy])c1ccc(Nc2nc(NCc3ccc4ccccc4n3)nc(NCC3CCN(CC(F)F)CC3)n2)cn1',\n",
    "       'C=CCOCCCNc1nc(NCC2CCCn3ccnc32)nc(N[C@@H](CCCN=[N+]=[N-])C(=O)N[Dy])n1',\n",
    "       'COc1cc(CNc2nc(NCC3(S(C)=O)CCC3)nc(Nc3ccc(Cl)cc3C(=O)N[Dy])n2)sn1',\n",
    "       'Cc1cc(Nc2nc(NCc3noc4ccc(F)cc34)nc(N[C@@H](CC(=O)N[Dy])c3ccc(C#N)cc3)n2)n[nH]1',\n",
    "       'COc1ccc2nnc(CNc3nc(NCC(C)N4CCC4)nc(Nc4c(Cl)cccc4C(=O)N[Dy])n3)n2n1',\n",
    "       'COC(=O)c1cnc(Nc2nc(NCCc3c(C)[nH][nH]c3=O)nc(Nc3ncc(C(=O)N[Dy])s3)n2)cn1',\n",
    "       'Cn1cc(Nc2nc(NCC(F)(F)C(F)(F)F)nc(Nc3cc(F)c(Br)cc3C(=O)N[Dy])n2)ccc1=O',\n",
    "       'Cn1nccc1[C@@H]1OCC[C@H]1CNc1nc(NCC2OCCc3ccsc32)nc(N[C@@H](C(=O)N[Dy])C2CCCCC2)n1',\n",
    "       'CN1CCN(Cc2ccccc2Nc2nc(NCc3cc4ccccc4[nH]c3=O)nc(N3CCN(C(=O)OC(C)(C)C)C3C(=O)N[Dy])n2)CC1',\n",
    "       'Cc1cc(F)cc(Nc2nc(NCc3ccncn3)nc(N[C@@H](CC(=O)N[Dy])Cc3ccc(F)cc3)n2)c1',\n",
    "       'Cc1cccc(Nc2nc(NCc3cc(=O)c(O)co3)nc(N[C@H](CC(=O)N[Dy])Cc3ccc(C(F)(F)F)cc3)n2)c1Cl',\n",
    "       'COc1cc(Nc2nc(NCC3(F)CCOC3)nc(Nc3ncnc4[nH]cnc34)n2)c(C(=O)N[Dy])c(OC)c1',\n",
    "       'N#Cc1cnc2c(C#N)cnn2c1Nc1nc(NCC2(CO)CCOC2)nc(Nc2ccc(C(=O)N[Dy])cc2O)n1',\n",
    "       'Cc1cc(Nc2nc(Nc3nc(-c4ccc(Cl)cc4)cs3)nc(Nc3cc(F)c(Br)cc3C(=O)N[Dy])n2)on1',\n",
    "       'Cc1cccc2oc(CCNc3nc(NC[C@@H]4C[C@H](F)CN4Cc4ccnn4C)nc(Nc4cc(Br)ccc4C(=O)N[Dy])n3)nc12',\n",
    "       'COc1cc(C(=O)N[Dy])c(Nc2nc(NCCC3CCCC3(F)F)nc(NCc3cncn3C)n2)cn1',\n",
    "       'Cc1cc(Nc2nc(Nc3n[nH]c4ccc([N+](=O)[O-])cc34)nc(N3CCC[C@@]3(C)C(=O)N[Dy])n2)nnc1Cl',\n",
    "       'CC(C)(C#N)c1ccc(Nc2nc(NCC3(CO)CCOC3)nc(N[C@@H](CC(=O)N[Dy])Cc3ccccc3Cl)n2)cc1',\n",
    "       'CCOC(=O)c1cnn(C)c1Nc1nc(Nc2cc(N3CCCC3)ccn2)nc(Nc2c(F)ccc(Br)c2C(=O)N[Dy])n1',\n",
    "       'COC(=O)c1cc(Nc2nc(Nc3ccc(O)c(C)c3)nc(Nc3ccc(C(=O)N[Dy])c([N+](=O)[O-])c3)n2)cs1',\n",
    "       'CC(C)c1nc(Nc2nc(Nc3cc(Cl)ncn3)nc(N[C@@H](CC(=O)N[Dy])c3cccc(Cl)c3Cl)n2)sc1Br',\n",
    "       'O=C(N[Dy])c1c(F)cccc1Nc1nc(Nc2ccc([N+](=O)[O-])c(C(F)(F)F)c2)nc(Nc2ncc(Cl)cc2F)n1',\n",
    "       'O=C(N[Dy])[C@@H]1C[C@@H]2CCCC[C@@H]2N1c1nc(NCc2ccncn2)nc(Nc2ccncc2[N+](=O)[O-])n1',\n",
    "       'C#CC[C@@](C)(Nc1nc(NCc2ccc(CN3C(=O)CNC3=O)cc2)nc(Nc2cc(Cl)nc(Cl)n2)n1)C(=O)N[Dy]',\n",
    "       'COC1(CNc2nc(NCC3(S(C)=O)CCC3)nc(Nc3cc(F)cc(F)c3C(=O)N[Dy])n2)CCOC1']"
   ]
  },
  {
   "cell_type": "code",
   "execution_count": 5,
   "metadata": {},
   "outputs": [],
   "source": [
    "mols = [Chem.MolFromSmiles(i) for i in smiles]"
   ]
  },
  {
   "cell_type": "code",
   "execution_count": 6,
   "metadata": {},
   "outputs": [],
   "source": [
    "def get_fp_with_ao(mol, radius=2, fpSize=2048):\n",
    "    fpg = rdFingerprintGenerator.GetMorganGenerator(radius=radius,fpSize=fpSize)\n",
    "    \n",
    "    ao = rdFingerprintGenerator.AdditionalOutput()\n",
    "    ao.AllocateAtomCounts() ## 원자의 수\n",
    "    ao.AllocateAtomToBits() ## 원자가 어떤 비트로 맵핑되는지\n",
    "    ao.AllocateBitInfoMap()\n",
    "    \n",
    "    fp = fpg.GetFingerprint(mol, additionalOutput=ao)\n",
    "    return fp, ao"
   ]
  },
  {
   "cell_type": "code",
   "execution_count": 8,
   "metadata": {},
   "outputs": [
    {
     "name": "stdout",
     "output_type": "stream",
     "text": [
      "<rdkit.DataStructs.cDataStructs.ExplicitBitVect object at 0x7f474eafc900>\n",
      "<rdkit.Chem.rdFingerprintGenerator.AdditionalOutput object at 0x7f47a94eab80>\n"
     ]
    }
   ],
   "source": [
    "fp, ao = get_fp_with_ao(mols[0])\n",
    "print(fp)\n",
    "print(ao)"
   ]
  },
  {
   "cell_type": "code",
   "execution_count": 9,
   "metadata": {},
   "outputs": [
    {
     "name": "stdout",
     "output_type": "stream",
     "text": [
      "Total bits: 2048, On Bits: 73, Sparsity: 0.03564453125\n"
     ]
    }
   ],
   "source": [
    "total_bits = fp.GetNumBits()\n",
    "on_bits = fp.GetNumOnBits()\n",
    "\n",
    "on_bits_list = list(fp.GetOnBits())\n",
    "\n",
    "print(f'Total bits: {total_bits}, On Bits: {on_bits}, Sparsity: {on_bits/total_bits}')"
   ]
  },
  {
   "cell_type": "code",
   "execution_count": 10,
   "metadata": {},
   "outputs": [
    {
     "data": {
      "text/plain": [
       "{47: ((26, 2),),\n",
       " 80: ((7, 0),),\n",
       " 84: ((22, 2),),\n",
       " 157: ((28, 2),),\n",
       " 203: ((2, 2),),\n",
       " 206: ((1, 1),),\n",
       " 255: ((7, 1), (8, 2)),\n",
       " 339: ((32, 1),),\n",
       " 366: ((22, 1),),\n",
       " 378: ((10, 0), (24, 0), (28, 0), (31, 0), (34, 0), (37, 0)),\n",
       " 407: ((3, 1),),\n",
       " 475: ((40, 2),),\n",
       " 486: ((16, 1),),\n",
       " 491: ((12, 1), (26, 1)),\n",
       " 493: ((35, 2),),\n",
       " 510: ((14, 2),),\n",
       " 526: ((15, 2),),\n",
       " 527: ((4, 1),),\n",
       " 530: ((37, 2),),\n",
       " 555: ((12, 2),),\n",
       " 561: ((23, 1), (33, 1)),\n",
       " 586: ((3, 2),),\n",
       " 621: ((16, 2),),\n",
       " 639: ((5, 2),),\n",
       " 650: ((17, 0),),\n",
       " 656: ((40, 0),),\n",
       " 666: ((21, 2),),\n",
       " 708: ((27, 1),),\n",
       " 739: ((2, 1),),\n",
       " 787: ((36, 2),),\n",
       " 802: ((40, 1),),\n",
       " 807: ((16, 0),),\n",
       " 875: ((5, 1), (14, 1)),\n",
       " 926: ((2, 0), (38, 0), (39, 0)),\n",
       " 933: ((13, 2),),\n",
       " 935: ((3, 0),),\n",
       " 950: ((39, 1),),\n",
       " 1014: ((38, 2),),\n",
       " 1019: ((1, 0),),\n",
       " 1057: ((0, 0),),\n",
       " 1063: ((31, 2),),\n",
       " 1071: ((29, 2), (30, 2)),\n",
       " 1152: ((8, 0), (12, 0), (18, 0), (26, 0)),\n",
       " 1182: ((18, 1),),\n",
       " 1184: ((24, 2), (10, 2), (34, 2)),\n",
       " 1224: ((13, 1),),\n",
       " 1225: ((18, 2),),\n",
       " 1309: ((0, 1),),\n",
       " 1380: ((4, 0),\n",
       "  (6, 0),\n",
       "  (9, 0),\n",
       "  (11, 0),\n",
       "  (13, 0),\n",
       "  (15, 0),\n",
       "  (22, 0),\n",
       "  (25, 0),\n",
       "  (27, 0),\n",
       "  (32, 0)),\n",
       " 1385: ((15, 1),),\n",
       " 1416: ((8, 1),),\n",
       " 1452: ((28, 1), (31, 1), (37, 1)),\n",
       " 1480: ((38, 1),),\n",
       " 1504: ((1, 2),),\n",
       " 1538: ((32, 2),),\n",
       " 1582: ((11, 1), (25, 1), (9, 1)),\n",
       " 1590: ((39, 2),),\n",
       " 1621: ((19, 0),),\n",
       " 1683: ((23, 0), (33, 0)),\n",
       " 1697: ((20, 2),),\n",
       " 1750: ((20, 1), (21, 1), (35, 1)),\n",
       " 1754: ((6, 1),),\n",
       " 1779: ((6, 2),),\n",
       " 1820: ((27, 2),),\n",
       " 1855: ((10, 1), (24, 1), (34, 1)),\n",
       " 1866: ((29, 1), (30, 1), (36, 1)),\n",
       " 1873: ((5, 0), (14, 0), (20, 0), (21, 0), (29, 0), (30, 0), (35, 0), (36, 0)),\n",
       " 1910: ((11, 2), (25, 2)),\n",
       " 1917: ((17, 1),),\n",
       " 1920: ((4, 2),),\n",
       " 1961: ((9, 2),),\n",
       " 2004: ((7, 2),),\n",
       " 2007: ((19, 1),)}"
      ]
     },
     "execution_count": 10,
     "metadata": {},
     "output_type": "execute_result"
    }
   ],
   "source": [
    "## GetBitInfoMap() 함수는 분자 내의 채워진 비트와 원자를 매핑하는 딕셔너리를 반환.\n",
    "## 이 딕셔너리는 지문의 각 비트가 분자의 어떤 원자와 어떤 반경(radius)을 가지는지에 대한 정보를 포함합니다.\n",
    "## 예를 들어, 47: ((26, 2),)는 비트 47이 원자 번호 26과 반경 2로 관련이 있음을 의미합니다.\n",
    "## 47이 분자의 원자 번호 26과 관련이 있으며, 이 원자 주위 반경 2 내의 원자들이 이 비트를 채운다는 것을 의미\n",
    "\n",
    "bit_info = ao.GetBitInfoMap()\n",
    "bit_info"
   ]
  },
  {
   "cell_type": "code",
   "execution_count": 11,
   "metadata": {},
   "outputs": [
    {
     "data": {
      "image/jpeg": "[encoded data removed]",
      "image/png": "[encoded data removed]",
      "text/plain": [
       "<PIL.PngImagePlugin.PngImageFile image mode=RGB size=450x150>"
      ]
     },
     "execution_count": 11,
     "metadata": {},
     "output_type": "execute_result"
    }
   ],
   "source": [
    "bit_idx = 255\n",
    "\n",
    "Chem.Draw.DrawMorganBits([(mols[0], bit_idx, bit_info, i) \n",
    "                           for i in range(len(bit_info[bit_idx]))])"
   ]
  },
  {
   "cell_type": "code",
   "execution_count": 12,
   "metadata": {},
   "outputs": [],
   "source": [
    "def get_bit_highlights(mol, atom_idx, radius):\n",
    "    env = Chem.FindAtomEnvironmentOfRadiusN(mol, radius, atom_idx)\n",
    "    \n",
    "    atoms = set((atom_idx, ))\n",
    "    \n",
    "    for bond_idx in env:\n",
    "        bond = mol.GetBondWithIdx(bond_idx)\n",
    "        \n",
    "        start_atom = bond.GetBeginAtomIdx()\n",
    "        end_atom = bond.GetEndAtomIdx()\n",
    "        \n",
    "        atoms.update([start_atom, end_atom])\n",
    "        \n",
    "    bonds = set()\n",
    "    for atom_idx in atoms:\n",
    "        atom = mol.GetAtomWithIdx(atom_idx)\n",
    "        for bond in atom.GetBonds():\n",
    "            bonds.add(bond.GetIdx())\n",
    "            \n",
    "    return atoms, bonds"
   ]
  },
  {
   "cell_type": "code",
   "execution_count": 13,
   "metadata": {},
   "outputs": [
    {
     "data": {
      "image/jpeg": "[encoded data removed]",
      "image/png": "[encoded data removed]",
      "text/plain": [
       "<PIL.PngImagePlugin.PngImageFile image mode=RGB size=300x300>"
      ]
     },
     "execution_count": 13,
     "metadata": {},
     "output_type": "execute_result"
    }
   ],
   "source": [
    "bit_atoms, bit_bonds = get_bit_highlights(mols[0], 7, 1)\n",
    "Chem.Draw.MolToImage(mols[0], \n",
    "                     highlightAtoms=list(bit_atoms), \n",
    "                     highlightBonds=list(bit_bonds))"
   ]
  },
  {
   "cell_type": "code",
   "execution_count": 14,
   "metadata": {},
   "outputs": [],
   "source": [
    "def plot_bit_features(mol, bit_info, bit_idx, **draw_kwargs):\n",
    "    bit_tuples = bit_info[bit_idx]\n",
    "\n",
    "    plot_mols = []\n",
    "    atom_highlights = []\n",
    "    bond_highlights = []\n",
    "\n",
    "    for (atom_idx, radius) in bit_tuples:\n",
    "        bit_atoms, bit_bonds = get_bit_highlights(mol, atom_idx, radius)\n",
    "        atom_highlights.append(list(bit_atoms))\n",
    "        bond_highlights.append(list(bit_bonds))\n",
    "        plot_mols.append(mol)\n",
    "\n",
    "    img = Chem.Draw.MolsToGridImage(plot_mols, \n",
    "                              highlightAtomLists=atom_highlights, \n",
    "                              highlightBondLists=bond_highlights,\n",
    "                              **draw_kwargs\n",
    "                             )\n",
    "    return img"
   ]
  },
  {
   "cell_type": "code",
   "execution_count": 15,
   "metadata": {},
   "outputs": [
    {
     "data": {
      "image/png": "[encoded data removed]",
      "text/plain": [
       "<IPython.core.display.Image object>"
      ]
     },
     "execution_count": 15,
     "metadata": {},
     "output_type": "execute_result"
    }
   ],
   "source": [
    "plot_bit_features(mols[0], bit_info, 255, molsPerRow=2, subImgSize=(300,300))"
   ]
  },
  {
   "cell_type": "code",
   "execution_count": 16,
   "metadata": {},
   "outputs": [],
   "source": [
    "fpg = rdFingerprintGenerator.GetMorganGenerator(radius=2, fpSize=2048)\n",
    "fps = fpg.GetFingerprints(mols, numThreads=4)"
   ]
  },
  {
   "cell_type": "code",
   "execution_count": 17,
   "metadata": {},
   "outputs": [],
   "source": [
    "def fp_to_np2(fp):\n",
    "    arr = np.zeros((1,), dtype=np.int8)\n",
    "    DataStructs.ConvertToNumpyArray(fp, arr)\n",
    "    return arr"
   ]
  },
  {
   "cell_type": "code",
   "execution_count": 18,
   "metadata": {},
   "outputs": [
    {
     "name": "stdout",
     "output_type": "stream",
     "text": [
      "CPU times: user 5.77 ms, sys: 0 ns, total: 5.77 ms\n",
      "Wall time: 5.67 ms\n"
     ]
    }
   ],
   "source": [
    "%%time\n",
    "fps_np = [fp_to_np2(i) for i in fps]"
   ]
  },
  {
   "cell_type": "code",
   "execution_count": 25,
   "metadata": {},
   "outputs": [
    {
     "name": "stdout",
     "output_type": "stream",
     "text": [
      "<class 'list'>\n",
      "[array([0, 0, 0, ..., 0, 0, 0], dtype=int8), array([0, 0, 0, ..., 0, 0, 0], dtype=int8), array([0, 1, 0, ..., 0, 0, 0], dtype=int8), array([0, 0, 0, ..., 0, 0, 0], dtype=int8), array([0, 1, 0, ..., 0, 0, 0], dtype=int8), array([0, 0, 0, ..., 0, 0, 0], dtype=int8), array([0, 1, 1, ..., 0, 0, 0], dtype=int8), array([0, 0, 0, ..., 0, 0, 0], dtype=int8), array([0, 0, 0, ..., 0, 0, 0], dtype=int8), array([0, 1, 0, ..., 0, 0, 0], dtype=int8), array([0, 1, 1, ..., 0, 0, 0], dtype=int8), array([0, 0, 1, ..., 0, 0, 0], dtype=int8), array([0, 0, 0, ..., 0, 0, 0], dtype=int8), array([0, 1, 0, ..., 0, 0, 0], dtype=int8), array([0, 0, 0, ..., 0, 0, 0], dtype=int8), array([0, 0, 0, ..., 0, 0, 0], dtype=int8), array([0, 0, 0, ..., 0, 0, 0], dtype=int8), array([0, 0, 0, ..., 0, 0, 0], dtype=int8), array([0, 1, 1, ..., 0, 0, 0], dtype=int8), array([0, 0, 0, ..., 0, 0, 0], dtype=int8), array([0, 0, 0, ..., 0, 0, 0], dtype=int8), array([0, 0, 0, ..., 0, 0, 0], dtype=int8), array([0, 0, 0, ..., 0, 0, 0], dtype=int8), array([0, 0, 0, ..., 0, 0, 0], dtype=int8), array([0, 0, 0, ..., 0, 0, 0], dtype=int8), array([0, 1, 0, ..., 0, 0, 0], dtype=int8), array([0, 0, 0, ..., 0, 0, 0], dtype=int8), array([0, 0, 0, ..., 0, 0, 0], dtype=int8), array([0, 0, 0, ..., 0, 0, 0], dtype=int8), array([0, 0, 0, ..., 0, 0, 0], dtype=int8), array([0, 0, 0, ..., 0, 0, 0], dtype=int8), array([0, 1, 0, ..., 0, 0, 0], dtype=int8), array([0, 0, 1, ..., 0, 0, 0], dtype=int8), array([0, 1, 0, ..., 0, 0, 0], dtype=int8), array([0, 0, 0, ..., 0, 0, 0], dtype=int8), array([0, 0, 0, ..., 0, 0, 0], dtype=int8), array([0, 1, 0, ..., 0, 0, 0], dtype=int8), array([0, 1, 0, ..., 0, 0, 0], dtype=int8), array([0, 0, 0, ..., 0, 0, 0], dtype=int8), array([0, 0, 0, ..., 0, 0, 0], dtype=int8), array([0, 1, 0, ..., 1, 0, 0], dtype=int8), array([0, 1, 0, ..., 0, 0, 0], dtype=int8), array([0, 0, 0, ..., 0, 0, 0], dtype=int8), array([0, 1, 0, ..., 0, 0, 0], dtype=int8), array([0, 1, 1, ..., 0, 0, 0], dtype=int8), array([0, 0, 0, ..., 0, 0, 0], dtype=int8), array([0, 0, 0, ..., 0, 0, 0], dtype=int8), array([0, 0, 0, ..., 0, 0, 0], dtype=int8), array([0, 0, 0, ..., 1, 0, 0], dtype=int8), array([0, 0, 0, ..., 0, 0, 0], dtype=int8), array([0, 1, 0, ..., 0, 0, 0], dtype=int8), array([0, 0, 0, ..., 0, 0, 1], dtype=int8), array([0, 1, 0, ..., 0, 0, 0], dtype=int8), array([0, 1, 0, ..., 0, 0, 0], dtype=int8), array([0, 0, 0, ..., 0, 0, 0], dtype=int8), array([0, 1, 0, ..., 0, 0, 0], dtype=int8), array([0, 1, 0, ..., 0, 0, 0], dtype=int8), array([0, 0, 0, ..., 0, 0, 0], dtype=int8), array([0, 0, 0, ..., 0, 0, 0], dtype=int8), array([0, 1, 0, ..., 0, 0, 0], dtype=int8), array([0, 0, 0, ..., 0, 0, 0], dtype=int8), array([0, 1, 0, ..., 0, 0, 0], dtype=int8), array([0, 1, 0, ..., 0, 0, 0], dtype=int8), array([0, 0, 0, ..., 0, 0, 0], dtype=int8), array([0, 1, 0, ..., 0, 0, 0], dtype=int8), array([0, 0, 0, ..., 0, 0, 0], dtype=int8), array([0, 0, 0, ..., 0, 0, 0], dtype=int8), array([0, 0, 0, ..., 0, 0, 0], dtype=int8), array([0, 1, 0, ..., 0, 0, 0], dtype=int8), array([0, 0, 0, ..., 0, 0, 0], dtype=int8), array([0, 0, 0, ..., 0, 0, 0], dtype=int8), array([0, 0, 0, ..., 0, 0, 0], dtype=int8), array([0, 1, 0, ..., 0, 0, 0], dtype=int8), array([0, 0, 0, ..., 0, 0, 0], dtype=int8), array([0, 0, 0, ..., 0, 0, 0], dtype=int8), array([0, 1, 0, ..., 0, 0, 0], dtype=int8), array([0, 1, 0, ..., 0, 0, 0], dtype=int8), array([0, 0, 0, ..., 0, 0, 0], dtype=int8), array([0, 1, 0, ..., 0, 0, 0], dtype=int8), array([0, 1, 0, ..., 0, 0, 0], dtype=int8), array([0, 0, 0, ..., 0, 0, 0], dtype=int8), array([0, 0, 0, ..., 0, 0, 0], dtype=int8), array([0, 1, 1, ..., 0, 0, 0], dtype=int8), array([0, 0, 0, ..., 0, 0, 0], dtype=int8), array([0, 1, 0, ..., 0, 0, 0], dtype=int8), array([0, 1, 0, ..., 0, 0, 0], dtype=int8), array([0, 0, 0, ..., 0, 0, 0], dtype=int8), array([1, 0, 0, ..., 0, 0, 0], dtype=int8), array([0, 1, 0, ..., 0, 0, 0], dtype=int8), array([0, 0, 0, ..., 0, 0, 0], dtype=int8), array([0, 0, 0, ..., 0, 0, 0], dtype=int8), array([0, 0, 0, ..., 0, 0, 0], dtype=int8), array([0, 1, 0, ..., 0, 0, 0], dtype=int8), array([0, 0, 0, ..., 0, 0, 0], dtype=int8), array([0, 0, 0, ..., 0, 0, 0], dtype=int8), array([0, 1, 0, ..., 0, 0, 0], dtype=int8), array([0, 0, 0, ..., 0, 0, 0], dtype=int8), array([0, 0, 0, ..., 0, 0, 0], dtype=int8), array([0, 0, 0, ..., 0, 0, 0], dtype=int8), array([0, 0, 0, ..., 0, 0, 0], dtype=int8)]\n",
      "[0 1]\n"
     ]
    }
   ],
   "source": [
    "print(type(fps_np))\n",
    "print(fps_np)\n",
    "\n",
    "test = np.array(fps_np)\n",
    "print(np.unique(test))"
   ]
  },
  {
   "cell_type": "code",
   "execution_count": 19,
   "metadata": {},
   "outputs": [
    {
     "data": {
      "text/plain": [
       "(256,)"
      ]
     },
     "execution_count": 19,
     "metadata": {},
     "output_type": "execute_result"
    }
   ],
   "source": [
    "fp_packed = np.packbits(fps_np[0])\n",
    "fp_packed.shape"
   ]
  },
  {
   "cell_type": "code",
   "execution_count": 20,
   "metadata": {},
   "outputs": [
    {
     "name": "stdout",
     "output_type": "stream",
     "text": [
      "[0 0 0 ... 0 0 0]\n",
      "[  0   0   0   0   0   1   0   0   0   0 136   0   0   0   0   0   0   0\n",
      "   0   4   0   0   0   0   0  18   0   0   0   0   0   1   0   0   0   0\n",
      "   0   0   0   0   0   0  16   0   0   2   0  32   0   0   1   0   0   0\n",
      "   0   0   0   0   0  16   2  20   0   2   0   3  32   0   0  16  64   0\n",
      "   0  32   0   0   0   4   0   1   0  32 128  32   0   0   0   0   8   0\n",
      "   0   0  16   0   0   0   0   0  16   0  33   0   0   0   0   0   0   0\n",
      "   0  16   0   0   0   0   0   2   5   0   2   0   0   0   0   0   0   0\n",
      "   2  16   0   0   0   0  65   1   0   0   0   0   0   0   0   0   0   0\n",
      " 128   0   0   2 128   0   0   0   0 192   0   0   0   0   0   0   0   0\n",
      "   0   4   0   0   0   0   0   0   0   0   8  64   0   0   0 128   0   0\n",
      "   0   8   0   0   0 128   0   0 128   0   0   0  32   0   0   0   0   2\n",
      "   2   0   0   0   4   0   0   0   0   0   0   0  16   0  64   0   0   0\n",
      "   0   0   2  32   0   0  16   0   0   0   0   8   0   0   0   1   0  32\n",
      "  64   0   0   0   2   4 128   0   0   0   0  64   0   0   0   0   9   0\n",
      "   0   0   0   0]\n"
     ]
    }
   ],
   "source": [
    "print(fps_np[0])\n",
    "print(fp_packed)"
   ]
  },
  {
   "cell_type": "code",
   "execution_count": 28,
   "metadata": {},
   "outputs": [
    {
     "name": "stdout",
     "output_type": "stream",
     "text": [
      "[[1.         0.33333333 0.42857143]\n",
      " [0.33333333 1.         0.42857143]\n",
      " [0.42857143 0.42857143 1.        ]]\n"
     ]
    }
   ],
   "source": [
    "# 예제 SMILES\n",
    "smiles = ['CCO', 'CCN', 'CCC']\n",
    "mols = [Chem.MolFromSmiles(i) for i in smiles]\n",
    "\n",
    "# Morgan 지문 생성기 초기화\n",
    "fpg = rdFingerprintGenerator.GetMorganGenerator(radius=2, fpSize=2048)\n",
    "fps = fpg.GetFingerprints(mols, numThreads=4)\n",
    "\n",
    "# RDKit 내부 함수를 사용한 변환 함수\n",
    "def fp_to_np(fp):\n",
    "    arr = np.zeros((2048,), dtype=np.int8)  # 지문의 크기를 맞춤\n",
    "    DataStructs.ConvertToNumpyArray(fp, arr)\n",
    "    return arr\n",
    "\n",
    "# 지문을 numpy 배열로 변환\n",
    "fps_np = [fp_to_np(i) for i in fps]\n",
    "\n",
    "tanimotos_rdkit = np.array([DataStructs.BulkTanimotoSimilarity(i, fps) for i in fps])\n",
    "print(tanimotos_rdkit)"
   ]
  },
  {
   "cell_type": "code",
   "execution_count": null,
   "metadata": {},
   "outputs": [],
   "source": [
    "# 예제 SMILES\n",
    "smiles = ['CCO', 'CCN', 'CCC']\n",
    "mols = [Chem.MolFromSmiles(i) for i in smiles]\n",
    "\n",
    "# Morgan 지문 생성기 초기화\n",
    "fpg = rdFingerprintGenerator.GetMorganGenerator(radius=2, fpSize=2048)\n",
    "fps = fpg.GetFingerprints(mols, numThreads=4)\n",
    "\n",
    "# 첫 번째 지문을 텐서로 변환\n",
    "fp_tensor = torch.tensor(fps[0]).float()\n",
    "fp_ints = torch.tensor(fps[0].GetOnBits()).long()\n",
    "\n",
    "# 결과 출력\n",
    "print(fp_ints)"
   ]
  },
  {
   "cell_type": "code",
   "execution_count": null,
   "metadata": {},
   "outputs": [],
   "source": [
    "layer = nn.Linear(2048, 256, bias=False)\n",
    "\n",
    "# 임베딩에 동일한 가중치 할당\n",
    "embedding = nn.Embedding(2048, 256)\n",
    "embedding.weight.data = layer.weight.data.T\n",
    "\n",
    "# 임베딩 백에 동일한 가중치 할당\n",
    "embedding_bag = nn.EmbeddingBag(2048, 256, mode='sum')\n",
    "embedding_bag.weight.data = layer.weight.data.T\n",
    "\n",
    "# 희소 벡터와 가중치 행렬의 행렬 곱셈\n",
    "out1 = layer(fp_tensor)\n",
    "\n",
    "# 임베딩 조회 및 합계\n",
    "out2 = embedding(fp_ints).sum(0)\n",
    "\n",
    "# 임베딩 백 조회 및 합계\n",
    "out3 = embedding_bag(fp_ints, torch.tensor([0], dtype=torch.long))"
   ]
  }
 ],
 "metadata": {
  "kernelspec": {
   "display_name": "AiLab",
   "language": "python",
   "name": "python3"
  },
  "language_info": {
   "codemirror_mode": {
    "name": "ipython",
    "version": 3
   },
   "file_extension": ".py",
   "mimetype": "text/x-python",
   "name": "python",
   "nbconvert_exporter": "python",
   "pygments_lexer": "ipython3",
   "version": "3.8.19"
  }
 },
 "nbformat": 4,
 "nbformat_minor": 2
}
