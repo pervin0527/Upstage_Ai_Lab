{
 "cells": [
  {
   "cell_type": "code",
   "execution_count": 1,
   "metadata": {},
   "outputs": [],
   "source": [
    "import dgl\n",
    "import torch\n",
    "\n",
    "from tdc.single_pred import ADME\n",
    "from rdkit import Chem"
   ]
  },
  {
   "cell_type": "code",
   "execution_count": 2,
   "metadata": {},
   "outputs": [
    {
     "name": "stderr",
     "output_type": "stream",
     "text": [
      "Found local copy...\n",
      "Loading...\n",
      "Done!\n"
     ]
    }
   ],
   "source": [
    "data = ADME(name=\"BBB_martins\")"
   ]
  },
  {
   "cell_type": "code",
   "execution_count": 3,
   "metadata": {},
   "outputs": [
    {
     "data": {
      "text/plain": [
       "['__class__',\n",
       " '__delattr__',\n",
       " '__dict__',\n",
       " '__dir__',\n",
       " '__doc__',\n",
       " '__eq__',\n",
       " '__format__',\n",
       " '__ge__',\n",
       " '__getattribute__',\n",
       " '__gt__',\n",
       " '__hash__',\n",
       " '__init__',\n",
       " '__init_subclass__',\n",
       " '__le__',\n",
       " '__len__',\n",
       " '__lt__',\n",
       " '__module__',\n",
       " '__ne__',\n",
       " '__new__',\n",
       " '__reduce__',\n",
       " '__reduce_ex__',\n",
       " '__repr__',\n",
       " '__setattr__',\n",
       " '__sizeof__',\n",
       " '__str__',\n",
       " '__subclasshook__',\n",
       " '__weakref__',\n",
       " 'balanced',\n",
       " 'binarize',\n",
       " 'convert_format',\n",
       " 'convert_from_log',\n",
       " 'convert_result',\n",
       " 'convert_to_log',\n",
       " 'entity1',\n",
       " 'entity1_idx',\n",
       " 'entity1_name',\n",
       " 'file_format',\n",
       " 'get_approved_set',\n",
       " 'get_data',\n",
       " 'get_label_meaning',\n",
       " 'get_other_species',\n",
       " 'get_split',\n",
       " 'harmonize',\n",
       " 'label_distribution',\n",
       " 'label_name',\n",
       " 'name',\n",
       " 'path',\n",
       " 'print_stats',\n",
       " 'raw_format',\n",
       " 'y']"
      ]
     },
     "execution_count": 3,
     "metadata": {},
     "output_type": "execute_result"
    }
   ],
   "source": [
    "dir(data)"
   ]
  },
  {
   "cell_type": "code",
   "execution_count": 4,
   "metadata": {},
   "outputs": [],
   "source": [
    "split = data.get_split(method=\"random\", frac=[0.7, 0.1, 0.2], seed=999)"
   ]
  },
  {
   "cell_type": "code",
   "execution_count": 5,
   "metadata": {},
   "outputs": [
    {
     "data": {
      "text/plain": [
       "{'train':                                 Drug_ID  \\\n",
       " 0                  Terbutylchlorambucil   \n",
       " 1                                 40730   \n",
       " 2                           cloxacillin   \n",
       " 3                          cefoperazone   \n",
       " 4                      rolitetracycline   \n",
       " ...                                 ...   \n",
       " 1416                         zometapine   \n",
       " 1417                         licostinel   \n",
       " 1418  ademetionine(adenosyl-methionine)   \n",
       " 1419                           mesocarb   \n",
       " 1420                         tofisoline   \n",
       " \n",
       "                                                    Drug  Y  \n",
       " 0                CC(C)(C)OC(=O)CCCc1ccc(N(CCCl)CCCl)cc1  1  \n",
       " 1      CC1COc2c(N3CCN(C)CC3)c(F)cc3c(=O)c(C(=O)O)cn1c23  1  \n",
       " 2     Cc1onc(-c2ccccc2Cl)c1C(=O)N[C@@H]1C(=O)N2[C@@H...  1  \n",
       " 3     CCN1CCN(C(=O)N[C@@H](C(=O)N[C@@H]2C(=O)N3C(C(=...  1  \n",
       " 4     CN(C)[C@@H]1C(=O)/C(=C(/O)NCN2CCCC2)C(=O)[C@@]...  1  \n",
       " ...                                                 ... ..  \n",
       " 1416                CC1=C2C(c3cccc(Cl)c3)=NCCN=C2N(C)N1  1  \n",
       " 1417     O=c1[nH]c2cc(Cl)c(Cl)c([N+](=O)[O-])c2[nH]c1=O  1  \n",
       " 1418  C[S+](CC[C@H](N)C(=O)[O-])C[C@H]1O[C@@H](n2cnc...  1  \n",
       " 1419        CC(Cc1ccccc1)n1cc([N-]C(=O)Nc2ccccc2)[o+]n1  1  \n",
       " 1420  CCc1c(C)[n+]([NH-])c(-c2ccc(OC)c(OC)c2)c2cc(OC...  1  \n",
       " \n",
       " [1421 rows x 3 columns],\n",
       " 'valid':              Drug_ID                                               Drug  Y\n",
       " 0         tifemoxone                             S=C1NCCC(COc2ccccc2)O1  1\n",
       " 1           SKF89124                    CCCN(CCC)CCc1ccc(O)c2c1CC(=O)N2  1\n",
       " 2       intriptyline                  CN(C)CC#CC=C1c2ccccc2C=Cc2ccccc21  1\n",
       " 3       phetharbital                 CCC1(CC)C(=O)NC(=O)N(c2ccccc2)C1=O  1\n",
       " 4    fludrocortisone  C[C@]12C[C@H](O)[C@@]3(F)[C@@H](CCC4=CC(=O)CC[...  1\n",
       " ..               ...                                                ... ..\n",
       " 198      sibopirdine       O.c1cncc(CC2(Cc3ccncc3)c3cccnc3-c3ncccc32)c1  1\n",
       " 199       Saquinavir  CC(C)(C)NC(=O)[C@@H]1C[C@@H]2CCCC[C@@H]2CN1C[C...  0\n",
       " 200       Vancomycin  CN[C@H](CC(C)C)C(=O)NC1C(=O)N[C@@H](CC(N)=O)C(...  0\n",
       " 201    tetrabarbital                     CCCC(CC)C1(CC)C(=O)NC(=O)NC1=O  1\n",
       " 202       ibrotamide                               CCC(Br)(C(N)=O)C(C)C  1\n",
       " \n",
       " [203 rows x 3 columns],\n",
       " 'test':             Drug_ID                                               Drug  Y\n",
       " 0      aceglutamide                           CC(=O)NC(CCC(N)=O)C(=O)O  1\n",
       " 1         tenoxicam         CN1/C(=C(\\O)Nc2ccccn2)C(=O)c2sccc2S1(=O)=O  0\n",
       " 2    3-methylhexane                                          CCCC(C)CC  1\n",
       " 3          BRL52656       O=C(Cc1ccc(C(F)(F)F)cc1)N1CCCC[C@H]1CN1CCCC1  1\n",
       " 4         algestone  CC(=O)[C@@]1(O)[C@H](O)C[C@H]2[C@@H]3CCC4=CC(=...  1\n",
       " ..              ...                                                ... ..\n",
       " 401       viqualine                   C=CC1CNCCC1CCCc1ccnc2ccc(OC)cc12  1\n",
       " 402       Mianserin                       CN1CCN2c3ccccc3Cc3ccccc3C2C1  1\n",
       " 403      gemazocine             CCC12CCN(CC3CC3)C(Cc3ccc(O)cc31)C2(C)C  1\n",
       " 404     propranolol                        CC(C)NCC(O)COc1cccc2ccccc12  0\n",
       " 405     nomifensine                       CN1Cc2c(N)cccc2C(c2ccccc2)C1  1\n",
       " \n",
       " [406 rows x 3 columns]}"
      ]
     },
     "execution_count": 5,
     "metadata": {},
     "output_type": "execute_result"
    }
   ],
   "source": [
    "split"
   ]
  },
  {
   "cell_type": "code",
   "execution_count": 6,
   "metadata": {},
   "outputs": [],
   "source": [
    "train_set = split['train']\n",
    "valid_set = split['valid']\n",
    "test_set = split['test']"
   ]
  },
  {
   "cell_type": "code",
   "execution_count": 7,
   "metadata": {},
   "outputs": [],
   "source": [
    "smi_list = list(train_set['Drug'])"
   ]
  },
  {
   "cell_type": "code",
   "execution_count": 8,
   "metadata": {},
   "outputs": [
    {
     "name": "stdout",
     "output_type": "stream",
     "text": [
      "['CC(C)(C)OC(=O)CCCc1ccc(N(CCCl)CCCl)cc1', 'CC1COc2c(N3CCN(C)CC3)c(F)cc3c(=O)c(C(=O)O)cn1c23', 'Cc1onc(-c2ccccc2Cl)c1C(=O)N[C@@H]1C(=O)N2[C@@H](C(=O)O)C(C)(C)S[C@H]12', 'CCN1CCN(C(=O)N[C@@H](C(=O)N[C@@H]2C(=O)N3C(C(=O)O)=C(CSc4nnnn4C)CS[C@H]23)c2ccc(O)cc2)C(=O)C1=O', 'CN(C)[C@@H]1C(=O)/C(=C(/O)NCN2CCCC2)C(=O)[C@@]2(O)C(=O)C3=C(O)c4c(O)cccc4[C@@](C)(O)[C@H]3C[C@@H]12', 'Cc1nccn1CC1CCc2c(c3ccccc3n2C)C1=O', 'NC(N)=NC(=O)c1nc(Cl)c(N)nc1N', 'CN1Cc2c(-c3noc(C(C)(O)CO)n3)ncn2-c2cccc(Cl)c2C1=O', 'Cc1cn([C@H]2C[C@H](F)[C@@H](CO)O2)c(=O)[nH]c1=O', 'ClCCl']\n"
     ]
    }
   ],
   "source": [
    "print(smi_list[:10])"
   ]
  },
  {
   "cell_type": "code",
   "execution_count": 9,
   "metadata": {},
   "outputs": [],
   "source": [
    "label_list = list(train_set['Y'])"
   ]
  },
  {
   "cell_type": "code",
   "execution_count": 10,
   "metadata": {},
   "outputs": [
    {
     "name": "stdout",
     "output_type": "stream",
     "text": [
      "[1, 1, 1, 1, 1, 1, 1, 0, 1, 1]\n"
     ]
    }
   ],
   "source": [
    "print(label_list[:10])"
   ]
  },
  {
   "cell_type": "code",
   "execution_count": 19,
   "metadata": {},
   "outputs": [
    {
     "name": "stdout",
     "output_type": "stream",
     "text": [
      "CC(C)(C)OC(=O)CCCc1ccc(N(CCCl)CCCl)cc1\n",
      "<rdkit.Chem._GetAtomsIterator object at 0x7fc60e9f8700>\n",
      "C\n",
      "1\n",
      "3\n",
      "3\n",
      "C 0\n",
      "C 1\n",
      "SINGLE\n",
      "False\n",
      "False\n"
     ]
    }
   ],
   "source": [
    "smi = smi_list[0]\n",
    "print(smi)\n",
    "mol = Chem.MolFromSmiles(smi)\n",
    "\n",
    "## 원자 feature 얻기\n",
    "atom_list = mol.GetAtoms() ## 분자를 구성하는 원자 리스트\n",
    "print(atom_list)\n",
    "atom = atom_list[0]\n",
    "print(atom.GetSymbol()) ## i번째 원자가 무엇인가\n",
    "print(atom.GetDegree()) ## i번째 원자와 직접 연결된 가지\n",
    "print(atom.GetTotalNumHs()) ## 수소 원자의 수\n",
    "print(atom.GetImplicitValence())\n",
    "\n",
    "bond_list = mol.GetBonds()\n",
    "bond = bond_list[0]\n",
    "print(bond.GetBeginAtom().GetSymbol(), bond.GetBeginAtom().GetIdx())\n",
    "print(bond.GetEndAtom().GetSymbol(), bond.GetEndAtom().GetIdx())\n",
    "print(bond.GetBondType())\n",
    "print(bond.IsInRing())\n",
    "print(bond.GetIsConjugated())"
   ]
  },
  {
   "cell_type": "code",
   "execution_count": null,
   "metadata": {},
   "outputs": [],
   "source": [
    "ATOM_VOCAB = [\n",
    "    'C', 'N', 'O', 'F', 'S', 'Cl', 'Br', 'H', 'Si', 'P', 'B', 'Li', 'Na', 'K', 'Ca',\n",
    "    'Fe', 'As', 'Al', 'I', 'Mg', 'Sn', 'Sb', 'Bi', 'Ge', 'Ti', 'Se', 'Zn', 'Cu', 'Au',\n",
    "    'Ni', 'Cd', 'Mn', 'Cr', 'Pt', 'Hg', 'Pb'\n",
    "]\n",
    "\n",
    "def one_of_k_encoding(x, vocab):\n",
    "    if x not in vocab:\n",
    "        x = vocab[-1]\n",
    "    return list(map(lambda s: float(x == s), vocab))\n",
    "\n",
    "\n",
    "def get_atom_feature(atom):\n",
    "    atom_feature = one_of_k_encoding(atom.GetSymbol(), ATOM_VOCAB)\n",
    "    atom_feature += one_of_k_encoding(atom.GetDegree(), [0, 1, 2, 3, 4, 5])\n",
    "    atom_feature += one_of_k_encoding(atom.GetTotalNumHs(), [0, 1, 2, 3, 4])\n",
    "    atom_feature += one_of_k_encoding(atom.GetImplicitValence(), [0, 1, 2, 3, 4, 5])\n",
    "    atom_feature += [atom.GetIsAromatic()]\n",
    "    return atom_feature\n",
    "\n",
    "\n",
    "def get_bond_feature(bond):\n",
    "    bt = bond.GetBondType()\n",
    "    bond_feature = [\n",
    "        bt == Chem.rdchem.BondType.SINGLE,\n",
    "        bt == Chem.rdchem.BondType.DOUBLE,\n",
    "        bt == Chem.rdchem.BondType.TRIPLE,\n",
    "        bt == Chem.rdchem.BondType.AROMATIC,\n",
    "        bond.GetIsConjugated(),\n",
    "        bond.IsInRing()\n",
    "    ]\n",
    "    return bond_feature\n",
    "\n",
    "\n",
    "def get_smi_and_label(dataset):\n",
    "    smi_list = list(dataset['Drug'])\n",
    "    label_list = list(dataset['Y'])\n",
    "\n",
    "    return smi_list, label_list\n",
    "\n",
    "\n",
    "def get_molecular_graph(smi):\n",
    "    mol = Chem.MolFromSmiles(smi)\n",
    "    graph = dgl.DGLGraph()\n",
    "\n",
    "    atom_list = mol.GetAtoms()\n",
    "    num_atoms = len(atom_list)\n",
    "    graph.add_nodes(num_atoms)\n",
    "\n",
    "    atom_feature_list = [get_atom_feature(atom) for atom in atom_list]\n",
    "    atom_feature_list = torch.tensor(atom_feature_list, dtype=torch.float64)\n",
    "    graph.ndata['h'] = atom_feature_list\n",
    "\n",
    "    bond_list = mol.GetBonds()\n",
    "    bond_feature_list = []\n",
    "    for bond in bond_list:\n",
    "        bond_feature = get_bond_feature(bond)\n",
    "        \n",
    "        src = bond.GetBeginAtom().GetIdx()\n",
    "        dst = bond.GetEndAtom().GetIdx()\n",
    "\n",
    "        \"\"\"\n",
    "        DGL graph is undirectional, so we have to add edge pair of both (i, j) and (j, i)\n",
    "        \"\"\"\n",
    "        ## i --> j\n",
    "        graph.add_edges(src, dst)\n",
    "        bond_feature_list.append(bond_feature)\n",
    "\n",
    "        ## j --> i\n",
    "        graph.add_edges(dst, src)\n",
    "        bond_feature_list.append(bond_feature)\n",
    "\n",
    "    bond_feature_list = torch.tensor(bond_feature_list, dtype=torch.float64)\n",
    "    graph.edata['e_ij'] = bond_feature_list\n",
    "\n",
    "    return graph\n",
    "\n",
    "\n",
    "def debugging():\n",
    "    data = ADME(name=\"BBB_Martins\")\n",
    "    split = data.get_split(method='random', seed=999, frac=[0.7, 0.1, 0.2])\n",
    "\n",
    "    train_set = split['train']\n",
    "    valid_set = split['valid']\n",
    "    test_set = split['test']\n",
    "\n",
    "    smi_train, label_train = get_smi_and_label(train_set)\n",
    "    graph = get_molecular_graph(smi_train[0])\n",
    "\n",
    "if __name__ == \"__main__\":\n",
    "    debugging()"
   ]
  }
 ],
 "metadata": {
  "kernelspec": {
   "display_name": "AiLab",
   "language": "python",
   "name": "python3"
  },
  "language_info": {
   "codemirror_mode": {
    "name": "ipython",
    "version": 3
   },
   "file_extension": ".py",
   "mimetype": "text/x-python",
   "name": "python",
   "nbconvert_exporter": "python",
   "pygments_lexer": "ipython3",
   "version": "3.8.19"
  }
 },
 "nbformat": 4,
 "nbformat_minor": 2
}
