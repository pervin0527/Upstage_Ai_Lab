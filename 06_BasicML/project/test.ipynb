{
 "cells": [
  {
   "cell_type": "code",
   "execution_count": null,
   "metadata": {},
   "outputs": [],
   "source": [
    "import pandas as pd\n",
    "\n",
    "df = pd.read_parquet(\"/home/pervinco/Datasets/leash-bio/preprocessed/train.parquet\", engine='pyarrow')\n",
    "df.head()"
   ]
  },
  {
   "cell_type": "code",
   "execution_count": null,
   "metadata": {},
   "outputs": [],
   "source": [
    "import PyBioMed\n",
    "from PyBioMed.PyProtein import CTD\n",
    "from PyBioMed.PyProtein import AAComposition\n",
    "\n",
    "target_proteins = ['sEH', 'HSA', 'BRD4']"
   ]
  },
  {
   "cell_type": "code",
   "execution_count": null,
   "metadata": {},
   "outputs": [],
   "source": [
    "AAC=AAComposition.CalculateAAComposition(target_proteins[0])\n",
    "print(len(AAC))\n",
    "print (AAC)\n",
    "\n",
    "## 이게 AAC를 포함하고 있음. AAD를 사용하자.\n",
    "AAD=AAComposition.CalculateAADipeptideComposition(target_proteins[0])\n",
    "print(len(AAD))\n",
    "print (AAD)"
   ]
  },
  {
   "cell_type": "code",
   "execution_count": null,
   "metadata": {},
   "outputs": [],
   "source": [
    "AAC=AAComposition.CalculateAAComposition(target_proteins[1])\n",
    "print (AAC)\n",
    "\n",
    "AAD=AAComposition.CalculateAADipeptideComposition(target_proteins[1])\n",
    "print (AAD)"
   ]
  },
  {
   "cell_type": "code",
   "execution_count": null,
   "metadata": {},
   "outputs": [],
   "source": [
    "AAC=AAComposition.CalculateAAComposition(target_proteins[2])\n",
    "print (AAC)\n",
    "\n",
    "AAD=AAComposition.CalculateAADipeptideComposition(target_proteins[2])\n",
    "print (AAD)"
   ]
  },
  {
   "cell_type": "code",
   "execution_count": null,
   "metadata": {},
   "outputs": [],
   "source": [
    "protein_descriptor = CTD.CalculateCTD(target_proteins[0])\n",
    "print (protein_descriptor)"
   ]
  },
  {
   "cell_type": "code",
   "execution_count": null,
   "metadata": {},
   "outputs": [],
   "source": []
  }
 ],
 "metadata": {
  "kernelspec": {
   "display_name": "AiLab",
   "language": "python",
   "name": "python3"
  },
  "language_info": {
   "codemirror_mode": {
    "name": "ipython",
    "version": 3
   },
   "file_extension": ".py",
   "mimetype": "text/x-python",
   "name": "python",
   "nbconvert_exporter": "python",
   "pygments_lexer": "ipython3",
   "version": "3.8.19"
  }
 },
 "nbformat": 4,
 "nbformat_minor": 2
}
