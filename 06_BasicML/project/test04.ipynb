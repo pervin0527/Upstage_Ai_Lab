{
 "cells": [
  {
   "cell_type": "code",
   "execution_count": 1,
   "metadata": {},
   "outputs": [],
   "source": [
    "import os\n",
    "import warnings\n",
    "warnings.filterwarnings(\"ignore\")\n",
    "\n",
    "import duckdb\n",
    "import numpy as np\n",
    "import pandas as pd\n",
    "import lightgbm as lgb\n",
    "import matplotlib.pyplot as plt\n",
    "\n",
    "from rdkit import Chem\n",
    "from rdkit.Chem import DataStructs, Descriptors, rdFingerprintGenerator\n",
    "\n",
    "from sklearn.ensemble import RandomForestClassifier\n",
    "from sklearn.model_selection import train_test_split\n",
    "from sklearn.preprocessing import OneHotEncoder, MinMaxScaler\n",
    "from sklearn.metrics import accuracy_score, classification_report"
   ]
  },
  {
   "cell_type": "markdown",
   "metadata": {},
   "source": [
    "# Data Load"
   ]
  },
  {
   "cell_type": "code",
   "execution_count": 2,
   "metadata": {},
   "outputs": [
    {
     "data": {
      "text/plain": [
       "['test.parquet',\n",
       " 'train.csv',\n",
       " 'test.csv',\n",
       " 'train.parquet',\n",
       " 'sample_submission.csv']"
      ]
     },
     "execution_count": 2,
     "metadata": {},
     "output_type": "execute_result"
    }
   ],
   "source": [
    "data_dir = \"/home/pervinco/Datasets/leash-bio\"\n",
    "save_dir = f\"{data_dir}/split_sets\"\n",
    "\n",
    "train_csv = f\"{data_dir}/train.csv\"\n",
    "test_csv = f\"{data_dir}/test.csv\"\n",
    "\n",
    "train_parquet = f\"{data_dir}/train.parquet\"\n",
    "test_parquet = f'{data_dir}/test.parquet'\n",
    "\n",
    "os.listdir(data_dir)"
   ]
  },
  {
   "cell_type": "code",
   "execution_count": 3,
   "metadata": {},
   "outputs": [],
   "source": [
    "RADIUS = 2\n",
    "FPSIZE = 2048"
   ]
  },
  {
   "cell_type": "code",
   "execution_count": 4,
   "metadata": {},
   "outputs": [],
   "source": [
    "# data = pd.read_csv(train_csv) ## 전체 데이터가 295246830. 2억 9천 5백 24만 6830개."
   ]
  },
  {
   "cell_type": "code",
   "execution_count": 5,
   "metadata": {},
   "outputs": [],
   "source": [
    "con = duckdb.connect()\n",
    "data = con.query(f\"\"\"(SELECT *\n",
    "                      FROM parquet_scan('{train_parquet}')\n",
    "                      WHERE binds = 0\n",
    "                      ORDER BY random()\n",
    "                      LIMIT 100000)\n",
    "                      UNION ALL\n",
    "                      (SELECT *\n",
    "                      FROM parquet_scan('{train_parquet}')\n",
    "                      WHERE binds = 1\n",
    "                      ORDER BY random()\n",
    "                      LIMIT 100000)\"\"\").df()\n",
    "\n",
    "con.close()"
   ]
  },
  {
   "cell_type": "code",
   "execution_count": 6,
   "metadata": {},
   "outputs": [
    {
     "data": {
      "text/plain": [
       "(200000, 7)"
      ]
     },
     "execution_count": 6,
     "metadata": {},
     "output_type": "execute_result"
    }
   ],
   "source": [
    "data.shape"
   ]
  },
  {
   "cell_type": "code",
   "execution_count": 7,
   "metadata": {},
   "outputs": [
    {
     "data": {
      "text/html": [
       "<div>\n",
       "<style scoped>\n",
       "    .dataframe tbody tr th:only-of-type {\n",
       "        vertical-align: middle;\n",
       "    }\n",
       "\n",
       "    .dataframe tbody tr th {\n",
       "        vertical-align: top;\n",
       "    }\n",
       "\n",
       "    .dataframe thead th {\n",
       "        text-align: right;\n",
       "    }\n",
       "</style>\n",
       "<table border=\"1\" class=\"dataframe\">\n",
       "  <thead>\n",
       "    <tr style=\"text-align: right;\">\n",
       "      <th></th>\n",
       "      <th>id</th>\n",
       "      <th>buildingblock1_smiles</th>\n",
       "      <th>buildingblock2_smiles</th>\n",
       "      <th>buildingblock3_smiles</th>\n",
       "      <th>molecule_smiles</th>\n",
       "      <th>protein_name</th>\n",
       "      <th>binds</th>\n",
       "    </tr>\n",
       "  </thead>\n",
       "  <tbody>\n",
       "    <tr>\n",
       "      <th>0</th>\n",
       "      <td>171770201</td>\n",
       "      <td>O=C(Nc1cc(Cl)ncc1C(=O)O)OCC1c2ccccc2-c2ccccc21</td>\n",
       "      <td>NC1=NC(=O)CS1</td>\n",
       "      <td>N#Cc1ccsc1N</td>\n",
       "      <td>N#Cc1ccsc1Nc1nc(NC2=NC(=O)CS2)nc(Nc2cc(Cl)ncc2...</td>\n",
       "      <td>sEH</td>\n",
       "      <td>0</td>\n",
       "    </tr>\n",
       "    <tr>\n",
       "      <th>1</th>\n",
       "      <td>280953257</td>\n",
       "      <td>O=C(O)[C@@H]1CCCN1C(=O)OCC1c2ccccc2-c2ccccc21</td>\n",
       "      <td>Nc1ccc2c(c1)CNCC2</td>\n",
       "      <td>Cl.NC[C@@H]1CCCO1</td>\n",
       "      <td>O=C(N[Dy])[C@@H]1CCCN1c1nc(NC[C@@H]2CCCO2)nc(N...</td>\n",
       "      <td>sEH</td>\n",
       "      <td>0</td>\n",
       "    </tr>\n",
       "    <tr>\n",
       "      <th>2</th>\n",
       "      <td>235300379</td>\n",
       "      <td>O=C(O)C1CN(C(=O)OCC2c3ccccc3-c3ccccc32)C1</td>\n",
       "      <td>Nc1ncc([N+](=O)[O-])s1</td>\n",
       "      <td>COc1cccc(N)n1</td>\n",
       "      <td>COc1cccc(Nc2nc(Nc3ncc([N+](=O)[O-])s3)nc(N3CC(...</td>\n",
       "      <td>sEH</td>\n",
       "      <td>0</td>\n",
       "    </tr>\n",
       "    <tr>\n",
       "      <th>3</th>\n",
       "      <td>230106112</td>\n",
       "      <td>O=C(Nc1ncc(Br)nc1C(=O)O)OCC1c2ccccc2-c2ccccc21</td>\n",
       "      <td>COCc1ccccc1CN</td>\n",
       "      <td>NCc1nc2ccccc2s1</td>\n",
       "      <td>COCc1ccccc1CNc1nc(NCc2nc3ccccc3s2)nc(Nc2ncc(Br...</td>\n",
       "      <td>HSA</td>\n",
       "      <td>0</td>\n",
       "    </tr>\n",
       "    <tr>\n",
       "      <th>4</th>\n",
       "      <td>53724801</td>\n",
       "      <td>Cc1ccc(C(=O)O)c(NC(=O)OCC2c3ccccc3-c3ccccc32)c1C</td>\n",
       "      <td>Cc1cc(C#N)c(N)s1</td>\n",
       "      <td>Cn1nnc(N)n1</td>\n",
       "      <td>Cc1cc(C#N)c(Nc2nc(Nc3nnn(C)n3)nc(Nc3c(C(=O)N[D...</td>\n",
       "      <td>BRD4</td>\n",
       "      <td>0</td>\n",
       "    </tr>\n",
       "  </tbody>\n",
       "</table>\n",
       "</div>"
      ],
      "text/plain": [
       "          id                             buildingblock1_smiles  \\\n",
       "0  171770201    O=C(Nc1cc(Cl)ncc1C(=O)O)OCC1c2ccccc2-c2ccccc21   \n",
       "1  280953257     O=C(O)[C@@H]1CCCN1C(=O)OCC1c2ccccc2-c2ccccc21   \n",
       "2  235300379         O=C(O)C1CN(C(=O)OCC2c3ccccc3-c3ccccc32)C1   \n",
       "3  230106112    O=C(Nc1ncc(Br)nc1C(=O)O)OCC1c2ccccc2-c2ccccc21   \n",
       "4   53724801  Cc1ccc(C(=O)O)c(NC(=O)OCC2c3ccccc3-c3ccccc32)c1C   \n",
       "\n",
       "    buildingblock2_smiles buildingblock3_smiles  \\\n",
       "0           NC1=NC(=O)CS1           N#Cc1ccsc1N   \n",
       "1       Nc1ccc2c(c1)CNCC2     Cl.NC[C@@H]1CCCO1   \n",
       "2  Nc1ncc([N+](=O)[O-])s1         COc1cccc(N)n1   \n",
       "3           COCc1ccccc1CN       NCc1nc2ccccc2s1   \n",
       "4        Cc1cc(C#N)c(N)s1           Cn1nnc(N)n1   \n",
       "\n",
       "                                     molecule_smiles protein_name  binds  \n",
       "0  N#Cc1ccsc1Nc1nc(NC2=NC(=O)CS2)nc(Nc2cc(Cl)ncc2...          sEH      0  \n",
       "1  O=C(N[Dy])[C@@H]1CCCN1c1nc(NC[C@@H]2CCCO2)nc(N...          sEH      0  \n",
       "2  COc1cccc(Nc2nc(Nc3ncc([N+](=O)[O-])s3)nc(N3CC(...          sEH      0  \n",
       "3  COCc1ccccc1CNc1nc(NCc2nc3ccccc3s2)nc(Nc2ncc(Br...          HSA      0  \n",
       "4  Cc1cc(C#N)c(Nc2nc(Nc3nnn(C)n3)nc(Nc3c(C(=O)N[D...         BRD4      0  "
      ]
     },
     "execution_count": 7,
     "metadata": {},
     "output_type": "execute_result"
    }
   ],
   "source": [
    "data.head()"
   ]
  },
  {
   "cell_type": "markdown",
   "metadata": {},
   "source": [
    "# Preprocessing"
   ]
  },
  {
   "cell_type": "markdown",
   "metadata": {},
   "source": [
    "```GetMorganGenerator```을 정의할 때 radius의 설정을 바꿔가면서 학습을 해보는 것도 방법이될 수 있을 것."
   ]
  },
  {
   "cell_type": "code",
   "execution_count": 8,
   "metadata": {},
   "outputs": [],
   "source": [
    "data['molecule'] = data['molecule_smiles'].apply(Chem.MolFromSmiles) ## 문자열 화학식을 rdkit 객체로 변환한다."
   ]
  },
  {
   "cell_type": "code",
   "execution_count": 9,
   "metadata": {},
   "outputs": [
    {
     "data": {
      "text/html": [
       "<div>\n",
       "<style scoped>\n",
       "    .dataframe tbody tr th:only-of-type {\n",
       "        vertical-align: middle;\n",
       "    }\n",
       "\n",
       "    .dataframe tbody tr th {\n",
       "        vertical-align: top;\n",
       "    }\n",
       "\n",
       "    .dataframe thead th {\n",
       "        text-align: right;\n",
       "    }\n",
       "</style>\n",
       "<table border=\"1\" class=\"dataframe\">\n",
       "  <thead>\n",
       "    <tr style=\"text-align: right;\">\n",
       "      <th></th>\n",
       "      <th>id</th>\n",
       "      <th>buildingblock1_smiles</th>\n",
       "      <th>buildingblock2_smiles</th>\n",
       "      <th>buildingblock3_smiles</th>\n",
       "      <th>molecule_smiles</th>\n",
       "      <th>protein_name</th>\n",
       "      <th>binds</th>\n",
       "      <th>molecule</th>\n",
       "    </tr>\n",
       "  </thead>\n",
       "  <tbody>\n",
       "    <tr>\n",
       "      <th>0</th>\n",
       "      <td>171770201</td>\n",
       "      <td>O=C(Nc1cc(Cl)ncc1C(=O)O)OCC1c2ccccc2-c2ccccc21</td>\n",
       "      <td>NC1=NC(=O)CS1</td>\n",
       "      <td>N#Cc1ccsc1N</td>\n",
       "      <td>N#Cc1ccsc1Nc1nc(NC2=NC(=O)CS2)nc(Nc2cc(Cl)ncc2...</td>\n",
       "      <td>sEH</td>\n",
       "      <td>0</td>\n",
       "      <td>&lt;rdkit.Chem.rdchem.Mol object at 0x7f0062d1ccf0&gt;</td>\n",
       "    </tr>\n",
       "    <tr>\n",
       "      <th>1</th>\n",
       "      <td>280953257</td>\n",
       "      <td>O=C(O)[C@@H]1CCCN1C(=O)OCC1c2ccccc2-c2ccccc21</td>\n",
       "      <td>Nc1ccc2c(c1)CNCC2</td>\n",
       "      <td>Cl.NC[C@@H]1CCCO1</td>\n",
       "      <td>O=C(N[Dy])[C@@H]1CCCN1c1nc(NC[C@@H]2CCCO2)nc(N...</td>\n",
       "      <td>sEH</td>\n",
       "      <td>0</td>\n",
       "      <td>&lt;rdkit.Chem.rdchem.Mol object at 0x7f0062d1ceb0&gt;</td>\n",
       "    </tr>\n",
       "    <tr>\n",
       "      <th>2</th>\n",
       "      <td>235300379</td>\n",
       "      <td>O=C(O)C1CN(C(=O)OCC2c3ccccc3-c3ccccc32)C1</td>\n",
       "      <td>Nc1ncc([N+](=O)[O-])s1</td>\n",
       "      <td>COc1cccc(N)n1</td>\n",
       "      <td>COc1cccc(Nc2nc(Nc3ncc([N+](=O)[O-])s3)nc(N3CC(...</td>\n",
       "      <td>sEH</td>\n",
       "      <td>0</td>\n",
       "      <td>&lt;rdkit.Chem.rdchem.Mol object at 0x7f0062d1ca50&gt;</td>\n",
       "    </tr>\n",
       "    <tr>\n",
       "      <th>3</th>\n",
       "      <td>230106112</td>\n",
       "      <td>O=C(Nc1ncc(Br)nc1C(=O)O)OCC1c2ccccc2-c2ccccc21</td>\n",
       "      <td>COCc1ccccc1CN</td>\n",
       "      <td>NCc1nc2ccccc2s1</td>\n",
       "      <td>COCc1ccccc1CNc1nc(NCc2nc3ccccc3s2)nc(Nc2ncc(Br...</td>\n",
       "      <td>HSA</td>\n",
       "      <td>0</td>\n",
       "      <td>&lt;rdkit.Chem.rdchem.Mol object at 0x7f0062d1cac0&gt;</td>\n",
       "    </tr>\n",
       "    <tr>\n",
       "      <th>4</th>\n",
       "      <td>53724801</td>\n",
       "      <td>Cc1ccc(C(=O)O)c(NC(=O)OCC2c3ccccc3-c3ccccc32)c1C</td>\n",
       "      <td>Cc1cc(C#N)c(N)s1</td>\n",
       "      <td>Cn1nnc(N)n1</td>\n",
       "      <td>Cc1cc(C#N)c(Nc2nc(Nc3nnn(C)n3)nc(Nc3c(C(=O)N[D...</td>\n",
       "      <td>BRD4</td>\n",
       "      <td>0</td>\n",
       "      <td>&lt;rdkit.Chem.rdchem.Mol object at 0x7f0062d1cb30&gt;</td>\n",
       "    </tr>\n",
       "  </tbody>\n",
       "</table>\n",
       "</div>"
      ],
      "text/plain": [
       "          id                             buildingblock1_smiles  \\\n",
       "0  171770201    O=C(Nc1cc(Cl)ncc1C(=O)O)OCC1c2ccccc2-c2ccccc21   \n",
       "1  280953257     O=C(O)[C@@H]1CCCN1C(=O)OCC1c2ccccc2-c2ccccc21   \n",
       "2  235300379         O=C(O)C1CN(C(=O)OCC2c3ccccc3-c3ccccc32)C1   \n",
       "3  230106112    O=C(Nc1ncc(Br)nc1C(=O)O)OCC1c2ccccc2-c2ccccc21   \n",
       "4   53724801  Cc1ccc(C(=O)O)c(NC(=O)OCC2c3ccccc3-c3ccccc32)c1C   \n",
       "\n",
       "    buildingblock2_smiles buildingblock3_smiles  \\\n",
       "0           NC1=NC(=O)CS1           N#Cc1ccsc1N   \n",
       "1       Nc1ccc2c(c1)CNCC2     Cl.NC[C@@H]1CCCO1   \n",
       "2  Nc1ncc([N+](=O)[O-])s1         COc1cccc(N)n1   \n",
       "3           COCc1ccccc1CN       NCc1nc2ccccc2s1   \n",
       "4        Cc1cc(C#N)c(N)s1           Cn1nnc(N)n1   \n",
       "\n",
       "                                     molecule_smiles protein_name  binds  \\\n",
       "0  N#Cc1ccsc1Nc1nc(NC2=NC(=O)CS2)nc(Nc2cc(Cl)ncc2...          sEH      0   \n",
       "1  O=C(N[Dy])[C@@H]1CCCN1c1nc(NC[C@@H]2CCCO2)nc(N...          sEH      0   \n",
       "2  COc1cccc(Nc2nc(Nc3ncc([N+](=O)[O-])s3)nc(N3CC(...          sEH      0   \n",
       "3  COCc1ccccc1CNc1nc(NCc2nc3ccccc3s2)nc(Nc2ncc(Br...          HSA      0   \n",
       "4  Cc1cc(C#N)c(Nc2nc(Nc3nnn(C)n3)nc(Nc3c(C(=O)N[D...         BRD4      0   \n",
       "\n",
       "                                           molecule  \n",
       "0  <rdkit.Chem.rdchem.Mol object at 0x7f0062d1ccf0>  \n",
       "1  <rdkit.Chem.rdchem.Mol object at 0x7f0062d1ceb0>  \n",
       "2  <rdkit.Chem.rdchem.Mol object at 0x7f0062d1ca50>  \n",
       "3  <rdkit.Chem.rdchem.Mol object at 0x7f0062d1cac0>  \n",
       "4  <rdkit.Chem.rdchem.Mol object at 0x7f0062d1cb30>  "
      ]
     },
     "execution_count": 9,
     "metadata": {},
     "output_type": "execute_result"
    }
   ],
   "source": [
    "data.head()"
   ]
  },
  {
   "cell_type": "code",
   "execution_count": 10,
   "metadata": {},
   "outputs": [],
   "source": [
    "fpg = rdFingerprintGenerator.GetMorganGenerator(radius=RADIUS, fpSize=FPSIZE)\n",
    "\n",
    "def compute_fingerprint(mol):\n",
    "    if mol is None:\n",
    "        return None\n",
    "    return fpg.GetFingerprint(mol)\n",
    "\n",
    "data['fingerprints'] = data['molecule'].apply(compute_fingerprint)"
   ]
  },
  {
   "cell_type": "code",
   "execution_count": 11,
   "metadata": {},
   "outputs": [
    {
     "data": {
      "text/html": [
       "<div>\n",
       "<style scoped>\n",
       "    .dataframe tbody tr th:only-of-type {\n",
       "        vertical-align: middle;\n",
       "    }\n",
       "\n",
       "    .dataframe tbody tr th {\n",
       "        vertical-align: top;\n",
       "    }\n",
       "\n",
       "    .dataframe thead th {\n",
       "        text-align: right;\n",
       "    }\n",
       "</style>\n",
       "<table border=\"1\" class=\"dataframe\">\n",
       "  <thead>\n",
       "    <tr style=\"text-align: right;\">\n",
       "      <th></th>\n",
       "      <th>id</th>\n",
       "      <th>buildingblock1_smiles</th>\n",
       "      <th>buildingblock2_smiles</th>\n",
       "      <th>buildingblock3_smiles</th>\n",
       "      <th>molecule_smiles</th>\n",
       "      <th>protein_name</th>\n",
       "      <th>binds</th>\n",
       "      <th>molecule</th>\n",
       "      <th>fingerprints</th>\n",
       "    </tr>\n",
       "  </thead>\n",
       "  <tbody>\n",
       "    <tr>\n",
       "      <th>0</th>\n",
       "      <td>171770201</td>\n",
       "      <td>O=C(Nc1cc(Cl)ncc1C(=O)O)OCC1c2ccccc2-c2ccccc21</td>\n",
       "      <td>NC1=NC(=O)CS1</td>\n",
       "      <td>N#Cc1ccsc1N</td>\n",
       "      <td>N#Cc1ccsc1Nc1nc(NC2=NC(=O)CS2)nc(Nc2cc(Cl)ncc2...</td>\n",
       "      <td>sEH</td>\n",
       "      <td>0</td>\n",
       "      <td>&lt;rdkit.Chem.rdchem.Mol object at 0x7f0062d1ccf0&gt;</td>\n",
       "      <td>[0, 0, 0, 0, 0, 0, 0, 0, 0, 0, 0, 0, 0, 0, 1, ...</td>\n",
       "    </tr>\n",
       "    <tr>\n",
       "      <th>1</th>\n",
       "      <td>280953257</td>\n",
       "      <td>O=C(O)[C@@H]1CCCN1C(=O)OCC1c2ccccc2-c2ccccc21</td>\n",
       "      <td>Nc1ccc2c(c1)CNCC2</td>\n",
       "      <td>Cl.NC[C@@H]1CCCO1</td>\n",
       "      <td>O=C(N[Dy])[C@@H]1CCCN1c1nc(NC[C@@H]2CCCO2)nc(N...</td>\n",
       "      <td>sEH</td>\n",
       "      <td>0</td>\n",
       "      <td>&lt;rdkit.Chem.rdchem.Mol object at 0x7f0062d1ceb0&gt;</td>\n",
       "      <td>[0, 0, 0, 0, 0, 0, 0, 0, 0, 0, 0, 0, 0, 0, 0, ...</td>\n",
       "    </tr>\n",
       "    <tr>\n",
       "      <th>2</th>\n",
       "      <td>235300379</td>\n",
       "      <td>O=C(O)C1CN(C(=O)OCC2c3ccccc3-c3ccccc32)C1</td>\n",
       "      <td>Nc1ncc([N+](=O)[O-])s1</td>\n",
       "      <td>COc1cccc(N)n1</td>\n",
       "      <td>COc1cccc(Nc2nc(Nc3ncc([N+](=O)[O-])s3)nc(N3CC(...</td>\n",
       "      <td>sEH</td>\n",
       "      <td>0</td>\n",
       "      <td>&lt;rdkit.Chem.rdchem.Mol object at 0x7f0062d1ca50&gt;</td>\n",
       "      <td>[0, 0, 0, 0, 0, 0, 0, 0, 0, 0, 0, 0, 0, 0, 0, ...</td>\n",
       "    </tr>\n",
       "    <tr>\n",
       "      <th>3</th>\n",
       "      <td>230106112</td>\n",
       "      <td>O=C(Nc1ncc(Br)nc1C(=O)O)OCC1c2ccccc2-c2ccccc21</td>\n",
       "      <td>COCc1ccccc1CN</td>\n",
       "      <td>NCc1nc2ccccc2s1</td>\n",
       "      <td>COCc1ccccc1CNc1nc(NCc2nc3ccccc3s2)nc(Nc2ncc(Br...</td>\n",
       "      <td>HSA</td>\n",
       "      <td>0</td>\n",
       "      <td>&lt;rdkit.Chem.rdchem.Mol object at 0x7f0062d1cac0&gt;</td>\n",
       "      <td>[0, 0, 0, 0, 0, 0, 0, 0, 0, 0, 0, 0, 0, 0, 0, ...</td>\n",
       "    </tr>\n",
       "    <tr>\n",
       "      <th>4</th>\n",
       "      <td>53724801</td>\n",
       "      <td>Cc1ccc(C(=O)O)c(NC(=O)OCC2c3ccccc3-c3ccccc32)c1C</td>\n",
       "      <td>Cc1cc(C#N)c(N)s1</td>\n",
       "      <td>Cn1nnc(N)n1</td>\n",
       "      <td>Cc1cc(C#N)c(Nc2nc(Nc3nnn(C)n3)nc(Nc3c(C(=O)N[D...</td>\n",
       "      <td>BRD4</td>\n",
       "      <td>0</td>\n",
       "      <td>&lt;rdkit.Chem.rdchem.Mol object at 0x7f0062d1cb30&gt;</td>\n",
       "      <td>[0, 0, 0, 0, 0, 0, 0, 0, 0, 0, 0, 0, 0, 0, 0, ...</td>\n",
       "    </tr>\n",
       "  </tbody>\n",
       "</table>\n",
       "</div>"
      ],
      "text/plain": [
       "          id                             buildingblock1_smiles  \\\n",
       "0  171770201    O=C(Nc1cc(Cl)ncc1C(=O)O)OCC1c2ccccc2-c2ccccc21   \n",
       "1  280953257     O=C(O)[C@@H]1CCCN1C(=O)OCC1c2ccccc2-c2ccccc21   \n",
       "2  235300379         O=C(O)C1CN(C(=O)OCC2c3ccccc3-c3ccccc32)C1   \n",
       "3  230106112    O=C(Nc1ncc(Br)nc1C(=O)O)OCC1c2ccccc2-c2ccccc21   \n",
       "4   53724801  Cc1ccc(C(=O)O)c(NC(=O)OCC2c3ccccc3-c3ccccc32)c1C   \n",
       "\n",
       "    buildingblock2_smiles buildingblock3_smiles  \\\n",
       "0           NC1=NC(=O)CS1           N#Cc1ccsc1N   \n",
       "1       Nc1ccc2c(c1)CNCC2     Cl.NC[C@@H]1CCCO1   \n",
       "2  Nc1ncc([N+](=O)[O-])s1         COc1cccc(N)n1   \n",
       "3           COCc1ccccc1CN       NCc1nc2ccccc2s1   \n",
       "4        Cc1cc(C#N)c(N)s1           Cn1nnc(N)n1   \n",
       "\n",
       "                                     molecule_smiles protein_name  binds  \\\n",
       "0  N#Cc1ccsc1Nc1nc(NC2=NC(=O)CS2)nc(Nc2cc(Cl)ncc2...          sEH      0   \n",
       "1  O=C(N[Dy])[C@@H]1CCCN1c1nc(NC[C@@H]2CCCO2)nc(N...          sEH      0   \n",
       "2  COc1cccc(Nc2nc(Nc3ncc([N+](=O)[O-])s3)nc(N3CC(...          sEH      0   \n",
       "3  COCc1ccccc1CNc1nc(NCc2nc3ccccc3s2)nc(Nc2ncc(Br...          HSA      0   \n",
       "4  Cc1cc(C#N)c(Nc2nc(Nc3nnn(C)n3)nc(Nc3c(C(=O)N[D...         BRD4      0   \n",
       "\n",
       "                                           molecule  \\\n",
       "0  <rdkit.Chem.rdchem.Mol object at 0x7f0062d1ccf0>   \n",
       "1  <rdkit.Chem.rdchem.Mol object at 0x7f0062d1ceb0>   \n",
       "2  <rdkit.Chem.rdchem.Mol object at 0x7f0062d1ca50>   \n",
       "3  <rdkit.Chem.rdchem.Mol object at 0x7f0062d1cac0>   \n",
       "4  <rdkit.Chem.rdchem.Mol object at 0x7f0062d1cb30>   \n",
       "\n",
       "                                        fingerprints  \n",
       "0  [0, 0, 0, 0, 0, 0, 0, 0, 0, 0, 0, 0, 0, 0, 1, ...  \n",
       "1  [0, 0, 0, 0, 0, 0, 0, 0, 0, 0, 0, 0, 0, 0, 0, ...  \n",
       "2  [0, 0, 0, 0, 0, 0, 0, 0, 0, 0, 0, 0, 0, 0, 0, ...  \n",
       "3  [0, 0, 0, 0, 0, 0, 0, 0, 0, 0, 0, 0, 0, 0, 0, ...  \n",
       "4  [0, 0, 0, 0, 0, 0, 0, 0, 0, 0, 0, 0, 0, 0, 0, ...  "
      ]
     },
     "execution_count": 11,
     "metadata": {},
     "output_type": "execute_result"
    }
   ],
   "source": [
    "data.head()"
   ]
  },
  {
   "cell_type": "code",
   "execution_count": 12,
   "metadata": {},
   "outputs": [],
   "source": [
    "onehot_encoder = OneHotEncoder(sparse_output=False)\n",
    "protein_encoded = onehot_encoder.fit_transform(data['protein_name'].values.reshape(-1, 1)).astype(np.uint8)\n",
    "protein_columns = onehot_encoder.get_feature_names_out(['protein'])\n",
    "protein_encoded_df = pd.DataFrame(protein_encoded, columns=protein_columns)\n",
    "data = pd.concat([data, protein_encoded_df], axis=1)"
   ]
  },
  {
   "cell_type": "code",
   "execution_count": 13,
   "metadata": {},
   "outputs": [],
   "source": [
    "data.to_csv(\"./train.csv\", index=False)"
   ]
  },
  {
   "cell_type": "markdown",
   "metadata": {},
   "source": [
    "# Training"
   ]
  },
  {
   "cell_type": "code",
   "execution_count": 14,
   "metadata": {},
   "outputs": [],
   "source": [
    "def convert_to_numpy_array(explicit_bit_vect):\n",
    "    arr = np.zeros((1,))\n",
    "    DataStructs.ConvertToNumpyArray(explicit_bit_vect, arr)\n",
    "    return arr\n",
    "\n",
    "protein_onehot = onehot_encoder.fit_transform(data['protein_name'].values.reshape(-1, 1))\n",
    "fingerprints = [convert_to_numpy_array(fp) for fp in data['fingerprints'].tolist()]\n",
    "X = [np.concatenate([fp, protein]) for fp, protein in zip(fingerprints, protein_onehot.tolist())]\n",
    "y = data['binds'].tolist()"
   ]
  },
  {
   "cell_type": "code",
   "execution_count": 15,
   "metadata": {},
   "outputs": [],
   "source": [
    "X_train, X_test, y_train, y_test = train_test_split(X, y, test_size=0.2, random_state=42)"
   ]
  },
  {
   "cell_type": "code",
   "execution_count": 16,
   "metadata": {},
   "outputs": [
    {
     "name": "stdout",
     "output_type": "stream",
     "text": [
      "[LightGBM] [Info] Number of positive: 79993, number of negative: 80007\n",
      "[LightGBM] [Info] Auto-choosing row-wise multi-threading, the overhead of testing was 0.078387 seconds.\n",
      "You can set `force_row_wise=true` to remove the overhead.\n",
      "And if memory is not enough, you can set `force_col_wise=true`.\n",
      "[LightGBM] [Info] Total Bins 3706\n",
      "[LightGBM] [Info] Number of data points in the train set: 160000, number of used features: 1853\n",
      "[LightGBM] [Info] [binary:BoostFromScore]: pavg=0.499956 -> initscore=-0.000175\n",
      "[LightGBM] [Info] Start training from score -0.000175\n"
     ]
    },
    {
     "data": {
      "text/html": [
       "<style>#sk-container-id-1 {color: black;}#sk-container-id-1 pre{padding: 0;}#sk-container-id-1 div.sk-toggleable {background-color: white;}#sk-container-id-1 label.sk-toggleable__label {cursor: pointer;display: block;width: 100%;margin-bottom: 0;padding: 0.3em;box-sizing: border-box;text-align: center;}#sk-container-id-1 label.sk-toggleable__label-arrow:before {content: \"▸\";float: left;margin-right: 0.25em;color: #696969;}#sk-container-id-1 label.sk-toggleable__label-arrow:hover:before {color: black;}#sk-container-id-1 div.sk-estimator:hover label.sk-toggleable__label-arrow:before {color: black;}#sk-container-id-1 div.sk-toggleable__content {max-height: 0;max-width: 0;overflow: hidden;text-align: left;background-color: #f0f8ff;}#sk-container-id-1 div.sk-toggleable__content pre {margin: 0.2em;color: black;border-radius: 0.25em;background-color: #f0f8ff;}#sk-container-id-1 input.sk-toggleable__control:checked~div.sk-toggleable__content {max-height: 200px;max-width: 100%;overflow: auto;}#sk-container-id-1 input.sk-toggleable__control:checked~label.sk-toggleable__label-arrow:before {content: \"▾\";}#sk-container-id-1 div.sk-estimator input.sk-toggleable__control:checked~label.sk-toggleable__label {background-color: #d4ebff;}#sk-container-id-1 div.sk-label input.sk-toggleable__control:checked~label.sk-toggleable__label {background-color: #d4ebff;}#sk-container-id-1 input.sk-hidden--visually {border: 0;clip: rect(1px 1px 1px 1px);clip: rect(1px, 1px, 1px, 1px);height: 1px;margin: -1px;overflow: hidden;padding: 0;position: absolute;width: 1px;}#sk-container-id-1 div.sk-estimator {font-family: monospace;background-color: #f0f8ff;border: 1px dotted black;border-radius: 0.25em;box-sizing: border-box;margin-bottom: 0.5em;}#sk-container-id-1 div.sk-estimator:hover {background-color: #d4ebff;}#sk-container-id-1 div.sk-parallel-item::after {content: \"\";width: 100%;border-bottom: 1px solid gray;flex-grow: 1;}#sk-container-id-1 div.sk-label:hover label.sk-toggleable__label {background-color: #d4ebff;}#sk-container-id-1 div.sk-serial::before {content: \"\";position: absolute;border-left: 1px solid gray;box-sizing: border-box;top: 0;bottom: 0;left: 50%;z-index: 0;}#sk-container-id-1 div.sk-serial {display: flex;flex-direction: column;align-items: center;background-color: white;padding-right: 0.2em;padding-left: 0.2em;position: relative;}#sk-container-id-1 div.sk-item {position: relative;z-index: 1;}#sk-container-id-1 div.sk-parallel {display: flex;align-items: stretch;justify-content: center;background-color: white;position: relative;}#sk-container-id-1 div.sk-item::before, #sk-container-id-1 div.sk-parallel-item::before {content: \"\";position: absolute;border-left: 1px solid gray;box-sizing: border-box;top: 0;bottom: 0;left: 50%;z-index: -1;}#sk-container-id-1 div.sk-parallel-item {display: flex;flex-direction: column;z-index: 1;position: relative;background-color: white;}#sk-container-id-1 div.sk-parallel-item:first-child::after {align-self: flex-end;width: 50%;}#sk-container-id-1 div.sk-parallel-item:last-child::after {align-self: flex-start;width: 50%;}#sk-container-id-1 div.sk-parallel-item:only-child::after {width: 0;}#sk-container-id-1 div.sk-dashed-wrapped {border: 1px dashed gray;margin: 0 0.4em 0.5em 0.4em;box-sizing: border-box;padding-bottom: 0.4em;background-color: white;}#sk-container-id-1 div.sk-label label {font-family: monospace;font-weight: bold;display: inline-block;line-height: 1.2em;}#sk-container-id-1 div.sk-label-container {text-align: center;}#sk-container-id-1 div.sk-container {/* jupyter's `normalize.less` sets `[hidden] { display: none; }` but bootstrap.min.css set `[hidden] { display: none !important; }` so we also need the `!important` here to be able to override the default hidden behavior on the sphinx rendered scikit-learn.org. See: https://github.com/scikit-learn/scikit-learn/issues/21755 */display: inline-block !important;position: relative;}#sk-container-id-1 div.sk-text-repr-fallback {display: none;}</style><div id=\"sk-container-id-1\" class=\"sk-top-container\"><div class=\"sk-text-repr-fallback\"><pre>LGBMClassifier(random_state=42, reg_alpha=0.5, reg_lambda=0.5)</pre><b>In a Jupyter environment, please rerun this cell to show the HTML representation or trust the notebook. <br />On GitHub, the HTML representation is unable to render, please try loading this page with nbviewer.org.</b></div><div class=\"sk-container\" hidden><div class=\"sk-item\"><div class=\"sk-estimator sk-toggleable\"><input class=\"sk-toggleable__control sk-hidden--visually\" id=\"sk-estimator-id-1\" type=\"checkbox\" checked><label for=\"sk-estimator-id-1\" class=\"sk-toggleable__label sk-toggleable__label-arrow\">LGBMClassifier</label><div class=\"sk-toggleable__content\"><pre>LGBMClassifier(random_state=42, reg_alpha=0.5, reg_lambda=0.5)</pre></div></div></div></div></div>"
      ],
      "text/plain": [
       "LGBMClassifier(random_state=42, reg_alpha=0.5, reg_lambda=0.5)"
      ]
     },
     "execution_count": 16,
     "metadata": {},
     "output_type": "execute_result"
    }
   ],
   "source": [
    "# model = RandomForestClassifier(n_estimators=100, random_state=42)\n",
    "# model.fit(X_train, y_train)\n",
    "\n",
    "model = lgb.LGBMClassifier(\n",
    "    n_estimators=100,\n",
    "    learning_rate=0.1,\n",
    "    random_state=42,\n",
    "    reg_alpha=0.5,   # L1 규제\n",
    "    reg_lambda=0.5   # L2 규제\n",
    ")\n",
    "model.fit(X_train, y_train)"
   ]
  },
  {
   "cell_type": "code",
   "execution_count": 17,
   "metadata": {},
   "outputs": [
    {
     "name": "stdout",
     "output_type": "stream",
     "text": [
      "Validation Accuracy: 0.8998\n",
      "              precision    recall  f1-score   support\n",
      "\n",
      "           0       0.88      0.93      0.90     19993\n",
      "           1       0.92      0.87      0.90     20007\n",
      "\n",
      "    accuracy                           0.90     40000\n",
      "   macro avg       0.90      0.90      0.90     40000\n",
      "weighted avg       0.90      0.90      0.90     40000\n",
      "\n",
      "[0.99219655 0.12855263 0.97963119 ... 0.98298298 0.93856937 0.05882482]\n"
     ]
    }
   ],
   "source": [
    "y_pred = model.predict(X_test)\n",
    "accuracy = accuracy_score(y_test, y_pred)\n",
    "y_pred_proba = model.predict_proba(X_test)[:, 1]\n",
    "\n",
    "print(f\"Validation Accuracy: {accuracy:.4f}\")\n",
    "print(classification_report(y_test, y_pred))\n",
    "print(y_pred_proba)"
   ]
  },
  {
   "cell_type": "markdown",
   "metadata": {},
   "source": [
    "# Evaluation"
   ]
  },
  {
   "cell_type": "code",
   "execution_count": null,
   "metadata": {},
   "outputs": [],
   "source": [
    "def convert_to_numpy_array(explicit_bit_vect):\n",
    "    arr = np.zeros((1,))\n",
    "    DataStructs.ConvertToNumpyArray(explicit_bit_vect, arr)\n",
    "    return arr"
   ]
  },
  {
   "cell_type": "code",
   "execution_count": null,
   "metadata": {},
   "outputs": [],
   "source": [
    "chunk_size = 1000\n",
    "fpg = rdFingerprintGenerator.GetMorganGenerator(radius=RADIUS, fpSize=FPSIZE)\n",
    "\n",
    "submission_chunks = []\n",
    "for chunk in pd.read_csv(test_csv, chunksize=chunk_size):\n",
    "    chunk['molecule'] = chunk['molecule_smiles'].apply(Chem.MolFromSmiles)\n",
    "    chunk['fingerprints'] = chunk['molecule'].apply(compute_fingerprint)\n",
    "    \n",
    "    protein_onehot_test = onehot_encoder.transform(chunk['protein_name'].values.reshape(-1, 1))\n",
    "    fingerprints_test = [convert_to_numpy_array(fp) for fp in chunk['fingerprints'].tolist()]\n",
    "    X_test_final = [np.concatenate([fp, protein]) for fp, protein in zip(fingerprints_test, protein_onehot_test.tolist())]\n",
    "    y_test_pred = model.predict(X_test_final)\n",
    "\n",
    "    chunk['binds_pred'] = y_test_pred\n",
    "    submission_chunks.append(chunk[['id', 'binds_pred']])\n",
    "\n",
    "submission = pd.concat(submission_chunks, axis=0)\n",
    "submission.to_csv('./submission.csv', index=False)"
   ]
  }
 ],
 "metadata": {
  "kernelspec": {
   "display_name": "AiLab",
   "language": "python",
   "name": "python3"
  },
  "language_info": {
   "codemirror_mode": {
    "name": "ipython",
    "version": 3
   },
   "file_extension": ".py",
   "mimetype": "text/x-python",
   "name": "python",
   "nbconvert_exporter": "python",
   "pygments_lexer": "ipython3",
   "version": "3.8.19"
  }
 },
 "nbformat": 4,
 "nbformat_minor": 2
}
