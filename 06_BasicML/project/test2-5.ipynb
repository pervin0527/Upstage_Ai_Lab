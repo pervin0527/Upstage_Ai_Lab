{
 "cells": [
  {
   "cell_type": "code",
   "execution_count": null,
   "metadata": {},
   "outputs": [],
   "source": [
    "import os\n",
    "import warnings\n",
    "warnings.filterwarnings(\"ignore\")\n",
    "\n",
    "import duckdb\n",
    "import numpy as np\n",
    "import pandas as pd\n",
    "import matplotlib.pyplot as plt\n",
    "\n",
    "from rdkit import Chem\n",
    "from rdkit.Chem import DataStructs, Descriptors, rdFingerprintGenerator\n",
    "\n",
    "from sklearn.ensemble import RandomForestClassifier\n",
    "from sklearn.model_selection import train_test_split\n",
    "from sklearn.preprocessing import OneHotEncoder, MinMaxScaler\n",
    "from sklearn.metrics import accuracy_score, classification_report"
   ]
  },
  {
   "cell_type": "markdown",
   "metadata": {},
   "source": [
    "# Data Load"
   ]
  },
  {
   "cell_type": "code",
   "execution_count": null,
   "metadata": {},
   "outputs": [
    {
     "data": {
      "text/plain": [
       "['test.parquet',\n",
       " 'train.csv',\n",
       " 'test.csv',\n",
       " 'train.parquet',\n",
       " 'sample_submission.csv']"
      ]
     },
     "metadata": {},
     "output_type": "display_data"
    }
   ],
   "source": [
    "data_dir = \"/home/pervinco/Datasets/leash-bio\"\n",
    "save_dir = f\"{data_dir}/split_sets\"\n",
    "\n",
    "train_csv = f\"{data_dir}/train.csv\"\n",
    "test_csv = f\"{data_dir}/test.csv\"\n",
    "\n",
    "train_parquet = f\"{data_dir}/train.parquet\"\n",
    "test_parquet = f'{data_dir}/test.parquet'\n",
    "\n",
    "os.listdir(data_dir)"
   ]
  },
  {
   "cell_type": "code",
   "execution_count": null,
   "metadata": {},
   "outputs": [],
   "source": [
    "# data = pd.read_csv(train_csv) ## 전체 데이터가 295246830. 2억 9천 5백 24만 6830개."
   ]
  },
  {
   "cell_type": "code",
   "execution_count": null,
   "metadata": {},
   "outputs": [],
   "source": [
    "con = duckdb.connect()\n",
    "data = con.query(f\"\"\"(SELECT *\n",
    "                      FROM parquet_scan('{train_parquet}')\n",
    "                      WHERE binds = 0\n",
    "                      ORDER BY random()\n",
    "                      LIMIT 100000)\n",
    "                      UNION ALL\n",
    "                      (SELECT *\n",
    "                      FROM parquet_scan('{train_parquet}')\n",
    "                      WHERE binds = 1\n",
    "                      ORDER BY random()\n",
    "                      LIMIT 100000)\"\"\").df()\n",
    "\n",
    "con.close()"
   ]
  },
  {
   "cell_type": "code",
   "execution_count": null,
   "metadata": {},
   "outputs": [
    {
     "data": {
      "text/plain": [
       "(200000, 7)"
      ]
     },
     "metadata": {},
     "output_type": "display_data"
    }
   ],
   "source": [
    "data.shape"
   ]
  },
  {
   "cell_type": "code",
   "execution_count": null,
   "metadata": {},
   "outputs": [
    {
     "data": {
      "text/html": [
       "<div>\n",
       "<style scoped>\n",
       "    .dataframe tbody tr th:only-of-type {\n",
       "        vertical-align: middle;\n",
       "    }\n",
       "\n",
       "    .dataframe tbody tr th {\n",
       "        vertical-align: top;\n",
       "    }\n",
       "\n",
       "    .dataframe thead th {\n",
       "        text-align: right;\n",
       "    }\n",
       "</style>\n",
       "<table border=\"1\" class=\"dataframe\">\n",
       "  <thead>\n",
       "    <tr style=\"text-align: right;\">\n",
       "      <th></th>\n",
       "      <th>id</th>\n",
       "      <th>buildingblock1_smiles</th>\n",
       "      <th>buildingblock2_smiles</th>\n",
       "      <th>buildingblock3_smiles</th>\n",
       "      <th>molecule_smiles</th>\n",
       "      <th>protein_name</th>\n",
       "      <th>binds</th>\n",
       "    </tr>\n",
       "  </thead>\n",
       "  <tbody>\n",
       "    <tr>\n",
       "      <th>0</th>\n",
       "      <td>107558024</td>\n",
       "      <td>O=C(N[C@@H](Cc1ccsc1)C(=O)O)OCC1c2ccccc2-c2ccc...</td>\n",
       "      <td>NCc1c(F)cccc1N1CCCC1</td>\n",
       "      <td>COc1ccc(N)cc1Cl.Cl</td>\n",
       "      <td>COc1ccc(Nc2nc(NCc3c(F)cccc3N3CCCC3)nc(N[C@@H](...</td>\n",
       "      <td>sEH</td>\n",
       "      <td>0</td>\n",
       "    </tr>\n",
       "    <tr>\n",
       "      <th>1</th>\n",
       "      <td>148303829</td>\n",
       "      <td>O=C(Nc1c(F)cc(Br)cc1C(=O)O)OCC1c2ccccc2-c2ccccc21</td>\n",
       "      <td>CN(C)c1nc(Cl)c(CN)s1.Cl.Cl</td>\n",
       "      <td>NCc1cccs1</td>\n",
       "      <td>CN(C)c1nc(Cl)c(CNc2nc(NCc3cccs3)nc(Nc3c(F)cc(B...</td>\n",
       "      <td>sEH</td>\n",
       "      <td>0</td>\n",
       "    </tr>\n",
       "    <tr>\n",
       "      <th>2</th>\n",
       "      <td>108820608</td>\n",
       "      <td>O=C(N[C@@H](Cc1csc2ccccc12)C(=O)O)OCC1c2ccccc2...</td>\n",
       "      <td>Nc1ccc2cn[nH]c2c1</td>\n",
       "      <td>NCC1CCC2CC2C1</td>\n",
       "      <td>O=C(N[Dy])[C@H](Cc1csc2ccccc12)Nc1nc(NCC2CCC3C...</td>\n",
       "      <td>BRD4</td>\n",
       "      <td>0</td>\n",
       "    </tr>\n",
       "    <tr>\n",
       "      <th>3</th>\n",
       "      <td>171309983</td>\n",
       "      <td>O=C(Nc1cc(Cl)ncc1C(=O)O)OCC1c2ccccc2-c2ccccc21</td>\n",
       "      <td>COc1ccc(N)c(Cl)c1</td>\n",
       "      <td>CCS(=O)CCN.Cl</td>\n",
       "      <td>CCS(=O)CCNc1nc(Nc2ccc(OC)cc2Cl)nc(Nc2cc(Cl)ncc...</td>\n",
       "      <td>sEH</td>\n",
       "      <td>0</td>\n",
       "    </tr>\n",
       "    <tr>\n",
       "      <th>4</th>\n",
       "      <td>167265202</td>\n",
       "      <td>O=C(Nc1cc(C(=O)O)ccc1Cl)OCC1c2ccccc2-c2ccccc21</td>\n",
       "      <td>Cl.NCC1CNC(=O)C1</td>\n",
       "      <td>Cl.NCCN1C(=O)c2ccccc2S1(=O)=O</td>\n",
       "      <td>O=C1CC(CNc2nc(NCCN3C(=O)c4ccccc4S3(=O)=O)nc(Nc...</td>\n",
       "      <td>HSA</td>\n",
       "      <td>0</td>\n",
       "    </tr>\n",
       "  </tbody>\n",
       "</table>\n",
       "</div>"
      ],
      "text/plain": [
       "          id                              buildingblock1_smiles  \\\n",
       "0  107558024  O=C(N[C@@H](Cc1ccsc1)C(=O)O)OCC1c2ccccc2-c2ccc...   \n",
       "1  148303829  O=C(Nc1c(F)cc(Br)cc1C(=O)O)OCC1c2ccccc2-c2ccccc21   \n",
       "2  108820608  O=C(N[C@@H](Cc1csc2ccccc12)C(=O)O)OCC1c2ccccc2...   \n",
       "3  171309983     O=C(Nc1cc(Cl)ncc1C(=O)O)OCC1c2ccccc2-c2ccccc21   \n",
       "4  167265202     O=C(Nc1cc(C(=O)O)ccc1Cl)OCC1c2ccccc2-c2ccccc21   \n",
       "\n",
       "        buildingblock2_smiles          buildingblock3_smiles  \\\n",
       "0        NCc1c(F)cccc1N1CCCC1             COc1ccc(N)cc1Cl.Cl   \n",
       "1  CN(C)c1nc(Cl)c(CN)s1.Cl.Cl                      NCc1cccs1   \n",
       "2           Nc1ccc2cn[nH]c2c1                  NCC1CCC2CC2C1   \n",
       "3           COc1ccc(N)c(Cl)c1                  CCS(=O)CCN.Cl   \n",
       "4            Cl.NCC1CNC(=O)C1  Cl.NCCN1C(=O)c2ccccc2S1(=O)=O   \n",
       "\n",
       "                                     molecule_smiles protein_name  binds  \n",
       "0  COc1ccc(Nc2nc(NCc3c(F)cccc3N3CCCC3)nc(N[C@@H](...          sEH      0  \n",
       "1  CN(C)c1nc(Cl)c(CNc2nc(NCc3cccs3)nc(Nc3c(F)cc(B...          sEH      0  \n",
       "2  O=C(N[Dy])[C@H](Cc1csc2ccccc12)Nc1nc(NCC2CCC3C...         BRD4      0  \n",
       "3  CCS(=O)CCNc1nc(Nc2ccc(OC)cc2Cl)nc(Nc2cc(Cl)ncc...          sEH      0  \n",
       "4  O=C1CC(CNc2nc(NCCN3C(=O)c4ccccc4S3(=O)=O)nc(Nc...          HSA      0  "
      ]
     },
     "metadata": {},
     "output_type": "display_data"
    }
   ],
   "source": [
    "data.head()"
   ]
  },
  {
   "cell_type": "markdown",
   "metadata": {},
   "source": [
    "# EDA"
   ]
  },
  {
   "cell_type": "markdown",
   "metadata": {},
   "source": [
    "데이터셋은 매우 불균형하다. bind=0이 293656924개, bind=1이 1589906개."
   ]
  },
  {
   "cell_type": "code",
   "execution_count": null,
   "metadata": {},
   "outputs": [],
   "source": [
    "bind_0_count = data[data['binds'] == 0].shape[0]\n",
    "bind_1_count = data[data['binds'] == 1].shape[0]\n",
    "\n",
    "print(bind_0_count, bind_1_count)"
   ]
  },
  {
   "cell_type": "code",
   "execution_count": null,
   "metadata": {},
   "outputs": [],
   "source": [
    "bb1_set = set(data['buildingblock1_smiles'])\n",
    "bb2_set = set(data['buildingblock2_smiles'])\n",
    "bb3_set = set(data['buildingblock3_smiles'])\n",
    "\n",
    "\n",
    "bb1_bb2_intersection = bb1_set.intersection(bb2_set)\n",
    "bb1_bb3_intersection = bb1_set.intersection(bb3_set)\n",
    "bb2_bb3_intersection = bb2_set.intersection(bb3_set)\n",
    "\n",
    "print(f\"Building block 1 & 2 중복 : {'있음' if bb1_bb2_intersection else '없음'}\")\n",
    "print(f\"Building block 1 & 3 중복 : {'있음' if bb1_bb3_intersection else '없음'}\")\n",
    "print(f\"Building block 2 & 3 중복 : {'있음' if bb2_bb3_intersection else '없음'}\")\n",
    "\n",
    "print(f\"Building block 1과 2 사이의 중복된 값: {bb1_bb2_intersection}\")\n",
    "print(f\"Building block 1과 3 사이의 중복된 값: {bb1_bb3_intersection}\")\n",
    "print(f\"Building block 2와 3 사이의 중복된 값: {bb2_bb3_intersection}\")"
   ]
  },
  {
   "cell_type": "markdown",
   "metadata": {},
   "source": [
    "molecule_smiles는 SMILES 표기법으로 작성된 화학식이자 building block들이 화학적으로 결합한 소분자.  \n",
    "기계학습을 위해서는 컴퓨터가 이해할 수 있는 형태로 Encoding 해야한다."
   ]
  },
  {
   "cell_type": "code",
   "execution_count": null,
   "metadata": {},
   "outputs": [],
   "source": [
    "mols = [Chem.MolFromSmiles(i) for i in data['molecule_smiles']]\n",
    "print(mols[0])"
   ]
  },
  {
   "cell_type": "code",
   "execution_count": null,
   "metadata": {},
   "outputs": [],
   "source": [
    "def get_fp_with_ao(mol, radius=2, fpSize=2048):\n",
    "    fpg = rdFingerprintGenerator.GetMorganGenerator(radius=radius,fpSize=fpSize)\n",
    "    \n",
    "    ao = rdFingerprintGenerator.AdditionalOutput()\n",
    "    ao.AllocateAtomCounts() ## 원자의 수\n",
    "    ao.AllocateAtomToBits() ## 원자가 어떤 비트로 맵핑되는지\n",
    "    ao.AllocateBitInfoMap()\n",
    "    \n",
    "    fp = fpg.GetFingerprint(mol, additionalOutput=ao)\n",
    "    return fp, ao"
   ]
  },
  {
   "cell_type": "code",
   "execution_count": null,
   "metadata": {},
   "outputs": [],
   "source": [
    "fp, ao = get_fp_with_ao(mols[0])\n",
    "print(fp)\n",
    "print(ao)"
   ]
  },
  {
   "cell_type": "code",
   "execution_count": null,
   "metadata": {},
   "outputs": [],
   "source": [
    "total_bits = fp.GetNumBits()\n",
    "on_bits = fp.GetNumOnBits()\n",
    "\n",
    "on_bits_list = list(fp.GetOnBits())\n",
    "\n",
    "print(f'Total bits: {total_bits}, On Bits: {on_bits}, Sparsity: {on_bits/total_bits}')"
   ]
  },
  {
   "cell_type": "markdown",
   "metadata": {},
   "source": [
    "하나의 분자식에서도 여러 가지 추가 특성들을 계산할 수 있다."
   ]
  },
  {
   "cell_type": "code",
   "execution_count": null,
   "metadata": {},
   "outputs": [],
   "source": [
    "# SMILES 문자열\n",
    "smiles = 'CC(=O)OC1=CC=CC=C1C(=O)O'\n",
    "\n",
    "# SMILES를 분자 객체로 변환\n",
    "mol = Chem.MolFromSmiles(smiles)\n",
    "\n",
    "# 분자량 계산\n",
    "mol_weight = Descriptors.ExactMolWt(mol)\n",
    "print(f\"Molecular Weight: {mol_weight:.2f}\")\n",
    "\n",
    "# 로그P (리피드 용해도) 계산\n",
    "log_p = Descriptors.MolLogP(mol)\n",
    "print(f\"LogP: {log_p:.2f}\")\n",
    "\n",
    "# 수소 결합 주개 계산\n",
    "h_bond_donor = Descriptors.NumHDonors(mol)\n",
    "print(f\"Number of Hydrogen Bond Donors: {h_bond_donor}\")\n",
    "\n",
    "# 수소 결합 받개 계산\n",
    "h_bond_acceptor = Descriptors.NumHAcceptors(mol)\n",
    "print(f\"Number of Hydrogen Bond Acceptors: {h_bond_acceptor}\")\n",
    "\n",
    "# 회전 가능한 결합 수 계산\n",
    "rotatable_bonds = Descriptors.NumRotatableBonds(mol)\n",
    "print(f\"Number of Rotatable Bonds: {rotatable_bonds}\")\n",
    "\n",
    "# TPSA (위상학적 극성 표면적) 계산\n",
    "tpsa = Descriptors.TPSA(mol)\n",
    "print(f\"Topological Polar Surface Area (TPSA): {tpsa:.2f}\")\n",
    "\n",
    "# 방향족 고리 수 계산\n",
    "aromatic_rings = Descriptors.NumAromaticRings(mol)\n",
    "print(f\"Number of Aromatic Rings: {aromatic_rings}\")\n",
    "\n",
    "# 헤테로 원자 수 계산\n",
    "hetero_atoms = Descriptors.NumHeteroatoms(mol)\n",
    "print(f\"Number of Heteroatoms: {hetero_atoms}\")"
   ]
  },
  {
   "cell_type": "markdown",
   "metadata": {},
   "source": [
    "# Preprocessing"
   ]
  },
  {
   "cell_type": "markdown",
   "metadata": {},
   "source": [
    "```GetMorganGenerator```을 정의할 때 radius의 설정을 바꿔가면서 학습을 해보는 것도 방법이될 수 있을 것."
   ]
  },
  {
   "cell_type": "code",
   "execution_count": null,
   "metadata": {},
   "outputs": [],
   "source": [
    "data['molecule'] = data['molecule_smiles'].apply(Chem.MolFromSmiles) ## 문자열 화학식을 rdkit 객체로 변환한다."
   ]
  },
  {
   "cell_type": "code",
   "execution_count": null,
   "metadata": {},
   "outputs": [
    {
     "data": {
      "text/html": [
       "<div>\n",
       "<style scoped>\n",
       "    .dataframe tbody tr th:only-of-type {\n",
       "        vertical-align: middle;\n",
       "    }\n",
       "\n",
       "    .dataframe tbody tr th {\n",
       "        vertical-align: top;\n",
       "    }\n",
       "\n",
       "    .dataframe thead th {\n",
       "        text-align: right;\n",
       "    }\n",
       "</style>\n",
       "<table border=\"1\" class=\"dataframe\">\n",
       "  <thead>\n",
       "    <tr style=\"text-align: right;\">\n",
       "      <th></th>\n",
       "      <th>id</th>\n",
       "      <th>buildingblock1_smiles</th>\n",
       "      <th>buildingblock2_smiles</th>\n",
       "      <th>buildingblock3_smiles</th>\n",
       "      <th>molecule_smiles</th>\n",
       "      <th>protein_name</th>\n",
       "      <th>binds</th>\n",
       "      <th>molecule</th>\n",
       "    </tr>\n",
       "  </thead>\n",
       "  <tbody>\n",
       "    <tr>\n",
       "      <th>0</th>\n",
       "      <td>107558024</td>\n",
       "      <td>O=C(N[C@@H](Cc1ccsc1)C(=O)O)OCC1c2ccccc2-c2ccc...</td>\n",
       "      <td>NCc1c(F)cccc1N1CCCC1</td>\n",
       "      <td>COc1ccc(N)cc1Cl.Cl</td>\n",
       "      <td>COc1ccc(Nc2nc(NCc3c(F)cccc3N3CCCC3)nc(N[C@@H](...</td>\n",
       "      <td>sEH</td>\n",
       "      <td>0</td>\n",
       "      <td>&lt;rdkit.Chem.rdchem.Mol object at 0x7f89c79d6430&gt;</td>\n",
       "    </tr>\n",
       "    <tr>\n",
       "      <th>1</th>\n",
       "      <td>148303829</td>\n",
       "      <td>O=C(Nc1c(F)cc(Br)cc1C(=O)O)OCC1c2ccccc2-c2ccccc21</td>\n",
       "      <td>CN(C)c1nc(Cl)c(CN)s1.Cl.Cl</td>\n",
       "      <td>NCc1cccs1</td>\n",
       "      <td>CN(C)c1nc(Cl)c(CNc2nc(NCc3cccs3)nc(Nc3c(F)cc(B...</td>\n",
       "      <td>sEH</td>\n",
       "      <td>0</td>\n",
       "      <td>&lt;rdkit.Chem.rdchem.Mol object at 0x7f89c79d6350&gt;</td>\n",
       "    </tr>\n",
       "    <tr>\n",
       "      <th>2</th>\n",
       "      <td>108820608</td>\n",
       "      <td>O=C(N[C@@H](Cc1csc2ccccc12)C(=O)O)OCC1c2ccccc2...</td>\n",
       "      <td>Nc1ccc2cn[nH]c2c1</td>\n",
       "      <td>NCC1CCC2CC2C1</td>\n",
       "      <td>O=C(N[Dy])[C@H](Cc1csc2ccccc12)Nc1nc(NCC2CCC3C...</td>\n",
       "      <td>BRD4</td>\n",
       "      <td>0</td>\n",
       "      <td>&lt;rdkit.Chem.rdchem.Mol object at 0x7f8a93899040&gt;</td>\n",
       "    </tr>\n",
       "    <tr>\n",
       "      <th>3</th>\n",
       "      <td>171309983</td>\n",
       "      <td>O=C(Nc1cc(Cl)ncc1C(=O)O)OCC1c2ccccc2-c2ccccc21</td>\n",
       "      <td>COc1ccc(N)c(Cl)c1</td>\n",
       "      <td>CCS(=O)CCN.Cl</td>\n",
       "      <td>CCS(=O)CCNc1nc(Nc2ccc(OC)cc2Cl)nc(Nc2cc(Cl)ncc...</td>\n",
       "      <td>sEH</td>\n",
       "      <td>0</td>\n",
       "      <td>&lt;rdkit.Chem.rdchem.Mol object at 0x7f8a938990b0&gt;</td>\n",
       "    </tr>\n",
       "    <tr>\n",
       "      <th>4</th>\n",
       "      <td>167265202</td>\n",
       "      <td>O=C(Nc1cc(C(=O)O)ccc1Cl)OCC1c2ccccc2-c2ccccc21</td>\n",
       "      <td>Cl.NCC1CNC(=O)C1</td>\n",
       "      <td>Cl.NCCN1C(=O)c2ccccc2S1(=O)=O</td>\n",
       "      <td>O=C1CC(CNc2nc(NCCN3C(=O)c4ccccc4S3(=O)=O)nc(Nc...</td>\n",
       "      <td>HSA</td>\n",
       "      <td>0</td>\n",
       "      <td>&lt;rdkit.Chem.rdchem.Mol object at 0x7f8a93899120&gt;</td>\n",
       "    </tr>\n",
       "  </tbody>\n",
       "</table>\n",
       "</div>"
      ],
      "text/plain": [
       "          id                              buildingblock1_smiles  \\\n",
       "0  107558024  O=C(N[C@@H](Cc1ccsc1)C(=O)O)OCC1c2ccccc2-c2ccc...   \n",
       "1  148303829  O=C(Nc1c(F)cc(Br)cc1C(=O)O)OCC1c2ccccc2-c2ccccc21   \n",
       "2  108820608  O=C(N[C@@H](Cc1csc2ccccc12)C(=O)O)OCC1c2ccccc2...   \n",
       "3  171309983     O=C(Nc1cc(Cl)ncc1C(=O)O)OCC1c2ccccc2-c2ccccc21   \n",
       "4  167265202     O=C(Nc1cc(C(=O)O)ccc1Cl)OCC1c2ccccc2-c2ccccc21   \n",
       "\n",
       "        buildingblock2_smiles          buildingblock3_smiles  \\\n",
       "0        NCc1c(F)cccc1N1CCCC1             COc1ccc(N)cc1Cl.Cl   \n",
       "1  CN(C)c1nc(Cl)c(CN)s1.Cl.Cl                      NCc1cccs1   \n",
       "2           Nc1ccc2cn[nH]c2c1                  NCC1CCC2CC2C1   \n",
       "3           COc1ccc(N)c(Cl)c1                  CCS(=O)CCN.Cl   \n",
       "4            Cl.NCC1CNC(=O)C1  Cl.NCCN1C(=O)c2ccccc2S1(=O)=O   \n",
       "\n",
       "                                     molecule_smiles protein_name  binds  \\\n",
       "0  COc1ccc(Nc2nc(NCc3c(F)cccc3N3CCCC3)nc(N[C@@H](...          sEH      0   \n",
       "1  CN(C)c1nc(Cl)c(CNc2nc(NCc3cccs3)nc(Nc3c(F)cc(B...          sEH      0   \n",
       "2  O=C(N[Dy])[C@H](Cc1csc2ccccc12)Nc1nc(NCC2CCC3C...         BRD4      0   \n",
       "3  CCS(=O)CCNc1nc(Nc2ccc(OC)cc2Cl)nc(Nc2cc(Cl)ncc...          sEH      0   \n",
       "4  O=C1CC(CNc2nc(NCCN3C(=O)c4ccccc4S3(=O)=O)nc(Nc...          HSA      0   \n",
       "\n",
       "                                           molecule  \n",
       "0  <rdkit.Chem.rdchem.Mol object at 0x7f89c79d6430>  \n",
       "1  <rdkit.Chem.rdchem.Mol object at 0x7f89c79d6350>  \n",
       "2  <rdkit.Chem.rdchem.Mol object at 0x7f8a93899040>  \n",
       "3  <rdkit.Chem.rdchem.Mol object at 0x7f8a938990b0>  \n",
       "4  <rdkit.Chem.rdchem.Mol object at 0x7f8a93899120>  "
      ]
     },
     "metadata": {},
     "output_type": "display_data"
    }
   ],
   "source": [
    "data.head()"
   ]
  },
  {
   "cell_type": "code",
   "execution_count": null,
   "metadata": {},
   "outputs": [],
   "source": [
    "fpg = rdFingerprintGenerator.GetMorganGenerator(radius=2, fpSize=2048)\n",
    "\n",
    "def compute_fingerprint(mol):\n",
    "    if mol is None:\n",
    "        return None\n",
    "    return fpg.GetFingerprint(mol)\n",
    "\n",
    "data['fingerprints'] = data['molecule'].apply(compute_fingerprint)"
   ]
  },
  {
   "cell_type": "code",
   "execution_count": null,
   "metadata": {},
   "outputs": [
    {
     "data": {
      "text/html": [
       "<div>\n",
       "<style scoped>\n",
       "    .dataframe tbody tr th:only-of-type {\n",
       "        vertical-align: middle;\n",
       "    }\n",
       "\n",
       "    .dataframe tbody tr th {\n",
       "        vertical-align: top;\n",
       "    }\n",
       "\n",
       "    .dataframe thead th {\n",
       "        text-align: right;\n",
       "    }\n",
       "</style>\n",
       "<table border=\"1\" class=\"dataframe\">\n",
       "  <thead>\n",
       "    <tr style=\"text-align: right;\">\n",
       "      <th></th>\n",
       "      <th>id</th>\n",
       "      <th>buildingblock1_smiles</th>\n",
       "      <th>buildingblock2_smiles</th>\n",
       "      <th>buildingblock3_smiles</th>\n",
       "      <th>molecule_smiles</th>\n",
       "      <th>protein_name</th>\n",
       "      <th>binds</th>\n",
       "      <th>molecule</th>\n",
       "      <th>fingerprints</th>\n",
       "    </tr>\n",
       "  </thead>\n",
       "  <tbody>\n",
       "    <tr>\n",
       "      <th>0</th>\n",
       "      <td>107558024</td>\n",
       "      <td>O=C(N[C@@H](Cc1ccsc1)C(=O)O)OCC1c2ccccc2-c2ccc...</td>\n",
       "      <td>NCc1c(F)cccc1N1CCCC1</td>\n",
       "      <td>COc1ccc(N)cc1Cl.Cl</td>\n",
       "      <td>COc1ccc(Nc2nc(NCc3c(F)cccc3N3CCCC3)nc(N[C@@H](...</td>\n",
       "      <td>sEH</td>\n",
       "      <td>0</td>\n",
       "      <td>&lt;rdkit.Chem.rdchem.Mol object at 0x7f89c79d6430&gt;</td>\n",
       "      <td>[0, 1, 0, 0, 0, 0, 0, 0, 0, 0, 0, 0, 0, 0, 1, ...</td>\n",
       "    </tr>\n",
       "    <tr>\n",
       "      <th>1</th>\n",
       "      <td>148303829</td>\n",
       "      <td>O=C(Nc1c(F)cc(Br)cc1C(=O)O)OCC1c2ccccc2-c2ccccc21</td>\n",
       "      <td>CN(C)c1nc(Cl)c(CN)s1.Cl.Cl</td>\n",
       "      <td>NCc1cccs1</td>\n",
       "      <td>CN(C)c1nc(Cl)c(CNc2nc(NCc3cccs3)nc(Nc3c(F)cc(B...</td>\n",
       "      <td>sEH</td>\n",
       "      <td>0</td>\n",
       "      <td>&lt;rdkit.Chem.rdchem.Mol object at 0x7f89c79d6350&gt;</td>\n",
       "      <td>[0, 0, 0, 0, 0, 0, 0, 0, 0, 0, 0, 0, 0, 0, 1, ...</td>\n",
       "    </tr>\n",
       "    <tr>\n",
       "      <th>2</th>\n",
       "      <td>108820608</td>\n",
       "      <td>O=C(N[C@@H](Cc1csc2ccccc12)C(=O)O)OCC1c2ccccc2...</td>\n",
       "      <td>Nc1ccc2cn[nH]c2c1</td>\n",
       "      <td>NCC1CCC2CC2C1</td>\n",
       "      <td>O=C(N[Dy])[C@H](Cc1csc2ccccc12)Nc1nc(NCC2CCC3C...</td>\n",
       "      <td>BRD4</td>\n",
       "      <td>0</td>\n",
       "      <td>&lt;rdkit.Chem.rdchem.Mol object at 0x7f8a93899040&gt;</td>\n",
       "      <td>[0, 1, 0, 0, 0, 0, 0, 0, 0, 0, 0, 0, 0, 0, 0, ...</td>\n",
       "    </tr>\n",
       "    <tr>\n",
       "      <th>3</th>\n",
       "      <td>171309983</td>\n",
       "      <td>O=C(Nc1cc(Cl)ncc1C(=O)O)OCC1c2ccccc2-c2ccccc21</td>\n",
       "      <td>COc1ccc(N)c(Cl)c1</td>\n",
       "      <td>CCS(=O)CCN.Cl</td>\n",
       "      <td>CCS(=O)CCNc1nc(Nc2ccc(OC)cc2Cl)nc(Nc2cc(Cl)ncc...</td>\n",
       "      <td>sEH</td>\n",
       "      <td>0</td>\n",
       "      <td>&lt;rdkit.Chem.rdchem.Mol object at 0x7f8a938990b0&gt;</td>\n",
       "      <td>[0, 0, 0, 0, 0, 0, 0, 0, 0, 0, 0, 0, 0, 0, 0, ...</td>\n",
       "    </tr>\n",
       "    <tr>\n",
       "      <th>4</th>\n",
       "      <td>167265202</td>\n",
       "      <td>O=C(Nc1cc(C(=O)O)ccc1Cl)OCC1c2ccccc2-c2ccccc21</td>\n",
       "      <td>Cl.NCC1CNC(=O)C1</td>\n",
       "      <td>Cl.NCCN1C(=O)c2ccccc2S1(=O)=O</td>\n",
       "      <td>O=C1CC(CNc2nc(NCCN3C(=O)c4ccccc4S3(=O)=O)nc(Nc...</td>\n",
       "      <td>HSA</td>\n",
       "      <td>0</td>\n",
       "      <td>&lt;rdkit.Chem.rdchem.Mol object at 0x7f8a93899120&gt;</td>\n",
       "      <td>[0, 0, 0, 0, 0, 0, 0, 0, 0, 0, 0, 0, 0, 0, 0, ...</td>\n",
       "    </tr>\n",
       "  </tbody>\n",
       "</table>\n",
       "</div>"
      ],
      "text/plain": [
       "          id                              buildingblock1_smiles  \\\n",
       "0  107558024  O=C(N[C@@H](Cc1ccsc1)C(=O)O)OCC1c2ccccc2-c2ccc...   \n",
       "1  148303829  O=C(Nc1c(F)cc(Br)cc1C(=O)O)OCC1c2ccccc2-c2ccccc21   \n",
       "2  108820608  O=C(N[C@@H](Cc1csc2ccccc12)C(=O)O)OCC1c2ccccc2...   \n",
       "3  171309983     O=C(Nc1cc(Cl)ncc1C(=O)O)OCC1c2ccccc2-c2ccccc21   \n",
       "4  167265202     O=C(Nc1cc(C(=O)O)ccc1Cl)OCC1c2ccccc2-c2ccccc21   \n",
       "\n",
       "        buildingblock2_smiles          buildingblock3_smiles  \\\n",
       "0        NCc1c(F)cccc1N1CCCC1             COc1ccc(N)cc1Cl.Cl   \n",
       "1  CN(C)c1nc(Cl)c(CN)s1.Cl.Cl                      NCc1cccs1   \n",
       "2           Nc1ccc2cn[nH]c2c1                  NCC1CCC2CC2C1   \n",
       "3           COc1ccc(N)c(Cl)c1                  CCS(=O)CCN.Cl   \n",
       "4            Cl.NCC1CNC(=O)C1  Cl.NCCN1C(=O)c2ccccc2S1(=O)=O   \n",
       "\n",
       "                                     molecule_smiles protein_name  binds  \\\n",
       "0  COc1ccc(Nc2nc(NCc3c(F)cccc3N3CCCC3)nc(N[C@@H](...          sEH      0   \n",
       "1  CN(C)c1nc(Cl)c(CNc2nc(NCc3cccs3)nc(Nc3c(F)cc(B...          sEH      0   \n",
       "2  O=C(N[Dy])[C@H](Cc1csc2ccccc12)Nc1nc(NCC2CCC3C...         BRD4      0   \n",
       "3  CCS(=O)CCNc1nc(Nc2ccc(OC)cc2Cl)nc(Nc2cc(Cl)ncc...          sEH      0   \n",
       "4  O=C1CC(CNc2nc(NCCN3C(=O)c4ccccc4S3(=O)=O)nc(Nc...          HSA      0   \n",
       "\n",
       "                                           molecule  \\\n",
       "0  <rdkit.Chem.rdchem.Mol object at 0x7f89c79d6430>   \n",
       "1  <rdkit.Chem.rdchem.Mol object at 0x7f89c79d6350>   \n",
       "2  <rdkit.Chem.rdchem.Mol object at 0x7f8a93899040>   \n",
       "3  <rdkit.Chem.rdchem.Mol object at 0x7f8a938990b0>   \n",
       "4  <rdkit.Chem.rdchem.Mol object at 0x7f8a93899120>   \n",
       "\n",
       "                                        fingerprints  \n",
       "0  [0, 1, 0, 0, 0, 0, 0, 0, 0, 0, 0, 0, 0, 0, 1, ...  \n",
       "1  [0, 0, 0, 0, 0, 0, 0, 0, 0, 0, 0, 0, 0, 0, 1, ...  \n",
       "2  [0, 1, 0, 0, 0, 0, 0, 0, 0, 0, 0, 0, 0, 0, 0, ...  \n",
       "3  [0, 0, 0, 0, 0, 0, 0, 0, 0, 0, 0, 0, 0, 0, 0, ...  \n",
       "4  [0, 0, 0, 0, 0, 0, 0, 0, 0, 0, 0, 0, 0, 0, 0, ...  "
      ]
     },
     "metadata": {},
     "output_type": "display_data"
    }
   ],
   "source": [
    "data.head()"
   ]
  },
  {
   "cell_type": "code",
   "execution_count": null,
   "metadata": {},
   "outputs": [],
   "source": [
    "onehot_encoder = OneHotEncoder(sparse_output=False)\n",
    "protein_encoded = onehot_encoder.fit_transform(data['protein_name'].values.reshape(-1, 1)).astype(np.uint8)\n",
    "protein_columns = onehot_encoder.get_feature_names_out(['protein'])\n",
    "protein_encoded_df = pd.DataFrame(protein_encoded, columns=protein_columns)\n",
    "data = pd.concat([data, protein_encoded_df], axis=1)"
   ]
  },
  {
   "cell_type": "code",
   "execution_count": null,
   "metadata": {},
   "outputs": [],
   "source": [
    "data.to_csv(\"./train.csv\", index=False)"
   ]
  },
  {
   "cell_type": "markdown",
   "metadata": {},
   "source": [
    "# Training"
   ]
  },
  {
   "cell_type": "code",
   "execution_count": null,
   "metadata": {},
   "outputs": [],
   "source": [
    "def convert_to_numpy_array(explicit_bit_vect):\n",
    "    arr = np.zeros((1,))\n",
    "    DataStructs.ConvertToNumpyArray(explicit_bit_vect, arr)\n",
    "    return arr\n",
    "\n",
    "protein_onehot = onehot_encoder.fit_transform(data['protein_name'].values.reshape(-1, 1))\n",
    "fingerprints = [convert_to_numpy_array(fp) for fp in data['fingerprints'].tolist()]\n",
    "X = [np.concatenate([fp, protein]) for fp, protein in zip(fingerprints, protein_onehot.tolist())]\n",
    "y = data['binds'].tolist()"
   ]
  },
  {
   "cell_type": "code",
   "execution_count": null,
   "metadata": {},
   "outputs": [],
   "source": [
    "X_train, X_test, y_train, y_test = train_test_split(X, y, test_size=0.3, random_state=42)"
   ]
  },
  {
   "cell_type": "code",
   "execution_count": null,
   "metadata": {},
   "outputs": [],
   "source": [
    "model = RandomForestClassifier(n_estimators=100, random_state=42)\n",
    "model.fit(X_train, y_train)"
   ]
  },
  {
   "cell_type": "code",
   "execution_count": null,
   "metadata": {},
   "outputs": [
    {
     "name": "stdout",
     "output_type": "stream",
     "text": [
      "Validation Accuracy: 0.8840\n",
      "              precision    recall  f1-score   support\n",
      "\n",
      "           0       0.86      0.92      0.89     19993\n",
      "           1       0.91      0.85      0.88     20007\n",
      "\n",
      "    accuracy                           0.88     40000\n",
      "   macro avg       0.89      0.88      0.88     40000\n",
      "weighted avg       0.89      0.88      0.88     40000\n",
      "\n",
      "[0.76 0.74 0.59 ... 0.99 1.   0.27]\n"
     ]
    }
   ],
   "source": [
    "y_pred = model.predict(X_test)\n",
    "accuracy = accuracy_score(y_test, y_pred)\n",
    "y_pred_proba = model.predict_proba(X_test)[:, 1]\n",
    "\n",
    "print(f\"Validation Accuracy: {accuracy:.4f}\")\n",
    "print(classification_report(y_test, y_pred))\n",
    "print(y_pred_proba)"
   ]
  },
  {
   "cell_type": "markdown",
   "metadata": {},
   "source": [
    "# Evaluation"
   ]
  },
  {
   "cell_type": "code",
   "execution_count": null,
   "metadata": {},
   "outputs": [],
   "source": [
    "def convert_to_numpy_array(explicit_bit_vect):\n",
    "    arr = np.zeros((1,))\n",
    "    DataStructs.ConvertToNumpyArray(explicit_bit_vect, arr)\n",
    "    return arr"
   ]
  },
  {
   "cell_type": "code",
   "execution_count": null,
   "metadata": {},
   "outputs": [],
   "source": [
    "chunk_size = 1000\n",
    "fpg = rdFingerprintGenerator.GetMorganGenerator(radius=2, fpSize=2048)\n",
    "\n",
    "submission_chunks = []\n",
    "for chunk in pd.read_csv(test_csv, chunksize=chunk_size):\n",
    "    chunk['molecule'] = chunk['molecule_smiles'].apply(Chem.MolFromSmiles)\n",
    "    chunk['fingerprints'] = chunk['molecule'].apply(compute_fingerprint)\n",
    "    \n",
    "    protein_onehot_test = onehot_encoder.transform(chunk['protein_name'].values.reshape(-1, 1))\n",
    "    fingerprints_test = [convert_to_numpy_array(fp) for fp in chunk['fingerprints'].tolist()]\n",
    "    X_test_final = [np.concatenate([fp, protein]) for fp, protein in zip(fingerprints_test, protein_onehot_test.tolist())]\n",
    "    y_test_pred = model.predict(X_test_final)\n",
    "\n",
    "    chunk['binds_pred'] = y_test_pred\n",
    "    submission_chunks.append(chunk[['id', 'binds_pred']])\n",
    "\n",
    "submission = pd.concat(submission_chunks, axis=0)\n",
    "submission.to_csv('./submission.csv', index=False)"
   ]
  }
 ],
 "metadata": {
  "language_info": {
   "name": "python"
  }
 },
 "nbformat": 4,
 "nbformat_minor": 2
}
