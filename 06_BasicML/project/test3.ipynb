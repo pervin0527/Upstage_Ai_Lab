{
 "cells": [
  {
   "cell_type": "code",
   "execution_count": 46,
   "metadata": {},
   "outputs": [],
   "source": [
    "import os\n",
    "import warnings\n",
    "warnings.filterwarnings(\"ignore\")\n",
    "\n",
    "import duckdb\n",
    "import numpy as np\n",
    "import pandas as pd\n",
    "\n",
    "from sklearn.preprocessing import OneHotEncoder\n",
    "from sklearn.model_selection import train_test_split\n",
    "\n",
    "from rdkit import Chem\n",
    "from rdkit.Chem import DataStructs, Descriptors, rdFingerprintGenerator\n",
    "\n",
    "from sklearn.metrics import accuracy_score\n",
    "from sklearn.ensemble import RandomForestClassifier"
   ]
  },
  {
   "cell_type": "markdown",
   "metadata": {},
   "source": [
    "# Data Load"
   ]
  },
  {
   "cell_type": "code",
   "execution_count": 2,
   "metadata": {},
   "outputs": [
    {
     "data": {
      "text/plain": [
       "['test.parquet',\n",
       " 'train.csv',\n",
       " 'test.csv',\n",
       " 'train.parquet',\n",
       " 'sample_submission.csv']"
      ]
     },
     "execution_count": 2,
     "metadata": {},
     "output_type": "execute_result"
    }
   ],
   "source": [
    "data_dir = \"/home/pervinco/Datasets/leash-bio\"\n",
    "save_dir = f\"{data_dir}/split_sets\"\n",
    "\n",
    "train_csv = f\"{data_dir}/train.csv\"\n",
    "test_csv = f\"{data_dir}/test.csv\"\n",
    "\n",
    "train_parquet = f\"{data_dir}/train.parquet\"\n",
    "test_parquet = f'{data_dir}/test.parquet'\n",
    "\n",
    "os.listdir(data_dir)"
   ]
  },
  {
   "cell_type": "code",
   "execution_count": 3,
   "metadata": {},
   "outputs": [],
   "source": [
    "# data = pd.read_csv(train_csv) ## 전체 데이터가 295246830. 2억 9천 5백 24만 6830개."
   ]
  },
  {
   "cell_type": "code",
   "execution_count": 4,
   "metadata": {},
   "outputs": [],
   "source": [
    "con = duckdb.connect()\n",
    "data = con.query(f\"\"\"(SELECT *\n",
    "                      FROM parquet_scan('{train_parquet}')\n",
    "                      WHERE binds = 0\n",
    "                      ORDER BY random()\n",
    "                      LIMIT 100000)\n",
    "                      UNION ALL\n",
    "                      (SELECT *\n",
    "                      FROM parquet_scan('{train_parquet}')\n",
    "                      WHERE binds = 1\n",
    "                      ORDER BY random()\n",
    "                      LIMIT 100000)\"\"\").df()\n",
    "\n",
    "con.close()"
   ]
  },
  {
   "cell_type": "code",
   "execution_count": 5,
   "metadata": {},
   "outputs": [
    {
     "data": {
      "text/plain": [
       "(200000, 7)"
      ]
     },
     "execution_count": 5,
     "metadata": {},
     "output_type": "execute_result"
    }
   ],
   "source": [
    "data.shape"
   ]
  },
  {
   "cell_type": "code",
   "execution_count": 6,
   "metadata": {},
   "outputs": [
    {
     "data": {
      "text/html": [
       "<div>\n",
       "<style scoped>\n",
       "    .dataframe tbody tr th:only-of-type {\n",
       "        vertical-align: middle;\n",
       "    }\n",
       "\n",
       "    .dataframe tbody tr th {\n",
       "        vertical-align: top;\n",
       "    }\n",
       "\n",
       "    .dataframe thead th {\n",
       "        text-align: right;\n",
       "    }\n",
       "</style>\n",
       "<table border=\"1\" class=\"dataframe\">\n",
       "  <thead>\n",
       "    <tr style=\"text-align: right;\">\n",
       "      <th></th>\n",
       "      <th>id</th>\n",
       "      <th>buildingblock1_smiles</th>\n",
       "      <th>buildingblock2_smiles</th>\n",
       "      <th>buildingblock3_smiles</th>\n",
       "      <th>molecule_smiles</th>\n",
       "      <th>protein_name</th>\n",
       "      <th>binds</th>\n",
       "    </tr>\n",
       "  </thead>\n",
       "  <tbody>\n",
       "    <tr>\n",
       "      <th>0</th>\n",
       "      <td>151356204</td>\n",
       "      <td>O=C(Nc1c(F)ccc(Br)c1C(=O)O)OCC1c2ccccc2-c2ccccc21</td>\n",
       "      <td>Nc1ccncc1[N+](=O)[O-]</td>\n",
       "      <td>Nc1nnc(S)s1</td>\n",
       "      <td>O=C(N[Dy])c1c(Br)ccc(F)c1Nc1nc(Nc2nnc(S)s2)nc(...</td>\n",
       "      <td>BRD4</td>\n",
       "      <td>0</td>\n",
       "    </tr>\n",
       "    <tr>\n",
       "      <th>1</th>\n",
       "      <td>129947405</td>\n",
       "      <td>O=C(N[C@H]1CCC[C@@H]1C(=O)O)OCC1c2ccccc2-c2ccc...</td>\n",
       "      <td>CS(=O)(=O)NC(=O)CCN.Cl</td>\n",
       "      <td>CN(Cc1ccco1)Cc1ccccc1CN</td>\n",
       "      <td>CN(Cc1ccco1)Cc1ccccc1CNc1nc(NCCC(=O)NS(C)(=O)=...</td>\n",
       "      <td>sEH</td>\n",
       "      <td>0</td>\n",
       "    </tr>\n",
       "    <tr>\n",
       "      <th>2</th>\n",
       "      <td>236759874</td>\n",
       "      <td>O=C(O)CC(NC(=O)OCC1c2ccccc2-c2ccccc21)c1ccc(Br...</td>\n",
       "      <td>Cc1cc(C#N)cnc1N</td>\n",
       "      <td>Nc1nccc(=O)[nH]1</td>\n",
       "      <td>Cc1cc(C#N)cnc1Nc1nc(Nc2nccc(=O)[nH]2)nc(NC(CC(...</td>\n",
       "      <td>BRD4</td>\n",
       "      <td>0</td>\n",
       "    </tr>\n",
       "    <tr>\n",
       "      <th>3</th>\n",
       "      <td>157888956</td>\n",
       "      <td>O=C(Nc1cc(Br)c(Cl)cc1C(=O)O)OCC1c2ccccc2-c2ccc...</td>\n",
       "      <td>Nc1ccnc(Cl)c1</td>\n",
       "      <td>Cl.Cl.NCc1ncccc1F</td>\n",
       "      <td>O=C(N[Dy])c1cc(Cl)c(Br)cc1Nc1nc(NCc2ncccc2F)nc...</td>\n",
       "      <td>BRD4</td>\n",
       "      <td>0</td>\n",
       "    </tr>\n",
       "    <tr>\n",
       "      <th>4</th>\n",
       "      <td>168414976</td>\n",
       "      <td>O=C(Nc1cc(Cl)cc(C(=O)O)c1)OCC1c2ccccc2-c2ccccc21</td>\n",
       "      <td>Cl.NC[C@H]1CC[C@H](C(N)=O)CC1</td>\n",
       "      <td>Cc1cccc2oc(CCN)nc12.Cl.Cl</td>\n",
       "      <td>Cc1cccc2oc(CCNc3nc(NC[C@H]4CC[C@H](C(N)=O)CC4)...</td>\n",
       "      <td>HSA</td>\n",
       "      <td>0</td>\n",
       "    </tr>\n",
       "  </tbody>\n",
       "</table>\n",
       "</div>"
      ],
      "text/plain": [
       "          id                              buildingblock1_smiles  \\\n",
       "0  151356204  O=C(Nc1c(F)ccc(Br)c1C(=O)O)OCC1c2ccccc2-c2ccccc21   \n",
       "1  129947405  O=C(N[C@H]1CCC[C@@H]1C(=O)O)OCC1c2ccccc2-c2ccc...   \n",
       "2  236759874  O=C(O)CC(NC(=O)OCC1c2ccccc2-c2ccccc21)c1ccc(Br...   \n",
       "3  157888956  O=C(Nc1cc(Br)c(Cl)cc1C(=O)O)OCC1c2ccccc2-c2ccc...   \n",
       "4  168414976   O=C(Nc1cc(Cl)cc(C(=O)O)c1)OCC1c2ccccc2-c2ccccc21   \n",
       "\n",
       "           buildingblock2_smiles      buildingblock3_smiles  \\\n",
       "0          Nc1ccncc1[N+](=O)[O-]                Nc1nnc(S)s1   \n",
       "1         CS(=O)(=O)NC(=O)CCN.Cl    CN(Cc1ccco1)Cc1ccccc1CN   \n",
       "2                Cc1cc(C#N)cnc1N           Nc1nccc(=O)[nH]1   \n",
       "3                  Nc1ccnc(Cl)c1          Cl.Cl.NCc1ncccc1F   \n",
       "4  Cl.NC[C@H]1CC[C@H](C(N)=O)CC1  Cc1cccc2oc(CCN)nc12.Cl.Cl   \n",
       "\n",
       "                                     molecule_smiles protein_name  binds  \n",
       "0  O=C(N[Dy])c1c(Br)ccc(F)c1Nc1nc(Nc2nnc(S)s2)nc(...         BRD4      0  \n",
       "1  CN(Cc1ccco1)Cc1ccccc1CNc1nc(NCCC(=O)NS(C)(=O)=...          sEH      0  \n",
       "2  Cc1cc(C#N)cnc1Nc1nc(Nc2nccc(=O)[nH]2)nc(NC(CC(...         BRD4      0  \n",
       "3  O=C(N[Dy])c1cc(Cl)c(Br)cc1Nc1nc(NCc2ncccc2F)nc...         BRD4      0  \n",
       "4  Cc1cccc2oc(CCNc3nc(NC[C@H]4CC[C@H](C(N)=O)CC4)...          HSA      0  "
      ]
     },
     "execution_count": 6,
     "metadata": {},
     "output_type": "execute_result"
    }
   ],
   "source": [
    "data.head()"
   ]
  },
  {
   "cell_type": "markdown",
   "metadata": {},
   "source": [
    "# EDA"
   ]
  },
  {
   "cell_type": "markdown",
   "metadata": {},
   "source": [
    "데이터셋은 매우 불균형하다. bind=0이 293656924개, bind=1이 1589906개."
   ]
  },
  {
   "cell_type": "code",
   "execution_count": 7,
   "metadata": {},
   "outputs": [
    {
     "name": "stdout",
     "output_type": "stream",
     "text": [
      "100000 100000\n"
     ]
    }
   ],
   "source": [
    "bind_0_count = data[data['binds'] == 0].shape[0]\n",
    "bind_1_count = data[data['binds'] == 1].shape[0]\n",
    "\n",
    "print(bind_0_count, bind_1_count)"
   ]
  },
  {
   "cell_type": "code",
   "execution_count": 8,
   "metadata": {},
   "outputs": [
    {
     "name": "stdout",
     "output_type": "stream",
     "text": [
      "Building block 1 & 2 중복 : 없음\n",
      "Building block 1 & 3 중복 : 없음\n",
      "Building block 2 & 3 중복 : 있음\n",
      "Building block 1과 2 사이의 중복된 값: set()\n",
      "Building block 1과 3 사이의 중복된 값: set()\n",
      "Building block 2와 3 사이의 중복된 값: {'Cc1ccc(-c2cc(C(F)(F)F)nc(OCCN)n2)cc1', 'Cl.Cl.NCc1nc2cnccc2s1', 'Cl.NCCOc1ccc(F)c(F)c1', 'COc1ncc(N)cn1', 'Cl.Nc1cccc2c(=O)cc(-c3nn[nH]n3)oc12', 'Cn1ccc2cc(N)ccc21', 'Nc1nc(-c2cccc([N+](=O)[O-])c2)cs1', 'Cl.NCc1cscc1C(F)(F)F', 'Nc1cc(Cl)cnc1Cl', 'Cl.NCCC1CN(c2ncnc3[nH]ncc23)c2ccccc21', 'COCC1(CN)CCCCC1', 'Cl.Cl.NCC(=O)Nc1nccs1', 'CN(C)c1cccnc1CN', 'COC(=O)c1cc(N)ccc1F', 'Nc1ccc(-c2ncc[nH]2)cc1', 'Nc1cc2cccnc2c2ncccc12', 'Cl.NCc1cc2ccccc2[nH]c1=O', 'COc1ccc(Cl)c(N)c1.Cl', 'CC(C)(C)OC(=O)n1ncc2cc(N)ccc21', 'CC(C)(C)NS(=O)(=O)c1cccc(N)c1', 'Cl.NCCCCF', 'COC(=O)c1cc(N)cc(O)c1', 'NCC1(CO)CCOC1', 'CC1(CCCCN)OCCO1', 'CN1CC(CN)CC1=O', 'Nc1ccc(-n2cncn2)cc1', 'Cl.NCCC1CC1', 'CCN(CCCN)S(C)(=O)=O', 'Cl.NCCCNC(=O)c1ccc(F)cc1', 'CC1(F)CCN(CCN)C1.Cl.Cl', 'Cc1cc(N)ncc1[N+](=O)[O-]', 'COc1ccnc(N)n1', 'Cc1csc(N)n1', 'Nc1nncs1', 'Cc1cc(N)nn1C', 'N#Cc1ccc(N)cc1', 'NCC1(O)CCSC1', 'COCOCCCN', 'Cc1c(N)cccc1F', 'Cc1cc(O)ccc1N', 'Cl.Cl.NCC1CCN(CC(F)F)CC1', 'Cl.NCC1Cc2ccccc2C1', 'COc1ccc(CN)c(C)c1OC', 'CN1CC(CCN)CC1=O', 'NCc1cccnc1', 'C=CCOCCCN', 'Nc1cccc(N2CCCC2)c1', 'C#Cc1ccc(N)cc1', 'Nc1ccc(N2CCC(N3CCOCC3)CC2)cc1', 'Nc1ccncn1', 'Cl.NCc1noc(C2CCOCC2)n1', 'COC(=O)c1cc(F)c(F)cc1N', 'COc1ncccc1N', 'COc1ccc(O)c(N)c1', 'Cl.Cl.NCc1nnc2n1CCOCC2', 'Nc1ccc(F)c(Cl)c1F', 'Nc1nc(Cl)ncc1Cl', 'COC1(C(F)(F)CN)CCOCC1.Cl', 'COc1cc(CN)c(Br)cn1', 'CS(=O)CC(O)CN.Cl', 'N#Cc1cccnc1N', 'COC(=O)c1cncc(N)c1', 'Nc1ccc(Br)c(F)n1', 'Cc1ccc(C#N)cc1N', 'CN1CCN(Cc2cccc(N)c2)CC1', 'NCC1CCN(c2ccncc2)CC1', 'Cl.NCC1CCCC1', 'CSC1(CN)CCOCC1.Cl', 'CC(C)(CN)CCC#N', 'Nc1nccc(Cl)n1', 'Cc1cc([N+](=O)[O-])c(N)cc1Cl', 'Cl.Cl.NCC(=O)NCCN1CCOCC1', 'C=C(Cl)CN.Cl', 'Nc1ccc2c(c1)C(O)CCC2', 'Cl.NCCOC1CCS(=O)(=O)C1', 'Cl.NCC1Cc2ccccc2NC1=O', 'CCOC(CN)CN(C)C', 'CCOC(=O)c1ncccc1N', 'Nc1ccc(N2CCOCC2)cn1', 'Cl.NCC1CC(C(N)=O)=NO1', 'Cl.NCCC1CC2(CCC2)CO1', 'Cc1c(CN)oc2ccc(F)cc12.Cl', 'COC(=O)c1cnccc1N', 'NCCC1SCCS1', 'Cl.NCC1CCOC2(CCOCC2)C1', 'CS(=O)(=O)CC1(CN)CCOCC1.Cl', 'Cl.NCc1nc2ccccc2o1', 'Cc1cn(-c2cc(N)cc(C(F)(F)F)c2)cn1', 'Nc1cc(Cl)nc(Cl)n1', 'N#Cc1cncnc1N', 'COc1cnc(N)cn1', 'Cl.NCCCCN1C(=O)c2ccccc2C1=O', 'CC(CN)Oc1ccc(Cl)cc1', 'Cl.NCC1CC2CC1C1CC21', 'CC(C)(C)c1ocnc1CN.Cl', 'Cl.Cl.NCCNC(=O)c1cnccn1', 'Cl.NCC1OCCc2ccsc21', 'Nc1cc(N2CCNCC2)ccc1[N+](=O)[O-]', 'Cl.Cn1c(CN)n[nH]c1=O', 'CCON(CC)C(=O)CN.Cl', 'COC(C)(CCN)OC', 'Cc1nccnc1N', 'Cl.Cl.NCc1nccn1-c1ccccc1', 'Cl.NCc1noc2ccc(F)cc12', 'COCc1ccc(N)cc1', 'NCC1CCC(F)(F)CC1', 'COC(=O)c1nc(Cl)c(Cl)nc1N', 'NCc1ccccc1CN1CCCC1=O', 'Cl.NCC(=O)NCc1ccncc1', 'NCc1ccccc1N1CCOCC1', 'Nc1ncccc1F', 'COC1CCC(CCN)CC1', 'N#Cc1ccccc1N', 'Cl.Cl.NCCCN1CCNC(=O)C1', 'Nc1cc(Br)ccn1', 'CN1CCN(C(=O)CCN)CC1', 'Nc1ccc(O)cc1C(F)(F)F', 'Cc1cccc2oc(CCN)nc12.Cl.Cl', 'Cl.Cl.NCCc1nccn1C(F)F', 'Cl.NCc1cccc2cc[nH]c12', 'CN1CCN(C(=O)CN)CC1', 'Nc1ccc(F)c([N+](=O)[O-])c1', 'COc1ccncc1CN', 'Cc1cc(=O)oc2cc(N)ccc12', 'Nc1cc(Cl)ncn1', 'Cc1ccc(O)c(CN)n1.Cl.Cl', 'Cc1[nH][nH]c(=O)c1CCN', 'Cl.NCC12CC3CC(CC(C3)C1)C2', 'CN1CC2(CCC1CN)CC2.Cl.Cl', 'Cc1cc(N)ccc1O', 'Cl.NCCN1C(=O)SC(=Cc2cccs2)C1=O', 'Nc1ccc2[nH]ncc2c1', 'NCc1ccc2[nH]ccc2c1', 'CN(Cc1ccco1)Cc1ccccc1CN', 'Cc1nncn1CCCN.Cl', 'CC1(C)NC(=O)N(CCCN)C1=O.Cl', 'Cl.Cl.NCc1ncccc1F', 'Cl.NCc1ccc[nH]c1=O', 'Cc1nc(N)ccc1[N+](=O)[O-]', 'Cl.NCC1(F)CCCCC1', 'Cc1cccnc1NC(=O)CCN.Cl.Cl', 'NCc1cccnc1N1CCC(C(N)=O)CC1', 'Cl.NCc1nnc2ncccn12', 'NCCc1ccncc1F', 'Cl.NCC1C=CCC1', 'COc1cccc(N)c1F', 'CCC(CC)(CN)OC', 'Cl.Cl.NCc1ncc[nH]1', 'Cl.NCc1ccc(CN2C(=O)CNC2=O)cc1', 'Cl.NC1CCC(=O)CC1', 'COc1cc(C)c(N)cn1', 'Nc1ccc(CC2COC(=O)N2)cc1', 'CO[C@@H]1COC[C@H]1n1cc(CN)nn1.Cl', 'Nc1cccc(N2CCOCC2)c1', 'CNC(=O)COCCN.Cl', 'CC(F)(F)CN.Cl', 'CCOCCCN', 'NCC1CN2CCN1CC2', 'NCc1cn(C(F)F)c2ccccc12', 'CS(=O)CCCCN', 'Cc1nc(N)ccc1Cl', 'Nc1ccc(F)cc1F', 'Cl.Cn1cc(N)ccc1=O', 'Cl.NCc1nnc(-c2ccncc2)[nH]1', 'CCSC1CCC1(O)CN', 'Nc1c(F)cccc1F', 'Cl.Cl.NCc1cc(=O)nc[nH]1', 'Nc1cc(-c2ccccc2)[nH]n1', 'Cl.NCCc1cc(Br)c(Br)s1', 'Cc1cc(N)n(C(C)C)n1', 'CC(C)NC(=O)NCCN.Cl.Cl', 'Nc1ccc2c(c1)CCCC2=O', 'Cl.NCC1(OCCO)CCS(=O)(=O)C1', 'CN(CCN)C1CCOCC1', 'COC(=O)c1cc(OC)c(OC)cc1N', 'Nc1ccc(Cn2ccnc2)cc1', 'Cc1ccccc1-n1nc(C)c(CN)c1C.Cl.Cl', 'Nc1ccnc(-c2ccccc2)c1', 'Nc1cc(Cl)c(F)c(Cl)c1', 'COC(=O)c1cc(N)ccc1C', 'CC1(CN)CCC2(CC1)OCCO2', 'Nc1ccc(C(=O)N2CCOCC2)cc1', 'N#Cc1cc(F)ccc1N', 'Nc1nc(Cl)ccc1Cl', 'Nc1ccncc1Cl', 'Cl.NC[C@H]1CC[C@H](C(N)=O)CC1', 'Cl.NCCC[C@@H]1NC(=O)NC1=O', 'NCc1cc(-c2ccccc2)[nH]n1', 'Cl.Cl.NC[C@@H]1CCO[C@H]1c1cn[nH]c1', 'Nc1cncnc1', 'Nc1cc(C(F)(F)F)cc(C(F)(F)F)c1', 'NCC(O)COc1ccccc1Br', 'CSc1ccc(CN)cc1C#N.Cl', 'Cl.Cn1cc(CN)c(Br)n1', 'Cl.Cl.NCC1(N2CCOCC2)CCOCC1', 'COc1ccc(C(CN)N2CCOCC2)cc1OC', 'CCOC(=O)c1cncnc1N', 'Cl.NCc1cnc(Cl)s1', 'Nc1ccc(Cl)c(F)c1', 'COC1(CN)CCOC1.Cl', 'COc1cc(N)cc(OC)c1', 'Cl.NC[C@@H]1CCO[C@@H]1c1nc(C2CC2)no1', 'Cc1cc(C#N)c(N)s1', 'Cn1cc(-c2ccccc2CN)cn1', 'COC(=O)c1cc(N)cc(F)c1', 'Nc1cncc(F)c1', 'Nc1ncc(Cl)cc1F', 'Cc1cc(N)on1', 'COc1ccc(C)nc1CN.Cl.Cl', 'COC1(CN)CCC1', 'CC(C)(C)OC(=O)N1CCN(c2ccccc2N)CC1', 'Cc1cc(F)ncc1CN', 'CC(CN)OC(C)(C)C.Cl', 'Cn1nccc1CN', 'Nc1cccc2[nH]ccc12', 'N#Cc1ccc(N)c([N+](=O)[O-])c1', 'CCOC(=O)c1cnc(N)cn1', 'COc1ccc(N)cc1Cl.Cl', 'Cl.NCCn1cnnn1', 'Nc1ccc2nccnc2c1Br', 'N#Cc1cc(N)ccc1F', 'NC/C=C/Br', 'CN1CCO[C@@H](CN)[C@@H]1c1cnn(C)c1', 'Cl.Cn1nnc(CN)c1C(F)F', 'NCCN1CC2CCC1C2', 'N#Cc1ccc(N)cc1C(F)(F)F', 'CC(CN)S(=O)(=O)N1CCN(c2ccccc2)CC1.Cl.Cl', 'Nc1c2c(cc3c1CCC3)CCC2', 'Cl.Cl.NCc1nccc2[nH]ccc12', 'Cl.NCCCOc1cccc(F)c1', 'Cc1cnc(N)s1', 'Nc1ccc(N2CCC=C(N3CCOCC3)C2=O)cc1', 'Cl.NCC(F)(F)CC1CC1', 'Cc1ccc(N)c(Cl)n1', 'CN1CCN(c2ccc(N)cc2F)CC1', 'CCC(CN)Oc1ccccc1C.Cl', 'CS(=O)C1(CN)CCC1', 'Nc1ccc([N+](=O)[O-])c(C(F)(F)F)c1', 'Nc1cccnc1F', 'CC(O)(CN)CN1CCOCC1', 'CCOc1cc(N)ccn1', 'CC1(C)CC(CN)C(C)(C)O1', 'COc1ccccc1OCCCCN', 'Cc1nc(CN)ccc1C(C)O.Cl.Cl', 'COc1cc(N)ccn1', 'CC(=O)Nc1cccc(N)n1', 'COc1ccc(CN)cc1C#N.Cl', 'COc1ccccc1-c1nnc(N)s1', 'COc1cc(Br)ccc1N', 'Nc1ccnc(Cl)c1', 'Cl.NCc1nnc2c(=O)[nH]ccn12', 'CSSCCN.Cl', 'Cl.Cl.NCc1cncc(F)c1', 'Nc1cccc(-n2cncn2)c1', 'N#CC1=C(N)CCC1', 'Nc1ccc2c(c1)CNC2=O', 'NCCc1coc2ccccc12', 'Nc1nc(-c2ccc(F)cc2)cs1', 'Nc1ccc2ncoc2c1', 'Cl.Cl.NCc1nc(-c2ccncc2)no1', 'COc1cncc(N)c1', 'NCc1c(F)cccc1N1CCCC1', 'Cc1nccn1-c1ncccc1CN', 'Cc1nnc(N)s1', 'Cl.NCC1CNC(=O)C1', 'Nc1ccc2cn[nH]c2c1', 'Nc1cccc2cnccc12', 'Nc1cnc(Br)cn1', 'Nc1ncccc1CO', 'Cc1cc(N)cc(Cl)c1', 'CC(C)(CN)CCS(C)(=O)=O.Cl', 'Cc1cccc(N)c1Cl', 'COC(=O)c1ccnc(N)c1', 'Cl.N#CC1(NC(=O)CN)CC1', 'NCCN1CC[C@@H](O)C1', 'Cc1cc(N)cnc1Br', 'Nc1cc(F)c(F)cc1[N+](=O)[O-]', 'COc1nc(Cl)ncc1N', 'Nc1cccc2c1C(=O)N(C1CCC(=O)NC1=O)C2=O', 'Cn1ccnc1N', 'Cl.NCCn1cnc2sccc2c1=O', 'Nc1ccc(F)nc1', 'Nc1ccc2c(c1)CC(=O)N2', 'NCCC(=O)N1CCN(c2ccccn2)CC1', 'COC(CN)C1CCCOC1', 'Cc1nc(Cl)ccc1N', 'COc1cccc(N)n1', 'Cc1cc(CN)ccc1Oc1ccc(Cl)cc1Cl.Cl', 'Nc1cc(Cl)ccc1F', 'Cc1nn(C)c2ncc(CN)cc12.Cl', 'COC1(OC)CC(CN)C1', 'Cl.NCC1CCC2(CCC2)CO1', 'Nc1cc(F)cc(F)c1', 'NCCC(=O)NC1CCCC1', 'Cl.Cl.NCc1nnc(C2CCOC2)[nH]1', 'Nc1ccnc(Cl)n1', 'Nc1noc2ccc(F)cc12', 'Cl.NCCc1ccno1', 'Cl.NCC(F)(F)C(F)(F)F', 'Cl.Cl.NCCn1cccnc1=O', 'Cl.NCc1cc(F)c(Cl)cc1F', 'CN(CC(F)(F)F)C(=O)CN.Cl', 'Cl.NC[C@@H]1C[C@@H]2O[C@H]1[C@H]1C[C@H]12', 'Nc1ccc2nccnc2c1', 'COC(=O)c1ccc(N)cc1O', 'COc1cccc(F)c1CN', 'Cc1ccc(N)cc1Br', 'Cc1sc(N)c(C#N)c1C', 'Nc1cc(F)cc(F)c1[N+](=O)[O-]', 'Cc1c(Br)cncc1CN.Cl.Cl', 'COc1ccc(OC)c(N)c1', 'COC(=O)c1cc(N)ccc1Cl', 'Nc1cnc(Cl)cc1Cl', 'Cl.NCCCNC(=O)C1CCC1', 'Nc1nc(F)cc(F)n1', 'Cl.NCCCN1C(=O)CCC1=O', 'CN(C)C1(CN)CCSC1', 'C=C1CCC(CN)CC1.Cl', 'NCCCCN1CCCC1', 'Nc1cncc(Cl)n1', 'N#Cc1cccc(N)n1', 'CCn1cc2cc(N)ccc2n1', 'Nc1cccc(CN2CCCCC2)c1', 'CCOc1cc2c(cc1CN)OC(C)C2.Cl', 'Nc1nc(NCc2ccc(F)cc2)ccc1[N+](=O)[O-]', 'CC(C)c1nnc([C@H]2C[C@H](CN)[C@H](O)C2)[nH]1', 'N#Cc1cc(N)ccc1Cl', 'COc1cc(C#N)c(F)cc1N', 'Nc1cnc(Cl)cn1', 'Nc1ncc(F)cn1', 'Cl.Cl.NCc1cc2n(n1)CCCO2', 'CN(C)c1ncccc1CN.Cl.Cl', 'CC(C)(C#N)c1ccc(N)cc1', 'Nc1cc(Cl)c(O)c(Cl)c1', 'Cl.Cl.NCC1CCN(C(N)=O)C1', 'Cc1cc(F)ccc1N', 'Nc1ccc(Cl)nc1Cl', 'CC(=O)SCCN.Cl', 'Cl.NCc1csc(=O)[nH]1', 'CC(C)(C)c1nnc(CN)s1.Cl', 'CCC1COCCN1CCN.Cl.Cl', 'Cl.Cl.NCCN1CCS(=O)CC1', 'NCc1ccccc1CS(=O)(=O)N1CCOCC1', 'CSc1ccc(CN)o1.Cl', 'Nc1cn[nH]c1', 'Cl.Cl.NCc1ccc[n+]([O-])c1', 'NCc1cccc2c1OCO2', 'Cc1cc(O)cc(C)c1N', 'Cl.Cl.NCc1cccc(-n2ccnn2)c1', 'CN1C(=O)Cc2cc(CN)ccc21.Cl', 'COc1cc(F)c(Cl)cc1N', 'CC1=CCN(CCN)CC1.Cl.Cl', 'Nc1ccc2c(c1)oc1ccccc12', 'Cl.NCC(=O)NC1CCC1', 'Cl.Cl.Cn1ccnc1Cn1c(CCCN)nc2c1CCCC2', 'Cc1ccc(N)nn1', 'Cc1cc(Cl)nnc1N', 'CC(=O)c1ccc(N)c(F)c1', 'COc1ccc([N+](=O)[O-])c(N)n1', 'CC1(C)OB(c2ccc(N)cc2)OC1(C)C', 'Cl.NCc1cc(=O)[nH]c2ccccc12', 'Cl.Cl.NCc1nc2c(F)c(F)ccc2[nH]1', 'Cl.NCC1CCOCC12CCCC2', 'Cc1cnc(CCN)s1.Cl.Cl', 'CS(=O)(=O)NC1CCCC1CN.Cl', 'Nc1ccc(Cl)nc1', 'Cc1cc(C)c(N)c([N+](=O)[O-])c1', 'Nc1ccc2c(c1)OCO2', 'CCON(C)C(=O)CN.Cl', 'Nc1ccc2cnccc2c1', 'Cl.NCc1nc(-c2ccco2)n[nH]1', 'Nc1ccc(F)c(Cl)c1', 'Cl.NCC=C(Cl)Cl', 'Cc1cc([N+](=O)[O-])c(Cl)cc1N', 'Nc1nc(-c2ccccc2Cl)cs1', 'Nc1cc(F)c(F)cc1Br', 'NCc1ccncn1', 'Cl.NCC1CC(=O)N(Cc2ccccc2)C1', 'NCC1(O)CCCC1', 'CC1CN(S(=O)(=O)CCN)CC(C)O1', 'Cl.NCCS(=O)(=O)c1ccc(Cl)cc1', 'Nc1ncncc1Br', 'Cc1ccc([N+](=O)[O-])c(N)n1', 'CCOC(=O)c1csc(N)n1', 'CC1CN(c2cc(CN)ccn2)CCO1', 'COc1ccc(N)cc1[N+](=O)[O-]', 'Cn1cc(C2(CN)CCCO2)cn1', 'Cl.NCCN1CCCS1(=O)=O', 'Cl.Cl.NCc1ccc(-n2cncn2)cc1', 'COc1cnc(N)nc1', 'Nc1ccc2[nH]c(=O)[nH]c2c1', 'Cl.NCCC1CCCC1(F)F', 'Nc1ccsc1.O=C(O)C(=O)O', 'Nc1cc(Br)ccc1CO', 'Cc1cc(N)ccc1F', 'Nc1ccc(F)cc1Cl', 'Cc1ccccc1-c1csc(N)n1', 'Cc1cnc(Cl)nc1N', 'Cl.Cl.NCC1CCNC(=O)C1', 'COc1ccnc(N)c1', 'Nc1ccc(-c2ccccc2)cn1', 'COc1c(F)ccc(F)c1CN.Cl', 'Cc1cc(CN)cc(Cl)n1.Cl.Cl', 'Cl.NCc1nc2ccccc2c(=O)[nH]1', 'NCC12CC=CC(C1)OC2', 'Cc1ncc(N)cc1Br', 'Nc1c2ccccc2nc2ccccc12', 'Cc1cc(Cl)ncc1N', 'Cc1ccnc(N)c1', 'NC[C@@H]1CCC(=O)N1', 'Nc1nc(-c2cccnc2)cs1', 'Nc1ccc(Cl)c(C(F)(F)F)c1', 'Nc1ccc2c(c1)COC2=O', 'NCC1(N2CCOCC2)CC1', 'Cc1ccc2cccc(N)c2n1', 'Cc1ccc(N)c(CO)c1', 'Cc1sc(C)c(CN)c1Br.Cl', 'CCS(=O)CCN.Cl', 'CN1CCN(CCN)CC1', 'Cl.NCCNC(=O)c1ccc(Cl)cc1', 'Cl.NCc1cocn1', 'Cc1ncccc1N', 'CCS(=O)(=O)N1CC(CN)C1.Cl', 'Cc1ccnc(Cl)c1N', 'CNC(=O)c1ccc(N)cc1F', 'Nc1cccc2ocnc12', 'Cn1nccc1CN1C[C@@H](F)C[C@H]1CN', 'NCCNC(=O)c1cccnc1', 'CS(=O)(=O)c1cccc(N)c1', 'N#Cc1c(N)sc2c1CCCC2', 'CC(C)(C)OC(=O)N1Cc2c(N)n[nH]c2C1(C)C', 'Nc1ccc([N+](=O)[O-])c(Br)c1', 'C=CCNC(=O)CN.Cl', 'NC1COC1', 'Nc1ccc(OC(F)(F)F)c(Cl)c1', 'Cn1cc(CN)cn1', 'NCC[C@@H]1COC[C@H]1O', 'COc1c(N)cccc1F', 'CCSCCN.Cl', 'COc1cccc(-c2cc(N)on2)c1', 'NCc1cccc(N2CCOCC2)c1', 'Cl.NCC(F)(F)C(N)=O', 'Cl.NCCNC(=O)c1ccn[nH]1', 'CC(C)CC(C)(CN)NC(=O)c1cc(Cl)c(Cl)[nH]1.Cl', 'Nc1ncc([N+](=O)[O-])cn1', 'C=C(C)COCCN.Cl', 'Cl.Cl.NCc1ccc(O)c2ncccc12', 'NC[C@@H]1C[C@@H]2C=C[C@H]1C2', 'Cc1ccc(F)c(N)c1', 'Cn1ncc2cc(N)ccc21', 'CCN1CCN(Cc2ccc(N)nc2)CC1', 'CCOC(=O)c1ccc(O)c(N)c1', 'Cl.NCCN1C(=O)c2ccccc2S1(=O)=O', 'C#CCOc1ccc(CN)cc1.Cl', 'Cc1cc(N)cc(F)c1', 'COC(=O)c1cccc(N)n1', 'Cl.Cl.NCCc1nnc2c(=O)[nH]ccn12', 'CN1CCN(Cc2ccc(N)cc2C(F)(F)F)CC1', 'Nc1cccc2c1CN(C1CCC(=O)NC1=O)C2=O', 'CN(C)c1nc(Cl)c(CN)s1.Cl.Cl', 'NCC1CCC2CC2C1', 'Nc1cc(F)c(F)c(F)c1', 'COC(=O)c1cnc(N)cn1', 'Nc1ccc2c(c1)CCC2=O', 'Cl.NCc1cnoc1C1CC1', 'CCOC(=O)c1cnc(SC)nc1N', 'COC(C)(CN)C1CC1', 'CC(CN)S(N)(=O)=O.Cl', 'NCc1cn(-c2ccccc2)nc1-c1ccncc1', 'Cc1cccc(OCCCN)c1C.Cl', 'NCc1cccc(C(F)(F)F)n1', 'NCCC(O)C1CCCC1', 'Cc1nnc(CCCN)s1.Cl', 'C#CCOc1cccc(CN)c1.Cl', 'Nc1cccc2c(=O)[nH][nH]c(=O)c12', 'Cc1cc(N)ccc1Cl', 'Cl.Cn1cc(CN)c(=O)[nH]c1=O', 'Cl.NCc1ccnc(C(N)=O)c1', 'Cc1c([C@@H]2[C@@H](CN)CC(=O)N2C)cnn1C', 'CS(=O)(=O)Nc1ccc(-c2csc(N)n2)cc1', 'Cc1cc(N)n(-c2ccccc2)n1', 'NCC(O)COc1cccc(Cl)c1Cl', 'Nc1nc(C2CC2)cs1', 'COCCNC(=O)CN.Cl', 'Nc1ccc(N2CCOCC2=O)cc1', 'NCc1cccs1', 'N#Cc1ccnc(N)c1', 'Nc1ccc(OC(F)F)cc1', 'NCc1c[nH]c2ccccc12', 'Cl.NCC1CC2(C1)CC2(F)F', 'Cl.NCCc1c[nH]c2cc(Cl)ccc12', 'COc1ccc(N)c(Cl)c1', 'Nc1ccc2c(c1)CNCC2', 'Cl.Cl.NCc1cn2cc(Br)ccc2n1', 'Nc1ccc([N+](=O)[O-])cn1', 'Cc1cc(N)ncn1', 'Cc1sc(CCN)nc1-c1ccccc1.Cl.Cl', 'Cc1c(N)cccc1Br', 'Nc1cc(-c2cccc(Br)c2)no1', 'NCC1(O)CC1', 'Nc1cnccn1', 'Cc1cc(N)ccn1', 'Nc1ncccc1C=O', 'Cl.Cl.Cn1cncc1CN', 'Nc1ccc(F)cn1', 'N#Cc1c(N)cccc1F', 'CC(C)Cn1cnc2c(N)nc3ccccc3c21', 'COC(=O)c1scnc1N', 'Nc1nccc(-c2cccnc2)n1', 'CC1CCCC(CN)O1', 'Cl.NCC1(O)C2C3CC4C5C3CC2C5C41', 'Nc1ccc2nsnc2c1', 'Nc1ncc(F)cc1[N+](=O)[O-]', 'Cl.NCC1CCCOC1', 'NCC1(CO)CC=CC1', 'Nc1ccc([N+](=O)[O-])c(F)c1', 'CS(=O)(=O)c1ccc(N)cc1F', 'Cl.NCC1CC(CC(N)=O)CO1', 'Cc1ccncc1N', 'NCc1cc(F)cc(F)c1', 'CCOC(=O)c1cccnc1N', 'COC(=O)c1cc(Cl)ccc1N', 'NCc1c(Br)cncc1Br', 'NC1=NC(=O)CS1', 'Nc1nc(Cl)cc(Cl)n1', 'C=CCOCCN', 'Nc1cc(N2CCCC2)ccn1', 'C=CCSCCN', 'COC(CN)CC(N)=O.Cl', 'Nc1cc(C(F)(F)F)cnc1Cl', 'COc1nc(Br)ccc1N', 'Cl.NCC(F)(F)C1CC1', 'Nc1ccc(-n2cccc2)cc1', 'Cl.Nc1ncns1', 'Nc1cc(Cl)c([N+](=O)[O-])cn1', 'CC(CCN)S(C)=O', 'CCC#CCN', 'NCC1CCCCC(F)(F)C1', 'Cc1cc(C)c(CN)c(=O)[nH]1.Cl', 'CN(C)C(=O)C1CCC(CN)O1.Cl', 'Nc1ccc(F)cc1CO', 'COC(=O)c1cscc1N.Cl', 'CCC(C)(O)CCN', 'COc1cncc(N)n1', 'Cl.Cl.NCCc1nc2c(s1)COCC2', 'NCCC1OCCc2ccccc21', 'NCCCc1cc(=O)[nH][nH]1', 'C[Si](C)(C)C#Cc1ccc(N)cn1', 'Nc1ccc2c(c1)OCCCO2', 'N#Cc1ncc(N)cc1C(F)(F)F', 'CC(O)CCN', 'Cl.Cl.NCCC(=O)Nc1ccncc1', 'CC(C)(C)c1ccc(O)c(N)c1', 'Cl.NCC1CC12CCOCC2', 'Nc1ccc(Cl)cc1F', 'Cl.NCCNC(N)=O', 'Cl.Cl.NCc1ccc2ccccc2n1', 'NCc1cccc(C(=O)N2CCCC2)c1', 'CC(CN)c1c(Cl)cccc1Cl', 'Cl.NC[C@@H]1CCCO1', 'Nc1ncco1', 'Cl.Cl.NCc1ccncc1C(F)(F)F', 'Cl.NCc1ccsc1C(F)(F)F', 'Nc1ncnc2c1ncn2C1CCCCO1', 'Cl.NCCNC(=O)c1ccccc1F', 'CCN1C(=O)C[C@H](CN)[C@H]1c1ccncc1', 'NCC1CCC(C(F)F)CC1', 'Nc1cccc(F)n1', 'Nc1ncc[nH]c1=O', 'Nc1ncc(Cl)nc1Cl', 'Cl.Cl.N=C(N)CCCN', 'Nc1ccc2cc(Br)ccc2c1', 'COc1cc2c(cc1CN)OCO2', 'COc1cc(F)ccc1N', 'CC1CC(CN)C(C)O1', 'Nc1ccc(N2CCOCC2)c(F)c1', 'NCc1cnn(Cc2ccccc2)c1', 'Nc1ccncc1[N+](=O)[O-]', 'NCc1cccnc1OC(F)F', 'Cl.NCc1cc(C(F)(F)F)co1', 'Nc1cnc(Cl)c(Cl)c1', 'COc1c(F)cc(N)cc1F', 'Cc1cc(C#N)cnc1N', 'COc1ccc(N)cc1OC', 'CS(=O)(=O)NC(=O)CCN.Cl', 'C=C(C)C(=O)NCCN.Cl', 'CS(=O)(=O)c1ccc(N)cc1', 'Cl.NCCS(=O)(=O)C1CCOCC1', 'Cl.NCc1ncon1', 'Nc1ncc(-c2ccccc2)s1', 'COCc1ccccc1CN', 'NCCC1CSC1', 'Cl.NCC(=O)N1CCCO1', 'Cl.Nc1cc(O)ccn1', 'Nc1ccc(N2CCOCC2)cc1', 'Nc1cc(Cl)ccn1', 'Cl.Nc1ccc(O)cc1Cl', 'Nc1cccnc1Cl', 'COc1ccc(N)cn1', 'Cl.Cl.NCc1cc(Br)cc2cccnc12', 'Nc1nccc2cccnc12', 'Cl.NCc1cnc2n1CCOC2', 'CC(=O)c1cccc(N)c1', 'Nc1ncc(Cl)c(Cl)n1', 'C#Cc1cccc(N)c1', 'Nc1nccnc1Br', 'Cl.NCC1CCCC2(CCC2)C1O', 'NCc1cc(=O)c(O)co1', 'Cn1cncc1C(CN)N1CCCC1', 'Nc1cccc2ncccc12', 'Cc1cc(N)ncc1Cl', 'Cl.NCC1(F)CCOC1', 'CC1(C)CC(CCN)C(=O)N1.Cl', 'CC(CN)N1CCC1', 'COC(=O)c1ccc(N)cc1OC', 'CNC(=O)c1cc(Oc2ccc(N)cc2)ccn1', 'Cl.N#Cc1ccc(CN)nc1', 'Nc1nccnc1Cl', 'Cl.Cl.NCC1(c2ccncc2)CC1', 'Cl.NCc1nc2cc(F)ccc2o1', 'Nc1ncc([N+](=O)[O-])s1', 'COC(=O)c1occc1N', 'Nc1ccc(O)cn1', 'CSCc1nnc(CN)[nH]1.Cl', 'Cc1ccc(Cl)c(N)c1', 'Cc1cnc(Cl)cc1N', 'CS(=O)(=O)Nc1cccc(N)c1', 'Cc1cnc(O)c(N)c1', 'Nc1nccs1', 'Cl.NCc1ccc(-c2nnn[nH]2)cc1', 'NCC1CC2(CC2)CO1', 'CC(CN)S(C)=O', 'NCC1(Cc2ccccc2)CC1', 'Nc1ccccc1-c1nnn[nH]1', 'COc1cc(CN)c2ccccc2n1', 'NCC12CCCC(CO1)C2', 'Nc1cc(F)ccn1', 'NCc1cccc(C(F)(F)F)c1', 'CNC(=O)C(O)CN.Cl', 'C=CCOC(C)CN', 'Cl.Cl.NCc1cnsc1', 'Nc1cnc(Cl)nc1', 'COC(=O)c1nccnc1N', 'Cl.NCc1ccc(-c2c[nH]c(=O)[nH]c2=O)cc1', 'COc1cnc(CN)cn1.Cl.Cl', 'Cc1cc(C)nc(N)n1', 'NCCC1CCOC1', 'Nc1ccc2ncccc2c1', 'Cc1cc(N)nnc1Cl', 'Cl.Cl.NCCn1cc(C2CC2)nn1', 'NCC1(OCCO)CCC1', 'COC[C@H](CN)OC', 'CC12CCC(CN)(C1)OC2.Cl', 'Nc1cc(Cl)nnc1Cl', 'COc1ncc(N)cc1C(F)(F)F', 'CN1CCN(Cc2ccccc2N)CC1', 'Nc1nc(-c2ccc(Cl)cc2)cs1', 'COC(=O)c1cc(N)cs1', 'CC(C)(CN)C(=O)N1CCCC1', 'Nc1ccc2c(c1)C(=O)CCC2', 'CCOc1ccnc(N)c1', 'Nc1nnc(S)s1', 'Nc1ccc(Cl)cn1', 'Nc1cccnc1[N+](=O)[O-]', 'Cc1cnc(N)cn1', 'Cl.Cl.NCC=Cc1cccnc1', 'NC[C@]1(CO)COC[C@H]2CCCN21', 'Cl.NCCOCC(F)F', 'Nc1ncc(Cl)cc1Cl', 'Nc1ccc(N2CCCC2=O)cc1', 'Cl.NCC1CCN(c2ccc(Br)cc2)C1', 'Nc1cc(CO)ccn1', 'NCC1(C2CC2)CCCO1', 'Nc1cccc(OC(F)F)c1', 'NCC1(CO)CC2C=CC1C2', 'NCc1ccnc(-n2cncn2)c1', 'Nc1nc(-c2ccc(Cl)c(Cl)c2)cs1', 'NCCN1CCCOCC1', 'Nc1ccc(-c2cnco2)cc1', 'COC(CN)C1CCOC1', 'CC1(C)CCOC1CCN', 'Cl.Cl.NCCn1cnc2ccsc2c1=O', 'NCCN1CCC2(C1)OCCO2', 'Cl.NCCNC(=O)c1ccno1', 'COC(=O)c1ccc(N)cc1C', 'COc1ccc(N)nc1', 'Cc1nc(CN)oc1C.Cl.Cl', 'Cl.Cl.NCc1cn[nH]c1', 'Cc1ccc(S(C)(=O)=O)cc1N', 'Nc1ccc(F)c(C(F)(F)F)c1'}\n"
     ]
    }
   ],
   "source": [
    "bb1_set = set(data['buildingblock1_smiles'])\n",
    "bb2_set = set(data['buildingblock2_smiles'])\n",
    "bb3_set = set(data['buildingblock3_smiles'])\n",
    "\n",
    "\n",
    "bb1_bb2_intersection = bb1_set.intersection(bb2_set)\n",
    "bb1_bb3_intersection = bb1_set.intersection(bb3_set)\n",
    "bb2_bb3_intersection = bb2_set.intersection(bb3_set)\n",
    "\n",
    "print(f\"Building block 1 & 2 중복 : {'있음' if bb1_bb2_intersection else '없음'}\")\n",
    "print(f\"Building block 1 & 3 중복 : {'있음' if bb1_bb3_intersection else '없음'}\")\n",
    "print(f\"Building block 2 & 3 중복 : {'있음' if bb2_bb3_intersection else '없음'}\")\n",
    "\n",
    "print(f\"Building block 1과 2 사이의 중복된 값: {bb1_bb2_intersection}\")\n",
    "print(f\"Building block 1과 3 사이의 중복된 값: {bb1_bb3_intersection}\")\n",
    "print(f\"Building block 2와 3 사이의 중복된 값: {bb2_bb3_intersection}\")"
   ]
  },
  {
   "cell_type": "markdown",
   "metadata": {},
   "source": [
    "molecule_smiles는 SMILES 표기법으로 작성된 화학식이자 building block들이 화학적으로 결합한 소분자.  \n",
    "기계학습을 위해서는 컴퓨터가 이해할 수 있는 형태로 Encoding 해야한다."
   ]
  },
  {
   "cell_type": "code",
   "execution_count": 9,
   "metadata": {},
   "outputs": [
    {
     "name": "stdout",
     "output_type": "stream",
     "text": [
      "<rdkit.Chem.rdchem.Mol object at 0x7fe57c85b890>\n"
     ]
    }
   ],
   "source": [
    "mols = [Chem.MolFromSmiles(i) for i in data['molecule_smiles']]\n",
    "print(mols[0])"
   ]
  },
  {
   "cell_type": "code",
   "execution_count": 10,
   "metadata": {},
   "outputs": [],
   "source": [
    "def get_fp_with_ao(mol, radius=2, fpSize=2048):\n",
    "    fpg = rdFingerprintGenerator.GetMorganGenerator(radius=radius,fpSize=fpSize)\n",
    "    \n",
    "    ao = rdFingerprintGenerator.AdditionalOutput()\n",
    "    ao.AllocateAtomCounts() ## 원자의 수\n",
    "    ao.AllocateAtomToBits() ## 원자가 어떤 비트로 맵핑되는지\n",
    "    ao.AllocateBitInfoMap()\n",
    "    \n",
    "    fp = fpg.GetFingerprint(mol, additionalOutput=ao)\n",
    "    return fp, ao"
   ]
  },
  {
   "cell_type": "code",
   "execution_count": 11,
   "metadata": {},
   "outputs": [
    {
     "name": "stdout",
     "output_type": "stream",
     "text": [
      "<rdkit.DataStructs.cDataStructs.ExplicitBitVect object at 0x7fe57c876580>\n",
      "<rdkit.Chem.rdFingerprintGenerator.AdditionalOutput object at 0x7fe668a651d0>\n"
     ]
    }
   ],
   "source": [
    "fp, ao = get_fp_with_ao(mols[0])\n",
    "print(fp)\n",
    "print(ao)"
   ]
  },
  {
   "cell_type": "code",
   "execution_count": 12,
   "metadata": {},
   "outputs": [
    {
     "name": "stdout",
     "output_type": "stream",
     "text": [
      "Total bits: 2048, On Bits: 64, Sparsity: 0.03125\n"
     ]
    }
   ],
   "source": [
    "total_bits = fp.GetNumBits()\n",
    "on_bits = fp.GetNumOnBits()\n",
    "\n",
    "on_bits_list = list(fp.GetOnBits())\n",
    "\n",
    "print(f'Total bits: {total_bits}, On Bits: {on_bits}, Sparsity: {on_bits/total_bits}')"
   ]
  },
  {
   "cell_type": "markdown",
   "metadata": {},
   "source": [
    "하나의 분자식에서도 여러 가지 추가 특성들을 계산할 수 있다."
   ]
  },
  {
   "cell_type": "code",
   "execution_count": 13,
   "metadata": {},
   "outputs": [
    {
     "name": "stdout",
     "output_type": "stream",
     "text": [
      "Molecular Weight: 180.04\n",
      "LogP: 1.31\n",
      "Number of Hydrogen Bond Donors: 1\n",
      "Number of Hydrogen Bond Acceptors: 3\n",
      "Number of Rotatable Bonds: 2\n",
      "Topological Polar Surface Area (TPSA): 63.60\n",
      "Number of Aromatic Rings: 1\n",
      "Number of Heteroatoms: 4\n"
     ]
    }
   ],
   "source": [
    "# SMILES 문자열\n",
    "smiles = 'CC(=O)OC1=CC=CC=C1C(=O)O'\n",
    "\n",
    "# SMILES를 분자 객체로 변환\n",
    "mol = Chem.MolFromSmiles(smiles)\n",
    "\n",
    "# 분자량 계산\n",
    "mol_weight = Descriptors.ExactMolWt(mol)\n",
    "print(f\"Molecular Weight: {mol_weight:.2f}\")\n",
    "\n",
    "# 로그P (리피드 용해도) 계산\n",
    "log_p = Descriptors.MolLogP(mol)\n",
    "print(f\"LogP: {log_p:.2f}\")\n",
    "\n",
    "# 수소 결합 주개 계산\n",
    "h_bond_donor = Descriptors.NumHDonors(mol)\n",
    "print(f\"Number of Hydrogen Bond Donors: {h_bond_donor}\")\n",
    "\n",
    "# 수소 결합 받개 계산\n",
    "h_bond_acceptor = Descriptors.NumHAcceptors(mol)\n",
    "print(f\"Number of Hydrogen Bond Acceptors: {h_bond_acceptor}\")\n",
    "\n",
    "# 회전 가능한 결합 수 계산\n",
    "rotatable_bonds = Descriptors.NumRotatableBonds(mol)\n",
    "print(f\"Number of Rotatable Bonds: {rotatable_bonds}\")\n",
    "\n",
    "# TPSA (위상학적 극성 표면적) 계산\n",
    "tpsa = Descriptors.TPSA(mol)\n",
    "print(f\"Topological Polar Surface Area (TPSA): {tpsa:.2f}\")\n",
    "\n",
    "# 방향족 고리 수 계산\n",
    "aromatic_rings = Descriptors.NumAromaticRings(mol)\n",
    "print(f\"Number of Aromatic Rings: {aromatic_rings}\")\n",
    "\n",
    "# 헤테로 원자 수 계산\n",
    "hetero_atoms = Descriptors.NumHeteroatoms(mol)\n",
    "print(f\"Number of Heteroatoms: {hetero_atoms}\")"
   ]
  },
  {
   "cell_type": "markdown",
   "metadata": {},
   "source": [
    "# Preprocessing"
   ]
  },
  {
   "cell_type": "markdown",
   "metadata": {},
   "source": [
    "```GetMorganGenerator```을 정의할 때 radius의 설정을 바꿔가면서 학습을 해보는 것도 방법이될 수 있을 것."
   ]
  },
  {
   "cell_type": "code",
   "execution_count": 14,
   "metadata": {},
   "outputs": [],
   "source": [
    "data['molecule'] = data['molecule_smiles'].apply(Chem.MolFromSmiles) ## 문자열 화학식을 rdkit 객체로 변환한다."
   ]
  },
  {
   "cell_type": "code",
   "execution_count": 15,
   "metadata": {},
   "outputs": [
    {
     "data": {
      "text/html": [
       "<div>\n",
       "<style scoped>\n",
       "    .dataframe tbody tr th:only-of-type {\n",
       "        vertical-align: middle;\n",
       "    }\n",
       "\n",
       "    .dataframe tbody tr th {\n",
       "        vertical-align: top;\n",
       "    }\n",
       "\n",
       "    .dataframe thead th {\n",
       "        text-align: right;\n",
       "    }\n",
       "</style>\n",
       "<table border=\"1\" class=\"dataframe\">\n",
       "  <thead>\n",
       "    <tr style=\"text-align: right;\">\n",
       "      <th></th>\n",
       "      <th>id</th>\n",
       "      <th>buildingblock1_smiles</th>\n",
       "      <th>buildingblock2_smiles</th>\n",
       "      <th>buildingblock3_smiles</th>\n",
       "      <th>molecule_smiles</th>\n",
       "      <th>protein_name</th>\n",
       "      <th>binds</th>\n",
       "      <th>molecule</th>\n",
       "    </tr>\n",
       "  </thead>\n",
       "  <tbody>\n",
       "    <tr>\n",
       "      <th>0</th>\n",
       "      <td>151356204</td>\n",
       "      <td>O=C(Nc1c(F)ccc(Br)c1C(=O)O)OCC1c2ccccc2-c2ccccc21</td>\n",
       "      <td>Nc1ccncc1[N+](=O)[O-]</td>\n",
       "      <td>Nc1nnc(S)s1</td>\n",
       "      <td>O=C(N[Dy])c1c(Br)ccc(F)c1Nc1nc(Nc2nnc(S)s2)nc(...</td>\n",
       "      <td>BRD4</td>\n",
       "      <td>0</td>\n",
       "      <td>&lt;rdkit.Chem.rdchem.Mol object at 0x7fe57c8767b0&gt;</td>\n",
       "    </tr>\n",
       "    <tr>\n",
       "      <th>1</th>\n",
       "      <td>129947405</td>\n",
       "      <td>O=C(N[C@H]1CCC[C@@H]1C(=O)O)OCC1c2ccccc2-c2ccc...</td>\n",
       "      <td>CS(=O)(=O)NC(=O)CCN.Cl</td>\n",
       "      <td>CN(Cc1ccco1)Cc1ccccc1CN</td>\n",
       "      <td>CN(Cc1ccco1)Cc1ccccc1CNc1nc(NCCC(=O)NS(C)(=O)=...</td>\n",
       "      <td>sEH</td>\n",
       "      <td>0</td>\n",
       "      <td>&lt;rdkit.Chem.rdchem.Mol object at 0x7fe57c876820&gt;</td>\n",
       "    </tr>\n",
       "    <tr>\n",
       "      <th>2</th>\n",
       "      <td>236759874</td>\n",
       "      <td>O=C(O)CC(NC(=O)OCC1c2ccccc2-c2ccccc21)c1ccc(Br...</td>\n",
       "      <td>Cc1cc(C#N)cnc1N</td>\n",
       "      <td>Nc1nccc(=O)[nH]1</td>\n",
       "      <td>Cc1cc(C#N)cnc1Nc1nc(Nc2nccc(=O)[nH]2)nc(NC(CC(...</td>\n",
       "      <td>BRD4</td>\n",
       "      <td>0</td>\n",
       "      <td>&lt;rdkit.Chem.rdchem.Mol object at 0x7fe57c8763c0&gt;</td>\n",
       "    </tr>\n",
       "    <tr>\n",
       "      <th>3</th>\n",
       "      <td>157888956</td>\n",
       "      <td>O=C(Nc1cc(Br)c(Cl)cc1C(=O)O)OCC1c2ccccc2-c2ccc...</td>\n",
       "      <td>Nc1ccnc(Cl)c1</td>\n",
       "      <td>Cl.Cl.NCc1ncccc1F</td>\n",
       "      <td>O=C(N[Dy])c1cc(Cl)c(Br)cc1Nc1nc(NCc2ncccc2F)nc...</td>\n",
       "      <td>BRD4</td>\n",
       "      <td>0</td>\n",
       "      <td>&lt;rdkit.Chem.rdchem.Mol object at 0x7fe57c876890&gt;</td>\n",
       "    </tr>\n",
       "    <tr>\n",
       "      <th>4</th>\n",
       "      <td>168414976</td>\n",
       "      <td>O=C(Nc1cc(Cl)cc(C(=O)O)c1)OCC1c2ccccc2-c2ccccc21</td>\n",
       "      <td>Cl.NC[C@H]1CC[C@H](C(N)=O)CC1</td>\n",
       "      <td>Cc1cccc2oc(CCN)nc12.Cl.Cl</td>\n",
       "      <td>Cc1cccc2oc(CCNc3nc(NC[C@H]4CC[C@H](C(N)=O)CC4)...</td>\n",
       "      <td>HSA</td>\n",
       "      <td>0</td>\n",
       "      <td>&lt;rdkit.Chem.rdchem.Mol object at 0x7fe57c876900&gt;</td>\n",
       "    </tr>\n",
       "  </tbody>\n",
       "</table>\n",
       "</div>"
      ],
      "text/plain": [
       "          id                              buildingblock1_smiles  \\\n",
       "0  151356204  O=C(Nc1c(F)ccc(Br)c1C(=O)O)OCC1c2ccccc2-c2ccccc21   \n",
       "1  129947405  O=C(N[C@H]1CCC[C@@H]1C(=O)O)OCC1c2ccccc2-c2ccc...   \n",
       "2  236759874  O=C(O)CC(NC(=O)OCC1c2ccccc2-c2ccccc21)c1ccc(Br...   \n",
       "3  157888956  O=C(Nc1cc(Br)c(Cl)cc1C(=O)O)OCC1c2ccccc2-c2ccc...   \n",
       "4  168414976   O=C(Nc1cc(Cl)cc(C(=O)O)c1)OCC1c2ccccc2-c2ccccc21   \n",
       "\n",
       "           buildingblock2_smiles      buildingblock3_smiles  \\\n",
       "0          Nc1ccncc1[N+](=O)[O-]                Nc1nnc(S)s1   \n",
       "1         CS(=O)(=O)NC(=O)CCN.Cl    CN(Cc1ccco1)Cc1ccccc1CN   \n",
       "2                Cc1cc(C#N)cnc1N           Nc1nccc(=O)[nH]1   \n",
       "3                  Nc1ccnc(Cl)c1          Cl.Cl.NCc1ncccc1F   \n",
       "4  Cl.NC[C@H]1CC[C@H](C(N)=O)CC1  Cc1cccc2oc(CCN)nc12.Cl.Cl   \n",
       "\n",
       "                                     molecule_smiles protein_name  binds  \\\n",
       "0  O=C(N[Dy])c1c(Br)ccc(F)c1Nc1nc(Nc2nnc(S)s2)nc(...         BRD4      0   \n",
       "1  CN(Cc1ccco1)Cc1ccccc1CNc1nc(NCCC(=O)NS(C)(=O)=...          sEH      0   \n",
       "2  Cc1cc(C#N)cnc1Nc1nc(Nc2nccc(=O)[nH]2)nc(NC(CC(...         BRD4      0   \n",
       "3  O=C(N[Dy])c1cc(Cl)c(Br)cc1Nc1nc(NCc2ncccc2F)nc...         BRD4      0   \n",
       "4  Cc1cccc2oc(CCNc3nc(NC[C@H]4CC[C@H](C(N)=O)CC4)...          HSA      0   \n",
       "\n",
       "                                           molecule  \n",
       "0  <rdkit.Chem.rdchem.Mol object at 0x7fe57c8767b0>  \n",
       "1  <rdkit.Chem.rdchem.Mol object at 0x7fe57c876820>  \n",
       "2  <rdkit.Chem.rdchem.Mol object at 0x7fe57c8763c0>  \n",
       "3  <rdkit.Chem.rdchem.Mol object at 0x7fe57c876890>  \n",
       "4  <rdkit.Chem.rdchem.Mol object at 0x7fe57c876900>  "
      ]
     },
     "execution_count": 15,
     "metadata": {},
     "output_type": "execute_result"
    }
   ],
   "source": [
    "data.head()"
   ]
  },
  {
   "cell_type": "code",
   "execution_count": 16,
   "metadata": {},
   "outputs": [],
   "source": [
    "fpg = rdFingerprintGenerator.GetMorganGenerator(radius=2, fpSize=2048)\n",
    "\n",
    "def compute_fingerprint(mol):\n",
    "    if mol is None:\n",
    "        return None\n",
    "    return fpg.GetFingerprint(mol)\n",
    "\n",
    "data['fingerprints'] = data['molecule'].apply(compute_fingerprint)"
   ]
  },
  {
   "cell_type": "code",
   "execution_count": 17,
   "metadata": {},
   "outputs": [
    {
     "data": {
      "text/html": [
       "<div>\n",
       "<style scoped>\n",
       "    .dataframe tbody tr th:only-of-type {\n",
       "        vertical-align: middle;\n",
       "    }\n",
       "\n",
       "    .dataframe tbody tr th {\n",
       "        vertical-align: top;\n",
       "    }\n",
       "\n",
       "    .dataframe thead th {\n",
       "        text-align: right;\n",
       "    }\n",
       "</style>\n",
       "<table border=\"1\" class=\"dataframe\">\n",
       "  <thead>\n",
       "    <tr style=\"text-align: right;\">\n",
       "      <th></th>\n",
       "      <th>id</th>\n",
       "      <th>buildingblock1_smiles</th>\n",
       "      <th>buildingblock2_smiles</th>\n",
       "      <th>buildingblock3_smiles</th>\n",
       "      <th>molecule_smiles</th>\n",
       "      <th>protein_name</th>\n",
       "      <th>binds</th>\n",
       "      <th>molecule</th>\n",
       "      <th>fingerprints</th>\n",
       "    </tr>\n",
       "  </thead>\n",
       "  <tbody>\n",
       "    <tr>\n",
       "      <th>0</th>\n",
       "      <td>151356204</td>\n",
       "      <td>O=C(Nc1c(F)ccc(Br)c1C(=O)O)OCC1c2ccccc2-c2ccccc21</td>\n",
       "      <td>Nc1ccncc1[N+](=O)[O-]</td>\n",
       "      <td>Nc1nnc(S)s1</td>\n",
       "      <td>O=C(N[Dy])c1c(Br)ccc(F)c1Nc1nc(Nc2nnc(S)s2)nc(...</td>\n",
       "      <td>BRD4</td>\n",
       "      <td>0</td>\n",
       "      <td>&lt;rdkit.Chem.rdchem.Mol object at 0x7fe57c8767b0&gt;</td>\n",
       "      <td>[0, 0, 0, 0, 0, 0, 0, 0, 0, 0, 0, 0, 0, 0, 0, ...</td>\n",
       "    </tr>\n",
       "    <tr>\n",
       "      <th>1</th>\n",
       "      <td>129947405</td>\n",
       "      <td>O=C(N[C@H]1CCC[C@@H]1C(=O)O)OCC1c2ccccc2-c2ccc...</td>\n",
       "      <td>CS(=O)(=O)NC(=O)CCN.Cl</td>\n",
       "      <td>CN(Cc1ccco1)Cc1ccccc1CN</td>\n",
       "      <td>CN(Cc1ccco1)Cc1ccccc1CNc1nc(NCCC(=O)NS(C)(=O)=...</td>\n",
       "      <td>sEH</td>\n",
       "      <td>0</td>\n",
       "      <td>&lt;rdkit.Chem.rdchem.Mol object at 0x7fe57c876820&gt;</td>\n",
       "      <td>[0, 0, 0, 0, 0, 0, 0, 0, 0, 0, 0, 0, 0, 0, 0, ...</td>\n",
       "    </tr>\n",
       "    <tr>\n",
       "      <th>2</th>\n",
       "      <td>236759874</td>\n",
       "      <td>O=C(O)CC(NC(=O)OCC1c2ccccc2-c2ccccc21)c1ccc(Br...</td>\n",
       "      <td>Cc1cc(C#N)cnc1N</td>\n",
       "      <td>Nc1nccc(=O)[nH]1</td>\n",
       "      <td>Cc1cc(C#N)cnc1Nc1nc(Nc2nccc(=O)[nH]2)nc(NC(CC(...</td>\n",
       "      <td>BRD4</td>\n",
       "      <td>0</td>\n",
       "      <td>&lt;rdkit.Chem.rdchem.Mol object at 0x7fe57c8763c0&gt;</td>\n",
       "      <td>[0, 1, 0, 0, 0, 0, 0, 0, 0, 0, 0, 0, 0, 0, 0, ...</td>\n",
       "    </tr>\n",
       "    <tr>\n",
       "      <th>3</th>\n",
       "      <td>157888956</td>\n",
       "      <td>O=C(Nc1cc(Br)c(Cl)cc1C(=O)O)OCC1c2ccccc2-c2ccc...</td>\n",
       "      <td>Nc1ccnc(Cl)c1</td>\n",
       "      <td>Cl.Cl.NCc1ncccc1F</td>\n",
       "      <td>O=C(N[Dy])c1cc(Cl)c(Br)cc1Nc1nc(NCc2ncccc2F)nc...</td>\n",
       "      <td>BRD4</td>\n",
       "      <td>0</td>\n",
       "      <td>&lt;rdkit.Chem.rdchem.Mol object at 0x7fe57c876890&gt;</td>\n",
       "      <td>[0, 0, 0, 0, 0, 0, 0, 0, 0, 0, 0, 0, 0, 0, 0, ...</td>\n",
       "    </tr>\n",
       "    <tr>\n",
       "      <th>4</th>\n",
       "      <td>168414976</td>\n",
       "      <td>O=C(Nc1cc(Cl)cc(C(=O)O)c1)OCC1c2ccccc2-c2ccccc21</td>\n",
       "      <td>Cl.NC[C@H]1CC[C@H](C(N)=O)CC1</td>\n",
       "      <td>Cc1cccc2oc(CCN)nc12.Cl.Cl</td>\n",
       "      <td>Cc1cccc2oc(CCNc3nc(NC[C@H]4CC[C@H](C(N)=O)CC4)...</td>\n",
       "      <td>HSA</td>\n",
       "      <td>0</td>\n",
       "      <td>&lt;rdkit.Chem.rdchem.Mol object at 0x7fe57c876900&gt;</td>\n",
       "      <td>[0, 0, 0, 0, 0, 0, 0, 0, 0, 0, 0, 0, 0, 0, 0, ...</td>\n",
       "    </tr>\n",
       "  </tbody>\n",
       "</table>\n",
       "</div>"
      ],
      "text/plain": [
       "          id                              buildingblock1_smiles  \\\n",
       "0  151356204  O=C(Nc1c(F)ccc(Br)c1C(=O)O)OCC1c2ccccc2-c2ccccc21   \n",
       "1  129947405  O=C(N[C@H]1CCC[C@@H]1C(=O)O)OCC1c2ccccc2-c2ccc...   \n",
       "2  236759874  O=C(O)CC(NC(=O)OCC1c2ccccc2-c2ccccc21)c1ccc(Br...   \n",
       "3  157888956  O=C(Nc1cc(Br)c(Cl)cc1C(=O)O)OCC1c2ccccc2-c2ccc...   \n",
       "4  168414976   O=C(Nc1cc(Cl)cc(C(=O)O)c1)OCC1c2ccccc2-c2ccccc21   \n",
       "\n",
       "           buildingblock2_smiles      buildingblock3_smiles  \\\n",
       "0          Nc1ccncc1[N+](=O)[O-]                Nc1nnc(S)s1   \n",
       "1         CS(=O)(=O)NC(=O)CCN.Cl    CN(Cc1ccco1)Cc1ccccc1CN   \n",
       "2                Cc1cc(C#N)cnc1N           Nc1nccc(=O)[nH]1   \n",
       "3                  Nc1ccnc(Cl)c1          Cl.Cl.NCc1ncccc1F   \n",
       "4  Cl.NC[C@H]1CC[C@H](C(N)=O)CC1  Cc1cccc2oc(CCN)nc12.Cl.Cl   \n",
       "\n",
       "                                     molecule_smiles protein_name  binds  \\\n",
       "0  O=C(N[Dy])c1c(Br)ccc(F)c1Nc1nc(Nc2nnc(S)s2)nc(...         BRD4      0   \n",
       "1  CN(Cc1ccco1)Cc1ccccc1CNc1nc(NCCC(=O)NS(C)(=O)=...          sEH      0   \n",
       "2  Cc1cc(C#N)cnc1Nc1nc(Nc2nccc(=O)[nH]2)nc(NC(CC(...         BRD4      0   \n",
       "3  O=C(N[Dy])c1cc(Cl)c(Br)cc1Nc1nc(NCc2ncccc2F)nc...         BRD4      0   \n",
       "4  Cc1cccc2oc(CCNc3nc(NC[C@H]4CC[C@H](C(N)=O)CC4)...          HSA      0   \n",
       "\n",
       "                                           molecule  \\\n",
       "0  <rdkit.Chem.rdchem.Mol object at 0x7fe57c8767b0>   \n",
       "1  <rdkit.Chem.rdchem.Mol object at 0x7fe57c876820>   \n",
       "2  <rdkit.Chem.rdchem.Mol object at 0x7fe57c8763c0>   \n",
       "3  <rdkit.Chem.rdchem.Mol object at 0x7fe57c876890>   \n",
       "4  <rdkit.Chem.rdchem.Mol object at 0x7fe57c876900>   \n",
       "\n",
       "                                        fingerprints  \n",
       "0  [0, 0, 0, 0, 0, 0, 0, 0, 0, 0, 0, 0, 0, 0, 0, ...  \n",
       "1  [0, 0, 0, 0, 0, 0, 0, 0, 0, 0, 0, 0, 0, 0, 0, ...  \n",
       "2  [0, 1, 0, 0, 0, 0, 0, 0, 0, 0, 0, 0, 0, 0, 0, ...  \n",
       "3  [0, 0, 0, 0, 0, 0, 0, 0, 0, 0, 0, 0, 0, 0, 0, ...  \n",
       "4  [0, 0, 0, 0, 0, 0, 0, 0, 0, 0, 0, 0, 0, 0, 0, ...  "
      ]
     },
     "execution_count": 17,
     "metadata": {},
     "output_type": "execute_result"
    }
   ],
   "source": [
    "data.head()"
   ]
  },
  {
   "cell_type": "code",
   "execution_count": 18,
   "metadata": {},
   "outputs": [],
   "source": [
    "# 분자량 계산 함수\n",
    "def calculate_mol_weight(mol):\n",
    "    return Descriptors.ExactMolWt(mol)\n",
    "\n",
    "# 로그P 계산 함수\n",
    "def calculate_log_p(mol):\n",
    "    return Descriptors.MolLogP(mol)\n",
    "\n",
    "# 수소 결합 주개 계산 함수\n",
    "def calculate_h_bond_donor(mol):\n",
    "    return Descriptors.NumHDonors(mol)\n",
    "\n",
    "# 수소 결합 받개 계산 함수\n",
    "def calculate_h_bond_acceptor(mol):\n",
    "    return Descriptors.NumHAcceptors(mol)\n",
    "\n",
    "# 회전 가능한 결합 수 계산 함수\n",
    "def calculate_rotatable_bonds(mol):\n",
    "    return Descriptors.NumRotatableBonds(mol)\n",
    "\n",
    "# TPSA 계산 함수\n",
    "def calculate_tpsa(mol):\n",
    "    return Descriptors.TPSA(mol)\n",
    "\n",
    "# 방향족 고리 수 계산 함수\n",
    "def calculate_aromatic_rings(mol):\n",
    "    return Descriptors.NumAromaticRings(mol)\n",
    "\n",
    "# 헤테로 원자 수 계산 함수\n",
    "def calculate_hetero_atoms(mol):\n",
    "    return Descriptors.NumHeteroatoms(mol)"
   ]
  },
  {
   "cell_type": "code",
   "execution_count": 19,
   "metadata": {},
   "outputs": [],
   "source": [
    "data['MolWeight'] = data['molecule'].apply(calculate_mol_weight)\n",
    "data['LogP'] = data['molecule'].apply(calculate_log_p)\n",
    "data['HBondDonor'] = data['molecule'].apply(calculate_h_bond_donor)\n",
    "data['HBondAcceptor'] = data['molecule'].apply(calculate_h_bond_acceptor)\n",
    "data['RotatableBonds'] = data['molecule'].apply(calculate_rotatable_bonds)\n",
    "data['TPSA'] = data['molecule'].apply(calculate_tpsa)\n",
    "data['AromaticRings'] = data['molecule'].apply(calculate_aromatic_rings)\n",
    "data['HeteroAtoms'] = data['molecule'].apply(calculate_hetero_atoms)"
   ]
  },
  {
   "cell_type": "code",
   "execution_count": 20,
   "metadata": {},
   "outputs": [
    {
     "data": {
      "text/html": [
       "<div>\n",
       "<style scoped>\n",
       "    .dataframe tbody tr th:only-of-type {\n",
       "        vertical-align: middle;\n",
       "    }\n",
       "\n",
       "    .dataframe tbody tr th {\n",
       "        vertical-align: top;\n",
       "    }\n",
       "\n",
       "    .dataframe thead th {\n",
       "        text-align: right;\n",
       "    }\n",
       "</style>\n",
       "<table border=\"1\" class=\"dataframe\">\n",
       "  <thead>\n",
       "    <tr style=\"text-align: right;\">\n",
       "      <th></th>\n",
       "      <th>id</th>\n",
       "      <th>buildingblock1_smiles</th>\n",
       "      <th>buildingblock2_smiles</th>\n",
       "      <th>buildingblock3_smiles</th>\n",
       "      <th>molecule_smiles</th>\n",
       "      <th>protein_name</th>\n",
       "      <th>binds</th>\n",
       "      <th>molecule</th>\n",
       "      <th>fingerprints</th>\n",
       "      <th>MolWeight</th>\n",
       "      <th>LogP</th>\n",
       "      <th>HBondDonor</th>\n",
       "      <th>HBondAcceptor</th>\n",
       "      <th>RotatableBonds</th>\n",
       "      <th>TPSA</th>\n",
       "      <th>AromaticRings</th>\n",
       "      <th>HeteroAtoms</th>\n",
       "    </tr>\n",
       "  </thead>\n",
       "  <tbody>\n",
       "    <tr>\n",
       "      <th>0</th>\n",
       "      <td>151356204</td>\n",
       "      <td>O=C(Nc1c(F)ccc(Br)c1C(=O)O)OCC1c2ccccc2-c2ccccc21</td>\n",
       "      <td>Nc1ccncc1[N+](=O)[O-]</td>\n",
       "      <td>Nc1nnc(S)s1</td>\n",
       "      <td>O=C(N[Dy])c1c(Br)ccc(F)c1Nc1nc(Nc2nnc(S)s2)nc(...</td>\n",
       "      <td>BRD4</td>\n",
       "      <td>0</td>\n",
       "      <td>&lt;rdkit.Chem.rdchem.Mol object at 0x7fe57c8767b0&gt;</td>\n",
       "      <td>[0, 0, 0, 0, 0, 0, 0, 0, 0, 0, 0, 0, 0, 0, 0, ...</td>\n",
       "      <td>741.886865</td>\n",
       "      <td>3.64150</td>\n",
       "      <td>5</td>\n",
       "      <td>14</td>\n",
       "      <td>8</td>\n",
       "      <td>185.67</td>\n",
       "      <td>4</td>\n",
       "      <td>19</td>\n",
       "    </tr>\n",
       "    <tr>\n",
       "      <th>1</th>\n",
       "      <td>129947405</td>\n",
       "      <td>O=C(N[C@H]1CCC[C@@H]1C(=O)O)OCC1c2ccccc2-c2ccc...</td>\n",
       "      <td>CS(=O)(=O)NC(=O)CCN.Cl</td>\n",
       "      <td>CN(Cc1ccco1)Cc1ccccc1CN</td>\n",
       "      <td>CN(Cc1ccco1)Cc1ccccc1CNc1nc(NCCC(=O)NS(C)(=O)=...</td>\n",
       "      <td>sEH</td>\n",
       "      <td>0</td>\n",
       "      <td>&lt;rdkit.Chem.rdchem.Mol object at 0x7fe57c876820&gt;</td>\n",
       "      <td>[0, 0, 0, 0, 0, 0, 0, 0, 0, 0, 0, 0, 0, 0, 0, ...</td>\n",
       "      <td>762.185186</td>\n",
       "      <td>1.74760</td>\n",
       "      <td>5</td>\n",
       "      <td>12</td>\n",
       "      <td>15</td>\n",
       "      <td>183.48</td>\n",
       "      <td>3</td>\n",
       "      <td>16</td>\n",
       "    </tr>\n",
       "    <tr>\n",
       "      <th>2</th>\n",
       "      <td>236759874</td>\n",
       "      <td>O=C(O)CC(NC(=O)OCC1c2ccccc2-c2ccccc21)c1ccc(Br...</td>\n",
       "      <td>Cc1cc(C#N)cnc1N</td>\n",
       "      <td>Nc1nccc(=O)[nH]1</td>\n",
       "      <td>Cc1cc(C#N)cnc1Nc1nc(Nc2nccc(=O)[nH]2)nc(NC(CC(...</td>\n",
       "      <td>BRD4</td>\n",
       "      <td>0</td>\n",
       "      <td>&lt;rdkit.Chem.rdchem.Mol object at 0x7fe57c8763c0&gt;</td>\n",
       "      <td>[0, 1, 0, 0, 0, 0, 0, 0, 0, 0, 0, 0, 0, 0, 0, ...</td>\n",
       "      <td>724.019831</td>\n",
       "      <td>2.90350</td>\n",
       "      <td>5</td>\n",
       "      <td>11</td>\n",
       "      <td>9</td>\n",
       "      <td>186.29</td>\n",
       "      <td>4</td>\n",
       "      <td>15</td>\n",
       "    </tr>\n",
       "    <tr>\n",
       "      <th>3</th>\n",
       "      <td>157888956</td>\n",
       "      <td>O=C(Nc1cc(Br)c(Cl)cc1C(=O)O)OCC1c2ccccc2-c2ccc...</td>\n",
       "      <td>Nc1ccnc(Cl)c1</td>\n",
       "      <td>Cl.Cl.NCc1ncccc1F</td>\n",
       "      <td>O=C(N[Dy])c1cc(Cl)c(Br)cc1Nc1nc(NCc2ncccc2F)nc...</td>\n",
       "      <td>BRD4</td>\n",
       "      <td>0</td>\n",
       "      <td>&lt;rdkit.Chem.rdchem.Mol object at 0x7fe57c876890&gt;</td>\n",
       "      <td>[0, 0, 0, 0, 0, 0, 0, 0, 0, 0, 0, 0, 0, 0, 0, ...</td>\n",
       "      <td>739.915752</td>\n",
       "      <td>5.16340</td>\n",
       "      <td>4</td>\n",
       "      <td>9</td>\n",
       "      <td>8</td>\n",
       "      <td>129.64</td>\n",
       "      <td>4</td>\n",
       "      <td>15</td>\n",
       "    </tr>\n",
       "    <tr>\n",
       "      <th>4</th>\n",
       "      <td>168414976</td>\n",
       "      <td>O=C(Nc1cc(Cl)cc(C(=O)O)c1)OCC1c2ccccc2-c2ccccc21</td>\n",
       "      <td>Cl.NC[C@H]1CC[C@H](C(N)=O)CC1</td>\n",
       "      <td>Cc1cccc2oc(CCN)nc12.Cl.Cl</td>\n",
       "      <td>Cc1cccc2oc(CCNc3nc(NC[C@H]4CC[C@H](C(N)=O)CC4)...</td>\n",
       "      <td>HSA</td>\n",
       "      <td>0</td>\n",
       "      <td>&lt;rdkit.Chem.rdchem.Mol object at 0x7fe57c876900&gt;</td>\n",
       "      <td>[0, 0, 0, 0, 0, 0, 0, 0, 0, 0, 0, 0, 0, 0, 0, ...</td>\n",
       "      <td>740.153013</td>\n",
       "      <td>4.27052</td>\n",
       "      <td>5</td>\n",
       "      <td>10</td>\n",
       "      <td>11</td>\n",
       "      <td>172.98</td>\n",
       "      <td>4</td>\n",
       "      <td>14</td>\n",
       "    </tr>\n",
       "  </tbody>\n",
       "</table>\n",
       "</div>"
      ],
      "text/plain": [
       "          id                              buildingblock1_smiles  \\\n",
       "0  151356204  O=C(Nc1c(F)ccc(Br)c1C(=O)O)OCC1c2ccccc2-c2ccccc21   \n",
       "1  129947405  O=C(N[C@H]1CCC[C@@H]1C(=O)O)OCC1c2ccccc2-c2ccc...   \n",
       "2  236759874  O=C(O)CC(NC(=O)OCC1c2ccccc2-c2ccccc21)c1ccc(Br...   \n",
       "3  157888956  O=C(Nc1cc(Br)c(Cl)cc1C(=O)O)OCC1c2ccccc2-c2ccc...   \n",
       "4  168414976   O=C(Nc1cc(Cl)cc(C(=O)O)c1)OCC1c2ccccc2-c2ccccc21   \n",
       "\n",
       "           buildingblock2_smiles      buildingblock3_smiles  \\\n",
       "0          Nc1ccncc1[N+](=O)[O-]                Nc1nnc(S)s1   \n",
       "1         CS(=O)(=O)NC(=O)CCN.Cl    CN(Cc1ccco1)Cc1ccccc1CN   \n",
       "2                Cc1cc(C#N)cnc1N           Nc1nccc(=O)[nH]1   \n",
       "3                  Nc1ccnc(Cl)c1          Cl.Cl.NCc1ncccc1F   \n",
       "4  Cl.NC[C@H]1CC[C@H](C(N)=O)CC1  Cc1cccc2oc(CCN)nc12.Cl.Cl   \n",
       "\n",
       "                                     molecule_smiles protein_name  binds  \\\n",
       "0  O=C(N[Dy])c1c(Br)ccc(F)c1Nc1nc(Nc2nnc(S)s2)nc(...         BRD4      0   \n",
       "1  CN(Cc1ccco1)Cc1ccccc1CNc1nc(NCCC(=O)NS(C)(=O)=...          sEH      0   \n",
       "2  Cc1cc(C#N)cnc1Nc1nc(Nc2nccc(=O)[nH]2)nc(NC(CC(...         BRD4      0   \n",
       "3  O=C(N[Dy])c1cc(Cl)c(Br)cc1Nc1nc(NCc2ncccc2F)nc...         BRD4      0   \n",
       "4  Cc1cccc2oc(CCNc3nc(NC[C@H]4CC[C@H](C(N)=O)CC4)...          HSA      0   \n",
       "\n",
       "                                           molecule  \\\n",
       "0  <rdkit.Chem.rdchem.Mol object at 0x7fe57c8767b0>   \n",
       "1  <rdkit.Chem.rdchem.Mol object at 0x7fe57c876820>   \n",
       "2  <rdkit.Chem.rdchem.Mol object at 0x7fe57c8763c0>   \n",
       "3  <rdkit.Chem.rdchem.Mol object at 0x7fe57c876890>   \n",
       "4  <rdkit.Chem.rdchem.Mol object at 0x7fe57c876900>   \n",
       "\n",
       "                                        fingerprints   MolWeight     LogP  \\\n",
       "0  [0, 0, 0, 0, 0, 0, 0, 0, 0, 0, 0, 0, 0, 0, 0, ...  741.886865  3.64150   \n",
       "1  [0, 0, 0, 0, 0, 0, 0, 0, 0, 0, 0, 0, 0, 0, 0, ...  762.185186  1.74760   \n",
       "2  [0, 1, 0, 0, 0, 0, 0, 0, 0, 0, 0, 0, 0, 0, 0, ...  724.019831  2.90350   \n",
       "3  [0, 0, 0, 0, 0, 0, 0, 0, 0, 0, 0, 0, 0, 0, 0, ...  739.915752  5.16340   \n",
       "4  [0, 0, 0, 0, 0, 0, 0, 0, 0, 0, 0, 0, 0, 0, 0, ...  740.153013  4.27052   \n",
       "\n",
       "   HBondDonor  HBondAcceptor  RotatableBonds    TPSA  AromaticRings  \\\n",
       "0           5             14               8  185.67              4   \n",
       "1           5             12              15  183.48              3   \n",
       "2           5             11               9  186.29              4   \n",
       "3           4              9               8  129.64              4   \n",
       "4           5             10              11  172.98              4   \n",
       "\n",
       "   HeteroAtoms  \n",
       "0           19  \n",
       "1           16  \n",
       "2           15  \n",
       "3           15  \n",
       "4           14  "
      ]
     },
     "execution_count": 20,
     "metadata": {},
     "output_type": "execute_result"
    }
   ],
   "source": [
    "data.head()"
   ]
  },
  {
   "cell_type": "code",
   "execution_count": 27,
   "metadata": {},
   "outputs": [],
   "source": [
    "onehot_encoder = OneHotEncoder(sparse_output=False)\n",
    "protein_encoded = onehot_encoder.fit_transform(data['protein_name'].values.reshape(-1, 1)).astype(np.uint8)\n",
    "protein_columns = onehot_encoder.get_feature_names_out(['protein'])\n",
    "protein_encoded_df = pd.DataFrame(protein_encoded, columns=protein_columns)\n",
    "data = pd.concat([data, protein_encoded_df], axis=1)"
   ]
  },
  {
   "cell_type": "code",
   "execution_count": 28,
   "metadata": {},
   "outputs": [
    {
     "data": {
      "text/html": [
       "<div>\n",
       "<style scoped>\n",
       "    .dataframe tbody tr th:only-of-type {\n",
       "        vertical-align: middle;\n",
       "    }\n",
       "\n",
       "    .dataframe tbody tr th {\n",
       "        vertical-align: top;\n",
       "    }\n",
       "\n",
       "    .dataframe thead th {\n",
       "        text-align: right;\n",
       "    }\n",
       "</style>\n",
       "<table border=\"1\" class=\"dataframe\">\n",
       "  <thead>\n",
       "    <tr style=\"text-align: right;\">\n",
       "      <th></th>\n",
       "      <th>id</th>\n",
       "      <th>buildingblock1_smiles</th>\n",
       "      <th>buildingblock2_smiles</th>\n",
       "      <th>buildingblock3_smiles</th>\n",
       "      <th>molecule_smiles</th>\n",
       "      <th>protein_name</th>\n",
       "      <th>binds</th>\n",
       "      <th>molecule</th>\n",
       "      <th>fingerprints</th>\n",
       "      <th>MolWeight</th>\n",
       "      <th>...</th>\n",
       "      <th>RotatableBonds</th>\n",
       "      <th>TPSA</th>\n",
       "      <th>AromaticRings</th>\n",
       "      <th>HeteroAtoms</th>\n",
       "      <th>protein_BRD4</th>\n",
       "      <th>protein_HSA</th>\n",
       "      <th>protein_sEH</th>\n",
       "      <th>protein_BRD4</th>\n",
       "      <th>protein_HSA</th>\n",
       "      <th>protein_sEH</th>\n",
       "    </tr>\n",
       "  </thead>\n",
       "  <tbody>\n",
       "    <tr>\n",
       "      <th>0</th>\n",
       "      <td>151356204</td>\n",
       "      <td>O=C(Nc1c(F)ccc(Br)c1C(=O)O)OCC1c2ccccc2-c2ccccc21</td>\n",
       "      <td>Nc1ccncc1[N+](=O)[O-]</td>\n",
       "      <td>Nc1nnc(S)s1</td>\n",
       "      <td>O=C(N[Dy])c1c(Br)ccc(F)c1Nc1nc(Nc2nnc(S)s2)nc(...</td>\n",
       "      <td>BRD4</td>\n",
       "      <td>0</td>\n",
       "      <td>&lt;rdkit.Chem.rdchem.Mol object at 0x7fe57c8767b0&gt;</td>\n",
       "      <td>[0, 0, 0, 0, 0, 0, 0, 0, 0, 0, 0, 0, 0, 0, 0, ...</td>\n",
       "      <td>741.886865</td>\n",
       "      <td>...</td>\n",
       "      <td>8</td>\n",
       "      <td>185.67</td>\n",
       "      <td>4</td>\n",
       "      <td>19</td>\n",
       "      <td>1.0</td>\n",
       "      <td>0.0</td>\n",
       "      <td>0.0</td>\n",
       "      <td>1</td>\n",
       "      <td>0</td>\n",
       "      <td>0</td>\n",
       "    </tr>\n",
       "    <tr>\n",
       "      <th>1</th>\n",
       "      <td>129947405</td>\n",
       "      <td>O=C(N[C@H]1CCC[C@@H]1C(=O)O)OCC1c2ccccc2-c2ccc...</td>\n",
       "      <td>CS(=O)(=O)NC(=O)CCN.Cl</td>\n",
       "      <td>CN(Cc1ccco1)Cc1ccccc1CN</td>\n",
       "      <td>CN(Cc1ccco1)Cc1ccccc1CNc1nc(NCCC(=O)NS(C)(=O)=...</td>\n",
       "      <td>sEH</td>\n",
       "      <td>0</td>\n",
       "      <td>&lt;rdkit.Chem.rdchem.Mol object at 0x7fe57c876820&gt;</td>\n",
       "      <td>[0, 0, 0, 0, 0, 0, 0, 0, 0, 0, 0, 0, 0, 0, 0, ...</td>\n",
       "      <td>762.185186</td>\n",
       "      <td>...</td>\n",
       "      <td>15</td>\n",
       "      <td>183.48</td>\n",
       "      <td>3</td>\n",
       "      <td>16</td>\n",
       "      <td>0.0</td>\n",
       "      <td>0.0</td>\n",
       "      <td>1.0</td>\n",
       "      <td>0</td>\n",
       "      <td>0</td>\n",
       "      <td>1</td>\n",
       "    </tr>\n",
       "    <tr>\n",
       "      <th>2</th>\n",
       "      <td>236759874</td>\n",
       "      <td>O=C(O)CC(NC(=O)OCC1c2ccccc2-c2ccccc21)c1ccc(Br...</td>\n",
       "      <td>Cc1cc(C#N)cnc1N</td>\n",
       "      <td>Nc1nccc(=O)[nH]1</td>\n",
       "      <td>Cc1cc(C#N)cnc1Nc1nc(Nc2nccc(=O)[nH]2)nc(NC(CC(...</td>\n",
       "      <td>BRD4</td>\n",
       "      <td>0</td>\n",
       "      <td>&lt;rdkit.Chem.rdchem.Mol object at 0x7fe57c8763c0&gt;</td>\n",
       "      <td>[0, 1, 0, 0, 0, 0, 0, 0, 0, 0, 0, 0, 0, 0, 0, ...</td>\n",
       "      <td>724.019831</td>\n",
       "      <td>...</td>\n",
       "      <td>9</td>\n",
       "      <td>186.29</td>\n",
       "      <td>4</td>\n",
       "      <td>15</td>\n",
       "      <td>1.0</td>\n",
       "      <td>0.0</td>\n",
       "      <td>0.0</td>\n",
       "      <td>1</td>\n",
       "      <td>0</td>\n",
       "      <td>0</td>\n",
       "    </tr>\n",
       "    <tr>\n",
       "      <th>3</th>\n",
       "      <td>157888956</td>\n",
       "      <td>O=C(Nc1cc(Br)c(Cl)cc1C(=O)O)OCC1c2ccccc2-c2ccc...</td>\n",
       "      <td>Nc1ccnc(Cl)c1</td>\n",
       "      <td>Cl.Cl.NCc1ncccc1F</td>\n",
       "      <td>O=C(N[Dy])c1cc(Cl)c(Br)cc1Nc1nc(NCc2ncccc2F)nc...</td>\n",
       "      <td>BRD4</td>\n",
       "      <td>0</td>\n",
       "      <td>&lt;rdkit.Chem.rdchem.Mol object at 0x7fe57c876890&gt;</td>\n",
       "      <td>[0, 0, 0, 0, 0, 0, 0, 0, 0, 0, 0, 0, 0, 0, 0, ...</td>\n",
       "      <td>739.915752</td>\n",
       "      <td>...</td>\n",
       "      <td>8</td>\n",
       "      <td>129.64</td>\n",
       "      <td>4</td>\n",
       "      <td>15</td>\n",
       "      <td>1.0</td>\n",
       "      <td>0.0</td>\n",
       "      <td>0.0</td>\n",
       "      <td>1</td>\n",
       "      <td>0</td>\n",
       "      <td>0</td>\n",
       "    </tr>\n",
       "    <tr>\n",
       "      <th>4</th>\n",
       "      <td>168414976</td>\n",
       "      <td>O=C(Nc1cc(Cl)cc(C(=O)O)c1)OCC1c2ccccc2-c2ccccc21</td>\n",
       "      <td>Cl.NC[C@H]1CC[C@H](C(N)=O)CC1</td>\n",
       "      <td>Cc1cccc2oc(CCN)nc12.Cl.Cl</td>\n",
       "      <td>Cc1cccc2oc(CCNc3nc(NC[C@H]4CC[C@H](C(N)=O)CC4)...</td>\n",
       "      <td>HSA</td>\n",
       "      <td>0</td>\n",
       "      <td>&lt;rdkit.Chem.rdchem.Mol object at 0x7fe57c876900&gt;</td>\n",
       "      <td>[0, 0, 0, 0, 0, 0, 0, 0, 0, 0, 0, 0, 0, 0, 0, ...</td>\n",
       "      <td>740.153013</td>\n",
       "      <td>...</td>\n",
       "      <td>11</td>\n",
       "      <td>172.98</td>\n",
       "      <td>4</td>\n",
       "      <td>14</td>\n",
       "      <td>0.0</td>\n",
       "      <td>1.0</td>\n",
       "      <td>0.0</td>\n",
       "      <td>0</td>\n",
       "      <td>1</td>\n",
       "      <td>0</td>\n",
       "    </tr>\n",
       "  </tbody>\n",
       "</table>\n",
       "<p>5 rows × 23 columns</p>\n",
       "</div>"
      ],
      "text/plain": [
       "          id                              buildingblock1_smiles  \\\n",
       "0  151356204  O=C(Nc1c(F)ccc(Br)c1C(=O)O)OCC1c2ccccc2-c2ccccc21   \n",
       "1  129947405  O=C(N[C@H]1CCC[C@@H]1C(=O)O)OCC1c2ccccc2-c2ccc...   \n",
       "2  236759874  O=C(O)CC(NC(=O)OCC1c2ccccc2-c2ccccc21)c1ccc(Br...   \n",
       "3  157888956  O=C(Nc1cc(Br)c(Cl)cc1C(=O)O)OCC1c2ccccc2-c2ccc...   \n",
       "4  168414976   O=C(Nc1cc(Cl)cc(C(=O)O)c1)OCC1c2ccccc2-c2ccccc21   \n",
       "\n",
       "           buildingblock2_smiles      buildingblock3_smiles  \\\n",
       "0          Nc1ccncc1[N+](=O)[O-]                Nc1nnc(S)s1   \n",
       "1         CS(=O)(=O)NC(=O)CCN.Cl    CN(Cc1ccco1)Cc1ccccc1CN   \n",
       "2                Cc1cc(C#N)cnc1N           Nc1nccc(=O)[nH]1   \n",
       "3                  Nc1ccnc(Cl)c1          Cl.Cl.NCc1ncccc1F   \n",
       "4  Cl.NC[C@H]1CC[C@H](C(N)=O)CC1  Cc1cccc2oc(CCN)nc12.Cl.Cl   \n",
       "\n",
       "                                     molecule_smiles protein_name  binds  \\\n",
       "0  O=C(N[Dy])c1c(Br)ccc(F)c1Nc1nc(Nc2nnc(S)s2)nc(...         BRD4      0   \n",
       "1  CN(Cc1ccco1)Cc1ccccc1CNc1nc(NCCC(=O)NS(C)(=O)=...          sEH      0   \n",
       "2  Cc1cc(C#N)cnc1Nc1nc(Nc2nccc(=O)[nH]2)nc(NC(CC(...         BRD4      0   \n",
       "3  O=C(N[Dy])c1cc(Cl)c(Br)cc1Nc1nc(NCc2ncccc2F)nc...         BRD4      0   \n",
       "4  Cc1cccc2oc(CCNc3nc(NC[C@H]4CC[C@H](C(N)=O)CC4)...          HSA      0   \n",
       "\n",
       "                                           molecule  \\\n",
       "0  <rdkit.Chem.rdchem.Mol object at 0x7fe57c8767b0>   \n",
       "1  <rdkit.Chem.rdchem.Mol object at 0x7fe57c876820>   \n",
       "2  <rdkit.Chem.rdchem.Mol object at 0x7fe57c8763c0>   \n",
       "3  <rdkit.Chem.rdchem.Mol object at 0x7fe57c876890>   \n",
       "4  <rdkit.Chem.rdchem.Mol object at 0x7fe57c876900>   \n",
       "\n",
       "                                        fingerprints   MolWeight  ...  \\\n",
       "0  [0, 0, 0, 0, 0, 0, 0, 0, 0, 0, 0, 0, 0, 0, 0, ...  741.886865  ...   \n",
       "1  [0, 0, 0, 0, 0, 0, 0, 0, 0, 0, 0, 0, 0, 0, 0, ...  762.185186  ...   \n",
       "2  [0, 1, 0, 0, 0, 0, 0, 0, 0, 0, 0, 0, 0, 0, 0, ...  724.019831  ...   \n",
       "3  [0, 0, 0, 0, 0, 0, 0, 0, 0, 0, 0, 0, 0, 0, 0, ...  739.915752  ...   \n",
       "4  [0, 0, 0, 0, 0, 0, 0, 0, 0, 0, 0, 0, 0, 0, 0, ...  740.153013  ...   \n",
       "\n",
       "   RotatableBonds    TPSA  AromaticRings  HeteroAtoms  protein_BRD4  \\\n",
       "0               8  185.67              4           19           1.0   \n",
       "1              15  183.48              3           16           0.0   \n",
       "2               9  186.29              4           15           1.0   \n",
       "3               8  129.64              4           15           1.0   \n",
       "4              11  172.98              4           14           0.0   \n",
       "\n",
       "   protein_HSA  protein_sEH  protein_BRD4  protein_HSA  protein_sEH  \n",
       "0          0.0          0.0             1            0            0  \n",
       "1          0.0          1.0             0            0            1  \n",
       "2          0.0          0.0             1            0            0  \n",
       "3          0.0          0.0             1            0            0  \n",
       "4          1.0          0.0             0            1            0  \n",
       "\n",
       "[5 rows x 23 columns]"
      ]
     },
     "execution_count": 28,
     "metadata": {},
     "output_type": "execute_result"
    }
   ],
   "source": [
    "data.head()"
   ]
  },
  {
   "cell_type": "code",
   "execution_count": 29,
   "metadata": {},
   "outputs": [],
   "source": [
    "data.to_csv(\"./train.csv\", index=False)"
   ]
  },
  {
   "cell_type": "markdown",
   "metadata": {},
   "source": [
    "# Training"
   ]
  },
  {
   "cell_type": "code",
   "execution_count": 45,
   "metadata": {},
   "outputs": [],
   "source": [
    "def convert_to_numpy_array(explicit_bit_vect):\n",
    "    arr = np.zeros((1,))\n",
    "    DataStructs.ConvertToNumpyArray(explicit_bit_vect, arr)\n",
    "    return arr\n",
    "\n",
    "protein_onehot = onehot_encoder.fit_transform(data['protein_name'].values.reshape(-1, 1))\n",
    "fingerprints = [convert_to_numpy_array(fp) for fp in data['fingerprints'].tolist()]\n",
    "X = [np.concatenate([fp, protein]) for fp, protein in zip(fingerprints, protein_onehot.tolist())]\n",
    "y = data['binds'].tolist()"
   ]
  },
  {
   "cell_type": "code",
   "execution_count": 47,
   "metadata": {},
   "outputs": [],
   "source": [
    "X_train, X_test, y_train, y_test = train_test_split(X, y, test_size=0.3, random_state=42)"
   ]
  },
  {
   "cell_type": "code",
   "execution_count": 48,
   "metadata": {},
   "outputs": [
    {
     "data": {
      "text/html": [
       "<style>#sk-container-id-3 {color: black;}#sk-container-id-3 pre{padding: 0;}#sk-container-id-3 div.sk-toggleable {background-color: white;}#sk-container-id-3 label.sk-toggleable__label {cursor: pointer;display: block;width: 100%;margin-bottom: 0;padding: 0.3em;box-sizing: border-box;text-align: center;}#sk-container-id-3 label.sk-toggleable__label-arrow:before {content: \"▸\";float: left;margin-right: 0.25em;color: #696969;}#sk-container-id-3 label.sk-toggleable__label-arrow:hover:before {color: black;}#sk-container-id-3 div.sk-estimator:hover label.sk-toggleable__label-arrow:before {color: black;}#sk-container-id-3 div.sk-toggleable__content {max-height: 0;max-width: 0;overflow: hidden;text-align: left;background-color: #f0f8ff;}#sk-container-id-3 div.sk-toggleable__content pre {margin: 0.2em;color: black;border-radius: 0.25em;background-color: #f0f8ff;}#sk-container-id-3 input.sk-toggleable__control:checked~div.sk-toggleable__content {max-height: 200px;max-width: 100%;overflow: auto;}#sk-container-id-3 input.sk-toggleable__control:checked~label.sk-toggleable__label-arrow:before {content: \"▾\";}#sk-container-id-3 div.sk-estimator input.sk-toggleable__control:checked~label.sk-toggleable__label {background-color: #d4ebff;}#sk-container-id-3 div.sk-label input.sk-toggleable__control:checked~label.sk-toggleable__label {background-color: #d4ebff;}#sk-container-id-3 input.sk-hidden--visually {border: 0;clip: rect(1px 1px 1px 1px);clip: rect(1px, 1px, 1px, 1px);height: 1px;margin: -1px;overflow: hidden;padding: 0;position: absolute;width: 1px;}#sk-container-id-3 div.sk-estimator {font-family: monospace;background-color: #f0f8ff;border: 1px dotted black;border-radius: 0.25em;box-sizing: border-box;margin-bottom: 0.5em;}#sk-container-id-3 div.sk-estimator:hover {background-color: #d4ebff;}#sk-container-id-3 div.sk-parallel-item::after {content: \"\";width: 100%;border-bottom: 1px solid gray;flex-grow: 1;}#sk-container-id-3 div.sk-label:hover label.sk-toggleable__label {background-color: #d4ebff;}#sk-container-id-3 div.sk-serial::before {content: \"\";position: absolute;border-left: 1px solid gray;box-sizing: border-box;top: 0;bottom: 0;left: 50%;z-index: 0;}#sk-container-id-3 div.sk-serial {display: flex;flex-direction: column;align-items: center;background-color: white;padding-right: 0.2em;padding-left: 0.2em;position: relative;}#sk-container-id-3 div.sk-item {position: relative;z-index: 1;}#sk-container-id-3 div.sk-parallel {display: flex;align-items: stretch;justify-content: center;background-color: white;position: relative;}#sk-container-id-3 div.sk-item::before, #sk-container-id-3 div.sk-parallel-item::before {content: \"\";position: absolute;border-left: 1px solid gray;box-sizing: border-box;top: 0;bottom: 0;left: 50%;z-index: -1;}#sk-container-id-3 div.sk-parallel-item {display: flex;flex-direction: column;z-index: 1;position: relative;background-color: white;}#sk-container-id-3 div.sk-parallel-item:first-child::after {align-self: flex-end;width: 50%;}#sk-container-id-3 div.sk-parallel-item:last-child::after {align-self: flex-start;width: 50%;}#sk-container-id-3 div.sk-parallel-item:only-child::after {width: 0;}#sk-container-id-3 div.sk-dashed-wrapped {border: 1px dashed gray;margin: 0 0.4em 0.5em 0.4em;box-sizing: border-box;padding-bottom: 0.4em;background-color: white;}#sk-container-id-3 div.sk-label label {font-family: monospace;font-weight: bold;display: inline-block;line-height: 1.2em;}#sk-container-id-3 div.sk-label-container {text-align: center;}#sk-container-id-3 div.sk-container {/* jupyter's `normalize.less` sets `[hidden] { display: none; }` but bootstrap.min.css set `[hidden] { display: none !important; }` so we also need the `!important` here to be able to override the default hidden behavior on the sphinx rendered scikit-learn.org. See: https://github.com/scikit-learn/scikit-learn/issues/21755 */display: inline-block !important;position: relative;}#sk-container-id-3 div.sk-text-repr-fallback {display: none;}</style><div id=\"sk-container-id-3\" class=\"sk-top-container\"><div class=\"sk-text-repr-fallback\"><pre>RandomForestClassifier(random_state=42)</pre><b>In a Jupyter environment, please rerun this cell to show the HTML representation or trust the notebook. <br />On GitHub, the HTML representation is unable to render, please try loading this page with nbviewer.org.</b></div><div class=\"sk-container\" hidden><div class=\"sk-item\"><div class=\"sk-estimator sk-toggleable\"><input class=\"sk-toggleable__control sk-hidden--visually\" id=\"sk-estimator-id-3\" type=\"checkbox\" checked><label for=\"sk-estimator-id-3\" class=\"sk-toggleable__label sk-toggleable__label-arrow\">RandomForestClassifier</label><div class=\"sk-toggleable__content\"><pre>RandomForestClassifier(random_state=42)</pre></div></div></div></div></div>"
      ],
      "text/plain": [
       "RandomForestClassifier(random_state=42)"
      ]
     },
     "execution_count": 48,
     "metadata": {},
     "output_type": "execute_result"
    }
   ],
   "source": [
    "clf = RandomForestClassifier(n_estimators=100, random_state=42)\n",
    "clf.fit(X_train, y_train)"
   ]
  },
  {
   "cell_type": "code",
   "execution_count": 49,
   "metadata": {},
   "outputs": [
    {
     "name": "stdout",
     "output_type": "stream",
     "text": [
      "Validation Accuracy: 0.9068\n"
     ]
    }
   ],
   "source": [
    "y_pred = clf.predict(X_test)\n",
    "\n",
    "accuracy = accuracy_score(y_test, y_pred)\n",
    "print(f\"Validation Accuracy: {accuracy:.4f}\")"
   ]
  },
  {
   "cell_type": "code",
   "execution_count": null,
   "metadata": {},
   "outputs": [],
   "source": []
  },
  {
   "cell_type": "code",
   "execution_count": null,
   "metadata": {},
   "outputs": [],
   "source": []
  },
  {
   "cell_type": "code",
   "execution_count": 38,
   "metadata": {},
   "outputs": [],
   "source": [
    "features = ['MolWeight', 'LogP', 'HBondDonor', 'HBondAcceptor', 'RotatableBonds',\n",
    "            'TPSA', 'AromaticRings', 'HeteroAtoms', 'protein_BRD4', 'protein_HSA', 'protein_sEH']\n",
    "X = data[features].values\n",
    "\n",
    "X_fingerprints = np.array([list(fp) for fp in data['fingerprints']])\n",
    "\n",
    "X = np.concatenate([X, X_fingerprints], axis=1)\n",
    "\n",
    "y = data[['protein_BRD4', 'protein_HSA', 'protein_sEH']].values"
   ]
  },
  {
   "cell_type": "code",
   "execution_count": 41,
   "metadata": {},
   "outputs": [
    {
     "name": "stdout",
     "output_type": "stream",
     "text": [
      "(160000, 2062) (160000, 6)\n",
      "(40000, 2062) (40000, 6)\n"
     ]
    }
   ],
   "source": [
    "train_indices, test_indices = train_test_split(range(len(X)), test_size=0.2, random_state=42)\n",
    "\n",
    "X_train = [X[i] for i in train_indices]\n",
    "X_test = [X[i] for i in test_indices]\n",
    "y_train = y[train_indices]\n",
    "y_test = y[test_indices]\n",
    "\n",
    "X_train = np.array([np.array(x) for x in X_train])\n",
    "X_test = np.array([np.array(x) for x in X_test])\n",
    "\n",
    "print(X_train.shape, y_train.shape)\n",
    "print(X_test.shape, y_test.shape)"
   ]
  },
  {
   "cell_type": "code",
   "execution_count": 42,
   "metadata": {},
   "outputs": [
    {
     "data": {
      "text/html": [
       "<style>#sk-container-id-2 {color: black;}#sk-container-id-2 pre{padding: 0;}#sk-container-id-2 div.sk-toggleable {background-color: white;}#sk-container-id-2 label.sk-toggleable__label {cursor: pointer;display: block;width: 100%;margin-bottom: 0;padding: 0.3em;box-sizing: border-box;text-align: center;}#sk-container-id-2 label.sk-toggleable__label-arrow:before {content: \"▸\";float: left;margin-right: 0.25em;color: #696969;}#sk-container-id-2 label.sk-toggleable__label-arrow:hover:before {color: black;}#sk-container-id-2 div.sk-estimator:hover label.sk-toggleable__label-arrow:before {color: black;}#sk-container-id-2 div.sk-toggleable__content {max-height: 0;max-width: 0;overflow: hidden;text-align: left;background-color: #f0f8ff;}#sk-container-id-2 div.sk-toggleable__content pre {margin: 0.2em;color: black;border-radius: 0.25em;background-color: #f0f8ff;}#sk-container-id-2 input.sk-toggleable__control:checked~div.sk-toggleable__content {max-height: 200px;max-width: 100%;overflow: auto;}#sk-container-id-2 input.sk-toggleable__control:checked~label.sk-toggleable__label-arrow:before {content: \"▾\";}#sk-container-id-2 div.sk-estimator input.sk-toggleable__control:checked~label.sk-toggleable__label {background-color: #d4ebff;}#sk-container-id-2 div.sk-label input.sk-toggleable__control:checked~label.sk-toggleable__label {background-color: #d4ebff;}#sk-container-id-2 input.sk-hidden--visually {border: 0;clip: rect(1px 1px 1px 1px);clip: rect(1px, 1px, 1px, 1px);height: 1px;margin: -1px;overflow: hidden;padding: 0;position: absolute;width: 1px;}#sk-container-id-2 div.sk-estimator {font-family: monospace;background-color: #f0f8ff;border: 1px dotted black;border-radius: 0.25em;box-sizing: border-box;margin-bottom: 0.5em;}#sk-container-id-2 div.sk-estimator:hover {background-color: #d4ebff;}#sk-container-id-2 div.sk-parallel-item::after {content: \"\";width: 100%;border-bottom: 1px solid gray;flex-grow: 1;}#sk-container-id-2 div.sk-label:hover label.sk-toggleable__label {background-color: #d4ebff;}#sk-container-id-2 div.sk-serial::before {content: \"\";position: absolute;border-left: 1px solid gray;box-sizing: border-box;top: 0;bottom: 0;left: 50%;z-index: 0;}#sk-container-id-2 div.sk-serial {display: flex;flex-direction: column;align-items: center;background-color: white;padding-right: 0.2em;padding-left: 0.2em;position: relative;}#sk-container-id-2 div.sk-item {position: relative;z-index: 1;}#sk-container-id-2 div.sk-parallel {display: flex;align-items: stretch;justify-content: center;background-color: white;position: relative;}#sk-container-id-2 div.sk-item::before, #sk-container-id-2 div.sk-parallel-item::before {content: \"\";position: absolute;border-left: 1px solid gray;box-sizing: border-box;top: 0;bottom: 0;left: 50%;z-index: -1;}#sk-container-id-2 div.sk-parallel-item {display: flex;flex-direction: column;z-index: 1;position: relative;background-color: white;}#sk-container-id-2 div.sk-parallel-item:first-child::after {align-self: flex-end;width: 50%;}#sk-container-id-2 div.sk-parallel-item:last-child::after {align-self: flex-start;width: 50%;}#sk-container-id-2 div.sk-parallel-item:only-child::after {width: 0;}#sk-container-id-2 div.sk-dashed-wrapped {border: 1px dashed gray;margin: 0 0.4em 0.5em 0.4em;box-sizing: border-box;padding-bottom: 0.4em;background-color: white;}#sk-container-id-2 div.sk-label label {font-family: monospace;font-weight: bold;display: inline-block;line-height: 1.2em;}#sk-container-id-2 div.sk-label-container {text-align: center;}#sk-container-id-2 div.sk-container {/* jupyter's `normalize.less` sets `[hidden] { display: none; }` but bootstrap.min.css set `[hidden] { display: none !important; }` so we also need the `!important` here to be able to override the default hidden behavior on the sphinx rendered scikit-learn.org. See: https://github.com/scikit-learn/scikit-learn/issues/21755 */display: inline-block !important;position: relative;}#sk-container-id-2 div.sk-text-repr-fallback {display: none;}</style><div id=\"sk-container-id-2\" class=\"sk-top-container\"><div class=\"sk-text-repr-fallback\"><pre>RandomForestClassifier(random_state=42)</pre><b>In a Jupyter environment, please rerun this cell to show the HTML representation or trust the notebook. <br />On GitHub, the HTML representation is unable to render, please try loading this page with nbviewer.org.</b></div><div class=\"sk-container\" hidden><div class=\"sk-item\"><div class=\"sk-estimator sk-toggleable\"><input class=\"sk-toggleable__control sk-hidden--visually\" id=\"sk-estimator-id-2\" type=\"checkbox\" checked><label for=\"sk-estimator-id-2\" class=\"sk-toggleable__label sk-toggleable__label-arrow\">RandomForestClassifier</label><div class=\"sk-toggleable__content\"><pre>RandomForestClassifier(random_state=42)</pre></div></div></div></div></div>"
      ],
      "text/plain": [
       "RandomForestClassifier(random_state=42)"
      ]
     },
     "execution_count": 42,
     "metadata": {},
     "output_type": "execute_result"
    }
   ],
   "source": [
    "clf = RandomForestClassifier(n_estimators=100, random_state=42)\n",
    "clf.fit(X_train, y_train)"
   ]
  },
  {
   "cell_type": "code",
   "execution_count": 43,
   "metadata": {},
   "outputs": [
    {
     "name": "stdout",
     "output_type": "stream",
     "text": [
      "Validation Accuracy: 1.0000\n"
     ]
    }
   ],
   "source": [
    "y_pred = clf.predict(X_test)\n",
    "\n",
    "accuracy = accuracy_score(y_test, y_pred)\n",
    "print(f\"Validation Accuracy: {accuracy:.4f}\")"
   ]
  },
  {
   "cell_type": "code",
   "execution_count": null,
   "metadata": {},
   "outputs": [],
   "source": []
  }
 ],
 "metadata": {
  "kernelspec": {
   "display_name": "AiLab",
   "language": "python",
   "name": "python3"
  },
  "language_info": {
   "codemirror_mode": {
    "name": "ipython",
    "version": 3
   },
   "file_extension": ".py",
   "mimetype": "text/x-python",
   "name": "python",
   "nbconvert_exporter": "python",
   "pygments_lexer": "ipython3",
   "version": "3.8.19"
  }
 },
 "nbformat": 4,
 "nbformat_minor": 2
}
