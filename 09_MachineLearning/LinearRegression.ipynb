{
 "cells": [
  {
   "cell_type": "code",
   "execution_count": 1,
   "metadata": {},
   "outputs": [],
   "source": [
    "import numpy as np\n",
    "import pandas as pd\n",
    "import seaborn as sns\n",
    "import matplotlib.pyplot as plt\n",
    "\n",
    "from sklearn.datasets import load_diabetes\n",
    "from sklearn.metrics import mean_squared_error\n",
    "from sklearn.linear_model import LinearRegression\n",
    "from sklearn.model_selection import train_test_split"
   ]
  },
  {
   "cell_type": "code",
   "execution_count": 2,
   "metadata": {},
   "outputs": [
    {
     "name": "stdout",
     "output_type": "stream",
     "text": [
      ".. _diabetes_dataset:\n",
      "\n",
      "Diabetes dataset\n",
      "----------------\n",
      "\n",
      "Ten baseline variables, age, sex, body mass index, average blood\n",
      "pressure, and six blood serum measurements were obtained for each of n =\n",
      "442 diabetes patients, as well as the response of interest, a\n",
      "quantitative measure of disease progression one year after baseline.\n",
      "\n",
      "**Data Set Characteristics:**\n",
      "\n",
      ":Number of Instances: 442\n",
      "\n",
      ":Number of Attributes: First 10 columns are numeric predictive values\n",
      "\n",
      ":Target: Column 11 is a quantitative measure of disease progression one year after baseline\n",
      "\n",
      ":Attribute Information:\n",
      "    - age     age in years\n",
      "    - sex\n",
      "    - bmi     body mass index\n",
      "    - bp      average blood pressure\n",
      "    - s1      tc, total serum cholesterol\n",
      "    - s2      ldl, low-density lipoproteins\n",
      "    - s3      hdl, high-density lipoproteins\n",
      "    - s4      tch, total cholesterol / HDL\n",
      "    - s5      ltg, possibly log of serum triglycerides level\n",
      "    - s6      glu, blood sugar level\n",
      "\n",
      "Note: Each of these 10 feature variables have been mean centered and scaled by the standard deviation times the square root of `n_samples` (i.e. the sum of squares of each column totals 1).\n",
      "\n",
      "Source URL:\n",
      "https://www4.stat.ncsu.edu/~boos/var.select/diabetes.html\n",
      "\n",
      "For more information see:\n",
      "Bradley Efron, Trevor Hastie, Iain Johnstone and Robert Tibshirani (2004) \"Least Angle Regression,\" Annals of Statistics (with discussion), 407-499.\n",
      "(https://web.stanford.edu/~hastie/Papers/LARS/LeastAngle_2002.pdf)\n",
      "\n"
     ]
    }
   ],
   "source": [
    "# 당뇨병 데이터셋을 로드\n",
    "diabetes = load_diabetes(scaled=False)\n",
    "\n",
    "# 데이터셋의 \"설명\"(description)섹션 확인\n",
    "print(diabetes[\"DESCR\"])"
   ]
  },
  {
   "cell_type": "markdown",
   "metadata": {},
   "source": [
    "### 1-2. 데이터셋의 전처리\n",
    "> 모델이 데이터셋을 잘 학습하도록 전처리를 적용합니다.\n",
    "\n",
    "#### 📝 설명 : 데이터셋의 전처리\n",
    "\n",
    "이 데이터셋은 기본적으로 각 column마다 샘플을 **전부 더했을 때** 표준편차가 1이 되도록 정규화를\n",
    "해주는 `scaled` 옵션이 설정되어있지만, 이는 일반적으로 사용되는 방식과 다르므로 위에서\n",
    "`scaled=False`로 설정해 데이터를 스케일 조정 없이 원본 데이터를 받아왔습니다.\n",
    "여기에서 평균, 표준편차가 각각 0, 1이 되도록 만드는 표준화(Standardization) 방식의 전처리를 별도로 진행해주겠습니다.\n",
    "\n",
    "\n",
    "#### 👨‍💻 코드 : 데이터셋 전처리 적용\n",
    "- 인풋 데이터를 pandas의 `DataFrame` 오브젝트로 변환\n",
    "- 인풋 데이터에 표준화 전처리 적용\n",
    "- 목표값에도 같은 방식으로 전처리 적용"
   ]
  },
  {
   "cell_type": "code",
   "execution_count": 3,
   "metadata": {},
   "outputs": [
    {
     "data": {
      "text/html": [
       "<div>\n",
       "<style scoped>\n",
       "    .dataframe tbody tr th:only-of-type {\n",
       "        vertical-align: middle;\n",
       "    }\n",
       "\n",
       "    .dataframe tbody tr th {\n",
       "        vertical-align: top;\n",
       "    }\n",
       "\n",
       "    .dataframe thead th {\n",
       "        text-align: right;\n",
       "    }\n",
       "</style>\n",
       "<table border=\"1\" class=\"dataframe\">\n",
       "  <thead>\n",
       "    <tr style=\"text-align: right;\">\n",
       "      <th></th>\n",
       "      <th>age</th>\n",
       "      <th>sex</th>\n",
       "      <th>bmi</th>\n",
       "      <th>bp</th>\n",
       "      <th>s1</th>\n",
       "      <th>s2</th>\n",
       "      <th>s3</th>\n",
       "      <th>s4</th>\n",
       "      <th>s5</th>\n",
       "      <th>s6</th>\n",
       "    </tr>\n",
       "  </thead>\n",
       "  <tbody>\n",
       "    <tr>\n",
       "      <th>count</th>\n",
       "      <td>4.420000e+02</td>\n",
       "      <td>4.420000e+02</td>\n",
       "      <td>4.420000e+02</td>\n",
       "      <td>4.420000e+02</td>\n",
       "      <td>4.420000e+02</td>\n",
       "      <td>4.420000e+02</td>\n",
       "      <td>4.420000e+02</td>\n",
       "      <td>4.420000e+02</td>\n",
       "      <td>4.420000e+02</td>\n",
       "      <td>4.420000e+02</td>\n",
       "    </tr>\n",
       "    <tr>\n",
       "      <th>mean</th>\n",
       "      <td>8.037814e-18</td>\n",
       "      <td>2.170210e-16</td>\n",
       "      <td>-4.694083e-15</td>\n",
       "      <td>-1.016783e-15</td>\n",
       "      <td>-3.134747e-16</td>\n",
       "      <td>8.278948e-16</td>\n",
       "      <td>-1.286050e-16</td>\n",
       "      <td>-1.527185e-16</td>\n",
       "      <td>1.941132e-15</td>\n",
       "      <td>2.210399e-16</td>\n",
       "    </tr>\n",
       "    <tr>\n",
       "      <th>std</th>\n",
       "      <td>1.000000e+00</td>\n",
       "      <td>1.000000e+00</td>\n",
       "      <td>1.000000e+00</td>\n",
       "      <td>1.000000e+00</td>\n",
       "      <td>1.000000e+00</td>\n",
       "      <td>1.000000e+00</td>\n",
       "      <td>1.000000e+00</td>\n",
       "      <td>1.000000e+00</td>\n",
       "      <td>1.000000e+00</td>\n",
       "      <td>1.000000e+00</td>\n",
       "    </tr>\n",
       "    <tr>\n",
       "      <th>min</th>\n",
       "      <td>-2.251738e+00</td>\n",
       "      <td>-9.374744e-01</td>\n",
       "      <td>-1.895781e+00</td>\n",
       "      <td>-2.360375e+00</td>\n",
       "      <td>-2.662394e+00</td>\n",
       "      <td>-2.427874e+00</td>\n",
       "      <td>-2.148448e+00</td>\n",
       "      <td>-1.604285e+00</td>\n",
       "      <td>-2.648040e+00</td>\n",
       "      <td>-2.893112e+00</td>\n",
       "    </tr>\n",
       "    <tr>\n",
       "      <th>25%</th>\n",
       "      <td>-7.832846e-01</td>\n",
       "      <td>-9.374744e-01</td>\n",
       "      <td>-7.188104e-01</td>\n",
       "      <td>-7.697777e-01</td>\n",
       "      <td>-7.192046e-01</td>\n",
       "      <td>-6.375263e-01</td>\n",
       "      <td>-7.374604e-01</td>\n",
       "      <td>-8.293610e-01</td>\n",
       "      <td>-6.981574e-01</td>\n",
       "      <td>-6.967595e-01</td>\n",
       "    </tr>\n",
       "    <tr>\n",
       "      <th>50%</th>\n",
       "      <td>1.130443e-01</td>\n",
       "      <td>-9.374744e-01</td>\n",
       "      <td>-1.529591e-01</td>\n",
       "      <td>-1.190789e-01</td>\n",
       "      <td>-9.073818e-02</td>\n",
       "      <td>-8.020037e-02</td>\n",
       "      <td>-1.382738e-01</td>\n",
       "      <td>-5.443750e-02</td>\n",
       "      <td>-4.089059e-02</td>\n",
       "      <td>-2.263165e-02</td>\n",
       "    </tr>\n",
       "    <tr>\n",
       "      <th>75%</th>\n",
       "      <td>7.995940e-01</td>\n",
       "      <td>1.064282e+00</td>\n",
       "      <td>6.562083e-01</td>\n",
       "      <td>7.485196e-01</td>\n",
       "      <td>5.955183e-01</td>\n",
       "      <td>6.267323e-01</td>\n",
       "      <td>6.155415e-01</td>\n",
       "      <td>7.204860e-01</td>\n",
       "      <td>6.810788e-01</td>\n",
       "      <td>5.862581e-01</td>\n",
       "    </tr>\n",
       "    <tr>\n",
       "      <th>max</th>\n",
       "      <td>2.325260e+00</td>\n",
       "      <td>1.064282e+00</td>\n",
       "      <td>3.581660e+00</td>\n",
       "      <td>2.772916e+00</td>\n",
       "      <td>3.232188e+00</td>\n",
       "      <td>4.174548e+00</td>\n",
       "      <td>3.804760e+00</td>\n",
       "      <td>3.889923e+00</td>\n",
       "      <td>2.805543e+00</td>\n",
       "      <td>2.847848e+00</td>\n",
       "    </tr>\n",
       "  </tbody>\n",
       "</table>\n",
       "</div>"
      ],
      "text/plain": [
       "                age           sex           bmi            bp            s1  \\\n",
       "count  4.420000e+02  4.420000e+02  4.420000e+02  4.420000e+02  4.420000e+02   \n",
       "mean   8.037814e-18  2.170210e-16 -4.694083e-15 -1.016783e-15 -3.134747e-16   \n",
       "std    1.000000e+00  1.000000e+00  1.000000e+00  1.000000e+00  1.000000e+00   \n",
       "min   -2.251738e+00 -9.374744e-01 -1.895781e+00 -2.360375e+00 -2.662394e+00   \n",
       "25%   -7.832846e-01 -9.374744e-01 -7.188104e-01 -7.697777e-01 -7.192046e-01   \n",
       "50%    1.130443e-01 -9.374744e-01 -1.529591e-01 -1.190789e-01 -9.073818e-02   \n",
       "75%    7.995940e-01  1.064282e+00  6.562083e-01  7.485196e-01  5.955183e-01   \n",
       "max    2.325260e+00  1.064282e+00  3.581660e+00  2.772916e+00  3.232188e+00   \n",
       "\n",
       "                 s2            s3            s4            s5            s6  \n",
       "count  4.420000e+02  4.420000e+02  4.420000e+02  4.420000e+02  4.420000e+02  \n",
       "mean   8.278948e-16 -1.286050e-16 -1.527185e-16  1.941132e-15  2.210399e-16  \n",
       "std    1.000000e+00  1.000000e+00  1.000000e+00  1.000000e+00  1.000000e+00  \n",
       "min   -2.427874e+00 -2.148448e+00 -1.604285e+00 -2.648040e+00 -2.893112e+00  \n",
       "25%   -6.375263e-01 -7.374604e-01 -8.293610e-01 -6.981574e-01 -6.967595e-01  \n",
       "50%   -8.020037e-02 -1.382738e-01 -5.443750e-02 -4.089059e-02 -2.263165e-02  \n",
       "75%    6.267323e-01  6.155415e-01  7.204860e-01  6.810788e-01  5.862581e-01  \n",
       "max    4.174548e+00  3.804760e+00  3.889923e+00  2.805543e+00  2.847848e+00  "
      ]
     },
     "execution_count": 3,
     "metadata": {},
     "output_type": "execute_result"
    }
   ],
   "source": [
    "# 분석에 필요한 정보만 가져온 후, pandas 데이터프레임으로 변환\n",
    "data = diabetes[\"data\"]\n",
    "data = pd.DataFrame(data, columns=diabetes[\"feature_names\"])\n",
    "\n",
    "# Standardization 방식의 전처리 적용을 위해 feature별 평균값, 표준편차를 계산\n",
    "fts_mean = data.mean(axis=0)\n",
    "fts_std = data.std(axis=0)\n",
    "\n",
    "# 평균이 0, 표준편차가 1이 되도록 표준화\n",
    "data = (data - fts_mean) / fts_std\n",
    "\n",
    "# 결과 확인. 모든 변수가 평균 0, 표준편차 1로 조정된 것을 확인합니다.\n",
    "data.describe()"
   ]
  },
  {
   "cell_type": "code",
   "execution_count": 4,
   "metadata": {},
   "outputs": [
    {
     "name": "stdout",
     "output_type": "stream",
     "text": [
      "(442,)\n",
      "Original target values:  [151.  75. 141. 206. 135.  97. 138.  63. 110. 310.]\n",
      "Scaled target values:  [-0.01471948 -1.00165882 -0.14457991  0.69951294 -0.22249618 -0.71596585\n",
      " -0.18353805 -1.15749134 -0.54714728  2.05006151]\n",
      "Mean: -1.687940888117885e-16, Std: 1.0\n"
     ]
    }
   ],
   "source": [
    "target = diabetes[\"target\"]\n",
    "# target 변수의 모양 확인\n",
    "print(target.shape)\n",
    "\n",
    "# 처음 10개 값들만 뽑아서 확인\n",
    "print(\"Original target values: \", target[:10])\n",
    "\n",
    "# target의 평균값, 표준편차를 계산\n",
    "tgt_mean = target.mean()\n",
    "tgt_std = target.std()\n",
    "\n",
    "# 표준화 적용\n",
    "target = (target - tgt_mean) / tgt_std\n",
    "\n",
    "# 결과 확인\n",
    "print(\"Scaled target values: \", target[:10])\n",
    "print(f\"Mean: {target.mean()}, Std: {target.std()}\")"
   ]
  },
  {
   "cell_type": "markdown",
   "metadata": {},
   "source": [
    "\n",
    "#### 👨‍💻 코드 : 데이터셋 분할\n",
    "\n",
    "- Scikit learn에서 제공하는 `train_test_split` 함수를 활용\n",
    "- 전체 데이터셋을 7:3비율로 분할해 학습용, 평가용으로 나눔."
   ]
  },
  {
   "cell_type": "code",
   "execution_count": 6,
   "metadata": {},
   "outputs": [
    {
     "name": "stdout",
     "output_type": "stream",
     "text": [
      "train data: (309, 10)\n",
      "train target: (309,)\n",
      "test data: (133, 10)\n",
      "test target: (133,)\n"
     ]
    }
   ],
   "source": [
    "# 재현성을 위해 random state를 지정\n",
    "random_state = 1234\n",
    "\n",
    "# train과 test를 7:3의 비율로 분할\n",
    "train_data, test_data, train_target, test_target = train_test_split(data, target, test_size=0.3, random_state=random_state)\n",
    "\n",
    "# 분할이 잘 이뤄졌는지 확인\n",
    "print(f\"train data: {train_data.shape}\")\n",
    "print(f\"train target: {train_target.shape}\")\n",
    "print(f\"test data: {test_data.shape}\")\n",
    "print(f\"test target: {test_target.shape}\")"
   ]
  },
  {
   "cell_type": "markdown",
   "metadata": {},
   "source": [
    "## 2. 선형회귀 모델의 학습\n",
    "```\n",
    "💡 목차 개요 : 전처리가 완료된 데이터를 이용해 선형회귀 모델을 학습하는 방법을 실습합니다.\n",
    "```\n",
    "\n",
    "\n",
    "\n",
    "### 2-1 사이킷런을 활용한 선형회귀 모델 학습\n",
    "> Scikit learn 패키지에 포함된 `LinearRegression`클래스를 활용해 선형회귀 모델을 학습하고,\n",
    "그 결과를 확인해봅니다.\n",
    "\n",
    "\n",
    "\n",
    "#### 👨‍💻 코드 : 사이킷런을 활용한 다중선형회귀모델 학습\n",
    "- scikit learn패키지에 포함된 `LinearRegression`모델을 불러와 초기화\n",
    "- 학습용 데이터셋을 이용해 학습\n",
    "- 학습 결과로 나온 회귀식을 확인"
   ]
  },
  {
   "cell_type": "code",
   "execution_count": 7,
   "metadata": {},
   "outputs": [
    {
     "name": "stdout",
     "output_type": "stream",
     "text": [
      "intercept:  0.0032051491826457145\n",
      "coefficients:  [-0.01527643 -0.17349446  0.32617627  0.19694471 -0.43681934  0.25497509\n",
      "  0.04320066  0.10606027  0.46579857  0.04794608]\n"
     ]
    }
   ],
   "source": [
    "# (다중) 선형회귀모델 초기화\n",
    "multi_regressor = LinearRegression()\n",
    "\n",
    "# 학습용 데이터셋을 활용해 학습 진행\n",
    "multi_regressor.fit(train_data, train_target)\n",
    "\n",
    "# 회귀식의 intercept(Ax+b에서 b부분) 확인\n",
    "# 데이터을 평균이 0이 되도록 전처리했으므로 0에 가까운 값이 나온다.\n",
    "print(\"intercept: \", multi_regressor.intercept_)\n",
    "# 학습된 회귀식 확인\n",
    "print(\"coefficients: \", multi_regressor.coef_)"
   ]
  },
  {
   "cell_type": "markdown",
   "metadata": {},
   "source": [
    "\n",
    "#### 👨‍💻 코드 : 다중선형회귀모델 학습의 결과 확인\n",
    "- 학습용, 평가용 데이터셋에서 모델의 예측값 계산\n",
    "- 계산된 예측값을 목표값과 비교해 MSE손실함수값을 확인"
   ]
  },
  {
   "cell_type": "code",
   "execution_count": 8,
   "metadata": {},
   "outputs": [
    {
     "name": "stdout",
     "output_type": "stream",
     "text": [
      "Train MSE: 0.48483\n",
      "Test MSE: 0.48035\n"
     ]
    }
   ],
   "source": [
    "# 학습, 평가 데이터셋에서 회귀식의 예측값 계산\n",
    "multi_train_pred = multi_regressor.predict(train_data)\n",
    "multi_test_pred = multi_regressor.predict(test_data)\n",
    "\n",
    "# 위의 예측값을 목표값과 비교해 MSE 손실함수의 값 계산\n",
    "multi_train_mse = mean_squared_error(multi_train_pred, train_target)\n",
    "multi_test_mse = mean_squared_error(multi_test_pred, test_target)\n",
    "print(f\"Train MSE: {multi_train_mse:.5f}\")\n",
    "print(f\"Test MSE: {multi_test_mse:.5f}\")"
   ]
  },
  {
   "cell_type": "code",
   "execution_count": 9,
   "metadata": {},
   "outputs": [
    {
     "data": {
      "image/png": "[encoded data removed]",
      "text/plain": [
       "<Figure size 400x400 with 1 Axes>"
      ]
     },
     "metadata": {},
     "output_type": "display_data"
    }
   ],
   "source": [
    "plt.figure(figsize=(4, 4))\n",
    "\n",
    "plt.xlabel(\"target\")\n",
    "plt.ylabel(\"prediction\")\n",
    "# 테스트셋의 목표값(x축)과 모델의 예측값(y축)을 산점도로 도식화\n",
    "y_pred = multi_regressor.predict(test_data)\n",
    "plt.plot(test_target, y_pred, '.')\n",
    "\n",
    "# y = x 직선을 플롯. 이 직선에 가까운 점일수록 정확한 예측이다.\n",
    "x = np.linspace(-2.5, 2.5, 10)\n",
    "y = x\n",
    "plt.plot(x, y)\n",
    "\n",
    "plt.show()"
   ]
  },
  {
   "cell_type": "markdown",
   "metadata": {},
   "source": [
    "#### 📝 설명 : 선형회귀의 해석적 해법\n",
    "\n",
    "위에서는 사이킷런 패키지에 포함된 선형회귀모델의 클래스를 호출해 학습해보았지만, 최소제곱 손실함수를 사용하는 선형회귀모델의 경우, $\\theta=(X^TX)^{-1}X^Ty$ 이라는 해석적 해법(Analytical Solution)이 알려져 있기 때문에, numpy만을 사용해서도 파라미터를 어렵지않게\n",
    "구해볼 수 있습니다.\n",
    "\n",
    "#### 👨‍💻 코드 : 해석적 해법을 사용한 파라미터 계산\n",
    "\n",
    "- 위의 공식을 Ax=b 형태로 변환 후 numpy를 이용해 solve\n",
    "- 결과를 위에서 계산한 값과 비교\n",
    "\n"
   ]
  },
  {
   "cell_type": "code",
   "execution_count": 10,
   "metadata": {},
   "outputs": [
    {
     "name": "stdout",
     "output_type": "stream",
     "text": [
      "Multi Regression Train MSE is 0.48484\n",
      "Multi Regression Test MSE is 0.48031\n"
     ]
    }
   ],
   "source": [
    "# 위의 식을 일반적인 linear equation인 Ax=b 형태로 변형\n",
    "A = train_data.T @ train_data\n",
    "b = train_data.T @ train_target\n",
    "\n",
    "# numpy를 활용해 linear equation 풀기\n",
    "coef = np.linalg.solve(A, b)\n",
    "\n",
    "# 학습된 parameter를 이용해 예측값을 내놓는 함수를 정의\n",
    "def predict(data, coef):\n",
    "    return data @ coef\n",
    "\n",
    "# 학습, 평가 데이터셋에서 회귀식의 예측값 계산\n",
    "train_pred = predict(train_data, coef)\n",
    "test_pred = predict(test_data, coef)\n",
    "\n",
    "# 위의 예측값을 목표값과 비교해 MSE 손실함수의 값 계산\n",
    "train_mse = mean_squared_error(train_pred, train_target)\n",
    "test_mse = mean_squared_error(test_pred, test_target)\n",
    "\n",
    "print(f\"Multi Regression Train MSE is {train_mse:.5f}\")\n",
    "print(f\"Multi Regression Test MSE is {test_mse:.5f}\")\n"
   ]
  },
  {
   "cell_type": "code",
   "execution_count": 11,
   "metadata": {},
   "outputs": [
    {
     "name": "stdout",
     "output_type": "stream",
     "text": [
      "[-0.01527643 -0.17349446  0.32617627  0.19694471 -0.43681934  0.25497509\n",
      "  0.04320066  0.10606027  0.46579857  0.04794608]\n",
      "[-0.01525589 -0.17358803  0.3260196   0.19691551 -0.43690798  0.2551445\n",
      "  0.04317958  0.10602557  0.46595566  0.04789441]\n"
     ]
    }
   ],
   "source": [
    "# scikit-learn 패키지를 활용한 학습 결과\n",
    "print(multi_regressor.coef_)\n",
    "# 해석적 해법을 이용해 직접 계산한 학습 결과\n",
    "print(coef)"
   ]
  },
  {
   "cell_type": "markdown",
   "metadata": {},
   "source": [
    "## 3. 단순선형회귀와 상관관계 분석\n",
    "```\n",
    "데이터셋의 탐색 단계에서 자주 활용되는 상관행렬의 시각화를 진행해봅니다.\n",
    "```\n",
    "\n",
    "### 3-1. 상관계수와 상관행렬\n",
    "\n",
    "상관계수는 두 변수 x, y 사이의 상관관계의 강도를 나타내는 수치로, 두 변수 사이의 단순선형회귀분석이\n",
    "얼마나 효과적일지를 나타내는 것으로도 해석할 수 있습니다.\n",
    "\n",
    "- 항상 -1 에서 1 범위의 값으로 나타나며,\n",
    "- 절대값의 크기는 직선관계에 가까운 정도를,\n",
    "- 부호는 직선관계의 방향을 나타냅니다.\n",
    "\n",
    "![상관관계 예시](https://upload.wikimedia.org/wikipedia/commons/thumb/d/d4/Correlation_examples2.svg/2880px-Correlation_examples2.svg.png)\n",
    "\n",
    "    출처 :  https://ko.wikipedia.org/wiki/%EC%83%81%EA%B4%80_%EB%B6%84%EC%84%9D#/media/%ED%8C%8C%EC%9D%BC:Correlation_examples2.svg\n"
   ]
  },
  {
   "cell_type": "code",
   "execution_count": 12,
   "metadata": {},
   "outputs": [
    {
     "data": {
      "image/png": "[encoded data removed]",
      "text/plain": [
       "<Figure size 1300x1000 with 2 Axes>"
      ]
     },
     "metadata": {},
     "output_type": "display_data"
    }
   ],
   "source": [
    "# 데이터의 상관계수 행렬을 생성\n",
    "corr = data.corr(numeric_only=True)\n",
    "\n",
    "# figure에서 생략될 부분을 지정하는 mask 행렬을 생성\n",
    "mask = np.ones_like(corr, dtype=bool)\n",
    "mask = np.triu(mask)\n",
    "\n",
    "# 시각화될 그림의 크기를 지정\n",
    "# 히트맵 형태로 상관행렬 시각화하기\n",
    "plt.figure(figsize=(13,10))\n",
    "sns.heatmap(data=corr, annot=True, fmt='.2f', mask=mask, linewidths=.5, cmap='RdYlBu_r')\n",
    "plt.title('Correlation Matrix')\n",
    "plt.show()"
   ]
  },
  {
   "cell_type": "code",
   "execution_count": 13,
   "metadata": {},
   "outputs": [
    {
     "name": "stdout",
     "output_type": "stream",
     "text": [
      "[[-0.19645512]]\n"
     ]
    }
   ],
   "source": [
    "# 단순선형회귀분석을 진행할 두 변수를 선정\n",
    "x_feature = \"s3\"\n",
    "y_feature = \"s2\"\n",
    "\n",
    "# 모델 초기화 및 학습\n",
    "simple_regressor = LinearRegression()\n",
    "simple_regressor.fit(data[[x_feature]], data[[y_feature]])\n",
    "\n",
    "# 결과 회귀계수 확인\n",
    "coef = simple_regressor.coef_\n",
    "print(coef)"
   ]
  },
  {
   "cell_type": "markdown",
   "metadata": {},
   "source": [
    "#### 📝 설명 : 상관계수와 회귀계수\n",
    "\n",
    "위에서 단순선형회귀분석을 진행한 결과, 회귀계수의 값이 두 변수의 상관계수와 매우 비슷한 값이 나왔는데,\n",
    "이는 우연히 그렇게 된 것이 아닙니다. 위의 전처리 파트에서 진행한것과 같이 각 변수들에 대해 평균이 0,\n",
    "표준편차가 1이 되도록 표준화 전처리를 진행해준 경우 항상 이렇게 단순선형회귀의 계수는 상관계수와 같은\n",
    "값이 나오게 됩니다.\n",
    "\n",
    "\n",
    "#### 📚 자료\n",
    "\n",
    "*  [결정계수와 상관계수의 관계에 대한 증명](https://statproofbook.github.io/P/slr-rsq.html) :\n",
    "어떻게 위와 같은 결과가 나오는지 증명 과정이 궁금하시다면, 이 링크의 글을 참조하세요.\n",
    "\n"
   ]
  },
  {
   "cell_type": "code",
   "execution_count": 14,
   "metadata": {},
   "outputs": [
    {
     "data": {
      "image/png": "[encoded data removed]",
      "text/plain": [
       "<Figure size 400x400 with 1 Axes>"
      ]
     },
     "metadata": {},
     "output_type": "display_data"
    }
   ],
   "source": [
    "# 원본 데이터변수를 산점도로 시각화\n",
    "plt.figure(figsize=(4, 4))\n",
    "plt.xlabel(x_feature)\n",
    "plt.ylabel(y_feature)\n",
    "plt.plot(data[[x_feature]], data[[y_feature]], \".\")\n",
    "\n",
    "# 전체 데이터를 도식화 할 x값 범위를 설정\n",
    "x_min, x_max = -5, 5\n",
    "plt.xlim(x_min, x_max)\n",
    "\n",
    "# 회귀 직선식을 플롯\n",
    "x = np.linspace(x_min, x_max, 10)\n",
    "y = coef.item() * x  # item() 함수는 원소가 1개인 array를 단순 scalar로 변환할 때 사용\n",
    "plt.plot(x, y)\n",
    "\n",
    "plt.show()"
   ]
  },
  {
   "cell_type": "code",
   "execution_count": null,
   "metadata": {},
   "outputs": [],
   "source": []
  }
 ],
 "metadata": {
  "kernelspec": {
   "display_name": "DL",
   "language": "python",
   "name": "python3"
  },
  "language_info": {
   "codemirror_mode": {
    "name": "ipython",
    "version": 3
   },
   "file_extension": ".py",
   "mimetype": "text/x-python",
   "name": "python",
   "nbconvert_exporter": "python",
   "pygments_lexer": "ipython3",
   "version": "3.9.19"
  }
 },
 "nbformat": 4,
 "nbformat_minor": 2
}
