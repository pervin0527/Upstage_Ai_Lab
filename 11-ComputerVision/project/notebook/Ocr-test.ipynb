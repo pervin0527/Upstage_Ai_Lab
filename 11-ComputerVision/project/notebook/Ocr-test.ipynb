{
 "cells": [
  {
   "cell_type": "code",
   "execution_count": 1,
   "metadata": {},
   "outputs": [],
   "source": [
    "import cv2\n",
    "import easyocr\n",
    "import pytesseract\n",
    "import matplotlib.pyplot as plt"
   ]
  },
  {
   "cell_type": "code",
   "execution_count": 2,
   "metadata": {},
   "outputs": [],
   "source": [
    "image_path = \"/home/pervinco/upstage-cv-classification-cv7/notebook/deskewed.jpg\"\n",
    "image = cv2.imread(image_path)"
   ]
  },
  {
   "cell_type": "code",
   "execution_count": 3,
   "metadata": {},
   "outputs": [
    {
     "name": "stdout",
     "output_type": "stream",
     "text": [
      "  은 나 어오로\n",
      "고 개 :  :  \"2\n",
      "뿌우       ｌ\n",
      "을 그:        그.\n",
      "! |:       11 도\n",
      "로       :].] 뜨\n",
      "대 도 다 =\n",
      "을       |  때\n",
      "1 품 ㅣ 호\n",
      "1        3\n",
      "         울\n",
      "\f\n"
     ]
    }
   ],
   "source": [
    "rgb_image = cv2.cvtColor(image, cv2.COLOR_BGR2RGB)\n",
    "\n",
    "custom_config = r'--oem 3 --psm 6 -l kor'\n",
    "text = pytesseract.image_to_string(rgb_image, config=custom_config)\n",
    "\n",
    "print(text)"
   ]
  },
  {
   "cell_type": "code",
   "execution_count": 5,
   "metadata": {},
   "outputs": [
    {
     "name": "stdout",
     "output_type": "stream",
     "text": [
      "([[94, 134], [102, 134], [102, 174], [94, 174]], \"'\", 0.9074861696814516)\n",
      "([[91, 199], [103, 199], [103, 229], [91, 229]], '@', 0.014919112746645036)\n",
      "([[491, 155], [509, 155], [509, 273], [491, 273]], \"'\", 0.13263119573445525)\n",
      "([[91, 229], [107, 229], [107, 271], [91, 271]], '올', 0.2249709757121856)\n"
     ]
    },
    {
     "ename": "",
     "evalue": "",
     "output_type": "error",
     "traceback": [
      "\u001b[1;31m현재 셀 또는 이전 셀에서 코드를 실행하는 동안 Kernel이 충돌했습니다. \n",
      "\u001b[1;31m셀의 코드를 검토하여 가능한 오류 원인을 식별하세요. \n",
      "\u001b[1;31m자세한 내용을 보려면 <a href='https://aka.ms/vscodeJupyterKernelCrash'>여기</a>를 클릭하세요. \n",
      "\u001b[1;31m자세한 내용은 Jupyter <a href='command:jupyter.viewOutput'>로그</a>를 참조하세요."
     ]
    }
   ],
   "source": [
    "reader = easyocr.Reader(['ko']) # this needs to run only once to load the model into memory\n",
    "result = reader.readtext(image)\n",
    "\n",
    "for r in result:\n",
    "    print(r)"
   ]
  },
  {
   "cell_type": "code",
   "execution_count": null,
   "metadata": {},
   "outputs": [],
   "source": []
  }
 ],
 "metadata": {
  "kernelspec": {
   "display_name": "cls-project",
   "language": "python",
   "name": "python3"
  },
  "language_info": {
   "codemirror_mode": {
    "name": "ipython",
    "version": 3
   },
   "file_extension": ".py",
   "mimetype": "text/x-python",
   "name": "python",
   "nbconvert_exporter": "python",
   "pygments_lexer": "ipython3",
   "version": "3.9.19"
  }
 },
 "nbformat": 4,
 "nbformat_minor": 2
}
