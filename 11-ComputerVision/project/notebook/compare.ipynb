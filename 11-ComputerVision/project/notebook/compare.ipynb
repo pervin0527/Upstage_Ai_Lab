{
 "cells": [
  {
   "cell_type": "code",
   "execution_count": 1,
   "metadata": {},
   "outputs": [],
   "source": [
    "import os\n",
    "import torch\n",
    "import shutil\n",
    "import pandas as pd\n",
    "import matplotlib.pyplot as plt\n",
    "\n",
    "from sklearn.metrics import f1_score, accuracy_score"
   ]
  },
  {
   "cell_type": "code",
   "execution_count": 2,
   "metadata": {},
   "outputs": [],
   "source": [
    "base_path = '/home/pervinco/upstage-cv-classification-cv7'\n",
    "weight_path = f'{base_path}/runs/best_9622'\n",
    "submission_path = f\"{weight_path}/preds/ocr_submission.csv\"\n",
    "\n",
    "dataset_path = f'{base_path}/dataset/valid_dataset.csv'\n",
    "incorrect_path = f'{weight_path}/incorrect'"
   ]
  },
  {
   "cell_type": "code",
   "execution_count": 3,
   "metadata": {},
   "outputs": [],
   "source": [
    "valid_df = pd.read_csv(dataset_path)\n",
    "submission_df = pd.read_csv(submission_path)"
   ]
  },
  {
   "cell_type": "code",
   "execution_count": 4,
   "metadata": {},
   "outputs": [],
   "source": [
    "if os.path.exists(incorrect_path):\n",
    "    shutil.rmtree(incorrect_path)\n",
    "os.makedirs(incorrect_path)"
   ]
  },
  {
   "cell_type": "code",
   "execution_count": 5,
   "metadata": {},
   "outputs": [
    {
     "data": {
      "text/plain": [
       "<Figure size 1000x600 with 0 Axes>"
      ]
     },
     "metadata": {},
     "output_type": "display_data"
    }
   ],
   "source": [
    "# 예측 결과 비교 및 틀린 이미지 저장\n",
    "valid_df['correct'] = valid_df['target'] == submission_df['target']\n",
    "incorrect_images = valid_df[~valid_df['correct']]\n",
    "\n",
    "for _, row in incorrect_images.iterrows():\n",
    "    src_path = f\"{base_path}/dataset/test/{row['ID']}\"\n",
    "    predicted_class = submission_df.loc[submission_df['ID'] == row['ID'], 'target'].values[0]\n",
    "    dst_filename = f\"pred{predicted_class}_gt{row['target']}_{row['ID']}\"\n",
    "    dst_path = os.path.join(incorrect_path, dst_filename)\n",
    "    shutil.copy(src_path, dst_path)\n",
    "\n",
    "# 클래스별 맞춘 개수와 틀린 개수 집계\n",
    "results = valid_df.groupby('target')['correct'].value_counts().unstack().fillna(0)\n",
    "results.columns = ['Incorrect', 'Correct']\n",
    "\n",
    "# 클래스별 맞춘 개수와 틀린 개수 시각화\n",
    "plt.figure(figsize=(10, 6))\n",
    "results.plot(kind='bar', stacked=True)\n",
    "plt.title('Number of Correct and Incorrect Predictions per Class')\n",
    "plt.xlabel('Class')\n",
    "plt.ylabel('Number of Predictions')\n",
    "plt.legend(title='Prediction')\n",
    "plt.xticks(rotation=45)\n",
    "plt.tight_layout()\n",
    "plt.savefig(os.path.join(weight_path, 'class_prediction_results.png'))\n",
    "plt.close()"
   ]
  },
  {
   "cell_type": "code",
   "execution_count": 6,
   "metadata": {},
   "outputs": [
    {
     "name": "stdout",
     "output_type": "stream",
     "text": [
      "각 클래스별 맞춘 개수, 틀린 개수 및 정확도:\n",
      "        correct_count  incorrect_count  total_count  accuracy\n",
      "target                                                       \n",
      "0                 196                5          201  0.975124\n",
      "1                  88                1           89  0.988764\n",
      "2                 200                0          200  1.000000\n",
      "3                 167               30          197  0.847716\n",
      "4                 185               15          200  0.925000\n",
      "5                 200                0          200  1.000000\n",
      "6                 193                7          200  0.965000\n",
      "7                 177               22          199  0.889447\n",
      "8                 200                0          200  1.000000\n",
      "9                 200                0          200  1.000000\n",
      "10                197                4          201  0.980100\n",
      "11                193                5          198  0.974747\n",
      "12                194                6          200  0.970000\n",
      "13                142               12          154  0.922078\n",
      "14                 85               16          101  0.841584\n",
      "15                200                0          200  1.000000\n",
      "16                200                0          200  1.000000\n",
      "\n",
      "전체 정확도: 0.9608\n",
      "F1 매크로 점수: 0.9586\n"
     ]
    }
   ],
   "source": [
    "# 클래스별 상세 통계\n",
    "results_detailed = valid_df.groupby('target').agg(\n",
    "    correct_count=('correct', 'sum'),\n",
    "    incorrect_count=('correct', lambda x: len(x) - x.sum()),\n",
    "    total_count=('correct', 'count')\n",
    ")\n",
    "results_detailed['accuracy'] = results_detailed['correct_count'] / results_detailed['total_count']\n",
    "\n",
    "# 전체 정확도 및 F1 점수 계산\n",
    "overall_accuracy = accuracy_score(valid_df['target'], submission_df['target'])\n",
    "f1_macro = f1_score(valid_df['target'], submission_df['target'], average='macro')\n",
    "\n",
    "# 결과 출력\n",
    "print(\"각 클래스별 맞춘 개수, 틀린 개수 및 정확도:\")\n",
    "print(results_detailed)\n",
    "print(f\"\\n전체 정확도: {overall_accuracy:.4f}\")\n",
    "print(f\"F1 매크로 점수: {f1_macro:.4f}\")"
   ]
  },
  {
   "cell_type": "code",
   "execution_count": 7,
   "metadata": {},
   "outputs": [],
   "source": [
    "# 결과를 CSV 파일로 저장\n",
    "results_detailed.to_csv(os.path.join(weight_path, 'class_prediction_stats.csv'))"
   ]
  },
  {
   "cell_type": "code",
   "execution_count": 8,
   "metadata": {},
   "outputs": [
    {
     "name": "stdout",
     "output_type": "stream",
     "text": [
      "클래스별 가중치:\n",
      "tensor([0.0345, 0.0156, 0.2199, 0.2114, 0.1041, 0.2199, 0.0486, 0.1535, 0.2199,\n",
      "        0.2199, 0.0276, 0.0351, 0.0416, 0.1082, 0.2199, 0.2199, 0.2199])\n"
     ]
    }
   ],
   "source": [
    "# 정답과 예측 비교하여 오답률 계산\n",
    "valid_df['correct'] = valid_df['target'] == submission_df['target']\n",
    "class_counts = valid_df['target'].value_counts()\n",
    "incorrect_counts = valid_df[~valid_df['correct']]['target'].value_counts()\n",
    "\n",
    "# 오답률 계산\n",
    "incorrect_rates = incorrect_counts / class_counts\n",
    "incorrect_rates = incorrect_rates.fillna(0.0)  # 없는 클래스는 0으로 설정\n",
    "\n",
    "# 가중치 정규화 (오답률 자체를 가중치로 사용)\n",
    "weights = incorrect_rates / incorrect_rates.sum()\n",
    "\n",
    "# 없는 클래스의 가중치를 기본값으로 설정\n",
    "weights = weights.replace(0.0, weights.max())\n",
    "\n",
    "# 가중치를 tensor로 변환\n",
    "weights_tensor = torch.tensor(weights.sort_index().values, dtype=torch.float32)\n",
    "\n",
    "print(\"클래스별 가중치:\")\n",
    "print(weights_tensor)"
   ]
  },
  {
   "cell_type": "code",
   "execution_count": 9,
   "metadata": {},
   "outputs": [],
   "source": [
    "# import cv2\n",
    "# import torch\n",
    "# import numpy as np\n",
    "# from torch.nn import functional as F\n",
    "\n",
    "# import sys\n",
    "# sys.path.append(\"../\")\n",
    "# from data.augmentation import batch_transform\n",
    "# from utils.test_util import load_model\n",
    "\n",
    "# device = torch.device('cuda' if torch.cuda.is_available() else 'cpu')\n",
    "\n",
    "# model = load_model(model_path=\"/home/pervinco/upstage-cv-classification-cv7/runs/best_9564/weights/best.pth\",\n",
    "#                    model_name=\"tf_efficientnetv2_xl.in21k\",\n",
    "#                    num_classes=17,\n",
    "#                    device=device)\n",
    "\n",
    "# transform = batch_transform(384, 384)\n",
    "# image = cv2.imread(\"/home/pervinco/upstage-cv-classification-cv7/notebook/denoised.png\")\n",
    "# x = transform(image=image)['image'].unsqueeze(0).to(device)\n",
    "\n",
    "# y_pred = model(x)\n",
    "# prob = F.softmax(y_pred, dim=1)\n",
    "# prob = prob.detach().cpu().numpy()\n",
    "# target = np.argmax(prob)\n",
    "\n",
    "# print(target)"
   ]
  },
  {
   "cell_type": "code",
   "execution_count": null,
   "metadata": {},
   "outputs": [],
   "source": []
  }
 ],
 "metadata": {
  "kernelspec": {
   "display_name": "cls-project",
   "language": "python",
   "name": "python3"
  },
  "language_info": {
   "codemirror_mode": {
    "name": "ipython",
    "version": 3
   },
   "file_extension": ".py",
   "mimetype": "text/x-python",
   "name": "python",
   "nbconvert_exporter": "python",
   "pygments_lexer": "ipython3",
   "version": "3.9.19"
  }
 },
 "nbformat": 4,
 "nbformat_minor": 2
}
