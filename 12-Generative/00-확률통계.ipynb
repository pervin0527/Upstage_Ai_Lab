{
 "cells": [
  {
   "cell_type": "markdown",
   "metadata": {},
   "source": [
    "# 표본공간, 확률변수, 확률분포"
   ]
  },
  {
   "cell_type": "code",
   "execution_count": 1,
   "metadata": {},
   "outputs": [],
   "source": [
    "import numpy as np\n",
    "import matplotlib.pyplot as plt"
   ]
  },
  {
   "cell_type": "markdown",
   "metadata": {},
   "source": [
    "주사위 하나를 던졌을 때의 표본공간.(다른 말로 주사위를 던지는 시행에서 나올 수 있는 모든 결과들의 집합.)"
   ]
  },
  {
   "cell_type": "code",
   "execution_count": 2,
   "metadata": {},
   "outputs": [
    {
     "name": "stdout",
     "output_type": "stream",
     "text": [
      "표본공간: [1 2 3 4 5 6]\n"
     ]
    }
   ],
   "source": [
    "sample_space = np.arange(1, 7)\n",
    "print(\"표본공간:\", sample_space)"
   ]
  },
  {
   "cell_type": "markdown",
   "metadata": {},
   "source": [
    "표본공간에 있는 원소들을 정수형으로 맵핑하는 확률 변수를 적용. 주사위 눈이 곧 확률변수 값이라고 정한다."
   ]
  },
  {
   "cell_type": "code",
   "execution_count": 3,
   "metadata": {},
   "outputs": [
    {
     "name": "stdout",
     "output_type": "stream",
     "text": [
      "처음 10개의 주사위 값: [3 5 1 2 3 6 2 4 4 5]\n"
     ]
    }
   ],
   "source": [
    "n_trials = 1000\n",
    "random_variable = np.random.choice(sample_space, size=n_trials)\n",
    "print(\"처음 10개의 주사위 값:\", random_variable[:10])"
   ]
  },
  {
   "cell_type": "markdown",
   "metadata": {},
   "source": [
    "확률분포는 각각의 확률변수 값이 발생할 확률에 해당한다."
   ]
  },
  {
   "cell_type": "code",
   "execution_count": 6,
   "metadata": {},
   "outputs": [
    {
     "name": "stdout",
     "output_type": "stream",
     "text": [
      "값 1의 확률: 0.168\n",
      "값 2의 확률: 0.171\n",
      "값 3의 확률: 0.151\n",
      "값 4의 확률: 0.164\n",
      "값 5의 확률: 0.165\n",
      "값 6의 확률: 0.181\n"
     ]
    },
    {
     "data": {
      "image/png": "[encoded data removed]",
      "text/plain": [
       "<Figure size 640x480 with 1 Axes>"
      ]
     },
     "metadata": {},
     "output_type": "display_data"
    }
   ],
   "source": [
    "values, counts = np.unique(random_variable, return_counts=True)\n",
    "probabilities = counts / n_trials ## 각각의 주사위 눈이 몇 번 등장했는지에서 총 시행횟수로 나누면 확률\n",
    "\n",
    "# 확률분포 출력\n",
    "for value, probability in zip(values, probabilities):\n",
    "    print(f\"값 {value}의 확률: {probability:.3f}\")\n",
    "\n",
    "plt.bar(values, probabilities, color='skyblue')\n",
    "plt.xlabel('Dice Value')\n",
    "plt.ylabel('Probability')\n",
    "plt.title('Dice Distribution')\n",
    "plt.ylim(0, 1)\n",
    "plt.xticks(values)\n",
    "plt.show()"
   ]
  },
  {
   "cell_type": "code",
   "execution_count": null,
   "metadata": {},
   "outputs": [],
   "source": []
  }
 ],
 "metadata": {
  "kernelspec": {
   "display_name": "cls-project",
   "language": "python",
   "name": "python3"
  },
  "language_info": {
   "codemirror_mode": {
    "name": "ipython",
    "version": 3
   },
   "file_extension": ".py",
   "mimetype": "text/x-python",
   "name": "python",
   "nbconvert_exporter": "python",
   "pygments_lexer": "ipython3",
   "version": "3.9.19"
  }
 },
 "nbformat": 4,
 "nbformat_minor": 2
}
