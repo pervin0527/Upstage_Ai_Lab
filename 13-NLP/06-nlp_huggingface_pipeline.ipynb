{
 "cells": [
  {
   "cell_type": "markdown",
   "metadata": {},
   "source": [
    "# 🎣 낚시성기사분류기 만들기\n",
    "> 기사의 제목과 본문을 입력으로 줬을때, `제목과 본문사이 관계가 아래 6가지에 포함된다면 낚시성기사로 판단 `"
   ]
  },
  {
   "cell_type": "markdown",
   "metadata": {},
   "source": [
    "#### 실습 목차\n",
    "\n",
    "1. Dataset & Tokenizing\n",
    "  * 1-1. news_dataset class 정의\n",
    "  * 1-2. load_Data, construct_tokenized_dataset 함수 정의\n",
    "  * 1-3. prepare_dataset 함수 정의\n",
    "2. Model & Trainer\n",
    "  * 2-1. compute_metrics 함수 정의\n",
    "  * 2-2. load_tokenizer_and_model_for_train 함수 정의\n",
    "  * 2-3. load_trainer_for_train 함수 정의\n",
    "  * 2-4. train 함수 정의\n",
    "  * 2-5. arguments 지정 및 학습 진행\n",
    "3. Inference & Evaluation\n",
    "  * 3-1. load_model_for_inference 함수 정의\n",
    "  * 3-2. inference 함수 정의\n",
    "  * 3-3. infer_and_eval 함수 정의"
   ]
  },
  {
   "cell_type": "code",
   "execution_count": 1,
   "metadata": {},
   "outputs": [],
   "source": [
    "# !wget --no-check-certificate 'https://docs.google.com/uc?export=download&id=1gucFY-P9a1TzdV8Xb-OwVD4TpPy4iyJX' -O train.csv\n",
    "# !wget --no-check-certificate 'https://docs.google.com/uc?export=download&id=1J05RaqfknDzTObofL7OyiSmT0B8rX0gZ' -O test.csv"
   ]
  },
  {
   "cell_type": "code",
   "execution_count": 2,
   "metadata": {},
   "outputs": [
    {
     "name": "stderr",
     "output_type": "stream",
     "text": [
      "2024-08-28 11:41:25.565359: I tensorflow/core/platform/cpu_feature_guard.cc:193] This TensorFlow binary is optimized with oneAPI Deep Neural Network Library (oneDNN) to use the following CPU instructions in performance-critical operations:  AVX2 AVX512F AVX512_VNNI AVX512_BF16 FMA\n",
      "To enable them in other operations, rebuild TensorFlow with the appropriate compiler flags.\n",
      "2024-08-28 11:41:25.642958: I tensorflow/core/util/port.cc:104] oneDNN custom operations are on. You may see slightly different numerical results due to floating-point round-off errors from different computation orders. To turn them off, set the environment variable `TF_ENABLE_ONEDNN_OPTS=0`.\n",
      "2024-08-28 11:41:25.988176: W tensorflow/compiler/xla/stream_executor/platform/default/dso_loader.cc:64] Could not load dynamic library 'libnvinfer.so.7'; dlerror: libnvinfer.so.7: cannot open shared object file: No such file or directory; LD_LIBRARY_PATH: /usr/local/cuda/lib64:\n",
      "2024-08-28 11:41:25.988236: W tensorflow/compiler/xla/stream_executor/platform/default/dso_loader.cc:64] Could not load dynamic library 'libnvinfer_plugin.so.7'; dlerror: libnvinfer_plugin.so.7: cannot open shared object file: No such file or directory; LD_LIBRARY_PATH: /usr/local/cuda/lib64:\n",
      "2024-08-28 11:41:25.988241: W tensorflow/compiler/tf2tensorrt/utils/py_utils.cc:38] TF-TRT Warning: Cannot dlopen some TensorRT libraries. If you would like to use Nvidia GPU with TensorRT, please make sure the missing libraries mentioned above are installed properly.\n"
     ]
    }
   ],
   "source": [
    "import os\n",
    "import torch\n",
    "import random\n",
    "import numpy as np\n",
    "import pandas as pd\n",
    "import pytorch_lightning as pl\n",
    "\n",
    "from torch.utils.data import Dataset, DataLoader\n",
    "from sklearn.metrics import accuracy_score, f1_score\n",
    "from sklearn.model_selection import train_test_split\n",
    "\n",
    "from transformers import (\n",
    "    AutoTokenizer,\n",
    "    AutoConfig,\n",
    "    AutoModelForSequenceClassification,\n",
    ")\n",
    "\n",
    "from transformers import Trainer, TrainingArguments\n",
    "from transformers import EarlyStoppingCallback\n",
    "from transformers.optimization import get_cosine_with_hard_restarts_schedule_with_warmup"
   ]
  },
  {
   "cell_type": "code",
   "execution_count": 3,
   "metadata": {},
   "outputs": [],
   "source": [
    "class news_dataset(Dataset):\n",
    "    def __init__(self, news_dataset, labels):\n",
    "        self.dataset = news_dataset\n",
    "        self.labels = labels\n",
    "\n",
    "    def __getitem__(self, idx):\n",
    "        item = {\n",
    "            key : val[idx].clone().detach() for key, val in self.dataset.items()\n",
    "        }\n",
    "\n",
    "        item['labels'] = torch.tensor(self.labels[idx])\n",
    "        \n",
    "        return item\n",
    "    \n",
    "    def __len__(self):\n",
    "        return len(self.labels)"
   ]
  },
  {
   "cell_type": "code",
   "execution_count": 4,
   "metadata": {},
   "outputs": [],
   "source": [
    "def load_data(dataset_dir):\n",
    "    \"\"\"csv file을 dataframe으로 load\"\"\"\n",
    "    dataset = pd.read_csv(dataset_dir)[:500]\n",
    "    print(\"dataframe 의 형태\")\n",
    "    print(dataset.head())\n",
    "    return dataset\n",
    "\n",
    "\n",
    "def construct_tokenized_dataset(dataset, tokenizer, max_length):\n",
    "    \"\"\"[뉴스제목 + [SEP] + 뉴스본문]형태로 토크나이징\"\"\"\n",
    "    concat_entity = []\n",
    "    for title, body in zip(dataset[\"newsTitle\"],dataset[\"newsContent\"]):\n",
    "        total = str(title) + \"[SEP]\" + str(body)\n",
    "        concat_entity.append(total)\n",
    "\n",
    "    print(\"tokenizer 에 들어가는 데이터 형태\")\n",
    "    print(concat_entity[:5])\n",
    "\n",
    "    ## tokenizer가 입력 텍스트를 토큰화할 때, 패딩된 토큰을 구분하기 위한 attention_mask도 함께 생성됩니다. attention_mask는 시퀀스에서 실제 토큰 위치는 1로, 패딩된 토큰 위치는 0으로 표시하는 텐서입니다.\n",
    "    ## 이후, 이 attention_mask는 news_dataset 클래스의 __getitem__ 메서드를 통해 dataloader로 전달되며, 최종적으로 inference 함수 내의 모델에 입력으로 사용됩니다.\n",
    "    tokenized_senetences = tokenizer(\n",
    "        concat_entity,\n",
    "        return_tensors = \"pt\",\n",
    "        padding = True,\n",
    "        truncation = True,\n",
    "        max_length = max_length,\n",
    "        add_special_tokens = True,\n",
    "        return_token_type_ids=False, # BERT 이후 모델(RoBERTa 등) 사용할때 On\n",
    "    )\n",
    "    print(\"tokenizing 된 데이터 형태\")\n",
    "    print(tokenized_senetences[:5])\n",
    "    \n",
    "    return tokenized_senetences\n",
    "\n",
    "\n",
    "def prepare_dataset(dataset_dir, tokenizer,max_len):\n",
    "    \"\"\"학습(train)과 평가(test)를 위한 데이터셋을 준비\"\"\"\n",
    "    # load_data\n",
    "    train_dataset = load_data(os.path.join(dataset_dir, \"train.csv\"))\n",
    "    test_dataset = load_data(os.path.join(dataset_dir, \"test.csv\"))\n",
    "\n",
    "    # split train / validation = 7.5 : 2.5\n",
    "    train_dataset, val_dataset = train_test_split(train_dataset,test_size=0.25,random_state=42,stratify=train_dataset['label'])\n",
    "\n",
    "    # split label\n",
    "    train_label = train_dataset['label'].values\n",
    "    val_label = val_dataset['label'].values\n",
    "    test_label = test_dataset['label'].values\n",
    "\n",
    "    # tokenizing dataset\n",
    "    tokenized_train = construct_tokenized_dataset(train_dataset, tokenizer, max_len)\n",
    "    tokenized_val = construct_tokenized_dataset(val_dataset, tokenizer, max_len)\n",
    "    tokenized_test = construct_tokenized_dataset(test_dataset, tokenizer, max_len)\n",
    "    print(\"--- tokenizing Done ---\")\n",
    "\n",
    "    # make dataset for pytorch.\n",
    "    news_train_dataset = news_dataset(tokenized_train, train_label)\n",
    "    news_val_dataset = news_dataset(tokenized_val, val_label)\n",
    "    news_test_dataset = news_dataset(tokenized_test, test_label)\n",
    "    print(\"--- dataset class Done ---\")\n",
    "\n",
    "    return news_train_dataset , news_val_dataset, news_test_dataset , test_dataset"
   ]
  },
  {
   "cell_type": "code",
   "execution_count": null,
   "metadata": {},
   "outputs": [],
   "source": []
  },
  {
   "cell_type": "code",
   "execution_count": 5,
   "metadata": {},
   "outputs": [],
   "source": [
    "def compute_metrics(pred):\n",
    "    \"\"\"validation을 위한 metrics function\"\"\"\n",
    "    labels = pred.label_ids\n",
    "    preds = pred.predictions.argmax(-1) ## -1은 마지막 차원을 대상(축)으로 한다는 뜻\n",
    "\n",
    "    # calculate accuracy using sklearn's function\n",
    "    acc = accuracy_score(labels, preds)\n",
    "\n",
    "    # calculate f1 score using sklearn's function\n",
    "    f1 = f1_score(labels, preds, average='micro')\n",
    "\n",
    "    return {\n",
    "        \"accuracy\": acc,\n",
    "        \"f1\": f1,\n",
    "    }"
   ]
  },
  {
   "cell_type": "code",
   "execution_count": 6,
   "metadata": {},
   "outputs": [],
   "source": [
    "def load_tokenizer_and_model_for_train(args):\n",
    "    \"\"\"학습(train)을 위한 사전학습(pretrained) 토크나이저와 모델을 huggingface에서 load\"\"\"\n",
    "    # load model and tokenizer\n",
    "    MODEL_NAME = args.model_name\n",
    "    tokenizer = AutoTokenizer.from_pretrained(MODEL_NAME)\n",
    "\n",
    "    # setting model hyperparameter\n",
    "    model_config = AutoConfig.from_pretrained(MODEL_NAME)\n",
    "    model_config.num_labels = 2\n",
    "    print(model_config)\n",
    "\n",
    "    model = AutoModelForSequenceClassification.from_pretrained(\n",
    "        MODEL_NAME, config=model_config\n",
    "    )\n",
    "    print(\"--- Modeling Done ---\")\n",
    "    return tokenizer , model"
   ]
  },
  {
   "cell_type": "code",
   "execution_count": 7,
   "metadata": {},
   "outputs": [],
   "source": [
    "def load_trainer_for_train(args, model, news_train_dataset, news_val_dataset):\n",
    "    \"\"\"학습(train)을 위한 huggingface trainer 설정\"\"\"\n",
    "    training_args = TrainingArguments(\n",
    "        output_dir=args.save_path + \"results\",  # output directory\n",
    "        save_total_limit=args.save_limit,  # number of total save model.\n",
    "        save_steps=args.save_step,  # model saving step.\n",
    "        num_train_epochs=args.epochs,  # total number of training epochs\n",
    "        learning_rate=args.lr,  # learning_rate\n",
    "        per_device_train_batch_size=args.batch_size,  # batch size per device during training\n",
    "        per_device_eval_batch_size=2,  # batch size for evaluation\n",
    "        warmup_steps=args.warmup_steps,  # number of warmup steps for learning rate scheduler\n",
    "        weight_decay=args.weight_decay,  # strength of weight decay\n",
    "        logging_dir=args.save_path + \"logs\",  # directory for storing logs\n",
    "        logging_steps=args.logging_step,  # log saving step.\n",
    "        evaluation_strategy=\"steps\",  # evaluation strategy to adopt during training\n",
    "            # `no`: No evaluation during training.\n",
    "            # `steps`: Evaluate every `eval_steps`.\n",
    "            # `epoch`: Evaluate every end of epoch.\n",
    "        eval_steps=args.eval_step,  # evaluation step.\n",
    "        load_best_model_at_end=True,\n",
    "    )\n",
    "\n",
    "    ## Add callback & optimizer & scheduler\n",
    "    MyCallback = EarlyStoppingCallback(\n",
    "        early_stopping_patience=3, early_stopping_threshold=0.001\n",
    "    )\n",
    "\n",
    "    optimizer = torch.optim.AdamW(\n",
    "        model.parameters(),\n",
    "        lr=args.lr,\n",
    "        betas=(0.9, 0.999),\n",
    "        eps=1e-08,\n",
    "        weight_decay=args.weight_decay,\n",
    "        amsgrad=False,\n",
    "    )\n",
    "    print(\"--- Set training arguments Done ---\")\n",
    "\n",
    "    trainer = Trainer(\n",
    "        model=model,  # the instantiated 🤗 Transformers model to be trained\n",
    "        args=training_args,  # training arguments, defined above\n",
    "        train_dataset=news_train_dataset,  # training dataset\n",
    "        eval_dataset=news_val_dataset,  # evaluation dataset\n",
    "        compute_metrics=compute_metrics,  # define metrics function\n",
    "        callbacks=[MyCallback],\n",
    "        optimizers=(\n",
    "            optimizer,\n",
    "            get_cosine_with_hard_restarts_schedule_with_warmup(\n",
    "                    optimizer,\n",
    "                    num_warmup_steps=args.warmup_steps,\n",
    "                    num_training_steps=len(news_train_dataset) * args.epochs,\n",
    "            ),\n",
    "        ),\n",
    "    )\n",
    "    print(\"--- Set Trainer Done ---\")\n",
    "\n",
    "    return trainer\n"
   ]
  },
  {
   "cell_type": "code",
   "execution_count": 8,
   "metadata": {},
   "outputs": [],
   "source": [
    "def train(args):\n",
    "    \"\"\"모델을 학습(train)하고 best model을 저장\"\"\"\n",
    "    # fix a seed\n",
    "    pl.seed_everything(seed=42, workers=False)\n",
    "\n",
    "    # set device\n",
    "    device = torch.device(\"cuda:0\" if torch.cuda.is_available() else \"cpu\")\n",
    "    print(\"device:\", device)\n",
    "\n",
    "    # set model and tokenizer\n",
    "    tokenizer , model = load_tokenizer_and_model_for_train(args)\n",
    "    model.to(device)\n",
    "\n",
    "    # set data\n",
    "    news_train_dataset, news_val_dataset, news_test_dataset, test_dataset = prepare_dataset(args.dataset_dir, tokenizer, args.max_len)\n",
    "\n",
    "    # set trainer\n",
    "    trainer = load_trainer_for_train(args, model, news_train_dataset, news_val_dataset)\n",
    "\n",
    "    # train model\n",
    "    print(\"--- Start train ---\")\n",
    "    trainer.train()\n",
    "    print(\"--- Finish train ---\")\n",
    "    model.save_pretrained(\"./best_model\")\n"
   ]
  },
  {
   "cell_type": "code",
   "execution_count": 9,
   "metadata": {},
   "outputs": [
    {
     "name": "stderr",
     "output_type": "stream",
     "text": [
      "Seed set to 42\n"
     ]
    },
    {
     "name": "stdout",
     "output_type": "stream",
     "text": [
      "device: cuda:0\n"
     ]
    },
    {
     "data": {
      "application/vnd.jupyter.widget-view+json": {
       "model_id": "8ab070695df24ea2ab5272be033540f7",
       "version_major": 2,
       "version_minor": 0
      },
      "text/plain": [
       "tokenizer_config.json:   0%|          | 0.00/375 [00:00<?, ?B/s]"
      ]
     },
     "metadata": {},
     "output_type": "display_data"
    },
    {
     "data": {
      "application/vnd.jupyter.widget-view+json": {
       "model_id": "3756e7dc91b34ab39a634863e2402acb",
       "version_major": 2,
       "version_minor": 0
      },
      "text/plain": [
       "vocab.txt:   0%|          | 0.00/248k [00:00<?, ?B/s]"
      ]
     },
     "metadata": {},
     "output_type": "display_data"
    },
    {
     "data": {
      "application/vnd.jupyter.widget-view+json": {
       "model_id": "d65a7f389db54090a9b0c3ad5d5cdfe3",
       "version_major": 2,
       "version_minor": 0
      },
      "text/plain": [
       "tokenizer.json:   0%|          | 0.00/752k [00:00<?, ?B/s]"
      ]
     },
     "metadata": {},
     "output_type": "display_data"
    },
    {
     "data": {
      "application/vnd.jupyter.widget-view+json": {
       "model_id": "217eea52be88432c8c785abd080e431b",
       "version_major": 2,
       "version_minor": 0
      },
      "text/plain": [
       "special_tokens_map.json:   0%|          | 0.00/173 [00:00<?, ?B/s]"
      ]
     },
     "metadata": {},
     "output_type": "display_data"
    },
    {
     "data": {
      "application/vnd.jupyter.widget-view+json": {
       "model_id": "530a64a2559d42eda6e0868bb5db5095",
       "version_major": 2,
       "version_minor": 0
      },
      "text/plain": [
       "config.json:   0%|          | 0.00/547 [00:00<?, ?B/s]"
      ]
     },
     "metadata": {},
     "output_type": "display_data"
    },
    {
     "name": "stdout",
     "output_type": "stream",
     "text": [
      "RobertaConfig {\n",
      "  \"_name_or_path\": \"klue/roberta-large\",\n",
      "  \"architectures\": [\n",
      "    \"RobertaForMaskedLM\"\n",
      "  ],\n",
      "  \"attention_probs_dropout_prob\": 0.1,\n",
      "  \"bos_token_id\": 0,\n",
      "  \"classifier_dropout\": null,\n",
      "  \"eos_token_id\": 2,\n",
      "  \"gradient_checkpointing\": false,\n",
      "  \"hidden_act\": \"gelu\",\n",
      "  \"hidden_dropout_prob\": 0.1,\n",
      "  \"hidden_size\": 1024,\n",
      "  \"initializer_range\": 0.02,\n",
      "  \"intermediate_size\": 4096,\n",
      "  \"layer_norm_eps\": 1e-05,\n",
      "  \"max_position_embeddings\": 514,\n",
      "  \"model_type\": \"roberta\",\n",
      "  \"num_attention_heads\": 16,\n",
      "  \"num_hidden_layers\": 24,\n",
      "  \"pad_token_id\": 1,\n",
      "  \"position_embedding_type\": \"absolute\",\n",
      "  \"tokenizer_class\": \"BertTokenizer\",\n",
      "  \"transformers_version\": \"4.42.3\",\n",
      "  \"type_vocab_size\": 1,\n",
      "  \"use_cache\": true,\n",
      "  \"vocab_size\": 32000\n",
      "}\n",
      "\n"
     ]
    },
    {
     "data": {
      "application/vnd.jupyter.widget-view+json": {
       "model_id": "365a94a6779643d9844531bda380636e",
       "version_major": 2,
       "version_minor": 0
      },
      "text/plain": [
       "model.safetensors:   0%|          | 0.00/1.35G [00:00<?, ?B/s]"
      ]
     },
     "metadata": {},
     "output_type": "display_data"
    },
    {
     "name": "stderr",
     "output_type": "stream",
     "text": [
      "Some weights of RobertaForSequenceClassification were not initialized from the model checkpoint at klue/roberta-large and are newly initialized: ['classifier.dense.bias', 'classifier.dense.weight', 'classifier.out_proj.bias', 'classifier.out_proj.weight']\n",
      "You should probably TRAIN this model on a down-stream task to be able to use it for predictions and inference.\n"
     ]
    },
    {
     "name": "stdout",
     "output_type": "stream",
     "text": [
      "--- Modeling Done ---\n",
      "dataframe 의 형태\n",
      "   Unnamed: 0 newsCategory newsSubcategory                        newsTitle  \\\n",
      "0       12529           경제           금융/증권  김종민 대전산단협회장 “산단 발전과 인식변화 위해 노력”   \n",
      "1        4815           경제              유통     힐튼 가든 인, 내달 1일 루프톱 야외 수영장 개장   \n",
      "2       11556           경제           유통/쇼핑                    이마트에서 겨울패션 충전   \n",
      "3       11798           경제           유통/쇼핑      새 통큰상품 기대하세요…롯데마트 창립17주년 행사   \n",
      "4       15381           경제            대덕특구              추석 열차 승차권 10~11일 예매   \n",
      "\n",
      "                                         newsContent  label  \n",
      "0  “대전산업단지 발전과 인식 변화를 위해 최선의 노력을 다하겠다.” 제14대 대전산업...      1  \n",
      "1  힐튼 가든 인 서울 강남은 다음달 1일부터 루프톱 야외 수영장을 오픈, 온수풀을 가...      0  \n",
      "2  이마트가 지속되는 한파에 끝이 보이지 않는 겨울을 이기기 위한 비법으로 겨울 패션 ...      1  \n",
      "3  롯데마트는 창립 17주년을 맞아 다양한 '통큰 상품'을 새롭게 출시한다고 26일 밝...      1  \n",
      "4  올해 추석 연휴(9월 9~14일) 열차 승차권(좌석지정 승차권) 예매가 오는 10일...      1  \n",
      "dataframe 의 형태\n",
      "   Unnamed: 0 newsCategory newsSubcategory  \\\n",
      "0       21851           경제              산업   \n",
      "1        1409           경제            경제일반   \n",
      "2       15087           경제          건설/부동산   \n",
      "3        8527           경제              정책   \n",
      "4        9157           경제              정책   \n",
      "\n",
      "                                    newsTitle  \\\n",
      "0            본그룹 \\\"일상 속 걷기로 비대면 기부 캠페인 참여해요\\\"   \n",
      "1       \\\"그림 완성하고 미니 콘서트도\\\" 아이파크몰, 체험형 콘텐츠 강화   \n",
      "2  LH 미분양아파트 소진 '진땀', 공급실적 올리기위해 알선수수료까지 지원키로   \n",
      "3       신한銀, 비대면 '땡겨요 사업자 대출' 출시…최대 1000만원 가능   \n",
      "4     [신년사]김현수 농식품부 장관 \\\"농업, 데이터 기반 첨단산업 변모\\\"   \n",
      "\n",
      "                                         newsContent  label  \n",
      "0  국내 대표 한식 프랜차이즈 기업 본아이에프가 속한 '본그룹'이 오늘부터 내달 16일...      1  \n",
      "1  HDC아이파크몰은 고객이 직접 참여하고 경험할 수 있는 체험형 콘텐츠를 통해 오프라...      0  \n",
      "2  연말을 앞두고 한국토지주택공사(LH) 대전충남지역본부가 아파트 공급실적을 끌어올리기...      1  \n",
      "3  신한은행은 시중은행 최초로 땡겨요 입점 개인사업자를 위한 신용대출 상품인 '땡겨요 ...      0  \n",
      "4  김현수 농림축산식품부 장관은 농업을 데이터 기반의 첨단산업으로 변모시키고 젊은 인재...      0  \n",
      "tokenizer 에 들어가는 데이터 형태\n",
      "['신한카드-제주테크노파크, 데이터 기반 ESG 업무협약[SEP]신한카드는 제주지역의 산업발전 지역혁신 거점 공공기관인 제주테크노파크와 \\'데이터 기반 제주 ESG 강화를 위한 공동연구\\'와 관련한 업무협약을 체결했다고 19일 밝혔다.\\n제주시 제주테크노파크에서 전날 열린 협약식에는 김일봉 신한카드 라이프사업본부 본부장과 장석호 제주테크노파크 디지털융합센터 센터장 등이 참석했다.\\n신한카드 관계자는 데일리임팩트에 \\\\\"이번 협약을 통해 양 기관은 신한카드의 소비 데이터 기반 빅데이터와 제주테크노파크가 보유한 공공데이터를 융합해 제주 지역 ESG 강화를 위한 다양한 공동연구를 전개해나갈 것\\\\\"이라고 설명했다.\\n먼저 배달음식 수요 확대, 1인 가구 증가 등의 다양한 요인에 따른 식습관 변화로 인한 쓰레기 배출량 연관관계 분석에 나선다.\\n이를 통해 제주 지역 음식물 쓰레기 배출량을 예측하고 쓰레기 배출량 감소 방안 등을 도출해 제주 지역 환경 개선을 위한 공동 연구를 추진한다는 계획이다.\\n특히 국내 최초로 개발 중인 카드 소비 기반 탄소배출지수인 \\'신한 그린 인덱스(Green Index)\\'를 활용해 친환경 소비를 유도하는 마케팅을 실시하는 등 제주 지역의 ESG 활동 강화에 기여할 수 있을 것으로 보고 있다.\\n이외에도 신한카드는 제주 지역 기업들의 데이터 분석·활용 능력 강화를 위한 컨설팅 진행 등 다양한 사회적 활동을 진행해 제주 지역 데이터 경제를 활성화할 방침이다.\\n한편 신한카드는 신한금융그룹의 새로운 비전인 \\'더 쉽고 편안한, 더 새로운 금융\\'과 연계해 총 170여개의 대한민국을 대표하는 다양한 분야의 공공기관과 민간기업을 대상으로 450여개 프로젝트를 수행하며 데이터 협업을 강화해 나가고 있다.', '코스피 2700·코스닥 900선 하회 출발…우크라이나 교전·물가상승 우려[SEP]코스피와 코스닥지수 모두 하락 출발했다.\\n러시아와 우크라이나 교전과 이에 따른 인플레이션(물가상승) 우려로 인해 코스피는 한 때 2676선까지 밀렸다.\\n7일 오전 10시 코스피는 전거래일대비 1.82%(49.27포인트) 하락한 2664.16을 가리키고 있다.\\n이날 코스피는 전 거래일대비 1.23%(30.26 포인트) 내린 2680.17에 장을 출발해 장 초반 낙폭을 키우는 모습이다.\\n지난 4일(현지시간) 견조한 미국 고용지표에도 불구하고 러시아가 우크라이나의 유럽 최대 원자력 발전소를 포격한 사실이 알려지며 투자심리를 위축한 것으로 풀이된다.\\n러시아와 우크라이나는 7일(현지시간) 휴전 및 민간인 대피를 위한 제3차 협상을 앞두고 있지만 긴장 상황은 여전하다.\\n6일(현지시간) 러시아가 루마니아 등 우크라이나 인접국에 우크라이나 전투기를 발진시킬 경우 전쟁에 개입한 것으로 간주하겠다고 경고하는 등 상황이 악화될 가능성에 투자심리가 크게 위축된 것으로 풀이된다.\\n미국 증시는 지난 4일(현지시간) 우크라이나에 위치한 유럽 최대 원자력 발전소가 러시아의 포격을 받았다는 소식에 하락 출발, 하락 마감했다.\\n2월 비농업 고용자 수가 예상치를 크게 뛰며 지난해 7월 이후 가장 높은 숫자를 기록했지만 전쟁에 따른 물가상승 우려가 더 큰 영향을 미친 것이다.\\n이 시각 현재 투자자 동향을 보면 외국인과 기관은 각각 3557억원, 4057억원을 팔아치운 반면 개인은 홀로 7562억원을 순매수하고 있다.\\n시가총액 상위 종목들도 대부분 하락세를 보이고 있다.\\n삼성전자는 전거래일 대비 1.96% 하락한 7만100원에 거래 중이다.\\n이외 SK하이닉스(-4.02%), 네이버(-2.99%), 삼성바이오로직스(-1.68%), 카카오 (-1.80%), LG화학(-3.36%), 현대차(-1.45%), 삼성SDI(-2.65%), 기아(-2.74%), 포스코(-1.37%) 등 시총 상위 10종목 모두 내림세다.\\n업종별로 보면 보험(-2.66%),섬유·의복(-2.56%), 금융업(-2.42%), 음식료품(-2.32%), 증권(-2.28%), 화학(-2.19%), 전기/전자(-2.11%), 은행(-2.01%) 순의 하락세를 보였다.\\n같은시각 코스닥지수는 전 거래일 대비 1.47%(13.22포인트) 하락한 887.74에 거래 중이다.\\n이날 코스닥지수는 전 거래일 대비 1.22%(11.01 포인트) 내린 889.95에 개장했다.\\n투자자별 동향을 보면 역시 개인 홀로 728억원치를 순매수한 반면 외국인과 기관은 각각 3747억원, 4173억원을 순매도했다.\\n업종별로 보면 IT부품이 2.97% 하락하며 가장 큰 낙폭을 보였다.\\n통신장비(-2.49%), 종이/목재(-2.26%), 반도체 -1.97%), 운송장비/부품(-2.09%), 화학(-2.02%)등 거의 전 업종이 하락하고 있다.\\n비금속만 유일하게 1.32% 상승 중이다.', '물 대신 CO2로 빨래를?…LG전자, \\'물 없는 세탁기\\' 나온다[SEP]물이나 기름 대신 이산화탄소로 의류를 세탁하는 \\'CO2 세탁기\\'가 나온다.\\n그동안 규제에 가로막혀 제품 출시가 불가능했지만 규제 샌드박스(규제 유예)를 통해 상용화의 길이 열렸다.\\n버스, 지하철 광고와 마찬가지로 서울시가 운영하는 공유자전거 서비스를 활용한 옥외광고도 허용된다.\\n1일 산업통상자원부에 따르면 지난달 30일 개최한 \\'2021년 제6차 산업융합 규제특례심의위원회\\'에서 CO2 세탁기를 포함해 실증특례 10건, 임시허가 5건 등 총 15건의 규제특례를 승인했다.\\n이번에 규제특례 승인을 받은 LG전자의 CO2 세탁기는 물 또는 기름을 사용하지 않고 액체 상태의 이산화탄소를 순환시켜 친환경 세탁이 가능토록 한다.\\n고압가스안전관리법상 CO2를 압축, 액화하는 것은 고압가스 제조행위로 상하좌우 8m 이격, 방호벽 설치, 안전관리자 선임 등 의무를 적용받기 때문에 현행 규제상 CO2 세탁기 상용화는 불가능하다.\\n규제특례심의위는 사고 발생에 대비해 산업부가 제시한 적정압력 모니터링, 방호벽 설치, 가스누출 검지설비 설치 등 안전조치 사항을 전제로 CO2 세탁기를 조건부로 승인했다.\\nCO2 세탁기가 세탁 용제를 쓰지 않아 친환경적이고, 해외에서 이미 상용화된 제품이라는 점도 고려했다.\\nLG전자는 CO2 세탁기를 자체 연구소 내에 설치, 2년간 시험운영한 후 안전성이 입증되면 일반 상가 내 세탁소 설치가 가능하도록 임시허가를 신청할 계획이다.\\n산업부 관계자는 \\\\\"향후 CO2 세탁기 상용화 시에는 물과 기름을 사용하지 않는 친환경 세탁방식이 확산될 수 있어 환경오염을 방지하고 탄소중립을 달성하는데 기여할 것\\\\\"이라고 밝혔다.\\n서울시가 신청한 공유자전거 차체를 활용한 광고 서비스에 대한 실증특례도 승인됐다.\\n지금은 옥외광고물법 시행령상 옥외광고물 표시대상에 자전거가 포함되지 않아 공유자전거를 이용한 광고 서비스 제공은 불가능하다.\\n그러나 앞으로는 공유자전거 바구니, 프레임, 앞바퀴 커버 등을 통한 광고가 가능해진다.\\n아울러 ▲셀프 수소충전소 구축 ▲과금형 콘센트를 활용한 전기차 저장 전력의 차량 외부 공급 서비스 ▲사용후 전기차 배터리 재사용을 통한 태양광 가로등 ▲공원 자율주행 순찰로봇 ▲재외국민 비대면 진료·상담 서비스 등에 대한 실증특례도 승인을 받았다.\\n이번 규제특례 승인 15건을 포함해 산업융합 규제특례심의위는 총 198건의 과제를 승인했다.\\n이를 통해 107개 기업이 사업을 개시해 매출 789억원, 투자 2462억원, 신규고용 403명 창출하는 성과를 거뒀다.', \"한가위 세일… 한아름 안고 가세요[SEP]▲ 상품권ㆍ기프트카드로 스마트한 선물 추석명절을 앞두고 20일 다양한 금액의 갤러리아 상품권과 기프트 카드가 갤러리아 타임월드점에서 판매돼 한복을 곱게 차려입은 직원들이 상품권과 기프트 카드를 들어보이고 있다.\\n손인중 기자 백화점업계가 추석을 1주일여 앞두고 다양한 선물전과 브랜드세일을 마련, 고객몰이에 나선다. 20일 백화점업계에 따르면 갤러리아백화점 타임월드는 청과, 정육, 건어물 등 식품류 선물세트와 제수용품 특별코너, 브랜드세일 등 다양한 상품의 선물전을 진행한다.\\n지하 2층 식품관에서는 제수용품 특별전, '10+1' 선물세트 행사도 펼친다.\\n지하 1층에서는 브랜드별 일정기간 동안 할인된 가격에 구입할 수 있는 브랜드데이를 실시하며 패션잡화 특집전도 진행, 실속 쇼핑의 기회를 제공한다. 5층 남성의류 매장에서는 구매금액에 따른 풍성한 사은선물을 증정하고, 8층 행사장에서는 효도선물 제안전으로 전시상품에 한 해 최대 40% 할인 판매한다.\\n대전 롯데백화점도 층별로 다양한 추석 선물전과 더불어 다음달 2일까지 유명 브랜드세일을 펼쳐 10~30% 할인된 금액에 판매한다.\\n지하 1층 식품관에서는 건강식품과 청과, 정육 등 선물세트가 마련돼 있으며 구매 금액에 따라 사은행사를 펼쳐 추가 혜택도 받을 수 있다. 1층 화장품 매장에서는 브랜드별 선물세트를 선보이고, 5층 매장에서는 유명 브랜드의 셔츠, 넥타이 선물상품전이 진행된다.\\n9층 특설매장에서는 35개 브랜드가 참여하는 '2012 여성 트렌치코트 Fair'가 펼쳐져 최대 70% 할인된 금액에 판매된다.\\n백화점세이도 구매금액에 따른 5% 상품권 또는 사은선물 행사를 진행하고, 5만원 이상 구매고객에게 양말을 증정한다.\\n지하 1층 슈퍼에서는 쇼핑객들의 부담은 덜고 격식은 갖출 수 있는 가격대별 다양한 선물세트를 마련했다.\\n백화점 관계자는 “추석을 앞두고 풍성하고 여유로운 한가위가 될 수 있도록 다양한 상품을 저렴하게 판매, 실속 쇼핑의 기회를 제공하고 있다”고 말했다.\", \"KT&G 지역사회공헌도 '인색'[SEP]대전에 본사를 두고 있는 대기업 KT&G가 대전상공회의소 회비를 10년 가까이 미납한 것으로 밝혀진데 이어, 지역 사회공헌활동에도 인색한 것으로 알려져 시민들로부터 곱지 않은 시선을 받고 있다.\\n대전사회복지공동모금회가 공개한 최근 10년 동안 KT&G의 기부현황 자료에 따르면, 2009년까지만 기부금을 후원했을 뿐, 2010년 이후부터는 기부가 전무한 것으로 확인됐다.\\n사회복지공동모금회는 지난해 말 KT&G 서울 사옥(사회공헌부)을 방문해 협조를 요청했지만, KT&G 측은 사회공헌활동 방식 전환 등을 이유로 이를 받아들이지 않은 것으로 알려졌다.\\n이런 가운데 지난해 지역에서 하나은행 충청사업본부를 비롯해 한국전자통신연구원(ETRI), 한라공조, 우성사료, 삼아제약, 계룡건설 등은 대전사회복지공동모금회에 1억원 이상의 기부금을 전달한 것으로 조사됐다.\\n기부에 인색한 KT&G와는 대조적이다.\\n또 KT&G는 기업들의 도움이 절실한 대전시티즌에도 후원을 하지 않고 있는 것으로 전해졌다.\\n대전시티즌에 따르면 KT&G는 2009년까지 매년 거액의 후원금을 지원하면서, 시민구단의 든든한 후원자 역할을 했다.\\n그러나 2010년 이후부터는 후원을 끊은 상태다.\\n반면, 대전도시공사를 비롯해 하나은행, 한라공조, 호반건설 등은 지난해 대전시티즌에 1억원 이상의 후원금을 지원했다.\\n시티즌 측은 “KT&G는 2009년까지 광고계약에 따라 후원금을 지원했으나, 계약이 끝난 이후에는 지원을 하지 않고 있다”고 설명했다.\\n이에 대해 일각에서는 KT&G가 지역 사회공헌활동에 무관심하다는 목소리가 나오고 있다.\\n대전지역 중소기업 한 관계자는 “KT&G는 대전을 대표하는 대기업으로, 지역 기업들의 사회공헌활동을 주도적으로 이끌어 가는 모습을 보여줄 필요성이 있다고 본다”고 지적했다.\\n이와 관련 서울에 있는 KT&G 사회공헌부 측은 회사의 사회공헌활동 방식을 전환했을 뿐이라고 설명했다.\\n사회공헌부 관계자는 “대전시티즌과 사회복지공동모금회에 후원을 하다, 최근 들어 하지 않고 있다. 후원이나 협찬 등 간접적인 봉사활동을 줄이면서, 직접적으로 직원들이 체험하는 KT&G 만의 사회활동으로 변환해 가고 있다”면서 “대전사회복지공동모금회의 협조방문이 있었지만, 도움을 주지 못했다”고 말했다.\"]\n",
      "tokenizing 된 데이터 형태\n",
      "[Encoding(num_tokens=256, attributes=[ids, type_ids, tokens, offsets, attention_mask, special_tokens_mask, overflowing]), Encoding(num_tokens=256, attributes=[ids, type_ids, tokens, offsets, attention_mask, special_tokens_mask, overflowing]), Encoding(num_tokens=256, attributes=[ids, type_ids, tokens, offsets, attention_mask, special_tokens_mask, overflowing]), Encoding(num_tokens=256, attributes=[ids, type_ids, tokens, offsets, attention_mask, special_tokens_mask, overflowing]), Encoding(num_tokens=256, attributes=[ids, type_ids, tokens, offsets, attention_mask, special_tokens_mask, overflowing])]\n",
      "tokenizer 에 들어가는 데이터 형태\n",
      "['세종엠코타운 특별공급 1.64대 1[SEP]세종엠코타운의 이전 기관 종사자 특별공급 1차 경쟁률이 1.64대 1로 마감됐다.\\n9일 행정도시건설청에 따르면 현대엠코는 지난 8일부터 이날까지 이전 기관 종사자를 대상으로 세종엠코타운(1-3생활권 M6블록) 특별공급 1차 청약을 받았다.\\n전체 1940세대 중 특별공급 물량은 1358세대(70%). 이틀간 최종 2239명이 청약에 나서 합계 경쟁률 1.64대 1을 기록했다.\\n84㎡ 쏠림 현상이 강하게 나타나 1차에서 마감됐고, 59㎡는 미달됐다.\\n84㎡는 499세대 청약가능 물량 중 1738명이 신청, 3.48대 1의 경쟁률을 나타냈다.\\n반면 59㎡의 경우, A타입이 743세대 모집에 467명이 몰려 0.62대1, B타입은 116세대에 34명 신청으로 0.29대 1에 그쳤다.\\n2차는 오는 13일 진행되고, 청약가능 물량은 59㎡ A타입 276세대, B타입 82세대 등 모두 358세대다.\\n2차 청약 후 남은 세대는 15일부터 진행되는 일반 청약물량으로 전환된다.\\n건설청 관계자는 “중앙 공무원들이 전반적으로 84㎡에 선호도를 보였다”며 “가족 동반 이주를 원하는 경향과 투자가치 측면에서 이 같은 선택을 한 것으로 분석된다”고 말했다.', 'IBK기업은행, 5억달러 규모 \\'코로나 지원\\' 채권 발행 성공[SEP]IBK기업은행이 코로나19 금융 지원에 사용할 목적으로 5억달러 규모의 외화 소셜본드 발행에 성공했다고 16일 밝혔다.\\n이번 채권 만기는 5년이며 미국 국채 금리에 72.5bp를 가산한 수준인 1.04% 고정금리로 발행됐다.\\n기업은행 관계자는 \\\\\"코로나19에 따른 시장 변동성 확대에도 불구하고 한국물 채권에 대한 투자자들의 견조한 수요를 통해 낮은 금리로 채권 발행에 성공했다\\\\\"고 밝혔다.\\n소셜 본드란 중소기업 지원, 일자리 창출, 취약계층 지원 등 사회문제 해결을 위한 목적에 자금의 용도가 제한되는 특수목적 채권이다.\\n환경·사회·지배구조(ESG)채권 중의 하나다.\\n기업은행은 2018년 8월 한국 기업 중 처음으로 소셜본드를 발행해 5억달러를 조달한 바 있다.\\n이로써 기업은행이 발행한 외화 소셜본드는 총 10억달러 규모로 늘었다.\\n기업은행 관계자는 이날 미디어SR에 \\\\\"이번 채권을 통해 발행한 자금은 기존에 기업은행이 진행하는 코로나19 피해 소상공인, 중소기업 지원에 사용될 것\\\\\"이라면서 \\\\\"내년 7, 8월경 홈페이지를 통해 자금 집행 결과, ESG 효과 등을 게시할 계획\\\\\"이라고 말했다.\\n오는 7월에는 지난 2018년 발행한 5억달러 규모의 소셜본드 집행 결과가 기업은행 홈페이지를 통해 공시될 예정이다.\\n윤종원 기업은행장은 이번 소셜본드 발행과 관련해 \\\\\"각국 중앙은행, 국제기구 등 다양한 투자자들의 관심이 성공적인 채권 발행으로 이어졌다\\\\\"며 \\\\\"앞으로도 기업은행은 사회적 책임을 다하기 위해 노력할 것\\\\\"이라고 강조했다.\\n한편 국내 은행이 한국물 시장에서 코로나19 관련 채권을 발행한 것은 지난 4월 KB국민은행에 이어 기업은행이 두 번째다.', '동원F&B-투썸플레이스 \\'맞손\\'…식물성 대체육 샌드위치 출시[SEP]동원F&B(대표 김재옥)가 프리미엄 디저트 카페 \\'투썸플레이스\\'와 손잡고 식물성 대체육 샌드위치 \\'비욘드미트 파니니\\' 2종(비욘드미트 더블 머쉬룸 파니니, 비욘드미트 커리 파니니)을 선보인다고 24일 밝혔다. \\'비욘드미트 파니니\\' 2종은 동원F&B가 2019년부터 미국에서 수입해 국내에 독점 판매하고 있는 식물성 대체육 브랜드 \\'비욘드미트(Beyond Meat)\\'의 \\'비욘드비프(Beyond Beef)\\' 제품을 넣은 샌드위치다.\\n새송이 버섯과 표고 버섯을 넣어 풍미를 더한 \\'비욘드미트 더블 머쉬룸 파니니\\'와 향긋한 커리 소스를 넣은 \\'비욘드미트 커리 파니니\\' 등 2종으로 구성됐다. \\'비욘드미트\\'는 2009년 설립된 미국의 스타트업으로 콩과 버섯, 호박 등에서 추출한 단백질로 100% 식물성 대체육을 만드는 업체다.\\n비욘드미트의 식물성 대체육은 환경호르몬이나 항생제 등이 들어 있지 않아 비건(Vegan) 소비자들은 물론 환경과 건강을 생각하는 소비자들로부터 각광 받고 있다.\\n비욘드미트의 대표 제품인 \\'비욘드버거(Beyond Burger)\\'는 출시 3년 만에 전세계 판매량 5,000만개를 돌파했으며 국내에서도 이마트를 비롯한 할인마트와 백화점, 온라인몰 등을 통해 현재까지 약 15만개 이상 판매됐다.\\n동원F&B는 이러한 호응에 힘입어 지난해 4월 \\'비욘드비프\\'와 \\'비욘드소시지\\'를 추가로 출시해 국내 대체육 시장 공략을 강화하고 있다.\\n동원F&B 관계자는 미디어SR에 \\\\\"건강과 환경에 대한 관심이 늘면서 밀레니얼 세대 사이에서는 \\'가치소비\\'가 트렌드로 자리잡고 있다\\\\\"며 \\\\\"국내 대체육 시장을 선도하는 기업으로서, \\'가치소비\\'를 원하는 소비자들을 위해 식물성 대체육을 활용한 다양한 신제품을 선보일 것\\\\\"이라고 말했다.', '트랜스베버리지, \\'와일드 터키 12년\\' 신제품 출시…한국서 처음 선봬[SEP]트랜스베버리지는 프리미엄 버번 위스키 \\'와일드 터키(Wild Turkey) 12년\\' 신제품을 한국에서 처음 출시한다고 2일 밝혔다.\\n와일드 터키 12년은 위스키 업계의 전설적인 부자 마스터 디스틸러인 지미 러셀(Jimmy Russell)과 에디 러셀(Eddie Russell)의 노하우가 담긴 와일드 터키 최상급 제품이다.\\n오크통에서 최소 12년 이상 숙성된 원액만을 사용해 만들었다.\\n한때 단종됐다가 20년 만에 새로운 패키지로 한국에 처음 선보이게 됐다.\\n와일드 터키 12년은 짙은 구리색에 캐러멜, 참나무 향을 느낄 수 있고 처음에는 달콤한 시트러스와 허브, 바닐라에 이어 피니시로는 스파이스와 함께 오크의 여운이 오래 남는다. \\'와일드 터키 8년\\'도 새로운 패키지로 리뉴얼됐다.\\n와일드 터키 12년과 8년 제품은 모두 50.5도로 나왔다.\\n700㎖ 용량으로 주요 리커 숍, 주류 판매점, 스마트 오더 등을 통해 구매할 수 있다.\\n트랜스베버리지 관계자는 \\\\\"최근 프리미엄 버번 위스키 애호가들이 폭발적으로 늘어나고 있어 와일드 터키 본사에서 한국을 전 세계 가장 중요한 4대 마켓으로 선정했다\\\\\"면서 \\\\\"한국 소비자들의 다양한 니즈를 충족하기 위해 최선을 다할 예정\\\\\"이라고 말했다.', '[CES2022]\\\\\"차원이 다른 화질\\\\\"…삼성디스플레이, TV·모니터용 QD디스플레이 공개[SEP]삼성디스플레이가 4일 오전(현지시간) 미국 라스베이거스에서 열리는 세계 최대 전자·IT 전시회 CES 2022 개막을 앞두고 TV와 모니터용 퀀텀닷(QD) 디스플레이를 공개했다.\\n최근 양산을 시작한 QD디스플레이는 세계 최초로 퀀텀닷을 내재화한, 백라이트가 없는 자발광 디스플레이다.\\n삼성디스플레이는 이날 55형과 65형 TV용 패널과 34형 모니터용 패널 등 총 3종의 제품을 선보였다.\\nQD디스플레이는 기존의 대형 디스플레이가 컬러 필터로 색을 구현하는 것과 달리 독자적인 잉크젯 프린팅 기술로 완성한 \\'QD 발광층\\'을 통해 역대 최고 수준의 색재현력과 넓은 시야각, 밝은 컬러 휘도, 혁신적인 HDR 등을 갖췄다.\\n입자 크기에 따라 다른 색을 내는 반도체 입자인 퀀텀닷은 순도 높은 RGB(빛의 삼원색)를 구현한다.\\n가장 레드에 가까운 레드, 블루에 가까운 블루를 표현하며 현재 상용화된 디스플레이 중 순수한 3원색에 가장 근접한 색을 낸다고 회사 측은 설명했다.\\n또 RGB 픽셀 만으로 색을 구현함으로서 RGB 컬러를 표현할 때도 밝기가 떨어지지 않아 더욱 더 선명한 색을 표현할 수 있다고 덧붙였다.\\nQD디스플레이는 서브 픽셀의 로컬 디밍 기술을 활용해 0.0005nit 이하의 트루 블랙부터 1500nit의 최고 밝기까지 표현 가능하다.\\n이렇게 넓은 휘도 폭 때문에 밝은 곳은 더 밝고 어두운 곳은 보다 어둡게 표현할 수 있으며 아주 어두운 화면에서도 세밀한 명암 표현이 가능하다.\\n삼성디스플레이는 이날 자발광 화질을 갖춘 34형 QHD+ QD디스플레이도 함께 공개했다.\\n모니터용 QD디스플레이는 화질뿐만 아니라 0.1ms의 빠른 응답 속도로 화면이 빠르게 전환되는 순간에도 끊김이나 끌림이 없는 선명한 화질을 구현한다.\\n이에 따라 업계 최고의 게이밍 퍼포먼스 인증인 \\'G-SYNC ULTIMATE\\'에 부합하는 성능도 확보했다.\\n삼성디스플레이는 \\\\\"QD디스플레이가 색감, 화질, 몰입감 등 모든 측면에서 최고의 게이밍 디스플레이로 모니터 시장에 새로운 변화를 몰고 올 것으로 기대한다\\\\\"고 밝혔다.\\n한편 삼성디스플레이는 이날 자사 OLED 패널을 대표하는 고유 기술인 \\'다이아몬드 픽셀\\'도 소개했다.\\n삼성디스플레이의 다이아몬드 픽셀은 인간의 망막이 적색, 녹색, 청색 중 녹색에 가장 민감하게 반응한다는 점에 착안해 녹색 소자 크기를 작고 촘촘하게 늘려서 구성됐다.\\n2013년 갤럭시 S4 OLED 패널에 처음 적용했다.\\n특히 45도 대각선 방향으로 화소를 구성한 다이아몬드 형태의 고유 배열 방식을 통해 높은 선명도와 가시성을 제공한다.\\n이에 따라 직선과 대각선, 날카롭고 정교한 패턴을 정확히 표현하는 데 탁월하다고 삼성디스플레이는 설명했다.']\n",
      "tokenizing 된 데이터 형태\n",
      "[Encoding(num_tokens=256, attributes=[ids, type_ids, tokens, offsets, attention_mask, special_tokens_mask, overflowing]), Encoding(num_tokens=256, attributes=[ids, type_ids, tokens, offsets, attention_mask, special_tokens_mask, overflowing]), Encoding(num_tokens=256, attributes=[ids, type_ids, tokens, offsets, attention_mask, special_tokens_mask, overflowing]), Encoding(num_tokens=256, attributes=[ids, type_ids, tokens, offsets, attention_mask, special_tokens_mask, overflowing]), Encoding(num_tokens=256, attributes=[ids, type_ids, tokens, offsets, attention_mask, special_tokens_mask, overflowing])]\n",
      "tokenizer 에 들어가는 데이터 형태\n",
      "['본그룹 \\\\\"일상 속 걷기로 비대면 기부 캠페인 참여해요\\\\\"[SEP]국내 대표 한식 프랜차이즈 기업 본아이에프가 속한 \\'본그룹\\'이 오늘부터 내달 16일까지 임직원들의 일상 속 걷기를 통해 보양죽을 기부하는 비대면 사회공헌 캠페인 \\'달빛아래 소소걸음\\'을 전개한다고 16일 밝혔다.\\n이번 캠페인은 \\'달빛아래 소소걸음\\'이라는 주제로 진행하게 됐으며, 지난 6월 진행한 1차 \\'소소걸음\\' 캠페인에 이어 2차로 진행되는 임직원 비대면 걸음 기부 프로그램이다.\\n본그룹 관계자는 미디어SR에 \\\\\"이번 캠페인은 깊어지는 겨울과 함께 아름다운 달빛 아래에서 더욱 부지런히 걸으며 정신적ㆍ신체적 건강을 모두 챙기는 것은 물론, 지역사회에도 따뜻한 손길을 다시 한번 내밀자는 뜻을 담았다\\\\\"고 설명했다.\\n지난 1차 캠페인 진행 당시, 임직원 195명이 참여해 최초 목표 걸음 수 대비 11%를 초과한 약 3500만 걸음을 달성하며 적극적인 참여와 높은 관심을 증명했다.\\n본그룹은 이를 통해 말복에 본죽 삼계죽, 전복죽 등으로 이루어진 보양죽 500인분을 홀몸 어르신들께 기부할 수 있었다.\\n이번 2차 \\'달빛아래 소소걸음\\' 역시 걸음 기부 사회 공헌 플랫폼 \\'빅워크\\'와의 제휴를 통해 비대면으로 진행하며, 출퇴근 혹은 개인 운동 시간 등 달빛 아래서 걸을 수 있다면 언제든 손쉽게 참여할 수 있다.\\n목표한 걸음 수를 충족시키면 오는 12월 혹한기 시즌에 맞춰 서울시 취약계층 어르신께 기운을 북돋아 줄 수 있는 본죽 동지팥죽 500인분을 기부할 계획이다.\\n한편 본그룹은 이외에도 올해 \\'코로나19\\' 여파에도 포기하지 않고 임직원들이 힘을 모아 주변 이웃들에게 비대면으로 행할 수 있는 따뜻한 손길을 지속적으로 전해오고 있다.\\n본그룹은 쪽방촌 주민을 위한 면마스크 제작 기부를 비롯해 환경의 날 거리 입양 및 쓰레기 줍깅(줍기+조깅의 합성어) 청각 장애인을 위한 립뷰(lip-view) 마스크\\' 제작 청각 장애인을 돕기 위해 영화의 소리 정보를 자막으로 입힌 \\'배리어프리(barrier free) 영화\\'제작에 참여하는 등 활발하게 비대면 사회공헌 활동을 전개하고 있다.\\n본그룹 김철호 그룹장은 \\\\\"지난 1차\\'소소걸음\\'캠페인에 임직원들의 적극적인 참여와 따뜻한 마음이 더해져 홀몸 어르신들이 든든하게 몸보신 할 수 있는 보양죽을 전달할 수 있었다\\\\\"며 \\\\\"지금껏 보여준 것처럼, 임직원들의 작지만 커다란 노력을 통해 이웃과 지역사회에 선한 영향력을 발휘할 수 있기를 바란다\\\\\"\"고 말했다.', '\\\\\"그림 완성하고 미니 콘서트도\\\\\" 아이파크몰, 체험형 콘텐츠 강화[SEP]HDC아이파크몰은 고객이 직접 참여하고 경험할 수 있는 체험형 콘텐츠를 통해 오프라인 시장 경쟁력 강화에 나선다고 19일 밝혔다.\\n아이파크몰은 리오프닝(경제 활동 재개)이 본격화 됨에 따라 신규 고객 유입과 기존 고객의 재방문율 등을 높이고자 새로운 콘셉트의 체험형 콘텐츠를 시리즈 별로 선보일 것이라고 말했다.\\n첫 번째 콘텐츠는 예체능 시리즈로 가족과 연인, 친구 등 남녀노소 누구나 즐길 수 있는 미술관, 미니 콘서트, 플라워 클래스, 미니카 레이싱 등으로 구성했다.\\n아이파크몰은 카페거리에 최근 MZ세대(밀레니얼+Z세대) 사이에서 큰 인기를 얻고 있는 성수 미술관을 선보였다.\\n누구나 자유롭게 미술작품을 완성할 수 있는 문화생활 공간으로 오는 31일까지 팝업스토어 형식으로 운영된다.\\n가족 단위 고객을 잡기 위한 콘텐츠도 준비했다.\\n4층 더 테라스 야외 공간에서 타미야 \\'2022 코리아 미니카 대회\\'가 21일, 22일 주말 양일간 \\'오픈 클래스\\', \\'팀 대항전 오픈 클래스\\', \\'점프 비기너 클래스(주니어 포함)\\', \\'스피트 스톡 클래스\\' 총 4가지 클래스로 진행된다.\\n반려식물과 플랜테리어(플랜트+인테리어)의 수요가 늘고 있는 것에 맞춰 \\'사라스가든\\'과 함께 하는 원데이 플라워 클래스 \\'센터피스 만들기\\' 체험형 프로그램이 주말간 4층 더 가든에서 진행되며 21일에는 편안하게 클래식 기타연주를 감상 할 수 있는 \\'야마하 미니 콘서트\\'도 즐길 수 있다.\\n아이파크몰 관계자는 \\\\\"오프라인 플랫폼으로서 경쟁력을 강화하기 위한 방법의 핵심은 \\'방문을 해야 하는 이유\\'를 만드는 것\\\\\"이라며 \\\\\"아이파크몰은 고객이 방문 할 때 마다 색다른 경험으로 즐겁게 즐길 수 있는 쇼핑문화를 만들어 나가기 위해 노력할 것\\\\\"이라고 말했다.', \"LH 미분양아파트 소진 '진땀', 공급실적 올리기위해 알선수수료까지 지원키로[SEP]연말을 앞두고 한국토지주택공사(LH) 대전충남지역본부가 아파트 공급실적을 끌어올리기 위해 안간힘을 쏟고 있다.\\n일부 공급 실적이 저조한 물량에 대해서는 공인중개사들을 동원해 알선수수료까지 지원하며 미분양 물량을 소진코자 여념이 없다.\\nLH 대전충남지역본부는 지난 24일 대전지역 공인중개사를 비롯해 LH 공동주택 계약자를 대상으로 미분양 아파트 및 토지 매매를 소개할 경우, 1건당 150만~200만원의 알선수수료를 지원한다는 안내서를 보냈다.\\n대상은 올해 분양된 천동2지구 500여세대 및 준공된 아파트(구성지구, 대동지구, 대신지구, 석촌2지구) 50세대 등 550여세대의 미분양 아파트다.\\n동구지역 부동산 시장이 상대적으로 위축된 나머지 올해 공급실적을 높이기 위해 LH는 평균적으로 1건 당 150만원을 알선수수료로 제공하고 천동2지구 아파트의 전용면적 118㎡에 대해서만 1건당 200만원을 지원키로 했다.\\n도안 신도시를 비롯해 관저지구의 단독주택용지 역시 목표 실적을 채우려면 갈 길이 멀다.\\nLH 대전충남본부는 도안 신도시 753필지, 관저지구 108필지 등 모두 871필지의 단독주택용지에 대한 추첨공급을 다음달께 진행할 예정이다.\\n그러나 부동산 경기 침체에 따라 계약체결이 가능한 물량이 많지 않을 것이라는 예상도 나오면서 각각 수의계약 때 1건당 200만원 안팎의 알선수수료를 공인중개사들에게 지원할 계획이다.\\nLH가 연말을 앞두고 실적 올리기에 박차를 가하는 데는 해마다 실시되는 업무평가를 대비하기 위해서다.\\n올해의 경우에는 대통령 선거도 겹쳐 인사에도 변수가 많을 것으로 예상되는 만큼 내년도 인사결정에서 우위를 차지할 수 있도록 실적관리에 매진하는 분위기다.\\n다만, 최근 들어 노은3지구 보금자리주택에 대한 지역 실수요자들의 기대치가 높은 만큼 LH 대전충남지역본부로서도 계약률에 촉각을 곤두세우고 있다.\\n지역의 한 공인중개사는 “최근 부동산 시장에서 워낙 거래수요가 많지 않아 알선수수료라도 받아볼 생각에 동구지역 아파트 중개에 관심을 두고 있다”며 “하지만 동구지역 미분양 물량을 매입하려는 수요자들이 얼마나 몰려들지는 확신하기는 어렵다”고 말했다.\", '신한銀, 비대면 \\'땡겨요 사업자 대출\\' 출시…최대 1000만원 가능[SEP]신한은행은 시중은행 최초로 땡겨요 입점 개인사업자를 위한 신용대출 상품인 \\'땡겨요 사업자 대출\\'을 출시했다고 6일 밝혔다.\\n이번 상품은 배달 애플리케이션(앱) 플랫폼 참여자인 개인사업자에게 이로운 혜택을 제공하고 배달 플랫폼에서의 상생을 실현하기 위해 개발했다.\\n땡겨요 사업자 대출은 배달앱 플랫폼인 땡겨요에 입점한 개인사업자 고객을 대상으로 대출한도는 신한은행 계좌로 입금되는 매출데이터를 분석해 최대1000만원까지 가능하다.\\n상환방식은 원금균등분할상환방식, 대출만기는 최대 36개월이다.\\n또한 땡겨요에서 발생한 매출정산대금 수령계좌를 신한은행으로 지정하면 0.5%우대금리를 받을 수 있다.\\n이번 상품은 신한 쏠비즈에서 신청할 수 있으며 대출 전 과정을 완전 비대면화해 생업에 바쁜 개인사업자들이 보다 손쉽게 대출 신청 할 수 있도록 구현했다.\\n신한은행 관계자는 \\\\\"선한 시장 조성자 땡겨요의 상생실현과 코로나19로 어려움을 겪는 개인사업자를 위해 이번 상품을 기획했다\\\\\"며 \\\\\"앞으로 땡겨요와 연계한 금융 및 비금융서비스를 통해 개인사업자 대상 신규 콘텐츠를 확대하겠다\\\\\"고 말했다.', '[신년사]김현수 농식품부 장관 \\\\\"농업, 데이터 기반 첨단산업 변모\\\\\"[SEP]김현수 농림축산식품부 장관은 농업을 데이터 기반의 첨단산업으로 변모시키고 젊은 인재를 육성하겠다고 30일 신년사에서 밝혔다.\\n\\\\\"스마트팜 혁신밸리는 단순한 토목공사가 아니다\\\\\"라고 힘주어 말했다.\\n김 장관은 \\\\\"(스마트팜 혁신밸리는) 노동력과 경험에 의존하던 농업을 기술과 데이터에 기반한 첨단 산업으로 바꿀 농업 혁명의 상징\\\\\"이라며 \\\\\"각 혁신밸리의 빅데이터센터에서 축적된 스마트팜 데이터를 민간에 개방하면 딥러닝을 통해 인공지능(AI)이 농업 현장의 문제를 분석하고 대안을 제시할 수 있다\\\\\"고 설명했다.\\n또 \\\\\"농산물 유통까지 스마트하게 변해야 한다\\\\\"며 \\\\\"내년에는 농산물 온라인 도매거래 품목과 물량을 늘리고 농가, 최종 수요자, 식자재 업체 등이 참여하는 온라인 거래 플랫폼을 만들 계획\\\\\"이라고 소개했다.\\n그러면서 \\\\\"이를 통해 농축산물 거래정보가 실시간으로 축적되고 공개돼 유통 빅데이터가 구축되는 것을 기대할 수 있다\\\\\"고 덧붙였다.\\n김 장관은 스마트팜 혁신밸리에서 청년농을 길러내겠다는 목표도 제시했다.\\n그는 \\\\\"전국 4곳의 혁신밸리에서는 스마트 농업에 관한 한 가장 앞선 기술을 배우게 될 것\\\\\"이라며 \\\\\"이렇게 배출될 농업인들이 대한민국 농업의 주역이 될 날이 머지않았다\\\\\"고 말했다.\\n김 장관은 식량안보를 강화하기 위해 밀과 콩 등의 생산·소비 기반을 확충하겠다는 계획도 언급했다.\\n그는 \\\\\"단기적으로 발생할 수 있는 식량위기에 대응하기 위해 국산 쌀, 밀, 콩 등 주요 곡물의 비축을 늘리겠다. 비료 등 필수적인 원자재 수입선도 다변화할 것\\\\\"이라고 공언했다.\\n아울러 내년 상반기에 \\'탄소중립 세부 이행계획\\'을 마련하겠다고 밝혔다.\\n작물이나 가축의 생육 과정에서 발생하는 탄소를 줄이기 위해서다.\\n김 장관은 \\\\\"농업은 기후변화의 영향을 가장 직접적으로 받는 산업인 만큼 지금 변화를 위한 행동에 나서야 한다\\\\\"며 \\\\\"농업인이 탄소배출권을 거래할 수 있도록 돕거나 공익직불제와 연계하는 등 다양한 지원 방안을 고민할 것\\\\\"이라고 말했다.\\n이와 함께 그는 코로나19 사태와 기후변화 등을 거론하면서 \\\\\"저를 비롯한 농림축산식품 공직자는 \\'대전환기\\'에 농업이 새로운 미래를 개척하도록 돕는 \\'액셀러레이터\\'가 될 것\\\\\"이라고 했다.']\n",
      "tokenizing 된 데이터 형태\n",
      "[Encoding(num_tokens=256, attributes=[ids, type_ids, tokens, offsets, attention_mask, special_tokens_mask, overflowing]), Encoding(num_tokens=256, attributes=[ids, type_ids, tokens, offsets, attention_mask, special_tokens_mask, overflowing]), Encoding(num_tokens=256, attributes=[ids, type_ids, tokens, offsets, attention_mask, special_tokens_mask, overflowing]), Encoding(num_tokens=256, attributes=[ids, type_ids, tokens, offsets, attention_mask, special_tokens_mask, overflowing]), Encoding(num_tokens=256, attributes=[ids, type_ids, tokens, offsets, attention_mask, special_tokens_mask, overflowing])]\n",
      "--- tokenizing Done ---\n",
      "--- dataset class Done ---\n",
      "--- Set training arguments Done ---\n",
      "--- Set Trainer Done ---\n",
      "--- Start train ---\n"
     ]
    },
    {
     "name": "stderr",
     "output_type": "stream",
     "text": [
      "/home/pervinco/.local/lib/python3.8/site-packages/transformers/training_args.py:1494: FutureWarning: `evaluation_strategy` is deprecated and will be removed in version 4.46 of 🤗 Transformers. Use `eval_strategy` instead\n",
      "  warnings.warn(\n"
     ]
    },
    {
     "data": {
      "text/html": [
       "\n",
       "    <div>\n",
       "      \n",
       "      <progress value='47' max='47' style='width:300px; height:20px; vertical-align: middle;'></progress>\n",
       "      [47/47 00:10, Epoch 1/1]\n",
       "    </div>\n",
       "    <table border=\"1\" class=\"dataframe\">\n",
       "  <thead>\n",
       " <tr style=\"text-align: left;\">\n",
       "      <th>Step</th>\n",
       "      <th>Training Loss</th>\n",
       "      <th>Validation Loss</th>\n",
       "    </tr>\n",
       "  </thead>\n",
       "  <tbody>\n",
       "  </tbody>\n",
       "</table><p>"
      ],
      "text/plain": [
       "<IPython.core.display.HTML object>"
      ]
     },
     "metadata": {},
     "output_type": "display_data"
    },
    {
     "name": "stdout",
     "output_type": "stream",
     "text": [
      "--- Finish train ---\n"
     ]
    }
   ],
   "source": [
    "class args():\n",
    "  \"\"\"학습(train)과 추론(infer)에 사용되는 arguments 관리하는 class\"\"\"\n",
    "  dataset_dir = \"./\"\n",
    "  model_type = \"roberta\" # 다른 모델 사용 가능 e.g) \"bert\" , \"electra\" ···\n",
    "  model_name = \"klue/roberta-large\" # 다른 모델 사용 가능 e.g) \"klue/bert-base\" , \"monologg/koelectra-base-finetuned-nsmc\" ···\n",
    "  save_path = \"./\"\n",
    "  save_step = 200\n",
    "  logging_step = 200\n",
    "  eval_step = 100\n",
    "  save_limit = 5\n",
    "  seed = 42\n",
    "  epochs = 1 # 10\n",
    "  batch_size = 8 # 메모리 상황에 맞게 조절 e.g) 16 or 32\n",
    "  max_len = 256\n",
    "  lr = 3e-5\n",
    "  weight_decay = 0.01\n",
    "  warmup_steps = 300\n",
    "  scheduler = \"linear\"\n",
    "  model_dir = \"./best_model\" #추론 시, 저장된 모델 불러오는 경로 설정\n",
    "\n",
    "train(args)"
   ]
  },
  {
   "cell_type": "code",
   "execution_count": null,
   "metadata": {},
   "outputs": [],
   "source": []
  },
  {
   "cell_type": "code",
   "execution_count": 10,
   "metadata": {},
   "outputs": [],
   "source": [
    "from transformers import AutoTokenizer, AutoModelForSequenceClassification\n",
    "from torch.utils.data import DataLoader\n",
    "import pandas as pd\n",
    "import torch\n",
    "import torch.nn.functional as F\n",
    "\n",
    "import numpy as np\n",
    "from tqdm import tqdm\n",
    "from sklearn.metrics import accuracy_score, f1_score"
   ]
  },
  {
   "cell_type": "code",
   "execution_count": 11,
   "metadata": {},
   "outputs": [],
   "source": [
    "def load_model_for_inference(args):\n",
    "    \"\"\"추론(infer)에 필요한 모델과 토크나이저 load \"\"\"\n",
    "    # load tokenizer\n",
    "    Tokenizer_NAME = args.model_name\n",
    "    tokenizer = AutoTokenizer.from_pretrained(Tokenizer_NAME)\n",
    "\n",
    "    ## load my model\n",
    "    model = AutoModelForSequenceClassification.from_pretrained(args.model_dir)\n",
    "\n",
    "    return tokenizer, model"
   ]
  },
  {
   "cell_type": "code",
   "execution_count": 12,
   "metadata": {},
   "outputs": [],
   "source": [
    "def inference(args, model, tokenized_sent, device):\n",
    "    \"\"\"학습된(trained) 모델을 통해 결과를 추론하는 function\"\"\"\n",
    "    dataloader = DataLoader(tokenized_sent, batch_size=args.batch_size, shuffle=False)\n",
    "    model.eval()\n",
    "    output_pred = []\n",
    "    for i, data in enumerate(tqdm(dataloader)):\n",
    "        with torch.no_grad():\n",
    "            outputs = model(\n",
    "                input_ids=data[\"input_ids\"].to(device),\n",
    "                attention_mask=data[\"attention_mask\"].to(device),\n",
    "            )\n",
    "        logits = outputs[0]\n",
    "        logits = logits.detach().cpu().numpy()\n",
    "        result = np.argmax(logits, axis=-1)\n",
    "\n",
    "        output_pred.append(result)\n",
    "    return (np.concatenate(output_pred).tolist(),)"
   ]
  },
  {
   "cell_type": "code",
   "execution_count": 15,
   "metadata": {},
   "outputs": [],
   "source": [
    "def infer_and_eval(args):\n",
    "    \"\"\"학습된 모델로 추론(infer)한 후에 예측한 결과(pred)를 평가(eval)\"\"\"\n",
    "    # set device\n",
    "    device = torch.device(\"cuda:0\" if torch.cuda.is_available() else \"cpu\")\n",
    "\n",
    "    # set model & tokenizer\n",
    "    tokenizer, model = load_model_for_inference(args)\n",
    "    model.to(device)\n",
    "\n",
    "    # set data\n",
    "    news_train_dataset, news_val_dataset, news_test_dataset, test_dataset = prepare_dataset(args.dataset_dir,tokenizer,args.max_len)\n",
    "\n",
    "    # predict answer\n",
    "    pred_answer = inference(args, model, news_test_dataset, device)  # model에서 class 추론\n",
    "    print(\"--- Prediction done ---\")\n",
    "\n",
    "    # evaluate between label and prediction\n",
    "    labels = test_dataset['label'].values\n",
    "    pred = pred_answer[0]\n",
    "\n",
    "    acc = accuracy_score(labels, pred)\n",
    "    f1 = f1_score(labels, pred, average='macro')\n",
    "    print(f\" ----- accuracy:{acc * 100:.1f}% -----\")\n",
    "    print(f\"----- f1_score(macro): {f1 * 100:.1f}% ------\")\n",
    "\n",
    "    # make csv file with predicted answer\n",
    "    output = pd.DataFrame(\n",
    "        {\n",
    "            \"title\": test_dataset[\"newsTitle\"],\n",
    "            \"cleanBody\": test_dataset[\"newsContent\"],\n",
    "            \"clickbaitClass\": pred,\n",
    "        }\n",
    "    )\n",
    "\n",
    "    # 최종적으로 완성된 예측한 라벨 csv 파일 형태로 저장.\n",
    "    result_path = \"./prediction/\"\n",
    "    if not os.path.exists(result_path):\n",
    "        os.makedirs(result_path)\n",
    "    output.to_csv(\n",
    "        os.path.join(result_path,\"result.csv\"), index=False\n",
    "    )\n",
    "    print(\"--- Save result ---\")\n",
    "    return output"
   ]
  },
  {
   "cell_type": "code",
   "execution_count": 16,
   "metadata": {},
   "outputs": [
    {
     "name": "stdout",
     "output_type": "stream",
     "text": [
      "dataframe 의 형태\n",
      "   Unnamed: 0 newsCategory newsSubcategory                        newsTitle  \\\n",
      "0       12529           경제           금융/증권  김종민 대전산단협회장 “산단 발전과 인식변화 위해 노력”   \n",
      "1        4815           경제              유통     힐튼 가든 인, 내달 1일 루프톱 야외 수영장 개장   \n",
      "2       11556           경제           유통/쇼핑                    이마트에서 겨울패션 충전   \n",
      "3       11798           경제           유통/쇼핑      새 통큰상품 기대하세요…롯데마트 창립17주년 행사   \n",
      "4       15381           경제            대덕특구              추석 열차 승차권 10~11일 예매   \n",
      "\n",
      "                                         newsContent  label  \n",
      "0  “대전산업단지 발전과 인식 변화를 위해 최선의 노력을 다하겠다.” 제14대 대전산업...      1  \n",
      "1  힐튼 가든 인 서울 강남은 다음달 1일부터 루프톱 야외 수영장을 오픈, 온수풀을 가...      0  \n",
      "2  이마트가 지속되는 한파에 끝이 보이지 않는 겨울을 이기기 위한 비법으로 겨울 패션 ...      1  \n",
      "3  롯데마트는 창립 17주년을 맞아 다양한 '통큰 상품'을 새롭게 출시한다고 26일 밝...      1  \n",
      "4  올해 추석 연휴(9월 9~14일) 열차 승차권(좌석지정 승차권) 예매가 오는 10일...      1  \n",
      "dataframe 의 형태\n",
      "   Unnamed: 0 newsCategory newsSubcategory  \\\n",
      "0       21851           경제              산업   \n",
      "1        1409           경제            경제일반   \n",
      "2       15087           경제          건설/부동산   \n",
      "3        8527           경제              정책   \n",
      "4        9157           경제              정책   \n",
      "\n",
      "                                    newsTitle  \\\n",
      "0            본그룹 \\\"일상 속 걷기로 비대면 기부 캠페인 참여해요\\\"   \n",
      "1       \\\"그림 완성하고 미니 콘서트도\\\" 아이파크몰, 체험형 콘텐츠 강화   \n",
      "2  LH 미분양아파트 소진 '진땀', 공급실적 올리기위해 알선수수료까지 지원키로   \n",
      "3       신한銀, 비대면 '땡겨요 사업자 대출' 출시…최대 1000만원 가능   \n",
      "4     [신년사]김현수 농식품부 장관 \\\"농업, 데이터 기반 첨단산업 변모\\\"   \n",
      "\n",
      "                                         newsContent  label  \n",
      "0  국내 대표 한식 프랜차이즈 기업 본아이에프가 속한 '본그룹'이 오늘부터 내달 16일...      1  \n",
      "1  HDC아이파크몰은 고객이 직접 참여하고 경험할 수 있는 체험형 콘텐츠를 통해 오프라...      0  \n",
      "2  연말을 앞두고 한국토지주택공사(LH) 대전충남지역본부가 아파트 공급실적을 끌어올리기...      1  \n",
      "3  신한은행은 시중은행 최초로 땡겨요 입점 개인사업자를 위한 신용대출 상품인 '땡겨요 ...      0  \n",
      "4  김현수 농림축산식품부 장관은 농업을 데이터 기반의 첨단산업으로 변모시키고 젊은 인재...      0  \n",
      "tokenizer 에 들어가는 데이터 형태\n",
      "['신한카드-제주테크노파크, 데이터 기반 ESG 업무협약[SEP]신한카드는 제주지역의 산업발전 지역혁신 거점 공공기관인 제주테크노파크와 \\'데이터 기반 제주 ESG 강화를 위한 공동연구\\'와 관련한 업무협약을 체결했다고 19일 밝혔다.\\n제주시 제주테크노파크에서 전날 열린 협약식에는 김일봉 신한카드 라이프사업본부 본부장과 장석호 제주테크노파크 디지털융합센터 센터장 등이 참석했다.\\n신한카드 관계자는 데일리임팩트에 \\\\\"이번 협약을 통해 양 기관은 신한카드의 소비 데이터 기반 빅데이터와 제주테크노파크가 보유한 공공데이터를 융합해 제주 지역 ESG 강화를 위한 다양한 공동연구를 전개해나갈 것\\\\\"이라고 설명했다.\\n먼저 배달음식 수요 확대, 1인 가구 증가 등의 다양한 요인에 따른 식습관 변화로 인한 쓰레기 배출량 연관관계 분석에 나선다.\\n이를 통해 제주 지역 음식물 쓰레기 배출량을 예측하고 쓰레기 배출량 감소 방안 등을 도출해 제주 지역 환경 개선을 위한 공동 연구를 추진한다는 계획이다.\\n특히 국내 최초로 개발 중인 카드 소비 기반 탄소배출지수인 \\'신한 그린 인덱스(Green Index)\\'를 활용해 친환경 소비를 유도하는 마케팅을 실시하는 등 제주 지역의 ESG 활동 강화에 기여할 수 있을 것으로 보고 있다.\\n이외에도 신한카드는 제주 지역 기업들의 데이터 분석·활용 능력 강화를 위한 컨설팅 진행 등 다양한 사회적 활동을 진행해 제주 지역 데이터 경제를 활성화할 방침이다.\\n한편 신한카드는 신한금융그룹의 새로운 비전인 \\'더 쉽고 편안한, 더 새로운 금융\\'과 연계해 총 170여개의 대한민국을 대표하는 다양한 분야의 공공기관과 민간기업을 대상으로 450여개 프로젝트를 수행하며 데이터 협업을 강화해 나가고 있다.', '코스피 2700·코스닥 900선 하회 출발…우크라이나 교전·물가상승 우려[SEP]코스피와 코스닥지수 모두 하락 출발했다.\\n러시아와 우크라이나 교전과 이에 따른 인플레이션(물가상승) 우려로 인해 코스피는 한 때 2676선까지 밀렸다.\\n7일 오전 10시 코스피는 전거래일대비 1.82%(49.27포인트) 하락한 2664.16을 가리키고 있다.\\n이날 코스피는 전 거래일대비 1.23%(30.26 포인트) 내린 2680.17에 장을 출발해 장 초반 낙폭을 키우는 모습이다.\\n지난 4일(현지시간) 견조한 미국 고용지표에도 불구하고 러시아가 우크라이나의 유럽 최대 원자력 발전소를 포격한 사실이 알려지며 투자심리를 위축한 것으로 풀이된다.\\n러시아와 우크라이나는 7일(현지시간) 휴전 및 민간인 대피를 위한 제3차 협상을 앞두고 있지만 긴장 상황은 여전하다.\\n6일(현지시간) 러시아가 루마니아 등 우크라이나 인접국에 우크라이나 전투기를 발진시킬 경우 전쟁에 개입한 것으로 간주하겠다고 경고하는 등 상황이 악화될 가능성에 투자심리가 크게 위축된 것으로 풀이된다.\\n미국 증시는 지난 4일(현지시간) 우크라이나에 위치한 유럽 최대 원자력 발전소가 러시아의 포격을 받았다는 소식에 하락 출발, 하락 마감했다.\\n2월 비농업 고용자 수가 예상치를 크게 뛰며 지난해 7월 이후 가장 높은 숫자를 기록했지만 전쟁에 따른 물가상승 우려가 더 큰 영향을 미친 것이다.\\n이 시각 현재 투자자 동향을 보면 외국인과 기관은 각각 3557억원, 4057억원을 팔아치운 반면 개인은 홀로 7562억원을 순매수하고 있다.\\n시가총액 상위 종목들도 대부분 하락세를 보이고 있다.\\n삼성전자는 전거래일 대비 1.96% 하락한 7만100원에 거래 중이다.\\n이외 SK하이닉스(-4.02%), 네이버(-2.99%), 삼성바이오로직스(-1.68%), 카카오 (-1.80%), LG화학(-3.36%), 현대차(-1.45%), 삼성SDI(-2.65%), 기아(-2.74%), 포스코(-1.37%) 등 시총 상위 10종목 모두 내림세다.\\n업종별로 보면 보험(-2.66%),섬유·의복(-2.56%), 금융업(-2.42%), 음식료품(-2.32%), 증권(-2.28%), 화학(-2.19%), 전기/전자(-2.11%), 은행(-2.01%) 순의 하락세를 보였다.\\n같은시각 코스닥지수는 전 거래일 대비 1.47%(13.22포인트) 하락한 887.74에 거래 중이다.\\n이날 코스닥지수는 전 거래일 대비 1.22%(11.01 포인트) 내린 889.95에 개장했다.\\n투자자별 동향을 보면 역시 개인 홀로 728억원치를 순매수한 반면 외국인과 기관은 각각 3747억원, 4173억원을 순매도했다.\\n업종별로 보면 IT부품이 2.97% 하락하며 가장 큰 낙폭을 보였다.\\n통신장비(-2.49%), 종이/목재(-2.26%), 반도체 -1.97%), 운송장비/부품(-2.09%), 화학(-2.02%)등 거의 전 업종이 하락하고 있다.\\n비금속만 유일하게 1.32% 상승 중이다.', '물 대신 CO2로 빨래를?…LG전자, \\'물 없는 세탁기\\' 나온다[SEP]물이나 기름 대신 이산화탄소로 의류를 세탁하는 \\'CO2 세탁기\\'가 나온다.\\n그동안 규제에 가로막혀 제품 출시가 불가능했지만 규제 샌드박스(규제 유예)를 통해 상용화의 길이 열렸다.\\n버스, 지하철 광고와 마찬가지로 서울시가 운영하는 공유자전거 서비스를 활용한 옥외광고도 허용된다.\\n1일 산업통상자원부에 따르면 지난달 30일 개최한 \\'2021년 제6차 산업융합 규제특례심의위원회\\'에서 CO2 세탁기를 포함해 실증특례 10건, 임시허가 5건 등 총 15건의 규제특례를 승인했다.\\n이번에 규제특례 승인을 받은 LG전자의 CO2 세탁기는 물 또는 기름을 사용하지 않고 액체 상태의 이산화탄소를 순환시켜 친환경 세탁이 가능토록 한다.\\n고압가스안전관리법상 CO2를 압축, 액화하는 것은 고압가스 제조행위로 상하좌우 8m 이격, 방호벽 설치, 안전관리자 선임 등 의무를 적용받기 때문에 현행 규제상 CO2 세탁기 상용화는 불가능하다.\\n규제특례심의위는 사고 발생에 대비해 산업부가 제시한 적정압력 모니터링, 방호벽 설치, 가스누출 검지설비 설치 등 안전조치 사항을 전제로 CO2 세탁기를 조건부로 승인했다.\\nCO2 세탁기가 세탁 용제를 쓰지 않아 친환경적이고, 해외에서 이미 상용화된 제품이라는 점도 고려했다.\\nLG전자는 CO2 세탁기를 자체 연구소 내에 설치, 2년간 시험운영한 후 안전성이 입증되면 일반 상가 내 세탁소 설치가 가능하도록 임시허가를 신청할 계획이다.\\n산업부 관계자는 \\\\\"향후 CO2 세탁기 상용화 시에는 물과 기름을 사용하지 않는 친환경 세탁방식이 확산될 수 있어 환경오염을 방지하고 탄소중립을 달성하는데 기여할 것\\\\\"이라고 밝혔다.\\n서울시가 신청한 공유자전거 차체를 활용한 광고 서비스에 대한 실증특례도 승인됐다.\\n지금은 옥외광고물법 시행령상 옥외광고물 표시대상에 자전거가 포함되지 않아 공유자전거를 이용한 광고 서비스 제공은 불가능하다.\\n그러나 앞으로는 공유자전거 바구니, 프레임, 앞바퀴 커버 등을 통한 광고가 가능해진다.\\n아울러 ▲셀프 수소충전소 구축 ▲과금형 콘센트를 활용한 전기차 저장 전력의 차량 외부 공급 서비스 ▲사용후 전기차 배터리 재사용을 통한 태양광 가로등 ▲공원 자율주행 순찰로봇 ▲재외국민 비대면 진료·상담 서비스 등에 대한 실증특례도 승인을 받았다.\\n이번 규제특례 승인 15건을 포함해 산업융합 규제특례심의위는 총 198건의 과제를 승인했다.\\n이를 통해 107개 기업이 사업을 개시해 매출 789억원, 투자 2462억원, 신규고용 403명 창출하는 성과를 거뒀다.', \"한가위 세일… 한아름 안고 가세요[SEP]▲ 상품권ㆍ기프트카드로 스마트한 선물 추석명절을 앞두고 20일 다양한 금액의 갤러리아 상품권과 기프트 카드가 갤러리아 타임월드점에서 판매돼 한복을 곱게 차려입은 직원들이 상품권과 기프트 카드를 들어보이고 있다.\\n손인중 기자 백화점업계가 추석을 1주일여 앞두고 다양한 선물전과 브랜드세일을 마련, 고객몰이에 나선다. 20일 백화점업계에 따르면 갤러리아백화점 타임월드는 청과, 정육, 건어물 등 식품류 선물세트와 제수용품 특별코너, 브랜드세일 등 다양한 상품의 선물전을 진행한다.\\n지하 2층 식품관에서는 제수용품 특별전, '10+1' 선물세트 행사도 펼친다.\\n지하 1층에서는 브랜드별 일정기간 동안 할인된 가격에 구입할 수 있는 브랜드데이를 실시하며 패션잡화 특집전도 진행, 실속 쇼핑의 기회를 제공한다. 5층 남성의류 매장에서는 구매금액에 따른 풍성한 사은선물을 증정하고, 8층 행사장에서는 효도선물 제안전으로 전시상품에 한 해 최대 40% 할인 판매한다.\\n대전 롯데백화점도 층별로 다양한 추석 선물전과 더불어 다음달 2일까지 유명 브랜드세일을 펼쳐 10~30% 할인된 금액에 판매한다.\\n지하 1층 식품관에서는 건강식품과 청과, 정육 등 선물세트가 마련돼 있으며 구매 금액에 따라 사은행사를 펼쳐 추가 혜택도 받을 수 있다. 1층 화장품 매장에서는 브랜드별 선물세트를 선보이고, 5층 매장에서는 유명 브랜드의 셔츠, 넥타이 선물상품전이 진행된다.\\n9층 특설매장에서는 35개 브랜드가 참여하는 '2012 여성 트렌치코트 Fair'가 펼쳐져 최대 70% 할인된 금액에 판매된다.\\n백화점세이도 구매금액에 따른 5% 상품권 또는 사은선물 행사를 진행하고, 5만원 이상 구매고객에게 양말을 증정한다.\\n지하 1층 슈퍼에서는 쇼핑객들의 부담은 덜고 격식은 갖출 수 있는 가격대별 다양한 선물세트를 마련했다.\\n백화점 관계자는 “추석을 앞두고 풍성하고 여유로운 한가위가 될 수 있도록 다양한 상품을 저렴하게 판매, 실속 쇼핑의 기회를 제공하고 있다”고 말했다.\", \"KT&G 지역사회공헌도 '인색'[SEP]대전에 본사를 두고 있는 대기업 KT&G가 대전상공회의소 회비를 10년 가까이 미납한 것으로 밝혀진데 이어, 지역 사회공헌활동에도 인색한 것으로 알려져 시민들로부터 곱지 않은 시선을 받고 있다.\\n대전사회복지공동모금회가 공개한 최근 10년 동안 KT&G의 기부현황 자료에 따르면, 2009년까지만 기부금을 후원했을 뿐, 2010년 이후부터는 기부가 전무한 것으로 확인됐다.\\n사회복지공동모금회는 지난해 말 KT&G 서울 사옥(사회공헌부)을 방문해 협조를 요청했지만, KT&G 측은 사회공헌활동 방식 전환 등을 이유로 이를 받아들이지 않은 것으로 알려졌다.\\n이런 가운데 지난해 지역에서 하나은행 충청사업본부를 비롯해 한국전자통신연구원(ETRI), 한라공조, 우성사료, 삼아제약, 계룡건설 등은 대전사회복지공동모금회에 1억원 이상의 기부금을 전달한 것으로 조사됐다.\\n기부에 인색한 KT&G와는 대조적이다.\\n또 KT&G는 기업들의 도움이 절실한 대전시티즌에도 후원을 하지 않고 있는 것으로 전해졌다.\\n대전시티즌에 따르면 KT&G는 2009년까지 매년 거액의 후원금을 지원하면서, 시민구단의 든든한 후원자 역할을 했다.\\n그러나 2010년 이후부터는 후원을 끊은 상태다.\\n반면, 대전도시공사를 비롯해 하나은행, 한라공조, 호반건설 등은 지난해 대전시티즌에 1억원 이상의 후원금을 지원했다.\\n시티즌 측은 “KT&G는 2009년까지 광고계약에 따라 후원금을 지원했으나, 계약이 끝난 이후에는 지원을 하지 않고 있다”고 설명했다.\\n이에 대해 일각에서는 KT&G가 지역 사회공헌활동에 무관심하다는 목소리가 나오고 있다.\\n대전지역 중소기업 한 관계자는 “KT&G는 대전을 대표하는 대기업으로, 지역 기업들의 사회공헌활동을 주도적으로 이끌어 가는 모습을 보여줄 필요성이 있다고 본다”고 지적했다.\\n이와 관련 서울에 있는 KT&G 사회공헌부 측은 회사의 사회공헌활동 방식을 전환했을 뿐이라고 설명했다.\\n사회공헌부 관계자는 “대전시티즌과 사회복지공동모금회에 후원을 하다, 최근 들어 하지 않고 있다. 후원이나 협찬 등 간접적인 봉사활동을 줄이면서, 직접적으로 직원들이 체험하는 KT&G 만의 사회활동으로 변환해 가고 있다”면서 “대전사회복지공동모금회의 협조방문이 있었지만, 도움을 주지 못했다”고 말했다.\"]\n",
      "tokenizing 된 데이터 형태\n",
      "[Encoding(num_tokens=256, attributes=[ids, type_ids, tokens, offsets, attention_mask, special_tokens_mask, overflowing]), Encoding(num_tokens=256, attributes=[ids, type_ids, tokens, offsets, attention_mask, special_tokens_mask, overflowing]), Encoding(num_tokens=256, attributes=[ids, type_ids, tokens, offsets, attention_mask, special_tokens_mask, overflowing]), Encoding(num_tokens=256, attributes=[ids, type_ids, tokens, offsets, attention_mask, special_tokens_mask, overflowing]), Encoding(num_tokens=256, attributes=[ids, type_ids, tokens, offsets, attention_mask, special_tokens_mask, overflowing])]\n",
      "tokenizer 에 들어가는 데이터 형태\n",
      "['세종엠코타운 특별공급 1.64대 1[SEP]세종엠코타운의 이전 기관 종사자 특별공급 1차 경쟁률이 1.64대 1로 마감됐다.\\n9일 행정도시건설청에 따르면 현대엠코는 지난 8일부터 이날까지 이전 기관 종사자를 대상으로 세종엠코타운(1-3생활권 M6블록) 특별공급 1차 청약을 받았다.\\n전체 1940세대 중 특별공급 물량은 1358세대(70%). 이틀간 최종 2239명이 청약에 나서 합계 경쟁률 1.64대 1을 기록했다.\\n84㎡ 쏠림 현상이 강하게 나타나 1차에서 마감됐고, 59㎡는 미달됐다.\\n84㎡는 499세대 청약가능 물량 중 1738명이 신청, 3.48대 1의 경쟁률을 나타냈다.\\n반면 59㎡의 경우, A타입이 743세대 모집에 467명이 몰려 0.62대1, B타입은 116세대에 34명 신청으로 0.29대 1에 그쳤다.\\n2차는 오는 13일 진행되고, 청약가능 물량은 59㎡ A타입 276세대, B타입 82세대 등 모두 358세대다.\\n2차 청약 후 남은 세대는 15일부터 진행되는 일반 청약물량으로 전환된다.\\n건설청 관계자는 “중앙 공무원들이 전반적으로 84㎡에 선호도를 보였다”며 “가족 동반 이주를 원하는 경향과 투자가치 측면에서 이 같은 선택을 한 것으로 분석된다”고 말했다.', 'IBK기업은행, 5억달러 규모 \\'코로나 지원\\' 채권 발행 성공[SEP]IBK기업은행이 코로나19 금융 지원에 사용할 목적으로 5억달러 규모의 외화 소셜본드 발행에 성공했다고 16일 밝혔다.\\n이번 채권 만기는 5년이며 미국 국채 금리에 72.5bp를 가산한 수준인 1.04% 고정금리로 발행됐다.\\n기업은행 관계자는 \\\\\"코로나19에 따른 시장 변동성 확대에도 불구하고 한국물 채권에 대한 투자자들의 견조한 수요를 통해 낮은 금리로 채권 발행에 성공했다\\\\\"고 밝혔다.\\n소셜 본드란 중소기업 지원, 일자리 창출, 취약계층 지원 등 사회문제 해결을 위한 목적에 자금의 용도가 제한되는 특수목적 채권이다.\\n환경·사회·지배구조(ESG)채권 중의 하나다.\\n기업은행은 2018년 8월 한국 기업 중 처음으로 소셜본드를 발행해 5억달러를 조달한 바 있다.\\n이로써 기업은행이 발행한 외화 소셜본드는 총 10억달러 규모로 늘었다.\\n기업은행 관계자는 이날 미디어SR에 \\\\\"이번 채권을 통해 발행한 자금은 기존에 기업은행이 진행하는 코로나19 피해 소상공인, 중소기업 지원에 사용될 것\\\\\"이라면서 \\\\\"내년 7, 8월경 홈페이지를 통해 자금 집행 결과, ESG 효과 등을 게시할 계획\\\\\"이라고 말했다.\\n오는 7월에는 지난 2018년 발행한 5억달러 규모의 소셜본드 집행 결과가 기업은행 홈페이지를 통해 공시될 예정이다.\\n윤종원 기업은행장은 이번 소셜본드 발행과 관련해 \\\\\"각국 중앙은행, 국제기구 등 다양한 투자자들의 관심이 성공적인 채권 발행으로 이어졌다\\\\\"며 \\\\\"앞으로도 기업은행은 사회적 책임을 다하기 위해 노력할 것\\\\\"이라고 강조했다.\\n한편 국내 은행이 한국물 시장에서 코로나19 관련 채권을 발행한 것은 지난 4월 KB국민은행에 이어 기업은행이 두 번째다.', '동원F&B-투썸플레이스 \\'맞손\\'…식물성 대체육 샌드위치 출시[SEP]동원F&B(대표 김재옥)가 프리미엄 디저트 카페 \\'투썸플레이스\\'와 손잡고 식물성 대체육 샌드위치 \\'비욘드미트 파니니\\' 2종(비욘드미트 더블 머쉬룸 파니니, 비욘드미트 커리 파니니)을 선보인다고 24일 밝혔다. \\'비욘드미트 파니니\\' 2종은 동원F&B가 2019년부터 미국에서 수입해 국내에 독점 판매하고 있는 식물성 대체육 브랜드 \\'비욘드미트(Beyond Meat)\\'의 \\'비욘드비프(Beyond Beef)\\' 제품을 넣은 샌드위치다.\\n새송이 버섯과 표고 버섯을 넣어 풍미를 더한 \\'비욘드미트 더블 머쉬룸 파니니\\'와 향긋한 커리 소스를 넣은 \\'비욘드미트 커리 파니니\\' 등 2종으로 구성됐다. \\'비욘드미트\\'는 2009년 설립된 미국의 스타트업으로 콩과 버섯, 호박 등에서 추출한 단백질로 100% 식물성 대체육을 만드는 업체다.\\n비욘드미트의 식물성 대체육은 환경호르몬이나 항생제 등이 들어 있지 않아 비건(Vegan) 소비자들은 물론 환경과 건강을 생각하는 소비자들로부터 각광 받고 있다.\\n비욘드미트의 대표 제품인 \\'비욘드버거(Beyond Burger)\\'는 출시 3년 만에 전세계 판매량 5,000만개를 돌파했으며 국내에서도 이마트를 비롯한 할인마트와 백화점, 온라인몰 등을 통해 현재까지 약 15만개 이상 판매됐다.\\n동원F&B는 이러한 호응에 힘입어 지난해 4월 \\'비욘드비프\\'와 \\'비욘드소시지\\'를 추가로 출시해 국내 대체육 시장 공략을 강화하고 있다.\\n동원F&B 관계자는 미디어SR에 \\\\\"건강과 환경에 대한 관심이 늘면서 밀레니얼 세대 사이에서는 \\'가치소비\\'가 트렌드로 자리잡고 있다\\\\\"며 \\\\\"국내 대체육 시장을 선도하는 기업으로서, \\'가치소비\\'를 원하는 소비자들을 위해 식물성 대체육을 활용한 다양한 신제품을 선보일 것\\\\\"이라고 말했다.', '트랜스베버리지, \\'와일드 터키 12년\\' 신제품 출시…한국서 처음 선봬[SEP]트랜스베버리지는 프리미엄 버번 위스키 \\'와일드 터키(Wild Turkey) 12년\\' 신제품을 한국에서 처음 출시한다고 2일 밝혔다.\\n와일드 터키 12년은 위스키 업계의 전설적인 부자 마스터 디스틸러인 지미 러셀(Jimmy Russell)과 에디 러셀(Eddie Russell)의 노하우가 담긴 와일드 터키 최상급 제품이다.\\n오크통에서 최소 12년 이상 숙성된 원액만을 사용해 만들었다.\\n한때 단종됐다가 20년 만에 새로운 패키지로 한국에 처음 선보이게 됐다.\\n와일드 터키 12년은 짙은 구리색에 캐러멜, 참나무 향을 느낄 수 있고 처음에는 달콤한 시트러스와 허브, 바닐라에 이어 피니시로는 스파이스와 함께 오크의 여운이 오래 남는다. \\'와일드 터키 8년\\'도 새로운 패키지로 리뉴얼됐다.\\n와일드 터키 12년과 8년 제품은 모두 50.5도로 나왔다.\\n700㎖ 용량으로 주요 리커 숍, 주류 판매점, 스마트 오더 등을 통해 구매할 수 있다.\\n트랜스베버리지 관계자는 \\\\\"최근 프리미엄 버번 위스키 애호가들이 폭발적으로 늘어나고 있어 와일드 터키 본사에서 한국을 전 세계 가장 중요한 4대 마켓으로 선정했다\\\\\"면서 \\\\\"한국 소비자들의 다양한 니즈를 충족하기 위해 최선을 다할 예정\\\\\"이라고 말했다.', '[CES2022]\\\\\"차원이 다른 화질\\\\\"…삼성디스플레이, TV·모니터용 QD디스플레이 공개[SEP]삼성디스플레이가 4일 오전(현지시간) 미국 라스베이거스에서 열리는 세계 최대 전자·IT 전시회 CES 2022 개막을 앞두고 TV와 모니터용 퀀텀닷(QD) 디스플레이를 공개했다.\\n최근 양산을 시작한 QD디스플레이는 세계 최초로 퀀텀닷을 내재화한, 백라이트가 없는 자발광 디스플레이다.\\n삼성디스플레이는 이날 55형과 65형 TV용 패널과 34형 모니터용 패널 등 총 3종의 제품을 선보였다.\\nQD디스플레이는 기존의 대형 디스플레이가 컬러 필터로 색을 구현하는 것과 달리 독자적인 잉크젯 프린팅 기술로 완성한 \\'QD 발광층\\'을 통해 역대 최고 수준의 색재현력과 넓은 시야각, 밝은 컬러 휘도, 혁신적인 HDR 등을 갖췄다.\\n입자 크기에 따라 다른 색을 내는 반도체 입자인 퀀텀닷은 순도 높은 RGB(빛의 삼원색)를 구현한다.\\n가장 레드에 가까운 레드, 블루에 가까운 블루를 표현하며 현재 상용화된 디스플레이 중 순수한 3원색에 가장 근접한 색을 낸다고 회사 측은 설명했다.\\n또 RGB 픽셀 만으로 색을 구현함으로서 RGB 컬러를 표현할 때도 밝기가 떨어지지 않아 더욱 더 선명한 색을 표현할 수 있다고 덧붙였다.\\nQD디스플레이는 서브 픽셀의 로컬 디밍 기술을 활용해 0.0005nit 이하의 트루 블랙부터 1500nit의 최고 밝기까지 표현 가능하다.\\n이렇게 넓은 휘도 폭 때문에 밝은 곳은 더 밝고 어두운 곳은 보다 어둡게 표현할 수 있으며 아주 어두운 화면에서도 세밀한 명암 표현이 가능하다.\\n삼성디스플레이는 이날 자발광 화질을 갖춘 34형 QHD+ QD디스플레이도 함께 공개했다.\\n모니터용 QD디스플레이는 화질뿐만 아니라 0.1ms의 빠른 응답 속도로 화면이 빠르게 전환되는 순간에도 끊김이나 끌림이 없는 선명한 화질을 구현한다.\\n이에 따라 업계 최고의 게이밍 퍼포먼스 인증인 \\'G-SYNC ULTIMATE\\'에 부합하는 성능도 확보했다.\\n삼성디스플레이는 \\\\\"QD디스플레이가 색감, 화질, 몰입감 등 모든 측면에서 최고의 게이밍 디스플레이로 모니터 시장에 새로운 변화를 몰고 올 것으로 기대한다\\\\\"고 밝혔다.\\n한편 삼성디스플레이는 이날 자사 OLED 패널을 대표하는 고유 기술인 \\'다이아몬드 픽셀\\'도 소개했다.\\n삼성디스플레이의 다이아몬드 픽셀은 인간의 망막이 적색, 녹색, 청색 중 녹색에 가장 민감하게 반응한다는 점에 착안해 녹색 소자 크기를 작고 촘촘하게 늘려서 구성됐다.\\n2013년 갤럭시 S4 OLED 패널에 처음 적용했다.\\n특히 45도 대각선 방향으로 화소를 구성한 다이아몬드 형태의 고유 배열 방식을 통해 높은 선명도와 가시성을 제공한다.\\n이에 따라 직선과 대각선, 날카롭고 정교한 패턴을 정확히 표현하는 데 탁월하다고 삼성디스플레이는 설명했다.']\n",
      "tokenizing 된 데이터 형태\n",
      "[Encoding(num_tokens=256, attributes=[ids, type_ids, tokens, offsets, attention_mask, special_tokens_mask, overflowing]), Encoding(num_tokens=256, attributes=[ids, type_ids, tokens, offsets, attention_mask, special_tokens_mask, overflowing]), Encoding(num_tokens=256, attributes=[ids, type_ids, tokens, offsets, attention_mask, special_tokens_mask, overflowing]), Encoding(num_tokens=256, attributes=[ids, type_ids, tokens, offsets, attention_mask, special_tokens_mask, overflowing]), Encoding(num_tokens=256, attributes=[ids, type_ids, tokens, offsets, attention_mask, special_tokens_mask, overflowing])]\n",
      "tokenizer 에 들어가는 데이터 형태\n",
      "['본그룹 \\\\\"일상 속 걷기로 비대면 기부 캠페인 참여해요\\\\\"[SEP]국내 대표 한식 프랜차이즈 기업 본아이에프가 속한 \\'본그룹\\'이 오늘부터 내달 16일까지 임직원들의 일상 속 걷기를 통해 보양죽을 기부하는 비대면 사회공헌 캠페인 \\'달빛아래 소소걸음\\'을 전개한다고 16일 밝혔다.\\n이번 캠페인은 \\'달빛아래 소소걸음\\'이라는 주제로 진행하게 됐으며, 지난 6월 진행한 1차 \\'소소걸음\\' 캠페인에 이어 2차로 진행되는 임직원 비대면 걸음 기부 프로그램이다.\\n본그룹 관계자는 미디어SR에 \\\\\"이번 캠페인은 깊어지는 겨울과 함께 아름다운 달빛 아래에서 더욱 부지런히 걸으며 정신적ㆍ신체적 건강을 모두 챙기는 것은 물론, 지역사회에도 따뜻한 손길을 다시 한번 내밀자는 뜻을 담았다\\\\\"고 설명했다.\\n지난 1차 캠페인 진행 당시, 임직원 195명이 참여해 최초 목표 걸음 수 대비 11%를 초과한 약 3500만 걸음을 달성하며 적극적인 참여와 높은 관심을 증명했다.\\n본그룹은 이를 통해 말복에 본죽 삼계죽, 전복죽 등으로 이루어진 보양죽 500인분을 홀몸 어르신들께 기부할 수 있었다.\\n이번 2차 \\'달빛아래 소소걸음\\' 역시 걸음 기부 사회 공헌 플랫폼 \\'빅워크\\'와의 제휴를 통해 비대면으로 진행하며, 출퇴근 혹은 개인 운동 시간 등 달빛 아래서 걸을 수 있다면 언제든 손쉽게 참여할 수 있다.\\n목표한 걸음 수를 충족시키면 오는 12월 혹한기 시즌에 맞춰 서울시 취약계층 어르신께 기운을 북돋아 줄 수 있는 본죽 동지팥죽 500인분을 기부할 계획이다.\\n한편 본그룹은 이외에도 올해 \\'코로나19\\' 여파에도 포기하지 않고 임직원들이 힘을 모아 주변 이웃들에게 비대면으로 행할 수 있는 따뜻한 손길을 지속적으로 전해오고 있다.\\n본그룹은 쪽방촌 주민을 위한 면마스크 제작 기부를 비롯해 환경의 날 거리 입양 및 쓰레기 줍깅(줍기+조깅의 합성어) 청각 장애인을 위한 립뷰(lip-view) 마스크\\' 제작 청각 장애인을 돕기 위해 영화의 소리 정보를 자막으로 입힌 \\'배리어프리(barrier free) 영화\\'제작에 참여하는 등 활발하게 비대면 사회공헌 활동을 전개하고 있다.\\n본그룹 김철호 그룹장은 \\\\\"지난 1차\\'소소걸음\\'캠페인에 임직원들의 적극적인 참여와 따뜻한 마음이 더해져 홀몸 어르신들이 든든하게 몸보신 할 수 있는 보양죽을 전달할 수 있었다\\\\\"며 \\\\\"지금껏 보여준 것처럼, 임직원들의 작지만 커다란 노력을 통해 이웃과 지역사회에 선한 영향력을 발휘할 수 있기를 바란다\\\\\"\"고 말했다.', '\\\\\"그림 완성하고 미니 콘서트도\\\\\" 아이파크몰, 체험형 콘텐츠 강화[SEP]HDC아이파크몰은 고객이 직접 참여하고 경험할 수 있는 체험형 콘텐츠를 통해 오프라인 시장 경쟁력 강화에 나선다고 19일 밝혔다.\\n아이파크몰은 리오프닝(경제 활동 재개)이 본격화 됨에 따라 신규 고객 유입과 기존 고객의 재방문율 등을 높이고자 새로운 콘셉트의 체험형 콘텐츠를 시리즈 별로 선보일 것이라고 말했다.\\n첫 번째 콘텐츠는 예체능 시리즈로 가족과 연인, 친구 등 남녀노소 누구나 즐길 수 있는 미술관, 미니 콘서트, 플라워 클래스, 미니카 레이싱 등으로 구성했다.\\n아이파크몰은 카페거리에 최근 MZ세대(밀레니얼+Z세대) 사이에서 큰 인기를 얻고 있는 성수 미술관을 선보였다.\\n누구나 자유롭게 미술작품을 완성할 수 있는 문화생활 공간으로 오는 31일까지 팝업스토어 형식으로 운영된다.\\n가족 단위 고객을 잡기 위한 콘텐츠도 준비했다.\\n4층 더 테라스 야외 공간에서 타미야 \\'2022 코리아 미니카 대회\\'가 21일, 22일 주말 양일간 \\'오픈 클래스\\', \\'팀 대항전 오픈 클래스\\', \\'점프 비기너 클래스(주니어 포함)\\', \\'스피트 스톡 클래스\\' 총 4가지 클래스로 진행된다.\\n반려식물과 플랜테리어(플랜트+인테리어)의 수요가 늘고 있는 것에 맞춰 \\'사라스가든\\'과 함께 하는 원데이 플라워 클래스 \\'센터피스 만들기\\' 체험형 프로그램이 주말간 4층 더 가든에서 진행되며 21일에는 편안하게 클래식 기타연주를 감상 할 수 있는 \\'야마하 미니 콘서트\\'도 즐길 수 있다.\\n아이파크몰 관계자는 \\\\\"오프라인 플랫폼으로서 경쟁력을 강화하기 위한 방법의 핵심은 \\'방문을 해야 하는 이유\\'를 만드는 것\\\\\"이라며 \\\\\"아이파크몰은 고객이 방문 할 때 마다 색다른 경험으로 즐겁게 즐길 수 있는 쇼핑문화를 만들어 나가기 위해 노력할 것\\\\\"이라고 말했다.', \"LH 미분양아파트 소진 '진땀', 공급실적 올리기위해 알선수수료까지 지원키로[SEP]연말을 앞두고 한국토지주택공사(LH) 대전충남지역본부가 아파트 공급실적을 끌어올리기 위해 안간힘을 쏟고 있다.\\n일부 공급 실적이 저조한 물량에 대해서는 공인중개사들을 동원해 알선수수료까지 지원하며 미분양 물량을 소진코자 여념이 없다.\\nLH 대전충남지역본부는 지난 24일 대전지역 공인중개사를 비롯해 LH 공동주택 계약자를 대상으로 미분양 아파트 및 토지 매매를 소개할 경우, 1건당 150만~200만원의 알선수수료를 지원한다는 안내서를 보냈다.\\n대상은 올해 분양된 천동2지구 500여세대 및 준공된 아파트(구성지구, 대동지구, 대신지구, 석촌2지구) 50세대 등 550여세대의 미분양 아파트다.\\n동구지역 부동산 시장이 상대적으로 위축된 나머지 올해 공급실적을 높이기 위해 LH는 평균적으로 1건 당 150만원을 알선수수료로 제공하고 천동2지구 아파트의 전용면적 118㎡에 대해서만 1건당 200만원을 지원키로 했다.\\n도안 신도시를 비롯해 관저지구의 단독주택용지 역시 목표 실적을 채우려면 갈 길이 멀다.\\nLH 대전충남본부는 도안 신도시 753필지, 관저지구 108필지 등 모두 871필지의 단독주택용지에 대한 추첨공급을 다음달께 진행할 예정이다.\\n그러나 부동산 경기 침체에 따라 계약체결이 가능한 물량이 많지 않을 것이라는 예상도 나오면서 각각 수의계약 때 1건당 200만원 안팎의 알선수수료를 공인중개사들에게 지원할 계획이다.\\nLH가 연말을 앞두고 실적 올리기에 박차를 가하는 데는 해마다 실시되는 업무평가를 대비하기 위해서다.\\n올해의 경우에는 대통령 선거도 겹쳐 인사에도 변수가 많을 것으로 예상되는 만큼 내년도 인사결정에서 우위를 차지할 수 있도록 실적관리에 매진하는 분위기다.\\n다만, 최근 들어 노은3지구 보금자리주택에 대한 지역 실수요자들의 기대치가 높은 만큼 LH 대전충남지역본부로서도 계약률에 촉각을 곤두세우고 있다.\\n지역의 한 공인중개사는 “최근 부동산 시장에서 워낙 거래수요가 많지 않아 알선수수료라도 받아볼 생각에 동구지역 아파트 중개에 관심을 두고 있다”며 “하지만 동구지역 미분양 물량을 매입하려는 수요자들이 얼마나 몰려들지는 확신하기는 어렵다”고 말했다.\", '신한銀, 비대면 \\'땡겨요 사업자 대출\\' 출시…최대 1000만원 가능[SEP]신한은행은 시중은행 최초로 땡겨요 입점 개인사업자를 위한 신용대출 상품인 \\'땡겨요 사업자 대출\\'을 출시했다고 6일 밝혔다.\\n이번 상품은 배달 애플리케이션(앱) 플랫폼 참여자인 개인사업자에게 이로운 혜택을 제공하고 배달 플랫폼에서의 상생을 실현하기 위해 개발했다.\\n땡겨요 사업자 대출은 배달앱 플랫폼인 땡겨요에 입점한 개인사업자 고객을 대상으로 대출한도는 신한은행 계좌로 입금되는 매출데이터를 분석해 최대1000만원까지 가능하다.\\n상환방식은 원금균등분할상환방식, 대출만기는 최대 36개월이다.\\n또한 땡겨요에서 발생한 매출정산대금 수령계좌를 신한은행으로 지정하면 0.5%우대금리를 받을 수 있다.\\n이번 상품은 신한 쏠비즈에서 신청할 수 있으며 대출 전 과정을 완전 비대면화해 생업에 바쁜 개인사업자들이 보다 손쉽게 대출 신청 할 수 있도록 구현했다.\\n신한은행 관계자는 \\\\\"선한 시장 조성자 땡겨요의 상생실현과 코로나19로 어려움을 겪는 개인사업자를 위해 이번 상품을 기획했다\\\\\"며 \\\\\"앞으로 땡겨요와 연계한 금융 및 비금융서비스를 통해 개인사업자 대상 신규 콘텐츠를 확대하겠다\\\\\"고 말했다.', '[신년사]김현수 농식품부 장관 \\\\\"농업, 데이터 기반 첨단산업 변모\\\\\"[SEP]김현수 농림축산식품부 장관은 농업을 데이터 기반의 첨단산업으로 변모시키고 젊은 인재를 육성하겠다고 30일 신년사에서 밝혔다.\\n\\\\\"스마트팜 혁신밸리는 단순한 토목공사가 아니다\\\\\"라고 힘주어 말했다.\\n김 장관은 \\\\\"(스마트팜 혁신밸리는) 노동력과 경험에 의존하던 농업을 기술과 데이터에 기반한 첨단 산업으로 바꿀 농업 혁명의 상징\\\\\"이라며 \\\\\"각 혁신밸리의 빅데이터센터에서 축적된 스마트팜 데이터를 민간에 개방하면 딥러닝을 통해 인공지능(AI)이 농업 현장의 문제를 분석하고 대안을 제시할 수 있다\\\\\"고 설명했다.\\n또 \\\\\"농산물 유통까지 스마트하게 변해야 한다\\\\\"며 \\\\\"내년에는 농산물 온라인 도매거래 품목과 물량을 늘리고 농가, 최종 수요자, 식자재 업체 등이 참여하는 온라인 거래 플랫폼을 만들 계획\\\\\"이라고 소개했다.\\n그러면서 \\\\\"이를 통해 농축산물 거래정보가 실시간으로 축적되고 공개돼 유통 빅데이터가 구축되는 것을 기대할 수 있다\\\\\"고 덧붙였다.\\n김 장관은 스마트팜 혁신밸리에서 청년농을 길러내겠다는 목표도 제시했다.\\n그는 \\\\\"전국 4곳의 혁신밸리에서는 스마트 농업에 관한 한 가장 앞선 기술을 배우게 될 것\\\\\"이라며 \\\\\"이렇게 배출될 농업인들이 대한민국 농업의 주역이 될 날이 머지않았다\\\\\"고 말했다.\\n김 장관은 식량안보를 강화하기 위해 밀과 콩 등의 생산·소비 기반을 확충하겠다는 계획도 언급했다.\\n그는 \\\\\"단기적으로 발생할 수 있는 식량위기에 대응하기 위해 국산 쌀, 밀, 콩 등 주요 곡물의 비축을 늘리겠다. 비료 등 필수적인 원자재 수입선도 다변화할 것\\\\\"이라고 공언했다.\\n아울러 내년 상반기에 \\'탄소중립 세부 이행계획\\'을 마련하겠다고 밝혔다.\\n작물이나 가축의 생육 과정에서 발생하는 탄소를 줄이기 위해서다.\\n김 장관은 \\\\\"농업은 기후변화의 영향을 가장 직접적으로 받는 산업인 만큼 지금 변화를 위한 행동에 나서야 한다\\\\\"며 \\\\\"농업인이 탄소배출권을 거래할 수 있도록 돕거나 공익직불제와 연계하는 등 다양한 지원 방안을 고민할 것\\\\\"이라고 말했다.\\n이와 함께 그는 코로나19 사태와 기후변화 등을 거론하면서 \\\\\"저를 비롯한 농림축산식품 공직자는 \\'대전환기\\'에 농업이 새로운 미래를 개척하도록 돕는 \\'액셀러레이터\\'가 될 것\\\\\"이라고 했다.']\n",
      "tokenizing 된 데이터 형태\n",
      "[Encoding(num_tokens=256, attributes=[ids, type_ids, tokens, offsets, attention_mask, special_tokens_mask, overflowing]), Encoding(num_tokens=256, attributes=[ids, type_ids, tokens, offsets, attention_mask, special_tokens_mask, overflowing]), Encoding(num_tokens=256, attributes=[ids, type_ids, tokens, offsets, attention_mask, special_tokens_mask, overflowing]), Encoding(num_tokens=256, attributes=[ids, type_ids, tokens, offsets, attention_mask, special_tokens_mask, overflowing]), Encoding(num_tokens=256, attributes=[ids, type_ids, tokens, offsets, attention_mask, special_tokens_mask, overflowing])]\n",
      "--- tokenizing Done ---\n",
      "--- dataset class Done ---\n"
     ]
    },
    {
     "name": "stderr",
     "output_type": "stream",
     "text": [
      "100%|██████████| 63/63 [00:02<00:00, 25.66it/s]"
     ]
    },
    {
     "name": "stdout",
     "output_type": "stream",
     "text": [
      "--- Prediction done ---\n",
      " ----- accuracy:60.6% -----\n",
      "----- f1_score(macro): 37.7% ------\n",
      "--- Save result ---\n"
     ]
    },
    {
     "name": "stderr",
     "output_type": "stream",
     "text": [
      "\n"
     ]
    },
    {
     "data": {
      "text/html": [
       "<div>\n",
       "<style scoped>\n",
       "    .dataframe tbody tr th:only-of-type {\n",
       "        vertical-align: middle;\n",
       "    }\n",
       "\n",
       "    .dataframe tbody tr th {\n",
       "        vertical-align: top;\n",
       "    }\n",
       "\n",
       "    .dataframe thead th {\n",
       "        text-align: right;\n",
       "    }\n",
       "</style>\n",
       "<table border=\"1\" class=\"dataframe\">\n",
       "  <thead>\n",
       "    <tr style=\"text-align: right;\">\n",
       "      <th></th>\n",
       "      <th>title</th>\n",
       "      <th>cleanBody</th>\n",
       "      <th>clickbaitClass</th>\n",
       "    </tr>\n",
       "  </thead>\n",
       "  <tbody>\n",
       "    <tr>\n",
       "      <th>0</th>\n",
       "      <td>본그룹 \\\"일상 속 걷기로 비대면 기부 캠페인 참여해요\\\"</td>\n",
       "      <td>국내 대표 한식 프랜차이즈 기업 본아이에프가 속한 '본그룹'이 오늘부터 내달 16일...</td>\n",
       "      <td>1</td>\n",
       "    </tr>\n",
       "    <tr>\n",
       "      <th>1</th>\n",
       "      <td>\\\"그림 완성하고 미니 콘서트도\\\" 아이파크몰, 체험형 콘텐츠 강화</td>\n",
       "      <td>HDC아이파크몰은 고객이 직접 참여하고 경험할 수 있는 체험형 콘텐츠를 통해 오프라...</td>\n",
       "      <td>1</td>\n",
       "    </tr>\n",
       "    <tr>\n",
       "      <th>2</th>\n",
       "      <td>LH 미분양아파트 소진 '진땀', 공급실적 올리기위해 알선수수료까지 지원키로</td>\n",
       "      <td>연말을 앞두고 한국토지주택공사(LH) 대전충남지역본부가 아파트 공급실적을 끌어올리기...</td>\n",
       "      <td>1</td>\n",
       "    </tr>\n",
       "    <tr>\n",
       "      <th>3</th>\n",
       "      <td>신한銀, 비대면 '땡겨요 사업자 대출' 출시…최대 1000만원 가능</td>\n",
       "      <td>신한은행은 시중은행 최초로 땡겨요 입점 개인사업자를 위한 신용대출 상품인 '땡겨요 ...</td>\n",
       "      <td>1</td>\n",
       "    </tr>\n",
       "    <tr>\n",
       "      <th>4</th>\n",
       "      <td>[신년사]김현수 농식품부 장관 \\\"농업, 데이터 기반 첨단산업 변모\\\"</td>\n",
       "      <td>김현수 농림축산식품부 장관은 농업을 데이터 기반의 첨단산업으로 변모시키고 젊은 인재...</td>\n",
       "      <td>1</td>\n",
       "    </tr>\n",
       "    <tr>\n",
       "      <th>5</th>\n",
       "      <td>충청권 지방은행 설립 속도낸다</td>\n",
       "      <td>충청권 지방은행 설립을 위한 대전시와 지역경제계의 발걸음이 빨라질 것으로 보인다.\\...</td>\n",
       "      <td>1</td>\n",
       "    </tr>\n",
       "    <tr>\n",
       "      <th>6</th>\n",
       "      <td>지역 하반기 고용시장 '쾌청'</td>\n",
       "      <td>올해 하반기 대전·충청지역의 고용시장이 활기를 띨 전망이다.\\n12일 대전고용노동청...</td>\n",
       "      <td>1</td>\n",
       "    </tr>\n",
       "    <tr>\n",
       "      <th>7</th>\n",
       "      <td>삼성전자, 산학협력으로 모바일 기술 개발·인재 육성 가속</td>\n",
       "      <td>삼성전자가 최첨단 모바일 기술 개발과 인재 육성에 속도를 내기 위해 국내 대학들과의...</td>\n",
       "      <td>1</td>\n",
       "    </tr>\n",
       "    <tr>\n",
       "      <th>8</th>\n",
       "      <td>이영 중기부 장관 후보 \\\"정치하기 위해 스펙 쌓기·기업 이용 안했다\\\"</td>\n",
       "      <td>이영 중소벤처기업부 장관 후보자는 11일 \\\"정치를 하기 위해 스펙 쌓기를 하거나 ...</td>\n",
       "      <td>1</td>\n",
       "    </tr>\n",
       "    <tr>\n",
       "      <th>9</th>\n",
       "      <td>지방은행 설립 세종시도 힘 보탠다</td>\n",
       "      <td>대전시가 추진중인 지방은행 부활 문제가 전국적 이슈로 부상하는 가운데 세종시까지 이...</td>\n",
       "      <td>1</td>\n",
       "    </tr>\n",
       "  </tbody>\n",
       "</table>\n",
       "</div>"
      ],
      "text/plain": [
       "                                        title  \\\n",
       "0            본그룹 \\\"일상 속 걷기로 비대면 기부 캠페인 참여해요\\\"   \n",
       "1       \\\"그림 완성하고 미니 콘서트도\\\" 아이파크몰, 체험형 콘텐츠 강화   \n",
       "2  LH 미분양아파트 소진 '진땀', 공급실적 올리기위해 알선수수료까지 지원키로   \n",
       "3       신한銀, 비대면 '땡겨요 사업자 대출' 출시…최대 1000만원 가능   \n",
       "4     [신년사]김현수 농식품부 장관 \\\"농업, 데이터 기반 첨단산업 변모\\\"   \n",
       "5                            충청권 지방은행 설립 속도낸다   \n",
       "6                            지역 하반기 고용시장 '쾌청'   \n",
       "7             삼성전자, 산학협력으로 모바일 기술 개발·인재 육성 가속   \n",
       "8    이영 중기부 장관 후보 \\\"정치하기 위해 스펙 쌓기·기업 이용 안했다\\\"   \n",
       "9                          지방은행 설립 세종시도 힘 보탠다   \n",
       "\n",
       "                                           cleanBody  clickbaitClass  \n",
       "0  국내 대표 한식 프랜차이즈 기업 본아이에프가 속한 '본그룹'이 오늘부터 내달 16일...               1  \n",
       "1  HDC아이파크몰은 고객이 직접 참여하고 경험할 수 있는 체험형 콘텐츠를 통해 오프라...               1  \n",
       "2  연말을 앞두고 한국토지주택공사(LH) 대전충남지역본부가 아파트 공급실적을 끌어올리기...               1  \n",
       "3  신한은행은 시중은행 최초로 땡겨요 입점 개인사업자를 위한 신용대출 상품인 '땡겨요 ...               1  \n",
       "4  김현수 농림축산식품부 장관은 농업을 데이터 기반의 첨단산업으로 변모시키고 젊은 인재...               1  \n",
       "5  충청권 지방은행 설립을 위한 대전시와 지역경제계의 발걸음이 빨라질 것으로 보인다.\\...               1  \n",
       "6  올해 하반기 대전·충청지역의 고용시장이 활기를 띨 전망이다.\\n12일 대전고용노동청...               1  \n",
       "7  삼성전자가 최첨단 모바일 기술 개발과 인재 육성에 속도를 내기 위해 국내 대학들과의...               1  \n",
       "8  이영 중소벤처기업부 장관 후보자는 11일 \\\"정치를 하기 위해 스펙 쌓기를 하거나 ...               1  \n",
       "9  대전시가 추진중인 지방은행 부활 문제가 전국적 이슈로 부상하는 가운데 세종시까지 이...               1  "
      ]
     },
     "execution_count": 16,
     "metadata": {},
     "output_type": "execute_result"
    }
   ],
   "source": [
    "output_df = infer_and_eval(args)\n",
    "output_df.head(10)"
   ]
  },
  {
   "cell_type": "code",
   "execution_count": null,
   "metadata": {},
   "outputs": [],
   "source": []
  }
 ],
 "metadata": {
  "kernelspec": {
   "display_name": "upstage",
   "language": "python",
   "name": "python3"
  },
  "language_info": {
   "codemirror_mode": {
    "name": "ipython",
    "version": 3
   },
   "file_extension": ".py",
   "mimetype": "text/x-python",
   "name": "python",
   "nbconvert_exporter": "python",
   "pygments_lexer": "ipython3",
   "version": "3.8.18"
  }
 },
 "nbformat": 4,
 "nbformat_minor": 2
}
