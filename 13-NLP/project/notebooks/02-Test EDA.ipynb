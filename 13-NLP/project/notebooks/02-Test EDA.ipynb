{
 "cells": [
  {
   "cell_type": "code",
   "execution_count": 3,
   "metadata": {},
   "outputs": [],
   "source": [
    "import os\n",
    "import re\n",
    "import random\n",
    "import pandas as pd\n",
    "import matplotlib.pyplot as plt\n",
    "\n",
    "from mecab import MeCab\n",
    "from konlpy.tag import Okt\n",
    "from collections import Counter"
   ]
  },
  {
   "cell_type": "code",
   "execution_count": 4,
   "metadata": {},
   "outputs": [],
   "source": [
    "data_path = \"../dataset\"\n",
    "test_df = pd.read_csv(f\"{data_path}/test.csv\")"
   ]
  },
  {
   "cell_type": "code",
   "execution_count": 5,
   "metadata": {},
   "outputs": [
    {
     "name": "stdout",
     "output_type": "stream",
     "text": [
      "Test DataFrame\n",
      "(499, 2)\n",
      "Index(['fname', 'dialogue'], dtype='object')\n"
     ]
    }
   ],
   "source": [
    "print(\"Test DataFrame\")\n",
    "print(test_df.shape)\n",
    "print(test_df.columns)"
   ]
  },
  {
   "cell_type": "code",
   "execution_count": 6,
   "metadata": {},
   "outputs": [
    {
     "data": {
      "image/png": "[encoded data removed]",
      "text/plain": [
       "<Figure size 1000x600 with 1 Axes>"
      ]
     },
     "metadata": {},
     "output_type": "display_data"
    }
   ],
   "source": [
    "test_df['sentence_length'] = test_df['dialogue'].apply(len)\n",
    "\n",
    "plt.figure(figsize=(10, 6))\n",
    "plt.hist(test_df['sentence_length'], bins=30, color='skyblue', edgecolor='black')\n",
    "plt.xlabel('sentence length')\n",
    "plt.ylabel('Frequency')\n",
    "plt.title('Dialogue Length Distribution')\n",
    "plt.grid(True)\n",
    "plt.show()"
   ]
  },
  {
   "cell_type": "code",
   "execution_count": 8,
   "metadata": {},
   "outputs": [
    {
     "name": "stdout",
     "output_type": "stream",
     "text": [
      "{'Dialogue': {'Min Length': 109, 'Max Length': 2650, 'Mode Length': 349}}\n"
     ]
    }
   ],
   "source": [
    "# min, max, mode 길이를 계산하는 함수 정의\n",
    "def get_length_stats(column):\n",
    "    min_length = column.min()\n",
    "    max_length = column.max()\n",
    "    mode_length = column.mode()[0]\n",
    "    return min_length, max_length, mode_length\n",
    "\n",
    "# dialogue와 summary의 길이에 대한 통계 계산\n",
    "dialogue_min, dialogue_max, dialogue_mode = get_length_stats(test_df['sentence_length'])\n",
    "\n",
    "dialogue_stats = {\n",
    "    'Dialogue': {\n",
    "        'Min Length': dialogue_min,\n",
    "        'Max Length': dialogue_max,\n",
    "        'Mode Length': dialogue_mode\n",
    "    },\n",
    "}\n",
    "\n",
    "print(dialogue_stats)"
   ]
  },
  {
   "cell_type": "code",
   "execution_count": 6,
   "metadata": {},
   "outputs": [
    {
     "name": "stdout",
     "output_type": "stream",
     "text": [
      "{'#Person1#', '#Person2#', '#Person3#', '#Address#', '#PassportNumber#', '#PhoneNumber#'}\n"
     ]
    }
   ],
   "source": [
    "# 특수 문자열 패턴 찾기 함수\n",
    "def find_special_strings(text):\n",
    "    return re.findall(r'#\\w+#', text)\n",
    "\n",
    "test_df['dialogue_special_strings'] = test_df['dialogue'].apply(find_special_strings)\n",
    "unique_dialogue_strings = set([item for sublist in test_df['dialogue_special_strings'] for item in sublist])\n",
    "\n",
    "print(unique_dialogue_strings)"
   ]
  },
  {
   "cell_type": "code",
   "execution_count": 7,
   "metadata": {},
   "outputs": [
    {
     "data": {
      "text/html": [
       "<div>\n",
       "<style scoped>\n",
       "    .dataframe tbody tr th:only-of-type {\n",
       "        vertical-align: middle;\n",
       "    }\n",
       "\n",
       "    .dataframe tbody tr th {\n",
       "        vertical-align: top;\n",
       "    }\n",
       "\n",
       "    .dataframe thead th {\n",
       "        text-align: right;\n",
       "    }\n",
       "</style>\n",
       "<table border=\"1\" class=\"dataframe\">\n",
       "  <thead>\n",
       "    <tr style=\"text-align: right;\">\n",
       "      <th></th>\n",
       "      <th>fname</th>\n",
       "      <th>dialogue</th>\n",
       "      <th>sentence_length</th>\n",
       "      <th>dialogue_special_strings</th>\n",
       "      <th>cleaned_dialogue</th>\n",
       "      <th>dialogue_morphs</th>\n",
       "    </tr>\n",
       "  </thead>\n",
       "  <tbody>\n",
       "    <tr>\n",
       "      <th>0</th>\n",
       "      <td>test_0</td>\n",
       "      <td>#Person1#: 더슨 씨, 받아쓰기 좀 해주세요. \\n#Person2#: 네, ...</td>\n",
       "      <td>821</td>\n",
       "      <td>[#Person1#, #Person2#, #Person1#, #Person2#, #...</td>\n",
       "      <td>더슨 씨, 받아쓰기 좀 해주세요.   네, 실장님...  이것은 오늘 오후까지 모...</td>\n",
       "      <td>[더슨, 씨, ,, 받아쓰, 기, 좀, 해, 주, 세요, ., 네, ,, 실장, 님...</td>\n",
       "    </tr>\n",
       "    <tr>\n",
       "      <th>1</th>\n",
       "      <td>test_1</td>\n",
       "      <td>#Person1#: 드디어 왔네! 왜 그렇게 오래 걸렸어?\\n#Person2#: 또...</td>\n",
       "      <td>625</td>\n",
       "      <td>[#Person1#, #Person2#, #Person1#, #Person2#, #...</td>\n",
       "      <td>드디어 왔네! 왜 그렇게 오래 걸렸어?  또 교통 체증에 걸렸어. 까르푸 교차로에...</td>\n",
       "      <td>[드디어, 왔, 네, !, 왜, 그렇게, 오래, 걸렸, 어, ?, 또, 교통, 체증...</td>\n",
       "    </tr>\n",
       "    <tr>\n",
       "      <th>2</th>\n",
       "      <td>test_2</td>\n",
       "      <td>#Person1#: 케이트, 무슨 일이 일어났는지 너는 믿지 못할거야. \\n#Per...</td>\n",
       "      <td>481</td>\n",
       "      <td>[#Person1#, #Person2#, #Person1#, #Person2#, #...</td>\n",
       "      <td>케이트, 무슨 일이 일어났는지 너는 믿지 못할거야.   어떤 말이야?  마샤와 히...</td>\n",
       "      <td>[케이트, ,, 무슨, 일, 이, 일어났, 는지, 너, 는, 믿, 지, 못할, 거,...</td>\n",
       "    </tr>\n",
       "    <tr>\n",
       "      <th>3</th>\n",
       "      <td>test_3</td>\n",
       "      <td>#Person1#: 생일 축하해, 이건 너를 위한 거야, 브라이언.\\n#Person...</td>\n",
       "      <td>388</td>\n",
       "      <td>[#Person1#, #Person2#, #Person1#, #Person2#, #...</td>\n",
       "      <td>생일 축하해, 이건 너를 위한 거야, 브라이언.  기억해줘서 너무 행복해, 들어와...</td>\n",
       "      <td>[생일, 축하, 해, ,, 이건, 너, 를, 위한, 거, 야, ,, 브라이언, .,...</td>\n",
       "    </tr>\n",
       "    <tr>\n",
       "      <th>4</th>\n",
       "      <td>test_4</td>\n",
       "      <td>#Person1#: 이 올림픽 공원이 정말 크네요!\\n#Person2#: 네. 지금...</td>\n",
       "      <td>389</td>\n",
       "      <td>[#Person1#, #Person2#, #Person1#, #Person2#, #...</td>\n",
       "      <td>이 올림픽 공원이 정말 크네요!  네. 지금 우리는 이 공원의 중심인 올림픽 스타...</td>\n",
       "      <td>[이, 올림픽, 공원, 이, 정말, 크, 네요, !, 네, ., 지금, 우리, 는,...</td>\n",
       "    </tr>\n",
       "  </tbody>\n",
       "</table>\n",
       "</div>"
      ],
      "text/plain": [
       "    fname                                           dialogue  sentence_length  \\\n",
       "0  test_0  #Person1#: 더슨 씨, 받아쓰기 좀 해주세요. \\n#Person2#: 네, ...              821   \n",
       "1  test_1  #Person1#: 드디어 왔네! 왜 그렇게 오래 걸렸어?\\n#Person2#: 또...              625   \n",
       "2  test_2  #Person1#: 케이트, 무슨 일이 일어났는지 너는 믿지 못할거야. \\n#Per...              481   \n",
       "3  test_3  #Person1#: 생일 축하해, 이건 너를 위한 거야, 브라이언.\\n#Person...              388   \n",
       "4  test_4  #Person1#: 이 올림픽 공원이 정말 크네요!\\n#Person2#: 네. 지금...              389   \n",
       "\n",
       "                            dialogue_special_strings  \\\n",
       "0  [#Person1#, #Person2#, #Person1#, #Person2#, #...   \n",
       "1  [#Person1#, #Person2#, #Person1#, #Person2#, #...   \n",
       "2  [#Person1#, #Person2#, #Person1#, #Person2#, #...   \n",
       "3  [#Person1#, #Person2#, #Person1#, #Person2#, #...   \n",
       "4  [#Person1#, #Person2#, #Person1#, #Person2#, #...   \n",
       "\n",
       "                                    cleaned_dialogue  \\\n",
       "0   더슨 씨, 받아쓰기 좀 해주세요.   네, 실장님...  이것은 오늘 오후까지 모...   \n",
       "1   드디어 왔네! 왜 그렇게 오래 걸렸어?  또 교통 체증에 걸렸어. 까르푸 교차로에...   \n",
       "2   케이트, 무슨 일이 일어났는지 너는 믿지 못할거야.   어떤 말이야?  마샤와 히...   \n",
       "3   생일 축하해, 이건 너를 위한 거야, 브라이언.  기억해줘서 너무 행복해, 들어와...   \n",
       "4   이 올림픽 공원이 정말 크네요!  네. 지금 우리는 이 공원의 중심인 올림픽 스타...   \n",
       "\n",
       "                                     dialogue_morphs  \n",
       "0  [더슨, 씨, ,, 받아쓰, 기, 좀, 해, 주, 세요, ., 네, ,, 실장, 님...  \n",
       "1  [드디어, 왔, 네, !, 왜, 그렇게, 오래, 걸렸, 어, ?, 또, 교통, 체증...  \n",
       "2  [케이트, ,, 무슨, 일, 이, 일어났, 는지, 너, 는, 믿, 지, 못할, 거,...  \n",
       "3  [생일, 축하, 해, ,, 이건, 너, 를, 위한, 거, 야, ,, 브라이언, .,...  \n",
       "4  [이, 올림픽, 공원, 이, 정말, 크, 네요, !, 네, ., 지금, 우리, 는,...  "
      ]
     },
     "execution_count": 7,
     "metadata": {},
     "output_type": "execute_result"
    }
   ],
   "source": [
    "## 분석하기 전에 [#문자열#:]을 제거한다.\n",
    "def remove_speaker_tags(text):\n",
    "    return re.sub(r'#\\w+#:', '', text)\n",
    "\n",
    "## 개행 문자 제거.\n",
    "def remove_newlines(text):\n",
    "    # 개행 문자를 문장부호 뒤에 공백과 함께 추가\n",
    "    text = re.sub(r'([.?!])\\n', r'\\1 ', text)\n",
    "\n",
    "    # 개행 문자가 남아있는 경우 제거\n",
    "    return text.replace('\\n', ' ')\n",
    "\n",
    "mecab = MeCab()\n",
    "test_df['cleaned_dialogue'] = test_df['dialogue'].apply(lambda x: remove_newlines(remove_speaker_tags(x)))\n",
    "test_df['dialogue_morphs'] = test_df['cleaned_dialogue'].apply(lambda x: mecab.morphs(x))\n",
    "\n",
    "test_df.head()"
   ]
  },
  {
   "cell_type": "code",
   "execution_count": 11,
   "metadata": {},
   "outputs": [
    {
     "name": "stdout",
     "output_type": "stream",
     "text": [
      "Dialogue with Special Patterns:\n",
      "Empty DataFrame\n",
      "Columns: [index, dialogue, dialogue_special_patterns]\n",
      "Index: []\n"
     ]
    }
   ],
   "source": [
    "## \"ㅋㅋ\", \"ㅎㅎ\"와 같은 구어체에서 벗어나는 형태가 있는지 확인.\n",
    "def find_special_patterns(morphs):\n",
    "    consonant_pattern = re.compile(r'^[ㄱ-ㅎ]{2,}$')  # 자음이 최소 2번 이상 반복되는 경우만\n",
    "\n",
    "    return [morph for morph in morphs if consonant_pattern.match(morph)]\n",
    "\n",
    "# 형태소 분석\n",
    "test_df['dialogue_morphs'] = test_df['cleaned_dialogue'].apply(lambda x: mecab.morphs(x))\n",
    "\n",
    "# 특이 패턴 찾기\n",
    "test_df['dialogue_special_patterns'] = test_df['dialogue_morphs'].apply(find_special_patterns)\n",
    "dialogue_special_rows = test_df[test_df['dialogue_special_patterns'].apply(lambda x: len(x) > 0)]\n",
    "dialogue_special_rows_info = dialogue_special_rows[['dialogue', 'dialogue_special_patterns']].reset_index()\n",
    "\n",
    "print(\"Dialogue with Special Patterns:\")\n",
    "print(dialogue_special_rows_info)"
   ]
  },
  {
   "cell_type": "code",
   "execution_count": 12,
   "metadata": {},
   "outputs": [
    {
     "name": "stdout",
     "output_type": "stream",
     "text": [
      "Dialogue with Repeated Patterns:\n",
      "Empty DataFrame\n",
      "Columns: [index, dialogue, dialogue_repeated_patterns]\n",
      "Index: []\n"
     ]
    }
   ],
   "source": [
    "# 반복되는 글자 패턴을 찾는 함수\n",
    "def find_repeated_patterns(text):\n",
    "    # 반복되는 글자 패턴을 찾기 위한 정규식 (같은 글자가 3번 이상 반복)\n",
    "    # repeated_pattern = re.compile(r'(.)\\1{2,}')\n",
    "    repeated_pattern = re.compile(r'([가-힣])\\1{2,}')  # 동일한 한글 글자가 연속적으로 2번 이상 반복\n",
    "\n",
    "    return [match.group(0) for match in repeated_pattern.finditer(text)]\n",
    "\n",
    "# 반복되는 글자 패턴 찾기\n",
    "test_df['dialogue_repeated_patterns'] = test_df['cleaned_dialogue'].apply(find_repeated_patterns)\n",
    "\n",
    "# 반복되는 패턴이 포함된 Dialogue 행 필터링\n",
    "dialogue_repeated_rows = test_df[test_df['dialogue_repeated_patterns'].apply(lambda x: len(x) > 0)]\n",
    "dialogue_repeated_rows_info = dialogue_repeated_rows[['dialogue', 'dialogue_repeated_patterns']].reset_index()\n",
    "\n",
    "print(\"Dialogue with Repeated Patterns:\")\n",
    "print(dialogue_repeated_rows_info)"
   ]
  },
  {
   "cell_type": "code",
   "execution_count": 13,
   "metadata": {},
   "outputs": [
    {
     "name": "stdout",
     "output_type": "stream",
     "text": [
      "                                              dialogue  \\\n",
      "0    #Person1#: 더슨 씨, 받아쓰기 좀 해주세요. \\n#Person2#: 네, ...   \n",
      "2    #Person1#: 케이트, 무슨 일이 일어났는지 너는 믿지 못할거야. \\n#Per...   \n",
      "4    #Person1#: 이 올림픽 공원이 정말 크네요!\\n#Person2#: 네. 지금...   \n",
      "5    #Person1#: 진짜 짜증나! 이런 회사에서 일하는 건 나에게 아무런 도움이 안...   \n",
      "7    #Person1#: 잘 오셨습니다. 무엇을 도와드릴까요?\\n#Person2#: 저는...   \n",
      "..                                                 ...   \n",
      "494  #Person1#: 헤이, 찰리, 학교 끝나고 우리 집에 와서 나랑 비디오 게임 할...   \n",
      "495  #Person1#: 어떻게 컨트리 음악에 관심을 가지게 되었나요?\\r\\n#Perso...   \n",
      "496  #Person1#: 실례합니다, 앨리스. 이곳을 사용해본 적이 없는데, 기계를 어떻...   \n",
      "497  #Person1#: 매튜? 안녕!\\r\\n#Person2#: 스티브! 오랜만이네! 얼...   \n",
      "498  #Person1#: 헤이, 벳시, 좋은 소식 들었어?\\n#Person2#: 아니, ...   \n",
      "\n",
      "                   dialogue_non_hangul_patterns  \n",
      "0                                 [..., ..., 4]  \n",
      "2                                           [2]  \n",
      "4                          [6, 5, 0, 0, 0, ...]  \n",
      "5                                  [1, G, D, P]  \n",
      "7    [3, 0, 9, ..., 3, 0, ..., 1, 1, 2, 0, ...]  \n",
      "..                                          ...  \n",
      "494                                      [6, 2]  \n",
      "495                             [C, B, C, ', ']  \n",
      "496                                      [1, 2]  \n",
      "497                                         [1]  \n",
      "498                                   [1, 5, 0]  \n",
      "\n",
      "[277 rows x 2 columns]\n"
     ]
    }
   ],
   "source": [
    "# 한글이 아닌 다른 문자를 찾는 함수\n",
    "def find_non_hangul_patterns(text):\n",
    "    # 한글, 공백, 기본 구두점(.,?!, 공백)을 제외한 모든 문자 또는 연속된 점(...) 패턴을 찾음\n",
    "    non_hangul_pattern = re.compile(r'[^가-힣\\s.,?!]|(?<!\\.)\\.\\.+')\n",
    "    return non_hangul_pattern.findall(text)\n",
    "\n",
    "test_df['dialogue_non_hangul_patterns'] = test_df['cleaned_dialogue'].apply(find_non_hangul_patterns)\n",
    "dialogue_non_hangul_rows_info = test_df[test_df['dialogue_non_hangul_patterns'].apply(lambda x: len(x) > 0)][['dialogue', 'dialogue_non_hangul_patterns']]\n",
    "print(dialogue_non_hangul_rows_info)"
   ]
  },
  {
   "cell_type": "code",
   "execution_count": 14,
   "metadata": {},
   "outputs": [],
   "source": [
    "with open('./test-non_kor.txt', 'w', encoding='utf-8') as file:\n",
    "    for index in range(277):\n",
    "        patterns = dialogue_non_hangul_rows_info.iloc[index]['dialogue_non_hangul_patterns']\n",
    "        dialogue = dialogue_non_hangul_rows_info.iloc[index]['dialogue']\n",
    "        file.write(f\"Index {index}:\\nPatterns: {patterns}\\nDialogue: {dialogue}\\n\\n\")"
   ]
  },
  {
   "cell_type": "code",
   "execution_count": null,
   "metadata": {},
   "outputs": [],
   "source": []
  }
 ],
 "metadata": {
  "kernelspec": {
   "display_name": "nlp-project",
   "language": "python",
   "name": "python3"
  },
  "language_info": {
   "codemirror_mode": {
    "name": "ipython",
    "version": 3
   },
   "file_extension": ".py",
   "mimetype": "text/x-python",
   "name": "python",
   "nbconvert_exporter": "python",
   "pygments_lexer": "ipython3",
   "version": "3.9.19"
  }
 },
 "nbformat": 4,
 "nbformat_minor": 2
}
