{
 "cells": [
  {
   "cell_type": "code",
   "execution_count": 1,
   "metadata": {},
   "outputs": [
    {
     "name": "stderr",
     "output_type": "stream",
     "text": [
      "/home/pervinco/miniconda3/envs/nlp-project/lib/python3.9/site-packages/tqdm/auto.py:21: TqdmWarning: IProgress not found. Please update jupyter and ipywidgets. See https://ipywidgets.readthedocs.io/en/stable/user_install.html\n",
      "  from .autonotebook import tqdm as notebook_tqdm\n"
     ]
    }
   ],
   "source": [
    "import re\n",
    "import os\n",
    "import math\n",
    "import torch\n",
    "import random\n",
    "import pandas as pd\n",
    "import pytorch_lightning as pl\n",
    "\n",
    "from tqdm import tqdm\n",
    "from rouge import Rouge\n",
    "from datetime import datetime\n",
    "\n",
    "from torch import nn\n",
    "from konlpy.tag import Mecab\n",
    "from tensorboardX import SummaryWriter\n",
    "from transformers import AutoTokenizer\n",
    "from torch.optim.lr_scheduler import _LRScheduler\n",
    "from torch.utils.data import Dataset , DataLoader\n",
    "from transformers import AutoTokenizer, AutoModelForSeq2SeqLM"
   ]
  },
  {
   "cell_type": "code",
   "execution_count": 2,
   "metadata": {},
   "outputs": [],
   "source": [
    "device = 'cuda' if torch.cuda.is_available() else 'cpu'\n",
    "\n",
    "model_id = \"psyche/KoT5-summarization\" ## \"eenzeenee/t5-base-korean-summarization\"\n",
    "train_df = pd.read_csv('../dataset/cleaned_train.csv')\n",
    "val_df = pd.read_csv('../dataset/cleaned_dev.csv')\n",
    "test_df = pd.read_csv(\"../dataset/test.csv\")\n",
    "\n",
    "# new_df = pd.read_csv(\"../dataset/new_data.csv\").sample(10000)\n",
    "# train_df = pd.concat([train_df, new_df])\n",
    "# print(train_df.shape)"
   ]
  },
  {
   "cell_type": "code",
   "execution_count": 3,
   "metadata": {},
   "outputs": [],
   "source": [
    "epochs = 1000\n",
    "batch_size = 4\n",
    "accumulation_steps = 4\n",
    "num_workers = 0\n",
    "patience = 10\n",
    "\n",
    "init_lr = 0.000001\n",
    "max_lr = 0.00001\n",
    "weight_decay = 0\n",
    "warmup_epochs = 10\n",
    "T_0 = 100\n",
    "T_mult = 1\n",
    "T_gamma = 0.5\n",
    "\n",
    "dig_max_len = 512\n",
    "sum_max_len = 256"
   ]
  },
  {
   "cell_type": "code",
   "execution_count": 4,
   "metadata": {},
   "outputs": [
    {
     "name": "stderr",
     "output_type": "stream",
     "text": [
      "/home/pervinco/miniconda3/envs/nlp-project/lib/python3.9/site-packages/transformers/tokenization_utils_base.py:1601: FutureWarning: `clean_up_tokenization_spaces` was not set. It will be set to `True` by default. This behavior will be depracted in transformers v4.45, and will be then set to `False` by default. For more details check this issue: https://github.com/huggingface/transformers/issues/31884\n",
      "  warnings.warn(\n"
     ]
    },
    {
     "name": "stdout",
     "output_type": "stream",
     "text": [
      "{'eos_token': '</s>', 'unk_token': '<unk>', 'pad_token': '<pad>', 'additional_special_tokens': ['#Person1#', '#Person2#', '#Person3#', '#Person4#', '#Person5#', '#Person6#', '#Person7#', '#SSN#', '#Email#', '#Address#', '#Reaction#', '#CarNumber#', '#Movietitle#', '#DateOfBirth#', '#CardNumber#', '#PhoneNumber#', '#PassportNumber#', '<sep>', '<extra_id_0>', '<extra_id_1>', '<extra_id_2>', '<extra_id_3>', '<extra_id_4>', '<extra_id_5>', '<extra_id_6>', '<extra_id_7>', '<extra_id_8>', '<extra_id_9>', '<extra_id_10>', '<extra_id_11>', '<extra_id_12>', '<extra_id_13>', '<extra_id_14>', '<extra_id_15>', '<extra_id_16>', '<extra_id_17>', '<extra_id_18>', '<extra_id_19>', '<extra_id_20>', '<extra_id_21>', '<extra_id_22>', '<extra_id_23>', '<extra_id_24>', '<extra_id_25>', '<extra_id_26>', '<extra_id_27>', '<extra_id_28>', '<extra_id_29>', '<extra_id_30>', '<extra_id_31>', '<extra_id_32>', '<extra_id_33>', '<extra_id_34>', '<extra_id_35>', '<extra_id_36>', '<extra_id_37>', '<extra_id_38>', '<extra_id_39>', '<extra_id_40>', '<extra_id_41>', '<extra_id_42>', '<extra_id_43>', '<extra_id_44>', '<extra_id_45>', '<extra_id_46>', '<extra_id_47>', '<extra_id_48>', '<extra_id_49>', '<extra_id_50>', '<extra_id_51>', '<extra_id_52>', '<extra_id_53>', '<extra_id_54>', '<extra_id_55>', '<extra_id_56>', '<extra_id_57>', '<extra_id_58>', '<extra_id_59>', '<extra_id_60>', '<extra_id_61>', '<extra_id_62>', '<extra_id_63>', '<extra_id_64>', '<extra_id_65>', '<extra_id_66>', '<extra_id_67>', '<extra_id_68>', '<extra_id_69>', '<extra_id_70>', '<extra_id_71>', '<extra_id_72>', '<extra_id_73>', '<extra_id_74>', '<extra_id_75>', '<extra_id_76>', '<extra_id_77>', '<extra_id_78>', '<extra_id_79>', '<extra_id_80>', '<extra_id_81>', '<extra_id_82>', '<extra_id_83>', '<extra_id_84>', '<extra_id_85>', '<extra_id_86>', '<extra_id_87>', '<extra_id_88>', '<extra_id_89>', '<extra_id_90>', '<extra_id_91>', '<extra_id_92>', '<extra_id_93>', '<extra_id_94>', '<extra_id_95>', '<extra_id_96>', '<extra_id_97>', '<extra_id_98>', '<extra_id_99>', '<extra_id_100>', '<extra_id_101>', '<extra_id_102>', '<extra_id_103>', '<extra_id_104>', '<extra_id_105>', '<extra_id_106>', '<extra_id_107>', '<extra_id_108>', '<extra_id_109>', '<extra_id_110>', '<extra_id_111>', '<extra_id_112>', '<extra_id_113>', '<extra_id_114>', '<extra_id_115>', '<extra_id_116>', '<extra_id_117>', '<extra_id_118>', '<extra_id_119>', '<extra_id_120>', '<extra_id_121>', '<extra_id_122>', '<extra_id_123>', '<extra_id_124>', '<extra_id_125>', '<extra_id_126>', '<extra_id_127>', '<extra_id_128>', '<extra_id_129>', '<extra_id_130>', '<extra_id_131>', '<extra_id_132>', '<extra_id_133>', '<extra_id_134>', '<extra_id_135>', '<extra_id_136>', '<extra_id_137>', '<extra_id_138>', '<extra_id_139>', '<extra_id_140>', '<extra_id_141>', '<extra_id_142>', '<extra_id_143>', '<extra_id_144>', '<extra_id_145>', '<extra_id_146>', '<extra_id_147>', '<extra_id_148>', '<extra_id_149>', '<extra_id_150>', '<extra_id_151>', '<extra_id_152>', '<extra_id_153>', '<extra_id_154>', '<extra_id_155>', '<extra_id_156>', '<extra_id_157>', '<extra_id_158>', '<extra_id_159>', '<extra_id_160>', '<extra_id_161>', '<extra_id_162>', '<extra_id_163>', '<extra_id_164>', '<extra_id_165>', '<extra_id_166>', '<extra_id_167>', '<extra_id_168>', '<extra_id_169>', '<extra_id_170>', '<extra_id_171>', '<extra_id_172>', '<extra_id_173>', '<extra_id_174>', '<extra_id_175>', '<extra_id_176>', '<extra_id_177>', '<extra_id_178>', '<extra_id_179>', '<extra_id_180>', '<extra_id_181>', '<extra_id_182>', '<extra_id_183>', '<extra_id_184>', '<extra_id_185>', '<extra_id_186>', '<extra_id_187>', '<extra_id_188>', '<extra_id_189>', '<extra_id_190>', '<extra_id_191>', '<extra_id_192>', '<extra_id_193>', '<extra_id_194>', '<extra_id_195>', '<extra_id_196>', '<extra_id_197>', '<extra_id_198>', '<extra_id_199>', '<extra_id_200>', '<extra_id_201>', '<extra_id_202>', '<extra_id_203>', '<extra_id_204>', '<extra_id_205>', '<extra_id_206>', '<extra_id_207>', '<extra_id_208>', '<extra_id_209>', '<extra_id_210>', '<extra_id_211>', '<extra_id_212>', '<extra_id_213>', '<extra_id_214>', '<extra_id_215>', '<extra_id_216>', '<extra_id_217>', '<extra_id_218>', '<extra_id_219>', '<extra_id_220>', '<extra_id_221>', '<extra_id_222>', '<extra_id_223>', '<extra_id_224>', '<extra_id_225>', '<extra_id_226>', '<extra_id_227>', '<extra_id_228>', '<extra_id_229>', '<extra_id_230>', '<extra_id_231>', '<extra_id_232>', '<extra_id_233>', '<extra_id_234>', '<extra_id_235>', '<extra_id_236>', '<extra_id_237>', '<extra_id_238>', '<extra_id_239>', '<extra_id_240>', '<extra_id_241>', '<extra_id_242>', '<extra_id_243>', '<extra_id_244>', '<extra_id_245>', '<extra_id_246>', '<extra_id_247>', '<extra_id_248>', '<extra_id_249>', '<extra_id_250>', '<extra_id_251>', '<extra_id_252>', '<extra_id_253>', '<extra_id_254>', '<extra_id_255>', '<extra_id_256>', '<extra_id_257>', '<extra_id_258>', '<extra_id_259>', '<extra_id_260>', '<extra_id_261>', '<extra_id_262>', '<extra_id_263>', '<extra_id_264>', '<extra_id_265>', '<extra_id_266>', '<extra_id_267>', '<extra_id_268>', '<extra_id_269>', '<extra_id_270>', '<extra_id_271>', '<extra_id_272>', '<extra_id_273>', '<extra_id_274>', '<extra_id_275>', '<extra_id_276>', '<extra_id_277>', '<extra_id_278>', '<extra_id_279>', '<extra_id_280>', '<extra_id_281>', '<extra_id_282>', '<extra_id_283>', '<extra_id_284>', '<extra_id_285>', '<extra_id_286>', '<extra_id_287>', '<extra_id_288>', '<extra_id_289>', '<extra_id_290>', '<extra_id_291>', '<extra_id_292>', '<extra_id_293>', '<extra_id_294>', '<extra_id_295>', '<extra_id_296>', '<extra_id_297>', '<extra_id_298>', '<extra_id_299>', '<extra_id_300>', '<extra_id_301>', '<extra_id_302>', '<extra_id_303>', '<extra_id_304>', '<extra_id_305>', '<extra_id_306>', '<extra_id_307>', '<extra_id_308>', '<extra_id_309>', '<extra_id_310>', '<extra_id_311>', '<extra_id_312>', '<extra_id_313>', '<extra_id_314>', '<extra_id_315>', '<extra_id_316>', '<extra_id_317>', '<extra_id_318>', '<extra_id_319>', '<extra_id_320>', '<extra_id_321>', '<extra_id_322>', '<extra_id_323>', '<extra_id_324>', '<extra_id_325>', '<extra_id_326>', '<extra_id_327>', '<extra_id_328>', '<extra_id_329>', '<extra_id_330>', '<extra_id_331>', '<extra_id_332>', '<extra_id_333>', '<extra_id_334>', '<extra_id_335>', '<extra_id_336>', '<extra_id_337>', '<extra_id_338>', '<extra_id_339>', '<extra_id_340>', '<extra_id_341>', '<extra_id_342>', '<extra_id_343>', '<extra_id_344>', '<extra_id_345>', '<extra_id_346>', '<extra_id_347>', '<extra_id_348>', '<extra_id_349>', '<extra_id_350>', '<extra_id_351>', '<extra_id_352>', '<extra_id_353>', '<extra_id_354>', '<extra_id_355>', '<extra_id_356>', '<extra_id_357>', '<extra_id_358>', '<extra_id_359>', '<extra_id_360>', '<extra_id_361>', '<extra_id_362>', '<extra_id_363>', '<extra_id_364>', '<extra_id_365>', '<extra_id_366>', '<extra_id_367>', '<extra_id_368>', '<extra_id_369>', '<extra_id_370>', '<extra_id_371>', '<extra_id_372>', '<extra_id_373>', '<extra_id_374>', '<extra_id_375>', '<extra_id_376>', '<extra_id_377>', '<extra_id_378>', '<extra_id_379>', '<extra_id_380>', '<extra_id_381>', '<extra_id_382>', '<extra_id_383>', '<extra_id_384>', '<extra_id_385>', '<extra_id_386>', '<extra_id_387>', '<extra_id_388>', '<extra_id_389>', '<extra_id_390>', '<extra_id_391>', '<extra_id_392>', '<extra_id_393>', '<extra_id_394>', '<extra_id_395>', '<extra_id_396>', '<extra_id_397>', '<extra_id_398>', '<extra_id_399>', '<extra_id_400>', '<extra_id_401>', '<extra_id_402>', '<extra_id_403>', '<extra_id_404>', '<extra_id_405>', '<extra_id_406>', '<extra_id_407>', '<extra_id_408>', '<extra_id_409>', '<extra_id_410>', '<extra_id_411>', '<extra_id_412>', '<extra_id_413>', '<extra_id_414>', '<extra_id_415>', '<extra_id_416>', '<extra_id_417>', '<extra_id_418>', '<extra_id_419>', '<extra_id_420>', '<extra_id_421>', '<extra_id_422>', '<extra_id_423>', '<extra_id_424>', '<extra_id_425>', '<extra_id_426>', '<extra_id_427>', '<extra_id_428>', '<extra_id_429>', '<extra_id_430>', '<extra_id_431>', '<extra_id_432>', '<extra_id_433>', '<extra_id_434>', '<extra_id_435>', '<extra_id_436>', '<extra_id_437>', '<extra_id_438>', '<extra_id_439>', '<extra_id_440>', '<extra_id_441>', '<extra_id_442>', '<extra_id_443>', '<extra_id_444>', '<extra_id_445>', '<extra_id_446>', '<extra_id_447>', '<extra_id_448>', '<extra_id_449>', '<extra_id_450>', '<extra_id_451>', '<extra_id_452>', '<extra_id_453>', '<extra_id_454>', '<extra_id_455>', '<extra_id_456>', '<extra_id_457>', '<extra_id_458>', '<extra_id_459>', '<extra_id_460>', '<extra_id_461>', '<extra_id_462>', '<extra_id_463>', '<extra_id_464>', '<extra_id_465>', '<extra_id_466>', '<extra_id_467>', '<extra_id_468>', '<extra_id_469>', '<extra_id_470>', '<extra_id_471>', '<extra_id_472>', '<extra_id_473>', '<extra_id_474>', '<extra_id_475>', '<extra_id_476>', '<extra_id_477>', '<extra_id_478>', '<extra_id_479>', '<extra_id_480>', '<extra_id_481>', '<extra_id_482>', '<extra_id_483>', '<extra_id_484>', '<extra_id_485>', '<extra_id_486>', '<extra_id_487>', '<extra_id_488>', '<extra_id_489>', '<extra_id_490>', '<extra_id_491>', '<extra_id_492>', '<extra_id_493>', '<extra_id_494>', '<extra_id_495>', '<extra_id_496>', '<extra_id_497>', '<extra_id_498>', '<extra_id_499>']}\n"
     ]
    }
   ],
   "source": [
    "tokenizer = AutoTokenizer.from_pretrained(model_id)\n",
    "model = AutoModelForSeq2SeqLM.from_pretrained(model_id).to(device)\n",
    "optimizer = torch.optim.AdamW(model.parameters(), lr=init_lr, weight_decay=weight_decay)\n",
    "\n",
    "extra_tokens = [f\"<extra_id_{i}>\" for i in range(500)]\n",
    "remove_tokens = ['<usr>', f\"{tokenizer.unk_token}\", f\"{tokenizer.eos_token}\", f\"{tokenizer.pad_token}\"] + extra_tokens\n",
    "special_tokens = [\n",
    "    '#Person1#',\n",
    "    '#Person2#',\n",
    "    '#Person3#',\n",
    "    '#Person4#',\n",
    "    '#Person5#',\n",
    "    '#Person6#',\n",
    "    '#Person7#',\n",
    "    '#SSN#',\n",
    "    '#Email#',\n",
    "    '#Address#',\n",
    "    '#Reaction#',\n",
    "    '#CarNumber#',\n",
    "    '#Movietitle#',\n",
    "    '#DateOfBirth#',\n",
    "    '#CardNumber#',\n",
    "    '#PhoneNumber#',\n",
    "    '#PassportNumber#',\n",
    "    '<sep>'\n",
    "]\n",
    "\n",
    "tokenizer.add_special_tokens({\"additional_special_tokens\": special_tokens + extra_tokens})\n",
    "print(tokenizer.special_tokens_map)"
   ]
  },
  {
   "cell_type": "code",
   "execution_count": 5,
   "metadata": {},
   "outputs": [],
   "source": [
    "class CustomDataset(Dataset):\n",
    "    def __init__(self, df, tokenizer, input_len, summ_len, is_train=True):\n",
    "        self.tokenizer = tokenizer\n",
    "        self.df = df.copy()\n",
    "        self.source_len = input_len\n",
    "        self.summ_len = summ_len\n",
    "        self.is_train = is_train\n",
    "\n",
    "        # 화자가 바뀔 때 SEP 토큰을 추가\n",
    "        self.df.loc[:, 'dialogue'] = self.df['dialogue'].apply(self.add_sep_tokens)\n",
    "\n",
    "        if self.is_train:\n",
    "            # self.df['dialogue'] = self.df['dialogue'].apply(self.apply_augmentations)\n",
    "            \n",
    "            self.input_ids = tokenizer(self.df['dialogue'].tolist(), \n",
    "                                       return_tensors=\"pt\", \n",
    "                                       padding=True,\n",
    "                                       add_special_tokens=True, \n",
    "                                       truncation=True, \n",
    "                                       max_length=dig_max_len, \n",
    "                                       return_token_type_ids=False).input_ids\n",
    "            \n",
    "            self.labels = tokenizer(self.df['summary'].tolist(), \n",
    "                                    return_tensors=\"pt\", \n",
    "                                    padding=True,\n",
    "                                    add_special_tokens=True, \n",
    "                                    truncation=True, \n",
    "                                    max_length=sum_max_len, \n",
    "                                    return_token_type_ids=False).input_ids\n",
    "        else:\n",
    "            self.input_ids = tokenizer(self.df['dialogue'].tolist(), \n",
    "                                       return_tensors=\"pt\", \n",
    "                                       padding=True,\n",
    "                                       add_special_tokens=True, \n",
    "                                       truncation=True, \n",
    "                                       max_length=dig_max_len, \n",
    "                                       return_token_type_ids=False).input_ids\n",
    "\n",
    "    def __len__(self):\n",
    "        return len(self.input_ids)\n",
    "\n",
    "    def __getitem__(self, idx):\n",
    "        if self.is_train:\n",
    "            return self.input_ids[idx], self.labels[idx]\n",
    "        else:\n",
    "            return self.input_ids[idx]\n",
    "\n",
    "\n",
    "    def add_sep_tokens(self, dialogue):\n",
    "        # 화자가 바뀔 때 SEP 토큰을 추가\n",
    "        pattern = r'(#Person\\d+#)'  # 화자를 나타내는 패턴\n",
    "        parts = re.split(pattern, dialogue)  # 화자를 기준으로 대화 분리\n",
    "        result = []\n",
    "        prev_speaker = None\n",
    "        for part in parts:\n",
    "            if re.match(pattern, part):  # 화자가 바뀌면\n",
    "                if prev_speaker and prev_speaker != part:\n",
    "                    result.append('<sep>')  # SEP 토큰 추가\n",
    "                prev_speaker = part\n",
    "            result.append(part)\n",
    "        return ''.join(result)\n",
    "\n",
    "    ###\n",
    "    def apply_augmentations(self, text):\n",
    "        # 세 가지 변환 적용: text infilling, sentence permutation, token masking\n",
    "        text = self.text_infilling(text)\n",
    "        # text = self.sentence_permutation(text)\n",
    "        text = self.token_masking(text)\n",
    "        return text\n",
    "\n",
    "    def text_infilling(self, text, fill_prob=0.15):\n",
    "        # 15% 확률로 텍스트 일부를 빈칸 처리 (T5 스타일로 <extra_id_0>, <extra_id_1> 사용)\n",
    "        words = text.split()\n",
    "        num_to_fill = int(len(words) * fill_prob)\n",
    "        fill_indices = random.sample(range(len(words)), num_to_fill)\n",
    "        \n",
    "        # <extra_id_0>, <extra_id_1> 등의 토큰을 사용해 infilling 처리\n",
    "        extra_id = 0\n",
    "        for idx in fill_indices:\n",
    "            words[idx] = f'<extra_id_{extra_id}>'\n",
    "            extra_id += 1  # 각 빈칸에 다른 extra_id 부여\n",
    "        \n",
    "        return ' '.join(words)\n",
    "\n",
    "    def sentence_permutation(self, text):\n",
    "        # 문장의 순서를 랜덤으로 섞기\n",
    "        sentences = re.split(r'(?<=[.!?]) +', text)\n",
    "        random.shuffle(sentences)\n",
    "        return ' '.join(sentences)\n",
    "\n",
    "    def token_masking(self, text, mask_prob=0.15):\n",
    "        # 15% 확률로 토큰을 마스킹 (T5 스타일로 <extra_id_*> 사용)\n",
    "        tokens = text.split()\n",
    "        num_to_mask = int(len(tokens) * mask_prob)\n",
    "        mask_indices = random.sample(range(len(tokens)), num_to_mask)\n",
    "        \n",
    "        # <extra_id_*> 형식으로 마스킹 처리\n",
    "        extra_id = 0\n",
    "        for idx in mask_indices:\n",
    "            tokens[idx] = f'<extra_id_{extra_id}>'\n",
    "            extra_id += 1\n",
    "        \n",
    "        return ' '.join(tokens)"
   ]
  },
  {
   "cell_type": "code",
   "execution_count": 6,
   "metadata": {},
   "outputs": [],
   "source": [
    "train_dataset = CustomDataset(train_df[['dialogue', 'summary']], tokenizer, dig_max_len, sum_max_len)\n",
    "val_dataset = CustomDataset(val_df[['dialogue', 'summary']], tokenizer, dig_max_len, sum_max_len)\n",
    "test_dataset = CustomDataset(test_df[['dialogue']], tokenizer, dig_max_len, sum_max_len, is_train=False)\n",
    "\n",
    "train_loader = DataLoader(train_dataset, batch_size=batch_size, shuffle=True, num_workers=num_workers)\n",
    "val_loader = DataLoader(val_dataset, batch_size=batch_size, shuffle=False, num_workers=num_workers)\n",
    "test_loader = DataLoader(test_dataset, batch_size=batch_size, shuffle=False, num_workers=num_workers)"
   ]
  },
  {
   "cell_type": "code",
   "execution_count": 7,
   "metadata": {},
   "outputs": [
    {
     "name": "stdout",
     "output_type": "stream",
     "text": [
      "{'input_ids': [32100, 7074, 25907, 104, 14307, 26164, 25892, 1439, 284, 26526, 25932, 3130, 181, 25892, 290, 655, 36, 26510, 2952, 26087, 25889, 32101, 899, 26219, 2366, 2014, 198, 4045, 15, 8227, 25949, 25892, 25889, 32100, 18639, 25907, 7017, 114, 25984, 586, 899, 26219, 2366, 3463, 5653, 25892, 2868, 7064, 1110, 25892, 25889, 32101, 1094, 273, 25892, 318, 635, 1343, 10892, 655, 7059, 21131, 3580, 325, 25949, 26087, 25889, 32100, 4199, 4750, 25895, 17508, 343, 587, 7002, 748, 16314, 1112, 32, 1909, 25892, 6829, 6993, 7867, 172, 9361, 2868, 16, 20498, 25514, 25892, 25889, 32101, 11060, 25892, 25889, 32100, 949, 13664, 25892, 6993, 14855, 629, 25893, 17009, 2974, 25892, 13465, 6458, 3788, 26481, 865, 25892, 104, 14307, 26164, 25907, 5352, 24604, 25911, 2952, 26087, 25889, 32101, 216, 25892, 25889, 32100, 1391, 25906, 131, 12374, 25907, 5352, 25893, 19605, 25938, 5576, 12870, 1174, 4849, 181, 25892, 8477, 1581, 25919, 3984, 1110, 25892, 25889, 32101, 5683, 315, 2542, 1082, 25907, 22180, 13567, 198, 25022, 25892, 25889, 32100, 1856, 2443, 478, 11, 61, 4216, 25938, 10198, 237, 7910, 273, 25892, 1318, 25903, 1345, 119, 421, 3115, 6636, 481, 25892, 25889, 32101, 11060, 25907, 7101, 25907, 3130, 22488, 25892, 1], 'attention_mask': [1, 1, 1, 1, 1, 1, 1, 1, 1, 1, 1, 1, 1, 1, 1, 1, 1, 1, 1, 1, 1, 1, 1, 1, 1, 1, 1, 1, 1, 1, 1, 1, 1, 1, 1, 1, 1, 1, 1, 1, 1, 1, 1, 1, 1, 1, 1, 1, 1, 1, 1, 1, 1, 1, 1, 1, 1, 1, 1, 1, 1, 1, 1, 1, 1, 1, 1, 1, 1, 1, 1, 1, 1, 1, 1, 1, 1, 1, 1, 1, 1, 1, 1, 1, 1, 1, 1, 1, 1, 1, 1, 1, 1, 1, 1, 1, 1, 1, 1, 1, 1, 1, 1, 1, 1, 1, 1, 1, 1, 1, 1, 1, 1, 1, 1, 1, 1, 1, 1, 1, 1, 1, 1, 1, 1, 1, 1, 1, 1, 1, 1, 1, 1, 1, 1, 1, 1, 1, 1, 1, 1, 1, 1, 1, 1, 1, 1, 1, 1, 1, 1, 1, 1, 1, 1, 1, 1, 1, 1, 1, 1, 1, 1, 1, 1, 1, 1, 1, 1, 1, 1, 1, 1, 1, 1, 1, 1, 1, 1, 1, 1, 1, 1, 1, 1, 1, 1, 1, 1, 1, 1, 1, 1, 1]}\n",
      "{'input_ids': [104, 14307, 1447, 899, 26219, 2366, 975, 693, 25907, 284, 26526, 25932, 22902, 2868, 899, 26219, 2366, 2014, 372, 12191, 560, 25892, 284, 26526, 25932, 22902, 104, 14307, 1447, 8731, 1581, 25893, 283, 2443, 478, 11, 61, 4216, 25938, 322, 4680, 158, 3115, 10307, 1909, 25892, 1], 'attention_mask': [1, 1, 1, 1, 1, 1, 1, 1, 1, 1, 1, 1, 1, 1, 1, 1, 1, 1, 1, 1, 1, 1, 1, 1, 1, 1, 1, 1, 1, 1, 1, 1, 1, 1, 1, 1, 1, 1, 1, 1, 1, 1, 1, 1, 1, 1, 1]}\n",
      "['#Person1#', '▁안녕하세요', ',', '▁스', '미스', '씨', '.', '▁저는', '▁호', '킨', '스', '▁의사', '입니다', '.', '▁오늘', '▁왜', '▁오', '셨', '나요', '?', '▁', '#Person2#', '▁건강', '검', '진을', '▁받는', '▁것이', '▁좋을', '▁것', '▁같아서', '요', '.', '▁', '#Person1#', '▁그렇군요', ',', '▁당신은', '▁5', '년', '▁동안', '▁건강', '검', '진을', '▁받지', '▁않았습니다', '.', '▁매년', '▁받아야', '▁합니다', '.', '▁', '#Person2#', '▁알고', '▁있습니다', '.', '▁하지만', '▁아무', '▁문제가', '▁없다면', '▁왜', '▁의사를', '▁만나러', '▁가야', '▁하나', '요', '?', '▁', '#Person1#', '▁심각한', '▁질병', '을', '▁피하는', '▁가장', '▁좋은', '▁방법은', '▁이를', '▁조기에', '▁발견', '하는', '▁것입니다', '.', '▁그러니', '▁당신의', '▁건강을', '▁위해', '▁최소한', '▁매년', '▁한', '▁번은', '▁오세요', '.', '▁', '#Person2#', '▁알겠습니다', '.', '▁', '#Person1#', '▁여기', '▁보세요', '.', '▁당신의', '▁눈과', '▁귀', '는', '▁괜찮아', '▁보입니다', '.', '▁깊게', '▁숨을', '▁들이', '쉬', '세요', '.', '▁스', '미스', '씨', ',', '▁담배', '▁피우', '시', '나요', '?', '▁', '#Person2#', '▁네', '.', '▁', '#Person1#', '▁당신', '도', '▁알', '다시피', ',', '▁담배', '는', '▁폐암', '과', '▁심장', '병의', '▁주요', '▁원인', '입니다', '.', '▁정말로', '▁끊', '으', '셔야', '▁합니다', '.', '▁', '#Person2#', '▁수백', '▁번', '▁시도', '했지만', ',', '▁습관을', '▁버리는', '▁것이', '▁어렵습니다', '.', '▁', '#Person1#', '▁우리는', '▁도움이', '▁될', '▁수', '▁있는', '▁수업', '과', '▁약물', '들을', '▁제공하고', '▁있습니다', '.', '▁나가', '기', '▁전에', '▁더', '▁많은', '▁정보를', '▁드리', '겠습니다', '.', '▁', '#Person2#', '▁알겠습니다', ',', '▁감사합니다', ',', '▁의사', '선생님', '.', '</s>']\n",
      "['▁스', '미스', '씨가', '▁건강', '검', '진을', '▁받고', '▁있고', ',', '▁호', '킨', '스', '▁의사는', '▁매년', '▁건강', '검', '진을', '▁받는', '▁것을', '▁권장', '합니다', '.', '▁호', '킨', '스', '▁의사는', '▁스', '미스', '씨가', '▁담배를', '▁끊', '는', '▁데', '▁도움이', '▁될', '▁수', '▁있는', '▁수업', '과', '▁약', '물에', '▁대한', '▁정보를', '▁제공할', '▁것입니다', '.', '</s>']\n"
     ]
    }
   ],
   "source": [
    "sample_dig = train_df.iloc[0]['dialogue']\n",
    "sample_sum = train_df.iloc[0]['summary']\n",
    "\n",
    "dig_tk = tokenizer(sample_dig)\n",
    "sum_tk = tokenizer(sample_sum)\n",
    "\n",
    "print(dig_tk)\n",
    "print(sum_tk)\n",
    "\n",
    "print(tokenizer.convert_ids_to_tokens(dig_tk.input_ids))\n",
    "print(tokenizer.convert_ids_to_tokens(sum_tk.input_ids))"
   ]
  },
  {
   "cell_type": "code",
   "execution_count": 8,
   "metadata": {},
   "outputs": [
    {
     "name": "stdout",
     "output_type": "stream",
     "text": [
      "torch.Size([512])\n",
      "['#Person1#', '▁안녕하세요', ',', '▁스', '미스', '씨', '.', '▁저는', '▁호', '킨', '스', '▁의사', '입니다', '.', '▁오늘', '▁왜', '▁오', '셨', '나요', '?', '▁', '<sep>', '#Person2#', '▁건강', '검', '진을', '▁받는', '▁것이', '▁좋을', '▁것', '▁같아서', '요', '.', '▁', '<sep>', '#Person1#', '▁그렇군요', ',', '▁당신은', '▁5', '년', '▁동안', '▁건강', '검', '진을', '▁받지', '▁않았습니다', '.', '▁매년', '▁받아야', '▁합니다', '.', '▁', '<sep>', '#Person2#', '▁알고', '▁있습니다', '.', '▁하지만', '▁아무', '▁문제가', '▁없다면', '▁왜', '▁의사를', '▁만나러', '▁가야', '▁하나', '요', '?', '▁', '<sep>', '#Person1#', '▁심각한', '▁질병', '을', '▁피하는', '▁가장', '▁좋은', '▁방법은', '▁이를', '▁조기에', '▁발견', '하는', '▁것입니다', '.', '▁그러니', '▁당신의', '▁건강을', '▁위해', '▁최소한', '▁매년', '▁한', '▁번은', '▁오세요', '.', '▁', '<sep>', '#Person2#', '▁알겠습니다', '.', '▁', '<sep>', '#Person1#', '▁여기', '▁보세요', '.', '▁당신의', '▁눈과', '▁귀', '는', '▁괜찮아', '▁보입니다', '.', '▁깊게', '▁숨을', '▁들이', '쉬', '세요', '.', '▁스', '미스', '씨', ',', '▁담배', '▁피우', '시', '나요', '?', '▁', '<sep>', '#Person2#', '▁네', '.', '▁', '<sep>', '#Person1#', '▁당신', '도', '▁알', '다시피', ',', '▁담배', '는', '▁폐암', '과', '▁심장', '병의', '▁주요', '▁원인', '입니다', '.', '▁정말로', '▁끊', '으', '셔야', '▁합니다', '.', '▁', '<sep>', '#Person2#', '▁수백', '▁번', '▁시도', '했지만', ',', '▁습관을', '▁버리는', '▁것이', '▁어렵습니다', '.', '▁', '<sep>', '#Person1#', '▁우리는', '▁도움이', '▁될', '▁수', '▁있는', '▁수업', '과', '▁약물', '들을', '▁제공하고', '▁있습니다', '.', '▁나가', '기', '▁전에', '▁더', '▁많은', '▁정보를', '▁드리', '겠습니다', '.', '▁', '<sep>', '#Person2#', '▁알겠습니다', ',', '▁감사합니다', ',', '▁의사', '선생님', '.', '</s>', '<pad>', '<pad>', '<pad>', '<pad>', '<pad>', '<pad>', '<pad>', '<pad>', '<pad>', '<pad>', '<pad>', '<pad>', '<pad>', '<pad>', '<pad>', '<pad>', '<pad>', '<pad>', '<pad>', '<pad>', '<pad>', '<pad>', '<pad>', '<pad>', '<pad>', '<pad>', '<pad>', '<pad>', '<pad>', '<pad>', '<pad>', '<pad>', '<pad>', '<pad>', '<pad>', '<pad>', '<pad>', '<pad>', '<pad>', '<pad>', '<pad>', '<pad>', '<pad>', '<pad>', '<pad>', '<pad>', '<pad>', '<pad>', '<pad>', '<pad>', '<pad>', '<pad>', '<pad>', '<pad>', '<pad>', '<pad>', '<pad>', '<pad>', '<pad>', '<pad>', '<pad>', '<pad>', '<pad>', '<pad>', '<pad>', '<pad>', '<pad>', '<pad>', '<pad>', '<pad>', '<pad>', '<pad>', '<pad>', '<pad>', '<pad>', '<pad>', '<pad>', '<pad>', '<pad>', '<pad>', '<pad>', '<pad>', '<pad>', '<pad>', '<pad>', '<pad>', '<pad>', '<pad>', '<pad>', '<pad>', '<pad>', '<pad>', '<pad>', '<pad>', '<pad>', '<pad>', '<pad>', '<pad>', '<pad>', '<pad>', '<pad>', '<pad>', '<pad>', '<pad>', '<pad>', '<pad>', '<pad>', '<pad>', '<pad>', '<pad>', '<pad>', '<pad>', '<pad>', '<pad>', '<pad>', '<pad>', '<pad>', '<pad>', '<pad>', '<pad>', '<pad>', '<pad>', '<pad>', '<pad>', '<pad>', '<pad>', '<pad>', '<pad>', '<pad>', '<pad>', '<pad>', '<pad>', '<pad>', '<pad>', '<pad>', '<pad>', '<pad>', '<pad>', '<pad>', '<pad>', '<pad>', '<pad>', '<pad>', '<pad>', '<pad>', '<pad>', '<pad>', '<pad>', '<pad>', '<pad>', '<pad>', '<pad>', '<pad>', '<pad>', '<pad>', '<pad>', '<pad>', '<pad>', '<pad>', '<pad>', '<pad>', '<pad>', '<pad>', '<pad>', '<pad>', '<pad>', '<pad>', '<pad>', '<pad>', '<pad>', '<pad>', '<pad>', '<pad>', '<pad>', '<pad>', '<pad>', '<pad>', '<pad>', '<pad>', '<pad>', '<pad>', '<pad>', '<pad>', '<pad>', '<pad>', '<pad>', '<pad>', '<pad>', '<pad>', '<pad>', '<pad>', '<pad>', '<pad>', '<pad>', '<pad>', '<pad>', '<pad>', '<pad>', '<pad>', '<pad>', '<pad>', '<pad>', '<pad>', '<pad>', '<pad>', '<pad>', '<pad>', '<pad>', '<pad>', '<pad>', '<pad>', '<pad>', '<pad>', '<pad>', '<pad>', '<pad>', '<pad>', '<pad>', '<pad>', '<pad>', '<pad>', '<pad>', '<pad>', '<pad>', '<pad>', '<pad>', '<pad>', '<pad>', '<pad>', '<pad>', '<pad>', '<pad>', '<pad>', '<pad>', '<pad>', '<pad>', '<pad>', '<pad>', '<pad>', '<pad>', '<pad>', '<pad>', '<pad>', '<pad>', '<pad>', '<pad>', '<pad>', '<pad>', '<pad>', '<pad>', '<pad>', '<pad>', '<pad>', '<pad>', '<pad>', '<pad>', '<pad>', '<pad>', '<pad>', '<pad>', '<pad>', '<pad>', '<pad>', '<pad>', '<pad>', '<pad>', '<pad>', '<pad>', '<pad>', '<pad>', '<pad>', '<pad>', '<pad>', '<pad>', '<pad>', '<pad>', '<pad>', '<pad>', '<pad>', '<pad>', '<pad>', '<pad>', '<pad>', '<pad>', '<pad>', '<pad>', '<pad>', '<pad>', '<pad>', '<pad>', '<pad>', '<pad>', '<pad>', '<pad>', '<pad>', '<pad>', '<pad>', '<pad>', '<pad>', '<pad>', '<pad>', '<pad>', '<pad>', '<pad>', '<pad>', '<pad>', '<pad>']\n"
     ]
    }
   ],
   "source": [
    "sample_batch = train_dataset[0]\n",
    "print(sample_batch[0].shape)\n",
    "\n",
    "print(tokenizer.convert_ids_to_tokens(sample_batch[0]))"
   ]
  },
  {
   "cell_type": "code",
   "execution_count": null,
   "metadata": {},
   "outputs": [],
   "source": []
  },
  {
   "cell_type": "code",
   "execution_count": 9,
   "metadata": {},
   "outputs": [],
   "source": [
    "def ids_to_words(tokenizer, preds, labels):\n",
    "    decoded_preds = tokenizer.batch_decode(preds, clean_up_tokenization_spaces=True)\n",
    "    labels = tokenizer.batch_decode(labels, clean_up_tokenization_spaces=True)\n",
    "\n",
    "    replaced_predictions = decoded_preds.copy()\n",
    "    replaced_labels = labels.copy()\n",
    "\n",
    "    for token in remove_tokens:\n",
    "        replaced_predictions = [sentence.replace(token,\" \") for sentence in replaced_predictions]\n",
    "        replaced_labels = [sentence.replace(token,\" \") for sentence in replaced_labels]\n",
    "        \n",
    "    return replaced_predictions, replaced_labels"
   ]
  },
  {
   "cell_type": "code",
   "execution_count": 10,
   "metadata": {},
   "outputs": [],
   "source": [
    "def compute_metrics(replaced_predictions, replaced_labels):\n",
    "    rouge = Rouge()\n",
    "\n",
    "    results = rouge.get_scores(replaced_predictions, replaced_labels,avg=True)\n",
    "    result = {key: value[\"f\"] for key, value in results.items()}\n",
    "    \n",
    "    return result"
   ]
  },
  {
   "cell_type": "code",
   "execution_count": 11,
   "metadata": {},
   "outputs": [],
   "source": [
    "class CosineAnnealingWarmUpRestarts(_LRScheduler):\n",
    "    def __init__(self, optimizer, T_0, T_mult=1, eta_max=0.1, T_up=0, gamma=1., last_epoch=-1):\n",
    "        if T_0 <= 0 or not isinstance(T_0, int):\n",
    "            raise ValueError(\"Expected positive integer T_0, but got {}\".format(T_0))\n",
    "        if T_mult < 1 or not isinstance(T_mult, int):\n",
    "            raise ValueError(\"Expected integer T_mult >= 1, but got {}\".format(T_mult))\n",
    "        if T_up < 0 or not isinstance(T_up, int):\n",
    "            raise ValueError(\"Expected positive integer T_up, but got {}\".format(T_up))\n",
    "        self.T_0 = T_0\n",
    "        self.T_mult = T_mult\n",
    "        self.base_eta_max = eta_max\n",
    "        self.eta_max = eta_max\n",
    "        self.T_up = T_up\n",
    "        self.T_i = T_0\n",
    "        self.gamma = gamma\n",
    "        self.cycle = 0\n",
    "        self.T_cur = last_epoch\n",
    "        super(CosineAnnealingWarmUpRestarts, self).__init__(optimizer, last_epoch)\n",
    "    \n",
    "    def get_lr(self):\n",
    "        if self.T_cur == -1:\n",
    "            return self.base_lrs\n",
    "        elif self.T_cur < self.T_up:\n",
    "            return [(self.eta_max - base_lr)*self.T_cur / self.T_up + base_lr for base_lr in self.base_lrs]\n",
    "        else:\n",
    "            return [base_lr + (self.eta_max - base_lr) * (1 + math.cos(math.pi * (self.T_cur-self.T_up) / (self.T_i - self.T_up))) / 2\n",
    "                    for base_lr in self.base_lrs]\n",
    "\n",
    "    def step(self, epoch=None):\n",
    "        if epoch is None:\n",
    "            epoch = self.last_epoch + 1\n",
    "            self.T_cur = self.T_cur + 1\n",
    "            if self.T_cur >= self.T_i:\n",
    "                self.cycle += 1\n",
    "                self.T_cur = self.T_cur - self.T_i\n",
    "                self.T_i = (self.T_i - self.T_up) * self.T_mult + self.T_up\n",
    "        else:\n",
    "            if epoch >= self.T_0:\n",
    "                if self.T_mult == 1:\n",
    "                    self.T_cur = epoch % self.T_0\n",
    "                    self.cycle = epoch // self.T_0\n",
    "                else:\n",
    "                    n = int(math.log((epoch / self.T_0 * (self.T_mult - 1) + 1), self.T_mult))\n",
    "                    self.cycle = n\n",
    "                    self.T_cur = epoch - self.T_0 * (self.T_mult ** n - 1) / (self.T_mult - 1)\n",
    "                    self.T_i = self.T_0 * self.T_mult ** (n)\n",
    "            else:\n",
    "                self.T_i = self.T_0\n",
    "                self.T_cur = epoch\n",
    "                \n",
    "        self.eta_max = self.base_eta_max * (self.gamma**self.cycle)\n",
    "        self.last_epoch = math.floor(epoch)\n",
    "        for param_group, lr in zip(self.optimizer.param_groups, self.get_lr()):\n",
    "            param_group['lr'] = lr"
   ]
  },
  {
   "cell_type": "code",
   "execution_count": null,
   "metadata": {},
   "outputs": [],
   "source": []
  },
  {
   "cell_type": "code",
   "execution_count": 12,
   "metadata": {},
   "outputs": [],
   "source": [
    "# def train(epoch, model, device, train_loader, optimizer, writer):\n",
    "#     model.train()\n",
    "#     total_loss = 0.0\n",
    "\n",
    "#     for idx, batch in tqdm(enumerate(train_loader), total=len(train_loader), desc=f\"Training Epoch {epoch}\", leave=False):\n",
    "#         input_ids = batch[0].to(device, dtype=torch.long)\n",
    "#         labels = batch[1].to(device, dtype=torch.long)\n",
    "\n",
    "#         optimizer.zero_grad()\n",
    "#         outputs = model(input_ids=input_ids, labels=labels)\n",
    "#         ce_loss = outputs.loss\n",
    "\n",
    "#         ce_loss.backward()\n",
    "#         optimizer.step()\n",
    "\n",
    "#         total_loss += ce_loss.item()\n",
    "\n",
    "#     avg_loss = total_loss / len(train_loader)\n",
    "\n",
    "#     writer.add_scalar('Loss/train', avg_loss, epoch)\n",
    "#     return avg_loss\n",
    "\n",
    "def train(epoch, model, device, train_loader, optimizer, writer, accumulation_steps):\n",
    "    model.train()\n",
    "    total_loss = 0.0\n",
    "    optimizer.zero_grad()\n",
    "\n",
    "    for idx, batch in tqdm(enumerate(train_loader), total=len(train_loader), desc=f\"Training Epoch {epoch}\", leave=False):\n",
    "        input_ids = batch[0].to(device, dtype=torch.long)\n",
    "        labels = batch[1].to(device, dtype=torch.long)\n",
    "\n",
    "        outputs = model(input_ids=input_ids, labels=labels)\n",
    "        ce_loss = outputs.loss\n",
    "        ce_loss = ce_loss / accumulation_steps \n",
    "        ce_loss.backward()\n",
    "\n",
    "        if (idx + 1) % accumulation_steps == 0:\n",
    "            optimizer.step()\n",
    "            optimizer.zero_grad()\n",
    "\n",
    "        total_loss += ce_loss.item() * accumulation_steps\n",
    "\n",
    "    avg_loss = total_loss / len(train_loader)\n",
    "    writer.add_scalar('Loss/train', avg_loss, epoch)\n",
    "    return avg_loss"
   ]
  },
  {
   "cell_type": "code",
   "execution_count": 13,
   "metadata": {},
   "outputs": [],
   "source": [
    "def validate(tokenizer, model, device, val_loader, writer, epoch):\n",
    "    model.eval()\n",
    "    total_loss = 0\n",
    "    all_results = []\n",
    "    all_predictions = []\n",
    "    all_labels = []\n",
    "\n",
    "    with torch.no_grad():\n",
    "        for idx, batch in tqdm(enumerate(val_loader), total=len(val_loader), desc=\"Validating\", leave=False):\n",
    "            input_ids = batch[0].to(device, dtype=torch.long)\n",
    "            labels = batch[1].to(device, dtype=torch.long)\n",
    "\n",
    "            pred_ids = model.generate(input_ids=input_ids, max_length=sum_max_len, num_beams=4, repetition_penalty=2.0, \n",
    "                                      length_penalty=1.0, early_stopping=True, no_repeat_ngram_size=2)\n",
    "\n",
    "            loss = model(input_ids=input_ids, labels=labels).loss\n",
    "            total_loss += loss.item()\n",
    "\n",
    "            replaced_predictions, replaced_labels = ids_to_words(tokenizer, pred_ids, labels)\n",
    "            result = compute_metrics(replaced_predictions, replaced_labels)\n",
    "\n",
    "            all_results.append(result)\n",
    "            all_predictions.extend(replaced_predictions)\n",
    "            all_labels.extend(replaced_labels)\n",
    "\n",
    "    val_loss = total_loss / len(val_loader)\n",
    "    avg_result = {key: sum(r[key] for r in all_results) / len(all_results) for key in all_results[0]}\n",
    "    \n",
    "    writer.add_scalar('Loss/valid', val_loss, epoch)\n",
    "    writer.add_scalar('ROUGE/rouge-1', avg_result['rouge-1'], epoch)\n",
    "    writer.add_scalar('ROUGE/rouge-2', avg_result['rouge-2'], epoch)\n",
    "    writer.add_scalar('ROUGE/rouge-l', avg_result['rouge-l'], epoch)\n",
    "\n",
    "    return val_loss, avg_result, all_predictions, all_labels"
   ]
  },
  {
   "cell_type": "code",
   "execution_count": 14,
   "metadata": {},
   "outputs": [
    {
     "name": "stdout",
     "output_type": "stream",
     "text": [
      "Epoch 1/1000, Current Learning Rate: 0.000001\n"
     ]
    },
    {
     "name": "stderr",
     "output_type": "stream",
     "text": [
      "                                                                     \r"
     ]
    },
    {
     "name": "stdout",
     "output_type": "stream",
     "text": [
      "Train Loss: 2.216769, Valid Loss: 1.773889\n",
      "Rouge-1: 0.134115, Rouge-2: 0.026682, Rouge-l: 0.132053\n",
      "------------------------------------------------------------------------------------------------------------------------------------------------------\n",
      "PRED: 이스트리트는 요즘 숨쉬기가 좀 힘들어요. 감기는 아니에요. 그냥 숨을 쉴 때마다 가슴이 무겁게 느껴져요.\n",
      "GOLD: #Person2# 는 숨쉬기에 어려움을 겪는다. 의사는 #Person1# 에게 이에 대해 묻고, #Person2# 를 폐 전문의에게 보낼 예정이다.                                                                 \n",
      "------------------------------------------------------------------------------------------------------------------------------------------------------\n",
      "PRED: 헬스장에서 만나자. 몇 시에 갈 건지, 오늘은 다리와 팔목을 운동하자.\n",
      "GOLD: #Person1# 은 지미에게 운동하러 가자고 제안하고 팔과 배를 운동하도록 설득한다.                                                                         \n",
      "------------------------------------------------------------------------------------------------------------------------------------------------------\n",
      "PRED: 요즘에는 더 건강한 음식을 먹기 시작했어.  요즘에 더 건강하게 먹기 시작한 것 같아.\n",
      "GOLD: #Person1# 은 건강에 해로운 음식을 먹는 것을 멈추려는 계획을 세우고, #Person2# 는 자신의 건강한 레시피를 #Person1# 와 공유한다.                                                                 \n",
      "------------------------------------------------------------------------------------------------------------------------------------------------------\n",
      "New best model saved with average ROUGE: 0.026682\n",
      "\n",
      "Epoch 2/1000, Current Learning Rate: 0.000002\n"
     ]
    },
    {
     "name": "stderr",
     "output_type": "stream",
     "text": [
      "                                                                     \r"
     ]
    },
    {
     "name": "stdout",
     "output_type": "stream",
     "text": [
      "Train Loss: 1.048891, Valid Loss: 1.462695\n",
      "Rouge-1: 0.139023, Rouge-2: 0.028105, Rouge-l: 0.136067\n",
      "------------------------------------------------------------------------------------------------------------------------------------------------------\n",
      "PRED: 흞 쉴 때마다 가슴이 무겁게 느껴져요.\n",
      "GOLD: #Person2# 는 숨쉬기에 어려움을 겪는다. 의사는 #Person1# 에게 이에 대해 묻고, #Person2# 를 폐 전문의에게 보낼 예정이다.                                                                 \n",
      "------------------------------------------------------------------------------------------------------------------------------------------------------\n",
      "PRED: 헬스장에서 만나자. 몇 시에 갈지, 오늘은 다리와 팔목을 운동하자. 금요일에 다리를 할 수 있어.\n",
      "GOLD: #Person1# 은 지미에게 운동하러 가자고 제안하고 팔과 배를 운동하도록 설득한다.                                                                         \n",
      "------------------------------------------------------------------------------------------------------------------------------------------------------\n",
      "PRED: 겏단은 더 이상 건강에 해로운 음식을 먹는 것을 멈춰야 한다고 말했고, 림단도 요즘에는 더 건강한 음식을 먹기 시작했다고 말했다.\n",
      "GOLD: #Person1# 은 건강에 해로운 음식을 먹는 것을 멈추려는 계획을 세우고, #Person2# 는 자신의 건강한 레시피를 #Person1# 와 공유한다.                                                                 \n",
      "------------------------------------------------------------------------------------------------------------------------------------------------------\n",
      "New best model saved with average ROUGE: 0.028105\n",
      "\n",
      "Epoch 3/1000, Current Learning Rate: 0.000003\n"
     ]
    },
    {
     "name": "stderr",
     "output_type": "stream",
     "text": [
      "                                                                     \r"
     ]
    },
    {
     "name": "stdout",
     "output_type": "stream",
     "text": [
      "Train Loss: 0.820631, Valid Loss: 1.074047\n",
      "Rouge-1: 0.150027, Rouge-2: 0.029636, Rouge-l: 0.145844\n",
      "------------------------------------------------------------------------------------------------------------------------------------------------------\n",
      "PRED: 흞어 쉴 때마다 가슴이 무겁게 느껴져요. 숨을 쉴 때 숨이 무겁고, 알러지 증상이 항상 나타나나요? 운동을 할 때 많이 나타나요?\n",
      "GOLD: #Person2# 는 숨쉬기에 어려움을 겪는다. 의사는 #Person1# 에게 이에 대해 묻고, #Person2# 를 폐 전문의에게 보낼 예정이다.                                                                 \n",
      "------------------------------------------------------------------------------------------------------------------------------------------------------\n",
      "PRED: 이스트리트는 3시 30분에 헬스장에 가자고 제안하고, 이스트는 농구를 했는데 다리가 아프다며 팔과 배를 운동하자고 한다.\n",
      "GOLD: #Person1# 은 지미에게 운동하러 가자고 제안하고 팔과 배를 운동하도록 설득한다.                                                                         \n",
      "------------------------------------------------------------------------------------------------------------------------------------------------------\n",
      "PRED: 이프티스는 더 이상 건강에 해로운 음식을 먹는 것을 멈춰야 한다고 말하고, 요즘에는 더 건강한 음식을 먹기 시작했다고 말한다.\n",
      "GOLD: #Person1# 은 건강에 해로운 음식을 먹는 것을 멈추려는 계획을 세우고, #Person2# 는 자신의 건강한 레시피를 #Person1# 와 공유한다.                                                                 \n",
      "------------------------------------------------------------------------------------------------------------------------------------------------------\n",
      "New best model saved with average ROUGE: 0.029636\n",
      "\n",
      "Epoch 4/1000, Current Learning Rate: 0.000004\n"
     ]
    },
    {
     "name": "stderr",
     "output_type": "stream",
     "text": [
      "                                                                     \r"
     ]
    },
    {
     "name": "stdout",
     "output_type": "stream",
     "text": [
      "Train Loss: 0.612231, Valid Loss: 0.833479\n",
      "Rouge-1: 0.196014, Rouge-2: 0.045840, Rouge-l: 0.186476\n",
      "------------------------------------------------------------------------------------------------------------------------------------------------------\n",
      "PRED: #Person2# 은 의사 선생님에게 최근 숨쉬기가 힘들다고 말하고, 알레르기가 있는지 묻고, 운동을 할 때 많이 나타난다고 말한다.\n",
      "GOLD: #Person2# 는 숨쉬기에 어려움을 겪는다. 의사는 #Person1# 에게 이에 대해 묻고, #Person2# 를 폐 전문의에게 보낼 예정이다.                                                                 \n",
      "------------------------------------------------------------------------------------------------------------------------------------------------------\n",
      "PRED: 이 씨는 지미에게 3시 30분에 헬스장에 가자고 제안한다. 그는 오늘은 다리와 팔목을, 오늘은 팔과 배를 운동하자고 제안하고, 금요일에 다리를 할 수 있다고 말한다.\n",
      "GOLD: #Person1# 은 지미에게 운동하러 가자고 제안하고 팔과 배를 운동하도록 설득한다.                                                                         \n",
      "------------------------------------------------------------------------------------------------------------------------------------------------------\n",
      "PRED: #Person2# 는 더 이상 건강에 해로운 음식을 먹는 것을 멈춰야 한다며, 요즘에는 더 건강한 음식을 먹기 시작했다고 말한다. 그는 주로 과일, 채소, 그리고 닭고기를 먹는 편이라고 한다.\n",
      "GOLD: #Person1# 은 건강에 해로운 음식을 먹는 것을 멈추려는 계획을 세우고, #Person2# 는 자신의 건강한 레시피를 #Person1# 와 공유한다.                                                                 \n",
      "------------------------------------------------------------------------------------------------------------------------------------------------------\n",
      "New best model saved with average ROUGE: 0.045840\n",
      "\n",
      "Epoch 5/1000, Current Learning Rate: 0.000005\n"
     ]
    },
    {
     "name": "stderr",
     "output_type": "stream",
     "text": [
      "                                                                     \r"
     ]
    },
    {
     "name": "stdout",
     "output_type": "stream",
     "text": [
      "Train Loss: 0.506847, Valid Loss: 0.709496\n",
      "Rouge-1: 0.230654, Rouge-2: 0.058426, Rouge-l: 0.220619\n",
      "------------------------------------------------------------------------------------------------------------------------------------------------------\n",
      "PRED: #Person1# 은 의사 선생님에게 천식에 대한 검사를 받게 할 거라고 말한다.\n",
      "GOLD: #Person2# 는 숨쉬기에 어려움을 겪는다. 의사는 #Person1# 에게 이에 대해 묻고, #Person2# 를 폐 전문의에게 보낼 예정이다.                                                                 \n",
      "------------------------------------------------------------------------------------------------------------------------------------------------------\n",
      "PRED: 헤이, 지미는 헬스장에서 만나자고 제안한다. #Person2# 은 3시 30분에 헬스장에 가자고 한다.\n",
      "GOLD: #Person1# 은 지미에게 운동하러 가자고 제안하고 팔과 배를 운동하도록 설득한다.                                                                         \n",
      "------------------------------------------------------------------------------------------------------------------------------------------------------\n",
      "PRED: 앤드류는 더 이상 건강에 해로운 음식을 먹는 것을 멈춰야 한다며, 요즘에는 더 건강한 음식을 먹기 시작했다고 말한다. 그는 주로 과일, 채소, 그리고 닭고기를 먹는 편이다.\n",
      "GOLD: #Person1# 은 건강에 해로운 음식을 먹는 것을 멈추려는 계획을 세우고, #Person2# 는 자신의 건강한 레시피를 #Person1# 와 공유한다.                                                                 \n",
      "------------------------------------------------------------------------------------------------------------------------------------------------------\n",
      "New best model saved with average ROUGE: 0.058426\n",
      "\n",
      "Epoch 6/1000, Current Learning Rate: 0.000005\n"
     ]
    },
    {
     "name": "stderr",
     "output_type": "stream",
     "text": [
      "                                                                     \r"
     ]
    },
    {
     "name": "stdout",
     "output_type": "stream",
     "text": [
      "Train Loss: 0.452757, Valid Loss: 0.671865\n",
      "Rouge-1: 0.264144, Rouge-2: 0.070779, Rouge-l: 0.250856\n",
      "------------------------------------------------------------------------------------------------------------------------------------------------------\n",
      "PRED: 빅토리아는 의사 선생님에게 최근 숨쉬기가 힘들다고 말하고, 알레르기가 있는지 묻고, 운동을 할 때 많이 나타난다고 말한다.\n",
      "GOLD: #Person2# 는 숨쉬기에 어려움을 겪는다. 의사는 #Person1# 에게 이에 대해 묻고, #Person2# 를 폐 전문의에게 보낼 예정이다.                                                                 \n",
      "------------------------------------------------------------------------------------------------------------------------------------------------------\n",
      "PRED: 헤이, 지미는 3시 30분에 헬스장에 가자고 제안한다.\n",
      "GOLD: #Person1# 은 지미에게 운동하러 가자고 제안하고 팔과 배를 운동하도록 설득한다.                                                                         \n",
      "------------------------------------------------------------------------------------------------------------------------------------------------------\n",
      "PRED: 앤드류는 더 이상 건강에 해로운 음식을 먹는 것을 멈춰야 한다며, 요즘에는 더 건강한 음식을 먹기 시작했다고 말한다. 그는 주로 과일, 채소, 그리고 닭고기를 먹는 편이다.\n",
      "GOLD: #Person1# 은 건강에 해로운 음식을 먹는 것을 멈추려는 계획을 세우고, #Person2# 는 자신의 건강한 레시피를 #Person1# 와 공유한다.                                                                 \n",
      "------------------------------------------------------------------------------------------------------------------------------------------------------\n",
      "New best model saved with average ROUGE: 0.070779\n",
      "\n",
      "Epoch 7/1000, Current Learning Rate: 0.000006\n"
     ]
    },
    {
     "name": "stderr",
     "output_type": "stream",
     "text": [
      "                                                                     \r"
     ]
    },
    {
     "name": "stdout",
     "output_type": "stream",
     "text": [
      "Train Loss: 0.425024, Valid Loss: 0.649031\n",
      "Rouge-1: 0.306783, Rouge-2: 0.090340, Rouge-l: 0.290741\n",
      "------------------------------------------------------------------------------------------------------------------------------------------------------\n",
      "PRED: 은 #Person1# 에게 최근 숨쉬기가 힘들다고 말한다. #Person2# 는 알레르기가 있는지, 운동을 할 때 주로 나타나는지 묻는다.\n",
      "GOLD: #Person2# 는 숨쉬기에 어려움을 겪는다. 의사는 #Person1# 에게 이에 대해 묻고, #Person2# 를 폐 전문의에게 보낼 예정이다.                                                                 \n",
      "------------------------------------------------------------------------------------------------------------------------------------------------------\n",
      "PRED: 헤이, 지미는 3시 30분에 헬스장에 가자고 제안한다.\n",
      "GOLD: #Person1# 은 지미에게 운동하러 가자고 제안하고 팔과 배를 운동하도록 설득한다.                                                                         \n",
      "------------------------------------------------------------------------------------------------------------------------------------------------------\n",
      "PRED: #Person1# 은 더 이상 건강에 해로운 음식을 먹는 것을 멈추어야 한다고 말한다. #Person2# 는 요즘에는 더 건강한 음식을 먹기 시작했다고 말한다\n",
      "GOLD: #Person1# 은 건강에 해로운 음식을 먹는 것을 멈추려는 계획을 세우고, #Person2# 는 자신의 건강한 레시피를 #Person1# 와 공유한다.                                                                 \n",
      "------------------------------------------------------------------------------------------------------------------------------------------------------\n",
      "New best model saved with average ROUGE: 0.090340\n",
      "\n",
      "Epoch 8/1000, Current Learning Rate: 0.000007\n"
     ]
    },
    {
     "name": "stderr",
     "output_type": "stream",
     "text": [
      "                                                                     \r"
     ]
    },
    {
     "name": "stdout",
     "output_type": "stream",
     "text": [
      "Train Loss: 0.406632, Valid Loss: 0.629626\n",
      "Rouge-1: 0.318063, Rouge-2: 0.096777, Rouge-l: 0.300787\n",
      "------------------------------------------------------------------------------------------------------------------------------------------------------\n",
      "PRED: 은 #Person2# 에게 최근 숨쉬기가 힘들다고 말한다. #Person1# 는 알레르기가 있는지, 운동을 할 때 주로 나타나는지 의사 선생님에게 묻는다.\n",
      "GOLD: #Person2# 는 숨쉬기에 어려움을 겪는다. 의사는 #Person1# 에게 이에 대해 묻고, #Person2# 를 폐 전문의에게 보낼 예정이다.                                                                 \n",
      "------------------------------------------------------------------------------------------------------------------------------------------------------\n",
      "PRED: 헤이, 지미는 3시 30분에 헬스장에 가자고 제안한다.\n",
      "GOLD: #Person1# 은 지미에게 운동하러 가자고 제안하고 팔과 배를 운동하도록 설득한다.                                                                         \n",
      "------------------------------------------------------------------------------------------------------------------------------------------------------\n",
      "PRED: #Person1# 은 더 이상 건강에 해로운 음식을 먹는 것을 멈추어야 한다고 말한다. #Person2# 는 최근에 더 건강한 음식을 먹기 시작했다.\n",
      "GOLD: #Person1# 은 건강에 해로운 음식을 먹는 것을 멈추려는 계획을 세우고, #Person2# 는 자신의 건강한 레시피를 #Person1# 와 공유한다.                                                                 \n",
      "------------------------------------------------------------------------------------------------------------------------------------------------------\n",
      "New best model saved with average ROUGE: 0.096777\n",
      "\n",
      "Epoch 9/1000, Current Learning Rate: 0.000008\n"
     ]
    },
    {
     "name": "stderr",
     "output_type": "stream",
     "text": [
      "                                                                     \r"
     ]
    },
    {
     "name": "stdout",
     "output_type": "stream",
     "text": [
      "Train Loss: 0.392329, Valid Loss: 0.614249\n",
      "Rouge-1: 0.328358, Rouge-2: 0.101420, Rouge-l: 0.307928\n",
      "------------------------------------------------------------------------------------------------------------------------------------------------------\n",
      "PRED: #Person1# 은 #Person2# 에게 최근 숨쉬기가 힘들다고 말하고, 알레르기에 걸렸는지, 운동을 할 때 많이 나타난다고 말한다. #Person1# 는 폐 전문의에게 천식에 대한 검사를 받게 할 것이다.\n",
      "GOLD: #Person2# 는 숨쉬기에 어려움을 겪는다. 의사는 #Person1# 에게 이에 대해 묻고, #Person2# 를 폐 전문의에게 보낼 예정이다.                                                                 \n",
      "------------------------------------------------------------------------------------------------------------------------------------------------------\n",
      "PRED: 지미는 #Person1# 에게 3시 30분에 운동하러 가자고 제안한다. #Person2# 은 금요일에 다리를 할 수 있다고 말하고, 헬스장에서 만나기로 한다.\n",
      "GOLD: #Person1# 은 지미에게 운동하러 가자고 제안하고 팔과 배를 운동하도록 설득한다.                                                                         \n",
      "------------------------------------------------------------------------------------------------------------------------------------------------------\n",
      "PRED: #Person1# 은 더 이상 건강에 해로운 음식을 먹는 것을 멈추라고 #Person2# 에게 말한다. #Person1# 는 최근에 더 건강한 음식을 먹기 시작했다.\n",
      "GOLD: #Person1# 은 건강에 해로운 음식을 먹는 것을 멈추려는 계획을 세우고, #Person2# 는 자신의 건강한 레시피를 #Person1# 와 공유한다.                                                                 \n",
      "------------------------------------------------------------------------------------------------------------------------------------------------------\n",
      "New best model saved with average ROUGE: 0.101420\n",
      "\n",
      "Epoch 10/1000, Current Learning Rate: 0.000009\n"
     ]
    },
    {
     "name": "stderr",
     "output_type": "stream",
     "text": [
      "                                                                      \r"
     ]
    },
    {
     "name": "stdout",
     "output_type": "stream",
     "text": [
      "Train Loss: 0.380214, Valid Loss: 0.605942\n",
      "Rouge-1: 0.333983, Rouge-2: 0.102168, Rouge-l: 0.313035\n",
      "------------------------------------------------------------------------------------------------------------------------------------------------------\n",
      "PRED: #Person1# 은 #Person2# 에게 최근 숨쉬기가 힘들다고 말한다. #Person1# 는 알레르기가 있는지, 운동을 할 때 주로 나타나는지 묻는다.\n",
      "GOLD: #Person2# 는 숨쉬기에 어려움을 겪는다. 의사는 #Person1# 에게 이에 대해 묻고, #Person2# 를 폐 전문의에게 보낼 예정이다.                                                                 \n",
      "------------------------------------------------------------------------------------------------------------------------------------------------------\n",
      "PRED: 지미는 #Person1# 에게 3시 30분에 운동하러 가자고 제안하지만, #Person2# 은 주간 스케줄을 따르고 있어 거절당한다.\n",
      "GOLD: #Person1# 은 지미에게 운동하러 가자고 제안하고 팔과 배를 운동하도록 설득한다.                                                                         \n",
      "------------------------------------------------------------------------------------------------------------------------------------------------------\n",
      "PRED: #Person1# 은 더 이상 건강에 해로운 음식을 먹는 것을 멈추어야 한다고 #Person2# 에게 말한다. #Person1# 는 최근에 더 건강한 음식을 먹기 시작했다.\n",
      "GOLD: #Person1# 은 건강에 해로운 음식을 먹는 것을 멈추려는 계획을 세우고, #Person2# 는 자신의 건강한 레시피를 #Person1# 와 공유한다.                                                                 \n",
      "------------------------------------------------------------------------------------------------------------------------------------------------------\n",
      "New best model saved with average ROUGE: 0.102168\n",
      "\n",
      "Epoch 11/1000, Current Learning Rate: 0.000010\n"
     ]
    },
    {
     "name": "stderr",
     "output_type": "stream",
     "text": [
      "                                                                      \r"
     ]
    },
    {
     "name": "stdout",
     "output_type": "stream",
     "text": [
      "Train Loss: 0.369237, Valid Loss: 0.593724\n",
      "Rouge-1: 0.336020, Rouge-2: 0.101886, Rouge-l: 0.314913\n",
      "------------------------------------------------------------------------------------------------------------------------------------------------------\n",
      "PRED: #Person1# 는 #Person2# 에게 최근 숨쉬기가 힘들다고 말하고, 알레르기에 걸렸는지, 운동을 할 때 주로 나타나는지 묻는다.\n",
      "GOLD: #Person2# 는 숨쉬기에 어려움을 겪는다. 의사는 #Person1# 에게 이에 대해 묻고, #Person2# 를 폐 전문의에게 보낼 예정이다.                                                                 \n",
      "------------------------------------------------------------------------------------------------------------------------------------------------------\n",
      "PRED: 지미는 #Person1# 에게 3시 30분에 운동하러 가자고 제안한다. #Person2# 은 금요일에 다리를 할 수 있다고 말한다.\n",
      "GOLD: #Person1# 은 지미에게 운동하러 가자고 제안하고 팔과 배를 운동하도록 설득한다.                                                                         \n",
      "------------------------------------------------------------------------------------------------------------------------------------------------------\n",
      "PRED: #Person1# 는 더 이상 건강에 해로운 음식을 먹는 것을 멈추어야 한다고 생각한다. #Person2# 는 최근에 더 건강한 음식을 먹기 시작했다.\n",
      "GOLD: #Person1# 은 건강에 해로운 음식을 먹는 것을 멈추려는 계획을 세우고, #Person2# 는 자신의 건강한 레시피를 #Person1# 와 공유한다.                                                                 \n",
      "------------------------------------------------------------------------------------------------------------------------------------------------------\n",
      "Not improve. Early stopping counter: 1/5\n",
      "\n",
      "Epoch 12/1000, Current Learning Rate: 0.000010\n"
     ]
    },
    {
     "name": "stderr",
     "output_type": "stream",
     "text": [
      "                                                                      \r"
     ]
    },
    {
     "name": "stdout",
     "output_type": "stream",
     "text": [
      "Train Loss: 0.359937, Valid Loss: 0.584442\n",
      "Rouge-1: 0.341030, Rouge-2: 0.103376, Rouge-l: 0.318471\n",
      "------------------------------------------------------------------------------------------------------------------------------------------------------\n",
      "PRED: #Person1# 는 #Person2# 에게 최근 숨쉬기가 힘들다고 말하고, 알레르기에 걸렸는지, 운동을 할 때 많이 나타난다고 말한다.\n",
      "GOLD: #Person2# 는 숨쉬기에 어려움을 겪는다. 의사는 #Person1# 에게 이에 대해 묻고, #Person2# 를 폐 전문의에게 보낼 예정이다.                                                                 \n",
      "------------------------------------------------------------------------------------------------------------------------------------------------------\n",
      "PRED: 헤이, 지미는 3시 30분에 헬스장에 가자고 제안한다. #Person1# 은 금요일에 다리를 할 수 있다고 말하고, #Person2# 는 동의한다\n",
      "GOLD: #Person1# 은 지미에게 운동하러 가자고 제안하고 팔과 배를 운동하도록 설득한다.                                                                         \n",
      "------------------------------------------------------------------------------------------------------------------------------------------------------\n",
      "PRED: #Person1# 는 더 이상 건강에 해로운 음식을 먹는 것을 멈추어야 한다고 생각한다. #Person2# 는 요즘에는 주로 과일, 채소, 그리고 닭고기를 먹는 편이다.\n",
      "GOLD: #Person1# 은 건강에 해로운 음식을 먹는 것을 멈추려는 계획을 세우고, #Person2# 는 자신의 건강한 레시피를 #Person1# 와 공유한다.                                                                 \n",
      "------------------------------------------------------------------------------------------------------------------------------------------------------\n",
      "New best model saved with average ROUGE: 0.103376\n",
      "\n",
      "Epoch 13/1000, Current Learning Rate: 0.000010\n"
     ]
    },
    {
     "name": "stderr",
     "output_type": "stream",
     "text": [
      "                                                                      \r"
     ]
    },
    {
     "name": "stdout",
     "output_type": "stream",
     "text": [
      "Train Loss: 0.351746, Valid Loss: 0.578149\n",
      "Rouge-1: 0.347312, Rouge-2: 0.107338, Rouge-l: 0.323342\n",
      "------------------------------------------------------------------------------------------------------------------------------------------------------\n",
      "PRED: #Person1# 는 #Person2# 에게 최근 숨쉬기가 힘들다고 말하고, 알레르기에 걸렸는지, 운동을 할 때 많이 나타난다고 말한다. #Person1# 은 폐 전문의에게 천식 검사를 받도록 요청한다.\n",
      "GOLD: #Person2# 는 숨쉬기에 어려움을 겪는다. 의사는 #Person1# 에게 이에 대해 묻고, #Person2# 를 폐 전문의에게 보낼 예정이다.                                                                 \n",
      "------------------------------------------------------------------------------------------------------------------------------------------------------\n",
      "PRED: 지미는 #Person1# 에게 3시 30분에 헬스장에 가자고 제안한다. #Person2# 은 금요일에 다리를 할 수 있도록 두 날을 바꾸기로 한다.\n",
      "GOLD: #Person1# 은 지미에게 운동하러 가자고 제안하고 팔과 배를 운동하도록 설득한다.                                                                         \n",
      "------------------------------------------------------------------------------------------------------------------------------------------------------\n",
      "PRED: #Person1# 는 #Person2# 에게 건강에 해로운 음식을 먹는 것을 멈추라고 말하고, 요즘에는 더 건강한 음식을 먹기 시작했다고 말한다.\n",
      "GOLD: #Person1# 은 건강에 해로운 음식을 먹는 것을 멈추려는 계획을 세우고, #Person2# 는 자신의 건강한 레시피를 #Person1# 와 공유한다.                                                                 \n",
      "------------------------------------------------------------------------------------------------------------------------------------------------------\n",
      "New best model saved with average ROUGE: 0.107338\n",
      "\n",
      "Epoch 14/1000, Current Learning Rate: 0.000010\n"
     ]
    },
    {
     "name": "stderr",
     "output_type": "stream",
     "text": [
      "                                                                      \r"
     ]
    },
    {
     "name": "stdout",
     "output_type": "stream",
     "text": [
      "Train Loss: 0.344408, Valid Loss: 0.573518\n",
      "Rouge-1: 0.349868, Rouge-2: 0.110217, Rouge-l: 0.325233\n",
      "------------------------------------------------------------------------------------------------------------------------------------------------------\n",
      "PRED: #Person1# 는 #Person2# 에게 최근 숨쉬기가 힘들다고 말하고, 알레르기는 없지만 운동을 할 때 많이 나타난다고 말한다. #Person1# 은 폐 전문의에게 천식 검사를 받도록 요청한다.\n",
      "GOLD: #Person2# 는 숨쉬기에 어려움을 겪는다. 의사는 #Person1# 에게 이에 대해 묻고, #Person2# 를 폐 전문의에게 보낼 예정이다.                                                                 \n",
      "------------------------------------------------------------------------------------------------------------------------------------------------------\n",
      "PRED: 지미는 #Person1# 에게 3시 30분에 헬스장에 가자고 제안한다. 그들은 금요일에 다리를 할 수 있도록 두 날을 바꾸기로 한다.\n",
      "GOLD: #Person1# 은 지미에게 운동하러 가자고 제안하고 팔과 배를 운동하도록 설득한다.                                                                         \n",
      "------------------------------------------------------------------------------------------------------------------------------------------------------\n",
      "PRED: #Person1# 는 #Person2# 에게 건강에 해로운 음식을 먹는 것을 멈추라고 말하고, 요즘에는 더 건강한 음식을 먹기 시작했다고 말한다.\n",
      "GOLD: #Person1# 은 건강에 해로운 음식을 먹는 것을 멈추려는 계획을 세우고, #Person2# 는 자신의 건강한 레시피를 #Person1# 와 공유한다.                                                                 \n",
      "------------------------------------------------------------------------------------------------------------------------------------------------------\n",
      "New best model saved with average ROUGE: 0.110217\n",
      "\n",
      "Epoch 15/1000, Current Learning Rate: 0.000010\n"
     ]
    },
    {
     "name": "stderr",
     "output_type": "stream",
     "text": [
      "                                                                      \r"
     ]
    },
    {
     "name": "stdout",
     "output_type": "stream",
     "text": [
      "Train Loss: 0.338164, Valid Loss: 0.568192\n",
      "Rouge-1: 0.352387, Rouge-2: 0.110278, Rouge-l: 0.326556\n",
      "------------------------------------------------------------------------------------------------------------------------------------------------------\n",
      "PRED: #Person1# 는 #Person2# 에게 최근 숨쉬기가 힘들다고 말하고, 알레르기는 없지만 운동을 할 때 많이 나타난다고 말한다. #Person1# 은 폐 전문의에게 천식 검사를 받도록 요청한다.\n",
      "GOLD: #Person2# 는 숨쉬기에 어려움을 겪는다. 의사는 #Person1# 에게 이에 대해 묻고, #Person2# 를 폐 전문의에게 보낼 예정이다.                                                                 \n",
      "------------------------------------------------------------------------------------------------------------------------------------------------------\n",
      "PRED: 지미는 #Person1# 에게 운동하러 가자고 제안하지만, #Person2# 은 다리가 아프다고 거절한다. 그들은 금요일에 두 날을 바꾸기로 한다.\n",
      "GOLD: #Person1# 은 지미에게 운동하러 가자고 제안하고 팔과 배를 운동하도록 설득한다.                                                                         \n",
      "------------------------------------------------------------------------------------------------------------------------------------------------------\n",
      "PRED: #Person1# 는 #Person2# 에게 건강에 해로운 음식을 먹는 것을 멈추라고 말하고, 요즘에는 더 건강한 음식을 먹기 시작했다고 말한다.\n",
      "GOLD: #Person1# 은 건강에 해로운 음식을 먹는 것을 멈추려는 계획을 세우고, #Person2# 는 자신의 건강한 레시피를 #Person1# 와 공유한다.                                                                 \n",
      "------------------------------------------------------------------------------------------------------------------------------------------------------\n",
      "New best model saved with average ROUGE: 0.110278\n",
      "\n",
      "Epoch 16/1000, Current Learning Rate: 0.000010\n"
     ]
    },
    {
     "name": "stderr",
     "output_type": "stream",
     "text": [
      "                                                                      \r"
     ]
    },
    {
     "name": "stdout",
     "output_type": "stream",
     "text": [
      "Train Loss: 0.332245, Valid Loss: 0.559826\n",
      "Rouge-1: 0.354611, Rouge-2: 0.117013, Rouge-l: 0.330588\n",
      "------------------------------------------------------------------------------------------------------------------------------------------------------\n",
      "PRED: #Person2# 는 #Person1# 에게 최근 숨쉬기가 힘들다고 말하고, 알레르기는 없지만 운동을 할 때 많이 나타난다고 말한다. #Person2# 은 폐 전문의에게 천식 검사를 받도록 요청한다.\n",
      "GOLD: #Person2# 는 숨쉬기에 어려움을 겪는다. 의사는 #Person1# 에게 이에 대해 묻고, #Person2# 를 폐 전문의에게 보낼 예정이다.                                                                 \n",
      "------------------------------------------------------------------------------------------------------------------------------------------------------\n",
      "PRED: 지미는 #Person1# 에게 3시 30분에 헬스장에 가자고 제안한다. #Person2# 은 금요일에 다리를 할 수 있도록 두 날을 바꾸기로 한다.\n",
      "GOLD: #Person1# 은 지미에게 운동하러 가자고 제안하고 팔과 배를 운동하도록 설득한다.                                                                         \n",
      "------------------------------------------------------------------------------------------------------------------------------------------------------\n",
      "PRED: #Person1# 은 #Person2# 에게 건강에 해로운 음식을 먹는 것을 멈추라고 말한다. #Person1# 는 주로 과일, 채소, 그리고 닭고기를 먹는 편이다.\n",
      "GOLD: #Person1# 은 건강에 해로운 음식을 먹는 것을 멈추려는 계획을 세우고, #Person2# 는 자신의 건강한 레시피를 #Person1# 와 공유한다.                                                                 \n",
      "------------------------------------------------------------------------------------------------------------------------------------------------------\n",
      "New best model saved with average ROUGE: 0.117013\n",
      "\n",
      "Epoch 17/1000, Current Learning Rate: 0.000010\n"
     ]
    },
    {
     "name": "stderr",
     "output_type": "stream",
     "text": [
      "                                                                      \r"
     ]
    },
    {
     "name": "stdout",
     "output_type": "stream",
     "text": [
      "Train Loss: 0.326231, Valid Loss: 0.554018\n",
      "Rouge-1: 0.358385, Rouge-2: 0.120253, Rouge-l: 0.334477\n",
      "------------------------------------------------------------------------------------------------------------------------------------------------------\n",
      "PRED: #Person2# 는 #Person1# 에게 최근 숨쉬기가 힘들다고 말하고, 알레르기는 없지만 운동을 할 때 많이 나타난다고 말한다.\n",
      "GOLD: #Person2# 는 숨쉬기에 어려움을 겪는다. 의사는 #Person1# 에게 이에 대해 묻고, #Person2# 를 폐 전문의에게 보낼 예정이다.                                                                 \n",
      "------------------------------------------------------------------------------------------------------------------------------------------------------\n",
      "PRED: 지미는 #Person2# 에게 운동하러 가자고 제안한다. #Person1# 은 금요일에 다리를 할 수 있도록 두 날을 바꾸기로 한다.\n",
      "GOLD: #Person1# 은 지미에게 운동하러 가자고 제안하고 팔과 배를 운동하도록 설득한다.                                                                         \n",
      "------------------------------------------------------------------------------------------------------------------------------------------------------\n",
      "PRED: #Person1# 은 #Person2# 에게 건강에 해로운 음식을 먹는 것을 멈추라고 말한다. #Person1# 는 주로 과일, 채소, 그리고 닭고기를 먹는 편이다.\n",
      "GOLD: #Person1# 은 건강에 해로운 음식을 먹는 것을 멈추려는 계획을 세우고, #Person2# 는 자신의 건강한 레시피를 #Person1# 와 공유한다.                                                                 \n",
      "------------------------------------------------------------------------------------------------------------------------------------------------------\n",
      "New best model saved with average ROUGE: 0.120253\n",
      "\n",
      "Epoch 18/1000, Current Learning Rate: 0.000010\n"
     ]
    },
    {
     "name": "stderr",
     "output_type": "stream",
     "text": [
      "                                                                      \r"
     ]
    },
    {
     "name": "stdout",
     "output_type": "stream",
     "text": [
      "Train Loss: 0.320224, Valid Loss: 0.549378\n",
      "Rouge-1: 0.362238, Rouge-2: 0.123465, Rouge-l: 0.338522\n",
      "------------------------------------------------------------------------------------------------------------------------------------------------------\n",
      "PRED: #Person1# 은 #Person2# 에게 최근 숨쉬기가 힘들다고 말하고, 알레르기가 있는지 묻습니다. #Person1# 는 폐 전문의에게 천식에 대한 검사를 받도록 할 것입니다.\n",
      "GOLD: #Person2# 는 숨쉬기에 어려움을 겪는다. 의사는 #Person1# 에게 이에 대해 묻고, #Person2# 를 폐 전문의에게 보낼 예정이다.                                                                 \n",
      "------------------------------------------------------------------------------------------------------------------------------------------------------\n",
      "PRED: 지미는 #Person2# 에게 운동하러 가자고 제안하지만, #Person1# 은 주간 스케줄을 따르고 있어 거절당한다.\n",
      "GOLD: #Person1# 은 지미에게 운동하러 가자고 제안하고 팔과 배를 운동하도록 설득한다.                                                                         \n",
      "------------------------------------------------------------------------------------------------------------------------------------------------------\n",
      "PRED: #Person1# 은 건강에 해로운 음식을 먹는 것을 멈추어야 한다고 #Person2# 에게 말한다. #Person1# 는 주로 과일, 채소, 그리고 닭고기를 먹는 편이다.\n",
      "GOLD: #Person1# 은 건강에 해로운 음식을 먹는 것을 멈추려는 계획을 세우고, #Person2# 는 자신의 건강한 레시피를 #Person1# 와 공유한다.                                                                 \n",
      "------------------------------------------------------------------------------------------------------------------------------------------------------\n",
      "New best model saved with average ROUGE: 0.123465\n",
      "\n",
      "Epoch 19/1000, Current Learning Rate: 0.000010\n"
     ]
    },
    {
     "name": "stderr",
     "output_type": "stream",
     "text": [
      "                                                                      \r"
     ]
    },
    {
     "name": "stdout",
     "output_type": "stream",
     "text": [
      "Train Loss: 0.315198, Valid Loss: 0.548141\n",
      "Rouge-1: 0.355757, Rouge-2: 0.120654, Rouge-l: 0.332735\n",
      "------------------------------------------------------------------------------------------------------------------------------------------------------\n",
      "PRED: #Person1# 은 숨쉬기가 힘들다고 말합니다. #Person2# 는 알레르기가 없고 운동을 할 때 많이 나타나기 때문에 폐 전문의에게 천식 검사를 받도록 요청합니다.\n",
      "GOLD: #Person2# 는 숨쉬기에 어려움을 겪는다. 의사는 #Person1# 에게 이에 대해 묻고, #Person2# 를 폐 전문의에게 보낼 예정이다.                                                                 \n",
      "------------------------------------------------------------------------------------------------------------------------------------------------------\n",
      "PRED: 지미는 #Person2# 에게 운동하러 가자고 제안하지만, #Person1# 은 주간 스케줄을 따르고 있어 거절당한다. 그들은 금요일에 두 날을 바꾸기로 한다.\n",
      "GOLD: #Person1# 은 지미에게 운동하러 가자고 제안하고 팔과 배를 운동하도록 설득한다.                                                                         \n",
      "------------------------------------------------------------------------------------------------------------------------------------------------------\n",
      "PRED: #Person2# 는 #Person1# 에게 건강에 해로운 음식을 먹는 것을 멈추고 과일, 채소, 그리고 닭고기를 먹는다고 말한다.\n",
      "GOLD: #Person1# 은 건강에 해로운 음식을 먹는 것을 멈추려는 계획을 세우고, #Person2# 는 자신의 건강한 레시피를 #Person1# 와 공유한다.                                                                 \n",
      "------------------------------------------------------------------------------------------------------------------------------------------------------\n",
      "Not improve. Early stopping counter: 1/5\n",
      "\n",
      "Epoch 20/1000, Current Learning Rate: 0.000010\n"
     ]
    },
    {
     "name": "stderr",
     "output_type": "stream",
     "text": [
      "                                                                      \r"
     ]
    },
    {
     "name": "stdout",
     "output_type": "stream",
     "text": [
      "Train Loss: 0.310718, Valid Loss: 0.544468\n",
      "Rouge-1: 0.352837, Rouge-2: 0.116436, Rouge-l: 0.329607\n",
      "------------------------------------------------------------------------------------------------------------------------------------------------------\n",
      "PRED: #Person2# 는 #Person1# 에게 최근 숨쉬기가 힘들다고 말하고, 알레르기는 없지만 운동을 할 때 많이 나타난다고 말한다.\n",
      "GOLD: #Person2# 는 숨쉬기에 어려움을 겪는다. 의사는 #Person1# 에게 이에 대해 묻고, #Person2# 를 폐 전문의에게 보낼 예정이다.                                                                 \n",
      "------------------------------------------------------------------------------------------------------------------------------------------------------\n",
      "PRED: 지미는 #Person1# 에게 운동하러 가자고 제안하지만, #Person2# 는 주간 스케줄을 따르고 있어 거절한다. 그들은 금요일에 두 날을 바꾸기로 한다.\n",
      "GOLD: #Person1# 은 지미에게 운동하러 가자고 제안하고 팔과 배를 운동하도록 설득한다.                                                                         \n",
      "------------------------------------------------------------------------------------------------------------------------------------------------------\n",
      "PRED: #Person2# 는 #Person1# 에게 건강에 해로운 음식을 먹는 것을 멈출 것을 제안한다. 그들은 주로 과일, 채소, 그리고 닭고기를 먹는 편이다.\n",
      "GOLD: #Person1# 은 건강에 해로운 음식을 먹는 것을 멈추려는 계획을 세우고, #Person2# 는 자신의 건강한 레시피를 #Person1# 와 공유한다.                                                                 \n",
      "------------------------------------------------------------------------------------------------------------------------------------------------------\n",
      "Not improve. Early stopping counter: 2/5\n",
      "\n",
      "Epoch 21/1000, Current Learning Rate: 0.000010\n"
     ]
    },
    {
     "name": "stderr",
     "output_type": "stream",
     "text": [
      "                                                                      \r"
     ]
    },
    {
     "name": "stdout",
     "output_type": "stream",
     "text": [
      "Train Loss: 0.305766, Valid Loss: 0.541701\n",
      "Rouge-1: 0.358734, Rouge-2: 0.123110, Rouge-l: 0.335494\n",
      "------------------------------------------------------------------------------------------------------------------------------------------------------\n",
      "PRED: #Person2# 는 #Person1# 에게 최근 숨쉬기가 힘들다고 말하고, 알레르기는 없지만 운동을 할 때 많이 나타난다고 말합니다.\n",
      "GOLD: #Person2# 는 숨쉬기에 어려움을 겪는다. 의사는 #Person1# 에게 이에 대해 묻고, #Person2# 를 폐 전문의에게 보낼 예정이다.                                                                 \n",
      "------------------------------------------------------------------------------------------------------------------------------------------------------\n",
      "PRED: 지미는 #Person2# 에게 운동하러 가자고 제안하지만, #Person1# 은 주간 스케줄을 따르고 있어 거절한다. 그들은 금요일에 두 날을 바꾸기로 한다.\n",
      "GOLD: #Person1# 은 지미에게 운동하러 가자고 제안하고 팔과 배를 운동하도록 설득한다.                                                                         \n",
      "------------------------------------------------------------------------------------------------------------------------------------------------------\n",
      "PRED: #Person2# 는 #Person1# 에게 건강에 해로운 음식을 먹는 것을 멈추라고 말하고, 최근에는 더 건강한 음식을 먹기 시작했다고 말한다.\n",
      "GOLD: #Person1# 은 건강에 해로운 음식을 먹는 것을 멈추려는 계획을 세우고, #Person2# 는 자신의 건강한 레시피를 #Person1# 와 공유한다.                                                                 \n",
      "------------------------------------------------------------------------------------------------------------------------------------------------------\n",
      "Not improve. Early stopping counter: 3/5\n",
      "\n",
      "Epoch 22/1000, Current Learning Rate: 0.000010\n"
     ]
    },
    {
     "name": "stderr",
     "output_type": "stream",
     "text": [
      "                                                                      \r"
     ]
    },
    {
     "name": "stdout",
     "output_type": "stream",
     "text": [
      "Train Loss: 0.301898, Valid Loss: 0.540158\n",
      "Rouge-1: 0.359750, Rouge-2: 0.124488, Rouge-l: 0.335978\n",
      "------------------------------------------------------------------------------------------------------------------------------------------------------\n",
      "PRED: #Person1# 은 숨쉬기가 힘들다고 말합니다. #Person2# 는 알레르기가 없고 운동을 할 때 많이 나타나므로 폐 전문의에게 천식 검사를 받도록 요청할 것입니다.\n",
      "GOLD: #Person2# 는 숨쉬기에 어려움을 겪는다. 의사는 #Person1# 에게 이에 대해 묻고, #Person2# 를 폐 전문의에게 보낼 예정이다.                                                                 \n",
      "------------------------------------------------------------------------------------------------------------------------------------------------------\n",
      "PRED: 지미는 #Person2# 에게 운동하러 가자고 제안하지만, #Person1# 은 주간 스케줄을 따르고 있어 거절한다. 그들은 금요일에 두 날을 바꾸기로 한다.\n",
      "GOLD: #Person1# 은 지미에게 운동하러 가자고 제안하고 팔과 배를 운동하도록 설득한다.                                                                         \n",
      "------------------------------------------------------------------------------------------------------------------------------------------------------\n",
      "PRED: #Person2# 는 #Person1# 에게 건강에 해로운 음식을 먹는 것을 멈추라고 말하고, 최근에는 더 건강한 음식을 먹기 시작했다고 말한다.\n",
      "GOLD: #Person1# 은 건강에 해로운 음식을 먹는 것을 멈추려는 계획을 세우고, #Person2# 는 자신의 건강한 레시피를 #Person1# 와 공유한다.                                                                 \n",
      "------------------------------------------------------------------------------------------------------------------------------------------------------\n",
      "New best model saved with average ROUGE: 0.124488\n",
      "\n",
      "Epoch 23/1000, Current Learning Rate: 0.000010\n"
     ]
    },
    {
     "name": "stderr",
     "output_type": "stream",
     "text": [
      "                                                                      \r"
     ]
    },
    {
     "name": "stdout",
     "output_type": "stream",
     "text": [
      "Train Loss: 0.298110, Valid Loss: 0.537666\n",
      "Rouge-1: 0.359361, Rouge-2: 0.123455, Rouge-l: 0.336605\n",
      "------------------------------------------------------------------------------------------------------------------------------------------------------\n",
      "PRED: #Person1# 은 숨쉬기가 힘들다고 말합니다. #Person2# 는 알레르기가 없고 운동을 할 때 많이 나타나기 때문에 폐 전문의에게 천식 검사를 받도록 요청할 것입니다.\n",
      "GOLD: #Person2# 는 숨쉬기에 어려움을 겪는다. 의사는 #Person1# 에게 이에 대해 묻고, #Person2# 를 폐 전문의에게 보낼 예정이다.                                                                 \n",
      "------------------------------------------------------------------------------------------------------------------------------------------------------\n",
      "PRED: 지미는 #Person1# 에게 3시 30분에 운동하자고 제안하지만, #Person2# 는 다리가 아프다고 말한다. 그들은 금요일에 다리를 하기로 결정한다.\n",
      "GOLD: #Person1# 은 지미에게 운동하러 가자고 제안하고 팔과 배를 운동하도록 설득한다.                                                                         \n",
      "------------------------------------------------------------------------------------------------------------------------------------------------------\n",
      "PRED: #Person2# 는 #Person1# 에게 건강에 해로운 음식을 먹는 것을 멈추고 과일, 채소, 그리고 닭고기를 먹는다고 말한다.\n",
      "GOLD: #Person1# 은 건강에 해로운 음식을 먹는 것을 멈추려는 계획을 세우고, #Person2# 는 자신의 건강한 레시피를 #Person1# 와 공유한다.                                                                 \n",
      "------------------------------------------------------------------------------------------------------------------------------------------------------\n",
      "Not improve. Early stopping counter: 1/5\n",
      "\n",
      "Epoch 24/1000, Current Learning Rate: 0.000010\n"
     ]
    },
    {
     "name": "stderr",
     "output_type": "stream",
     "text": [
      "                                                                      \r"
     ]
    },
    {
     "name": "stdout",
     "output_type": "stream",
     "text": [
      "Train Loss: 0.294018, Valid Loss: 0.536370\n",
      "Rouge-1: 0.360788, Rouge-2: 0.124029, Rouge-l: 0.337076\n",
      "------------------------------------------------------------------------------------------------------------------------------------------------------\n",
      "PRED: #Person1# 은 숨쉬기가 힘들다고 말합니다. #Person2# 는 알레르기가 없고 운동을 할 때 많이 나타나므로 폐 전문의에게 천식 검사를 받도록 요청합니다.\n",
      "GOLD: #Person2# 는 숨쉬기에 어려움을 겪는다. 의사는 #Person1# 에게 이에 대해 묻고, #Person2# 를 폐 전문의에게 보낼 예정이다.                                                                 \n",
      "------------------------------------------------------------------------------------------------------------------------------------------------------\n",
      "PRED: 지미는 #Person1# 에게 3시 30분에 운동하자고 제안하지만, #Person2# 는 다리가 아프다고 말한다. 그들은 금요일에 다리를 하기로 결정한다.\n",
      "GOLD: #Person1# 은 지미에게 운동하러 가자고 제안하고 팔과 배를 운동하도록 설득한다.                                                                         \n",
      "------------------------------------------------------------------------------------------------------------------------------------------------------\n",
      "PRED: #Person2# 는 #Person1# 에게 건강에 해로운 음식을 먹는 것을 멈추고 과일, 채소, 닭고기를 먹는다고 말한다.\n",
      "GOLD: #Person1# 은 건강에 해로운 음식을 먹는 것을 멈추려는 계획을 세우고, #Person2# 는 자신의 건강한 레시피를 #Person1# 와 공유한다.                                                                 \n",
      "------------------------------------------------------------------------------------------------------------------------------------------------------\n",
      "Not improve. Early stopping counter: 2/5\n",
      "\n",
      "Epoch 25/1000, Current Learning Rate: 0.000009\n"
     ]
    },
    {
     "name": "stderr",
     "output_type": "stream",
     "text": [
      "                                                                      \r"
     ]
    },
    {
     "name": "stdout",
     "output_type": "stream",
     "text": [
      "Train Loss: 0.290428, Valid Loss: 0.536191\n",
      "Rouge-1: 0.359830, Rouge-2: 0.125407, Rouge-l: 0.338087\n",
      "------------------------------------------------------------------------------------------------------------------------------------------------------\n",
      "PRED: #Person1# 은 숨쉬기가 힘들다고 말합니다. #Person2# 는 알레르기가 없고 운동을 할 때 많이 나타나기 때문에 폐 전문의에게 천식 검사를 받도록 요청할 것입니다.\n",
      "GOLD: #Person2# 는 숨쉬기에 어려움을 겪는다. 의사는 #Person1# 에게 이에 대해 묻고, #Person2# 를 폐 전문의에게 보낼 예정이다.                                                                 \n",
      "------------------------------------------------------------------------------------------------------------------------------------------------------\n",
      "PRED: 지미는 #Person1# 에게 운동하러 가자고 제안한다. 그들은 금요일에 다리를 하기로 결정하고 3시 30분에 만나기로 한다.\n",
      "GOLD: #Person1# 은 지미에게 운동하러 가자고 제안하고 팔과 배를 운동하도록 설득한다.                                                                         \n",
      "------------------------------------------------------------------------------------------------------------------------------------------------------\n",
      "PRED: #Person2# 는 #Person1# 에게 건강에 해로운 음식을 먹는 것을 멈추고 과일, 채소, 그리고 닭고기를 먹는다고 말한다.\n",
      "GOLD: #Person1# 은 건강에 해로운 음식을 먹는 것을 멈추려는 계획을 세우고, #Person2# 는 자신의 건강한 레시피를 #Person1# 와 공유한다.                                                                 \n",
      "------------------------------------------------------------------------------------------------------------------------------------------------------\n",
      "New best model saved with average ROUGE: 0.125407\n",
      "\n",
      "Epoch 26/1000, Current Learning Rate: 0.000009\n"
     ]
    },
    {
     "name": "stderr",
     "output_type": "stream",
     "text": [
      "                                                                      \r"
     ]
    },
    {
     "name": "stdout",
     "output_type": "stream",
     "text": [
      "Train Loss: 0.286939, Valid Loss: 0.535050\n",
      "Rouge-1: 0.358689, Rouge-2: 0.123064, Rouge-l: 0.337557\n",
      "------------------------------------------------------------------------------------------------------------------------------------------------------\n",
      "PRED: #Person1# 은 숨쉬기가 힘들다고 말합니다. #Person2# 는 알레르기가 없고 운동을 할 때 많이 나타나므로 폐 전문의에게 천식 검사를 받도록 요청할 것입니다.\n",
      "GOLD: #Person2# 는 숨쉬기에 어려움을 겪는다. 의사는 #Person1# 에게 이에 대해 묻고, #Person2# 를 폐 전문의에게 보낼 예정이다.                                                                 \n",
      "------------------------------------------------------------------------------------------------------------------------------------------------------\n",
      "PRED: 지미는 #Person1# 에게 운동하러 가자고 제안한다. 그들은 금요일에 다리를 하기로 결정하고, 3시 30분에 만나기로 한다.\n",
      "GOLD: #Person1# 은 지미에게 운동하러 가자고 제안하고 팔과 배를 운동하도록 설득한다.                                                                         \n",
      "------------------------------------------------------------------------------------------------------------------------------------------------------\n",
      "PRED: #Person2# 는 #Person1# 에게 건강에 해로운 음식을 먹는 것을 멈추고 과일, 채소, 그리고 닭고기를 먹는다고 말한다.\n",
      "GOLD: #Person1# 은 건강에 해로운 음식을 먹는 것을 멈추려는 계획을 세우고, #Person2# 는 자신의 건강한 레시피를 #Person1# 와 공유한다.                                                                 \n",
      "------------------------------------------------------------------------------------------------------------------------------------------------------\n",
      "Not improve. Early stopping counter: 1/5\n",
      "\n",
      "Epoch 27/1000, Current Learning Rate: 0.000009\n"
     ]
    },
    {
     "name": "stderr",
     "output_type": "stream",
     "text": [
      "                                                                      \r"
     ]
    },
    {
     "name": "stdout",
     "output_type": "stream",
     "text": [
      "Train Loss: 0.283592, Valid Loss: 0.533987\n",
      "Rouge-1: 0.361983, Rouge-2: 0.124081, Rouge-l: 0.339472\n",
      "------------------------------------------------------------------------------------------------------------------------------------------------------\n",
      "PRED: #Person2# 는 #Person1# 에게 숨쉬기가 힘들다고 말하고, 알레르기는 없지만 운동을 할 때 많이 나타난다고 말한다.\n",
      "GOLD: #Person2# 는 숨쉬기에 어려움을 겪는다. 의사는 #Person1# 에게 이에 대해 묻고, #Person2# 를 폐 전문의에게 보낼 예정이다.                                                                 \n",
      "------------------------------------------------------------------------------------------------------------------------------------------------------\n",
      "PRED: 지미는 #Person1# 에게 운동하러 가자고 제안한다. 그들은 금요일에 다리를 하기로 결정하고 3시 30분에 만나기로 한다.\n",
      "GOLD: #Person1# 은 지미에게 운동하러 가자고 제안하고 팔과 배를 운동하도록 설득한다.                                                                         \n",
      "------------------------------------------------------------------------------------------------------------------------------------------------------\n",
      "PRED: #Person1# 은 #Person2# 에게 건강에 해로운 음식을 먹는 것을 멈추라고 말한다. #Person1# 는 주로 과일, 채소, 그리고 닭고기를 먹는 편이다.\n",
      "GOLD: #Person1# 은 건강에 해로운 음식을 먹는 것을 멈추려는 계획을 세우고, #Person2# 는 자신의 건강한 레시피를 #Person1# 와 공유한다.                                                                 \n",
      "------------------------------------------------------------------------------------------------------------------------------------------------------\n",
      "Not improve. Early stopping counter: 2/5\n",
      "\n",
      "Epoch 28/1000, Current Learning Rate: 0.000009\n"
     ]
    },
    {
     "name": "stderr",
     "output_type": "stream",
     "text": [
      "                                                                      \r"
     ]
    },
    {
     "name": "stdout",
     "output_type": "stream",
     "text": [
      "Train Loss: 0.280079, Valid Loss: 0.532429\n",
      "Rouge-1: 0.361069, Rouge-2: 0.125375, Rouge-l: 0.339771\n",
      "------------------------------------------------------------------------------------------------------------------------------------------------------\n",
      "PRED: #Person1# 은 숨쉬기가 힘들다고 말합니다. #Person2# 는 알레르기가 없고 운동을 할 때 많이 나타납니다. 의사는 폐 전문의에게 천식 검사를 받게 할 것입니다.\n",
      "GOLD: #Person2# 는 숨쉬기에 어려움을 겪는다. 의사는 #Person1# 에게 이에 대해 묻고, #Person2# 를 폐 전문의에게 보낼 예정이다.                                                                 \n",
      "------------------------------------------------------------------------------------------------------------------------------------------------------\n",
      "PRED: 지미는 #Person1# 에게 3시 30분에 운동하러 가자고 제안하지만, #Person2# 는 다리가 아프다고 말한다. 그들은 금요일에 두 날을 바꾸기로 한다.\n",
      "GOLD: #Person1# 은 지미에게 운동하러 가자고 제안하고 팔과 배를 운동하도록 설득한다.                                                                         \n",
      "------------------------------------------------------------------------------------------------------------------------------------------------------\n",
      "PRED: #Person2# 는 #Person1# 에게 건강에 해로운 음식을 먹는 것을 멈추고 과일, 채소, 그리고 닭고기를 먹는다고 말한다.\n",
      "GOLD: #Person1# 은 건강에 해로운 음식을 먹는 것을 멈추려는 계획을 세우고, #Person2# 는 자신의 건강한 레시피를 #Person1# 와 공유한다.                                                                 \n",
      "------------------------------------------------------------------------------------------------------------------------------------------------------\n",
      "Not improve. Early stopping counter: 3/5\n",
      "\n",
      "Epoch 29/1000, Current Learning Rate: 0.000009\n"
     ]
    },
    {
     "name": "stderr",
     "output_type": "stream",
     "text": [
      "                                                                      \r"
     ]
    },
    {
     "name": "stdout",
     "output_type": "stream",
     "text": [
      "Train Loss: 0.277476, Valid Loss: 0.530722\n",
      "Rouge-1: 0.363003, Rouge-2: 0.126727, Rouge-l: 0.341065\n",
      "------------------------------------------------------------------------------------------------------------------------------------------------------\n",
      "PRED: #Person2# 는 #Person1# 에게 최근 숨쉬기가 힘들다고 말하고, 알레르기는 없지만 운동을 할 때 많이 나타난다고 말합니다.\n",
      "GOLD: #Person2# 는 숨쉬기에 어려움을 겪는다. 의사는 #Person1# 에게 이에 대해 묻고, #Person2# 를 폐 전문의에게 보낼 예정이다.                                                                 \n",
      "------------------------------------------------------------------------------------------------------------------------------------------------------\n",
      "PRED: 지미는 #Person1# 에게 3시 30분에 운동하자고 제안하지만, #Person2# 는 다리가 아프다고 말한다. 그들은 금요일에 두 날을 바꾸기로 한다.\n",
      "GOLD: #Person1# 은 지미에게 운동하러 가자고 제안하고 팔과 배를 운동하도록 설득한다.                                                                         \n",
      "------------------------------------------------------------------------------------------------------------------------------------------------------\n",
      "PRED: #Person2# 는 #Person1# 에게 건강에 해로운 음식을 먹는 것을 멈추고 과일, 채소, 닭고기를 먹는다고 말한다.\n",
      "GOLD: #Person1# 은 건강에 해로운 음식을 먹는 것을 멈추려는 계획을 세우고, #Person2# 는 자신의 건강한 레시피를 #Person1# 와 공유한다.                                                                 \n",
      "------------------------------------------------------------------------------------------------------------------------------------------------------\n",
      "New best model saved with average ROUGE: 0.126727\n",
      "\n",
      "Epoch 30/1000, Current Learning Rate: 0.000009\n"
     ]
    },
    {
     "name": "stderr",
     "output_type": "stream",
     "text": [
      "                                                                      \r"
     ]
    },
    {
     "name": "stdout",
     "output_type": "stream",
     "text": [
      "Train Loss: 0.274756, Valid Loss: 0.532493\n",
      "Rouge-1: 0.360490, Rouge-2: 0.124021, Rouge-l: 0.339272\n",
      "------------------------------------------------------------------------------------------------------------------------------------------------------\n",
      "PRED: #Person1# 은 숨쉬기가 힘들다고 말합니다. #Person2# 는 알레르기가 없고 운동을 할 때 많이 나타난다고 합니다. 의사는 #Person1# 을 폐 전문의에게 보내 천식에 대한 검사를 받게 할 것입니다.\n",
      "GOLD: #Person2# 는 숨쉬기에 어려움을 겪는다. 의사는 #Person1# 에게 이에 대해 묻고, #Person2# 를 폐 전문의에게 보낼 예정이다.                                                                 \n",
      "------------------------------------------------------------------------------------------------------------------------------------------------------\n",
      "PRED: 지미는 #Person1# 에게 운동하러 가자고 제안하지만, #Person2# 는 다리가 아프다고 말한다. 그들은 금요일에 다리를 하기로 결정한다.\n",
      "GOLD: #Person1# 은 지미에게 운동하러 가자고 제안하고 팔과 배를 운동하도록 설득한다.                                                                         \n",
      "------------------------------------------------------------------------------------------------------------------------------------------------------\n",
      "PRED: #Person2# 는 #Person1# 에게 건강에 해로운 음식을 먹는 것을 멈추고 과일, 채소, 닭고기를 먹는다고 말한다.\n",
      "GOLD: #Person1# 은 건강에 해로운 음식을 먹는 것을 멈추려는 계획을 세우고, #Person2# 는 자신의 건강한 레시피를 #Person1# 와 공유한다.                                                                 \n",
      "------------------------------------------------------------------------------------------------------------------------------------------------------\n",
      "Not improve. Early stopping counter: 1/5\n",
      "\n",
      "Epoch 31/1000, Current Learning Rate: 0.000009\n"
     ]
    },
    {
     "name": "stderr",
     "output_type": "stream",
     "text": [
      "                                                                      \r"
     ]
    },
    {
     "name": "stdout",
     "output_type": "stream",
     "text": [
      "Train Loss: 0.271659, Valid Loss: 0.531183\n",
      "Rouge-1: 0.363121, Rouge-2: 0.125410, Rouge-l: 0.341263\n",
      "------------------------------------------------------------------------------------------------------------------------------------------------------\n",
      "PRED: #Person1# 은 숨쉬기가 힘들다고 말합니다. #Person2# 는 알레르기가 없고 운동을 할 때 많이 나타난다고 합니다. 의사는 #Person1# 을 폐 전문의에게 보내 천식에 대한 검사를 받게 할 것입니다.\n",
      "GOLD: #Person2# 는 숨쉬기에 어려움을 겪는다. 의사는 #Person1# 에게 이에 대해 묻고, #Person2# 를 폐 전문의에게 보낼 예정이다.                                                                 \n",
      "------------------------------------------------------------------------------------------------------------------------------------------------------\n",
      "PRED: 지미는 #Person1# 에게 운동하러 가자고 제안하지만, #Person2# 는 다리가 아프다고 말한다. 그들은 금요일에 다리를 하기로 결정한다.\n",
      "GOLD: #Person1# 은 지미에게 운동하러 가자고 제안하고 팔과 배를 운동하도록 설득한다.                                                                         \n",
      "------------------------------------------------------------------------------------------------------------------------------------------------------\n",
      "PRED: #Person2# 는 #Person1# 에게 건강에 해로운 음식을 먹는 것을 멈추고 과일, 채소, 닭고기를 먹는다고 말한다.\n",
      "GOLD: #Person1# 은 건강에 해로운 음식을 먹는 것을 멈추려는 계획을 세우고, #Person2# 는 자신의 건강한 레시피를 #Person1# 와 공유한다.                                                                 \n",
      "------------------------------------------------------------------------------------------------------------------------------------------------------\n",
      "Not improve. Early stopping counter: 2/5\n",
      "\n",
      "Epoch 32/1000, Current Learning Rate: 0.000009\n"
     ]
    },
    {
     "name": "stderr",
     "output_type": "stream",
     "text": [
      "                                                                      \r"
     ]
    },
    {
     "name": "stdout",
     "output_type": "stream",
     "text": [
      "Train Loss: 0.268923, Valid Loss: 0.532500\n",
      "Rouge-1: 0.364237, Rouge-2: 0.125024, Rouge-l: 0.341593\n",
      "------------------------------------------------------------------------------------------------------------------------------------------------------\n",
      "PRED: #Person1# 은 숨쉬기가 힘들다고 말합니다. #Person2# 는 알레르기가 없고 운동을 할 때 많이 나타난다고 합니다. 의사는 #Person1# 을 천식에 대한 검사를 받게 할 것입니다.\n",
      "GOLD: #Person2# 는 숨쉬기에 어려움을 겪는다. 의사는 #Person1# 에게 이에 대해 묻고, #Person2# 를 폐 전문의에게 보낼 예정이다.                                                                 \n",
      "------------------------------------------------------------------------------------------------------------------------------------------------------\n",
      "PRED: 지미는 #Person1# 에게 3시 30분에 운동하자고 제안하지만, #Person2# 는 다리가 아프다고 말한다. 그들은 금요일에 다리를 하기로 결정한다.\n",
      "GOLD: #Person1# 은 지미에게 운동하러 가자고 제안하고 팔과 배를 운동하도록 설득한다.                                                                         \n",
      "------------------------------------------------------------------------------------------------------------------------------------------------------\n",
      "PRED: #Person2# 는 #Person1# 에게 건강에 해로운 음식을 먹는 것을 멈추고 과일, 채소, 닭고기를 먹는다고 말한다.\n",
      "GOLD: #Person1# 은 건강에 해로운 음식을 먹는 것을 멈추려는 계획을 세우고, #Person2# 는 자신의 건강한 레시피를 #Person1# 와 공유한다.                                                                 \n",
      "------------------------------------------------------------------------------------------------------------------------------------------------------\n",
      "Not improve. Early stopping counter: 3/5\n",
      "\n",
      "Epoch 33/1000, Current Learning Rate: 0.000009\n"
     ]
    },
    {
     "name": "stderr",
     "output_type": "stream",
     "text": [
      "                                                                      \r"
     ]
    },
    {
     "name": "stdout",
     "output_type": "stream",
     "text": [
      "Train Loss: 0.266338, Valid Loss: 0.530589\n",
      "Rouge-1: 0.365088, Rouge-2: 0.125878, Rouge-l: 0.344162\n",
      "------------------------------------------------------------------------------------------------------------------------------------------------------\n",
      "PRED: #Person1# 은 숨쉬기가 힘들다고 말합니다. #Person2# 는 알레르기가 없지만 운동을 할 때 많이 나타납니다. 의사는 폐 전문의에게 천식 검사를 받게 할 것입니다.\n",
      "GOLD: #Person2# 는 숨쉬기에 어려움을 겪는다. 의사는 #Person1# 에게 이에 대해 묻고, #Person2# 를 폐 전문의에게 보낼 예정이다.                                                                 \n",
      "------------------------------------------------------------------------------------------------------------------------------------------------------\n",
      "PRED: 지미는 #Person1# 에게 3시 30분에 운동하자고 제안한다. 그들은 금요일에 다리를 할 수 있도록 두 날을 바꾸기로 한다.\n",
      "GOLD: #Person1# 은 지미에게 운동하러 가자고 제안하고 팔과 배를 운동하도록 설득한다.                                                                         \n",
      "------------------------------------------------------------------------------------------------------------------------------------------------------\n",
      "PRED: #Person2# 는 #Person1# 에게 건강에 해로운 음식을 먹는 것을 멈추고 과일, 채소, 닭고기를 먹는다고 말한다.\n",
      "GOLD: #Person1# 은 건강에 해로운 음식을 먹는 것을 멈추려는 계획을 세우고, #Person2# 는 자신의 건강한 레시피를 #Person1# 와 공유한다.                                                                 \n",
      "------------------------------------------------------------------------------------------------------------------------------------------------------\n",
      "Not improve. Early stopping counter: 4/5\n",
      "\n",
      "Epoch 34/1000, Current Learning Rate: 0.000009\n"
     ]
    },
    {
     "name": "stderr",
     "output_type": "stream",
     "text": [
      "                                                                      \r"
     ]
    },
    {
     "name": "stdout",
     "output_type": "stream",
     "text": [
      "Train Loss: 0.263811, Valid Loss: 0.531498\n",
      "Rouge-1: 0.364906, Rouge-2: 0.126435, Rouge-l: 0.342587\n",
      "------------------------------------------------------------------------------------------------------------------------------------------------------\n",
      "PRED: #Person1# 은 최근 숨쉬기가 힘들다고 말합니다. #Person2# 는 알레르기가 없지만 운동을 할 때 많이 나타난다고 합니다.\n",
      "GOLD: #Person2# 는 숨쉬기에 어려움을 겪는다. 의사는 #Person1# 에게 이에 대해 묻고, #Person2# 를 폐 전문의에게 보낼 예정이다.                                                                 \n",
      "------------------------------------------------------------------------------------------------------------------------------------------------------\n",
      "PRED: 지미는 #Person1# 에게 3시 30분에 운동하자고 제안하지만, #Person2# 는 다리가 아프다고 말한다. 그들은 금요일에 두 날을 바꾸기로 한다.\n",
      "GOLD: #Person1# 은 지미에게 운동하러 가자고 제안하고 팔과 배를 운동하도록 설득한다.                                                                         \n",
      "------------------------------------------------------------------------------------------------------------------------------------------------------\n",
      "PRED: #Person2# 는 #Person1# 에게 건강에 해로운 음식을 먹는 것을 멈추고 과일, 채소, 닭고기를 먹는다고 말한다.\n",
      "GOLD: #Person1# 은 건강에 해로운 음식을 먹는 것을 멈추려는 계획을 세우고, #Person2# 는 자신의 건강한 레시피를 #Person1# 와 공유한다.                                                                 \n",
      "------------------------------------------------------------------------------------------------------------------------------------------------------\n",
      "Not improve. Early stopping counter: 5/5\n",
      "Early stopping triggered.\n",
      "Training completed. Last model saved.\n"
     ]
    }
   ],
   "source": [
    "train_step = 0\n",
    "\n",
    "timestamp = datetime.now().strftime('%Y-%m-%d-%H-%M-%S')\n",
    "save_path = os.path.join(\"./T5_runs\", timestamp)\n",
    "\n",
    "weights_path = os.path.join(save_path, 'weights')\n",
    "logs_path = os.path.join(save_path, 'logs')\n",
    "os.makedirs(weights_path, exist_ok=True)\n",
    "os.makedirs(logs_path, exist_ok=True)\n",
    "\n",
    "best_rouge = 0\n",
    "early_stopping_counter = 0\n",
    "best_val_loss = float('inf')\n",
    "writer = SummaryWriter(log_dir=logs_path)\n",
    "scheduler = CosineAnnealingWarmUpRestarts(optimizer, T_0=T_0, T_mult=T_mult, eta_max=max_lr,  T_up=warmup_epochs, gamma=T_gamma)\n",
    "\n",
    "for epoch in range(1, epochs + 1):\n",
    "    current_lr = optimizer.param_groups[0]['lr']\n",
    "    print(f\"Epoch {epoch}/{epochs}, Current Learning Rate: {current_lr:.6f}\")\n",
    "    train_loss = train(epoch, model, device, train_loader, optimizer, writer, accumulation_steps)\n",
    "    val_loss, val_result, val_predictions, val_labels = validate(tokenizer, model, device, val_loader, writer, epoch)\n",
    "\n",
    "    # avg_rouge = (val_result['rouge-1'] + val_result['rouge-2'] + val_result['rouge-l']) / 3\n",
    "    print(f\"Train Loss: {train_loss:.6f}, Valid Loss: {val_loss:.6f}\")\n",
    "    print(f\"Rouge-1: {val_result['rouge-1']:.6f}, Rouge-2: {val_result['rouge-2']:.6f}, Rouge-l: {val_result['rouge-l']:.6f}\")\n",
    "\n",
    "    scheduler.step()\n",
    "    print('-'*150)\n",
    "    for i in range(3):\n",
    "        print(f\"PRED: {val_predictions[i].strip()}\")\n",
    "        print(f\"GOLD: {val_labels[i]}\")\n",
    "        print('-'*150)\n",
    "\n",
    "    # if avg_rouge > best_rouge:\n",
    "    if val_result['rouge-2'] > best_rouge:\n",
    "        # best_rouge = avg_rouge\n",
    "        best_rouge = val_result['rouge-2']\n",
    "        early_stopping_counter = 0 \n",
    "        torch.save(model.state_dict(), os.path.join(weights_path, 'best.pth'))\n",
    "        print(f\"New best model saved with average ROUGE: {best_rouge:.6f}\")\n",
    "\n",
    "    else:\n",
    "        early_stopping_counter += 1\n",
    "        print(f\"Not improve. Early stopping counter: {early_stopping_counter}/{patience}\")\n",
    "\n",
    "    if early_stopping_counter >= patience:\n",
    "        print(\"Early stopping triggered.\")\n",
    "        break\n",
    "\n",
    "    torch.save(model.state_dict(), os.path.join(weights_path, f'epoch-{epoch}.pth'))\n",
    "    print()\n",
    "\n",
    "writer.close()\n",
    "torch.save(model.state_dict(), os.path.join(weights_path, 'last.pth'))\n",
    "print(\"Training completed. Last model saved.\")"
   ]
  },
  {
   "cell_type": "code",
   "execution_count": null,
   "metadata": {},
   "outputs": [],
   "source": []
  },
  {
   "cell_type": "code",
   "execution_count": 15,
   "metadata": {},
   "outputs": [],
   "source": [
    "def predict(tokenizer, model, device, test_loader, fname):\n",
    "    model.eval()\n",
    "    summary = []\n",
    "    with torch.no_grad():\n",
    "        for input_ids in tqdm(test_loader):\n",
    "            input_ids = input_ids.to(device, dtype=torch.long)\n",
    "\n",
    "            pred_ids = model.generate(\n",
    "                input_ids=input_ids,\n",
    "                max_length=sum_max_len, \n",
    "                num_beams=4,\n",
    "                repetition_penalty=2.0, \n",
    "                length_penalty=1.0, \n",
    "                early_stopping=True,\n",
    "                no_repeat_ngram_size=2\n",
    "            )\n",
    "            for ids in pred_ids:\n",
    "                result = tokenizer.decode(ids)\n",
    "                summary.append(result)\n",
    "                \n",
    "    # remove_tokens = ['<usr>', f\"{tokenizer.unk_token}\", f\"{tokenizer.eos_token}\", f\"{tokenizer.pad_token}\"]\n",
    "    preprocessed_summary = summary.copy()\n",
    "    for token in remove_tokens:\n",
    "        preprocessed_summary = [sentence.replace(token,\" \") for sentence in preprocessed_summary]\n",
    "\n",
    "    output = pd.DataFrame(\n",
    "        {\n",
    "            \"fname\": fname,\n",
    "            \"summary\" : preprocessed_summary,\n",
    "        }\n",
    "    )\n",
    "    return output"
   ]
  },
  {
   "cell_type": "code",
   "execution_count": 16,
   "metadata": {},
   "outputs": [
    {
     "name": "stderr",
     "output_type": "stream",
     "text": [
      "100%|██████████| 125/125 [00:48<00:00,  2.58it/s]\n"
     ]
    }
   ],
   "source": [
    "model.load_state_dict(torch.load(f'{save_path}/weights/best.pth'))\n",
    "output = predict(tokenizer, model, device, test_loader, test_df['fname'])\n",
    "output.to_csv(f\"{save_path}/prediction.csv\", index=False)"
   ]
  },
  {
   "cell_type": "code",
   "execution_count": null,
   "metadata": {},
   "outputs": [],
   "source": []
  }
 ],
 "metadata": {
  "kernelspec": {
   "display_name": "nlp-project",
   "language": "python",
   "name": "python3"
  },
  "language_info": {
   "codemirror_mode": {
    "name": "ipython",
    "version": 3
   },
   "file_extension": ".py",
   "mimetype": "text/x-python",
   "name": "python",
   "nbconvert_exporter": "python",
   "pygments_lexer": "ipython3",
   "version": "3.9.19"
  }
 },
 "nbformat": 4,
 "nbformat_minor": 2
}
