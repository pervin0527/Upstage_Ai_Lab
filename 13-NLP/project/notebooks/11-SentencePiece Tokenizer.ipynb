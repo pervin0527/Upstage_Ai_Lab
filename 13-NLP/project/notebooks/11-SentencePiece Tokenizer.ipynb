{
 "cells": [
  {
   "cell_type": "code",
   "execution_count": null,
   "metadata": {},
   "outputs": [],
   "source": [
    "import os\n",
    "import numpy as np\n",
    "import pandas as pd\n",
    "\n",
    "from typing import List\n",
    "from datasets import Dataset\n",
    "from transformers import AutoTokenizer, PreTrainedTokenizerFast, T5TokenizerFast"
   ]
  },
  {
   "cell_type": "code",
   "execution_count": null,
   "metadata": {},
   "outputs": [],
   "source": [
    "os.makedirs(\"./tokenizer/sentencepiece\", exist_ok=True)\n",
    "\n",
    "max_len = 512\n",
    "# model_id = \"psyche/KoT5-summarization\"\n",
    "model_id = \"philschmid/bart-large-cnn-samsum\"\n",
    "\n",
    "train_df = pd.read_csv(\"../dataset/en_train.csv\")\n",
    "valid_df = pd.read_csv(\"../dataset/en_dev.csv\")\n",
    "\n",
    "df = pd.concat([train_df, valid_df], ignore_index=True)"
   ]
  },
  {
   "cell_type": "code",
   "execution_count": null,
   "metadata": {},
   "outputs": [],
   "source": [
    "special_tokens = [\n",
    "    '#Person1#',\n",
    "    '#Person2#',\n",
    "    '#Person3#',\n",
    "    '#Person4#',\n",
    "    '#Person5#',\n",
    "    '#Person6#',\n",
    "    '#Person7#',\n",
    "    '#SSN#',\n",
    "    '#Email#',\n",
    "    '#Address#',\n",
    "    '#Reaction#',\n",
    "    '#CarNumber#',\n",
    "    '#Movietitle#',\n",
    "    '#DateOfBirth#',\n",
    "    '#CardNumber#',\n",
    "    '#PhoneNumber#',\n",
    "    '#PassportNumber#',\n",
    "    '<sep>'\n",
    "]\n",
    "\n",
    "extra_tokens = [f\"<extra_id_{i}>\" for i in range(500)]"
   ]
  },
  {
   "cell_type": "code",
   "execution_count": null,
   "metadata": {},
   "outputs": [],
   "source": [
    "def train_tokenizer(df: pd.DataFrame, vocab_size: int = 32000, model_prefix: str = \"t5_tokenizer\") -> T5TokenizerFast:\n",
    "    all_text = df['dialogue'].tolist() + df['summary'].tolist()\n",
    "    \n",
    "    tokenizer = T5TokenizerFast.from_pretrained(model_id, model_max_length=max_len)\n",
    "    tokenizer = tokenizer.train_new_from_iterator(all_text, vocab_size=vocab_size)\n",
    "    # tokenizer.add_special_tokens({\"additional_special_tokens\": special_tokens})\n",
    "    tokenizer.add_special_tokens({\"additional_special_tokens\": special_tokens + extra_tokens})\n",
    "    \n",
    "    return tokenizer\n",
    "\n",
    "def get_max_length(df: pd.DataFrame, tokenizer: T5TokenizerFast, percentile: int = 95) -> int:\n",
    "    dialogue_lengths = [len(tokenizer.encode(str(text))) for text in df['dialogue']]\n",
    "    summary_lengths = [len(tokenizer.encode(str(text))) for text in df['summary']]\n",
    "    all_lengths = dialogue_lengths + summary_lengths\n",
    "    return int(np.percentile(all_lengths, percentile))\n",
    "\n",
    "def tokenize_function(examples: dict, tokenizer: T5TokenizerFast, max_length: int) -> dict:\n",
    "    return tokenizer(\n",
    "        examples[\"dialogue\"],\n",
    "        examples[\"summary\"],\n",
    "        padding=\"max_length\",\n",
    "        truncation=True,\n",
    "        max_length=max_length\n",
    "    )"
   ]
  },
  {
   "cell_type": "code",
   "execution_count": null,
   "metadata": {},
   "outputs": [],
   "source": [
    "tokenizer = train_tokenizer(df)\n",
    "max_length = get_max_length(df, tokenizer, percentile=95)\n",
    "print(f\"Max length: {max_length}\")\n",
    "\n",
    "dataset = Dataset.from_pandas(df)\n",
    "tokenized_datasets = dataset.map(\n",
    "    lambda examples: tokenize_function(examples, tokenizer, max_length),\n",
    "    batched=True\n",
    ")\n",
    "\n",
    "tokenizer.save_pretrained(\"./tokenizer/sentencepiece\")"
   ]
  }
 ],
 "metadata": {
  "kernelspec": {
   "display_name": "base",
   "language": "python",
   "name": "python3"
  },
  "language_info": {
   "codemirror_mode": {
    "name": "ipython",
    "version": 3
   },
   "file_extension": ".py",
   "mimetype": "text/x-python",
   "name": "python",
   "nbconvert_exporter": "python",
   "pygments_lexer": "ipython3",
   "version": "3.9.19"
  }
 },
 "nbformat": 4,
 "nbformat_minor": 2
}
