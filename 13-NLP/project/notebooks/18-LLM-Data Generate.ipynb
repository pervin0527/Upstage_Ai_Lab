{
 "cells": [
  {
   "cell_type": "code",
   "execution_count": 1,
   "metadata": {},
   "outputs": [],
   "source": [
    "import pandas as pd\n",
    "from tqdm import tqdm\n",
    "from openai import OpenAI"
   ]
  },
  {
   "cell_type": "code",
   "execution_count": 3,
   "metadata": {},
   "outputs": [],
   "source": [
    "train_df = pd.read_csv(\"../dataset/cleaned_train.csv\")\n",
    "valid_df = pd.read_csv(\"../dataset/cleaned_dev.csv\")\n",
    "test_df = pd.read_csv(\"../dataset/test.csv\")\n",
    "sample_df = pd.read_csv(\"../dataset/top5_samples.csv\")"
   ]
  },
  {
   "cell_type": "code",
   "execution_count": 4,
   "metadata": {},
   "outputs": [],
   "source": [
    "# client = OpenAI(\n",
    "#     api_key=\"up_SFfhHAFGwxRBXTqXAw6epNiyQNWpj\",\n",
    "#     base_url=\"https://api.upstage.ai/v1/solar\"\n",
    "# )\n",
    "\n",
    "client = OpenAI(api_key='')"
   ]
  },
  {
   "cell_type": "code",
   "execution_count": 5,
   "metadata": {},
   "outputs": [],
   "source": [
    "few_shot_samples = sample_df.head(10)\n",
    "few_shot_prompt = \"\"\n",
    "for idx, row in few_shot_samples.iterrows():\n",
    "    summary = row['summary']\n",
    "    dialogue = row['dialogue']\n",
    "    few_shot_prompt += f\"Summary:\\n{summary}\\nDialogue:\\n{dialogue}\\n\\n\""
   ]
  },
  {
   "cell_type": "code",
   "execution_count": 9,
   "metadata": {},
   "outputs": [],
   "source": [
    "# 시스템 프롬프트 설정\n",
    "system_prompt1 = {\n",
    "    \"role\": \"system\",\n",
    "    \"content\": (\n",
    "        \"You are a helpful assistant for generating dialogues from summaries. \"\n",
    "        \"Make sure not to generate any sentences in English or sentences enclosed in parentheses. \"\n",
    "        \"Ensure that each speaker's turn is separated by exactly one newline character, and avoid using double newlines. \"\n",
    "        \"The dialogue format should follow this structure: '#Person#: dialogue text'. All dialogues must be generated in Korean. \"\n",
    "        \"Ensure to incorporate various speech styles such as casual (구어체), formal (문어체), and translated (번역체) tones throughout the dialogue.\"\n",
    "    )\n",
    "}\n",
    "\n",
    "# Few-shot 대화 생성 함수\n",
    "def generate_dialogue_with_few_shot(summary):\n",
    "    try:\n",
    "        # User 프롬프트에 한국어로 대화 생성 요청 추가 및 문체 다양성 추가\n",
    "        user_prompt = (\n",
    "            f\"{few_shot_prompt}\\n\"\n",
    "            f\"Now generate a dialogue based on the following summary, ensuring the dialogue is entirely in Korean, \"\n",
    "            f\"with no English or sentences in parentheses. Ensure proper formatting as explained above:\\n\"\n",
    "            f\"Additionally, use a mix of casual (구어체), formal (문어체), and translated (번역체) speech styles throughout the dialogue:\\n{summary}\"\n",
    "        )\n",
    "        \n",
    "        response = client.chat.completions.create(\n",
    "            model=\"gpt-4o-mini\",\n",
    "            messages=[\n",
    "                system_prompt1,\n",
    "                {\n",
    "                    \"role\": \"user\",\n",
    "                    \"content\": user_prompt\n",
    "                }\n",
    "            ],\n",
    "            stream=False  # Set to True if you want to use streaming\n",
    "        )\n",
    "        # 생성된 대화 텍스트 반환\n",
    "        return response.choices[0].message.content\n",
    "\n",
    "    except Exception as e:\n",
    "        print(f\"Error generating dialogue: {e}\")\n",
    "        return None\n"
   ]
  },
  {
   "cell_type": "code",
   "execution_count": 11,
   "metadata": {},
   "outputs": [
    {
     "name": "stderr",
     "output_type": "stream",
     "text": [
      " 81%|████████  | 4027/4983 [4:03:48<1:47:29,  6.75s/it]"
     ]
    }
   ],
   "source": [
    "sampled_df = train_df.sample(frac=0.4, random_state=42).reset_index(drop=True)\n",
    "sampled_df['dialogue'] = None\n",
    "\n",
    "for idx, row in tqdm(sampled_df.iterrows(), total=len(sampled_df)):\n",
    "    generated_dialogue = generate_dialogue_with_few_shot(row['summary'])\n",
    "    sampled_df.at[idx, 'dialogue'] = generated_dialogue\n",
    "\n",
    "    # print(idx)\n",
    "    # print(row['summary'])\n",
    "    # print(f\"{generated_dialogue}\\n\")\n",
    "    # break"
   ]
  },
  {
   "cell_type": "code",
   "execution_count": 7,
   "metadata": {},
   "outputs": [],
   "source": [
    "output_file_path = '../dataset/generated_dialogue2.csv'\n",
    "sampled_df.to_csv(output_file_path, index=False)"
   ]
  },
  {
   "cell_type": "code",
   "execution_count": null,
   "metadata": {},
   "outputs": [],
   "source": []
  },
  {
   "cell_type": "code",
   "execution_count": 4,
   "metadata": {},
   "outputs": [],
   "source": [
    "few_shot_samples = sample_df.head(10)\n",
    "few_shot_prompt = \"\"\n",
    "for idx, row in few_shot_samples.iterrows():\n",
    "    dialogue = row['dialogue']\n",
    "    summary = row['summary']\n",
    "    few_shot_prompt += f\"Dialogue:\\n{dialogue}\\nSummary:\\n{summary}\\n\\n\""
   ]
  },
  {
   "cell_type": "code",
   "execution_count": 7,
   "metadata": {},
   "outputs": [],
   "source": [
    "system_prompt2 = {\n",
    "    \"role\": \"system\",\n",
    "    \"content\": (\n",
    "        \"You are a helpful assistant for summarizing dialogues. \"\n",
    "        \"Make sure not to generate any sentences in English or sentences enclosed in parentheses. \"\n",
    "        \"Ensure that the summary captures the main points of the dialogue in concise Korean.\"\n",
    "    )\n",
    "}\n",
    "\n",
    "def generate_summary_with_few_shot(dialogue):\n",
    "    try:\n",
    "        user_prompt = (\n",
    "            f\"{few_shot_prompt}\\n\"\n",
    "            f\"Now generate a summary based on the following dialogue, ensuring the summary is entirely in Korean, \"\n",
    "            f\"with no English or sentences in parentheses. Ensure the summary is concise and captures the main points:\\n{dialogue}\"\n",
    "        )\n",
    "        \n",
    "        response = client.chat.completions.create(\n",
    "            model=\"gpt-4o-mini\",\n",
    "            messages=[\n",
    "                system_prompt2,\n",
    "                {\n",
    "                    \"role\": \"user\",\n",
    "                    \"content\": user_prompt\n",
    "                }\n",
    "            ],\n",
    "            stream=False  # Set to True if you want to use streaming\n",
    "        )\n",
    "        # 생성된 요약 텍스트 반환\n",
    "        return response.choices[0].message.content\n",
    "\n",
    "    except Exception as e:\n",
    "        print(f\"Error generating summary: {e}\")\n",
    "        return None"
   ]
  },
  {
   "cell_type": "code",
   "execution_count": 10,
   "metadata": {},
   "outputs": [
    {
     "name": "stderr",
     "output_type": "stream",
     "text": [
      "100%|██████████| 9966/9966 [3:30:43<00:00,  1.27s/it]  \n"
     ]
    }
   ],
   "source": [
    "sampled_df = train_df.sample(frac=0.8, random_state=42).reset_index(drop=True)\n",
    "sampled_df['summary'] = None  # summary 열 초기화\n",
    "\n",
    "for idx, row in tqdm(sampled_df.iterrows(), total=len(sampled_df)):\n",
    "    # 대화(dialogue)를 기반으로 요약(summary) 생성\n",
    "    generated_summary = generate_summary_with_few_shot(row['dialogue'])\n",
    "    # print(row['dialogue'])\n",
    "    # print(generated_summary)\n",
    "    sampled_df.at[idx, 'summary'] = generated_summary  # 생성된 요약 저장"
   ]
  },
  {
   "cell_type": "code",
   "execution_count": 11,
   "metadata": {},
   "outputs": [],
   "source": [
    "output_file_path = '../dataset/generated_summary.csv'\n",
    "sampled_df.to_csv(output_file_path, index=False)"
   ]
  },
  {
   "cell_type": "code",
   "execution_count": null,
   "metadata": {},
   "outputs": [],
   "source": []
  }
 ],
 "metadata": {
  "kernelspec": {
   "display_name": "nlp-project",
   "language": "python",
   "name": "python3"
  },
  "language_info": {
   "codemirror_mode": {
    "name": "ipython",
    "version": 3
   },
   "file_extension": ".py",
   "mimetype": "text/x-python",
   "name": "python",
   "nbconvert_exporter": "python",
   "pygments_lexer": "ipython3",
   "version": "3.9.19"
  }
 },
 "nbformat": 4,
 "nbformat_minor": 2
}
