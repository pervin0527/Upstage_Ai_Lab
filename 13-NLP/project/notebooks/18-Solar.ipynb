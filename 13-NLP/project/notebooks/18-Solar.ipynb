{
 "cells": [
  {
   "cell_type": "code",
   "execution_count": 1,
   "metadata": {},
   "outputs": [],
   "source": [
    "import pandas as pd\n",
    "from tqdm import tqdm\n",
    "from openai import OpenAI"
   ]
  },
  {
   "cell_type": "code",
   "execution_count": 2,
   "metadata": {},
   "outputs": [],
   "source": [
    "# client = OpenAI(\n",
    "#     api_key=\"\",\n",
    "#     base_url=\"https://api.upstage.ai/v1/solar\"\n",
    "# )\n",
    "\n",
    "client = OpenAI(api_key='')"
   ]
  },
  {
   "cell_type": "code",
   "execution_count": 3,
   "metadata": {},
   "outputs": [],
   "source": [
    "train_df = pd.read_csv(\"../dataset/cleaned_train.csv\")\n",
    "test_df = pd.read_csv(\"../dataset/test.csv\")\n",
    "sample_df = pd.read_csv(\"../dataset/top5_samples.csv\")"
   ]
  },
  {
   "cell_type": "code",
   "execution_count": 4,
   "metadata": {},
   "outputs": [],
   "source": [
    "few_shot_samples = sample_df.head(10)\n",
    "few_shot_prompt = \"\"\n",
    "for idx, row in few_shot_samples.iterrows():\n",
    "    summary = row['summary']\n",
    "    dialogue = row['dialogue']\n",
    "    few_shot_prompt += f\"Summary:\\n{summary}\\nDialogue:\\n{dialogue}\\n\\n\""
   ]
  },
  {
   "cell_type": "code",
   "execution_count": 5,
   "metadata": {},
   "outputs": [],
   "source": [
    "# 시스템 프롬프트 설정\n",
    "system_prompt1 = {\n",
    "    \"role\": \"system\",\n",
    "    \"content\": (\n",
    "        \"You are a helpful assistant for generating dialogues from summaries. \"\n",
    "        \"Make sure not to generate any sentences in English or sentences enclosed in parentheses. \"\n",
    "        \"Ensure that each speaker's turn is separated by exactly one newline character, and avoid using double newlines. \"\n",
    "        \"The dialogue format should follow this structure: '#Person#: dialogue text'. All dialogues must be generated in Korean.\"\n",
    "    )\n",
    "}\n",
    "\n",
    "# Few-shot 대화 생성 함수\n",
    "def generate_dialogue_with_few_shot(summary):\n",
    "    try:\n",
    "        # User 프롬프트에 한국어로 대화 생성 요청 추가\n",
    "        user_prompt = (\n",
    "            f\"{few_shot_prompt}\\n\"\n",
    "            f\"Now generate a dialogue based on the following summary, ensuring the dialogue is entirely in Korean, \"\n",
    "            f\"with no English or sentences in parentheses. Ensure proper formatting as explained above:\\n{summary}\"\n",
    "        )\n",
    "        \n",
    "        response = client.chat.completions.create(\n",
    "            model=\"solar-1-mini-chat\",\n",
    "            messages=[\n",
    "                system_prompt1,\n",
    "                {\n",
    "                    \"role\": \"user\",\n",
    "                    \"content\": user_prompt\n",
    "                }\n",
    "            ],\n",
    "            stream=False  # Set to True if you want to use streaming\n",
    "        )\n",
    "        # 생성된 대화 텍스트 반환\n",
    "        return response.choices[0].message.content\n",
    "\n",
    "    except Exception as e:\n",
    "        print(f\"Error generating dialogue: {e}\")\n",
    "        return None"
   ]
  },
  {
   "cell_type": "code",
   "execution_count": 6,
   "metadata": {},
   "outputs": [
    {
     "name": "stderr",
     "output_type": "stream",
     "text": [
      "100%|██████████| 9966/9966 [7:28:41<00:00,  2.70s/it]   "
     ]
    },
    {
     "name": "stdout",
     "output_type": "stream",
     "text": [
      "                                             summary  \\\n",
      "0                 로즈가 잭에게 전화를 걸어 이번 토요일 저녁 식사에 초대한다.   \n",
      "1  #Person2#는 #Person1#에게 정장에 넥타이를 착용하고 면접에서 최선을 ...   \n",
      "2  존은 #Person1#에게 그의 동기, 그의 경영 스타일, 그리고 그의 사업과 개인...   \n",
      "3  #Person1#은 다음 베를린행 비행기 티켓을 구매하려 한다. #Person2#은...   \n",
      "4  조지는 주가 코트를 고르는 것을 도와주고 있다. 그들은 점원에게 더 큰 사이즈를 물...   \n",
      "\n",
      "                                            dialogue  \n",
      "0  #Person1#: 안녕하세요, 잭입니다.\\n#Person2#: 안녕하세요, 로즈입...  \n",
      "1  #Person1#: 안녕하세요, 선배님. 내일 면접이 있는데 조언 좀 구할 수 있을...  \n",
      "2  #사람1#: 안녕하세요, 존. 오늘 어떻게 도와드릴까요?\\n#사람2#: 안녕하세요....  \n",
      "3  #Person1#: 안녕하세요. 다음 베를린행 비행기 티켓을 구매하고 싶은데요.\\n...  \n",
      "4  #사람1#: 조지가 도와줄게. 어떤 스타일이 좋을까?\\n#사람2#: 음... 잘 모...  \n"
     ]
    },
    {
     "name": "stderr",
     "output_type": "stream",
     "text": [
      "\n"
     ]
    }
   ],
   "source": [
    "sampled_df = train_df.sample(frac=0.8, random_state=42).reset_index(drop=True)\n",
    "sampled_df['dialogue'] = None\n",
    "\n",
    "for idx, row in tqdm(sampled_df.iterrows(), total=len(sampled_df)):\n",
    "    generated_dialogue = generate_dialogue_with_few_shot(row['summary'])\n",
    "    # print(idx)\n",
    "    # print(f\"{generated_dialogue}\\n\")\n",
    "    sampled_df.at[idx, 'dialogue'] = generated_dialogue\n",
    "\n",
    "print(sampled_df[['summary', 'dialogue']].head())"
   ]
  },
  {
   "cell_type": "code",
   "execution_count": 7,
   "metadata": {},
   "outputs": [],
   "source": [
    "output_file_path = '../dataset/generated_dialogue.csv'\n",
    "sampled_df.to_csv(output_file_path, index=False)"
   ]
  },
  {
   "cell_type": "code",
   "execution_count": null,
   "metadata": {},
   "outputs": [],
   "source": []
  },
  {
   "cell_type": "code",
   "execution_count": 18,
   "metadata": {},
   "outputs": [],
   "source": [
    "few_shot_samples = sample_df.head(10)\n",
    "few_shot_prompt = \"\"\n",
    "for idx, row in few_shot_samples.iterrows():\n",
    "    dialogue = row['dialogue']\n",
    "    summary = row['summary']\n",
    "    few_shot_prompt += f\"Dialogue:\\n{dialogue}\\nSummary:\\n{summary}\\n\\n\""
   ]
  },
  {
   "cell_type": "code",
   "execution_count": 19,
   "metadata": {},
   "outputs": [],
   "source": [
    "system_prompt2 = {\n",
    "    \"role\": \"system\",\n",
    "    \"content\": (\n",
    "        \"You are a helpful assistant for summarizing dialogues. \"\n",
    "        \"Make sure not to generate any sentences in English or sentences enclosed in parentheses. \"\n",
    "        \"Ensure that the summary captures the main points of the dialogue in concise Korean. \"\n",
    "        \"Use translation-like, formal Korean, ensuring the style reflects a translated text tone.\"\n",
    "    )\n",
    "}\n",
    "\n",
    "def generate_summary_with_few_shot(dialogue):\n",
    "    try:\n",
    "        user_prompt = (\n",
    "            f\"{few_shot_prompt}\\n\"\n",
    "            f\"Now generate a summary based on the following dialogue, ensuring the summary is entirely in Korean, \"\n",
    "            f\"with no English or sentences in parentheses. Use translation-like, formal Korean, ensuring the style reflects a translated text tone. \"\n",
    "            f\"Ensure the summary is concise and captures the main points:\\n{dialogue}\"\n",
    "        )\n",
    "        \n",
    "        response = client.chat.completions.create(\n",
    "            model= 'gpt-4o-mini', ## \"solar-1-mini-chat\",\n",
    "            messages=[\n",
    "                system_prompt2,\n",
    "                {\n",
    "                    \"role\": \"user\",\n",
    "                    \"content\": user_prompt\n",
    "                }\n",
    "            ],\n",
    "            stream=False  # Set to True if you want to use streaming\n",
    "        )\n",
    "        # 생성된 요약 텍스트 반환\n",
    "        return response.choices[0].message.content\n",
    "\n",
    "    except Exception as e:\n",
    "        print(f\"Error generating summary: {e}\")\n",
    "        return None\n"
   ]
  },
  {
   "cell_type": "code",
   "execution_count": 20,
   "metadata": {},
   "outputs": [
    {
     "name": "stderr",
     "output_type": "stream",
     "text": [
      "100%|██████████| 499/499 [10:19<00:00,  1.24s/it]\n"
     ]
    }
   ],
   "source": [
    "sampled_df = test_df\n",
    "# sampled_df = test_df.sample(frac=0.8, random_state=42).reset_index(drop=True)\n",
    "# sampled_df['summary'] = None  # summary 열 초기화\n",
    "\n",
    "for idx, row in tqdm(sampled_df.iterrows(), total=len(sampled_df)):\n",
    "    # 대화(dialogue)를 기반으로 요약(summary) 생성\n",
    "    generated_summary = generate_summary_with_few_shot(row['dialogue'])\n",
    "    sampled_df.at[idx, 'summary'] = generated_summary  # 생성된 요약 저장\n"
   ]
  },
  {
   "cell_type": "code",
   "execution_count": 22,
   "metadata": {},
   "outputs": [],
   "source": [
    "sampled_df = sampled_df.drop(columns=['dialogue'])"
   ]
  },
  {
   "cell_type": "code",
   "execution_count": 23,
   "metadata": {},
   "outputs": [],
   "source": [
    "output_file_path = '../dataset/generated_sum.csv'\n",
    "sampled_df.to_csv(output_file_path, index=False)"
   ]
  },
  {
   "cell_type": "code",
   "execution_count": 24,
   "metadata": {},
   "outputs": [],
   "source": [
    "import numpy as np\n",
    "\n",
    "sampled_df['summary'] = sampled_df['summary'].str.replace(',', '', regex=False)\n",
    "\n",
    "n = 100\n",
    "random_indices = np.random.randint(0, len(sampled_df), size=n)\n",
    "selected_rows = sampled_df.iloc[random_indices]\n",
    "\n",
    "pred_df = pd.read_csv(\"../notebooks/unsloth/prediction.csv\")\n",
    "\n",
    "for _, row in selected_rows.iterrows():\n",
    "    pred_df.loc[pred_df['fname'] == row['fname'], 'summary'] = row['summary']\n",
    "\n",
    "pred_df.to_csv(\"../notebooks/unsloth/test.csv\")"
   ]
  },
  {
   "cell_type": "code",
   "execution_count": 25,
   "metadata": {},
   "outputs": [],
   "source": [
    "merged_df = pd.merge(test_df, sampled_df[['fname', 'summary']], on='fname', how='left')\n",
    "merged_df.to_csv(\"../dataset/new_teset.csv\", index=False)"
   ]
  },
  {
   "cell_type": "code",
   "execution_count": null,
   "metadata": {},
   "outputs": [],
   "source": []
  }
 ],
 "metadata": {
  "kernelspec": {
   "display_name": "nlp-project",
   "language": "python",
   "name": "python3"
  },
  "language_info": {
   "codemirror_mode": {
    "name": "ipython",
    "version": 3
   },
   "file_extension": ".py",
   "mimetype": "text/x-python",
   "name": "python",
   "nbconvert_exporter": "python",
   "pygments_lexer": "ipython3",
   "version": "3.9.19"
  }
 },
 "nbformat": 4,
 "nbformat_minor": 2
}
