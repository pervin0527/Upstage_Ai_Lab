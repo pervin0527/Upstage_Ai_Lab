{
 "cells": [
  {
   "cell_type": "code",
   "execution_count": 1,
   "metadata": {},
   "outputs": [
    {
     "name": "stdout",
     "output_type": "stream",
     "text": [
      "The token has not been saved to the git credentials helper. Pass `add_to_git_credential=True` in this function directly or `--add-to-git-credential` if using via `huggingface-cli` if you want to set the git credential as well.\n",
      "Token is valid (permission: read).\n",
      "Your token has been saved to /home/pervinco/.cache/huggingface/token\n",
      "Login successful\n"
     ]
    }
   ],
   "source": [
    "import os\n",
    "import torch\n",
    "import huggingface_hub\n",
    "\n",
    "import json\n",
    "import pandas as pd\n",
    "\n",
    "from langchain.vectorstores import FAISS  # FAISS로 변경\n",
    "from langchain.prompts import PromptTemplate\n",
    "from langchain.schema import BaseOutputParser\n",
    "from langchain.schema.runnable import RunnableLambda\n",
    "# from langchain.embeddings import HuggingFaceEmbeddings\n",
    "from langchain_huggingface.embeddings import HuggingFaceEmbeddings\n",
    "\n",
    "from langchain.schema.runnable import RunnablePassthrough\n",
    "from langchain_huggingface.llms import HuggingFacePipeline\n",
    "\n",
    "from transformers import AutoTokenizer, AutoModelForCausalLM, pipeline\n",
    "\n",
    "from dotenv import load_dotenv\n",
    "load_dotenv(\"../keys.env\")\n",
    "\n",
    "openai_api_key = os.getenv('OPENAI_API_KEY')\n",
    "os.environ['OPENAI_API_KEY'] = openai_api_key\n",
    "\n",
    "hf_token = os.getenv(\"HF_TOKEN\")\n",
    "huggingface_hub.login(hf_token)"
   ]
  },
  {
   "cell_type": "code",
   "execution_count": 2,
   "metadata": {},
   "outputs": [
    {
     "name": "stdout",
     "output_type": "stream",
     "text": [
      "4272\n"
     ]
    }
   ],
   "source": [
    "# 문서 데이터 로드\n",
    "def load_jsonl(file_path):\n",
    "    with open(file_path, 'r', encoding='utf-8') as f:\n",
    "        return [json.loads(line) for line in f]\n",
    "        \n",
    "doc_file = \"../dataset/documents.jsonl\"\n",
    "doc_data = load_jsonl(doc_file)\n",
    "print(len(doc_data))"
   ]
  },
  {
   "cell_type": "code",
   "execution_count": 3,
   "metadata": {},
   "outputs": [
    {
     "name": "stderr",
     "output_type": "stream",
     "text": [
      "/home/pervinco/miniconda3/envs/IR/lib/python3.9/site-packages/transformers/tokenization_utils_base.py:1617: FutureWarning: `clean_up_tokenization_spaces` was not set. It will be set to `True` by default. This behavior will be deprecated in transformers v4.45, and will be then set to `False` by default. For more details check this issue: https://github.com/huggingface/transformers/issues/31884\n",
      "  warnings.warn(\n"
     ]
    },
    {
     "name": "stdout",
     "output_type": "stream",
     "text": [
      "벡터 DB에 저장된 벡터의 수: 4272\n",
      "입력한 텍스트의 수: 4272\n"
     ]
    }
   ],
   "source": [
    "model_name = \"jhgan/ko-sroberta-multitask\"\n",
    "model_kwargs = {\"device\": \"cuda:0\"}\n",
    "encode_kwargs = {\"normalize_embeddings\": False}\n",
    "\n",
    "embedding_model = HuggingFaceEmbeddings(model_name=model_name, model_kwargs=model_kwargs, encode_kwargs=encode_kwargs)\n",
    "contents = [doc['content'] for doc in doc_data] ## 벡터 DB 생성 및 임베딩 벡터 저장\n",
    "\n",
    "vector_db = FAISS.from_texts(texts=contents, embedding=embedding_model)\n",
    "retriever = vector_db.as_retriever(search_kwargs={\"k\": 10})  ## 상위 10개 검색\n",
    "\n",
    "## 벡터 DB에 저장된 벡터의 수를 확인\n",
    "print(f\"벡터 DB에 저장된 벡터의 수: {vector_db.index.ntotal}\")\n",
    "print(f\"입력한 텍스트의 수: {len(contents)}\")"
   ]
  },
  {
   "cell_type": "code",
   "execution_count": 4,
   "metadata": {},
   "outputs": [
    {
     "name": "stdout",
     "output_type": "stream",
     "text": [
      "검색 결과 1: 건강한 사람이 에너지 균형을 평형 상태로 유지하는 것은 중요합니다. 에너지 균형은 에너지 섭취와 에너지 소비의 수학적 동등성을 의미합니다. 일반적으로 건강한 사람은 1-2주의 기간 동안 에너지 균형을 달성합니다. 이 기간 동안에는 올바른 식단과 적절한 운동을 통해 에너지 섭취와 에너지 소비를 조절해야 합니다. 식단은 영양가 있는 식품을 포함하고, 적절한 칼로리를 섭취해야 합니다. 또한, 운동은 에너지 소비를 촉진시키고 근육을 강화시킵니다. 이렇게 에너지 균형을 유지하면 건강을 유지하고 비만이나 영양 실조와 같은 문제를 예방할 수 있습니다. 따라서 건강한 사람은 에너지 균형을 평형 상태로 유지하는 것이 중요하며, 이를 위해 1-2주의 기간 동안 식단과 운동을 조절해야 합니다.\n",
      "검색 결과 2: 에너지 전달은 다양한 형태와 방식으로 이루어집니다. 에너지는 한 형태에서 다른 형태로 전달될 수 있으며, 이는 우리 일상 생활에서도 많이 경험할 수 있습니다. 예를 들어, 태양에서 나오는 에너지는 태양광 전지를 통해 전기 에너지로 변환될 수 있습니다. 또한, 운동 에너지는 자전거의 페달을 밟으면서 전기 에너지로 변환될 수 있습니다. 이처럼 에너지 전달은 다양한 종류와 방식을 가지고 있습니다.\n",
      "\n",
      "하지만, 모든 종류의 에너지 전달을 가장 알맞게 설명하는 명제는 '사용할 수 있는 에너지의 감소를 초래합니다.'입니다. 에너지는 전달되는 과정에서 일부가 손실되기 때문에, 전달된 에너지의 양은 원래의 양보다 적어집니다. 이러한 손실은 에너지의 효율성을 나타내는 중요한 요소 중 하나입니다. 에너지 전달 과정에서 발생하는 손실을 최소화하기 위해 우리는 다양한 기술과 방법을 개발하고 연구하고 있습니다.\n",
      "\n",
      "에너지 전달은 우리의 삶과 사회에 매우 중요한 역할을 합니다. 우리는 에너지를 사용하여 가정이나 사무실을 데워주고, 차량을 움직이게 하며, 전자기기를 작동시킵니다. 따라서, 에너지 전달에 대한 이해와 연구는 우리의 삶의 질을 향상시키는 데에 큰 도움이 될 것입니다.\n",
      "검색 결과 3: 적응성 열발생은 영양 상태의 변화 (영양 부족 또는 과잉)와 에너지 불균형을 최소화하기 위해 몸이 열 생산을 조절하는 메커니즘입니다. 이는 신체의 대사 활동을 통해 열을 생성하고, 온도 조절을 위해 열을 방출하는 과정을 포함합니다. 몸은 영양 상태에 따라 열 생산을 조절하여 에너지 불균형을 균형화하고, 영양 상태의 변화에 대응합니다. 이러한 적응성 열발생은 신체의 홈오스타시스를 유지하는 데 중요한 역할을 합니다. 따라서 영양 상태의 변화와 에너지 불균형을 최소화하기 위해 몸이 열 생산을 조절하는 것을 적응성 열발생이라고 합니다.\n",
      "검색 결과 4: 많은 국가가 화석 연료 에너지에 의존하고 있습니다. 그러나 일부 과학자들은 대신 재생 가능한 에너지원을 사용하는 것을 제안합니다. 그 이유는 환경에 더 안전하기 때문입니다. 재생 가능한 에너지원은 태양, 바람, 수력 등과 같은 자연의 자원을 이용하여 에너지를 생산합니다. 이러한 에너지원은 화석 연료와 달리 대기 오염, 온실 가스 배출, 지구 온난화 등의 부작용을 최소화합니다. 또한, 재생 가능한 에너지원은 무한히 사용할 수 있으며, 고갈되지 않습니다. 이는 에너지 안정성과 경제적 이익을 제공합니다. 따라서, 과학자들은 재생 가능한 에너지원 사용을 제안하고 있습니다.\n",
      "검색 결과 5: 에너지를 잘 흡수하는 객체는 잘 방사한다. 이는 에너지 보존의 법칙에 따라서 발생하는 현상이다. 에너지를 흡수하는 객체는 외부에서 들어오는 에너지를 흡수하여 내부에 저장하고, 이후에 필요한 시점에 다시 방출한다. 이러한 특성을 가진 객체는 다양한 분야에서 활용되고 있다. 예를 들어, 태양광 패널은 태양으로부터 에너지를 흡수하여 전기 에너지로 변환하는데 사용된다. 또한, 열 전달을 효율적으로 이루어지게 하기 위해 열 흡수체가 사용된다. 이러한 객체들은 에너지의 효율적인 이용을 가능하게 하며, 지속 가능한 에너지 시스템의 구축에 기여한다.\n",
      "검색 결과 6: 자동차 엔진은 시동이 걸리면 가솔린과 공기가 혼합되어 연소됩니다. 이 과정에서 열, 소리, 그리고 화학 제품이 방출됩니다. 그러나 엔진이 작동할 때 이 중 어느 것이 일정하게 유지되는지는 에너지 총량입니다. 에너지 총량은 시동이 걸린 후부터 엔진이 꺼질 때까지 변하지 않습니다. 이는 엔진의 효율성과 성능을 결정하는 중요한 요소입니다. 따라서 자동차 엔진의 작동 원리를 이해하고 유지보수를 위해서는 에너지 총량에 대한 이해가 필요합니다.\n",
      "검색 결과 7: 바람은 체사피크만의 남동쪽 해안에 이득을 주는 천연자원입니다. 이 바람은 어떤 방식으로 인간에게 가장 크게 이득을 줄까요? 바람은 전기 에너지로 변환될 수 있습니다. 바람은 풍력 발전기를 통해 전기로 변환될 수 있습니다. 풍력 발전기는 바람의 에너지를 이용하여 회전하는 발전기입니다. 회전하는 발전기는 전기를 생산하고 이를 인간이 사용할 수 있는 전기로 변환합니다. 이렇게 바람의 에너지를 전기로 변환함으로써 인간은 청정하고 지속 가능한 에너지를 얻을 수 있습니다. 바람의 에너지는 환경에 미치는 영향도 적고, 재생 가능한 에너지원으로 인간의 에너지 수요를 충족시킬 수 있습니다. 따라서 바람은 인간에게 가장 크게 이득을 주는 천연자원 중 하나입니다.\n",
      "검색 결과 8: 에너지 회사들은 종종 다양한 자원으로부터 전기를 생산합니다. 이러한 자원에는 풍력, 태양열, 수력, 화력 등이 포함됩니다. 그 중에서도 풍력은 대기질을 가장 크게 향상시키는 자원입니다. 풍력 발전은 바람의 힘을 이용하여 전기를 생산하는 것으로, 이는 환경에 친화적이며 대기질 오염을 최소화하는 방법 중 하나입니다. 바람은 자연적으로 발생하는 자원이기 때문에 에너지 회사들은 풍력 발전을 통해 지속 가능한 전기 생산을 실현할 수 있습니다. 풍력 발전소는 풍량이 많은 지역에 설치되며, 바람이 불면 터빈이 회전하여 전기를 생산합니다. 이러한 풍력 발전소는 대기질을 개선하고 환경을 보호하는 데 큰 역할을 합니다. 따라서, 풍력은 대기질을 가장 크게 향상시키는 자원으로 알려져 있습니다.\n",
      "검색 결과 9: 가르시아 선생님의 과학 수업에서는 에너지와 에너지 비용을 줄이는 방법을 공부하고 있습니다. 학생들은 10월의 전기 요금을 11월의 예상 요금과 비교해야 합니다. 이를 위해 각 학생은 11월 동안 실천할 에너지 절약 팁의 목록을 얻게 됩니다. 그러나 학생들의 조사에서 가장 통제할 수 없는 요소는 11월의 실외 온도입니다. 실외 온도는 계절에 따라 변동하기 때문에 학생들은 이를 고려하여 에너지 절약을 계획해야 합니다. 따라서 실외 온도가 낮을 때는 난방을 덜 사용하고, 실외 온도가 높을 때는 에어컨을 덜 사용하는 등의 조치를 취할 수 있습니다. 이렇게 실외 온도는 학생들이 통제할 수 없는 요소 중 하나이지만, 에너지 절약을 위해 적극적으로 고려되어야 합니다.\n",
      "검색 결과 10: 태양열 발전은 환경에 가장 적은 해를 끼치는 전기원 중 하나입니다. 태양열 발전은 태양에서 나오는 에너지를 이용하여 전기를 생산하는 과정입니다. 이 방식은 화석 연료를 사용하지 않으며, 이산화탄소와 같은 온실가스를 배출하지 않습니다. 따라서 태양열 발전은 대기 오염과 기후 변화에 큰 영향을 미치지 않습니다. 또한, 태양은 무한한 자원이기 때문에 태양열 발전은 지속 가능한 에너지 소스입니다. 태양열 발전은 환경 보호와 에너지 절약을 동시에 실현할 수 있는 효과적인 전기원입니다.\n"
     ]
    },
    {
     "name": "stderr",
     "output_type": "stream",
     "text": [
      "/tmp/ipykernel_939424/3692756873.py:3: LangChainDeprecationWarning: The method `BaseRetriever.get_relevant_documents` was deprecated in langchain-core 0.1.46 and will be removed in 1.0. Use :meth:`~invoke` instead.\n",
      "  results = retriever.get_relevant_documents(query)\n"
     ]
    }
   ],
   "source": [
    "# 임의의 쿼리로 벡터 DB에서 검색\n",
    "query = \"에너지 균형을 유지하는 방법은 무엇인가요?\"\n",
    "results = retriever.get_relevant_documents(query)\n",
    "\n",
    "# 검색 결과 출력\n",
    "for idx, result in enumerate(results):\n",
    "    print(f\"검색 결과 {idx + 1}: {result.page_content}\")"
   ]
  },
  {
   "cell_type": "code",
   "execution_count": 5,
   "metadata": {},
   "outputs": [
    {
     "data": {
      "application/vnd.jupyter.widget-view+json": {
       "model_id": "bf5a5574518f4c5cb8fca0a72ae080ba",
       "version_major": 2,
       "version_minor": 0
      },
      "text/plain": [
       "Loading checkpoint shards:   0%|          | 0/4 [00:00<?, ?it/s]"
      ]
     },
     "metadata": {},
     "output_type": "display_data"
    }
   ],
   "source": [
    "## LLaMa 3.1 모델 로드\n",
    "model_id = \"meta-llama/Llama-3.1-8B-Instruct\"\n",
    "tokenizer = AutoTokenizer.from_pretrained(model_id)\n",
    "model = AutoModelForCausalLM.from_pretrained(model_id, torch_dtype=torch.float16, device_map=\"auto\")\n",
    "\n",
    "if tokenizer.pad_token is None:\n",
    "    if tokenizer.eos_token is not None:\n",
    "        tokenizer.pad_token = tokenizer.eos_token\n",
    "    else:\n",
    "        tokenizer.pad_token = tokenizer.eos_token = '<|endoftext|>' \n",
    "\n",
    "## Tokenizer와 Model을 LangChain에 연동\n",
    "pipe = pipeline(\n",
    "    \"text-generation\",\n",
    "    model=model,\n",
    "    tokenizer=tokenizer,\n",
    "    max_new_tokens=320,\n",
    "    pad_token_id=tokenizer.pad_token_id,\n",
    "    eos_token_id=tokenizer.eos_token_id,\n",
    "    clean_up_tokenization_spaces=True  # 또는 False로 설정 가능\n",
    ")\n",
    "\n",
    "hf = HuggingFacePipeline(pipeline=pipe)"
   ]
  },
  {
   "cell_type": "code",
   "execution_count": 6,
   "metadata": {},
   "outputs": [],
   "source": [
    "class CustomOutputParser(BaseOutputParser):\n",
    "    def parse(self, text: str):\n",
    "        split_text = text.split(\"도움이 되는 답변: \", 1)\n",
    "        if len(split_text) > 1:\n",
    "            return split_text[1].strip()\n",
    "        else:\n",
    "            return text\n",
    "\n",
    "def docs_to_text(docs):\n",
    "    return \"\\n\\n\".join([doc.page_content for doc in docs[:3]])  # 상위 3개 문서 사용\n",
    "\n",
    "\n",
    "# 프롬프트 템플릿 수정\n",
    "template = \"\"\"다음과 같은 맥락을 사용해서 마지막 질문에 대답하세요.\n",
    "{context}\n",
    "질문: {question}\n",
    "도움이 되는 답변: \"\"\"\n",
    "\n",
    "rag_prompt = PromptTemplate.from_template(template)\n",
    "\n",
    "output_parser = CustomOutputParser()\n",
    "top3_context = RunnableLambda(docs_to_text)"
   ]
  },
  {
   "cell_type": "code",
   "execution_count": 7,
   "metadata": {},
   "outputs": [
    {
     "name": "stderr",
     "output_type": "stream",
     "text": [
      "Starting from v4.46, the `logits` model output will have the same type as the model (except at train time, where it will always be FP32)\n"
     ]
    },
    {
     "name": "stdout",
     "output_type": "stream",
     "text": [
      "1-2주의 기간 동안 올바른 식단과 적절한 운동을 통해 에너지 섭취와 에너지 소비를 조절해야 합니다. 건강한 사람은 에너지 균형을 유지하면 건강을 유지하고 비만이나 영양 실조와 같은 문제를 예방할 수 있습니다. 건강한 사람이 에너지 균형을 평형 상태로 유지하는 것은 매우 중요합니다. 올바른 식단과 적절한 운동을 통해 에너지 섭취와 에너지 소비를 조절해야 하며, 이를 통해 건강을 유지하고 비만이나 영양 실조와 같은 문제를 예방할 수 있습니다. 건강한 사람이 에너지 균형을 유지하는 것은 매우 중요합니다. 올바른 식단과 적절한 운동을 통해 에너지 섭취와 에너지 소비를 조절해야 하며, 이를 통해 건강을 유지하고 비만이나 영양 실조와 같은 문제를 예방할 수 있습니다. 건강한 사람이 에너지 균형을 유지하는 것은 매우 중요합니다. 올바른 식단과 적절한 운동을 통해 에너지 섭취와 에너지 소비를 조절해야 하며, 이를 통해 건강을 유지하고 비만이나 영양 실조와 같은 문제를 예방할 수 있습니다. 건강한 사람이 에너지 균형을 유지하는 것은 매우 중요합니다. 올바른 식단과 적절한 운동을 통해 에너지 섭\n"
     ]
    }
   ],
   "source": [
    "rag_chain = {\n",
    "    \"context\": retriever | top3_context,\n",
    "    \"question\": RunnablePassthrough()\n",
    "} | rag_prompt | hf | output_parser\n",
    "\n",
    "# Chain 실행\n",
    "response = rag_chain.invoke(\"건강한 사람이 에너지 균형을 평형 상태로 유지하는 것이 중요해??\")\n",
    "print(response)"
   ]
  },
  {
   "cell_type": "code",
   "execution_count": null,
   "metadata": {},
   "outputs": [],
   "source": []
  }
 ],
 "metadata": {
  "kernelspec": {
   "display_name": "IR",
   "language": "python",
   "name": "python3"
  },
  "language_info": {
   "codemirror_mode": {
    "name": "ipython",
    "version": 3
   },
   "file_extension": ".py",
   "mimetype": "text/x-python",
   "name": "python",
   "nbconvert_exporter": "python",
   "pygments_lexer": "ipython3",
   "version": "3.9.19"
  }
 },
 "nbformat": 4,
 "nbformat_minor": 2
}
