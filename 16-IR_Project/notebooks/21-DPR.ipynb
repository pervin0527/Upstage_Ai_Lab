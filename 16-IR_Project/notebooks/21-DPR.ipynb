{
 "cells": [
  {
   "cell_type": "code",
   "execution_count": null,
   "metadata": {},
   "outputs": [],
   "source": [
    "import os\n",
    "import json\n",
    "import torch\n",
    "import random\n",
    "\n",
    "from tqdm import tqdm\n",
    "from torch.utils.data import Dataset, DataLoader\n",
    "from transformers import DPRQuestionEncoder, DPRContextEncoder, DPRQuestionEncoderTokenizer, DPRContextEncoderTokenizer, Trainer, TrainingArguments"
   ]
  },
  {
   "cell_type": "code",
   "execution_count": 3,
   "metadata": {},
   "outputs": [],
   "source": [
    "dataset = []\n",
    "with open('../dataset/processed_documents_queries.jsonl', 'r', encoding='utf-8') as f:\n",
    "    for line in f:\n",
    "        dataset.append(json.loads(line.strip()))"
   ]
  },
  {
   "cell_type": "code",
   "execution_count": 4,
   "metadata": {},
   "outputs": [],
   "source": [
    "# 문서 ID와 내용을 매핑하는 딕셔너리 생성\n",
    "doc_dict = {doc['docid']: doc['content'] for doc in dataset}\n",
    "\n",
    "# 모든 문서의 docid 리스트\n",
    "all_docids = [doc['docid'] for doc in dataset]\n",
    "\n",
    "# 2. 데이터셋 생성\n",
    "\n",
    "positive_samples = []  # 양성 샘플 리스트\n",
    "negative_samples = []  # 음성 샘플 리스트\n",
    "\n",
    "for doc in dataset:\n",
    "    docid = doc['docid']\n",
    "    content = doc['content']\n",
    "    questions = [doc['question1'], doc['question2'], doc['question3']]\n",
    "\n",
    "    # 양성 샘플 생성\n",
    "    for question in questions:\n",
    "        positive_samples.append({\n",
    "            'query': question,\n",
    "            'passage': content,\n",
    "            'label': 1\n",
    "        })\n",
    "\n",
    "        # 음성 샘플 생성 (다른 문서 중 하나를 랜덤하게 선택)\n",
    "        negative_docids = [d for d in all_docids if d != docid]\n",
    "        negative_docid = random.choice(negative_docids)\n",
    "        negative_content = doc_dict[negative_docid]\n",
    "\n",
    "        negative_samples.append({\n",
    "            'query': question,\n",
    "            'passage': negative_content,\n",
    "            'label': 0\n",
    "        })"
   ]
  },
  {
   "cell_type": "code",
   "execution_count": 5,
   "metadata": {},
   "outputs": [],
   "source": [
    "dataset = positive_samples + negative_samples\n",
    "random.shuffle(dataset)"
   ]
  },
  {
   "cell_type": "code",
   "execution_count": 6,
   "metadata": {},
   "outputs": [],
   "source": [
    "class RetrievalDataset(Dataset):\n",
    "    def __init__(self, data, question_tokenizer, context_tokenizer, max_length=512):\n",
    "        self.data = data\n",
    "        self.question_tokenizer = question_tokenizer\n",
    "        self.context_tokenizer = context_tokenizer\n",
    "        self.max_length = max_length\n",
    "\n",
    "    def __len__(self):\n",
    "        return len(self.data)\n",
    "\n",
    "    def __getitem__(self, idx):\n",
    "        item = self.data[idx]\n",
    "        query = item['query']\n",
    "        passage = item['passage']\n",
    "        label = item['label']\n",
    "\n",
    "        query_inputs = self.question_tokenizer(\n",
    "            query,\n",
    "            truncation=True,\n",
    "            padding='max_length',\n",
    "            max_length=self.max_length,\n",
    "            return_tensors='pt'\n",
    "        )\n",
    "\n",
    "        passage_inputs = self.context_tokenizer(\n",
    "            passage,\n",
    "            truncation=True,\n",
    "            padding='max_length',\n",
    "            max_length=self.max_length,\n",
    "            return_tensors='pt'\n",
    "        )\n",
    "\n",
    "        return {\n",
    "            'query_input_ids': query_inputs['input_ids'].squeeze(0),\n",
    "            'query_attention_mask': query_inputs['attention_mask'].squeeze(0),\n",
    "            'passage_input_ids': passage_inputs['input_ids'].squeeze(0),\n",
    "            'passage_attention_mask': passage_inputs['attention_mask'].squeeze(0),\n",
    "            'label': torch.tensor(label, dtype=torch.float)\n",
    "        }"
   ]
  },
  {
   "cell_type": "code",
   "execution_count": null,
   "metadata": {},
   "outputs": [],
   "source": [
    "question_model_name = \"snumin44/biencoder-ko-bert-question\"\n",
    "context_model_name = \"snumin44/biencoder-ko-bert-context\"\n",
    "\n",
    "# 토크나이저 로드\n",
    "question_tokenizer = DPRQuestionEncoderTokenizer.from_pretrained(question_model_name)\n",
    "context_tokenizer = DPRContextEncoderTokenizer.from_pretrained(context_model_name)\n",
    "\n",
    "# 데이터셋 및 데이터로더 생성\n",
    "train_dataset = RetrievalDataset(dataset, question_tokenizer, context_tokenizer)\n",
    "train_dataloader = DataLoader(train_dataset, batch_size=8, shuffle=True)"
   ]
  },
  {
   "cell_type": "code",
   "execution_count": null,
   "metadata": {},
   "outputs": [],
   "source": [
    "device = torch.device('cuda' if torch.cuda.is_available() else 'cpu')\n",
    "\n",
    "question_encoder = DPRQuestionEncoder.from_pretrained(question_model_name).to(device)\n",
    "context_encoder = DPRContextEncoder.from_pretrained(context_model_name).to(device)\n",
    "\n",
    "# 손실 함수 및 옵티마이저 정의\n",
    "criterion = torch.nn.BCEWithLogitsLoss()\n",
    "optimizer = torch.optim.AdamW(list(question_encoder.parameters()) + list(context_encoder.parameters()), lr=2e-5)"
   ]
  },
  {
   "cell_type": "code",
   "execution_count": null,
   "metadata": {},
   "outputs": [],
   "source": [
    "epochs = 3\n",
    "\n",
    "for epoch in range(epochs):\n",
    "    print(f\"Epoch {epoch + 1}/{epochs}\")\n",
    "    question_encoder.train()\n",
    "    context_encoder.train()\n",
    "\n",
    "    total_loss = 0\n",
    "\n",
    "    for batch in tqdm(train_dataloader):\n",
    "        optimizer.zero_grad()\n",
    "\n",
    "        # 데이터 로드\n",
    "        query_input_ids = batch['query_input_ids'].to(device)\n",
    "        query_attention_mask = batch['query_attention_mask'].to(device)\n",
    "        passage_input_ids = batch['passage_input_ids'].to(device)\n",
    "        passage_attention_mask = batch['passage_attention_mask'].to(device)\n",
    "        labels = batch['label'].to(device)\n",
    "\n",
    "        # 임베딩 생성\n",
    "        query_embeddings = question_encoder(\n",
    "            input_ids=query_input_ids,\n",
    "            attention_mask=query_attention_mask\n",
    "        ).pooler_output  # [batch_size, hidden_size]\n",
    "\n",
    "        passage_embeddings = context_encoder(\n",
    "            input_ids=passage_input_ids,\n",
    "            attention_mask=passage_attention_mask\n",
    "        ).pooler_output  # [batch_size, hidden_size]\n",
    "\n",
    "        # 유사도 계산 (내적)\n",
    "        scores = torch.sum(query_embeddings * passage_embeddings, dim=-1)  # [batch_size]\n",
    "\n",
    "        # 손실 계산\n",
    "        loss = criterion(scores, labels)\n",
    "\n",
    "        # 역전파 및 옵티마이저 스텝\n",
    "        loss.backward()\n",
    "        optimizer.step()\n",
    "\n",
    "        total_loss += loss.item()\n",
    "\n",
    "    avg_loss = total_loss / len(train_dataloader)\n",
    "    print(f\"Average Loss: {avg_loss:.4f}\")"
   ]
  },
  {
   "cell_type": "code",
   "execution_count": null,
   "metadata": {},
   "outputs": [],
   "source": [
    "os.makedirs(\"./dpr\", exist_ok=True)\n",
    "question_encoder.save_pretrained('./dpr/question_encoder')\n",
    "context_encoder.save_pretrained('./dpr/context_encoder')"
   ]
  }
 ],
 "metadata": {
  "kernelspec": {
   "display_name": "base",
   "language": "python",
   "name": "python3"
  },
  "language_info": {
   "codemirror_mode": {
    "name": "ipython",
    "version": 3
   },
   "file_extension": ".py",
   "mimetype": "text/x-python",
   "name": "python",
   "nbconvert_exporter": "python",
   "pygments_lexer": "ipython3",
   "version": "3.10.13"
  }
 },
 "nbformat": 4,
 "nbformat_minor": 2
}
