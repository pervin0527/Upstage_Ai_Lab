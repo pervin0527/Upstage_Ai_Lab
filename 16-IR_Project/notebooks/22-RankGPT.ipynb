{
 "cells": [
  {
   "cell_type": "code",
   "execution_count": null,
   "metadata": {},
   "outputs": [],
   "source": [
    "from RankGPT.rank_gpt import permutation_pipeline"
   ]
  },
  {
   "cell_type": "code",
   "execution_count": null,
   "metadata": {},
   "outputs": [],
   "source": [
    "from RankGPT.rank_gpt import permutation_pipeline\n",
    "\n",
    "query = \"What causes amnesia?\"\n",
    "top_docs, cosine_scores = retrieve_top_docs(query, doc_embeddings_l, top_k=10, threshold=0.3)\n",
    "print(top_docs)\n",
    "\n",
    "def format_rerank_results(query, top_docs, docs):\n",
    "    formatted_hits = [\n",
    "        {'idx': i, 'content': docs[i]['content'], 'score': scores[idx]}\n",
    "        for idx, i in enumerate(top_docs)\n",
    "    ]\n",
    "    result = {\n",
    "        'query': query,\n",
    "        'hits': formatted_hits\n",
    "    }\n",
    "    # print(result)\n",
    "    return result\n",
    "\n",
    "def reranking(query, top_docs, docs, top_k):\n",
    "    new_item = permutation_pipeline(item=format_rerank_results(query, top_docs, docs), \n",
    "                                    rank_start=0, \n",
    "                                    rank_end=len(top_docs), \n",
    "                                    model_name='gpt-3.5-turbo', \n",
    "                                    api_key='')\n",
    "    # print(new_item)\n",
    "    reranked_doc_indices = [hit['idx'] for hit in new_item['hits']]\n",
    "    reranked_scores = [hit['score'] for hit in new_item['hits']]\n",
    "    return reranked_doc_indices[:top_k], reranked_scores[:top_k]\n",
    "\n",
    "reranked_doc_indices, reranked_scores = reranking(query, top_docs, docs, top_k=3)\n",
    "\n",
    "for idx, score in zip(reranked_doc_indices, reranked_scores):\n",
    "    print(f\"Document {idx}: {docs[idx]} (score: {score})\")"
   ]
  }
 ],
 "metadata": {
  "language_info": {
   "name": "python"
  }
 },
 "nbformat": 4,
 "nbformat_minor": 2
}
