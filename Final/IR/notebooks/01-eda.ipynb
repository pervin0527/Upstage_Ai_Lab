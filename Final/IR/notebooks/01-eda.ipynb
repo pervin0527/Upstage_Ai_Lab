{
 "cells": [
  {
   "cell_type": "code",
   "execution_count": 1,
   "metadata": {},
   "outputs": [],
   "source": [
    "import json\n",
    "import random\n",
    "import pandas as pd\n",
    "import matplotlib.pyplot as plt\n",
    "\n",
    "\n",
    "from typing import List, Optional"
   ]
  },
  {
   "cell_type": "code",
   "execution_count": 2,
   "metadata": {},
   "outputs": [],
   "source": [
    "doc_file = \"../dataset/documents.jsonl\"\n",
    "eval_file = \"../dataset/eval.jsonl\""
   ]
  },
  {
   "cell_type": "markdown",
   "metadata": {},
   "source": [
    "# 분석에 사용할 함수들"
   ]
  },
  {
   "cell_type": "code",
   "execution_count": 3,
   "metadata": {},
   "outputs": [],
   "source": [
    "def load_jsonl(file_path):\n",
    "    with open(file_path, 'r', encoding='utf-8') as f:\n",
    "        return [json.loads(line) for line in f]\n",
    "\n",
    "\n",
    "def select_doc_sample(doc_data: List, idx: Optional[int] = None):\n",
    "    if idx is None:\n",
    "        idx = random.randint(0, len(doc_data)-1)\n",
    "    \n",
    "    sample = doc_data[idx]\n",
    "    print(f\"docid : {sample['docid']}\")\n",
    "    print(f\"src : {sample['src']}\")\n",
    "    print(\"content :\")\n",
    "    print(\"\\n\".join(sample['content'].split('. ')))\n",
    "\n",
    "\n",
    "def select_eval_sample(eval_data: List, idx : Optional[int] = None):\n",
    "    if idx is None:\n",
    "        idx = random.randint(0, len(eval_data)-1)\n",
    "\n",
    "    sample = eval_data[idx]\n",
    "    print(f\"eval_id : {sample['eval_id']}\")\n",
    "    print(f\"msg :\")\n",
    "\n",
    "    for m in sample['msg']:\n",
    "        print(f\"  -{m['role']} : {m['content']}\")"
   ]
  },
  {
   "cell_type": "markdown",
   "metadata": {},
   "source": [
    "# Document 분석"
   ]
  },
  {
   "cell_type": "markdown",
   "metadata": {},
   "source": [
    "```documents.jsonl```의 구조\n",
    "- 4272개의 문서로 구성.\n",
    "- docid : document id\n",
    "- src : document의 출처\n",
    "- content : 문서 내용\n",
    "\n",
    "document는 질의가 들어왔을 때 적절한 내용을 찾아 반환하는 것이 주요 목적. ```query는 포함되어 있지 않다.```"
   ]
  },
  {
   "cell_type": "code",
   "execution_count": 4,
   "metadata": {},
   "outputs": [
    {
     "name": "stdout",
     "output_type": "stream",
     "text": [
      "4272\n",
      "dict_keys(['docid', 'src', 'content'])\n"
     ]
    }
   ],
   "source": [
    "documents_data = load_jsonl(doc_file)\n",
    "print(len(documents_data))\n",
    "print(documents_data[0].keys())"
   ]
  },
  {
   "cell_type": "code",
   "execution_count": 5,
   "metadata": {},
   "outputs": [
    {
     "name": "stdout",
     "output_type": "stream",
     "text": [
      "docid : 4c7ecaa7-bd0e-44cc-b7cd-3aa9b47c8648\n",
      "src : ko_mmlu__nutrition__test\n",
      "content :\n",
      "렙틴 분비를 저해하는 선천적 장애의 표현형은 다양합니다\n",
      "그 중 일반적으로 나타나는 증상은 비만, 비정상 성장, 갑상선 기능 저하증, 과인슐린증입니다\n",
      "이러한 표현형은 렙틴이 체내에서 충분히 분비되지 않거나 작용하지 않을 때 발생할 수 있습니다\n",
      "비만은 체중이 과도하게 증가하는 것을 의미하며, 이는 렙틴의 신호를 제대로 받지 못해 식욕 조절이 어려워지기 때문입니다\n",
      "비정상 성장은 성장 속도가 비정상적으로 빠르거나 느려지는 것을 의미하며, 이는 렙틴의 신호를 제대로 받지 못해 성장 호르몬의 분비가 어려워지기 때문입니다\n",
      "갑상선 기능 저하증은 갑상선 호르몬의 분비가 부족하여 신진대사가 느려지는 것을 의미하며, 이는 렙틴의 신호를 제대로 받지 못해 갑상선 기능이 저하되기 때문입니다\n",
      "과인슐린증은 인슐린의 분비가 과도하게 증가하는 것을 의미하며, 이는 렙틴의 신호를 제대로 받지 못해 인슐린의 분비가 조절되지 않기 때문입니다\n",
      "이러한 표현형은 렙틴 분비를 저해하는 선천적 장애의 특징적인 증상으로 알려져 있습니다.\n"
     ]
    }
   ],
   "source": [
    "select_doc_sample(documents_data)"
   ]
  },
  {
   "cell_type": "code",
   "execution_count": 6,
   "metadata": {},
   "outputs": [
    {
     "name": "stdout",
     "output_type": "stream",
     "text": [
      "docid : 74f22819-1a8e-4646-8a9d-13323de8cdb8\n",
      "src : ko_ai2_arc__ARC_Challenge__validation\n",
      "content :\n",
      "비버는 나무를 베고, 덤불과 관목을 모아 강과 개울에 댐을 만드는 것으로 알려져 있습니다\n",
      "이러한 댐은 비버의 서식지를 만들어주고 다양한 동물들에게도 이점을 제공합니다\n",
      "그러나 최근에는 미국 내 비버 개체 수가 인간들에 의한 포획으로 인해 감소하고 있습니다\n",
      "이러한 비버 개체 수의 감소는 생태학적 결과에 영향을 미칠 수 있습니다\n",
      "\n",
      "\n",
      "가장 높은 가능성으로는 연못 서식지 수의 큰 감소가 있을 것입니다\n",
      "비버는 댐을 만들어 물을 얕은 연못으로 변화시키는데, 이는 다양한 수생 생물들에게 중요한 서식지를 제공합니다\n",
      "그러나 비버 개체 수의 감소로 인해 댐의 수가 줄어들게 되면 연못의 규모도 작아지게 됩니다\n",
      "이는 다양한 수생 생물들에게 영향을 미칠 수 있으며, 서식지 수의 큰 감소로 이어질 수 있습니다.\n",
      "\n",
      "따라서 비버 개체 수의 감소는 생태학적 결과로 연못 서식지 수의 큰 감소를 가져올 가능성이 가장 높습니다\n",
      "이는 생태계의 균형을 깨뜨릴 수 있으며, 다양한 생물들에게 영향을 미칠 수 있습니다.\n"
     ]
    }
   ],
   "source": [
    "select_doc_sample(documents_data, 4)"
   ]
  },
  {
   "cell_type": "code",
   "execution_count": 7,
   "metadata": {},
   "outputs": [
    {
     "name": "stdout",
     "output_type": "stream",
     "text": [
      "docid : c58ab6ec-4b3c-4561-96e7-a32829096032\n",
      "src : ko_ai2_arc__ARC_Challenge__test\n",
      "content :\n",
      "존은 한 시간 동안 시속 80킬로미터로 트럭을 운전했습니다\n",
      "그 다음 시간에는 시속 100킬로미터로 운전했습니다\n",
      "이렇게 두 시간 동안 그의 평균 속도를 계산해보면, (80 + 100) / 2 = 90킬로미터가 됩니다\n",
      "따라서, 존의 평균 속도는 시속 90킬로미터입니다.\n"
     ]
    }
   ],
   "source": [
    "select_doc_sample(documents_data, 52)"
   ]
  },
  {
   "cell_type": "code",
   "execution_count": 8,
   "metadata": {},
   "outputs": [],
   "source": [
    "documents_df = pd.DataFrame(documents_data)"
   ]
  },
  {
   "cell_type": "code",
   "execution_count": 9,
   "metadata": {},
   "outputs": [
    {
     "name": "stdout",
     "output_type": "stream",
     "text": [
      "문서 길이 분포 : \n",
      "count    4272.000000\n",
      "mean       74.742509\n",
      "std        25.024805\n",
      "min         9.000000\n",
      "25%        59.000000\n",
      "50%        71.000000\n",
      "75%        85.000000\n",
      "max       315.000000\n",
      "Name: content_length, dtype: float64\n"
     ]
    }
   ],
   "source": [
    "# 각 문서의 길이 (단어 수) 계산\n",
    "documents_df['content_length'] = documents_df['content'].apply(lambda x: len(x.split()))\n",
    "\n",
    "content_length_stats = documents_df['content_length'].describe()\n",
    "print(f\"문서 길이 분포 : \\n{content_length_stats}\")"
   ]
  },
  {
   "cell_type": "code",
   "execution_count": 10,
   "metadata": {},
   "outputs": [],
   "source": [
    "documents_df['cleaned_content'] = documents_df['content'].apply(lambda x: x.replace('\\n', ' ').replace('\\r', ' '))"
   ]
  },
  {
   "cell_type": "code",
   "execution_count": 11,
   "metadata": {},
   "outputs": [
    {
     "name": "stdout",
     "output_type": "stream",
     "text": [
      "-----원본-----\n",
      "비버는 나무를 베고, 덤불과 관목을 모아 강과 개울에 댐을 만드는 것으로 알려져 있습니다. 이러한 댐은 비버의 서식지를 만들어주고 다양한 동물들에게도 이점을 제공합니다. 그러나 최근에는 미국 내 비버 개체 수가 인간들에 의한 포획으로 인해 감소하고 있습니다. 이러한 비버 개체 수의 감소는 생태학적 결과에 영향을 미칠 수 있습니다. \n",
      "\n",
      "가장 높은 가능성으로는 연못 서식지 수의 큰 감소가 있을 것입니다. 비버는 댐을 만들어 물을 얕은 연못으로 변화시키는데, 이는 다양한 수생 생물들에게 중요한 서식지를 제공합니다. 그러나 비버 개체 수의 감소로 인해 댐의 수가 줄어들게 되면 연못의 규모도 작아지게 됩니다. 이는 다양한 수생 생물들에게 영향을 미칠 수 있으며, 서식지 수의 큰 감소로 이어질 수 있습니다.\n",
      "\n",
      "따라서 비버 개체 수의 감소는 생태학적 결과로 연못 서식지 수의 큰 감소를 가져올 가능성이 가장 높습니다. 이는 생태계의 균형을 깨뜨릴 수 있으며, 다양한 생물들에게 영향을 미칠 수 있습니다.\n",
      "\n",
      "-----개행문자 제거-----\n",
      "비버는 나무를 베고, 덤불과 관목을 모아 강과 개울에 댐을 만드는 것으로 알려져 있습니다. 이러한 댐은 비버의 서식지를 만들어주고 다양한 동물들에게도 이점을 제공합니다. 그러나 최근에는 미국 내 비버 개체 수가 인간들에 의한 포획으로 인해 감소하고 있습니다. 이러한 비버 개체 수의 감소는 생태학적 결과에 영향을 미칠 수 있습니다.   가장 높은 가능성으로는 연못 서식지 수의 큰 감소가 있을 것입니다. 비버는 댐을 만들어 물을 얕은 연못으로 변화시키는데, 이는 다양한 수생 생물들에게 중요한 서식지를 제공합니다. 그러나 비버 개체 수의 감소로 인해 댐의 수가 줄어들게 되면 연못의 규모도 작아지게 됩니다. 이는 다양한 수생 생물들에게 영향을 미칠 수 있으며, 서식지 수의 큰 감소로 이어질 수 있습니다.  따라서 비버 개체 수의 감소는 생태학적 결과로 연못 서식지 수의 큰 감소를 가져올 가능성이 가장 높습니다. 이는 생태계의 균형을 깨뜨릴 수 있으며, 다양한 생물들에게 영향을 미칠 수 있습니다.\n"
     ]
    }
   ],
   "source": [
    "print(\"-----원본-----\")\n",
    "print(documents_df.iloc[4]['content'])\n",
    "print()\n",
    "\n",
    "print(\"-----개행문자 제거-----\")\n",
    "print(documents_df.iloc[4]['cleaned_content'])"
   ]
  },
  {
   "cell_type": "code",
   "execution_count": 12,
   "metadata": {},
   "outputs": [],
   "source": [
    "documents_df.to_csv(\"../dataset/documents.csv\", index=False)"
   ]
  },
  {
   "cell_type": "markdown",
   "metadata": {},
   "source": [
    "# Eval 분석"
   ]
  },
  {
   "cell_type": "markdown",
   "metadata": {},
   "source": [
    "```eval.jsonl```의 구조\n",
    "\n",
    "- eval_idx : query id\n",
    "- msg : query(user와 assistant간 대화 메시지)\n",
    "\n",
    "20개의 멀티턴 대화, 20개의 과학 상식 이외 일상 대화 포함."
   ]
  },
  {
   "cell_type": "code",
   "execution_count": 13,
   "metadata": {},
   "outputs": [
    {
     "name": "stdout",
     "output_type": "stream",
     "text": [
      "220\n",
      "dict_keys(['eval_id', 'msg'])\n"
     ]
    }
   ],
   "source": [
    "eval_data = load_jsonl(eval_file)\n",
    "print(len(eval_data))\n",
    "print(eval_data[0].keys())"
   ]
  },
  {
   "cell_type": "code",
   "execution_count": 14,
   "metadata": {},
   "outputs": [
    {
     "name": "stdout",
     "output_type": "stream",
     "text": [
      "eval_id : 240\n",
      "msg :\n",
      "  -user : 글루텐이 에너지 흡수에 미치는 영향은?\n"
     ]
    }
   ],
   "source": [
    "select_eval_sample(eval_data)"
   ]
  },
  {
   "cell_type": "code",
   "execution_count": 15,
   "metadata": {},
   "outputs": [
    {
     "name": "stdout",
     "output_type": "stream",
     "text": [
      "eval_id : 107\n",
      "msg :\n",
      "  -user : 기억 상실증 걸리면 너무 무섭겠다.\n",
      "  -assistant : 네 맞습니다.\n",
      "  -user : 어떤 원인 때문에 발생하는지 궁금해.\n"
     ]
    }
   ],
   "source": [
    "select_eval_sample(eval_data, 2)"
   ]
  }
 ],
 "metadata": {
  "kernelspec": {
   "display_name": "IR",
   "language": "python",
   "name": "python3"
  },
  "language_info": {
   "codemirror_mode": {
    "name": "ipython",
    "version": 3
   },
   "file_extension": ".py",
   "mimetype": "text/x-python",
   "name": "python",
   "nbconvert_exporter": "python",
   "pygments_lexer": "ipython3",
   "version": "3.9.19"
  }
 },
 "nbformat": 4,
 "nbformat_minor": 2
}
