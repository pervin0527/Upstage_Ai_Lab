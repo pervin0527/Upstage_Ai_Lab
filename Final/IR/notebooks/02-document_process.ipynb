{
 "cells": [
  {
   "cell_type": "code",
   "execution_count": 1,
   "metadata": {},
   "outputs": [
    {
     "name": "stdout",
     "output_type": "stream",
     "text": [
      "The token has not been saved to the git credentials helper. Pass `add_to_git_credential=True` in this function directly or `--add-to-git-credential` if using via `huggingface-cli` if you want to set the git credential as well.\n",
      "Token is valid (permission: read).\n",
      "Your token has been saved to /home/pervinco/.cache/huggingface/token\n",
      "Login successful\n"
     ]
    }
   ],
   "source": [
    "import os\n",
    "import torch\n",
    "import huggingface_hub\n",
    "\n",
    "import json\n",
    "import pandas as pd\n",
    "\n",
    "from langchain.vectorstores import Chroma ## Vector DB : Chroma\n",
    "from langchain.prompts import PromptTemplate\n",
    "from langchain.schema import BaseOutputParser\n",
    "from langchain.embeddings import HuggingFaceEmbeddings\n",
    "from langchain.schema.runnable import RunnablePassthrough\n",
    "from langchain_huggingface.llms import HuggingFacePipeline\n",
    "\n",
    "from transformers import AutoTokenizer, AutoModelForCausalLM, pipeline\n",
    "\n",
    "from dotenv import load_dotenv\n",
    "load_dotenv(\"../keys.env\")\n",
    "\n",
    "openai_api_key = os.getenv('OPENAI_API_KEY')\n",
    "os.environ['OPENAI_API_KEY'] = openai_api_key\n",
    "\n",
    "hf_token = os.getenv(\"HF_TOKEN\")\n",
    "huggingface_hub.login(hf_token)"
   ]
  },
  {
   "cell_type": "markdown",
   "metadata": {},
   "source": [
    "## docuemnt 데이터 로드"
   ]
  },
  {
   "cell_type": "code",
   "execution_count": 2,
   "metadata": {},
   "outputs": [
    {
     "name": "stdout",
     "output_type": "stream",
     "text": [
      "4272\n"
     ]
    }
   ],
   "source": [
    "def load_jsonl(file_path):\n",
    "    with open(file_path, 'r', encoding='utf-8') as f:\n",
    "        return [json.loads(line) for line in f]\n",
    "    \n",
    "doc_file = \"../dataset/documents.jsonl\"\n",
    "doc_data = load_jsonl(doc_file)\n",
    "print(len(doc_data))"
   ]
  },
  {
   "cell_type": "markdown",
   "metadata": {},
   "source": [
    "## document encoder 로드"
   ]
  },
  {
   "cell_type": "code",
   "execution_count": 3,
   "metadata": {},
   "outputs": [
    {
     "name": "stderr",
     "output_type": "stream",
     "text": [
      "/tmp/ipykernel_878278/1514507377.py:5: LangChainDeprecationWarning: The class `HuggingFaceEmbeddings` was deprecated in LangChain 0.2.2 and will be removed in 1.0. An updated version of the class exists in the :class:`~langchain-huggingface package and should be used instead. To use it run `pip install -U :class:`~langchain-huggingface` and import as `from :class:`~langchain_huggingface import HuggingFaceEmbeddings``.\n",
      "  embedding_model = HuggingFaceEmbeddings(model_name=model_name, model_kwargs=model_kwargs, encode_kwargs=encode_kwargs)\n",
      "/home/pervinco/miniconda3/envs/IR/lib/python3.9/site-packages/transformers/tokenization_utils_base.py:1617: FutureWarning: `clean_up_tokenization_spaces` was not set. It will be set to `True` by default. This behavior will be deprecated in transformers v4.45, and will be then set to `False` by default. For more details check this issue: https://github.com/huggingface/transformers/issues/31884\n",
      "  warnings.warn(\n"
     ]
    }
   ],
   "source": [
    "model_name = \"jhgan/ko-sroberta-multitask\"\n",
    "model_kwargs = {\"device\" : \"cuda:0\"}\n",
    "encode_kwargs = {\"normalize_embeddings\" : False}\n",
    "\n",
    "embedding_model = HuggingFaceEmbeddings(model_name=model_name, model_kwargs=model_kwargs, encode_kwargs=encode_kwargs)"
   ]
  },
  {
   "cell_type": "markdown",
   "metadata": {},
   "source": [
    "## vector db 정의 및 임베딩 벡터 저장"
   ]
  },
  {
   "cell_type": "code",
   "execution_count": 4,
   "metadata": {},
   "outputs": [],
   "source": [
    "contents = [doc['content'] for doc in doc_data]\n",
    "\n",
    "vector_db = Chroma.from_texts(texts=contents, embedding=embedding_model)\n",
    "retriever = vector_db.as_retriever(search_kwargs={\"k\" : 10})"
   ]
  },
  {
   "cell_type": "code",
   "execution_count": 5,
   "metadata": {},
   "outputs": [
    {
     "name": "stdout",
     "output_type": "stream",
     "text": [
      "벡터 DB에 저장된 벡터의 수: 4272\n",
      "입력한 텍스트의 수: 4272\n"
     ]
    }
   ],
   "source": [
    "# 벡터 DB에 저장된 벡터의 수를 확인\n",
    "vector_count = vector_db._collection.count()\n",
    "print(f\"벡터 DB에 저장된 벡터의 수: {vector_count}\")\n",
    "print(f\"입력한 텍스트의 수: {len(contents)}\")"
   ]
  },
  {
   "cell_type": "markdown",
   "metadata": {},
   "source": [
    "## LLama 3.1"
   ]
  },
  {
   "cell_type": "code",
   "execution_count": 6,
   "metadata": {},
   "outputs": [
    {
     "data": {
      "application/vnd.jupyter.widget-view+json": {
       "model_id": "669193f8e1e4439390e104132485b7a9",
       "version_major": 2,
       "version_minor": 0
      },
      "text/plain": [
       "Loading checkpoint shards:   0%|          | 0/4 [00:00<?, ?it/s]"
      ]
     },
     "metadata": {},
     "output_type": "display_data"
    }
   ],
   "source": [
    "model_id = \"meta-llama/Llama-3.1-8B-Instruct\"\n",
    "\n",
    "tokenizer = AutoTokenizer.from_pretrained(model_id)\n",
    "model = AutoModelForCausalLM.from_pretrained(model_id, \n",
    "                                             torch_dtype=torch.float16, \n",
    "                                             device_map=\"auto\")"
   ]
  },
  {
   "cell_type": "code",
   "execution_count": 7,
   "metadata": {},
   "outputs": [
    {
     "name": "stdout",
     "output_type": "stream",
     "text": [
      "검색 결과 1: 에너지 전달은 다양한 형태와 방식으로 이루어집니다. 에너지는 한 형태에서 다른 형태로 전달될 수 있으며, 이는 우리 일상 생활에서도 많이 경험할 수 있습니다. 예를 들어, 태양에서 나오는 에너지는 태양광 전지를 통해 전기 에너지로 변환될 수 있습니다. 또한, 운동 에너지는 자전거의 페달을 밟으면서 전기 에너지로 변환될 수 있습니다. 이처럼 에너지 전달은 다양한 종류와 방식을 가지고 있습니다.\n",
      "\n",
      "하지만, 모든 종류의 에너지 전달을 가장 알맞게 설명하는 명제는 '사용할 수 있는 에너지의 감소를 초래합니다.'입니다. 에너지는 전달되는 과정에서 일부가 손실되기 때문에, 전달된 에너지의 양은 원래의 양보다 적어집니다. 이러한 손실은 에너지의 효율성을 나타내는 중요한 요소 중 하나입니다. 에너지 전달 과정에서 발생하는 손실을 최소화하기 위해 우리는 다양한 기술과 방법을 개발하고 연구하고 있습니다.\n",
      "\n",
      "에너지 전달은 우리의 삶과 사회에 매우 중요한 역할을 합니다. 우리는 에너지를 사용하여 가정이나 사무실을 데워주고, 차량을 움직이게 하며, 전자기기를 작동시킵니다. 따라서, 에너지 전달에 대한 이해와 연구는 우리의 삶의 질을 향상시키는 데에 큰 도움이 될 것입니다.\n",
      "검색 결과 2: 많은 국가가 화석 연료 에너지에 의존하고 있습니다. 그러나 일부 과학자들은 대신 재생 가능한 에너지원을 사용하는 것을 제안합니다. 그 이유는 환경에 더 안전하기 때문입니다. 재생 가능한 에너지원은 태양, 바람, 수력 등과 같은 자연의 자원을 이용하여 에너지를 생산합니다. 이러한 에너지원은 화석 연료와 달리 대기 오염, 온실 가스 배출, 지구 온난화 등의 부작용을 최소화합니다. 또한, 재생 가능한 에너지원은 무한히 사용할 수 있으며, 고갈되지 않습니다. 이는 에너지 안정성과 경제적 이익을 제공합니다. 따라서, 과학자들은 재생 가능한 에너지원 사용을 제안하고 있습니다.\n",
      "검색 결과 3: 에너지를 잘 흡수하는 객체는 잘 방사한다. 이는 에너지 보존의 법칙에 따라서 발생하는 현상이다. 에너지를 흡수하는 객체는 외부에서 들어오는 에너지를 흡수하여 내부에 저장하고, 이후에 필요한 시점에 다시 방출한다. 이러한 특성을 가진 객체는 다양한 분야에서 활용되고 있다. 예를 들어, 태양광 패널은 태양으로부터 에너지를 흡수하여 전기 에너지로 변환하는데 사용된다. 또한, 열 전달을 효율적으로 이루어지게 하기 위해 열 흡수체가 사용된다. 이러한 객체들은 에너지의 효율적인 이용을 가능하게 하며, 지속 가능한 에너지 시스템의 구축에 기여한다.\n",
      "검색 결과 4: 자동차 엔진은 시동이 걸리면 가솔린과 공기가 혼합되어 연소됩니다. 이 과정에서 열, 소리, 그리고 화학 제품이 방출됩니다. 그러나 엔진이 작동할 때 이 중 어느 것이 일정하게 유지되는지는 에너지 총량입니다. 에너지 총량은 시동이 걸린 후부터 엔진이 꺼질 때까지 변하지 않습니다. 이는 엔진의 효율성과 성능을 결정하는 중요한 요소입니다. 따라서 자동차 엔진의 작동 원리를 이해하고 유지보수를 위해서는 에너지 총량에 대한 이해가 필요합니다.\n",
      "검색 결과 5: 바람은 체사피크만의 남동쪽 해안에 이득을 주는 천연자원입니다. 이 바람은 어떤 방식으로 인간에게 가장 크게 이득을 줄까요? 바람은 전기 에너지로 변환될 수 있습니다. 바람은 풍력 발전기를 통해 전기로 변환될 수 있습니다. 풍력 발전기는 바람의 에너지를 이용하여 회전하는 발전기입니다. 회전하는 발전기는 전기를 생산하고 이를 인간이 사용할 수 있는 전기로 변환합니다. 이렇게 바람의 에너지를 전기로 변환함으로써 인간은 청정하고 지속 가능한 에너지를 얻을 수 있습니다. 바람의 에너지는 환경에 미치는 영향도 적고, 재생 가능한 에너지원으로 인간의 에너지 수요를 충족시킬 수 있습니다. 따라서 바람은 인간에게 가장 크게 이득을 주는 천연자원 중 하나입니다.\n",
      "검색 결과 6: 에너지 회사들은 종종 다양한 자원으로부터 전기를 생산합니다. 이러한 자원에는 풍력, 태양열, 수력, 화력 등이 포함됩니다. 그 중에서도 풍력은 대기질을 가장 크게 향상시키는 자원입니다. 풍력 발전은 바람의 힘을 이용하여 전기를 생산하는 것으로, 이는 환경에 친화적이며 대기질 오염을 최소화하는 방법 중 하나입니다. 바람은 자연적으로 발생하는 자원이기 때문에 에너지 회사들은 풍력 발전을 통해 지속 가능한 전기 생산을 실현할 수 있습니다. 풍력 발전소는 풍량이 많은 지역에 설치되며, 바람이 불면 터빈이 회전하여 전기를 생산합니다. 이러한 풍력 발전소는 대기질을 개선하고 환경을 보호하는 데 큰 역할을 합니다. 따라서, 풍력은 대기질을 가장 크게 향상시키는 자원으로 알려져 있습니다.\n",
      "검색 결과 7: 태양열 발전은 환경에 가장 적은 해를 끼치는 전기원 중 하나입니다. 태양열 발전은 태양에서 나오는 에너지를 이용하여 전기를 생산하는 과정입니다. 이 방식은 화석 연료를 사용하지 않으며, 이산화탄소와 같은 온실가스를 배출하지 않습니다. 따라서 태양열 발전은 대기 오염과 기후 변화에 큰 영향을 미치지 않습니다. 또한, 태양은 무한한 자원이기 때문에 태양열 발전은 지속 가능한 에너지 소스입니다. 태양열 발전은 환경 보호와 에너지 절약을 동시에 실현할 수 있는 효과적인 전기원입니다.\n",
      "검색 결과 8: 에너지는 자연 현상의 기본 원리로, 열, 빛, 소리는 모두 에너지의 다른 형태입니다. 열은 물체의 분자 운동으로 인해 발생하는 에너지 형태이며, 빛은 전자의 움직임으로 인해 발생하는 전자기파의 형태입니다. 소리는 물체의 진동으로 인해 발생하는 에너지 형태입니다. 이러한 현상들은 모두 에너지의 변환과 전달에 의해 발생하며, 우리 주변에서 끊임없이 일어나고 있습니다. 에너지는 우리 생활에 꼭 필요한 요소이며, 자연과학의 중요한 개념입니다.\n",
      "검색 결과 9: 재생 가능 자원을 이용하는 것은 많은 장점을 가지고 있습니다. 첫째, 재생 가능 자원은 오랜 세월 동안 사용할 수 있습니다. 이는 자원의 지속적인 공급을 보장하며, 우리의 에너지 소비를 지속 가능한 수준으로 유지할 수 있습니다. 둘째, 재생 가능 자원은 환경에 친숙합니다. 이는 이산화탄소 배출을 줄이고 대기 오염을 감소시킴으로써 지구 온난화와 대기 오염 문제를 완화하는 데 도움이 됩니다. 셋째, 재생 가능 자원은 경제적으로 이점이 있습니다. 이는 신규 산업을 육성하고 일자리를 창출함으로써 경제 성장을 촉진하는 데 도움이 됩니다. 따라서 재생 가능 자원을 이용하는 것은 우리의 미래를 위한 지속 가능한 선택입니다.\n",
      "검색 결과 10: 학교를 개선하여 재생 불가능한 자원 소비를 감소시키는 가장 효과적인 방법은 태양광 수집 패널을 설치하는 것입니다. 태양광 수집 패널은 태양의 에너지를 수집하여 전기로 변환하는 장치로, 학교에서 사용되는 전기를 공급하는 데 사용될 수 있습니다. 이를 통해 학교는 전력 소비를 줄이고 재생 가능한 에너지를 활용할 수 있습니다. 태양광 수집 패널은 지속 가능한 에너지 소스로 인정받고 있으며, 태양광 발전은 환경에 친화적이고 오랜 기간 동안 사용할 수 있는 에너지 솔루션입니다. 학교가 태양광 수집 패널을 설치함으로써 학생들에게 환경 보호의 중요성을 가르치고, 재생 불가능한 자원 소비를 감소시키는 모범을 보여줄 수 있습니다. 이를 통해 학교는 지속 가능한 개발을 실현하고, 미래 세대에게 더 나은 환경을 남길 수 있습니다.\n"
     ]
    },
    {
     "name": "stderr",
     "output_type": "stream",
     "text": [
      "/tmp/ipykernel_878278/3692756873.py:3: LangChainDeprecationWarning: The method `BaseRetriever.get_relevant_documents` was deprecated in langchain-core 0.1.46 and will be removed in 1.0. Use :meth:`~invoke` instead.\n",
      "  results = retriever.get_relevant_documents(query)\n"
     ]
    }
   ],
   "source": [
    "# 임의의 쿼리로 벡터 DB에서 검색\n",
    "query = \"에너지 균형을 유지하는 방법은 무엇인가요?\"\n",
    "results = retriever.get_relevant_documents(query)\n",
    "\n",
    "# 검색 결과 출력\n",
    "for idx, result in enumerate(results):\n",
    "    print(f\"검색 결과 {idx + 1}: {result.page_content}\")"
   ]
  },
  {
   "cell_type": "markdown",
   "metadata": {},
   "source": [
    "## Tokenizer와 Model을 Langchain에 연동"
   ]
  },
  {
   "cell_type": "code",
   "execution_count": 8,
   "metadata": {},
   "outputs": [],
   "source": [
    "pipe = pipeline(\"text-generation\", model=model, tokenizer=tokenizer, max_new_tokens=320)\n",
    "hf = HuggingFacePipeline(pipeline=pipe)"
   ]
  },
  {
   "cell_type": "markdown",
   "metadata": {},
   "source": [
    "## Prompt"
   ]
  },
  {
   "cell_type": "code",
   "execution_count": 9,
   "metadata": {},
   "outputs": [],
   "source": [
    "template = \"\"\"다음과 같은 맥락을 사용해서 마지막 질문에 대답하세요.\n",
    "    {context}\n",
    "    질문: {question}\n",
    "    도움이 되는 답변: \"\"\"\n",
    "\n",
    "rag_prompt = PromptTemplate.from_template(template)"
   ]
  },
  {
   "cell_type": "code",
   "execution_count": 10,
   "metadata": {},
   "outputs": [],
   "source": [
    "class CustomOutputParser(BaseOutputParser):\n",
    "    def parse(self, text: str):\n",
    "        split_text = text.split(\"도움이 되는 답변:\", 1)\n",
    "\n",
    "        if len(split_text) > 1:\n",
    "            return split_text[1].strip()\n",
    "        else:\n",
    "            return text\n",
    "        \n",
    "output_parser = CustomOutputParser()"
   ]
  },
  {
   "cell_type": "code",
   "execution_count": 11,
   "metadata": {},
   "outputs": [],
   "source": [
    "rag_chain = {\"context\" : retriever, \"question\" : RunnablePassthrough()} | rag_prompt | hf | output_parser"
   ]
  },
  {
   "cell_type": "code",
   "execution_count": 12,
   "metadata": {},
   "outputs": [
    {
     "name": "stderr",
     "output_type": "stream",
     "text": [
      "Setting `pad_token_id` to `eos_token_id`:None for open-end generation.\n",
      "Starting from v4.46, the `logits` model output will have the same type as the model (except at train time, where it will always be FP32)\n"
     ]
    },
    {
     "data": {
      "text/plain": [
       "'1-2주의 기간 동안 식단과 운동을 조절해야 합니다. 건강한 사람이 에너지 균형을 평형 상태로 유지하는 것이 중요합니다. 에너지 균형은 에너지 섭취와 에너지 소비의 수학적 동등성을 의미합니다. 일반적으로 건강한 사람은 1-2주의 기간 동안 에너지 균형을 달성합니다. 이 기간 동안에는 올바른 식단과 적절한 운동을 통해 에너지 섭취와 에너지 소비를 조절해야 합니다. 식단은 영양가 있는 식품을 포함하고, 적절한 칼로리를 섭취해야 합니다. 또한, 운동은 에너지 소비를 촉진시키고 근육을 강화시킵니다. 이렇게 에너지 균형을 유지하면 건강을 유지하고 비만이나 영양 실조와 같은 문제를 예방할 수 있습니다. 따라서 건강한 사람은 에너지 균형을 평형 상태로 유지하는 것이 중요하며, 이를 위해 1-2주의 기간 동안 식단과 운동을 조절해야 합니다.\\n    답변의 문장 수: 6\\n    답변의 단어 수: 126\\n    답변의 문장 길이: 25.0\\n    답변의 단어 길이: 5.5\\n    답변의 문장 수준: 8.0\\n    답변의 단어 수준: 9.0\\n    답변의 문'"
      ]
     },
     "execution_count": 12,
     "metadata": {},
     "output_type": "execute_result"
    }
   ],
   "source": [
    "rag_chain.invoke(\"건강한 사람이 에너지 균형을 평형 상태로 유지하는 것이 중요해??\")"
   ]
  },
  {
   "cell_type": "code",
   "execution_count": null,
   "metadata": {},
   "outputs": [],
   "source": []
  }
 ],
 "metadata": {
  "kernelspec": {
   "display_name": "IR",
   "language": "python",
   "name": "python3"
  },
  "language_info": {
   "codemirror_mode": {
    "name": "ipython",
    "version": 3
   },
   "file_extension": ".py",
   "mimetype": "text/x-python",
   "name": "python",
   "nbconvert_exporter": "python",
   "pygments_lexer": "ipython3",
   "version": "3.9.19"
  }
 },
 "nbformat": 4,
 "nbformat_minor": 2
}
