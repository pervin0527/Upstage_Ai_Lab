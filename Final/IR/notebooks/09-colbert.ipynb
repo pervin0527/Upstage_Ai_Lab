{
 "cells": [
  {
   "cell_type": "code",
   "execution_count": 1,
   "metadata": {},
   "outputs": [],
   "source": [
    "import os\n",
    "import json\n",
    "import random\n",
    "import colbert\n",
    "import numpy as np\n",
    "import pandas as pd\n",
    "\n",
    "import matplotlib.cm as cm\n",
    "import matplotlib.pyplot as plt\n",
    "\n",
    "from sklearn.manifold import TSNE\n",
    "\n",
    "from colbert import Indexer, Searcher\n",
    "from colbert.data import Queries, Collection\n",
    "from colbert.infra import Run, RunConfig, ColBERTConfig\n",
    "\n",
    "from matplotlib import font_manager, rc\n",
    "font_path = '/usr/share/fonts/truetype/nanum/NanumGothic.ttf'\n",
    "font = font_manager.FontProperties(fname = font_path).get_name()\n",
    "rc('font', family = font)"
   ]
  },
  {
   "cell_type": "code",
   "execution_count": 2,
   "metadata": {},
   "outputs": [],
   "source": [
    "file_path = '../dataset/labeled_documents.jsonl'\n",
    "data = pd.read_json(file_path, lines=True)\n",
    "\n",
    "documents = data['content'].tolist()\n",
    "queries = data['question'].tolist()"
   ]
  },
  {
   "cell_type": "code",
   "execution_count": null,
   "metadata": {},
   "outputs": [],
   "source": [
    "documents"
   ]
  },
  {
   "cell_type": "code",
   "execution_count": 4,
   "metadata": {},
   "outputs": [],
   "source": [
    "# Triples 데이터를 리스트 형식으로 변환\n",
    "triples_data = []\n",
    "for q_idx, query in enumerate(queries):\n",
    "    pos_idx = q_idx  # Positive example은 동일 문서의 인덱스\n",
    "    \n",
    "    # Negative example은 다른 문서의 인덱스 선택\n",
    "    neg_idx = random.randint(0, len(documents) - 1)\n",
    "    while neg_idx == pos_idx:  # Negative example이 positive와 같으면 안 됨\n",
    "        neg_idx = random.randint(0, len(documents) - 1)\n",
    "    \n",
    "    # [query_idx, positive_idx, negative_idx] 형식으로 저장\n",
    "    # triples_data.append([q_idx, pos_idx, neg_idx])\n",
    "    triples_data.append(f'{q_idx}, {pos_idx}, {neg_idx}')"
   ]
  },
  {
   "cell_type": "code",
   "execution_count": 5,
   "metadata": {},
   "outputs": [],
   "source": [
    "# ColBERT 학습을 위하여 학습 데이터를 파일에 저장\n",
    "collection_file = '../dataset/collection.tsv'\n",
    "query_file = '../dataset/query.tsv'\n",
    "triples_file = '../dataset/triples'\n",
    "\n",
    "with open(collection_file, 'w') as f:\n",
    "  for i,item in enumerate(documents):\n",
    "    f.write(f'{i}\\t{item}\\n')\n",
    "\n",
    "with open(query_file, 'w') as f:\n",
    "  for i,item in enumerate(queries):\n",
    "    f.write(f'{i}\\t{item}\\n')\n",
    "\n",
    "with open(triples_file, 'w') as f:\n",
    "  for i,item in enumerate(triples_data):\n",
    "    f.write(f'[{item}]\\n')"
   ]
  },
  {
   "cell_type": "code",
   "execution_count": null,
   "metadata": {},
   "outputs": [],
   "source": [
    "from colbert import Trainer\n",
    "\n",
    "with Run().context(RunConfig(nranks=1, experiment=\"sample_ko_new\")):\n",
    "\n",
    "    config = ColBERTConfig(\n",
    "        bsize=24,\n",
    "        root=\"./experiments\",\n",
    "    )\n",
    "\n",
    "    trainer = Trainer(\n",
    "        triples=triples_file,\n",
    "        queries=query_file,\n",
    "        collection=collection_file,\n",
    "        config=config,\n",
    "    )\n",
    "\n",
    "    # Pretrained model을 한국어 기반 모델로 설정해 준다.\n",
    "    checkpoint_path = trainer.train(checkpoint='hunkim/sentence-transformer-klue')\n",
    "    print(f\"Saved checkpoint to {checkpoint_path}...\")"
   ]
  },
  {
   "cell_type": "code",
   "execution_count": null,
   "metadata": {},
   "outputs": [],
   "source": [
    "!find experiments/sample_ko_new -name colbert"
   ]
  },
  {
   "cell_type": "code",
   "execution_count": null,
   "metadata": {},
   "outputs": [
    {
     "ename": "",
     "evalue": "",
     "output_type": "error",
     "traceback": [
      "\u001b[1;31m현재 셀 또는 이전 셀에서 코드를 실행하는 동안 Kernel이 충돌했습니다. \n",
      "\u001b[1;31m셀의 코드를 검토하여 가능한 오류 원인을 식별하세요. \n",
      "\u001b[1;31m자세한 내용을 보려면 <a href='https://aka.ms/vscodeJupyterKernelCrash'>여기</a>를 클릭하세요. \n",
      "\u001b[1;31m자세한 내용은 Jupyter <a href='command:jupyter.viewOutput'>로그</a>를 참조하세요."
     ]
    }
   ],
   "source": [
    "checkpoint = './experiments/sample_ko_new/none/2024-10/06/13.57.50/checkpoints/colbert'\n",
    "index_name = 'sample_ko_new'\n",
    "\n",
    "with Run().context(RunConfig(nranks=1, experiment='notebook')):\n",
    "    config = ColBERTConfig(nbits=2, kmeans_niters=4)\n",
    "    indexer = Indexer(checkpoint=checkpoint, config=config)\n",
    "    indexer.index(name=index_name, collection=documents, overwrite=True)"
   ]
  },
  {
   "cell_type": "code",
   "execution_count": null,
   "metadata": {},
   "outputs": [],
   "source": [
    "with Run().context(RunConfig(experiment='notebook')):\n",
    "    searcher = Searcher(index=index_name, collection=documents)"
   ]
  },
  {
   "cell_type": "code",
   "execution_count": null,
   "metadata": {},
   "outputs": [],
   "source": [
    "# 문서 임베딩 추출: encode 메서드를 사용해 문서 임베딩을 추출합니다.\n",
    "document_embeddings = []\n",
    "for doc in documents:\n",
    "    # GPU에 있는 텐서를 CPU로 옮기고, numpy 배열로 변환 후 첫 번째 차원 제거\n",
    "    doc_embedding = searcher.encode([doc]).cpu().numpy().squeeze()  \n",
    "    document_embeddings.append(doc_embedding)\n",
    "\n",
    "# numpy 배열로 변환\n",
    "document_embeddings = np.vstack(document_embeddings)\n",
    "\n",
    "# 확인 출력\n",
    "print(f\"Document embeddings shape: {document_embeddings.shape}\")\n"
   ]
  },
  {
   "cell_type": "code",
   "execution_count": null,
   "metadata": {},
   "outputs": [],
   "source": [
    "# t-SNE 차원 축소\n",
    "tsne = TSNE(n_components=2, perplexity=30, n_iter=300)\n",
    "reduced_embeddings = tsne.fit_transform(document_embeddings)\n",
    "\n",
    "# 도메인별 색상 지정\n",
    "domains = [doc.metadata.get(\"domain\") for doc in documents]\n",
    "unique_domains = list(set(domains))\n",
    "colors = cm.rainbow(np.linspace(0, 1, len(unique_domains)))\n",
    "domain_to_color = {domain: color for domain, color in zip(unique_domains, colors)}\n",
    "\n",
    "# t-SNE 시각화\n",
    "plt.figure(figsize=(12, 8))\n",
    "for i, doc in enumerate(documents):\n",
    "    domain = doc.metadata.get(\"domain\")\n",
    "    color = domain_to_color.get(domain)\n",
    "    plt.scatter(reduced_embeddings[i, 0], reduced_embeddings[i, 1], color=color, label=domain, alpha=0.6, s=10)\n",
    "\n",
    "# 범례 추가 및 그래프 설정\n",
    "handles, labels = plt.gca().get_legend_handles_labels()\n",
    "by_label = dict(zip(labels, handles))\n",
    "plt.legend(by_label.values(), by_label.keys(), title=\"Domains\", bbox_to_anchor=(1.05, 1), loc='upper left', fontsize='small')\n",
    "plt.title('ColBERT Document Embeddings Visualization', fontsize=16)\n",
    "plt.xlabel('t-SNE Axis 1', fontsize=14)\n",
    "plt.ylabel('t-SNE Axis 2', fontsize=14)\n",
    "plt.grid(True)\n",
    "plt.tight_layout()\n",
    "plt.show()"
   ]
  },
  {
   "cell_type": "code",
   "execution_count": null,
   "metadata": {},
   "outputs": [],
   "source": []
  }
 ],
 "metadata": {
  "kernelspec": {
   "display_name": "IR",
   "language": "python",
   "name": "python3"
  },
  "language_info": {
   "codemirror_mode": {
    "name": "ipython",
    "version": 3
   },
   "file_extension": ".py",
   "mimetype": "text/x-python",
   "name": "python",
   "nbconvert_exporter": "python",
   "pygments_lexer": "ipython3",
   "version": "3.9.19"
  }
 },
 "nbformat": 4,
 "nbformat_minor": 2
}
