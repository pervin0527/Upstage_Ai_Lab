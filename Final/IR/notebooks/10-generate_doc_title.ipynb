{
 "cells": [
  {
   "cell_type": "code",
   "execution_count": 1,
   "metadata": {},
   "outputs": [
    {
     "name": "stdout",
     "output_type": "stream",
     "text": [
      "The token has not been saved to the git credentials helper. Pass `add_to_git_credential=True` in this function directly or `--add-to-git-credential` if using via `huggingface-cli` if you want to set the git credential as well.\n",
      "Token is valid (permission: read).\n",
      "Your token has been saved to /home/pervinco/.cache/huggingface/token\n",
      "Login successful\n"
     ]
    }
   ],
   "source": [
    "import os\n",
    "import re\n",
    "import json\n",
    "import huggingface_hub\n",
    "\n",
    "from tqdm import tqdm\n",
    "from openai import OpenAI\n",
    "\n",
    "from langchain.schema import Document\n",
    "\n",
    "from matplotlib import font_manager, rc\n",
    "font_path = '/usr/share/fonts/truetype/nanum/NanumGothic.ttf'\n",
    "font = font_manager.FontProperties(fname = font_path).get_name()\n",
    "rc('font', family = font)\n",
    "\n",
    "from dotenv import load_dotenv\n",
    "load_dotenv(\"../keys.env\")\n",
    "\n",
    "openai_api_key = os.getenv('OPENAI_API_KEY')\n",
    "os.environ['OPENAI_API_KEY'] = openai_api_key\n",
    "\n",
    "hf_token = os.getenv(\"HF_TOKEN\")\n",
    "huggingface_hub.login(hf_token)"
   ]
  },
  {
   "cell_type": "code",
   "execution_count": 2,
   "metadata": {},
   "outputs": [],
   "source": [
    "client = OpenAI()\n",
    "model = \"gpt-4o\""
   ]
  },
  {
   "cell_type": "code",
   "execution_count": 3,
   "metadata": {},
   "outputs": [],
   "source": [
    "def load_jsonl(file_path):\n",
    "    with open(file_path, 'r', encoding='utf-8') as f:\n",
    "        return [json.loads(line) for line in f]\n",
    "\n",
    "def load_document(path=\"../dataset/labeled_documents.jsonl\"):\n",
    "    raw_documents = load_jsonl(path)\n",
    "\n",
    "    documents = []\n",
    "    for doc in raw_documents:\n",
    "        doc_id = doc['docid']\n",
    "        content = doc['content']\n",
    "        domain = doc['domain']\n",
    "        label = doc['label']\n",
    "        question = doc['question']\n",
    "\n",
    "        documents.append(Document(page_content=content, metadata={\"docid\": doc_id, \"domain\" : domain, \"label\" : label, \"question\" : question}))\n",
    "\n",
    "    return documents"
   ]
  },
  {
   "cell_type": "code",
   "execution_count": 4,
   "metadata": {},
   "outputs": [],
   "source": [
    "def clean_json_response(response):\n",
    "    # 코드 블록(예: ```json, ```) 제거\n",
    "    cleaned_response = re.sub(r'```(?:json)?', '', response).strip()\n",
    "    return cleaned_response"
   ]
  },
  {
   "cell_type": "code",
   "execution_count": 5,
   "metadata": {},
   "outputs": [],
   "source": [
    "def generate_title(document, model:str, client:OpenAI):\n",
    "    prompt = (\n",
    "        \"당신은 주어진 문서를 읽고 이해하여 핵심을 파악하는 언어 전문가입니다.\"\n",
    "        \"주어진 문서를 읽은 후에 문서에 가장 적합한 제목 하나를 만들어야합니다. \"\n",
    "        \"반환하는 형식은 반드시 JSON 포맷이어야 하며, 모든 문자열은 쌍따옴표로 감싸야 합니다. \"\n",
    "        \"형식은 다음과 같아야 합니다: \"\n",
    "        '{ \"title\": \"생성한 제목\" }. '\n",
    "\n",
    "    )\n",
    "\n",
    "    completion = client.chat.completions.create(\n",
    "        model=model,\n",
    "        messages=[\n",
    "            {\"role\" : \"system\", \"content\" : prompt},\n",
    "            {\"role\" : \"user\", \"content\" : document}\n",
    "        ],\n",
    "    )\n",
    "    \n",
    "    response = completion.choices[0].message.content\n",
    "    response = clean_json_response(response)\n",
    "    \n",
    "    try:\n",
    "        json_response = json.loads(response)\n",
    "    except json.JSONDecodeError:\n",
    "        return {\"error\": \"Invalid JSON response\", \"response\": response}\n",
    "    \n",
    "    return json_response"
   ]
  },
  {
   "cell_type": "code",
   "execution_count": 6,
   "metadata": {},
   "outputs": [],
   "source": [
    "def process_documents(documents, model, client, output_path='titled_labeled_domain.jsonl'):\n",
    "    with open(output_path, 'w', encoding='utf-8') as outfile:\n",
    "        for doc in tqdm(documents):\n",
    "            document_content = doc.page_content\n",
    "            generated_title = generate_title(document_content, model, client)\n",
    "            \n",
    "            if \"title\" in generated_title:\n",
    "                # 문서에 생성한 제목을 추가\n",
    "                titled_content = f\"제목: {generated_title['title']}\\n\\n{document_content}\"\n",
    "                \n",
    "                # 새로운 문서 구조\n",
    "                titled_document = {\n",
    "                    \"docid\": doc.metadata[\"docid\"],\n",
    "                    \"content\": titled_content\n",
    "                }\n",
    "                \n",
    "                # 결과를 JSONL 형식으로 저장\n",
    "                json.dump(titled_document, outfile, ensure_ascii=False)\n",
    "                outfile.write('\\n')"
   ]
  },
  {
   "cell_type": "code",
   "execution_count": 7,
   "metadata": {},
   "outputs": [
    {
     "name": "stderr",
     "output_type": "stream",
     "text": [
      "100%|██████████| 4272/4272 [49:04<00:00,  1.45it/s]  \n"
     ]
    }
   ],
   "source": [
    "documents = load_document()\n",
    "process_documents(documents, model, client, output_path='titled_labeled_domain.jsonl')"
   ]
  }
 ],
 "metadata": {
  "kernelspec": {
   "display_name": "IR",
   "language": "python",
   "name": "python3"
  },
  "language_info": {
   "codemirror_mode": {
    "name": "ipython",
    "version": 3
   },
   "file_extension": ".py",
   "mimetype": "text/x-python",
   "name": "python",
   "nbconvert_exporter": "python",
   "pygments_lexer": "ipython3",
   "version": "3.9.19"
  }
 },
 "nbformat": 4,
 "nbformat_minor": 2
}
