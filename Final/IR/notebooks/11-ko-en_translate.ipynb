{
 "cells": [
  {
   "cell_type": "code",
   "execution_count": 1,
   "metadata": {},
   "outputs": [
    {
     "name": "stdout",
     "output_type": "stream",
     "text": [
      "The token has not been saved to the git credentials helper. Pass `add_to_git_credential=True` in this function directly or `--add-to-git-credential` if using via `huggingface-cli` if you want to set the git credential as well.\n",
      "Token is valid (permission: read).\n",
      "Your token has been saved to /home/pervinco/.cache/huggingface/token\n",
      "Login successful\n"
     ]
    }
   ],
   "source": [
    "import os\n",
    "import re\n",
    "import json\n",
    "import huggingface_hub\n",
    "\n",
    "from tqdm import tqdm\n",
    "from openai import OpenAI\n",
    "\n",
    "from langchain.schema import Document\n",
    "\n",
    "from matplotlib import font_manager, rc\n",
    "font_path = '/usr/share/fonts/truetype/nanum/NanumGothic.ttf'\n",
    "font = font_manager.FontProperties(fname = font_path).get_name()\n",
    "rc('font', family = font)\n",
    "\n",
    "from dotenv import load_dotenv\n",
    "load_dotenv(\"../keys.env\")\n",
    "\n",
    "openai_api_key = os.getenv('OPENAI_API_KEY')\n",
    "os.environ['OPENAI_API_KEY'] = openai_api_key\n",
    "\n",
    "hf_token = os.getenv(\"HF_TOKEN\")\n",
    "huggingface_hub.login(hf_token)"
   ]
  },
  {
   "cell_type": "code",
   "execution_count": 2,
   "metadata": {},
   "outputs": [],
   "source": [
    "client = OpenAI()\n",
    "model = \"gpt-4o\""
   ]
  },
  {
   "cell_type": "code",
   "execution_count": 3,
   "metadata": {},
   "outputs": [],
   "source": [
    "def load_jsonl(file_path):\n",
    "    with open(file_path, 'r', encoding='utf-8') as f:\n",
    "        return [json.loads(line) for line in f]\n",
    "\n",
    "def load_document(path=\"../dataset/labeled_documents.jsonl\"):\n",
    "    raw_documents = load_jsonl(path)\n",
    "\n",
    "    documents = []\n",
    "    for doc in raw_documents:\n",
    "        doc_id = doc['docid']\n",
    "        content = doc['content']\n",
    "\n",
    "        documents.append(Document(page_content=content, metadata={\"docid\": doc_id}))\n",
    "\n",
    "    return documents"
   ]
  },
  {
   "cell_type": "code",
   "execution_count": 4,
   "metadata": {},
   "outputs": [],
   "source": [
    "def clean_json_response(response):\n",
    "    # 코드 블록(예: ```json, ```) 제거\n",
    "    cleaned_response = re.sub(r'```(?:json)?', '', response).strip()\n",
    "    return cleaned_response\n",
    "\n",
    "def translate_ko2en_doc(document, model:str, client:OpenAI):\n",
    "    prompt = (\n",
    "        \"당신은 한국어를 영어로 번역하는 전문가입니다.\"\n",
    "        \"주어진 한국어 문서를 읽고 나서 가장 최고 품질의 영어 문서로 번역해야 합니다.\"\n",
    "        \"반환하는 형식은 반드시 JSON 포맷이어야 하며, 모든 문자열은 쌍따옴표로 감싸야 합니다. \"\n",
    "        \"형식은 다음과 같아야 합니다: \"\n",
    "        '{ \"translated_doc\": \"번역한 문서 내용\" }. '\n",
    "\n",
    "    )\n",
    "\n",
    "    completion = client.chat.completions.create(\n",
    "        model=model,\n",
    "        messages=[\n",
    "            {\"role\" : \"system\", \"content\" : prompt},\n",
    "            {\"role\" : \"user\", \"content\" : document}\n",
    "        ],\n",
    "    )\n",
    "    \n",
    "    response = completion.choices[0].message.content\n",
    "    response = clean_json_response(response)\n",
    "    \n",
    "    try:\n",
    "        json_response = json.loads(response)\n",
    "    except json.JSONDecodeError:\n",
    "        return {\"error\": \"Invalid JSON response\", \"response\": response}\n",
    "    \n",
    "    return json_response"
   ]
  },
  {
   "cell_type": "code",
   "execution_count": 5,
   "metadata": {},
   "outputs": [],
   "source": [
    "def process_documents(documents, model, client, output_path='../dataset/en_documents.jsonl'):\n",
    "    with open(output_path, 'w', encoding='utf-8') as outfile:\n",
    "        for doc in tqdm(documents):\n",
    "            ko_content = doc.page_content\n",
    "            translated = translate_ko2en_doc(ko_content, model, client)\n",
    "            \n",
    "            # 문서에 생성한 제목을 추가\n",
    "            en_content = translated[\"translated_doc\"]\n",
    "                \n",
    "            # 새로운 문서 구조\n",
    "            en_document = {\n",
    "                \"docid\": doc.metadata[\"docid\"],\n",
    "                \"content\": en_content,\n",
    "                \"ko_content\" : ko_content\n",
    "                }\n",
    "                \n",
    "            json.dump(en_document, outfile, ensure_ascii=False)\n",
    "            outfile.write('\\n')"
   ]
  },
  {
   "cell_type": "code",
   "execution_count": 6,
   "metadata": {},
   "outputs": [
    {
     "name": "stderr",
     "output_type": "stream",
     "text": [
      " 23%|██▎       | 997/4272 [28:41<1:34:16,  1.73s/it]\n"
     ]
    },
    {
     "ename": "KeyError",
     "evalue": "'translated_doc'",
     "output_type": "error",
     "traceback": [
      "\u001b[0;31m---------------------------------------------------------------------------\u001b[0m",
      "\u001b[0;31mKeyError\u001b[0m                                  Traceback (most recent call last)",
      "Cell \u001b[0;32mIn[6], line 2\u001b[0m\n\u001b[1;32m      1\u001b[0m documents \u001b[38;5;241m=\u001b[39m load_document()\n\u001b[0;32m----> 2\u001b[0m \u001b[43mprocess_documents\u001b[49m\u001b[43m(\u001b[49m\u001b[43mdocuments\u001b[49m\u001b[43m,\u001b[49m\u001b[43m \u001b[49m\u001b[43mmodel\u001b[49m\u001b[43m,\u001b[49m\u001b[43m \u001b[49m\u001b[43mclient\u001b[49m\u001b[43m)\u001b[49m\n",
      "Cell \u001b[0;32mIn[5], line 8\u001b[0m, in \u001b[0;36mprocess_documents\u001b[0;34m(documents, model, client, output_path)\u001b[0m\n\u001b[1;32m      5\u001b[0m translated \u001b[38;5;241m=\u001b[39m translate_ko2en_doc(ko_content, model, client)\n\u001b[1;32m      7\u001b[0m \u001b[38;5;66;03m# 문서에 생성한 제목을 추가\u001b[39;00m\n\u001b[0;32m----> 8\u001b[0m en_content \u001b[38;5;241m=\u001b[39m \u001b[43mtranslated\u001b[49m\u001b[43m[\u001b[49m\u001b[38;5;124;43m\"\u001b[39;49m\u001b[38;5;124;43mtranslated_doc\u001b[39;49m\u001b[38;5;124;43m\"\u001b[39;49m\u001b[43m]\u001b[49m\n\u001b[1;32m     10\u001b[0m \u001b[38;5;66;03m# 새로운 문서 구조\u001b[39;00m\n\u001b[1;32m     11\u001b[0m en_document \u001b[38;5;241m=\u001b[39m {\n\u001b[1;32m     12\u001b[0m     \u001b[38;5;124m\"\u001b[39m\u001b[38;5;124mdocid\u001b[39m\u001b[38;5;124m\"\u001b[39m: doc\u001b[38;5;241m.\u001b[39mmetadata[\u001b[38;5;124m\"\u001b[39m\u001b[38;5;124mdocid\u001b[39m\u001b[38;5;124m\"\u001b[39m],\n\u001b[1;32m     13\u001b[0m     \u001b[38;5;124m\"\u001b[39m\u001b[38;5;124mcontent\u001b[39m\u001b[38;5;124m\"\u001b[39m: en_content,\n\u001b[1;32m     14\u001b[0m     \u001b[38;5;124m\"\u001b[39m\u001b[38;5;124mko_content\u001b[39m\u001b[38;5;124m\"\u001b[39m : ko_content\n\u001b[1;32m     15\u001b[0m     }\n",
      "\u001b[0;31mKeyError\u001b[0m: 'translated_doc'"
     ]
    }
   ],
   "source": [
    "documents = load_document()\n",
    "process_documents(documents, model, client)"
   ]
  }
 ],
 "metadata": {
  "kernelspec": {
   "display_name": "IR",
   "language": "python",
   "name": "python3"
  },
  "language_info": {
   "codemirror_mode": {
    "name": "ipython",
    "version": 3
   },
   "file_extension": ".py",
   "mimetype": "text/x-python",
   "name": "python",
   "nbconvert_exporter": "python",
   "pygments_lexer": "ipython3",
   "version": "3.9.19"
  }
 },
 "nbformat": 4,
 "nbformat_minor": 2
}
