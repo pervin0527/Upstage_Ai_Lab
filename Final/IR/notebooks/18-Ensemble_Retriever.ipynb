{
 "cells": [
  {
   "cell_type": "code",
   "execution_count": 1,
   "metadata": {},
   "outputs": [
    {
     "name": "stdout",
     "output_type": "stream",
     "text": [
      "The token has not been saved to the git credentials helper. Pass `add_to_git_credential=True` in this function directly or `--add-to-git-credential` if using via `huggingface-cli` if you want to set the git credential as well.\n",
      "Token is valid (permission: read).\n",
      "Your token has been saved to /home/pervinco/.cache/huggingface/token\n",
      "Login successful\n"
     ]
    }
   ],
   "source": [
    "import os\n",
    "import re\n",
    "import json\n",
    "import faiss\n",
    "import traceback\n",
    "import huggingface_hub\n",
    "\n",
    "from openai import OpenAI\n",
    "\n",
    "from langchain.schema import Document\n",
    "from langchain.vectorstores import FAISS \n",
    "from langchain_openai import OpenAIEmbeddings\n",
    "from langchain.retrievers import EnsembleRetriever\n",
    "from langchain_community.retrievers import BM25Retriever\n",
    "from langchain_community.docstore.in_memory import InMemoryDocstore\n",
    "\n",
    "from langchain_openai import OpenAIEmbeddings\n",
    "from langchain_huggingface.embeddings import HuggingFaceEmbeddings\n",
    "\n",
    "from langchain_upstage import UpstageEmbeddings\n",
    "from langchain_community.embeddings import OllamaEmbeddings\n",
    "from langchain.retrievers import ContextualCompressionRetriever\n",
    "from langchain_community.cross_encoders import HuggingFaceCrossEncoder\n",
    "from langchain.retrievers.document_compressors import CrossEncoderReranker\n",
    "\n",
    "from dotenv import load_dotenv\n",
    "load_dotenv(\"../keys.env\")\n",
    "\n",
    "openai_api_key = os.getenv('OPENAI_API_KEY')\n",
    "os.environ['OPENAI_API_KEY'] = openai_api_key\n",
    "\n",
    "hf_token = os.getenv(\"HF_TOKEN\")\n",
    "huggingface_hub.login(hf_token)"
   ]
  },
  {
   "cell_type": "code",
   "execution_count": 2,
   "metadata": {},
   "outputs": [],
   "source": [
    "class Args:\n",
    "    retrieval_debug = False\n",
    "    llm_model = \"ollama\"\n",
    "    \n",
    "    src_lang = \"ko\"\n",
    "    if src_lang == \"en\":\n",
    "        eval_file_path = \"../dataset/eval.jsonl\" ## \"../dataset/en_eval.jsonl\" --> 성능이 별로임.\n",
    "        doc_file_path = \"../dataset/en_4.0_document.jsonl\" ## \"../dataset/processed_documents.jsonl\"\n",
    "    else:\n",
    "        eval_file_path = \"../dataset/eval.jsonl\"\n",
    "        doc_file_path = \"../dataset/processed_documents.jsonl\"\n",
    "\n",
    "    output_path = \"./outputs/output.csv\"\n",
    "\n",
    "    ## sparse or dense or ensemble\n",
    "    doc_method = \"ensemble\"\n",
    "\n",
    "    ## chunking\n",
    "    chunking = True\n",
    "    chunk_method = \"recursive\" ## recursive, semantic\n",
    "    semantic_chunk_method = \"huggingface\"\n",
    "    chunk_size = 300\n",
    "    chunk_overlap = 0\n",
    "\n",
    "    ## query expension\n",
    "    query_expansion = False\n",
    "\n",
    "    ## dense\n",
    "    encoder_method = \"huggingface\" ## huggingface, upstage, \n",
    "\n",
    "    ## HuggingFace\n",
    "    hf_model_name = \"intfloat/multilingual-e5-large-instruct\"\n",
    "    model_kwargs = {\"device\": \"cuda:0\"}\n",
    "    encode_kwargs = {\"normalize_embeddings\": False,\n",
    "                     \"clean_up_tokenization_spaces\": True}\n",
    "    \n",
    "    ## Upstage\n",
    "    upstage_model_name = \"solar-embedding-1-large-passage\"\n",
    "    faiss_index_file = \"./index_files/upstage-faiss.npy\"\n",
    "    \n",
    "    ## OpenAI\n",
    "    openai_model_name = \"text-embedding-3-large\"\n",
    "\n",
    "args = Args()"
   ]
  },
  {
   "cell_type": "code",
   "execution_count": 3,
   "metadata": {},
   "outputs": [
    {
     "name": "stdout",
     "output_type": "stream",
     "text": [
      "220\n",
      "dict_keys(['eval_id', 'msg'])\n",
      "4272\n",
      "dict_keys(['docid', 'src', 'content'])\n"
     ]
    }
   ],
   "source": [
    "def load_jsonl(file_path):\n",
    "    with open(file_path, 'r', encoding='utf-8') as f:\n",
    "        return [json.loads(line) for line in f]\n",
    "\n",
    "eval_data = load_jsonl(\"../dataset/eval.jsonl\")\n",
    "print(len(eval_data))\n",
    "print(eval_data[0].keys())\n",
    "\n",
    "doc_data = load_jsonl(\"../dataset/documents.jsonl\")\n",
    "print(len(doc_data))\n",
    "print(doc_data[0].keys())"
   ]
  },
  {
   "cell_type": "code",
   "execution_count": 4,
   "metadata": {},
   "outputs": [],
   "source": [
    "# 문서 로드\n",
    "raw_documents = load_jsonl('../dataset/processed_documents.jsonl')\n",
    "\n",
    "# 문서에서 docid를 포함한 Document 리스트 생성\n",
    "documents = []\n",
    "for doc in raw_documents:\n",
    "    doc_id = doc['docid']  # JSONL 파일에서 docid 추출\n",
    "    content = doc['content']  # 문서 내용 추출\n",
    "    documents.append(Document(page_content=content, metadata={\"doc_id\": doc_id}))"
   ]
  },
  {
   "cell_type": "code",
   "execution_count": 5,
   "metadata": {},
   "outputs": [],
   "source": [
    "def load_ollama_encoder(model_name):\n",
    "    encoder = OllamaEmbeddings(model_name)\n",
    "\n",
    "    return encoder\n",
    "\n",
    "def load_upstage_encoder(model_name):\n",
    "    encoder = UpstageEmbeddings(model=model_name)\n",
    "\n",
    "    return encoder\n",
    "\n",
    "def load_openai_encoder(model_name):\n",
    "    encoder = OpenAIEmbeddings(model=model_name)\n",
    "\n",
    "    return encoder\n",
    "\n",
    "def load_hf_encoder(model_name, model_kwargs, encode_kwargs):\n",
    "    encoder = HuggingFaceEmbeddings(model_name=model_name,\n",
    "                                    model_kwargs=model_kwargs,\n",
    "                                    encode_kwargs=encode_kwargs)\n",
    "    \n",
    "    return encoder\n",
    "\n",
    "def load_hf_reranker(model_name, retriever):\n",
    "    reranker = HuggingFaceCrossEncoder(model_name=model_name)\n",
    "    compressor = CrossEncoderReranker(model=reranker, top_n=3)\n",
    "    compression_retriever = ContextualCompressionRetriever(base_compressor=compressor, base_retriever=retriever.as_retriever(search_kwargs={\"k\": 10}))\n",
    "\n",
    "    return compression_retriever"
   ]
  },
  {
   "cell_type": "code",
   "execution_count": 6,
   "metadata": {},
   "outputs": [],
   "source": [
    "def score_normalizer(val: float) -> float:\n",
    "    return 1 / (1 + val)\n",
    "\n",
    "def load_sparse_model(documents):\n",
    "    from konlpy.tag import Okt\n",
    "    okt = Okt()\n",
    "    def tokenize(text):\n",
    "        tokens = okt.morphs(text)\n",
    "        return tokens\n",
    "\n",
    "    # retriever = KiwiBM25Retriever.from_documents(documents)\n",
    "    retriever = BM25Retriever.from_documents(documents, tokenizer=tokenize)\n",
    "    \n",
    "    return retriever\n",
    "\n",
    "def load_dense_model(args, documents):\n",
    "    if args.encoder_method == \"huggingface\":\n",
    "        encoder = load_hf_encoder(args.hf_model_name, args.model_kwargs, args.encode_kwargs)\n",
    "        print(f\"Embedding Model : {args.hf_model_name}\")\n",
    "\n",
    "    elif args.encoder_method == \"upstage\":\n",
    "        encoder = load_upstage_encoder(args.upstage_model_name)\n",
    "        print(f\"Embedding Model : {args.upstage_model_name}\")\n",
    "\n",
    "    elif args.encoder_method == \"openai\":\n",
    "        encoder = load_openai_encoder(args.openai_model_name)\n",
    "        print(f\"Embedding Model : {args.openai_model_name}\")\n",
    "\n",
    "    index = faiss.IndexFlatL2(len(encoder.embed_query(\"hello world\")))\n",
    "    vector_store = FAISS(\n",
    "        embedding_function=encoder,\n",
    "        index=index,\n",
    "        docstore=InMemoryDocstore(),\n",
    "        index_to_docstore_id={},\n",
    "        relevance_score_fn=score_normalizer\n",
    "    )\n",
    "    vector_store.add_documents(documents=documents)\n",
    "    retriever = vector_store\n",
    "\n",
    "    return retriever"
   ]
  },
  {
   "cell_type": "code",
   "execution_count": 7,
   "metadata": {},
   "outputs": [
    {
     "name": "stdout",
     "output_type": "stream",
     "text": [
      "Embedding Model : intfloat/multilingual-e5-large-instruct\n"
     ]
    }
   ],
   "source": [
    "sparse_retriever = load_sparse_model(documents)\n",
    "sparse_retriever.k = 2\n",
    "\n",
    "dense_retriever = load_dense_model(args, documents).as_retriever(search_kwargs={\"k\": 3})\n",
    "\n",
    "ensemble_retriever1 = EnsembleRetriever(\n",
    "    retrievers=[sparse_retriever, dense_retriever],  # 사용할 검색 모델의 리스트\n",
    "    weights=[0.5, 0.5],  # 각 검색 모델의 결과에 적용할 가중치\n",
    "    search_type=\"mmr\",  # 검색 결과의 다양성을 증진시키는 MMR 방식을 사용\n",
    ")\n",
    "\n",
    "ensemble_retriever2 = EnsembleRetriever(\n",
    "    retrievers=[sparse_retriever, dense_retriever],  # 사용할 검색 모델의 리스트\n",
    "    weights=[0.3, 0.7],  # 각 검색 모델의 결과에 적용할 가중치\n",
    "    search_type=\"mmr\",  # 검색 결과의 다양성을 증진시키는 MMR 방식을 사용\n",
    ")\n",
    "\n",
    "ensemble_retriever3 = EnsembleRetriever(\n",
    "    retrievers=[sparse_retriever, dense_retriever],  # 사용할 검색 모델의 리스트\n",
    "    weights=[0.7, 0.3],  # 각 검색 모델의 결과에 적용할 가중치\n",
    "    search_type=\"mmr\",  # 검색 결과의 다양성을 증진시키는 MMR 방식을 사용\n",
    ")"
   ]
  },
  {
   "cell_type": "code",
   "execution_count": 8,
   "metadata": {},
   "outputs": [],
   "source": [
    "retrievers = {\n",
    "    \"sparse\": sparse_retriever,\n",
    "    \"dense\": dense_retriever,\n",
    "    \"s5_d5_ensemble\" : ensemble_retriever1,\n",
    "    \"s3_d7_ensemble\" : ensemble_retriever2,\n",
    "    \"s7_d3_ensemble\" : ensemble_retriever3\n",
    "}"
   ]
  },
  {
   "cell_type": "code",
   "execution_count": 9,
   "metadata": {},
   "outputs": [],
   "source": [
    "def print_search_results(retrievers, query):\n",
    "    print(f\"Query : {query}\")\n",
    "    for name, retriever in retrievers.items():\n",
    "        results = retriever.invoke(query)\n",
    "        print(f\"{name} 결과:\")\n",
    "        for result in results:\n",
    "            print(f\"문서 ID: {result.metadata['doc_id']} 내용: {result.page_content}\")\n",
    "        print(\"===\" * 20)"
   ]
  },
  {
   "cell_type": "code",
   "execution_count": 10,
   "metadata": {},
   "outputs": [
    {
     "name": "stdout",
     "output_type": "stream",
     "text": [
      "Query : 글리코겐의 분해는 인체에서 왜 필요한가?\n",
      "sparse 결과:\n",
      "문서 ID: 045e9913-583c-4f28-b564-698ffad62567 내용: 호흡기는 기관륜에서 갑상선의 지협과 교차됩니다. 기관륜은 인체에서 가장 중요한 기관 중 하나로, 호흡과 관련된 기능을 담당합니다. 갑상선은 또한 인체에서 중요한 역할을 수행하는데, 호르몬 분비와 대사 조절 등 다양한 기능을 담당합니다. 호흡기와 갑상선은 서로 연결되어 있으며, 기관륜에서 교차되는 것으로 알려져 있습니다. 이 교차 지점은 인체에서 호흡과 갑상선 기능이 상호작용하는 중요한 지점입니다.\n",
      "문서 ID: 1f442344-084b-44f8-838b-332be289083c 내용: 근육에서의 글리코겐 분해는 초기에 포도당-1-인산염을 형성합니다. 이 과정은 근육 세포 내에서 일어나며, 에너지 생산을 위한 중요한 과정입니다. 글리코겐은 운동이나 기타 활동을 할 때 근육에서 사용되는 주요한 에너지원입니다. 글리코겐은 당분의 형태로 저장되어 있으며, 필요할 때 분해되어 포도당-1-인산염으로 변환됩니다. 이 과정은 글리코겐 분해 효소인 글리코겐 인산화 효소에 의해 촉진됩니다. 포도당-1-인산염은 근육 세포 내에서 에너지 생산에 사용되며, 근육 수축과 운동 능력을 유지하는 데 중요한 역할을 합니다. 따라서, 글리코겐 분해는 근육 세포에서 에너지 생산과 근육 기능을 유지하는 데 필수적인 과정입니다.\n",
      "============================================================\n",
      "dense 결과:\n",
      "문서 ID: 421aac6b-49ce-4697-a68f-850152f323d7 내용: 근육에서의 글리코겐 분해는 여러 가지 요인에 의해 활성화됩니다. 첫째, 운동 시 근육은 에너지를 필요로 하기 때문에 글리코겐을 분해하여 포도당으로 변환합니다. 둘째, 혈액 중의 인슐린 수준이 낮아지면 근육은 글리코겐을 분해하여 에너지를 생성합니다. 셋째, 근육 내부의 아디노신 모노인산(AMP) 수준이 증가하면 글리코겐 분해가 활성화됩니다. 따라서, 위의 어느 것도 아닌 것은 아닙니다.\n",
      "문서 ID: 1f442344-084b-44f8-838b-332be289083c 내용: 근육에서의 글리코겐 분해는 초기에 포도당-1-인산염을 형성합니다. 이 과정은 근육 세포 내에서 일어나며, 에너지 생산을 위한 중요한 과정입니다. 글리코겐은 운동이나 기타 활동을 할 때 근육에서 사용되는 주요한 에너지원입니다. 글리코겐은 당분의 형태로 저장되어 있으며, 필요할 때 분해되어 포도당-1-인산염으로 변환됩니다. 이 과정은 글리코겐 분해 효소인 글리코겐 인산화 효소에 의해 촉진됩니다. 포도당-1-인산염은 근육 세포 내에서 에너지 생산에 사용되며, 근육 수축과 운동 능력을 유지하는 데 중요한 역할을 합니다. 따라서, 글리코겐 분해는 근육 세포에서 에너지 생산과 근육 기능을 유지하는 데 필수적인 과정입니다.\n",
      "문서 ID: ddf87e75-a5a0-4d8c-af9c-0d901f568260 내용: 근육 글리코겐은 중등도에서 고강도 운동 중에 가장 많은 에너지를 제공하는 내성 기질 원입니다. 근육 글리코겐은 근육 내에 저장된 형태의 포도당입니다. 운동 중에 근육은 에너지를 필요로 합니다. 이때 근육 글리코겐은 주요한 에너지 공급원으로 작용합니다. 고강도 운동을 할 때 근육은 글리코겐을 분해하여 에너지를 생성합니다. 따라서 근육 글리코겐은 중등도에서 고강도 운동 중에 가장 많은 에너지를 제공하는 내성 기질 원입니다.\n",
      "============================================================\n",
      "s5_d5_ensemble 결과:\n",
      "문서 ID: 1f442344-084b-44f8-838b-332be289083c 내용: 근육에서의 글리코겐 분해는 초기에 포도당-1-인산염을 형성합니다. 이 과정은 근육 세포 내에서 일어나며, 에너지 생산을 위한 중요한 과정입니다. 글리코겐은 운동이나 기타 활동을 할 때 근육에서 사용되는 주요한 에너지원입니다. 글리코겐은 당분의 형태로 저장되어 있으며, 필요할 때 분해되어 포도당-1-인산염으로 변환됩니다. 이 과정은 글리코겐 분해 효소인 글리코겐 인산화 효소에 의해 촉진됩니다. 포도당-1-인산염은 근육 세포 내에서 에너지 생산에 사용되며, 근육 수축과 운동 능력을 유지하는 데 중요한 역할을 합니다. 따라서, 글리코겐 분해는 근육 세포에서 에너지 생산과 근육 기능을 유지하는 데 필수적인 과정입니다.\n",
      "문서 ID: 045e9913-583c-4f28-b564-698ffad62567 내용: 호흡기는 기관륜에서 갑상선의 지협과 교차됩니다. 기관륜은 인체에서 가장 중요한 기관 중 하나로, 호흡과 관련된 기능을 담당합니다. 갑상선은 또한 인체에서 중요한 역할을 수행하는데, 호르몬 분비와 대사 조절 등 다양한 기능을 담당합니다. 호흡기와 갑상선은 서로 연결되어 있으며, 기관륜에서 교차되는 것으로 알려져 있습니다. 이 교차 지점은 인체에서 호흡과 갑상선 기능이 상호작용하는 중요한 지점입니다.\n",
      "문서 ID: 421aac6b-49ce-4697-a68f-850152f323d7 내용: 근육에서의 글리코겐 분해는 여러 가지 요인에 의해 활성화됩니다. 첫째, 운동 시 근육은 에너지를 필요로 하기 때문에 글리코겐을 분해하여 포도당으로 변환합니다. 둘째, 혈액 중의 인슐린 수준이 낮아지면 근육은 글리코겐을 분해하여 에너지를 생성합니다. 셋째, 근육 내부의 아디노신 모노인산(AMP) 수준이 증가하면 글리코겐 분해가 활성화됩니다. 따라서, 위의 어느 것도 아닌 것은 아닙니다.\n",
      "문서 ID: ddf87e75-a5a0-4d8c-af9c-0d901f568260 내용: 근육 글리코겐은 중등도에서 고강도 운동 중에 가장 많은 에너지를 제공하는 내성 기질 원입니다. 근육 글리코겐은 근육 내에 저장된 형태의 포도당입니다. 운동 중에 근육은 에너지를 필요로 합니다. 이때 근육 글리코겐은 주요한 에너지 공급원으로 작용합니다. 고강도 운동을 할 때 근육은 글리코겐을 분해하여 에너지를 생성합니다. 따라서 근육 글리코겐은 중등도에서 고강도 운동 중에 가장 많은 에너지를 제공하는 내성 기질 원입니다.\n",
      "============================================================\n",
      "s3_d7_ensemble 결과:\n",
      "문서 ID: 1f442344-084b-44f8-838b-332be289083c 내용: 근육에서의 글리코겐 분해는 초기에 포도당-1-인산염을 형성합니다. 이 과정은 근육 세포 내에서 일어나며, 에너지 생산을 위한 중요한 과정입니다. 글리코겐은 운동이나 기타 활동을 할 때 근육에서 사용되는 주요한 에너지원입니다. 글리코겐은 당분의 형태로 저장되어 있으며, 필요할 때 분해되어 포도당-1-인산염으로 변환됩니다. 이 과정은 글리코겐 분해 효소인 글리코겐 인산화 효소에 의해 촉진됩니다. 포도당-1-인산염은 근육 세포 내에서 에너지 생산에 사용되며, 근육 수축과 운동 능력을 유지하는 데 중요한 역할을 합니다. 따라서, 글리코겐 분해는 근육 세포에서 에너지 생산과 근육 기능을 유지하는 데 필수적인 과정입니다.\n",
      "문서 ID: 421aac6b-49ce-4697-a68f-850152f323d7 내용: 근육에서의 글리코겐 분해는 여러 가지 요인에 의해 활성화됩니다. 첫째, 운동 시 근육은 에너지를 필요로 하기 때문에 글리코겐을 분해하여 포도당으로 변환합니다. 둘째, 혈액 중의 인슐린 수준이 낮아지면 근육은 글리코겐을 분해하여 에너지를 생성합니다. 셋째, 근육 내부의 아디노신 모노인산(AMP) 수준이 증가하면 글리코겐 분해가 활성화됩니다. 따라서, 위의 어느 것도 아닌 것은 아닙니다.\n",
      "문서 ID: ddf87e75-a5a0-4d8c-af9c-0d901f568260 내용: 근육 글리코겐은 중등도에서 고강도 운동 중에 가장 많은 에너지를 제공하는 내성 기질 원입니다. 근육 글리코겐은 근육 내에 저장된 형태의 포도당입니다. 운동 중에 근육은 에너지를 필요로 합니다. 이때 근육 글리코겐은 주요한 에너지 공급원으로 작용합니다. 고강도 운동을 할 때 근육은 글리코겐을 분해하여 에너지를 생성합니다. 따라서 근육 글리코겐은 중등도에서 고강도 운동 중에 가장 많은 에너지를 제공하는 내성 기질 원입니다.\n",
      "문서 ID: 045e9913-583c-4f28-b564-698ffad62567 내용: 호흡기는 기관륜에서 갑상선의 지협과 교차됩니다. 기관륜은 인체에서 가장 중요한 기관 중 하나로, 호흡과 관련된 기능을 담당합니다. 갑상선은 또한 인체에서 중요한 역할을 수행하는데, 호르몬 분비와 대사 조절 등 다양한 기능을 담당합니다. 호흡기와 갑상선은 서로 연결되어 있으며, 기관륜에서 교차되는 것으로 알려져 있습니다. 이 교차 지점은 인체에서 호흡과 갑상선 기능이 상호작용하는 중요한 지점입니다.\n",
      "============================================================\n",
      "s7_d3_ensemble 결과:\n",
      "문서 ID: 1f442344-084b-44f8-838b-332be289083c 내용: 근육에서의 글리코겐 분해는 초기에 포도당-1-인산염을 형성합니다. 이 과정은 근육 세포 내에서 일어나며, 에너지 생산을 위한 중요한 과정입니다. 글리코겐은 운동이나 기타 활동을 할 때 근육에서 사용되는 주요한 에너지원입니다. 글리코겐은 당분의 형태로 저장되어 있으며, 필요할 때 분해되어 포도당-1-인산염으로 변환됩니다. 이 과정은 글리코겐 분해 효소인 글리코겐 인산화 효소에 의해 촉진됩니다. 포도당-1-인산염은 근육 세포 내에서 에너지 생산에 사용되며, 근육 수축과 운동 능력을 유지하는 데 중요한 역할을 합니다. 따라서, 글리코겐 분해는 근육 세포에서 에너지 생산과 근육 기능을 유지하는 데 필수적인 과정입니다.\n",
      "문서 ID: 045e9913-583c-4f28-b564-698ffad62567 내용: 호흡기는 기관륜에서 갑상선의 지협과 교차됩니다. 기관륜은 인체에서 가장 중요한 기관 중 하나로, 호흡과 관련된 기능을 담당합니다. 갑상선은 또한 인체에서 중요한 역할을 수행하는데, 호르몬 분비와 대사 조절 등 다양한 기능을 담당합니다. 호흡기와 갑상선은 서로 연결되어 있으며, 기관륜에서 교차되는 것으로 알려져 있습니다. 이 교차 지점은 인체에서 호흡과 갑상선 기능이 상호작용하는 중요한 지점입니다.\n",
      "문서 ID: 421aac6b-49ce-4697-a68f-850152f323d7 내용: 근육에서의 글리코겐 분해는 여러 가지 요인에 의해 활성화됩니다. 첫째, 운동 시 근육은 에너지를 필요로 하기 때문에 글리코겐을 분해하여 포도당으로 변환합니다. 둘째, 혈액 중의 인슐린 수준이 낮아지면 근육은 글리코겐을 분해하여 에너지를 생성합니다. 셋째, 근육 내부의 아디노신 모노인산(AMP) 수준이 증가하면 글리코겐 분해가 활성화됩니다. 따라서, 위의 어느 것도 아닌 것은 아닙니다.\n",
      "문서 ID: ddf87e75-a5a0-4d8c-af9c-0d901f568260 내용: 근육 글리코겐은 중등도에서 고강도 운동 중에 가장 많은 에너지를 제공하는 내성 기질 원입니다. 근육 글리코겐은 근육 내에 저장된 형태의 포도당입니다. 운동 중에 근육은 에너지를 필요로 합니다. 이때 근육 글리코겐은 주요한 에너지 공급원으로 작용합니다. 고강도 운동을 할 때 근육은 글리코겐을 분해하여 에너지를 생성합니다. 따라서 근육 글리코겐은 중등도에서 고강도 운동 중에 가장 많은 에너지를 제공하는 내성 기질 원입니다.\n",
      "============================================================\n"
     ]
    }
   ],
   "source": [
    "print_search_results(retrievers, \"글리코겐의 분해는 인체에서 왜 필요한가?\")"
   ]
  },
  {
   "cell_type": "code",
   "execution_count": 11,
   "metadata": {},
   "outputs": [],
   "source": [
    "retrievers = {\n",
    "    \"s5_d5_ensemble\" : ensemble_retriever1,\n",
    "    \"s3_d7_ensemble\" : ensemble_retriever2,\n",
    "    \"s7_d3_ensemble\" : ensemble_retriever3\n",
    "}"
   ]
  },
  {
   "cell_type": "code",
   "execution_count": 12,
   "metadata": {},
   "outputs": [],
   "source": [
    "def print_search_results(retrievers, query):\n",
    "    print(f\"Query : {query}\")\n",
    "    for name, retriever in retrievers.items():\n",
    "        results = retriever.invoke(query)\n",
    "        print(f\"{name} 결과:\")\n",
    "        for result in results:\n",
    "            print(f\"문서 ID: {result.metadata['doc_id']} 점수 : {result.metadata['score']} 내용: {result.page_content}\")\n",
    "        print(\"===\" * 20)"
   ]
  },
  {
   "cell_type": "code",
   "execution_count": 13,
   "metadata": {},
   "outputs": [
    {
     "name": "stdout",
     "output_type": "stream",
     "text": [
      "Query : 글리코겐의 분해는 인체에서 왜 필요한가?\n",
      "s5_d5_ensemble 결과:\n",
      "문서 ID: 1f442344-084b-44f8-838b-332be289083c 점수 : 0.016129032258064516 내용: 근육에서의 글리코겐 분해는 초기에 포도당-1-인산염을 형성합니다. 이 과정은 근육 세포 내에서 일어나며, 에너지 생산을 위한 중요한 과정입니다. 글리코겐은 운동이나 기타 활동을 할 때 근육에서 사용되는 주요한 에너지원입니다. 글리코겐은 당분의 형태로 저장되어 있으며, 필요할 때 분해되어 포도당-1-인산염으로 변환됩니다. 이 과정은 글리코겐 분해 효소인 글리코겐 인산화 효소에 의해 촉진됩니다. 포도당-1-인산염은 근육 세포 내에서 에너지 생산에 사용되며, 근육 수축과 운동 능력을 유지하는 데 중요한 역할을 합니다. 따라서, 글리코겐 분해는 근육 세포에서 에너지 생산과 근육 기능을 유지하는 데 필수적인 과정입니다.\n",
      "문서 ID: 045e9913-583c-4f28-b564-698ffad62567 점수 : 0.00819672131147541 내용: 호흡기는 기관륜에서 갑상선의 지협과 교차됩니다. 기관륜은 인체에서 가장 중요한 기관 중 하나로, 호흡과 관련된 기능을 담당합니다. 갑상선은 또한 인체에서 중요한 역할을 수행하는데, 호르몬 분비와 대사 조절 등 다양한 기능을 담당합니다. 호흡기와 갑상선은 서로 연결되어 있으며, 기관륜에서 교차되는 것으로 알려져 있습니다. 이 교차 지점은 인체에서 호흡과 갑상선 기능이 상호작용하는 중요한 지점입니다.\n",
      "문서 ID: 421aac6b-49ce-4697-a68f-850152f323d7 점수 : 0.00819672131147541 내용: 근육에서의 글리코겐 분해는 여러 가지 요인에 의해 활성화됩니다. 첫째, 운동 시 근육은 에너지를 필요로 하기 때문에 글리코겐을 분해하여 포도당으로 변환합니다. 둘째, 혈액 중의 인슐린 수준이 낮아지면 근육은 글리코겐을 분해하여 에너지를 생성합니다. 셋째, 근육 내부의 아디노신 모노인산(AMP) 수준이 증가하면 글리코겐 분해가 활성화됩니다. 따라서, 위의 어느 것도 아닌 것은 아닙니다.\n",
      "문서 ID: ddf87e75-a5a0-4d8c-af9c-0d901f568260 점수 : 0.007936507936507936 내용: 근육 글리코겐은 중등도에서 고강도 운동 중에 가장 많은 에너지를 제공하는 내성 기질 원입니다. 근육 글리코겐은 근육 내에 저장된 형태의 포도당입니다. 운동 중에 근육은 에너지를 필요로 합니다. 이때 근육 글리코겐은 주요한 에너지 공급원으로 작용합니다. 고강도 운동을 할 때 근육은 글리코겐을 분해하여 에너지를 생성합니다. 따라서 근육 글리코겐은 중등도에서 고강도 운동 중에 가장 많은 에너지를 제공하는 내성 기질 원입니다.\n",
      "============================================================\n",
      "s3_d7_ensemble 결과:\n",
      "문서 ID: 1f442344-084b-44f8-838b-332be289083c 점수 : 0.016129032258064516 내용: 근육에서의 글리코겐 분해는 초기에 포도당-1-인산염을 형성합니다. 이 과정은 근육 세포 내에서 일어나며, 에너지 생산을 위한 중요한 과정입니다. 글리코겐은 운동이나 기타 활동을 할 때 근육에서 사용되는 주요한 에너지원입니다. 글리코겐은 당분의 형태로 저장되어 있으며, 필요할 때 분해되어 포도당-1-인산염으로 변환됩니다. 이 과정은 글리코겐 분해 효소인 글리코겐 인산화 효소에 의해 촉진됩니다. 포도당-1-인산염은 근육 세포 내에서 에너지 생산에 사용되며, 근육 수축과 운동 능력을 유지하는 데 중요한 역할을 합니다. 따라서, 글리코겐 분해는 근육 세포에서 에너지 생산과 근육 기능을 유지하는 데 필수적인 과정입니다.\n",
      "문서 ID: 421aac6b-49ce-4697-a68f-850152f323d7 점수 : 0.011475409836065573 내용: 근육에서의 글리코겐 분해는 여러 가지 요인에 의해 활성화됩니다. 첫째, 운동 시 근육은 에너지를 필요로 하기 때문에 글리코겐을 분해하여 포도당으로 변환합니다. 둘째, 혈액 중의 인슐린 수준이 낮아지면 근육은 글리코겐을 분해하여 에너지를 생성합니다. 셋째, 근육 내부의 아디노신 모노인산(AMP) 수준이 증가하면 글리코겐 분해가 활성화됩니다. 따라서, 위의 어느 것도 아닌 것은 아닙니다.\n",
      "문서 ID: ddf87e75-a5a0-4d8c-af9c-0d901f568260 점수 : 0.01111111111111111 내용: 근육 글리코겐은 중등도에서 고강도 운동 중에 가장 많은 에너지를 제공하는 내성 기질 원입니다. 근육 글리코겐은 근육 내에 저장된 형태의 포도당입니다. 운동 중에 근육은 에너지를 필요로 합니다. 이때 근육 글리코겐은 주요한 에너지 공급원으로 작용합니다. 고강도 운동을 할 때 근육은 글리코겐을 분해하여 에너지를 생성합니다. 따라서 근육 글리코겐은 중등도에서 고강도 운동 중에 가장 많은 에너지를 제공하는 내성 기질 원입니다.\n",
      "문서 ID: 045e9913-583c-4f28-b564-698ffad62567 점수 : 0.0049180327868852455 내용: 호흡기는 기관륜에서 갑상선의 지협과 교차됩니다. 기관륜은 인체에서 가장 중요한 기관 중 하나로, 호흡과 관련된 기능을 담당합니다. 갑상선은 또한 인체에서 중요한 역할을 수행하는데, 호르몬 분비와 대사 조절 등 다양한 기능을 담당합니다. 호흡기와 갑상선은 서로 연결되어 있으며, 기관륜에서 교차되는 것으로 알려져 있습니다. 이 교차 지점은 인체에서 호흡과 갑상선 기능이 상호작용하는 중요한 지점입니다.\n",
      "============================================================\n",
      "s7_d3_ensemble 결과:\n",
      "문서 ID: 1f442344-084b-44f8-838b-332be289083c 점수 : 0.016129032258064516 내용: 근육에서의 글리코겐 분해는 초기에 포도당-1-인산염을 형성합니다. 이 과정은 근육 세포 내에서 일어나며, 에너지 생산을 위한 중요한 과정입니다. 글리코겐은 운동이나 기타 활동을 할 때 근육에서 사용되는 주요한 에너지원입니다. 글리코겐은 당분의 형태로 저장되어 있으며, 필요할 때 분해되어 포도당-1-인산염으로 변환됩니다. 이 과정은 글리코겐 분해 효소인 글리코겐 인산화 효소에 의해 촉진됩니다. 포도당-1-인산염은 근육 세포 내에서 에너지 생산에 사용되며, 근육 수축과 운동 능력을 유지하는 데 중요한 역할을 합니다. 따라서, 글리코겐 분해는 근육 세포에서 에너지 생산과 근육 기능을 유지하는 데 필수적인 과정입니다.\n",
      "문서 ID: 045e9913-583c-4f28-b564-698ffad62567 점수 : 0.011475409836065573 내용: 호흡기는 기관륜에서 갑상선의 지협과 교차됩니다. 기관륜은 인체에서 가장 중요한 기관 중 하나로, 호흡과 관련된 기능을 담당합니다. 갑상선은 또한 인체에서 중요한 역할을 수행하는데, 호르몬 분비와 대사 조절 등 다양한 기능을 담당합니다. 호흡기와 갑상선은 서로 연결되어 있으며, 기관륜에서 교차되는 것으로 알려져 있습니다. 이 교차 지점은 인체에서 호흡과 갑상선 기능이 상호작용하는 중요한 지점입니다.\n",
      "문서 ID: 421aac6b-49ce-4697-a68f-850152f323d7 점수 : 0.0049180327868852455 내용: 근육에서의 글리코겐 분해는 여러 가지 요인에 의해 활성화됩니다. 첫째, 운동 시 근육은 에너지를 필요로 하기 때문에 글리코겐을 분해하여 포도당으로 변환합니다. 둘째, 혈액 중의 인슐린 수준이 낮아지면 근육은 글리코겐을 분해하여 에너지를 생성합니다. 셋째, 근육 내부의 아디노신 모노인산(AMP) 수준이 증가하면 글리코겐 분해가 활성화됩니다. 따라서, 위의 어느 것도 아닌 것은 아닙니다.\n",
      "문서 ID: ddf87e75-a5a0-4d8c-af9c-0d901f568260 점수 : 0.0047619047619047615 내용: 근육 글리코겐은 중등도에서 고강도 운동 중에 가장 많은 에너지를 제공하는 내성 기질 원입니다. 근육 글리코겐은 근육 내에 저장된 형태의 포도당입니다. 운동 중에 근육은 에너지를 필요로 합니다. 이때 근육 글리코겐은 주요한 에너지 공급원으로 작용합니다. 고강도 운동을 할 때 근육은 글리코겐을 분해하여 에너지를 생성합니다. 따라서 근육 글리코겐은 중등도에서 고강도 운동 중에 가장 많은 에너지를 제공하는 내성 기질 원입니다.\n",
      "============================================================\n"
     ]
    },
    {
     "ename": "",
     "evalue": "",
     "output_type": "error",
     "traceback": [
      "\u001b[1;31m현재 셀 또는 이전 셀에서 코드를 실행하는 동안 Kernel이 충돌했습니다. \n",
      "\u001b[1;31m셀의 코드를 검토하여 가능한 오류 원인을 식별하세요. \n",
      "\u001b[1;31m자세한 내용을 보려면 <a href='https://aka.ms/vscodeJupyterKernelCrash'>여기</a>를 클릭하세요. \n",
      "\u001b[1;31m자세한 내용은 Jupyter <a href='command:jupyter.viewOutput'>로그</a>를 참조하세요."
     ]
    }
   ],
   "source": [
    "print_search_results(retrievers, \"글리코겐의 분해는 인체에서 왜 필요한가?\")"
   ]
  },
  {
   "cell_type": "code",
   "execution_count": null,
   "metadata": {},
   "outputs": [],
   "source": []
  }
 ],
 "metadata": {
  "kernelspec": {
   "display_name": "IR",
   "language": "python",
   "name": "python3"
  },
  "language_info": {
   "codemirror_mode": {
    "name": "ipython",
    "version": 3
   },
   "file_extension": ".py",
   "mimetype": "text/x-python",
   "name": "python",
   "nbconvert_exporter": "python",
   "pygments_lexer": "ipython3",
   "version": "3.9.19"
  }
 },
 "nbformat": 4,
 "nbformat_minor": 2
}
