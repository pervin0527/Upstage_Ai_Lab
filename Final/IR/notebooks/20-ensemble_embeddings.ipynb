{
 "cells": [
  {
   "cell_type": "code",
   "execution_count": 1,
   "metadata": {},
   "outputs": [
    {
     "name": "stdout",
     "output_type": "stream",
     "text": [
      "The token has not been saved to the git credentials helper. Pass `add_to_git_credential=True` in this function directly or `--add-to-git-credential` if using via `huggingface-cli` if you want to set the git credential as well.\n",
      "Token is valid (permission: read).\n",
      "Your token has been saved to /home/pervinco/.cache/huggingface/token\n",
      "Login successful\n"
     ]
    }
   ],
   "source": [
    "import sys\n",
    "sys.path.append(\"/home/pervinco/Upstage_Ai_Lab/Final/IR\")\n",
    "\n",
    "import os\n",
    "import re\n",
    "import json\n",
    "import faiss\n",
    "import random\n",
    "import warnings\n",
    "import pandas as pd\n",
    "import huggingface_hub\n",
    "\n",
    "from tqdm import tqdm\n",
    "from openai import OpenAI\n",
    "\n",
    "from langchain.schema import Document\n",
    "from langchain_experimental.text_splitter import SemanticChunker\n",
    "from langchain_text_splitters import RecursiveCharacterTextSplitter\n",
    "\n",
    "from langchain.retrievers import EnsembleRetriever\n",
    "from langchain_community.retrievers import BM25Retriever\n",
    "from langchain_community.vectorstores.faiss import FAISS\n",
    "\n",
    "from langchain.schema import Document\n",
    "from langchain_openai import OpenAIEmbeddings\n",
    "from langchain_upstage import UpstageEmbeddings\n",
    "from langchain.retrievers import ContextualCompressionRetriever\n",
    "from langchain_huggingface.embeddings import HuggingFaceEmbeddings\n",
    "from langchain_community.docstore.in_memory import InMemoryDocstore\n",
    "from langchain_community.cross_encoders import HuggingFaceCrossEncoder\n",
    "from langchain.retrievers.document_compressors import CrossEncoderReranker\n",
    "\n",
    "from src.sparse_retriever.kiwi_bm25 import KiwiBM25Retriever\n",
    "\n",
    "os.environ[\"TOKENIZERS_PARALLELISM\"] = \"false\"\n",
    "warnings.filterwarnings(\"ignore\", category=FutureWarning)\n",
    "\n",
    "from dotenv import load_dotenv\n",
    "load_dotenv(\"../keys.env\")\n",
    "\n",
    "upstage_api_key = os.getenv(\"UPSTAGE_API_KEY\")\n",
    "os.environ['UPSTAGE_API_KEY'] = upstage_api_key\n",
    "\n",
    "openai_api_key = os.getenv('OPENAI_API_KEY')\n",
    "os.environ['OPENAI_API_KEY'] = openai_api_key\n",
    "\n",
    "hf_token = os.getenv(\"HF_TOKEN\")\n",
    "huggingface_hub.login(hf_token)"
   ]
  },
  {
   "cell_type": "code",
   "execution_count": 2,
   "metadata": {},
   "outputs": [],
   "source": [
    "class Args:\n",
    "    retrieval_debug = False\n",
    "    llm_model = \"ollama\"\n",
    "    \n",
    "    src_lang = \"ko\"\n",
    "    if src_lang == \"en\":\n",
    "        eval_file_path = \"../dataset/eval.jsonl\" ## \"../dataset/en_eval.jsonl\" --> 성능이 별로임.\n",
    "        doc_file_path = \"../dataset/en_4.0_document.jsonl\" ## \"../dataset/processed_documents.jsonl\"\n",
    "    else:\n",
    "        eval_file_path = \"../dataset/eval.jsonl\"\n",
    "        doc_file_path = \"../dataset/processed_documents.jsonl\"\n",
    "\n",
    "    output_path = \"./outputs/output.csv\"\n",
    "\n",
    "    ## sparse or dense or ensemble\n",
    "    doc_method = \"dense\"\n",
    "    encoder_method = \"huggingface\" ## huggingface, upstage, openai\n",
    "    retriever_weights = [0.4, 0.6] ## [sparse, dense] ## BEST [0.4, 0.6]\n",
    "\n",
    "    ## HuggingFace\n",
    "    hf_model_name = \"intfloat/multilingual-e5-large-instruct\"\n",
    "    model_kwargs = {\"device\": \"cuda:0\"}\n",
    "    encode_kwargs = {\"normalize_embeddings\": False,\n",
    "                     \"clean_up_tokenization_spaces\": True}\n",
    "    \n",
    "    ## Upstage\n",
    "    upstage_model_name = \"solar-embedding-1-large-passage\"\n",
    "    faiss_index_file = \"./index_files/upstage-faiss.npy\"\n",
    "    \n",
    "    ## OpenAI\n",
    "    openai_model_name = \"text-embedding-3-large\"\n",
    "\n",
    "    ## chunking\n",
    "    chunking = True\n",
    "    chunk_method = \"recursive\" ## recursive, semantic\n",
    "    semantic_chunk_method = \"upstage\"\n",
    "    chunk_size = 320\n",
    "    chunk_overlap = 80"
   ]
  },
  {
   "cell_type": "code",
   "execution_count": 3,
   "metadata": {},
   "outputs": [],
   "source": [
    "args = Args()"
   ]
  },
  {
   "cell_type": "code",
   "execution_count": 4,
   "metadata": {},
   "outputs": [],
   "source": [
    "def load_jsonl(file_path):\n",
    "    with open(file_path, 'r', encoding='utf-8') as f:\n",
    "        return [json.loads(line) for line in f]\n",
    "\n",
    "\n",
    "def load_document(file_path):\n",
    "    raw_documents = load_jsonl(file_path)\n",
    "\n",
    "    documents = []\n",
    "    for doc in raw_documents:\n",
    "        doc_id = doc['docid']\n",
    "        content = doc['content']\n",
    "        documents.append(Document(page_content=content, metadata={\"docid\": doc_id}))\n",
    "    \n",
    "    return documents\n",
    "\n",
    "def load_query(file_path):\n",
    "    raw_queries = load_jsonl(file_path)\n",
    "\n",
    "    queries = []\n",
    "    for query in raw_queries:\n",
    "        doc_id = query['docid']\n",
    "\n",
    "        for i in range(1, 4):\n",
    "            queries.append({\"query\": query[f'question{i}'], \"metadata\": {\"docid\": doc_id}})\n",
    "    \n",
    "    return queries\n",
    "\n",
    "\n",
    "def score_normalizer(val: float) -> float:\n",
    "    return 1 / (1 + val)\n",
    "\n",
    "def load_upstage_encoder(model_name):\n",
    "    encoder = UpstageEmbeddings(model=model_name)\n",
    "\n",
    "    return encoder\n",
    "\n",
    "def load_openai_encoder(model_name):\n",
    "    encoder = OpenAIEmbeddings(model=model_name)\n",
    "\n",
    "    return encoder\n",
    "\n",
    "def load_hf_encoder(model_name, model_kwargs, encode_kwargs):\n",
    "    encoder = HuggingFaceEmbeddings(model_name=model_name,\n",
    "                                    model_kwargs=model_kwargs,\n",
    "                                    encode_kwargs=encode_kwargs)\n",
    "    \n",
    "    return encoder\n",
    "\n",
    "def load_hf_reranker(model_name, retriever):\n",
    "    reranker = HuggingFaceCrossEncoder(model_name=model_name)\n",
    "    compressor = CrossEncoderReranker(model=reranker, top_n=3)\n",
    "    compression_retriever = ContextualCompressionRetriever(base_compressor=compressor, base_retriever=retriever.as_retriever(search_kwargs={\"k\": 10}))\n",
    "\n",
    "    return compression_retriever\n",
    "\n",
    "def load_sparse_model(documents):\n",
    "    from konlpy.tag import Okt\n",
    "    okt = Okt()\n",
    "    def tokenize(text):\n",
    "        tokens = okt.morphs(text)\n",
    "        return tokens\n",
    "\n",
    "    retriever = KiwiBM25Retriever.from_documents(documents)\n",
    "    retriever = BM25Retriever.from_documents(documents, tokenizer=tokenize)\n",
    "    \n",
    "    return retriever\n",
    "\n",
    "\n",
    "def load_dense_model(args, documents):\n",
    "    if args.encoder_method == \"huggingface\":\n",
    "        encoder = load_hf_encoder(args.hf_model_name, args.model_kwargs, args.encode_kwargs)\n",
    "        print(f\"Embedding Model : {args.hf_model_name}\")\n",
    "\n",
    "    elif args.encoder_method == \"upstage\":\n",
    "        encoder = load_upstage_encoder(args.upstage_model_name)\n",
    "        print(f\"Embedding Model : {args.upstage_model_name}\")\n",
    "\n",
    "    elif args.encoder_method == \"openai\":\n",
    "        encoder = load_openai_encoder(args.openai_model_name)\n",
    "        print(f\"Embedding Model : {args.openai_model_name}\")\n",
    "\n",
    "    index = faiss.IndexFlatL2(len(encoder.embed_query(\"hello world\")))\n",
    "    vector_store = FAISS(\n",
    "        embedding_function=encoder,\n",
    "        index=index,\n",
    "        docstore=InMemoryDocstore(),\n",
    "        index_to_docstore_id={},\n",
    "        relevance_score_fn=score_normalizer\n",
    "    )\n",
    "    vector_store.add_documents(documents=documents)\n",
    "    retriever = vector_store\n",
    "\n",
    "    # faiss.write_index(index, f\"./index_files/{args.encoder_method}-faiss.npy\")\n",
    "    print(f\"FAISS 인덱스에 추가된 문서 수: {index.ntotal}\")\n",
    "\n",
    "    return retriever\n",
    "\n",
    "def calc_map(gt, pred):    \n",
    "    sum_average_precision = 0    \n",
    "    for j in pred:        \n",
    "        if gt[j[\"eval_id\"]]:            \n",
    "            hit_count = 0            \n",
    "            sum_precision = 0            \n",
    "            for i,docid in enumerate(j[\"topk\"][:3]):                \n",
    "                if docid in gt[j[\"eval_id\"]]:                    \n",
    "                    hit_count += 1                    \n",
    "                    sum_precision += hit_count/(i+1)            \n",
    "            average_precision = sum_precision / hit_count if hit_count > 0 else 0        \n",
    "        else:            \n",
    "            average_precision = 0 if j[\"topk\"] else 1        \n",
    "        sum_average_precision += average_precision    \n",
    "    return sum_average_precision/len(pred)\n",
    "\n",
    "\n",
    "def chunking(args, documents):\n",
    "    if args.chunk_method == \"recursive\":\n",
    "        text_splitter = RecursiveCharacterTextSplitter(\n",
    "            chunk_size=args.chunk_size,\n",
    "            chunk_overlap=args.chunk_overlap,\n",
    "            length_function=len,\n",
    "            is_separator_regex=False\n",
    "        )\n",
    "    elif args.chunk_method == \"semantic\":\n",
    "        if args.semantic_chunk_method == \"huggingface\":\n",
    "            encoder = load_hf_encoder(args.hf_model_name, args.model_kwargs, args.encode_kwargs)\n",
    "        elif args.semantic_chunk_method == \"upstage\":\n",
    "            encoder = load_upstage_encoder(args.upstage_model_name)\n",
    "        elif args.semantic_chunk_method == \"openai\":\n",
    "            encoder = load_openai_encoder(args.openai_model_name)\n",
    "\n",
    "        text_splitter = SemanticChunker(encoder)\n",
    "\n",
    "    return text_splitter.split_documents(documents)"
   ]
  },
  {
   "cell_type": "code",
   "execution_count": 5,
   "metadata": {},
   "outputs": [],
   "source": [
    "en_document_path = \"../dataset/en_4.0_processed_documents_queries.jsonl\"\n",
    "ko_document_path = \"../dataset/processed_documents_queries.jsonl\"\n",
    "\n",
    "en_documents = load_document(en_document_path)\n",
    "en_questions = load_query(en_document_path)\n",
    "\n",
    "random.shuffle(en_questions)\n",
    "en_questions = en_questions[:500]\n",
    "\n",
    "ko_documents = load_document(ko_document_path)\n",
    "ko_questions = load_query(ko_document_path)\n",
    "\n",
    "random.shuffle(ko_questions)\n",
    "ko_questions = ko_questions[:500]"
   ]
  },
  {
   "cell_type": "markdown",
   "metadata": {},
   "source": [
    "## Sparse"
   ]
  },
  {
   "cell_type": "code",
   "execution_count": 6,
   "metadata": {},
   "outputs": [],
   "source": [
    "sparse_retriever = load_sparse_model(ko_documents)"
   ]
  },
  {
   "cell_type": "code",
   "execution_count": 7,
   "metadata": {},
   "outputs": [
    {
     "name": "stderr",
     "output_type": "stream",
     "text": [
      "100%|██████████| 500/500 [00:01<00:00, 373.55it/s]"
     ]
    },
    {
     "name": "stdout",
     "output_type": "stream",
     "text": [
      "Mean Average Precision (MAP): 0.782\n"
     ]
    },
    {
     "name": "stderr",
     "output_type": "stream",
     "text": [
      "\n"
     ]
    }
   ],
   "source": [
    "gt = {}\n",
    "for question in ko_questions:\n",
    "    query, question_id = question['query'], question['metadata']['docid']\n",
    "    gt[question_id] = [question_id]\n",
    "\n",
    "pred = []\n",
    "for question in tqdm(ko_questions):\n",
    "    query, question_id = question['query'], question['metadata']['docid']\n",
    "    \n",
    "    search_result = sparse_retriever.invoke(query)\n",
    "    \n",
    "    topk_result = []\n",
    "    for result in search_result:\n",
    "        topk_result.append(result.metadata.get('docid'))\n",
    "\n",
    "    pred.append({\n",
    "        \"eval_id\": question_id,\n",
    "        \"topk\": topk_result\n",
    "    })\n",
    "\n",
    "mean_average_precision = calc_map(gt, pred)\n",
    "print(f\"Mean Average Precision (MAP): {mean_average_precision}\")"
   ]
  },
  {
   "cell_type": "markdown",
   "metadata": {},
   "source": [
    "## Dense"
   ]
  },
  {
   "cell_type": "code",
   "execution_count": 8,
   "metadata": {},
   "outputs": [
    {
     "name": "stdout",
     "output_type": "stream",
     "text": [
      "Embedding Model : intfloat/multilingual-e5-large-instruct\n",
      "FAISS 인덱스에 추가된 문서 수: 4272\n"
     ]
    }
   ],
   "source": [
    "dense_retriever = load_dense_model(args, ko_documents).as_retriever(search_kwargs={\"k\": 3})"
   ]
  },
  {
   "cell_type": "code",
   "execution_count": 9,
   "metadata": {},
   "outputs": [
    {
     "name": "stderr",
     "output_type": "stream",
     "text": [
      "100%|██████████| 500/500 [00:04<00:00, 108.37it/s]"
     ]
    },
    {
     "name": "stdout",
     "output_type": "stream",
     "text": [
      "Mean Average Precision (MAP): 0.856\n"
     ]
    },
    {
     "name": "stderr",
     "output_type": "stream",
     "text": [
      "\n"
     ]
    }
   ],
   "source": [
    "gt = {}\n",
    "for question in ko_questions:\n",
    "    query, question_id = question['query'], question['metadata']['docid']\n",
    "    gt[question_id] = [question_id]\n",
    "\n",
    "pred = []\n",
    "for question in tqdm(ko_questions):\n",
    "    query, question_id = question['query'], question['metadata']['docid']\n",
    "    \n",
    "    search_result = dense_retriever.invoke(query)\n",
    "    \n",
    "    topk_result = []\n",
    "    for result in search_result:\n",
    "        topk_result.append(result.metadata.get('docid'))\n",
    "\n",
    "    pred.append({\n",
    "        \"eval_id\": question_id,\n",
    "        \"topk\": topk_result\n",
    "    })\n",
    "\n",
    "mean_average_precision = calc_map(gt, pred)\n",
    "print(f\"Mean Average Precision (MAP): {mean_average_precision}\")"
   ]
  },
  {
   "cell_type": "markdown",
   "metadata": {},
   "source": [
    "## Hybrid"
   ]
  },
  {
   "cell_type": "code",
   "execution_count": 10,
   "metadata": {},
   "outputs": [
    {
     "name": "stdout",
     "output_type": "stream",
     "text": [
      "Embedding Model : intfloat/multilingual-e5-large-instruct\n",
      "FAISS 인덱스에 추가된 문서 수: 4272\n",
      "[0.4, 0.6]\n"
     ]
    }
   ],
   "source": [
    "sparse_retriever = load_sparse_model(ko_documents)\n",
    "sparse_retriever.k = 5\n",
    "\n",
    "dense_retriever = load_dense_model(args, ko_documents).as_retriever(search_kwargs={\"k\": 5})\n",
    "\n",
    "print(args.retriever_weights)\n",
    "retriever = EnsembleRetriever(\n",
    "    retrievers=[sparse_retriever, dense_retriever],\n",
    "    weights=args.retriever_weights,\n",
    "    search_type=\"similarity_score_threshold\" ## \"mmr\"\n",
    ")"
   ]
  },
  {
   "cell_type": "code",
   "execution_count": 11,
   "metadata": {},
   "outputs": [
    {
     "name": "stderr",
     "output_type": "stream",
     "text": [
      "100%|██████████| 500/500 [00:06<00:00, 78.95it/s]"
     ]
    },
    {
     "name": "stdout",
     "output_type": "stream",
     "text": [
      "Mean Average Precision (MAP): 0.8676666666666666\n"
     ]
    },
    {
     "name": "stderr",
     "output_type": "stream",
     "text": [
      "\n"
     ]
    }
   ],
   "source": [
    "gt = {}\n",
    "for question in ko_questions:\n",
    "    query, question_id = question['query'], question['metadata']['docid']\n",
    "    gt[question_id] = [question_id]\n",
    "\n",
    "pred = []\n",
    "for question in tqdm(ko_questions):\n",
    "    query, question_id = question['query'], question['metadata']['docid']\n",
    "    \n",
    "    search_result = retriever.invoke(query)\n",
    "    \n",
    "    topk_result = []\n",
    "    for result in search_result:\n",
    "        topk_result.append(result.metadata.get('docid'))\n",
    "\n",
    "    pred.append({\n",
    "        \"eval_id\": question_id,\n",
    "        \"topk\": topk_result\n",
    "    })\n",
    "\n",
    "mean_average_precision = calc_map(gt, pred)\n",
    "print(f\"Mean Average Precision (MAP): {mean_average_precision}\")"
   ]
  },
  {
   "cell_type": "markdown",
   "metadata": {},
   "source": [
    "## Chunking + Sparse"
   ]
  },
  {
   "cell_type": "code",
   "execution_count": 30,
   "metadata": {},
   "outputs": [],
   "source": [
    "args.chunk_size = 320\n",
    "args.chunk_overlap = 80\n",
    "\n",
    "chunk_documents = chunking(args, ko_documents)"
   ]
  },
  {
   "cell_type": "code",
   "execution_count": 31,
   "metadata": {},
   "outputs": [],
   "source": [
    "sparse_retriever = load_sparse_model(chunk_documents)"
   ]
  },
  {
   "cell_type": "code",
   "execution_count": 32,
   "metadata": {},
   "outputs": [
    {
     "name": "stderr",
     "output_type": "stream",
     "text": [
      "100%|██████████| 500/500 [00:01<00:00, 357.98it/s]"
     ]
    },
    {
     "name": "stdout",
     "output_type": "stream",
     "text": [
      "Mean Average Precision (MAP): 0.7736666666666665\n"
     ]
    },
    {
     "name": "stderr",
     "output_type": "stream",
     "text": [
      "\n"
     ]
    }
   ],
   "source": [
    "gt = {}\n",
    "for question in ko_questions:\n",
    "    query, question_id = question['query'], question['metadata']['docid']\n",
    "    gt[question_id] = [question_id]\n",
    "\n",
    "pred = []\n",
    "for question in tqdm(ko_questions):\n",
    "    query, question_id = question['query'], question['metadata']['docid']\n",
    "    \n",
    "    search_result = sparse_retriever.invoke(query)\n",
    "    \n",
    "    topk_result = []\n",
    "    for result in search_result:\n",
    "        topk_result.append(result.metadata.get('docid'))\n",
    "\n",
    "    pred.append({\n",
    "        \"eval_id\": question_id,\n",
    "        \"topk\": topk_result\n",
    "    })\n",
    "\n",
    "mean_average_precision = calc_map(gt, pred)\n",
    "print(f\"Mean Average Precision (MAP): {mean_average_precision}\")"
   ]
  },
  {
   "cell_type": "markdown",
   "metadata": {},
   "source": [
    "## Chunking + Dense"
   ]
  },
  {
   "cell_type": "code",
   "execution_count": 50,
   "metadata": {},
   "outputs": [],
   "source": [
    "args.chunk_size = 100\n",
    "args.chunk_overlap = 50\n",
    "\n",
    "chunk_documents = chunking(args, ko_documents)"
   ]
  },
  {
   "cell_type": "code",
   "execution_count": 51,
   "metadata": {},
   "outputs": [
    {
     "name": "stdout",
     "output_type": "stream",
     "text": [
      "Embedding Model : intfloat/multilingual-e5-large-instruct\n",
      "FAISS 인덱스에 추가된 문서 수: 24799\n"
     ]
    }
   ],
   "source": [
    "dense_retriever = load_dense_model(args, chunk_documents).as_retriever(search_kwargs={\"k\": 3})"
   ]
  },
  {
   "cell_type": "code",
   "execution_count": 52,
   "metadata": {},
   "outputs": [
    {
     "name": "stderr",
     "output_type": "stream",
     "text": [
      "100%|██████████| 500/500 [00:11<00:00, 45.10it/s]"
     ]
    },
    {
     "name": "stdout",
     "output_type": "stream",
     "text": [
      "Mean Average Precision (MAP): 0.8984999999999993\n"
     ]
    },
    {
     "name": "stderr",
     "output_type": "stream",
     "text": [
      "\n"
     ]
    }
   ],
   "source": [
    "gt = {}\n",
    "for question in ko_questions:\n",
    "    query, question_id = question['query'], question['metadata']['docid']\n",
    "    gt[question_id] = [question_id]\n",
    "\n",
    "pred = []\n",
    "for question in tqdm(ko_questions):\n",
    "    query, question_id = question['query'], question['metadata']['docid']\n",
    "    \n",
    "    search_result = dense_retriever.invoke(query)\n",
    "    \n",
    "    topk_result = []\n",
    "    for result in search_result:\n",
    "        topk_result.append(result.metadata.get('docid'))\n",
    "\n",
    "    pred.append({\n",
    "        \"eval_id\": question_id,\n",
    "        \"topk\": topk_result\n",
    "    })\n",
    "\n",
    "mean_average_precision = calc_map(gt, pred)\n",
    "print(f\"Mean Average Precision (MAP): {mean_average_precision}\")"
   ]
  },
  {
   "cell_type": "markdown",
   "metadata": {},
   "source": [
    "## Chunking + Hybrid"
   ]
  },
  {
   "cell_type": "code",
   "execution_count": 59,
   "metadata": {},
   "outputs": [],
   "source": [
    "args.chunk_size = 100\n",
    "args.chunk_overlap = 50\n",
    "args.retriever_weights = [0.4, 0.6] ## sparse_weights, dense_weights\n",
    "\n",
    "chunk_documents = chunking(args, ko_documents)"
   ]
  },
  {
   "cell_type": "code",
   "execution_count": 60,
   "metadata": {},
   "outputs": [
    {
     "name": "stdout",
     "output_type": "stream",
     "text": [
      "Embedding Model : intfloat/multilingual-e5-large-instruct\n",
      "FAISS 인덱스에 추가된 문서 수: 24799\n",
      "[0.4, 0.6]\n"
     ]
    }
   ],
   "source": [
    "sparse_retriever = load_sparse_model(ko_documents)\n",
    "sparse_retriever.k = 5\n",
    "\n",
    "dense_retriever = load_dense_model(args, chunk_documents).as_retriever(search_kwargs={\"k\": 5})\n",
    "\n",
    "print(args.retriever_weights)\n",
    "retriever = EnsembleRetriever(\n",
    "    retrievers=[sparse_retriever, dense_retriever],\n",
    "    weights=args.retriever_weights,\n",
    "    search_type=\"similarity_score_threshold\" ## \"mmr\"\n",
    ")"
   ]
  },
  {
   "cell_type": "code",
   "execution_count": 61,
   "metadata": {},
   "outputs": [
    {
     "name": "stderr",
     "output_type": "stream",
     "text": [
      "100%|██████████| 500/500 [00:12<00:00, 40.06it/s]"
     ]
    },
    {
     "name": "stdout",
     "output_type": "stream",
     "text": [
      "Mean Average Precision (MAP): 0.8969999999999994\n"
     ]
    },
    {
     "name": "stderr",
     "output_type": "stream",
     "text": [
      "\n"
     ]
    }
   ],
   "source": [
    "gt = {}\n",
    "for question in ko_questions:\n",
    "    query, question_id = question['query'], question['metadata']['docid']\n",
    "    gt[question_id] = [question_id]\n",
    "\n",
    "pred = []\n",
    "for question in tqdm(ko_questions):\n",
    "    query, question_id = question['query'], question['metadata']['docid']\n",
    "    \n",
    "    search_result = retriever.invoke(query)\n",
    "    \n",
    "    topk_result = []\n",
    "    for result in search_result:\n",
    "        topk_result.append(result.metadata.get('docid'))\n",
    "\n",
    "    pred.append({\n",
    "        \"eval_id\": question_id,\n",
    "        \"topk\": topk_result\n",
    "    })\n",
    "\n",
    "mean_average_precision = calc_map(gt, pred)\n",
    "print(f\"Mean Average Precision (MAP): {mean_average_precision}\")"
   ]
  },
  {
   "cell_type": "code",
   "execution_count": 62,
   "metadata": {},
   "outputs": [
    {
     "name": "stdout",
     "output_type": "stream",
     "text": [
      "Embedding Model : intfloat/multilingual-e5-large-instruct\n",
      "FAISS 인덱스에 추가된 문서 수: 15773\n"
     ]
    },
    {
     "name": "stderr",
     "output_type": "stream",
     "text": [
      "100%|██████████| 500/500 [00:10<00:00, 49.68it/s]\n"
     ]
    },
    {
     "name": "stdout",
     "output_type": "stream",
     "text": [
      "Parameters: chunk_size=100, chunk_overlap=0, retriever_weights=[0.5, 0.5]\n",
      "Mean Average Precision (MAP): 0.8258333333333329\n",
      "\n",
      "Embedding Model : intfloat/multilingual-e5-large-instruct\n",
      "FAISS 인덱스에 추가된 문서 수: 15773\n"
     ]
    },
    {
     "name": "stderr",
     "output_type": "stream",
     "text": [
      "100%|██████████| 500/500 [00:10<00:00, 50.00it/s]\n"
     ]
    },
    {
     "name": "stdout",
     "output_type": "stream",
     "text": [
      "Parameters: chunk_size=100, chunk_overlap=0, retriever_weights=[0.6, 0.4]\n",
      "Mean Average Precision (MAP): 0.7783333333333332\n",
      "\n",
      "Embedding Model : intfloat/multilingual-e5-large-instruct\n",
      "FAISS 인덱스에 추가된 문서 수: 15773\n"
     ]
    },
    {
     "name": "stderr",
     "output_type": "stream",
     "text": [
      "100%|██████████| 500/500 [00:09<00:00, 50.06it/s]\n"
     ]
    },
    {
     "name": "stdout",
     "output_type": "stream",
     "text": [
      "Parameters: chunk_size=100, chunk_overlap=0, retriever_weights=[0.4, 0.6]\n",
      "Mean Average Precision (MAP): 0.8246666666666662\n",
      "\n",
      "Embedding Model : intfloat/multilingual-e5-large-instruct\n",
      "FAISS 인덱스에 추가된 문서 수: 15773\n"
     ]
    },
    {
     "name": "stderr",
     "output_type": "stream",
     "text": [
      "100%|██████████| 500/500 [00:10<00:00, 49.68it/s]\n"
     ]
    },
    {
     "name": "stdout",
     "output_type": "stream",
     "text": [
      "Parameters: chunk_size=100, chunk_overlap=0, retriever_weights=[0.7, 0.3]\n",
      "Mean Average Precision (MAP): 0.7793333333333333\n",
      "\n",
      "Embedding Model : intfloat/multilingual-e5-large-instruct\n",
      "FAISS 인덱스에 추가된 문서 수: 15773\n"
     ]
    },
    {
     "name": "stderr",
     "output_type": "stream",
     "text": [
      "100%|██████████| 500/500 [00:10<00:00, 49.73it/s]\n"
     ]
    },
    {
     "name": "stdout",
     "output_type": "stream",
     "text": [
      "Parameters: chunk_size=100, chunk_overlap=0, retriever_weights=[0.3, 0.7]\n",
      "Mean Average Precision (MAP): 0.8246666666666664\n",
      "\n",
      "Embedding Model : intfloat/multilingual-e5-large-instruct\n",
      "FAISS 인덱스에 추가된 문서 수: 24799\n"
     ]
    },
    {
     "name": "stderr",
     "output_type": "stream",
     "text": [
      "100%|██████████| 500/500 [00:13<00:00, 37.86it/s]\n"
     ]
    },
    {
     "name": "stdout",
     "output_type": "stream",
     "text": [
      "Parameters: chunk_size=100, chunk_overlap=50, retriever_weights=[0.5, 0.5]\n",
      "Mean Average Precision (MAP): 0.8478333333333329\n",
      "\n",
      "Embedding Model : intfloat/multilingual-e5-large-instruct\n",
      "FAISS 인덱스에 추가된 문서 수: 24799\n"
     ]
    },
    {
     "name": "stderr",
     "output_type": "stream",
     "text": [
      "100%|██████████| 500/500 [00:13<00:00, 38.17it/s]\n"
     ]
    },
    {
     "name": "stdout",
     "output_type": "stream",
     "text": [
      "Parameters: chunk_size=100, chunk_overlap=50, retriever_weights=[0.6, 0.4]\n",
      "Mean Average Precision (MAP): 0.781\n",
      "\n",
      "Embedding Model : intfloat/multilingual-e5-large-instruct\n",
      "FAISS 인덱스에 추가된 문서 수: 24799\n"
     ]
    },
    {
     "name": "stderr",
     "output_type": "stream",
     "text": [
      "100%|██████████| 500/500 [00:12<00:00, 40.14it/s]\n"
     ]
    },
    {
     "name": "stdout",
     "output_type": "stream",
     "text": [
      "Parameters: chunk_size=100, chunk_overlap=50, retriever_weights=[0.4, 0.6]\n",
      "Mean Average Precision (MAP): 0.8969999999999994\n",
      "\n",
      "Embedding Model : intfloat/multilingual-e5-large-instruct\n",
      "FAISS 인덱스에 추가된 문서 수: 24799\n"
     ]
    },
    {
     "name": "stderr",
     "output_type": "stream",
     "text": [
      "100%|██████████| 500/500 [00:12<00:00, 39.78it/s]\n"
     ]
    },
    {
     "name": "stdout",
     "output_type": "stream",
     "text": [
      "Parameters: chunk_size=100, chunk_overlap=50, retriever_weights=[0.7, 0.3]\n",
      "Mean Average Precision (MAP): 0.7803333333333333\n",
      "\n",
      "Embedding Model : intfloat/multilingual-e5-large-instruct\n",
      "FAISS 인덱스에 추가된 문서 수: 24799\n"
     ]
    },
    {
     "name": "stderr",
     "output_type": "stream",
     "text": [
      "100%|██████████| 500/500 [00:12<00:00, 38.93it/s]\n"
     ]
    },
    {
     "name": "stdout",
     "output_type": "stream",
     "text": [
      "Parameters: chunk_size=100, chunk_overlap=50, retriever_weights=[0.3, 0.7]\n",
      "Mean Average Precision (MAP): 0.8998333333333327\n",
      "\n",
      "Embedding Model : intfloat/multilingual-e5-large-instruct\n",
      "FAISS 인덱스에 추가된 문서 수: 187938\n"
     ]
    },
    {
     "name": "stderr",
     "output_type": "stream",
     "text": [
      "100%|██████████| 500/500 [01:01<00:00,  8.19it/s]\n"
     ]
    },
    {
     "name": "stdout",
     "output_type": "stream",
     "text": [
      "Parameters: chunk_size=100, chunk_overlap=100, retriever_weights=[0.5, 0.5]\n",
      "Mean Average Precision (MAP): 0.8491666666666663\n",
      "\n",
      "Embedding Model : intfloat/multilingual-e5-large-instruct\n",
      "FAISS 인덱스에 추가된 문서 수: 187938\n"
     ]
    },
    {
     "name": "stderr",
     "output_type": "stream",
     "text": [
      "100%|██████████| 500/500 [00:59<00:00,  8.34it/s]\n"
     ]
    },
    {
     "name": "stdout",
     "output_type": "stream",
     "text": [
      "Parameters: chunk_size=100, chunk_overlap=100, retriever_weights=[0.6, 0.4]\n",
      "Mean Average Precision (MAP): 0.7823333333333333\n",
      "\n",
      "Embedding Model : intfloat/multilingual-e5-large-instruct\n",
      "FAISS 인덱스에 추가된 문서 수: 187938\n"
     ]
    },
    {
     "name": "stderr",
     "output_type": "stream",
     "text": [
      "100%|██████████| 500/500 [00:59<00:00,  8.37it/s]\n"
     ]
    },
    {
     "name": "stdout",
     "output_type": "stream",
     "text": [
      "Parameters: chunk_size=100, chunk_overlap=100, retriever_weights=[0.4, 0.6]\n",
      "Mean Average Precision (MAP): 0.8856666666666666\n",
      "\n",
      "Embedding Model : intfloat/multilingual-e5-large-instruct\n",
      "FAISS 인덱스에 추가된 문서 수: 187938\n"
     ]
    },
    {
     "name": "stderr",
     "output_type": "stream",
     "text": [
      "100%|██████████| 500/500 [01:00<00:00,  8.29it/s]\n"
     ]
    },
    {
     "name": "stdout",
     "output_type": "stream",
     "text": [
      "Parameters: chunk_size=100, chunk_overlap=100, retriever_weights=[0.7, 0.3]\n",
      "Mean Average Precision (MAP): 0.7803333333333333\n",
      "\n",
      "Embedding Model : intfloat/multilingual-e5-large-instruct\n",
      "FAISS 인덱스에 추가된 문서 수: 187938\n"
     ]
    },
    {
     "name": "stderr",
     "output_type": "stream",
     "text": [
      "100%|██████████| 500/500 [01:01<00:00,  8.17it/s]\n"
     ]
    },
    {
     "name": "stdout",
     "output_type": "stream",
     "text": [
      "Parameters: chunk_size=100, chunk_overlap=100, retriever_weights=[0.3, 0.7]\n",
      "Mean Average Precision (MAP): 0.8881666666666668\n",
      "\n",
      "Embedding Model : intfloat/multilingual-e5-large-instruct\n",
      "FAISS 인덱스에 추가된 문서 수: 8995\n"
     ]
    },
    {
     "name": "stderr",
     "output_type": "stream",
     "text": [
      "100%|██████████| 500/500 [00:08<00:00, 57.77it/s]\n"
     ]
    },
    {
     "name": "stdout",
     "output_type": "stream",
     "text": [
      "Parameters: chunk_size=200, chunk_overlap=0, retriever_weights=[0.5, 0.5]\n",
      "Mean Average Precision (MAP): 0.8153333333333328\n",
      "\n",
      "Embedding Model : intfloat/multilingual-e5-large-instruct\n",
      "FAISS 인덱스에 추가된 문서 수: 8995\n"
     ]
    },
    {
     "name": "stderr",
     "output_type": "stream",
     "text": [
      "100%|██████████| 500/500 [00:08<00:00, 61.15it/s]\n"
     ]
    },
    {
     "name": "stdout",
     "output_type": "stream",
     "text": [
      "Parameters: chunk_size=200, chunk_overlap=0, retriever_weights=[0.6, 0.4]\n",
      "Mean Average Precision (MAP): 0.7766666666666667\n",
      "\n",
      "Embedding Model : intfloat/multilingual-e5-large-instruct\n",
      "FAISS 인덱스에 추가된 문서 수: 8995\n"
     ]
    },
    {
     "name": "stderr",
     "output_type": "stream",
     "text": [
      "100%|██████████| 500/500 [00:08<00:00, 60.55it/s]\n"
     ]
    },
    {
     "name": "stdout",
     "output_type": "stream",
     "text": [
      "Parameters: chunk_size=200, chunk_overlap=0, retriever_weights=[0.4, 0.6]\n",
      "Mean Average Precision (MAP): 0.7604999999999994\n",
      "\n",
      "Embedding Model : intfloat/multilingual-e5-large-instruct\n",
      "FAISS 인덱스에 추가된 문서 수: 8995\n"
     ]
    },
    {
     "name": "stderr",
     "output_type": "stream",
     "text": [
      "100%|██████████| 500/500 [00:08<00:00, 61.50it/s]\n"
     ]
    },
    {
     "name": "stdout",
     "output_type": "stream",
     "text": [
      "Parameters: chunk_size=200, chunk_overlap=0, retriever_weights=[0.7, 0.3]\n",
      "Mean Average Precision (MAP): 0.778\n",
      "\n",
      "Embedding Model : intfloat/multilingual-e5-large-instruct\n",
      "FAISS 인덱스에 추가된 문서 수: 8995\n"
     ]
    },
    {
     "name": "stderr",
     "output_type": "stream",
     "text": [
      "100%|██████████| 500/500 [00:08<00:00, 61.26it/s]\n"
     ]
    },
    {
     "name": "stdout",
     "output_type": "stream",
     "text": [
      "Parameters: chunk_size=200, chunk_overlap=0, retriever_weights=[0.3, 0.7]\n",
      "Mean Average Precision (MAP): 0.7609999999999996\n",
      "\n",
      "Embedding Model : intfloat/multilingual-e5-large-instruct\n",
      "FAISS 인덱스에 추가된 문서 수: 9694\n"
     ]
    },
    {
     "name": "stderr",
     "output_type": "stream",
     "text": [
      "100%|██████████| 500/500 [00:08<00:00, 60.19it/s]\n"
     ]
    },
    {
     "name": "stdout",
     "output_type": "stream",
     "text": [
      "Parameters: chunk_size=200, chunk_overlap=50, retriever_weights=[0.5, 0.5]\n",
      "Mean Average Precision (MAP): 0.8284999999999996\n",
      "\n",
      "Embedding Model : intfloat/multilingual-e5-large-instruct\n",
      "FAISS 인덱스에 추가된 문서 수: 9694\n"
     ]
    },
    {
     "name": "stderr",
     "output_type": "stream",
     "text": [
      "100%|██████████| 500/500 [00:08<00:00, 59.59it/s]\n"
     ]
    },
    {
     "name": "stdout",
     "output_type": "stream",
     "text": [
      "Parameters: chunk_size=200, chunk_overlap=50, retriever_weights=[0.6, 0.4]\n",
      "Mean Average Precision (MAP): 0.7790000000000001\n",
      "\n",
      "Embedding Model : intfloat/multilingual-e5-large-instruct\n",
      "FAISS 인덱스에 추가된 문서 수: 9694\n"
     ]
    },
    {
     "name": "stderr",
     "output_type": "stream",
     "text": [
      "100%|██████████| 500/500 [00:08<00:00, 60.16it/s]\n"
     ]
    },
    {
     "name": "stdout",
     "output_type": "stream",
     "text": [
      "Parameters: chunk_size=200, chunk_overlap=50, retriever_weights=[0.4, 0.6]\n",
      "Mean Average Precision (MAP): 0.8338333333333324\n",
      "\n",
      "Embedding Model : intfloat/multilingual-e5-large-instruct\n",
      "FAISS 인덱스에 추가된 문서 수: 9694\n"
     ]
    },
    {
     "name": "stderr",
     "output_type": "stream",
     "text": [
      "100%|██████████| 500/500 [00:08<00:00, 57.98it/s]\n"
     ]
    },
    {
     "name": "stdout",
     "output_type": "stream",
     "text": [
      "Parameters: chunk_size=200, chunk_overlap=50, retriever_weights=[0.7, 0.3]\n",
      "Mean Average Precision (MAP): 0.7793333333333333\n",
      "\n",
      "Embedding Model : intfloat/multilingual-e5-large-instruct\n",
      "FAISS 인덱스에 추가된 문서 수: 9694\n"
     ]
    },
    {
     "name": "stderr",
     "output_type": "stream",
     "text": [
      "100%|██████████| 500/500 [00:08<00:00, 57.65it/s]\n"
     ]
    },
    {
     "name": "stdout",
     "output_type": "stream",
     "text": [
      "Parameters: chunk_size=200, chunk_overlap=50, retriever_weights=[0.3, 0.7]\n",
      "Mean Average Precision (MAP): 0.8353333333333326\n",
      "\n",
      "Embedding Model : intfloat/multilingual-e5-large-instruct\n",
      "FAISS 인덱스에 추가된 문서 수: 11341\n"
     ]
    },
    {
     "name": "stderr",
     "output_type": "stream",
     "text": [
      "100%|██████████| 500/500 [00:09<00:00, 54.42it/s]\n"
     ]
    },
    {
     "name": "stdout",
     "output_type": "stream",
     "text": [
      "Parameters: chunk_size=200, chunk_overlap=100, retriever_weights=[0.5, 0.5]\n",
      "Mean Average Precision (MAP): 0.8324999999999996\n",
      "\n",
      "Embedding Model : intfloat/multilingual-e5-large-instruct\n",
      "FAISS 인덱스에 추가된 문서 수: 11341\n"
     ]
    },
    {
     "name": "stderr",
     "output_type": "stream",
     "text": [
      "100%|██████████| 500/500 [00:08<00:00, 56.67it/s]\n"
     ]
    },
    {
     "name": "stdout",
     "output_type": "stream",
     "text": [
      "Parameters: chunk_size=200, chunk_overlap=100, retriever_weights=[0.6, 0.4]\n",
      "Mean Average Precision (MAP): 0.7796666666666667\n",
      "\n",
      "Embedding Model : intfloat/multilingual-e5-large-instruct\n",
      "FAISS 인덱스에 추가된 문서 수: 11341\n"
     ]
    },
    {
     "name": "stderr",
     "output_type": "stream",
     "text": [
      "100%|██████████| 500/500 [00:08<00:00, 57.30it/s]\n"
     ]
    },
    {
     "name": "stdout",
     "output_type": "stream",
     "text": [
      "Parameters: chunk_size=200, chunk_overlap=100, retriever_weights=[0.4, 0.6]\n",
      "Mean Average Precision (MAP): 0.8568333333333322\n",
      "\n",
      "Embedding Model : intfloat/multilingual-e5-large-instruct\n",
      "FAISS 인덱스에 추가된 문서 수: 11341\n"
     ]
    },
    {
     "name": "stderr",
     "output_type": "stream",
     "text": [
      "100%|██████████| 500/500 [00:08<00:00, 56.35it/s]\n"
     ]
    },
    {
     "name": "stdout",
     "output_type": "stream",
     "text": [
      "Parameters: chunk_size=200, chunk_overlap=100, retriever_weights=[0.7, 0.3]\n",
      "Mean Average Precision (MAP): 0.7803333333333333\n",
      "\n",
      "Embedding Model : intfloat/multilingual-e5-large-instruct\n",
      "FAISS 인덱스에 추가된 문서 수: 11341\n"
     ]
    },
    {
     "name": "stderr",
     "output_type": "stream",
     "text": [
      "100%|██████████| 500/500 [00:08<00:00, 56.35it/s]\n"
     ]
    },
    {
     "name": "stdout",
     "output_type": "stream",
     "text": [
      "Parameters: chunk_size=200, chunk_overlap=100, retriever_weights=[0.3, 0.7]\n",
      "Mean Average Precision (MAP): 0.8581666666666659\n",
      "\n",
      "Embedding Model : intfloat/multilingual-e5-large-instruct\n",
      "FAISS 인덱스에 추가된 문서 수: 6486\n"
     ]
    },
    {
     "name": "stderr",
     "output_type": "stream",
     "text": [
      "100%|██████████| 500/500 [00:07<00:00, 67.03it/s]\n"
     ]
    },
    {
     "name": "stdout",
     "output_type": "stream",
     "text": [
      "Parameters: chunk_size=300, chunk_overlap=0, retriever_weights=[0.5, 0.5]\n",
      "Mean Average Precision (MAP): 0.8146666666666663\n",
      "\n",
      "Embedding Model : intfloat/multilingual-e5-large-instruct\n",
      "FAISS 인덱스에 추가된 문서 수: 6486\n"
     ]
    },
    {
     "name": "stderr",
     "output_type": "stream",
     "text": [
      "100%|██████████| 500/500 [00:07<00:00, 67.39it/s]\n"
     ]
    },
    {
     "name": "stdout",
     "output_type": "stream",
     "text": [
      "Parameters: chunk_size=300, chunk_overlap=0, retriever_weights=[0.6, 0.4]\n",
      "Mean Average Precision (MAP): 0.7843333333333332\n",
      "\n",
      "Embedding Model : intfloat/multilingual-e5-large-instruct\n",
      "FAISS 인덱스에 추가된 문서 수: 6486\n"
     ]
    },
    {
     "name": "stderr",
     "output_type": "stream",
     "text": [
      "100%|██████████| 500/500 [00:07<00:00, 64.57it/s]\n"
     ]
    },
    {
     "name": "stdout",
     "output_type": "stream",
     "text": [
      "Parameters: chunk_size=300, chunk_overlap=0, retriever_weights=[0.4, 0.6]\n",
      "Mean Average Precision (MAP): 0.7259999999999996\n",
      "\n",
      "Embedding Model : intfloat/multilingual-e5-large-instruct\n",
      "FAISS 인덱스에 추가된 문서 수: 6486\n"
     ]
    },
    {
     "name": "stderr",
     "output_type": "stream",
     "text": [
      "100%|██████████| 500/500 [00:07<00:00, 66.63it/s]\n"
     ]
    },
    {
     "name": "stdout",
     "output_type": "stream",
     "text": [
      "Parameters: chunk_size=300, chunk_overlap=0, retriever_weights=[0.7, 0.3]\n",
      "Mean Average Precision (MAP): 0.7853333333333332\n",
      "\n",
      "Embedding Model : intfloat/multilingual-e5-large-instruct\n",
      "FAISS 인덱스에 추가된 문서 수: 6486\n"
     ]
    },
    {
     "name": "stderr",
     "output_type": "stream",
     "text": [
      "100%|██████████| 500/500 [00:07<00:00, 64.02it/s]\n"
     ]
    },
    {
     "name": "stdout",
     "output_type": "stream",
     "text": [
      "Parameters: chunk_size=300, chunk_overlap=0, retriever_weights=[0.3, 0.7]\n",
      "Mean Average Precision (MAP): 0.725833333333333\n",
      "\n",
      "Embedding Model : intfloat/multilingual-e5-large-instruct\n",
      "FAISS 인덱스에 추가된 문서 수: 6532\n"
     ]
    },
    {
     "name": "stderr",
     "output_type": "stream",
     "text": [
      "100%|██████████| 500/500 [00:07<00:00, 66.28it/s]\n"
     ]
    },
    {
     "name": "stdout",
     "output_type": "stream",
     "text": [
      "Parameters: chunk_size=300, chunk_overlap=50, retriever_weights=[0.5, 0.5]\n",
      "Mean Average Precision (MAP): 0.8306666666666662\n",
      "\n",
      "Embedding Model : intfloat/multilingual-e5-large-instruct\n",
      "FAISS 인덱스에 추가된 문서 수: 6532\n"
     ]
    },
    {
     "name": "stderr",
     "output_type": "stream",
     "text": [
      "100%|██████████| 500/500 [00:07<00:00, 63.76it/s]\n"
     ]
    },
    {
     "name": "stdout",
     "output_type": "stream",
     "text": [
      "Parameters: chunk_size=300, chunk_overlap=50, retriever_weights=[0.6, 0.4]\n",
      "Mean Average Precision (MAP): 0.7846666666666666\n",
      "\n",
      "Embedding Model : intfloat/multilingual-e5-large-instruct\n",
      "FAISS 인덱스에 추가된 문서 수: 6532\n"
     ]
    },
    {
     "name": "stderr",
     "output_type": "stream",
     "text": [
      "100%|██████████| 500/500 [00:07<00:00, 66.90it/s]\n"
     ]
    },
    {
     "name": "stdout",
     "output_type": "stream",
     "text": [
      "Parameters: chunk_size=300, chunk_overlap=50, retriever_weights=[0.4, 0.6]\n",
      "Mean Average Precision (MAP): 0.8176666666666662\n",
      "\n",
      "Embedding Model : intfloat/multilingual-e5-large-instruct\n",
      "FAISS 인덱스에 추가된 문서 수: 6532\n"
     ]
    },
    {
     "name": "stderr",
     "output_type": "stream",
     "text": [
      "100%|██████████| 500/500 [00:07<00:00, 63.11it/s]\n"
     ]
    },
    {
     "name": "stdout",
     "output_type": "stream",
     "text": [
      "Parameters: chunk_size=300, chunk_overlap=50, retriever_weights=[0.7, 0.3]\n",
      "Mean Average Precision (MAP): 0.7836666666666666\n",
      "\n",
      "Embedding Model : intfloat/multilingual-e5-large-instruct\n",
      "FAISS 인덱스에 추가된 문서 수: 6532\n"
     ]
    },
    {
     "name": "stderr",
     "output_type": "stream",
     "text": [
      "100%|██████████| 500/500 [00:07<00:00, 66.08it/s]\n"
     ]
    },
    {
     "name": "stdout",
     "output_type": "stream",
     "text": [
      "Parameters: chunk_size=300, chunk_overlap=50, retriever_weights=[0.3, 0.7]\n",
      "Mean Average Precision (MAP): 0.8173333333333328\n",
      "\n",
      "Embedding Model : intfloat/multilingual-e5-large-instruct\n",
      "FAISS 인덱스에 추가된 문서 수: 6630\n"
     ]
    },
    {
     "name": "stderr",
     "output_type": "stream",
     "text": [
      "100%|██████████| 500/500 [00:07<00:00, 66.20it/s]\n"
     ]
    },
    {
     "name": "stdout",
     "output_type": "stream",
     "text": [
      "Parameters: chunk_size=300, chunk_overlap=100, retriever_weights=[0.5, 0.5]\n",
      "Mean Average Precision (MAP): 0.8348333333333327\n",
      "\n",
      "Embedding Model : intfloat/multilingual-e5-large-instruct\n",
      "FAISS 인덱스에 추가된 문서 수: 6630\n"
     ]
    },
    {
     "name": "stderr",
     "output_type": "stream",
     "text": [
      "100%|██████████| 500/500 [00:07<00:00, 65.67it/s]\n"
     ]
    },
    {
     "name": "stdout",
     "output_type": "stream",
     "text": [
      "Parameters: chunk_size=300, chunk_overlap=100, retriever_weights=[0.6, 0.4]\n",
      "Mean Average Precision (MAP): 0.7863333333333332\n",
      "\n",
      "Embedding Model : intfloat/multilingual-e5-large-instruct\n",
      "FAISS 인덱스에 추가된 문서 수: 6630\n"
     ]
    },
    {
     "name": "stderr",
     "output_type": "stream",
     "text": [
      "100%|██████████| 500/500 [00:07<00:00, 66.10it/s]\n"
     ]
    },
    {
     "name": "stdout",
     "output_type": "stream",
     "text": [
      "Parameters: chunk_size=300, chunk_overlap=100, retriever_weights=[0.4, 0.6]\n",
      "Mean Average Precision (MAP): 0.8413333333333329\n",
      "\n",
      "Embedding Model : intfloat/multilingual-e5-large-instruct\n",
      "FAISS 인덱스에 추가된 문서 수: 6630\n"
     ]
    },
    {
     "name": "stderr",
     "output_type": "stream",
     "text": [
      "100%|██████████| 500/500 [00:07<00:00, 66.04it/s]\n"
     ]
    },
    {
     "name": "stdout",
     "output_type": "stream",
     "text": [
      "Parameters: chunk_size=300, chunk_overlap=100, retriever_weights=[0.7, 0.3]\n",
      "Mean Average Precision (MAP): 0.7853333333333332\n",
      "\n",
      "Embedding Model : intfloat/multilingual-e5-large-instruct\n",
      "FAISS 인덱스에 추가된 문서 수: 6630\n"
     ]
    },
    {
     "name": "stderr",
     "output_type": "stream",
     "text": [
      "100%|██████████| 500/500 [00:07<00:00, 66.20it/s]\n"
     ]
    },
    {
     "name": "stdout",
     "output_type": "stream",
     "text": [
      "Parameters: chunk_size=300, chunk_overlap=100, retriever_weights=[0.3, 0.7]\n",
      "Mean Average Precision (MAP): 0.8411666666666663\n",
      "\n",
      "Embedding Model : intfloat/multilingual-e5-large-instruct\n",
      "FAISS 인덱스에 추가된 문서 수: 4886\n"
     ]
    },
    {
     "name": "stderr",
     "output_type": "stream",
     "text": [
      "100%|██████████| 500/500 [00:07<00:00, 71.08it/s]\n"
     ]
    },
    {
     "name": "stdout",
     "output_type": "stream",
     "text": [
      "Parameters: chunk_size=400, chunk_overlap=0, retriever_weights=[0.5, 0.5]\n",
      "Mean Average Precision (MAP): 0.835333333333333\n",
      "\n",
      "Embedding Model : intfloat/multilingual-e5-large-instruct\n",
      "FAISS 인덱스에 추가된 문서 수: 4886\n"
     ]
    },
    {
     "name": "stderr",
     "output_type": "stream",
     "text": [
      "100%|██████████| 500/500 [00:07<00:00, 70.91it/s]\n"
     ]
    },
    {
     "name": "stdout",
     "output_type": "stream",
     "text": [
      "Parameters: chunk_size=400, chunk_overlap=0, retriever_weights=[0.6, 0.4]\n",
      "Mean Average Precision (MAP): 0.8006666666666665\n",
      "\n",
      "Embedding Model : intfloat/multilingual-e5-large-instruct\n",
      "FAISS 인덱스에 추가된 문서 수: 4886\n"
     ]
    },
    {
     "name": "stderr",
     "output_type": "stream",
     "text": [
      "100%|██████████| 500/500 [00:06<00:00, 71.58it/s]\n"
     ]
    },
    {
     "name": "stdout",
     "output_type": "stream",
     "text": [
      "Parameters: chunk_size=400, chunk_overlap=0, retriever_weights=[0.4, 0.6]\n",
      "Mean Average Precision (MAP): 0.7873333333333333\n",
      "\n",
      "Embedding Model : intfloat/multilingual-e5-large-instruct\n",
      "FAISS 인덱스에 추가된 문서 수: 4886\n"
     ]
    },
    {
     "name": "stderr",
     "output_type": "stream",
     "text": [
      "100%|██████████| 500/500 [00:06<00:00, 71.73it/s]\n"
     ]
    },
    {
     "name": "stdout",
     "output_type": "stream",
     "text": [
      "Parameters: chunk_size=400, chunk_overlap=0, retriever_weights=[0.7, 0.3]\n",
      "Mean Average Precision (MAP): 0.8039999999999999\n",
      "\n",
      "Embedding Model : intfloat/multilingual-e5-large-instruct\n",
      "FAISS 인덱스에 추가된 문서 수: 4886\n"
     ]
    },
    {
     "name": "stderr",
     "output_type": "stream",
     "text": [
      "100%|██████████| 500/500 [00:07<00:00, 68.80it/s]\n"
     ]
    },
    {
     "name": "stdout",
     "output_type": "stream",
     "text": [
      "Parameters: chunk_size=400, chunk_overlap=0, retriever_weights=[0.3, 0.7]\n",
      "Mean Average Precision (MAP): 0.7843333333333333\n",
      "\n",
      "Embedding Model : intfloat/multilingual-e5-large-instruct\n",
      "FAISS 인덱스에 추가된 문서 수: 4899\n"
     ]
    },
    {
     "name": "stderr",
     "output_type": "stream",
     "text": [
      "100%|██████████| 500/500 [00:07<00:00, 69.00it/s]\n"
     ]
    },
    {
     "name": "stdout",
     "output_type": "stream",
     "text": [
      "Parameters: chunk_size=400, chunk_overlap=50, retriever_weights=[0.5, 0.5]\n",
      "Mean Average Precision (MAP): 0.8468333333333331\n",
      "\n",
      "Embedding Model : intfloat/multilingual-e5-large-instruct\n",
      "FAISS 인덱스에 추가된 문서 수: 4899\n"
     ]
    },
    {
     "name": "stderr",
     "output_type": "stream",
     "text": [
      "100%|██████████| 500/500 [00:07<00:00, 68.05it/s]\n"
     ]
    },
    {
     "name": "stdout",
     "output_type": "stream",
     "text": [
      "Parameters: chunk_size=400, chunk_overlap=50, retriever_weights=[0.6, 0.4]\n",
      "Mean Average Precision (MAP): 0.8049999999999999\n",
      "\n",
      "Embedding Model : intfloat/multilingual-e5-large-instruct\n",
      "FAISS 인덱스에 추가된 문서 수: 4899\n"
     ]
    },
    {
     "name": "stderr",
     "output_type": "stream",
     "text": [
      "100%|██████████| 500/500 [00:07<00:00, 70.47it/s]\n"
     ]
    },
    {
     "name": "stdout",
     "output_type": "stream",
     "text": [
      "Parameters: chunk_size=400, chunk_overlap=50, retriever_weights=[0.4, 0.6]\n",
      "Mean Average Precision (MAP): 0.8436666666666667\n",
      "\n",
      "Embedding Model : intfloat/multilingual-e5-large-instruct\n",
      "FAISS 인덱스에 추가된 문서 수: 4899\n"
     ]
    },
    {
     "name": "stderr",
     "output_type": "stream",
     "text": [
      "100%|██████████| 500/500 [00:07<00:00, 69.71it/s]\n"
     ]
    },
    {
     "name": "stdout",
     "output_type": "stream",
     "text": [
      "Parameters: chunk_size=400, chunk_overlap=50, retriever_weights=[0.7, 0.3]\n",
      "Mean Average Precision (MAP): 0.8029999999999999\n",
      "\n",
      "Embedding Model : intfloat/multilingual-e5-large-instruct\n",
      "FAISS 인덱스에 추가된 문서 수: 4899\n"
     ]
    },
    {
     "name": "stderr",
     "output_type": "stream",
     "text": [
      "100%|██████████| 500/500 [00:07<00:00, 68.16it/s]\n"
     ]
    },
    {
     "name": "stdout",
     "output_type": "stream",
     "text": [
      "Parameters: chunk_size=400, chunk_overlap=50, retriever_weights=[0.3, 0.7]\n",
      "Mean Average Precision (MAP): 0.8405\n",
      "\n",
      "Embedding Model : intfloat/multilingual-e5-large-instruct\n",
      "FAISS 인덱스에 추가된 문서 수: 4913\n"
     ]
    },
    {
     "name": "stderr",
     "output_type": "stream",
     "text": [
      "100%|██████████| 500/500 [00:07<00:00, 70.70it/s]\n"
     ]
    },
    {
     "name": "stdout",
     "output_type": "stream",
     "text": [
      "Parameters: chunk_size=400, chunk_overlap=100, retriever_weights=[0.5, 0.5]\n",
      "Mean Average Precision (MAP): 0.8464999999999998\n",
      "\n",
      "Embedding Model : intfloat/multilingual-e5-large-instruct\n",
      "FAISS 인덱스에 추가된 문서 수: 4913\n"
     ]
    },
    {
     "name": "stderr",
     "output_type": "stream",
     "text": [
      "100%|██████████| 500/500 [00:07<00:00, 68.12it/s]\n"
     ]
    },
    {
     "name": "stdout",
     "output_type": "stream",
     "text": [
      "Parameters: chunk_size=400, chunk_overlap=100, retriever_weights=[0.6, 0.4]\n",
      "Mean Average Precision (MAP): 0.8029999999999999\n",
      "\n",
      "Embedding Model : intfloat/multilingual-e5-large-instruct\n",
      "FAISS 인덱스에 추가된 문서 수: 4913\n"
     ]
    },
    {
     "name": "stderr",
     "output_type": "stream",
     "text": [
      "100%|██████████| 500/500 [00:07<00:00, 71.35it/s]\n"
     ]
    },
    {
     "name": "stdout",
     "output_type": "stream",
     "text": [
      "Parameters: chunk_size=400, chunk_overlap=100, retriever_weights=[0.4, 0.6]\n",
      "Mean Average Precision (MAP): 0.8438333333333332\n",
      "\n",
      "Embedding Model : intfloat/multilingual-e5-large-instruct\n",
      "FAISS 인덱스에 추가된 문서 수: 4913\n"
     ]
    },
    {
     "name": "stderr",
     "output_type": "stream",
     "text": [
      "100%|██████████| 500/500 [00:07<00:00, 70.85it/s]\n"
     ]
    },
    {
     "name": "stdout",
     "output_type": "stream",
     "text": [
      "Parameters: chunk_size=400, chunk_overlap=100, retriever_weights=[0.7, 0.3]\n",
      "Mean Average Precision (MAP): 0.7999999999999999\n",
      "\n",
      "Embedding Model : intfloat/multilingual-e5-large-instruct\n",
      "FAISS 인덱스에 추가된 문서 수: 4913\n"
     ]
    },
    {
     "name": "stderr",
     "output_type": "stream",
     "text": [
      "100%|██████████| 500/500 [00:07<00:00, 70.46it/s]"
     ]
    },
    {
     "name": "stdout",
     "output_type": "stream",
     "text": [
      "Parameters: chunk_size=400, chunk_overlap=100, retriever_weights=[0.3, 0.7]\n",
      "Mean Average Precision (MAP): 0.8416666666666667\n",
      "\n",
      "Best Mean Average Precision (MAP): 0.8998333333333327\n",
      "Best Parameters:\n",
      "  chunk_size: 100\n",
      "  chunk_overlap: 50\n",
      "  retriever_weights: [0.3, 0.7]\n"
     ]
    },
    {
     "name": "stderr",
     "output_type": "stream",
     "text": [
      "\n"
     ]
    },
    {
     "ename": "",
     "evalue": "",
     "output_type": "error",
     "traceback": [
      "\u001b[1;31m현재 셀 또는 이전 셀에서 코드를 실행하는 동안 Kernel이 충돌했습니다. \n",
      "\u001b[1;31m셀의 코드를 검토하여 가능한 오류 원인을 식별하세요. \n",
      "\u001b[1;31m자세한 내용을 보려면 <a href='https://aka.ms/vscodeJupyterKernelCrash'>여기</a>를 클릭하세요. \n",
      "\u001b[1;31m자세한 내용은 Jupyter <a href='command:jupyter.viewOutput'>로그</a>를 참조하세요."
     ]
    }
   ],
   "source": [
    "from itertools import product\n",
    "from tqdm import tqdm\n",
    "\n",
    "# 파라미터 값의 범위를 설정합니다.\n",
    "chunk_sizes = [50, 100, 200, 300, 400]\n",
    "chunk_overlaps = [0, 25, 50, 100]\n",
    "retriever_weights_list = [[0.5, 0.5], [0.6, 0.4], [0.4, 0.6], [0.7, 0.3], [0.3, 0.7]]\n",
    "\n",
    "# 최적의 MAP 값을 추적하기 위한 변수 초기화\n",
    "best_map = 0\n",
    "best_params = {}\n",
    "\n",
    "# 모든 파라미터 조합에 대해 실험을 수행합니다.\n",
    "for chunk_size, chunk_overlap, retriever_weights in product(chunk_sizes, chunk_overlaps, retriever_weights_list):\n",
    "    args.chunk_size = chunk_size\n",
    "    args.chunk_overlap = chunk_overlap\n",
    "    args.retriever_weights = retriever_weights\n",
    "    \n",
    "    # 문서 조각화\n",
    "    chunk_documents = chunking(args, ko_documents)\n",
    "    \n",
    "    # Sparse 및 Dense 리트리버 로드\n",
    "    sparse_retriever = load_sparse_model(ko_documents)\n",
    "    sparse_retriever.k = 5\n",
    "    \n",
    "    dense_retriever = load_dense_model(args, chunk_documents).as_retriever(search_kwargs={\"k\": 5})\n",
    "    \n",
    "    # 앙상블 리트리버 설정\n",
    "    retriever = EnsembleRetriever(\n",
    "        retrievers=[sparse_retriever, dense_retriever],\n",
    "        weights=args.retriever_weights,\n",
    "        search_type=\"similarity_score_threshold\"  # 또는 \"mmr\"\n",
    "    )\n",
    "    \n",
    "    # 정답 레이블 생성\n",
    "    gt = {}\n",
    "    for question in ko_questions:\n",
    "        query, question_id = question['query'], question['metadata']['docid']\n",
    "        gt[question_id] = [question_id]\n",
    "    \n",
    "    # 예측 결과 수집\n",
    "    pred = []\n",
    "    for question in tqdm(ko_questions):\n",
    "        query, question_id = question['query'], question['metadata']['docid']\n",
    "        \n",
    "        search_result = retriever.invoke(query)\n",
    "        \n",
    "        topk_result = []\n",
    "        for result in search_result:\n",
    "            topk_result.append(result.metadata.get('docid'))\n",
    "        \n",
    "        pred.append({\n",
    "            \"eval_id\": question_id,\n",
    "            \"topk\": topk_result\n",
    "        })\n",
    "    \n",
    "    # MAP 계산\n",
    "    mean_average_precision = calc_map(gt, pred)\n",
    "    print(f\"Parameters: chunk_size={chunk_size}, chunk_overlap={chunk_overlap}, retriever_weights={retriever_weights}\")\n",
    "    print(f\"Mean Average Precision (MAP): {mean_average_precision}\\n\")\n",
    "    \n",
    "    # 최적의 MAP 값과 파라미터 저장\n",
    "    if mean_average_precision > best_map:\n",
    "        best_map = mean_average_precision\n",
    "        best_params = {\n",
    "            'chunk_size': chunk_size,\n",
    "            'chunk_overlap': chunk_overlap,\n",
    "            'retriever_weights': retriever_weights\n",
    "        }\n",
    "\n",
    "# 최적의 파라미터 출력\n",
    "print(f\"Best Mean Average Precision (MAP): {best_map}\")\n",
    "print(f\"Best Parameters:\")\n",
    "print(f\"  chunk_size: {best_params['chunk_size']}\")\n",
    "print(f\"  chunk_overlap: {best_params['chunk_overlap']}\")\n",
    "print(f\"  retriever_weights: {best_params['retriever_weights']}\")\n"
   ]
  },
  {
   "cell_type": "code",
   "execution_count": null,
   "metadata": {},
   "outputs": [],
   "source": []
  }
 ],
 "metadata": {
  "kernelspec": {
   "display_name": "IR",
   "language": "python",
   "name": "python3"
  },
  "language_info": {
   "codemirror_mode": {
    "name": "ipython",
    "version": 3
   },
   "file_extension": ".py",
   "mimetype": "text/x-python",
   "name": "python",
   "nbconvert_exporter": "python",
   "pygments_lexer": "ipython3",
   "version": "3.9.19"
  }
 },
 "nbformat": 4,
 "nbformat_minor": 2
}
