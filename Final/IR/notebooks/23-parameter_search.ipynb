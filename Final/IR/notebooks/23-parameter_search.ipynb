{
 "cells": [
  {
   "cell_type": "code",
   "execution_count": 1,
   "metadata": {},
   "outputs": [
    {
     "name": "stderr",
     "output_type": "stream",
     "text": [
      "/opt/conda/lib/python3.10/site-packages/tqdm/auto.py:21: TqdmWarning: IProgress not found. Please update jupyter and ipywidgets. See https://ipywidgets.readthedocs.io/en/stable/user_install.html\n",
      "  from .autonotebook import tqdm as notebook_tqdm\n"
     ]
    },
    {
     "name": "stdout",
     "output_type": "stream",
     "text": [
      "The token has not been saved to the git credentials helper. Pass `add_to_git_credential=True` in this function directly or `--add-to-git-credential` if using via `huggingface-cli` if you want to set the git credential as well.\n",
      "Token is valid (permission: read).\n",
      "Your token has been saved to /data/ephemeral/home/.cache/huggingface/token\n",
      "Login successful\n"
     ]
    }
   ],
   "source": [
    "import sys\n",
    "sys.path.append(\"/data/ephemeral/home/Upstage_Ai_Lab/Final/IR/src\")\n",
    "\n",
    "import os\n",
    "import time\n",
    "import json\n",
    "import random\n",
    "import warnings\n",
    "import anthropic\n",
    "import threading\n",
    "import huggingface_hub\n",
    "\n",
    "from tqdm import tqdm\n",
    "from openai import OpenAI\n",
    "from itertools import product\n",
    "from scipy.spatial.distance import cosine\n",
    "from concurrent.futures import ThreadPoolExecutor, as_completed\n",
    "\n",
    "from langchain.retrievers import EnsembleRetriever\n",
    "from langchain_text_splitters import RecursiveCharacterTextSplitter\n",
    "\n",
    "os.environ[\"TOKENIZERS_PARALLELISM\"] = \"false\"\n",
    "warnings.filterwarnings(\"ignore\", category=FutureWarning)\n",
    "\n",
    "from dotenv import load_dotenv\n",
    "load_dotenv(\"../keys.env\")\n",
    "\n",
    "upstage_api_key = os.getenv(\"UPSTAGE_API_KEY\")\n",
    "os.environ['UPSTAGE_API_KEY'] = upstage_api_key\n",
    "\n",
    "openai_api_key = os.getenv('OPENAI_API_KEY')\n",
    "os.environ['OPENAI_API_KEY'] = openai_api_key\n",
    "\n",
    "anthropic_api_key = os.getenv('ANTHROPIC_API_KEY')\n",
    "os.environ['ANTHROPIC_API_KEY'] = anthropic_api_key\n",
    "\n",
    "hf_token = os.getenv(\"HF_TOKEN\")\n",
    "huggingface_hub.login(hf_token)\n",
    "\n",
    "from config import Args\n",
    "from data.data import load_document, load_query, chunking\n",
    "\n",
    "from sparse_retriever.model import load_sparse_model\n",
    "from dense_retriever.model import load_dense_model, load_hf_encoder, load_upstage_encoder, load_openai_encoder, load_voyage_encoder"
   ]
  },
  {
   "cell_type": "code",
   "execution_count": 2,
   "metadata": {},
   "outputs": [],
   "source": [
    "args = Args()\n",
    "\n",
    "documents_data_path = \"../dataset/gpt_contextual_retrieval_documents_v3.jsonl\"\n",
    "questions_data_path = \"../dataset/processed_documents_queries.jsonl\"\n",
    "\n",
    "documents = load_document(documents_data_path)\n",
    "questions = load_query(questions_data_path)\n",
    "\n",
    "random.shuffle(questions)\n",
    "questions = questions[:100]"
   ]
  },
  {
   "cell_type": "code",
   "execution_count": 3,
   "metadata": {},
   "outputs": [],
   "source": [
    "retriever_weights_list = [[0.5, 0.5], [0.4, 0.6], [0.3, 0.7], [0.2, 0.8], [0.1, 0.9]]\n",
    "ensemble_weights_list = [[0.3, 0.3, 0.4], [0.25, 0.25, 5], [0.2, 0.2, 0.6], [0.15, 0.15, 0.7], [0.1, 0.1, 0.8], [0.05, 0.05, 0.9], [0, 0, 1]]"
   ]
  },
  {
   "cell_type": "code",
   "execution_count": 4,
   "metadata": {},
   "outputs": [],
   "source": [
    "def calc_map(gt, pred):    \n",
    "    sum_average_precision = 0    \n",
    "    for j in pred:        \n",
    "        if gt[j[\"eval_id\"]]:            \n",
    "            hit_count = 0            \n",
    "            sum_precision = 0            \n",
    "            for i,docid in enumerate(j[\"topk\"][:3]):                \n",
    "                if docid in gt[j[\"eval_id\"]]:                    \n",
    "                    hit_count += 1                    \n",
    "                    sum_precision += hit_count/(i+1)            \n",
    "            average_precision = sum_precision / hit_count if hit_count > 0 else 0        \n",
    "        else:            \n",
    "            average_precision = 0 if j[\"topk\"] else 1        \n",
    "        sum_average_precision += average_precision    \n",
    "    return sum_average_precision/len(pred)"
   ]
  },
  {
   "cell_type": "code",
   "execution_count": 5,
   "metadata": {},
   "outputs": [],
   "source": [
    "# folder_path = f\"./index_files/{args.encoder_method}\"\n",
    "# os.makedirs(folder_path, exist_ok=True)"
   ]
  },
  {
   "cell_type": "code",
   "execution_count": 6,
   "metadata": {},
   "outputs": [
    {
     "name": "stderr",
     "output_type": "stream",
     "text": [
      "/opt/conda/lib/python3.10/site-packages/torch/_utils.py:831: UserWarning: TypedStorage is deprecated. It will be removed in the future and UntypedStorage will be the only storage class. This should only matter to you if you are using storages directly.  To access UntypedStorage directly, use tensor.untyped_storage() instead of tensor.storage()\n",
      "  return self.fget.__get__(instance, owner)()\n"
     ]
    },
    {
     "name": "stdout",
     "output_type": "stream",
     "text": [
      "FAISS 인덱스 로드 중: /data/ephemeral/home/Upstage_Ai_Lab/Final/IR/src/index_files/upstage/CRV3\n",
      "FAISS 인덱스 로드 완료, 총 문서 수: 24799\n"
     ]
    },
    {
     "name": "stderr",
     "output_type": "stream",
     "text": [
      "100%|██████████| 100/100 [16:15<00:00,  9.76s/it]\n"
     ]
    },
    {
     "name": "stdout",
     "output_type": "stream",
     "text": [
      "Parameters: chunk_size=100, chunk_overlap=50, retriever_weights=[0.5, 0.5], ensemble_weights=[0.3, 0.3, 0.4]\n",
      "Mean Average Precision (MAP): 0.9158\n",
      "\n",
      "FAISS 인덱스 로드 중: /data/ephemeral/home/Upstage_Ai_Lab/Final/IR/src/index_files/upstage/CRV3\n",
      "FAISS 인덱스 로드 완료, 총 문서 수: 24799\n"
     ]
    },
    {
     "name": "stderr",
     "output_type": "stream",
     "text": [
      "100%|██████████| 100/100 [16:18<00:00,  9.79s/it]\n"
     ]
    },
    {
     "name": "stdout",
     "output_type": "stream",
     "text": [
      "Parameters: chunk_size=100, chunk_overlap=50, retriever_weights=[0.5, 0.5], ensemble_weights=[0.25, 0.25, 5]\n",
      "Mean Average Precision (MAP): 0.9033\n",
      "\n",
      "FAISS 인덱스 로드 중: /data/ephemeral/home/Upstage_Ai_Lab/Final/IR/src/index_files/upstage/CRV3\n",
      "FAISS 인덱스 로드 완료, 총 문서 수: 24799\n"
     ]
    },
    {
     "name": "stderr",
     "output_type": "stream",
     "text": [
      "100%|██████████| 100/100 [16:32<00:00,  9.93s/it]\n"
     ]
    },
    {
     "name": "stdout",
     "output_type": "stream",
     "text": [
      "Parameters: chunk_size=100, chunk_overlap=50, retriever_weights=[0.5, 0.5], ensemble_weights=[0.2, 0.2, 0.6]\n",
      "Mean Average Precision (MAP): 0.9175\n",
      "\n",
      "FAISS 인덱스 로드 중: /data/ephemeral/home/Upstage_Ai_Lab/Final/IR/src/index_files/upstage/CRV3\n",
      "FAISS 인덱스 로드 완료, 총 문서 수: 24799\n"
     ]
    },
    {
     "name": "stderr",
     "output_type": "stream",
     "text": [
      "100%|██████████| 100/100 [16:23<00:00,  9.84s/it]\n"
     ]
    },
    {
     "name": "stdout",
     "output_type": "stream",
     "text": [
      "Parameters: chunk_size=100, chunk_overlap=50, retriever_weights=[0.5, 0.5], ensemble_weights=[0.15, 0.15, 0.7]\n",
      "Mean Average Precision (MAP): 0.9158\n",
      "\n",
      "FAISS 인덱스 로드 중: /data/ephemeral/home/Upstage_Ai_Lab/Final/IR/src/index_files/upstage/CRV3\n",
      "FAISS 인덱스 로드 완료, 총 문서 수: 24799\n"
     ]
    },
    {
     "name": "stderr",
     "output_type": "stream",
     "text": [
      "100%|██████████| 100/100 [16:14<00:00,  9.75s/it]\n"
     ]
    },
    {
     "name": "stdout",
     "output_type": "stream",
     "text": [
      "Parameters: chunk_size=100, chunk_overlap=50, retriever_weights=[0.5, 0.5], ensemble_weights=[0.1, 0.1, 0.8]\n",
      "Mean Average Precision (MAP): 0.8992\n",
      "\n",
      "FAISS 인덱스 로드 중: /data/ephemeral/home/Upstage_Ai_Lab/Final/IR/src/index_files/upstage/CRV3\n",
      "FAISS 인덱스 로드 완료, 총 문서 수: 24799\n"
     ]
    },
    {
     "name": "stderr",
     "output_type": "stream",
     "text": [
      "100%|██████████| 100/100 [16:04<00:00,  9.65s/it]\n"
     ]
    },
    {
     "name": "stdout",
     "output_type": "stream",
     "text": [
      "Parameters: chunk_size=100, chunk_overlap=50, retriever_weights=[0.5, 0.5], ensemble_weights=[0.05, 0.05, 0.9]\n",
      "Mean Average Precision (MAP): 0.9017\n",
      "\n",
      "FAISS 인덱스 로드 중: /data/ephemeral/home/Upstage_Ai_Lab/Final/IR/src/index_files/upstage/CRV3\n",
      "FAISS 인덱스 로드 완료, 총 문서 수: 24799\n"
     ]
    },
    {
     "name": "stderr",
     "output_type": "stream",
     "text": [
      "100%|██████████| 100/100 [16:13<00:00,  9.73s/it]\n"
     ]
    },
    {
     "name": "stdout",
     "output_type": "stream",
     "text": [
      "Parameters: chunk_size=100, chunk_overlap=50, retriever_weights=[0.5, 0.5], ensemble_weights=[0, 0, 1]\n",
      "Mean Average Precision (MAP): 0.9025\n",
      "\n",
      "FAISS 인덱스 로드 중: /data/ephemeral/home/Upstage_Ai_Lab/Final/IR/src/index_files/upstage/CRV3\n",
      "FAISS 인덱스 로드 완료, 총 문서 수: 24799\n"
     ]
    },
    {
     "name": "stderr",
     "output_type": "stream",
     "text": [
      "100%|██████████| 100/100 [16:28<00:00,  9.88s/it]\n"
     ]
    },
    {
     "name": "stdout",
     "output_type": "stream",
     "text": [
      "Parameters: chunk_size=100, chunk_overlap=50, retriever_weights=[0.4, 0.6], ensemble_weights=[0.3, 0.3, 0.4]\n",
      "Mean Average Precision (MAP): 0.9158\n",
      "\n",
      "FAISS 인덱스 로드 중: /data/ephemeral/home/Upstage_Ai_Lab/Final/IR/src/index_files/upstage/CRV3\n",
      "FAISS 인덱스 로드 완료, 총 문서 수: 24799\n"
     ]
    },
    {
     "name": "stderr",
     "output_type": "stream",
     "text": [
      "100%|██████████| 100/100 [16:16<00:00,  9.76s/it]\n"
     ]
    },
    {
     "name": "stdout",
     "output_type": "stream",
     "text": [
      "Parameters: chunk_size=100, chunk_overlap=50, retriever_weights=[0.4, 0.6], ensemble_weights=[0.25, 0.25, 5]\n",
      "Mean Average Precision (MAP): 0.9033\n",
      "\n",
      "FAISS 인덱스 로드 중: /data/ephemeral/home/Upstage_Ai_Lab/Final/IR/src/index_files/upstage/CRV3\n",
      "FAISS 인덱스 로드 완료, 총 문서 수: 24799\n"
     ]
    },
    {
     "name": "stderr",
     "output_type": "stream",
     "text": [
      "100%|██████████| 100/100 [16:04<00:00,  9.64s/it]\n"
     ]
    },
    {
     "name": "stdout",
     "output_type": "stream",
     "text": [
      "Parameters: chunk_size=100, chunk_overlap=50, retriever_weights=[0.4, 0.6], ensemble_weights=[0.2, 0.2, 0.6]\n",
      "Mean Average Precision (MAP): 0.9175\n",
      "\n",
      "FAISS 인덱스 로드 중: /data/ephemeral/home/Upstage_Ai_Lab/Final/IR/src/index_files/upstage/CRV3\n",
      "FAISS 인덱스 로드 완료, 총 문서 수: 24799\n"
     ]
    },
    {
     "name": "stderr",
     "output_type": "stream",
     "text": [
      "100%|██████████| 100/100 [16:23<00:00,  9.83s/it]\n"
     ]
    },
    {
     "name": "stdout",
     "output_type": "stream",
     "text": [
      "Parameters: chunk_size=100, chunk_overlap=50, retriever_weights=[0.4, 0.6], ensemble_weights=[0.15, 0.15, 0.7]\n",
      "Mean Average Precision (MAP): 0.9158\n",
      "\n",
      "FAISS 인덱스 로드 중: /data/ephemeral/home/Upstage_Ai_Lab/Final/IR/src/index_files/upstage/CRV3\n",
      "FAISS 인덱스 로드 완료, 총 문서 수: 24799\n"
     ]
    },
    {
     "name": "stderr",
     "output_type": "stream",
     "text": [
      "100%|██████████| 100/100 [16:25<00:00,  9.86s/it]\n"
     ]
    },
    {
     "name": "stdout",
     "output_type": "stream",
     "text": [
      "Parameters: chunk_size=100, chunk_overlap=50, retriever_weights=[0.4, 0.6], ensemble_weights=[0.1, 0.1, 0.8]\n",
      "Mean Average Precision (MAP): 0.8992\n",
      "\n",
      "FAISS 인덱스 로드 중: /data/ephemeral/home/Upstage_Ai_Lab/Final/IR/src/index_files/upstage/CRV3\n",
      "FAISS 인덱스 로드 완료, 총 문서 수: 24799\n"
     ]
    },
    {
     "name": "stderr",
     "output_type": "stream",
     "text": [
      "100%|██████████| 100/100 [15:58<00:00,  9.59s/it]\n"
     ]
    },
    {
     "name": "stdout",
     "output_type": "stream",
     "text": [
      "Parameters: chunk_size=100, chunk_overlap=50, retriever_weights=[0.4, 0.6], ensemble_weights=[0.05, 0.05, 0.9]\n",
      "Mean Average Precision (MAP): 0.9017\n",
      "\n",
      "FAISS 인덱스 로드 중: /data/ephemeral/home/Upstage_Ai_Lab/Final/IR/src/index_files/upstage/CRV3\n",
      "FAISS 인덱스 로드 완료, 총 문서 수: 24799\n"
     ]
    },
    {
     "name": "stderr",
     "output_type": "stream",
     "text": [
      "100%|██████████| 100/100 [15:46<00:00,  9.47s/it]\n"
     ]
    },
    {
     "name": "stdout",
     "output_type": "stream",
     "text": [
      "Parameters: chunk_size=100, chunk_overlap=50, retriever_weights=[0.4, 0.6], ensemble_weights=[0, 0, 1]\n",
      "Mean Average Precision (MAP): 0.9025\n",
      "\n",
      "FAISS 인덱스 로드 중: /data/ephemeral/home/Upstage_Ai_Lab/Final/IR/src/index_files/upstage/CRV3\n",
      "FAISS 인덱스 로드 완료, 총 문서 수: 24799\n"
     ]
    },
    {
     "name": "stderr",
     "output_type": "stream",
     "text": [
      "100%|██████████| 100/100 [17:56<00:00, 10.76s/it]\n"
     ]
    },
    {
     "name": "stdout",
     "output_type": "stream",
     "text": [
      "Parameters: chunk_size=100, chunk_overlap=50, retriever_weights=[0.3, 0.7], ensemble_weights=[0.3, 0.3, 0.4]\n",
      "Mean Average Precision (MAP): 0.9158\n",
      "\n",
      "FAISS 인덱스 로드 중: /data/ephemeral/home/Upstage_Ai_Lab/Final/IR/src/index_files/upstage/CRV3\n",
      "FAISS 인덱스 로드 완료, 총 문서 수: 24799\n"
     ]
    },
    {
     "name": "stderr",
     "output_type": "stream",
     "text": [
      "100%|██████████| 100/100 [19:38<00:00, 11.78s/it]\n"
     ]
    },
    {
     "name": "stdout",
     "output_type": "stream",
     "text": [
      "Parameters: chunk_size=100, chunk_overlap=50, retriever_weights=[0.3, 0.7], ensemble_weights=[0.25, 0.25, 5]\n",
      "Mean Average Precision (MAP): 0.9033\n",
      "\n",
      "FAISS 인덱스 로드 중: /data/ephemeral/home/Upstage_Ai_Lab/Final/IR/src/index_files/upstage/CRV3\n",
      "FAISS 인덱스 로드 완료, 총 문서 수: 24799\n"
     ]
    },
    {
     "name": "stderr",
     "output_type": "stream",
     "text": [
      "100%|██████████| 100/100 [19:29<00:00, 11.69s/it]\n"
     ]
    },
    {
     "name": "stdout",
     "output_type": "stream",
     "text": [
      "Parameters: chunk_size=100, chunk_overlap=50, retriever_weights=[0.3, 0.7], ensemble_weights=[0.2, 0.2, 0.6]\n",
      "Mean Average Precision (MAP): 0.9175\n",
      "\n",
      "FAISS 인덱스 로드 중: /data/ephemeral/home/Upstage_Ai_Lab/Final/IR/src/index_files/upstage/CRV3\n",
      "FAISS 인덱스 로드 완료, 총 문서 수: 24799\n"
     ]
    },
    {
     "name": "stderr",
     "output_type": "stream",
     "text": [
      "100%|██████████| 100/100 [19:33<00:00, 11.73s/it]\n"
     ]
    },
    {
     "name": "stdout",
     "output_type": "stream",
     "text": [
      "Parameters: chunk_size=100, chunk_overlap=50, retriever_weights=[0.3, 0.7], ensemble_weights=[0.15, 0.15, 0.7]\n",
      "Mean Average Precision (MAP): 0.9158\n",
      "\n",
      "FAISS 인덱스 로드 중: /data/ephemeral/home/Upstage_Ai_Lab/Final/IR/src/index_files/upstage/CRV3\n",
      "FAISS 인덱스 로드 완료, 총 문서 수: 24799\n"
     ]
    },
    {
     "name": "stderr",
     "output_type": "stream",
     "text": [
      "100%|██████████| 100/100 [19:37<00:00, 11.78s/it]\n"
     ]
    },
    {
     "name": "stdout",
     "output_type": "stream",
     "text": [
      "Parameters: chunk_size=100, chunk_overlap=50, retriever_weights=[0.3, 0.7], ensemble_weights=[0.1, 0.1, 0.8]\n",
      "Mean Average Precision (MAP): 0.8992\n",
      "\n",
      "FAISS 인덱스 로드 중: /data/ephemeral/home/Upstage_Ai_Lab/Final/IR/src/index_files/upstage/CRV3\n",
      "FAISS 인덱스 로드 완료, 총 문서 수: 24799\n"
     ]
    },
    {
     "name": "stderr",
     "output_type": "stream",
     "text": [
      "100%|██████████| 100/100 [19:36<00:00, 11.77s/it]\n"
     ]
    },
    {
     "name": "stdout",
     "output_type": "stream",
     "text": [
      "Parameters: chunk_size=100, chunk_overlap=50, retriever_weights=[0.3, 0.7], ensemble_weights=[0.05, 0.05, 0.9]\n",
      "Mean Average Precision (MAP): 0.9017\n",
      "\n",
      "FAISS 인덱스 로드 중: /data/ephemeral/home/Upstage_Ai_Lab/Final/IR/src/index_files/upstage/CRV3\n",
      "FAISS 인덱스 로드 완료, 총 문서 수: 24799\n"
     ]
    },
    {
     "name": "stderr",
     "output_type": "stream",
     "text": [
      "100%|██████████| 100/100 [19:11<00:00, 11.52s/it]\n"
     ]
    },
    {
     "name": "stdout",
     "output_type": "stream",
     "text": [
      "Parameters: chunk_size=100, chunk_overlap=50, retriever_weights=[0.3, 0.7], ensemble_weights=[0, 0, 1]\n",
      "Mean Average Precision (MAP): 0.9025\n",
      "\n",
      "FAISS 인덱스 로드 중: /data/ephemeral/home/Upstage_Ai_Lab/Final/IR/src/index_files/upstage/CRV3\n",
      "FAISS 인덱스 로드 완료, 총 문서 수: 24799\n"
     ]
    },
    {
     "name": "stderr",
     "output_type": "stream",
     "text": [
      "100%|██████████| 100/100 [19:18<00:00, 11.58s/it]\n"
     ]
    },
    {
     "name": "stdout",
     "output_type": "stream",
     "text": [
      "Parameters: chunk_size=100, chunk_overlap=50, retriever_weights=[0.2, 0.8], ensemble_weights=[0.3, 0.3, 0.4]\n",
      "Mean Average Precision (MAP): 0.9158\n",
      "\n",
      "FAISS 인덱스 로드 중: /data/ephemeral/home/Upstage_Ai_Lab/Final/IR/src/index_files/upstage/CRV3\n",
      "FAISS 인덱스 로드 완료, 총 문서 수: 24799\n"
     ]
    },
    {
     "name": "stderr",
     "output_type": "stream",
     "text": [
      "100%|██████████| 100/100 [18:17<00:00, 10.97s/it]\n"
     ]
    },
    {
     "name": "stdout",
     "output_type": "stream",
     "text": [
      "Parameters: chunk_size=100, chunk_overlap=50, retriever_weights=[0.2, 0.8], ensemble_weights=[0.25, 0.25, 5]\n",
      "Mean Average Precision (MAP): 0.9033\n",
      "\n",
      "FAISS 인덱스 로드 중: /data/ephemeral/home/Upstage_Ai_Lab/Final/IR/src/index_files/upstage/CRV3\n",
      "FAISS 인덱스 로드 완료, 총 문서 수: 24799\n"
     ]
    },
    {
     "name": "stderr",
     "output_type": "stream",
     "text": [
      "100%|██████████| 100/100 [18:46<00:00, 11.27s/it]\n"
     ]
    },
    {
     "name": "stdout",
     "output_type": "stream",
     "text": [
      "Parameters: chunk_size=100, chunk_overlap=50, retriever_weights=[0.2, 0.8], ensemble_weights=[0.2, 0.2, 0.6]\n",
      "Mean Average Precision (MAP): 0.9175\n",
      "\n",
      "FAISS 인덱스 로드 중: /data/ephemeral/home/Upstage_Ai_Lab/Final/IR/src/index_files/upstage/CRV3\n",
      "FAISS 인덱스 로드 완료, 총 문서 수: 24799\n"
     ]
    },
    {
     "name": "stderr",
     "output_type": "stream",
     "text": [
      "100%|██████████| 100/100 [23:43<00:00, 14.24s/it]\n"
     ]
    },
    {
     "name": "stdout",
     "output_type": "stream",
     "text": [
      "Parameters: chunk_size=100, chunk_overlap=50, retriever_weights=[0.2, 0.8], ensemble_weights=[0.15, 0.15, 0.7]\n",
      "Mean Average Precision (MAP): 0.9158\n",
      "\n",
      "FAISS 인덱스 로드 중: /data/ephemeral/home/Upstage_Ai_Lab/Final/IR/src/index_files/upstage/CRV3\n",
      "FAISS 인덱스 로드 완료, 총 문서 수: 24799\n"
     ]
    },
    {
     "name": "stderr",
     "output_type": "stream",
     "text": [
      "100%|██████████| 100/100 [17:04<00:00, 10.25s/it]\n"
     ]
    },
    {
     "name": "stdout",
     "output_type": "stream",
     "text": [
      "Parameters: chunk_size=100, chunk_overlap=50, retriever_weights=[0.2, 0.8], ensemble_weights=[0.1, 0.1, 0.8]\n",
      "Mean Average Precision (MAP): 0.8992\n",
      "\n",
      "FAISS 인덱스 로드 중: /data/ephemeral/home/Upstage_Ai_Lab/Final/IR/src/index_files/upstage/CRV3\n",
      "FAISS 인덱스 로드 완료, 총 문서 수: 24799\n"
     ]
    },
    {
     "name": "stderr",
     "output_type": "stream",
     "text": [
      "100%|██████████| 100/100 [17:00<00:00, 10.21s/it]\n"
     ]
    },
    {
     "name": "stdout",
     "output_type": "stream",
     "text": [
      "Parameters: chunk_size=100, chunk_overlap=50, retriever_weights=[0.2, 0.8], ensemble_weights=[0.05, 0.05, 0.9]\n",
      "Mean Average Precision (MAP): 0.9017\n",
      "\n",
      "FAISS 인덱스 로드 중: /data/ephemeral/home/Upstage_Ai_Lab/Final/IR/src/index_files/upstage/CRV3\n",
      "FAISS 인덱스 로드 완료, 총 문서 수: 24799\n"
     ]
    },
    {
     "name": "stderr",
     "output_type": "stream",
     "text": [
      "100%|██████████| 100/100 [17:06<00:00, 10.26s/it]\n"
     ]
    },
    {
     "name": "stdout",
     "output_type": "stream",
     "text": [
      "Parameters: chunk_size=100, chunk_overlap=50, retriever_weights=[0.2, 0.8], ensemble_weights=[0, 0, 1]\n",
      "Mean Average Precision (MAP): 0.9025\n",
      "\n",
      "FAISS 인덱스 로드 중: /data/ephemeral/home/Upstage_Ai_Lab/Final/IR/src/index_files/upstage/CRV3\n",
      "FAISS 인덱스 로드 완료, 총 문서 수: 24799\n"
     ]
    },
    {
     "name": "stderr",
     "output_type": "stream",
     "text": [
      "100%|██████████| 100/100 [18:59<00:00, 11.39s/it]\n"
     ]
    },
    {
     "name": "stdout",
     "output_type": "stream",
     "text": [
      "Parameters: chunk_size=100, chunk_overlap=50, retriever_weights=[0.1, 0.9], ensemble_weights=[0.3, 0.3, 0.4]\n",
      "Mean Average Precision (MAP): 0.9158\n",
      "\n",
      "FAISS 인덱스 로드 중: /data/ephemeral/home/Upstage_Ai_Lab/Final/IR/src/index_files/upstage/CRV3\n",
      "FAISS 인덱스 로드 완료, 총 문서 수: 24799\n"
     ]
    },
    {
     "name": "stderr",
     "output_type": "stream",
     "text": [
      "100%|██████████| 100/100 [17:10<00:00, 10.31s/it]\n"
     ]
    },
    {
     "name": "stdout",
     "output_type": "stream",
     "text": [
      "Parameters: chunk_size=100, chunk_overlap=50, retriever_weights=[0.1, 0.9], ensemble_weights=[0.25, 0.25, 5]\n",
      "Mean Average Precision (MAP): 0.9033\n",
      "\n",
      "FAISS 인덱스 로드 중: /data/ephemeral/home/Upstage_Ai_Lab/Final/IR/src/index_files/upstage/CRV3\n",
      "FAISS 인덱스 로드 완료, 총 문서 수: 24799\n"
     ]
    },
    {
     "name": "stderr",
     "output_type": "stream",
     "text": [
      "100%|██████████| 100/100 [17:15<00:00, 10.35s/it]\n"
     ]
    },
    {
     "name": "stdout",
     "output_type": "stream",
     "text": [
      "Parameters: chunk_size=100, chunk_overlap=50, retriever_weights=[0.1, 0.9], ensemble_weights=[0.2, 0.2, 0.6]\n",
      "Mean Average Precision (MAP): 0.9175\n",
      "\n",
      "FAISS 인덱스 로드 중: /data/ephemeral/home/Upstage_Ai_Lab/Final/IR/src/index_files/upstage/CRV3\n",
      "FAISS 인덱스 로드 완료, 총 문서 수: 24799\n"
     ]
    },
    {
     "name": "stderr",
     "output_type": "stream",
     "text": [
      "100%|██████████| 100/100 [18:28<00:00, 11.08s/it]\n"
     ]
    },
    {
     "name": "stdout",
     "output_type": "stream",
     "text": [
      "Parameters: chunk_size=100, chunk_overlap=50, retriever_weights=[0.1, 0.9], ensemble_weights=[0.15, 0.15, 0.7]\n",
      "Mean Average Precision (MAP): 0.9158\n",
      "\n",
      "FAISS 인덱스 로드 중: /data/ephemeral/home/Upstage_Ai_Lab/Final/IR/src/index_files/upstage/CRV3\n",
      "FAISS 인덱스 로드 완료, 총 문서 수: 24799\n"
     ]
    },
    {
     "name": "stderr",
     "output_type": "stream",
     "text": [
      "100%|██████████| 100/100 [28:33<00:00, 17.14s/it]\n"
     ]
    },
    {
     "name": "stdout",
     "output_type": "stream",
     "text": [
      "Parameters: chunk_size=100, chunk_overlap=50, retriever_weights=[0.1, 0.9], ensemble_weights=[0.1, 0.1, 0.8]\n",
      "Mean Average Precision (MAP): 0.8992\n",
      "\n",
      "FAISS 인덱스 로드 중: /data/ephemeral/home/Upstage_Ai_Lab/Final/IR/src/index_files/upstage/CRV3\n",
      "FAISS 인덱스 로드 완료, 총 문서 수: 24799\n"
     ]
    },
    {
     "name": "stderr",
     "output_type": "stream",
     "text": [
      "100%|██████████| 100/100 [23:11<00:00, 13.92s/it]\n"
     ]
    },
    {
     "name": "stdout",
     "output_type": "stream",
     "text": [
      "Parameters: chunk_size=100, chunk_overlap=50, retriever_weights=[0.1, 0.9], ensemble_weights=[0.05, 0.05, 0.9]\n",
      "Mean Average Precision (MAP): 0.9017\n",
      "\n",
      "FAISS 인덱스 로드 중: /data/ephemeral/home/Upstage_Ai_Lab/Final/IR/src/index_files/upstage/CRV3\n",
      "FAISS 인덱스 로드 완료, 총 문서 수: 24799\n"
     ]
    },
    {
     "name": "stderr",
     "output_type": "stream",
     "text": [
      "100%|██████████| 100/100 [23:12<00:00, 13.93s/it]"
     ]
    },
    {
     "name": "stdout",
     "output_type": "stream",
     "text": [
      "Parameters: chunk_size=100, chunk_overlap=50, retriever_weights=[0.1, 0.9], ensemble_weights=[0, 0, 1]\n",
      "Mean Average Precision (MAP): 0.9025\n",
      "\n"
     ]
    },
    {
     "name": "stderr",
     "output_type": "stream",
     "text": [
      "\n"
     ]
    }
   ],
   "source": [
    "best_map = 0\n",
    "best_params = {}\n",
    "\n",
    "args.faiss_index_file = f\"/data/ephemeral/home/Upstage_Ai_Lab/Final/IR/src/index_files/upstage/CRV3\"\n",
    "args.ensemble_models = [\n",
    "    {'type' : 'hf', 'name' : \"BAAI/bge-m3\"},\n",
    "    {'type': 'hf', 'name': \"dragonkue/bge-m3-ko\"},\n",
    "    {'type': 'upstage', 'name': \"solar-embedding-1-large-query\"},\n",
    "]\n",
    "\n",
    "ensemble_encoders = []\n",
    "for model_info in args.ensemble_models:\n",
    "    model_type = model_info.get('type', 'hf')\n",
    "    model_name = model_info['name']\n",
    "    if model_type == 'hf':\n",
    "        encoder = load_hf_encoder(model_name, args.model_kwargs, args.encode_kwargs)\n",
    "    elif model_type == 'upstage':\n",
    "        encoder = load_upstage_encoder(model_name)\n",
    "    elif model_type == 'voyage':\n",
    "        encoder = load_voyage_encoder(model_name)\n",
    "    else:\n",
    "        raise ValueError(f\"Unknown model type: {model_type}\")\n",
    "    ensemble_encoders.append(encoder)\n",
    "\n",
    "# 각 파라미터 조합에 대해 검색 및 평가 수행\n",
    "for retriever_weights, ensemble_weights in product(retriever_weights_list, ensemble_weights_list):\n",
    "    # 문서 chunking\n",
    "    # chunk_documents = chunking(args, documents)\n",
    "\n",
    "    # sparse retriever 로드\n",
    "    sparse_retriever = load_sparse_model(documents, args.src_lang)\n",
    "    sparse_retriever.k = 10\n",
    "\n",
    "    # dense retriever 로드\n",
    "    dense_retriever = load_dense_model(args, documents).as_retriever(search_kwargs={\"k\": 10})\n",
    "\n",
    "    # 앙상블 retriever 설정\n",
    "    retriever = EnsembleRetriever(\n",
    "        retrievers=[sparse_retriever, dense_retriever],\n",
    "        weights=args.retriever_weights,\n",
    "        search_type=\"mrr\"\n",
    "    )\n",
    "\n",
    "    # 정답 레이블 생성\n",
    "    gt = {}\n",
    "    for question in questions:\n",
    "        query, question_id = question['query'], question['metadata']['docid']\n",
    "        gt[question_id] = [question_id]\n",
    "    \n",
    "    # 예측 결과 수집\n",
    "    pred = []\n",
    "    for question in tqdm(questions):\n",
    "        query, question_id = question['query'], question['metadata']['docid']\n",
    "\n",
    "        # 쿼리 임베딩 계산 및 가중치 적용\n",
    "        query_embeddings = []\n",
    "        for idx, encoder in enumerate(ensemble_encoders):\n",
    "            query_embedding = encoder.embed_query(query)\n",
    "            query_embeddings.append((query_embedding, ensemble_weights[idx]))\n",
    "        \n",
    "        # 검색 수행\n",
    "        search_result = retriever.invoke(query)\n",
    "        # for result in search_result:\n",
    "            # print(result)\n",
    "        \n",
    "        combined_scores = []\n",
    "        for doc in search_result:\n",
    "            combined_similarity = 0\n",
    "            for idx, (query_embedding, weight) in enumerate(query_embeddings):\n",
    "                # 문서 임베딩 가져오기\n",
    "                doc_embedding_key = f'embedding_{args.ensemble_models[idx][\"name\"]}'\n",
    "                doc_embedding = doc.metadata.get(doc_embedding_key) or ensemble_encoders[idx].embed_query(doc.page_content)\n",
    "                \n",
    "                # 유사도 계산 및 가중치 적용\n",
    "                similarity = 1 - cosine(query_embedding, doc_embedding)\n",
    "                combined_similarity += weight * similarity\n",
    "            combined_scores.append((doc, combined_similarity))\n",
    "        \n",
    "        # top-k 결과 수집\n",
    "        topk_result = [doc.metadata.get('docid') for doc, _ in sorted(combined_scores, key=lambda x: x[1], reverse=True)]\n",
    "        \n",
    "        pred.append({\n",
    "            \"eval_id\": question_id,\n",
    "            \"topk\": topk_result\n",
    "        })\n",
    "    \n",
    "    # MAP 계산\n",
    "    mean_average_precision = calc_map(gt, pred)\n",
    "    print(f\"Parameters: chunk_size={args.chunk_size}, chunk_overlap={args.chunk_overlap}, retriever_weights={retriever_weights}, ensemble_weights={ensemble_weights}\")\n",
    "    print(f\"Mean Average Precision (MAP): {mean_average_precision:.4f}\\n\")\n",
    "    \n",
    "    # 최적의 MAP 값과 파라미터 저장\n",
    "    if mean_average_precision > best_map:\n",
    "        best_map = mean_average_precision\n",
    "        best_params = {\n",
    "            'chunk_size': args.chunk_size,\n",
    "            'chunk_overlap': args.chunk_overlap,\n",
    "            'retriever_weights': retriever_weights,\n",
    "            'ensemble_weights': ensemble_weights\n",
    "        }\n"
   ]
  },
  {
   "cell_type": "code",
   "execution_count": 7,
   "metadata": {},
   "outputs": [
    {
     "name": "stdout",
     "output_type": "stream",
     "text": [
      "Best Mean Average Precision (MAP): 0.9175000000000001\n",
      "Best Parameters:\n",
      "  chunk_size: 100\n",
      "  chunk_overlap: 50\n",
      "  retriever_weights: [0.5, 0.5]\n",
      "  ensemble_weights: [0.2, 0.2, 0.6]\n"
     ]
    }
   ],
   "source": [
    "print(f\"Best Mean Average Precision (MAP): {best_map}\")\n",
    "print(f\"Best Parameters:\")\n",
    "print(f\"  chunk_size: {best_params['chunk_size']}\")\n",
    "print(f\"  chunk_overlap: {best_params['chunk_overlap']}\")\n",
    "print(f\"  retriever_weights: {best_params['retriever_weights']}\")\n",
    "print(f\"  ensemble_weights: {best_params['ensemble_weights']}\")"
   ]
  }
 ],
 "metadata": {
  "kernelspec": {
   "display_name": "base",
   "language": "python",
   "name": "python3"
  },
  "language_info": {
   "codemirror_mode": {
    "name": "ipython",
    "version": 3
   },
   "file_extension": ".py",
   "mimetype": "text/x-python",
   "name": "python",
   "nbconvert_exporter": "python",
   "pygments_lexer": "ipython3",
   "version": "3.10.13"
  }
 },
 "nbformat": 4,
 "nbformat_minor": 2
}
