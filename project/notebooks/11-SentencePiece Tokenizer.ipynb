{
 "cells": [
  {
   "cell_type": "code",
   "execution_count": 1,
   "metadata": {},
   "outputs": [
    {
     "name": "stderr",
     "output_type": "stream",
     "text": [
      "/home/pervinco/miniconda3/envs/nlp-project/lib/python3.9/site-packages/tqdm/auto.py:21: TqdmWarning: IProgress not found. Please update jupyter and ipywidgets. See https://ipywidgets.readthedocs.io/en/stable/user_install.html\n",
      "  from .autonotebook import tqdm as notebook_tqdm\n"
     ]
    }
   ],
   "source": [
    "import os\n",
    "import numpy as np\n",
    "import pandas as pd\n",
    "\n",
    "from typing import List\n",
    "from datasets import Dataset\n",
    "from transformers import T5TokenizerFast\n",
    "from transformers import AutoTokenizer"
   ]
  },
  {
   "cell_type": "code",
   "execution_count": 2,
   "metadata": {},
   "outputs": [],
   "source": [
    "os.makedirs(\"./tokenizer/sentencepiece\", exist_ok=True)\n",
    "\n",
    "max_len = 1024\n",
    "model_id = \"psyche/KoT5-summarization\"\n",
    "\n",
    "train_df = pd.read_csv(\"../dataset/cleaned_train.csv\")\n",
    "valid_df = pd.read_csv(\"../dataset/cleaned_dev.csv\")\n",
    "\n",
    "df = pd.concat([train_df, valid_df], ignore_index=True)"
   ]
  },
  {
   "cell_type": "code",
   "execution_count": 3,
   "metadata": {},
   "outputs": [],
   "source": [
    "def train_tokenizer(df: pd.DataFrame, vocab_size: int = 32000, model_prefix: str = \"t5_tokenizer\") -> T5TokenizerFast:\n",
    "    all_text = df['dialogue'].tolist() + df['summary'].tolist()\n",
    "    \n",
    "    tokenizer = T5TokenizerFast.from_pretrained(model_id, model_max_length=max_len)\n",
    "    tokenizer = tokenizer.train_new_from_iterator(all_text, vocab_size=vocab_size)\n",
    "    \n",
    "    special_tokens = [\"<s>\", \"</s>\", \"<pad>\", \"<unk>\", \"<mask>\", \"<sep>\",\n",
    "                      \"#Person1#\", \"#Person2#\", \"#Person3#\", \"#Person4#\", \"#Person5#\", \n",
    "                      \"#Person6#\", \"#Person7#\", \"#PhoneNumber#\", \"#Address#\", \"#PassportNumber#\", \n",
    "                      \"#CardNumber#\", \"#Email#\", \"#DateOfBirth#\"]\n",
    "    tokenizer.add_special_tokens({\"additional_special_tokens\": special_tokens})\n",
    "    \n",
    "    return tokenizer\n",
    "\n",
    "def get_max_length(df: pd.DataFrame, tokenizer: T5TokenizerFast, percentile: int = 95) -> int:\n",
    "    dialogue_lengths = [len(tokenizer.encode(str(text))) for text in df['dialogue']]\n",
    "    summary_lengths = [len(tokenizer.encode(str(text))) for text in df['summary']]\n",
    "    all_lengths = dialogue_lengths + summary_lengths\n",
    "    return int(np.percentile(all_lengths, percentile))\n",
    "\n",
    "def tokenize_function(examples: dict, tokenizer: T5TokenizerFast, max_length: int) -> dict:\n",
    "    return tokenizer(\n",
    "        examples[\"dialogue\"],\n",
    "        examples[\"summary\"],\n",
    "        padding=\"max_length\",\n",
    "        truncation=True,\n",
    "        max_length=max_length\n",
    "    )"
   ]
  },
  {
   "cell_type": "code",
   "execution_count": 4,
   "metadata": {},
   "outputs": [
    {
     "name": "stderr",
     "output_type": "stream",
     "text": [
      "/home/pervinco/miniconda3/envs/nlp-project/lib/python3.9/site-packages/transformers/tokenization_utils_base.py:1601: FutureWarning: `clean_up_tokenization_spaces` was not set. It will be set to `True` by default. This behavior will be depracted in transformers v4.45, and will be then set to `False` by default. For more details check this issue: https://github.com/huggingface/transformers/issues/31884\n",
      "  warnings.warn(\n"
     ]
    },
    {
     "name": "stdout",
     "output_type": "stream",
     "text": [
      "\n",
      "\n",
      "\n",
      "Max length: 188\n"
     ]
    },
    {
     "name": "stderr",
     "output_type": "stream",
     "text": [
      "Map: 100%|██████████| 12956/12956 [00:00<00:00, 16374.21 examples/s]\n"
     ]
    },
    {
     "data": {
      "text/plain": [
       "('./tokenizer/sentencepiece/tokenizer_config.json',\n",
       " './tokenizer/sentencepiece/special_tokens_map.json',\n",
       " './tokenizer/sentencepiece/tokenizer.json')"
      ]
     },
     "execution_count": 4,
     "metadata": {},
     "output_type": "execute_result"
    }
   ],
   "source": [
    "tokenizer = train_tokenizer(df)\n",
    "max_length = get_max_length(df, tokenizer, percentile=95)\n",
    "print(f\"Max length: {max_length}\")\n",
    "\n",
    "dataset = Dataset.from_pandas(df)\n",
    "tokenized_datasets = dataset.map(\n",
    "    lambda examples: tokenize_function(examples, tokenizer, max_length),\n",
    "    batched=True\n",
    ")\n",
    "\n",
    "tokenizer.save_pretrained(\"./tokenizer/sentencepiece\")"
   ]
  }
 ],
 "metadata": {
  "kernelspec": {
   "display_name": "base",
   "language": "python",
   "name": "python3"
  },
  "language_info": {
   "codemirror_mode": {
    "name": "ipython",
    "version": 3
   },
   "file_extension": ".py",
   "mimetype": "text/x-python",
   "name": "python",
   "nbconvert_exporter": "python",
   "pygments_lexer": "ipython3",
   "version": "3.9.19"
  }
 },
 "nbformat": 4,
 "nbformat_minor": 2
}
