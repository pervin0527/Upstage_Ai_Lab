{
 "cells": [
  {
   "cell_type": "code",
   "execution_count": 1,
   "metadata": {},
   "outputs": [
    {
     "name": "stderr",
     "output_type": "stream",
     "text": [
      "/home/pervinco/miniconda3/envs/nlp-project/lib/python3.9/site-packages/tqdm/auto.py:21: TqdmWarning: IProgress not found. Please update jupyter and ipywidgets. See https://ipywidgets.readthedocs.io/en/stable/user_install.html\n",
      "  from .autonotebook import tqdm as notebook_tqdm\n"
     ]
    }
   ],
   "source": [
    "import re\n",
    "import os\n",
    "import math\n",
    "import torch\n",
    "import pandas as pd\n",
    "\n",
    "from tqdm import tqdm\n",
    "from rouge import Rouge\n",
    "from datetime import datetime\n",
    "\n",
    "from tensorboardX import SummaryWriter\n",
    "from transformers import AutoTokenizer\n",
    "from torch.optim.lr_scheduler import _LRScheduler\n",
    "from torch.utils.data import Dataset , DataLoader\n",
    "\n",
    "from transformers import AutoTokenizer, BartForConditionalGeneration, BartConfig"
   ]
  },
  {
   "cell_type": "code",
   "execution_count": 2,
   "metadata": {},
   "outputs": [],
   "source": [
    "device = 'cuda' if torch.cuda.is_available() else 'cpu'\n",
    "\n",
    "timestamp = datetime.now().strftime('%Y-%m-%d-%H-%M-%S')\n",
    "save_path = os.path.join(\"./BART_runs\", timestamp)\n",
    "\n",
    "weights_path = os.path.join(save_path, 'weights')\n",
    "logs_path = os.path.join(save_path, 'logs')\n",
    "os.makedirs(weights_path, exist_ok=True)\n",
    "os.makedirs(logs_path, exist_ok=True)\n",
    "\n",
    "config = {\n",
    "    \"general\": {\n",
    "        \"data_path\": \"../dataset\",\n",
    "        \"train_file\": \"cleaned_train.csv\",\n",
    "        \"valid_file\": \"cleaned_dev.csv\",\n",
    "        \"test_file\": \"test.csv\",\n",
    "        \"model_name\": \"gangyeolkim/kobart-korean-summarizer-v2\",\n",
    "        \"output_dir\": save_path,\n",
    "        \"model_cfg\": \"\"\n",
    "    },\n",
    "    \"tokenizer\": {\n",
    "        \"path\": \"./tokenizer\",\n",
    "        \"encoder_max_len\": 512,\n",
    "        \"decoder_max_len\": 256,\n",
    "        \"bos_token\": \"<s>\",\n",
    "        \"eos_token\": \"</s>\",\n",
    "        \"sep_token\": \"<sep>\",\n",
    "        \"mask_token\": \"<mask>\",\n",
    "        \"special_tokens\": [\n",
    "            \"<sep>\",\n",
    "            '#Person1#',\n",
    "            '#Person2#',\n",
    "            '#Person3#',\n",
    "            '#Person4#',\n",
    "            '#Person5#',\n",
    "            '#Person6#',\n",
    "            '#Person7#',\n",
    "            '#SSN#',\n",
    "            '#Email#',\n",
    "            '#Address#',\n",
    "            '#Reaction#',\n",
    "            '#CarNumber#',\n",
    "            '#Movietitle#',\n",
    "            '#DateOfBirth#',\n",
    "            '#CardNumber#',\n",
    "            '#PhoneNumber#',\n",
    "            '#PassportNumber#'\n",
    "        ]\n",
    "    },\n",
    "    \"training\": {\n",
    "        \"seed\": 42,\n",
    "        \"overwrite_output_dir\": True,\n",
    "\n",
    "        \"epochs\": 1000,\n",
    "        \"batch_size\": 32,\n",
    "        \"learning_rate\": 0.000001,\n",
    "        \"weight_decay\": 0.01,\n",
    "        \"accumulation_steps\": 4,\n",
    "        \"patience\": 10,\n",
    "\n",
    "        \"max_lr\": 0.0001,\n",
    "        \"warmup_epochs\": 10,\n",
    "        \"T_0\": 100,\n",
    "        \"T_mult\": 1,\n",
    "        \"T_gamma\": 0.5,\n",
    "    },\n",
    "    \"inference\": {\n",
    "        \"no_repeat_ngram_size\": 2,\n",
    "        \"early_stopping\": False,\n",
    "        \"generate_max_length\": 200,\n",
    "        \"num_beams\": 4,\n",
    "        \"batch_size\": 32,\n",
    "        \"remove_tokens\": [\n",
    "            \"<unk>\",\n",
    "            \"<s>\",\n",
    "            \"</s>\",\n",
    "            \"<pad>\",\n",
    "            \"<sep>\",\n",
    "            \"<mask>\"\n",
    "        ]\n",
    "    }\n",
    "}\n"
   ]
  },
  {
   "cell_type": "code",
   "execution_count": 3,
   "metadata": {},
   "outputs": [
    {
     "name": "stderr",
     "output_type": "stream",
     "text": [
      "You passed along `num_labels=3` with an incompatible id to label map: {'0': 'NEGATIVE', '1': 'POSITIVE'}. The number of labels wil be overwritten to 2.\n"
     ]
    },
    {
     "name": "stdout",
     "output_type": "stream",
     "text": [
      "{'bos_token': '</s>', 'eos_token': '</s>', 'unk_token': '<unk>', 'pad_token': '<pad>', 'mask_token': '<mask>', 'additional_special_tokens': ['<sep>', '#Person1#', '#Person2#', '#Person3#', '#Person4#', '#Person5#', '#Person6#', '#Person7#', '#SSN#', '#Email#', '#Address#', '#Reaction#', '#CarNumber#', '#Movietitle#', '#DateOfBirth#', '#CardNumber#', '#PhoneNumber#', '#PassportNumber#']}\n"
     ]
    },
    {
     "name": "stderr",
     "output_type": "stream",
     "text": [
      "You passed along `num_labels=3` with an incompatible id to label map: {'0': 'NEGATIVE', '1': 'POSITIVE'}. The number of labels wil be overwritten to 2.\n",
      "/home/pervinco/miniconda3/envs/nlp-project/lib/python3.9/site-packages/transformers/generation/configuration_utils.py:615: UserWarning: `num_beams` is set to 1. However, `early_stopping` is set to `True` -- this flag is only used in beam-based generation modes. You should set `num_beams>1` or unset `early_stopping`. This was detected when initializing the generation config instance, which means the corresponding file may hold incorrect parameterization and should be fixed.\n",
      "  warnings.warn(\n",
      "/home/pervinco/miniconda3/envs/nlp-project/lib/python3.9/site-packages/transformers/generation/configuration_utils.py:634: UserWarning: `num_beams` is set to 1. However, `length_penalty` is set to `2.0` -- this flag is only used in beam-based generation modes. You should set `num_beams>1` or unset `length_penalty`. This was detected when initializing the generation config instance, which means the corresponding file may hold incorrect parameterization and should be fixed.\n",
      "  warnings.warn(\n",
      "/home/pervinco/miniconda3/envs/nlp-project/lib/python3.9/site-packages/transformers/generation/configuration_utils.py:615: UserWarning: `num_beams` is set to 1. However, `early_stopping` is set to `True` -- this flag is only used in beam-based generation modes. You should set `num_beams>1` or unset `early_stopping`.\n",
      "  warnings.warn(\n",
      "/home/pervinco/miniconda3/envs/nlp-project/lib/python3.9/site-packages/transformers/generation/configuration_utils.py:634: UserWarning: `num_beams` is set to 1. However, `length_penalty` is set to `2.0` -- this flag is only used in beam-based generation modes. You should set `num_beams>1` or unset `length_penalty`.\n",
      "  warnings.warn(\n"
     ]
    }
   ],
   "source": [
    "bart_config = BartConfig.from_pretrained(config['general']['model_name'])\n",
    "\n",
    "# tokenizer = BartTokenizerFast.from_pretrained(\"../tokenizer/ko_sentencepiece\")\n",
    "tokenizer = AutoTokenizer.from_pretrained(config['general']['model_name'], config=config)\n",
    "remove_tokens = ['<usr>', f\"{tokenizer.bos_token}\", f\"{tokenizer.unk_token}\", f\"{tokenizer.eos_token}\", f\"{tokenizer.pad_token}\", f\"{tokenizer.sep_token}\", f\"{tokenizer.mask_token}\"]\n",
    "tokenizer.add_special_tokens({\"additional_special_tokens\": config['tokenizer']['special_tokens']})\n",
    "print(tokenizer.special_tokens_map)\n",
    "\n",
    "model = BartForConditionalGeneration.from_pretrained(config['general']['model_name'])\n",
    "model.resize_token_embeddings(len(tokenizer))\n",
    "model.to(device)\n",
    "\n",
    "optimizer = torch.optim.AdamW(model.parameters(), lr=config['training']['learning_rate'], weight_decay=config['training']['weight_decay'])"
   ]
  },
  {
   "cell_type": "code",
   "execution_count": 4,
   "metadata": {},
   "outputs": [],
   "source": [
    "train_df = pd.read_csv(f\"{config['general']['data_path']}/{config['general']['train_file']}\")\n",
    "val_df = pd.read_csv(f\"{config['general']['data_path']}/{config['general']['valid_file']}\")\n",
    "test_df = pd.read_csv(f\"{config['general']['data_path']}/{config['general']['test_file']}\")"
   ]
  },
  {
   "cell_type": "code",
   "execution_count": 5,
   "metadata": {},
   "outputs": [],
   "source": [
    "class CustomDataset(Dataset):\n",
    "    def __init__(self, df, tokenizer, is_train=True):\n",
    "        self.tokenizer = tokenizer\n",
    "        self.df = df.copy()\n",
    "        self.is_train = is_train\n",
    "\n",
    "        # 화자가 바뀔 때 SEP 토큰을 추가\n",
    "        self.df.loc[:, 'dialogue'] = self.df['dialogue'].apply(self.add_sep_tokens)\n",
    "\n",
    "        if self.is_train:           \n",
    "            self.input_ids = tokenizer(self.df['dialogue'].tolist(), \n",
    "                                       return_tensors=\"pt\", \n",
    "                                       padding=True,\n",
    "                                       add_special_tokens=True, \n",
    "                                       truncation=True, \n",
    "                                       max_length=config['tokenizer']['encoder_max_len'], \n",
    "                                       return_token_type_ids=False).input_ids\n",
    "            \n",
    "            self.labels = tokenizer(self.df['summary'].tolist(), \n",
    "                                    return_tensors=\"pt\", \n",
    "                                    padding=True,\n",
    "                                    add_special_tokens=True, \n",
    "                                    truncation=True, \n",
    "                                    max_length=config['tokenizer']['decoder_max_len'],\n",
    "                                    return_token_type_ids=False).input_ids\n",
    "        else:\n",
    "            self.input_ids = tokenizer(self.df['dialogue'].tolist(), \n",
    "                                       return_tensors=\"pt\", \n",
    "                                       padding=True,\n",
    "                                       add_special_tokens=True, \n",
    "                                       truncation=True, \n",
    "                                       max_length=config['tokenizer']['encoder_max_len'], \n",
    "                                       return_token_type_ids=False).input_ids\n",
    "\n",
    "    def __len__(self):\n",
    "        return len(self.input_ids)\n",
    "\n",
    "    def __getitem__(self, idx):\n",
    "        if self.is_train:\n",
    "            return self.input_ids[idx], self.labels[idx]\n",
    "        else:\n",
    "            return self.input_ids[idx]\n",
    "\n",
    "\n",
    "    def add_sep_tokens(self, dialogue):\n",
    "        # 화자가 바뀔 때 SEP 토큰을 추가\n",
    "        pattern = r'(#Person\\d+#)'  # 화자를 나타내는 패턴\n",
    "        parts = re.split(pattern, dialogue)  # 화자를 기준으로 대화 분리\n",
    "        result = []\n",
    "        prev_speaker = None\n",
    "        for part in parts:\n",
    "            if re.match(pattern, part):  # 화자가 바뀌면\n",
    "                if prev_speaker and prev_speaker != part:\n",
    "                    result.append('<sep>')  # SEP 토큰 추가\n",
    "                prev_speaker = part\n",
    "            result.append(part)\n",
    "        return ''.join(result)"
   ]
  },
  {
   "cell_type": "code",
   "execution_count": 6,
   "metadata": {},
   "outputs": [],
   "source": [
    "train_dataset = CustomDataset(train_df[['dialogue', 'summary']], tokenizer)\n",
    "val_dataset = CustomDataset(val_df[['dialogue', 'summary']], tokenizer)\n",
    "test_dataset = CustomDataset(test_df[['dialogue']], tokenizer, is_train=False)\n",
    "\n",
    "train_loader = DataLoader(train_dataset, batch_size=config['training']['batch_size'], shuffle=True)\n",
    "val_loader = DataLoader(val_dataset, batch_size=config['training']['batch_size'], shuffle=False)\n",
    "test_loader = DataLoader(test_dataset, batch_size=config['training']['batch_size'], shuffle=False)"
   ]
  },
  {
   "cell_type": "code",
   "execution_count": 7,
   "metadata": {},
   "outputs": [
    {
     "data": {
      "text/plain": [
       "('#Person1# 존이 헤어졌다는 소문이 있어. <sep>#Person2# 정말이야? 그런데 그의 아내는 항상 그를 매우 잘 돌봤는데. <sep>#Person1# 존이 다른 여자와 외도를 한다고 들었어. <sep>#Person2# 그의 아내 같은 여성을 속이다니 그는 정말 나쁜 사람이야.<pad><pad><pad><pad><pad><pad><pad><pad><pad><pad><pad><pad><pad><pad><pad><pad><pad><pad><pad><pad><pad><pad><pad><pad><pad><pad><pad><pad><pad><pad><pad><pad><pad><pad><pad><pad><pad><pad><pad><pad><pad><pad><pad><pad><pad><pad><pad><pad><pad><pad><pad><pad><pad><pad><pad><pad><pad><pad><pad><pad><pad><pad><pad><pad><pad><pad><pad><pad><pad><pad><pad><pad><pad><pad><pad><pad><pad><pad><pad><pad><pad><pad><pad><pad><pad><pad><pad><pad><pad><pad><pad><pad><pad><pad><pad><pad><pad><pad><pad><pad><pad><pad><pad><pad><pad><pad><pad><pad><pad><pad><pad><pad><pad><pad><pad><pad><pad><pad><pad><pad><pad><pad><pad><pad><pad><pad><pad><pad><pad><pad><pad><pad><pad><pad><pad><pad><pad><pad><pad><pad><pad><pad><pad><pad><pad><pad><pad><pad><pad><pad><pad><pad><pad><pad><pad><pad><pad><pad><pad><pad><pad><pad><pad><pad><pad><pad><pad><pad><pad><pad><pad><pad><pad><pad><pad><pad><pad><pad><pad><pad><pad><pad><pad><pad><pad><pad><pad><pad><pad><pad><pad><pad><pad><pad><pad><pad><pad><pad><pad><pad><pad><pad><pad><pad><pad><pad><pad><pad><pad><pad><pad><pad><pad><pad><pad><pad><pad><pad><pad><pad><pad><pad><pad><pad><pad><pad><pad><pad><pad><pad><pad><pad><pad><pad><pad><pad><pad><pad><pad><pad><pad><pad><pad><pad><pad><pad><pad><pad><pad><pad><pad><pad><pad><pad><pad><pad><pad><pad><pad><pad><pad><pad><pad><pad><pad><pad><pad><pad><pad><pad><pad><pad><pad><pad><pad><pad><pad><pad><pad><pad><pad><pad><pad><pad><pad><pad><pad><pad><pad><pad><pad><pad><pad><pad><pad><pad><pad><pad><pad><pad><pad><pad><pad><pad><pad><pad><pad><pad><pad><pad><pad><pad><pad><pad><pad><pad><pad><pad><pad><pad><pad><pad><pad><pad><pad><pad><pad><pad><pad><pad><pad><pad><pad><pad><pad><pad><pad><pad><pad><pad><pad><pad><pad><pad><pad><pad><pad><pad><pad><pad><pad><pad><pad><pad><pad><pad><pad><pad><pad><pad><pad><pad><pad><pad><pad><pad><pad><pad><pad><pad><pad><pad><pad><pad><pad><pad><pad><pad><pad><pad><pad><pad><pad><pad><pad><pad><pad><pad><pad><pad><pad><pad><pad><pad><pad><pad><pad><pad><pad><pad><pad><pad><pad><pad><pad><pad><pad><pad><pad><pad><pad><pad><pad><pad><pad><pad><pad><pad><pad><pad><pad><pad><pad><pad><pad><pad><pad><pad><pad><pad><pad><pad><pad><pad><pad><pad><pad><pad><pad><pad><pad><pad><pad><pad><pad><pad><pad><pad><pad><pad><pad><pad><pad><pad><pad><pad><pad><pad><pad><pad>',\n",
       " '#Person1# 은 #Person2# 에게 존이 외도 때문에 헤어졌다고 말한다.<pad><pad><pad><pad><pad><pad><pad><pad><pad><pad><pad><pad><pad><pad><pad><pad><pad><pad><pad><pad><pad><pad><pad><pad><pad><pad><pad><pad><pad><pad><pad><pad><pad><pad><pad><pad><pad><pad><pad><pad><pad><pad><pad><pad><pad><pad><pad><pad><pad><pad><pad><pad><pad><pad><pad><pad><pad><pad><pad><pad><pad><pad><pad><pad><pad><pad><pad><pad><pad><pad><pad><pad><pad><pad><pad><pad><pad><pad><pad><pad><pad><pad><pad><pad><pad><pad><pad><pad><pad><pad><pad><pad><pad><pad><pad><pad><pad><pad><pad><pad><pad><pad><pad><pad><pad><pad><pad><pad><pad><pad><pad><pad><pad><pad><pad><pad><pad><pad><pad><pad><pad><pad><pad><pad><pad><pad><pad><pad><pad><pad><pad><pad><pad><pad><pad><pad><pad><pad><pad><pad><pad><pad><pad><pad><pad><pad><pad><pad><pad><pad>')"
      ]
     },
     "execution_count": 7,
     "metadata": {},
     "output_type": "execute_result"
    }
   ],
   "source": [
    "batch = next(iter(train_loader))\n",
    "masked_input_ids, original_input_ids = batch[0], batch[1]\n",
    "\n",
    "masked_example = tokenizer.decode(masked_input_ids[0], skip_special_tokens=False)\n",
    "original_example = tokenizer.decode(original_input_ids[0], skip_special_tokens=False)\n",
    "\n",
    "masked_example, original_example"
   ]
  },
  {
   "cell_type": "code",
   "execution_count": 8,
   "metadata": {},
   "outputs": [],
   "source": [
    "def ids_to_words(tokenizer, preds, labels):\n",
    "    decoded_preds = tokenizer.batch_decode(preds, clean_up_tokenization_spaces=True)\n",
    "    labels = tokenizer.batch_decode(labels, clean_up_tokenization_spaces=True)\n",
    "\n",
    "    replaced_predictions = decoded_preds.copy()\n",
    "    replaced_labels = labels.copy()\n",
    "\n",
    "    for token in remove_tokens:\n",
    "        replaced_predictions = [sentence.replace(token,\" \") for sentence in replaced_predictions]\n",
    "        replaced_labels = [sentence.replace(token,\" \") for sentence in replaced_labels]\n",
    "        \n",
    "    return replaced_predictions, replaced_labels"
   ]
  },
  {
   "cell_type": "code",
   "execution_count": 9,
   "metadata": {},
   "outputs": [],
   "source": [
    "def compute_metrics(replaced_predictions, replaced_labels):\n",
    "    rouge = Rouge()\n",
    "\n",
    "    results = rouge.get_scores(replaced_predictions, replaced_labels,avg=True)\n",
    "    result = {key: value[\"f\"] for key, value in results.items()}\n",
    "    \n",
    "    return result"
   ]
  },
  {
   "cell_type": "code",
   "execution_count": 10,
   "metadata": {},
   "outputs": [],
   "source": [
    "class CosineAnnealingWarmUpRestarts(_LRScheduler):\n",
    "    def __init__(self, optimizer, T_0, T_mult=1, eta_max=0.1, T_up=0, gamma=1., last_epoch=-1):\n",
    "        if T_0 <= 0 or not isinstance(T_0, int):\n",
    "            raise ValueError(\"Expected positive integer T_0, but got {}\".format(T_0))\n",
    "        if T_mult < 1 or not isinstance(T_mult, int):\n",
    "            raise ValueError(\"Expected integer T_mult >= 1, but got {}\".format(T_mult))\n",
    "        if T_up < 0 or not isinstance(T_up, int):\n",
    "            raise ValueError(\"Expected positive integer T_up, but got {}\".format(T_up))\n",
    "        self.T_0 = T_0\n",
    "        self.T_mult = T_mult\n",
    "        self.base_eta_max = eta_max\n",
    "        self.eta_max = eta_max\n",
    "        self.T_up = T_up\n",
    "        self.T_i = T_0\n",
    "        self.gamma = gamma\n",
    "        self.cycle = 0\n",
    "        self.T_cur = last_epoch\n",
    "        super().__init__(optimizer, last_epoch)\n",
    "    \n",
    "    def get_lr(self):\n",
    "        if self.T_cur == -1:\n",
    "            return self.base_lrs\n",
    "        elif self.T_cur < self.T_up:\n",
    "            return [(self.eta_max - base_lr)*self.T_cur / self.T_up + base_lr for base_lr in self.base_lrs]\n",
    "        else:\n",
    "            return [base_lr + (self.eta_max - base_lr) * (1 + math.cos(math.pi * (self.T_cur-self.T_up) / (self.T_i - self.T_up))) / 2\n",
    "                    for base_lr in self.base_lrs]\n",
    "\n",
    "    def step(self, epoch=None):\n",
    "        if epoch is None:\n",
    "            epoch = self.last_epoch + 1\n",
    "            self.T_cur = self.T_cur + 1\n",
    "            if self.T_cur >= self.T_i:\n",
    "                self.cycle += 1\n",
    "                self.T_cur = self.T_cur - self.T_i\n",
    "                self.T_i = (self.T_i - self.T_up) * self.T_mult + self.T_up\n",
    "        else:\n",
    "            if epoch >= self.T_0:\n",
    "                if self.T_mult == 1:\n",
    "                    self.T_cur = epoch % self.T_0\n",
    "                    self.cycle = epoch // self.T_0\n",
    "                else:\n",
    "                    n = int(math.log((epoch / self.T_0 * (self.T_mult - 1) + 1), self.T_mult))\n",
    "                    self.cycle = n\n",
    "                    self.T_cur = epoch - self.T_0 * (self.T_mult ** n - 1) / (self.T_mult - 1)\n",
    "                    self.T_i = self.T_0 * self.T_mult ** (n)\n",
    "            else:\n",
    "                self.T_i = self.T_0\n",
    "                self.T_cur = epoch\n",
    "                \n",
    "        self.eta_max = self.base_eta_max * (self.gamma**self.cycle)\n",
    "        self.last_epoch = math.floor(epoch)\n",
    "        for param_group, lr in zip(self.optimizer.param_groups, self.get_lr()):\n",
    "            param_group['lr'] = lr"
   ]
  },
  {
   "cell_type": "code",
   "execution_count": 11,
   "metadata": {},
   "outputs": [],
   "source": [
    "def train(epoch, model, device, train_loader, optimizer, writer, accumulation_steps):\n",
    "    model.train()\n",
    "    total_loss = 0.0\n",
    "    optimizer.zero_grad()\n",
    "\n",
    "    for idx, batch in tqdm(enumerate(train_loader), total=len(train_loader), desc=f\"Training Epoch {epoch}\", leave=False):\n",
    "        input_ids = batch[0].to(device, dtype=torch.long)\n",
    "        labels = batch[1].to(device, dtype=torch.long)\n",
    "\n",
    "        outputs = model(input_ids=input_ids, labels=labels)\n",
    "        ce_loss = outputs.loss\n",
    "        ce_loss = ce_loss / accumulation_steps \n",
    "        ce_loss.backward()\n",
    "\n",
    "        if (idx + 1) % accumulation_steps == 0:\n",
    "            optimizer.step()\n",
    "            optimizer.zero_grad()\n",
    "\n",
    "        total_loss += ce_loss.item() * accumulation_steps\n",
    "\n",
    "    avg_loss = total_loss / len(train_loader)\n",
    "    writer.add_scalar('Loss/train', avg_loss, epoch)\n",
    "\n",
    "    return avg_loss\n",
    "\n",
    "def validate(tokenizer, model, device, val_loader, writer, epoch):\n",
    "    model.eval()\n",
    "    total_loss = 0\n",
    "    all_results = []\n",
    "    all_predictions = []\n",
    "    all_labels = []\n",
    "\n",
    "    with torch.no_grad():\n",
    "        for idx, batch in tqdm(enumerate(val_loader), total=len(val_loader), desc=\"Validating\", leave=False):\n",
    "            input_ids = batch[0].to(device, dtype=torch.long)\n",
    "            labels = batch[1].to(device, dtype=torch.long)\n",
    "\n",
    "            pred_ids = model.generate(\n",
    "                input_ids=input_ids,\n",
    "                max_length=config['inference']['generate_max_length'], \n",
    "                num_beams=config['inference']['num_beams'],\n",
    "                repetition_penalty=2.0, \n",
    "                length_penalty=1.0, \n",
    "                early_stopping=True,\n",
    "                no_repeat_ngram_size=2\n",
    "            )\n",
    "\n",
    "            loss = model(input_ids=input_ids, labels=labels).loss\n",
    "            total_loss += loss.item()\n",
    "\n",
    "            replaced_predictions, replaced_labels = ids_to_words(tokenizer, pred_ids, labels)\n",
    "            result = compute_metrics(replaced_predictions, replaced_labels)\n",
    "\n",
    "            all_results.append(result)\n",
    "            all_predictions.extend(replaced_predictions)\n",
    "            all_labels.extend(replaced_labels)\n",
    "\n",
    "    val_loss = total_loss / len(val_loader)\n",
    "    avg_result = {key: sum(r[key] for r in all_results) / len(all_results) for key in all_results[0]}\n",
    "    \n",
    "    writer.add_scalar('Loss/valid', val_loss, epoch)\n",
    "    writer.add_scalar('ROUGE/rouge-1', avg_result['rouge-1'], epoch)\n",
    "    writer.add_scalar('ROUGE/rouge-2', avg_result['rouge-2'], epoch)\n",
    "    writer.add_scalar('ROUGE/rouge-l', avg_result['rouge-l'], epoch)\n",
    "\n",
    "    return val_loss, avg_result, all_predictions, all_labels"
   ]
  },
  {
   "cell_type": "code",
   "execution_count": 12,
   "metadata": {},
   "outputs": [
    {
     "name": "stdout",
     "output_type": "stream",
     "text": [
      "Epoch 1/1000, Current Learning Rate: 0.000001\n"
     ]
    },
    {
     "name": "stderr",
     "output_type": "stream",
     "text": [
      "Validating:   0%|          | 0/16 [00:00<?, ?it/s]                 /home/pervinco/miniconda3/envs/nlp-project/lib/python3.9/site-packages/transformers/generation/configuration_utils.py:615: UserWarning: `num_beams` is set to 1. However, `early_stopping` is set to `True` -- this flag is only used in beam-based generation modes. You should set `num_beams>1` or unset `early_stopping`. This was detected when initializing the generation config instance, which means the corresponding file may hold incorrect parameterization and should be fixed.\n",
      "  warnings.warn(\n",
      "/home/pervinco/miniconda3/envs/nlp-project/lib/python3.9/site-packages/transformers/generation/configuration_utils.py:634: UserWarning: `num_beams` is set to 1. However, `length_penalty` is set to `2.0` -- this flag is only used in beam-based generation modes. You should set `num_beams>1` or unset `length_penalty`. This was detected when initializing the generation config instance, which means the corresponding file may hold incorrect parameterization and should be fixed.\n",
      "  warnings.warn(\n",
      "/home/pervinco/miniconda3/envs/nlp-project/lib/python3.9/site-packages/transformers/generation/configuration_utils.py:615: UserWarning: `num_beams` is set to 1. However, `early_stopping` is set to `True` -- this flag is only used in beam-based generation modes. You should set `num_beams>1` or unset `early_stopping`.\n",
      "  warnings.warn(\n",
      "/home/pervinco/miniconda3/envs/nlp-project/lib/python3.9/site-packages/transformers/generation/configuration_utils.py:634: UserWarning: `num_beams` is set to 1. However, `length_penalty` is set to `2.0` -- this flag is only used in beam-based generation modes. You should set `num_beams>1` or unset `length_penalty`.\n",
      "  warnings.warn(\n",
      "/home/pervinco/miniconda3/envs/nlp-project/lib/python3.9/site-packages/transformers/generation/utils.py:1375: UserWarning: You have modified the pretrained model configuration to control generation. This is a deprecated strategy to control generation and will be removed soon, in a future version. Please use and modify the model generation configuration (see https://huggingface.co/docs/transformers/generation_strategies#default-text-generation-configuration )\n",
      "  warnings.warn(\n",
      "                                                           \r"
     ]
    },
    {
     "name": "stdout",
     "output_type": "stream",
     "text": [
      "Train Loss: 5.979798, Valid Loss: 4.671269\n",
      "Rouge-1: 0.153446, Rouge-2: 0.034655, Rouge-l: 0.149603\n",
      "------------------------------------------------------------------------------------------------------------------------------------------------------\n",
      "PRED: 숨쉬기가 힘들고 감기에 걸리신 적이 있냐는 질문에 알고 있는 알레르기는 없다고 답했다. 그리고 폐 전문의에게 천식 검사를 받게 할 것이다.\n",
      "GOLD: #Person2# 는 숨쉬기에 어려움을 겪는다. 의사는 #Person1# 에게 이에 대해 묻고, #Person2# 를 폐 전문의에게 보낼 예정이다.                                                             \n",
      "------------------------------------------------------------------------------------------------------------------------------------------------------\n",
      "PRED: 다리와 팔목을 운동하고 주간 스케줄을 따르고 있어 너 때문에 모든 게 망가지고 있어 금요일에 다리를 할 수 있어. 그럼 3시 30분에 헬스장에서 만나자.\n",
      "GOLD: #Person1# 은 지미에게 운동하러 가자고 제안하고 팔과 배를 운동하도록 설득한다.                                                                       \n",
      "------------------------------------------------------------------------------------------------------------------------------------------------------\n",
      "PRED: 나는 건강에 해로운 음식을 먹는 것을 멈춰야 한다. 나는 주로 과일, 채소, 닭고기를 먹는다. 나는 기본적으로 다른 것은 먹지 않는다.\n",
      "GOLD: #Person1# 은 건강에 해로운 음식을 먹는 것을 멈추려는 계획을 세우고, #Person2# 는 자신의 건강한 레시피를 #Person1# 와 공유한다.                                                               \n",
      "------------------------------------------------------------------------------------------------------------------------------------------------------\n",
      "New best model saved with average ROUGE: 0.153446\n",
      "\n",
      "Epoch 2/1000, Current Learning Rate: 0.000011\n"
     ]
    },
    {
     "name": "stderr",
     "output_type": "stream",
     "text": [
      "                                                                   \r"
     ]
    },
    {
     "name": "stdout",
     "output_type": "stream",
     "text": [
      "Train Loss: 2.606532, Valid Loss: 1.183783\n",
      "Rouge-1: 0.178458, Rouge-2: 0.043076, Rouge-l: 0.173609\n",
      "------------------------------------------------------------------------------------------------------------------------------------------------------\n",
      "PRED: 숨쉬기가 힘들고 감기에 걸리신 적이 있냐는 질문에 알레르기는 없다고 답했다. 그리고 폐 전문의에게 천식에 대한 검사를 받게 할 것이다.\n",
      "GOLD: #Person2# 는 숨쉬기에 어려움을 겪는다. 의사는 #Person1# 에게 이에 대해 묻고, #Person2# 를 폐 전문의에게 보낼 예정이다.                                                             \n",
      "------------------------------------------------------------------------------------------------------------------------------------------------------\n",
      "PRED: 헤이, 지미는 다리와 팔목을 운동하고 금요일에 다리를 할 수 있다고 말한다. 3시 30분에 헬스장에서 만나자. 그 다음에는 팔과 배를 운동하자.\n",
      "GOLD: #Person1# 은 지미에게 운동하러 가자고 제안하고 팔과 배를 운동하도록 설득한다.                                                                       \n",
      "------------------------------------------------------------------------------------------------------------------------------------------------------\n",
      "PRED: #Person1# 은 건강에 해로운 음식을 먹는 것을 멈춰야 한다고 말한다. 나는 과일, 채소, 닭고기를 주로 먹는다. 그리고 닭고기보다 더 건강해 보인다.\n",
      "GOLD: #Person1# 은 건강에 해로운 음식을 먹는 것을 멈추려는 계획을 세우고, #Person2# 는 자신의 건강한 레시피를 #Person1# 와 공유한다.                                                               \n",
      "------------------------------------------------------------------------------------------------------------------------------------------------------\n",
      "New best model saved with average ROUGE: 0.178458\n",
      "\n",
      "Epoch 3/1000, Current Learning Rate: 0.000021\n"
     ]
    },
    {
     "name": "stderr",
     "output_type": "stream",
     "text": [
      "                                                                   \r"
     ]
    },
    {
     "name": "stdout",
     "output_type": "stream",
     "text": [
      "Train Loss: 0.599097, Valid Loss: 0.697122\n",
      "Rouge-1: 0.211871, Rouge-2: 0.058043, Rouge-l: 0.205401\n",
      "------------------------------------------------------------------------------------------------------------------------------------------------------\n",
      "PRED: #Person2# 는 숨쉬기가 힘들고 알레르기가 있다. 폐 전문의에게 천식에 대한 검사를 받을 수 있도록 도와준 의사 선생님에게 감사합니다.\n",
      "GOLD: #Person2# 는 숨쉬기에 어려움을 겪는다. 의사는 #Person1# 에게 이에 대해 묻고, #Person2# 를 폐 전문의에게 보낼 예정이다.                                                             \n",
      "------------------------------------------------------------------------------------------------------------------------------------------------------\n",
      "PRED: 헤이, 지미는 다리와 팔목을 운동하고 금요일에 다리를 할 수 있도록 헬스장에서 만나자고 제안한다. 헤이는 주간 스케줄을 따르고 있다.\n",
      "GOLD: #Person1# 은 지미에게 운동하러 가자고 제안하고 팔과 배를 운동하도록 설득한다.                                                                       \n",
      "------------------------------------------------------------------------------------------------------------------------------------------------------\n",
      "PRED: #Person2# 는 건강에 해로운 음식을 먹는 것을 멈춰야 한다고 말한다. 그들은 주로 과일, 채소, 닭고기를 먹는다. 그리고 닭고기 구워서 먹으면 훨씬 더 건강해 보인다.\n",
      "GOLD: #Person1# 은 건강에 해로운 음식을 먹는 것을 멈추려는 계획을 세우고, #Person2# 는 자신의 건강한 레시피를 #Person1# 와 공유한다.                                                               \n",
      "------------------------------------------------------------------------------------------------------------------------------------------------------\n",
      "New best model saved with average ROUGE: 0.211871\n",
      "\n",
      "Epoch 4/1000, Current Learning Rate: 0.000031\n"
     ]
    },
    {
     "name": "stderr",
     "output_type": "stream",
     "text": [
      "                                                                   \r"
     ]
    },
    {
     "name": "stdout",
     "output_type": "stream",
     "text": [
      "Train Loss: 0.413940, Valid Loss: 0.637397\n",
      "Rouge-1: 0.231779, Rouge-2: 0.066316, Rouge-l: 0.224939\n",
      "------------------------------------------------------------------------------------------------------------------------------------------------------\n",
      "PRED: #Person2# 는 감기, 알레르기, 운동, 천식 등의 증상을 호소하고 폐 전문의에게 가서 천식에 대한 검사를 받게 할 예정입니다.\n",
      "GOLD: #Person2# 는 숨쉬기에 어려움을 겪는다. 의사는 #Person1# 에게 이에 대해 묻고, #Person2# 를 폐 전문의에게 보낼 예정이다.                                                             \n",
      "------------------------------------------------------------------------------------------------------------------------------------------------------\n",
      "PRED: 지미는 다리와 팔목을 운동하고 금요일에 다리를 할 수 있다고 말한다. 헤이는 주간 스케줄을 따르기 때문에 두 날을 바꾸기로 결정한다.\n",
      "GOLD: #Person1# 은 지미에게 운동하러 가자고 제안하고 팔과 배를 운동하도록 설득한다.                                                                       \n",
      "------------------------------------------------------------------------------------------------------------------------------------------------------\n",
      "PRED: #Person2# 는 건강에 해로운 음식을 먹는 것을 멈춰야 한다고 생각한다. 그들은 주로 과일, 채소, 그리고 닭고기를 먹는다고 말하고, 닭고기 구워서 먹으면 더 건강하다고 말한다.\n",
      "GOLD: #Person1# 은 건강에 해로운 음식을 먹는 것을 멈추려는 계획을 세우고, #Person2# 는 자신의 건강한 레시피를 #Person1# 와 공유한다.                                                               \n",
      "------------------------------------------------------------------------------------------------------------------------------------------------------\n",
      "New best model saved with average ROUGE: 0.231779\n",
      "\n",
      "Epoch 5/1000, Current Learning Rate: 0.000041\n"
     ]
    },
    {
     "name": "stderr",
     "output_type": "stream",
     "text": [
      "                                                                   \r"
     ]
    },
    {
     "name": "stdout",
     "output_type": "stream",
     "text": [
      "Train Loss: 0.370278, Valid Loss: 0.606844\n",
      "Rouge-1: 0.237714, Rouge-2: 0.067859, Rouge-l: 0.230732\n",
      "------------------------------------------------------------------------------------------------------------------------------------------------------\n",
      "PRED: #Person2# 는 감기, 알레르기, 운동, 천식 등의 증상을 호소하고 폐 전문의에게 가서 천식에 대한 검사를 받게 할 예정입니다.\n",
      "GOLD: #Person2# 는 숨쉬기에 어려움을 겪는다. 의사는 #Person1# 에게 이에 대해 묻고, #Person2# 를 폐 전문의에게 보낼 예정이다.                                                             \n",
      "------------------------------------------------------------------------------------------------------------------------------------------------------\n",
      "PRED: 지미는 다리와 팔목을 운동하자고 제안하고, 헤이는 주간 스케줄을 따르고 있다고 말한다. 그들은 금요일에 다리를 할 수 있다. 3시 30분에 헬스장에서 만나기로 한다.\n",
      "GOLD: #Person1# 은 지미에게 운동하러 가자고 제안하고 팔과 배를 운동하도록 설득한다.                                                                       \n",
      "------------------------------------------------------------------------------------------------------------------------------------------------------\n",
      "PRED: #Person2# 는 건강에 해로운 음식을 먹는 것을 멈춰야 한다고 생각한다. 그들은 주로 과일, 채소, 그리고 닭고기를 먹는다고 말하고, 닭고기 구워먹는 것이 훨씬 더 건강하다고 말한다.\n",
      "GOLD: #Person1# 은 건강에 해로운 음식을 먹는 것을 멈추려는 계획을 세우고, #Person2# 는 자신의 건강한 레시피를 #Person1# 와 공유한다.                                                               \n",
      "------------------------------------------------------------------------------------------------------------------------------------------------------\n",
      "New best model saved with average ROUGE: 0.237714\n",
      "\n",
      "Epoch 6/1000, Current Learning Rate: 0.000050\n"
     ]
    },
    {
     "name": "stderr",
     "output_type": "stream",
     "text": [
      "                                                                   \r"
     ]
    },
    {
     "name": "stdout",
     "output_type": "stream",
     "text": [
      "Train Loss: 0.344503, Valid Loss: 0.587071\n",
      "Rouge-1: 0.250458, Rouge-2: 0.076253, Rouge-l: 0.242622\n",
      "------------------------------------------------------------------------------------------------------------------------------------------------------\n",
      "PRED: #Person2# 는 감기, 알레르기, 운동, 천식 등의 증상을 호소하고 폐 전문의에게 가서 천식에 대한 검사를 받게 할 예정입니다.\n",
      "GOLD: #Person2# 는 숨쉬기에 어려움을 겪는다. 의사는 #Person1# 에게 이에 대해 묻고, #Person2# 를 폐 전문의에게 보낼 예정이다.                                                             \n",
      "------------------------------------------------------------------------------------------------------------------------------------------------------\n",
      "PRED: 지미는 다리와 팔목을 운동하고 금요일에 다리를 할 수 있다. 헤이는 지미에게 헬스장에서 만나자고 제안하고, 지미와 함께 운동하자고 제안한다.\n",
      "GOLD: #Person1# 은 지미에게 운동하러 가자고 제안하고 팔과 배를 운동하도록 설득한다.                                                                       \n",
      "------------------------------------------------------------------------------------------------------------------------------------------------------\n",
      "PRED: #Person2# 는 건강에 해로운 음식을 먹는 것을 멈춰야 한다고 생각한다. 그들은 주로 과일, 채소, 그리고 닭고기를 먹는다고 말하고, 닭고기 구워 먹는 것이 훨씬 더 건강하다고 말한다.\n",
      "GOLD: #Person1# 은 건강에 해로운 음식을 먹는 것을 멈추려는 계획을 세우고, #Person2# 는 자신의 건강한 레시피를 #Person1# 와 공유한다.                                                               \n",
      "------------------------------------------------------------------------------------------------------------------------------------------------------\n",
      "New best model saved with average ROUGE: 0.250458\n",
      "\n",
      "Epoch 7/1000, Current Learning Rate: 0.000060\n"
     ]
    },
    {
     "name": "stderr",
     "output_type": "stream",
     "text": [
      "                                                                   \r"
     ]
    },
    {
     "name": "stdout",
     "output_type": "stream",
     "text": [
      "Train Loss: 0.324630, Valid Loss: 0.574813\n",
      "Rouge-1: 0.252806, Rouge-2: 0.077195, Rouge-l: 0.245234\n",
      "------------------------------------------------------------------------------------------------------------------------------------------------------\n",
      "PRED: #Person2# 는 감기, 알레르기, 운동, 천식 때문에 숨쉬기가 힘들다. 의사 선생님은 그녀에게 폐 전문의에게 가서 천식에 대한 검사를 받게 할 것이다.\n",
      "GOLD: #Person2# 는 숨쉬기에 어려움을 겪는다. 의사는 #Person1# 에게 이에 대해 묻고, #Person2# 를 폐 전문의에게 보낼 예정이다.                                                             \n",
      "------------------------------------------------------------------------------------------------------------------------------------------------------\n",
      "PRED: 지미는 다리와 팔목을 운동하고 금요일에 다리를 할 수 있다. 그들은 오후 3시 30분에 헬스장에서 만나기로 결정한다. 둘 다 주간 스케줄을 따르고 있다.\n",
      "GOLD: #Person1# 은 지미에게 운동하러 가자고 제안하고 팔과 배를 운동하도록 설득한다.                                                                       \n",
      "------------------------------------------------------------------------------------------------------------------------------------------------------\n",
      "PRED: #Person2# 는 건강에 해로운 음식을 먹는 것을 멈춰야 한다고 생각한다. 그들은 주로 과일, 채소, 그리고 닭고기를 먹는다고 말한다. 그 후\n",
      "GOLD: #Person1# 은 건강에 해로운 음식을 먹는 것을 멈추려는 계획을 세우고, #Person2# 는 자신의 건강한 레시피를 #Person1# 와 공유한다.                                                               \n",
      "------------------------------------------------------------------------------------------------------------------------------------------------------\n",
      "New best model saved with average ROUGE: 0.252806\n",
      "\n",
      "Epoch 8/1000, Current Learning Rate: 0.000070\n"
     ]
    },
    {
     "name": "stderr",
     "output_type": "stream",
     "text": [
      "                                                                   \r"
     ]
    },
    {
     "name": "stdout",
     "output_type": "stream",
     "text": [
      "Train Loss: 0.305880, Valid Loss: 0.567281\n",
      "Rouge-1: 0.256160, Rouge-2: 0.078919, Rouge-l: 0.248027\n",
      "------------------------------------------------------------------------------------------------------------------------------------------------------\n",
      "PRED: #Person2# 는 숨쉬기가 힘들어서 폐 전문의에게 천식에 대한 검사를 받을 예정입니다. 의사 선생님은 그녀에게 폐전문의를 보내 천식 검사를 받게 할 것입니다.\n",
      "GOLD: #Person2# 는 숨쉬기에 어려움을 겪는다. 의사는 #Person1# 에게 이에 대해 묻고, #Person2# 를 폐 전문의에게 보낼 예정이다.                                                             \n",
      "------------------------------------------------------------------------------------------------------------------------------------------------------\n",
      "PRED: 지미는 다리와 팔목을 운동하고 금요일에 다리를 할 수 있다. 그들은 오후 3시 30분에 헬스장에서 만나기로 결정한다. 둘 다 다리가 아파서이다.\n",
      "GOLD: #Person1# 은 지미에게 운동하러 가자고 제안하고 팔과 배를 운동하도록 설득한다.                                                                       \n",
      "------------------------------------------------------------------------------------------------------------------------------------------------------\n",
      "PRED: #Person2# 는 건강에 해로운 음식을 먹는 것을 멈춰야 한다고 생각한다. 그는 주로 과일, 채소, 그리고 닭고기를 먹는다고 말한다. 그 후\n",
      "GOLD: #Person1# 은 건강에 해로운 음식을 먹는 것을 멈추려는 계획을 세우고, #Person2# 는 자신의 건강한 레시피를 #Person1# 와 공유한다.                                                               \n",
      "------------------------------------------------------------------------------------------------------------------------------------------------------\n",
      "New best model saved with average ROUGE: 0.256160\n",
      "\n",
      "Epoch 9/1000, Current Learning Rate: 0.000080\n"
     ]
    },
    {
     "name": "stderr",
     "output_type": "stream",
     "text": [
      "                                                                   \r"
     ]
    },
    {
     "name": "stdout",
     "output_type": "stream",
     "text": [
      "Train Loss: 0.288475, Valid Loss: 0.563430\n",
      "Rouge-1: 0.252829, Rouge-2: 0.078931, Rouge-l: 0.244594\n",
      "------------------------------------------------------------------------------------------------------------------------------------------------------\n",
      "PRED: #Person2# 는 숨쉬기가 힘들어서 폐 전문의에게 천식에 대한 검사를 받으러 갑니다. 의사 선생님은 그녀에게 폐전문의를 보내 천식 검사를 받게 할 것입니다.\n",
      "GOLD: #Person2# 는 숨쉬기에 어려움을 겪는다. 의사는 #Person1# 에게 이에 대해 묻고, #Person2# 를 폐 전문의에게 보낼 예정이다.                                                             \n",
      "------------------------------------------------------------------------------------------------------------------------------------------------------\n",
      "PRED: 지미는 다리와 팔목을 운동하고 금요일에 다리를 할 수 있다. 그들은 3시 30분에 헬스장에서 만나기로 결정한다. 둘 다 다리가 아프다.\n",
      "GOLD: #Person1# 은 지미에게 운동하러 가자고 제안하고 팔과 배를 운동하도록 설득한다.                                                                       \n",
      "------------------------------------------------------------------------------------------------------------------------------------------------------\n",
      "PRED: #Person2# 는 건강에 해로운 음식을 먹는 것을 멈춰야 한다고 생각하며, 지금은 주로 과일, 채소, 그리고 닭고기를 먹는다고 말한다. 그 후\n",
      "GOLD: #Person1# 은 건강에 해로운 음식을 먹는 것을 멈추려는 계획을 세우고, #Person2# 는 자신의 건강한 레시피를 #Person1# 와 공유한다.                                                               \n",
      "------------------------------------------------------------------------------------------------------------------------------------------------------\n",
      "Not improve. Early stopping counter: 1/10\n",
      "\n",
      "Epoch 10/1000, Current Learning Rate: 0.000090\n"
     ]
    },
    {
     "name": "stderr",
     "output_type": "stream",
     "text": [
      "                                                                    \r"
     ]
    },
    {
     "name": "stdout",
     "output_type": "stream",
     "text": [
      "Train Loss: 0.270645, Valid Loss: 0.559776\n",
      "Rouge-1: 0.255139, Rouge-2: 0.078869, Rouge-l: 0.246371\n",
      "------------------------------------------------------------------------------------------------------------------------------------------------------\n",
      "PRED: #Person2# 는 숨쉬기가 힘들고 운동을 할 때 많이 나타나며, 폐 전문의에게 천식에 대한 검사를 받게 될 것입니다. 의사 선생님은 그녀에게 폐전문의를 보내겠다고 말합니다.\n",
      "GOLD: #Person2# 는 숨쉬기에 어려움을 겪는다. 의사는 #Person1# 에게 이에 대해 묻고, #Person2# 를 폐 전문의에게 보낼 예정이다.                                                             \n",
      "------------------------------------------------------------------------------------------------------------------------------------------------------\n",
      "PRED: 지미는 다리와 팔목을 운동하고 금요일에 다리를 하기로 결정했다. 그들은 오후 3시 30분에 헬스장에서 만나기로 한다. 둘 다 다리가 아파서이다.\n",
      "GOLD: #Person1# 은 지미에게 운동하러 가자고 제안하고 팔과 배를 운동하도록 설득한다.                                                                       \n",
      "------------------------------------------------------------------------------------------------------------------------------------------------------\n",
      "PRED: #Person2# 는 건강에 해로운 음식을 먹는 것을 멈춰야 한다고 생각한다. 그는 주로 과일, 채소, 그리고 닭고기를 먹는다고 말한다. 그 후\n",
      "GOLD: #Person1# 은 건강에 해로운 음식을 먹는 것을 멈추려는 계획을 세우고, #Person2# 는 자신의 건강한 레시피를 #Person1# 와 공유한다.                                                               \n",
      "------------------------------------------------------------------------------------------------------------------------------------------------------\n",
      "Not improve. Early stopping counter: 2/10\n",
      "\n",
      "Epoch 11/1000, Current Learning Rate: 0.000100\n"
     ]
    },
    {
     "name": "stderr",
     "output_type": "stream",
     "text": [
      "                                                                    \r"
     ]
    },
    {
     "name": "stdout",
     "output_type": "stream",
     "text": [
      "Train Loss: 0.252593, Valid Loss: 0.559417\n",
      "Rouge-1: 0.253641, Rouge-2: 0.078845, Rouge-l: 0.245679\n",
      "------------------------------------------------------------------------------------------------------------------------------------------------------\n",
      "PRED: #Person2# 는 숨쉬기가 힘들고 운동을 할 때 많이 나타나기 때문에 천식에 대한 검사를 받게 될 것이라고 의사 선생님에게 알립니다. 의사는\n",
      "GOLD: #Person2# 는 숨쉬기에 어려움을 겪는다. 의사는 #Person1# 에게 이에 대해 묻고, #Person2# 를 폐 전문의에게 보낼 예정이다.                                                             \n",
      "------------------------------------------------------------------------------------------------------------------------------------------------------\n",
      "PRED: #Person1# 은 지미에게 운동하자고 제안하지만, 지미는 주간 스케줄을 따르고 있기 때문에 금요일에 다리를 할 수 있다. 그들은 3시 30분에 헬스장에서 만나기로 한다.\n",
      "GOLD: #Person1# 은 지미에게 운동하러 가자고 제안하고 팔과 배를 운동하도록 설득한다.                                                                       \n",
      "------------------------------------------------------------------------------------------------------------------------------------------------------\n",
      "PRED: #Person2# 는 건강에 해로운 음식을 먹는 것을 멈춰야 한다고 생각하며, 그 이유는 주로 과일, 채소, 그리고 닭고기를 먹기 때문이라고 말한다.\n",
      "GOLD: #Person1# 은 건강에 해로운 음식을 먹는 것을 멈추려는 계획을 세우고, #Person2# 는 자신의 건강한 레시피를 #Person1# 와 공유한다.                                                               \n",
      "------------------------------------------------------------------------------------------------------------------------------------------------------\n",
      "Not improve. Early stopping counter: 3/10\n",
      "\n",
      "Epoch 12/1000, Current Learning Rate: 0.000100\n"
     ]
    },
    {
     "name": "stderr",
     "output_type": "stream",
     "text": [
      "                                                                    \r"
     ]
    },
    {
     "name": "stdout",
     "output_type": "stream",
     "text": [
      "Train Loss: 0.233675, Valid Loss: 0.566308\n",
      "Rouge-1: 0.257999, Rouge-2: 0.080492, Rouge-l: 0.249564\n",
      "------------------------------------------------------------------------------------------------------------------------------------------------------\n",
      "PRED: #Person2# 는 숨쉬기가 힘들고 알고 있는 알레르기가 없지만 운동을 할 때 많이 나타난다고 말합니다. 의사는 천식에 대한 검사를 진행할 예정입니다.\n",
      "GOLD: #Person2# 는 숨쉬기에 어려움을 겪는다. 의사는 #Person1# 에게 이에 대해 묻고, #Person2# 를 폐 전문의에게 보낼 예정이다.                                                             \n",
      "------------------------------------------------------------------------------------------------------------------------------------------------------\n",
      "PRED: 지미는 다리와 팔목을 운동하고 금요일에 다리를 하기로 결정했다. 그들은 오후 3시 30분에 헬스장에서 만날 예정이다. 그들은 서로의 스케줄에 대해 이야기한다.\n",
      "GOLD: #Person1# 은 지미에게 운동하러 가자고 제안하고 팔과 배를 운동하도록 설득한다.                                                                       \n",
      "------------------------------------------------------------------------------------------------------------------------------------------------------\n",
      "PRED: #Person1# 은 건강에 해로운 음식을 먹는 것을 멈춰야 한다고 생각하며, 주로 과일, 채소, 그리고 닭고기를 먹기 시작했다고 말한다. 그 후\n",
      "GOLD: #Person1# 은 건강에 해로운 음식을 먹는 것을 멈추려는 계획을 세우고, #Person2# 는 자신의 건강한 레시피를 #Person1# 와 공유한다.                                                               \n",
      "------------------------------------------------------------------------------------------------------------------------------------------------------\n",
      "New best model saved with average ROUGE: 0.257999\n",
      "\n",
      "Epoch 13/1000, Current Learning Rate: 0.000100\n"
     ]
    },
    {
     "name": "stderr",
     "output_type": "stream",
     "text": [
      "                                                                    \r"
     ]
    },
    {
     "name": "stdout",
     "output_type": "stream",
     "text": [
      "Train Loss: 0.215359, Valid Loss: 0.573438\n",
      "Rouge-1: 0.262530, Rouge-2: 0.083698, Rouge-l: 0.253796\n",
      "------------------------------------------------------------------------------------------------------------------------------------------------------\n",
      "PRED: #Person2# 는 숨쉬기가 힘들고 알고 있는 알레르기가 없으므로, 천식에 대한 검사를 받게 될 의사를 찾아갑니다. 의사는 그를 폐 전문의에게 보내기로 결정합니다.\n",
      "GOLD: #Person2# 는 숨쉬기에 어려움을 겪는다. 의사는 #Person1# 에게 이에 대해 묻고, #Person2# 를 폐 전문의에게 보낼 예정이다.                                                             \n",
      "------------------------------------------------------------------------------------------------------------------------------------------------------\n",
      "PRED: 지미는 다리와 팔목을 운동하고 금요일에 다리를 하기로 결정했다. 그들은 오후 3시 30분에 헬스장에서 만나기로 한다. 그들은 서로에게 주간 스케줄을 바꾼다고 말한다.\n",
      "GOLD: #Person1# 은 지미에게 운동하러 가자고 제안하고 팔과 배를 운동하도록 설득한다.                                                                       \n",
      "------------------------------------------------------------------------------------------------------------------------------------------------------\n",
      "PRED: #Person1# 은 건강에 해로운 음식을 먹는 것을 멈춰야 한다고 생각하며, 그 이유는 주로 과일, 채소, 그리고 닭고기를 먹기 때문이라고 설명한다.\n",
      "GOLD: #Person1# 은 건강에 해로운 음식을 먹는 것을 멈추려는 계획을 세우고, #Person2# 는 자신의 건강한 레시피를 #Person1# 와 공유한다.                                                               \n",
      "------------------------------------------------------------------------------------------------------------------------------------------------------\n",
      "New best model saved with average ROUGE: 0.262530\n",
      "\n",
      "Epoch 14/1000, Current Learning Rate: 0.000100\n"
     ]
    },
    {
     "name": "stderr",
     "output_type": "stream",
     "text": [
      "                                                                    \r"
     ]
    },
    {
     "name": "stdout",
     "output_type": "stream",
     "text": [
      "Train Loss: 0.198332, Valid Loss: 0.580827\n",
      "Rouge-1: 0.264215, Rouge-2: 0.083551, Rouge-l: 0.254814\n",
      "------------------------------------------------------------------------------------------------------------------------------------------------------\n",
      "PRED: #Person2# 는 숨쉬기가 힘들고, 알고 있는 알레르기는 없지만 운동을 할 때 많이 나타난다고 말했습니다. 의사는 그를 폐 전문의에게 보내 검사를 받게 할 것입니다.\n",
      "GOLD: #Person2# 는 숨쉬기에 어려움을 겪는다. 의사는 #Person1# 에게 이에 대해 묻고, #Person2# 를 폐 전문의에게 보낼 예정이다.                                                             \n",
      "------------------------------------------------------------------------------------------------------------------------------------------------------\n",
      "PRED: #Person1# 은 지미에게 운동하자고 제안하지만 지미는 주간 스케줄을 따르고 있어 금요일에 다리를 할 수 있다. 그들은 3시 30분에 헬스장에서 만나기로 한다.\n",
      "GOLD: #Person1# 은 지미에게 운동하러 가자고 제안하고 팔과 배를 운동하도록 설득한다.                                                                       \n",
      "------------------------------------------------------------------------------------------------------------------------------------------------------\n",
      "PRED: #Person1# 은 건강에 해로운 음식을 먹는 것을 멈춰야 한다고 생각하며, 주로 과일, 채소, 그리고 닭고기를 먹는다고 말한다. 그 이유는 건강한 과일과 채소가 건강하기 때문이다.\n",
      "GOLD: #Person1# 은 건강에 해로운 음식을 먹는 것을 멈추려는 계획을 세우고, #Person2# 는 자신의 건강한 레시피를 #Person1# 와 공유한다.                                                               \n",
      "------------------------------------------------------------------------------------------------------------------------------------------------------\n",
      "New best model saved with average ROUGE: 0.264215\n",
      "\n",
      "Epoch 15/1000, Current Learning Rate: 0.000100\n"
     ]
    },
    {
     "name": "stderr",
     "output_type": "stream",
     "text": [
      "                                                                    \r"
     ]
    },
    {
     "name": "stdout",
     "output_type": "stream",
     "text": [
      "Train Loss: 0.181691, Valid Loss: 0.590905\n",
      "Rouge-1: 0.258543, Rouge-2: 0.083421, Rouge-l: 0.249597\n",
      "------------------------------------------------------------------------------------------------------------------------------------------------------\n",
      "PRED: #Person2# 는 숨쉬기가 힘들고 운동을 할 때 많이 나타나기 때문에 천식에 대한 검사를 받게 될 거라고 의사에게 말합니다. 의사는 그를 폐 전문의에게 보내기로 결정했습니다.\n",
      "GOLD: #Person2# 는 숨쉬기에 어려움을 겪는다. 의사는 #Person1# 에게 이에 대해 묻고, #Person2# 를 폐 전문의에게 보낼 예정이다.                                                             \n",
      "------------------------------------------------------------------------------------------------------------------------------------------------------\n",
      "PRED: #Person1# 은 지미에게 금요일에 다리와 팔목을 운동하자고 제안하지만, 지미는 주간 스케줄을 따르고 있어서, 그들은 오후 3시 30분에 헬스장에서 만날 예정이다.\n",
      "GOLD: #Person1# 은 지미에게 운동하러 가자고 제안하고 팔과 배를 운동하도록 설득한다.                                                                       \n",
      "------------------------------------------------------------------------------------------------------------------------------------------------------\n",
      "PRED: #Person1# 은 건강에 해로운 음식을 먹는 것을 멈춰야 한다고 생각하며, 그 이유는 주로 과일, 채소, 그리고 닭고기를 먹기 때문이라고 말한다.\n",
      "GOLD: #Person1# 은 건강에 해로운 음식을 먹는 것을 멈추려는 계획을 세우고, #Person2# 는 자신의 건강한 레시피를 #Person1# 와 공유한다.                                                               \n",
      "------------------------------------------------------------------------------------------------------------------------------------------------------\n",
      "Not improve. Early stopping counter: 1/10\n",
      "\n",
      "Epoch 16/1000, Current Learning Rate: 0.000099\n"
     ]
    },
    {
     "name": "stderr",
     "output_type": "stream",
     "text": [
      "                                                                    \r"
     ]
    },
    {
     "name": "stdout",
     "output_type": "stream",
     "text": [
      "Train Loss: 0.166485, Valid Loss: 0.603214\n",
      "Rouge-1: 0.266048, Rouge-2: 0.083439, Rouge-l: 0.257498\n",
      "------------------------------------------------------------------------------------------------------------------------------------------------------\n",
      "PRED: #Person2# 는 숨쉬기가 힘들고 운동을 할 때 많이 나타나며, 천식에 대한 검사를 받고 싶어합니다. 의사는 그를 폐 전문의에게 보내 검사를 받게 할 것입니다.\n",
      "GOLD: #Person2# 는 숨쉬기에 어려움을 겪는다. 의사는 #Person1# 에게 이에 대해 묻고, #Person2# 를 폐 전문의에게 보낼 예정이다.                                                             \n",
      "------------------------------------------------------------------------------------------------------------------------------------------------------\n",
      "PRED: #Person1# 은 지미에게 운동하자고 제안하지만 지미는 주간 스케줄을 따르고 있고 금요일에 다리를 할 수 있다고 말한다. 그들은 3시 30분에 헬스장에서 만날 예정이다.\n",
      "GOLD: #Person1# 은 지미에게 운동하러 가자고 제안하고 팔과 배를 운동하도록 설득한다.                                                                       \n",
      "------------------------------------------------------------------------------------------------------------------------------------------------------\n",
      "PRED: #Person1# 은 건강에 해로운 음식을 먹는 것을 멈춰야 한다고 주장한다. 왜냐하면 요즘 사람들은 과일, 채소, 닭고기, 그리고 닭고기만 먹기 때문이다.\n",
      "GOLD: #Person1# 은 건강에 해로운 음식을 먹는 것을 멈추려는 계획을 세우고, #Person2# 는 자신의 건강한 레시피를 #Person1# 와 공유한다.                                                               \n",
      "------------------------------------------------------------------------------------------------------------------------------------------------------\n",
      "New best model saved with average ROUGE: 0.266048\n",
      "\n",
      "Epoch 17/1000, Current Learning Rate: 0.000099\n"
     ]
    },
    {
     "name": "stderr",
     "output_type": "stream",
     "text": [
      "                                                                    \r"
     ]
    },
    {
     "name": "stdout",
     "output_type": "stream",
     "text": [
      "Train Loss: 0.152001, Valid Loss: 0.609648\n",
      "Rouge-1: 0.265267, Rouge-2: 0.086650, Rouge-l: 0.255932\n",
      "------------------------------------------------------------------------------------------------------------------------------------------------------\n",
      "PRED: #Person2# 는 숨쉬기가 힘들고, 알고 있는 알레르기는 없지만 운동을 할 때 많이 나타난다. 의사는 천식에 대한 검사를 받게 할 예정이다.\n",
      "GOLD: #Person2# 는 숨쉬기에 어려움을 겪는다. 의사는 #Person1# 에게 이에 대해 묻고, #Person2# 를 폐 전문의에게 보낼 예정이다.                                                             \n",
      "------------------------------------------------------------------------------------------------------------------------------------------------------\n",
      "PRED: #Person1# 은 지미에게 운동하자고 제안한다. 그들은 금요일에 다리와 팔목을 운동하기로 결정하고, 3시 30분에 헬스장에서 만날 예정이다.\n",
      "GOLD: #Person1# 은 지미에게 운동하러 가자고 제안하고 팔과 배를 운동하도록 설득한다.                                                                       \n",
      "------------------------------------------------------------------------------------------------------------------------------------------------------\n",
      "PRED: #Person1# 은 건강에 해로운 음식을 먹는 것을 멈춰야 한다고 주장한다. 왜냐하면 요즘 사람들은 주로 과일, 채소, 그리고 닭고기를 먹기 때문일 것이다.\n",
      "GOLD: #Person1# 은 건강에 해로운 음식을 먹는 것을 멈추려는 계획을 세우고, #Person2# 는 자신의 건강한 레시피를 #Person1# 와 공유한다.                                                               \n",
      "------------------------------------------------------------------------------------------------------------------------------------------------------\n",
      "Not improve. Early stopping counter: 1/10\n",
      "\n",
      "Epoch 18/1000, Current Learning Rate: 0.000099\n"
     ]
    },
    {
     "name": "stderr",
     "output_type": "stream",
     "text": [
      "                                                                    \r"
     ]
    },
    {
     "name": "stdout",
     "output_type": "stream",
     "text": [
      "Train Loss: 0.138166, Valid Loss: 0.623735\n",
      "Rouge-1: 0.258552, Rouge-2: 0.082144, Rouge-l: 0.250092\n",
      "------------------------------------------------------------------------------------------------------------------------------------------------------\n",
      "PRED: #Person2# 는 숨쉬기가 힘들고 운동을 할 때 많이 나타나며, 천식에 대한 검사를 받고 싶어합니다. 의사는 그를 폐 전문의에게 보내기로 결정했습니다.\n",
      "GOLD: #Person2# 는 숨쉬기에 어려움을 겪는다. 의사는 #Person1# 에게 이에 대해 묻고, #Person2# 를 폐 전문의에게 보낼 예정이다.                                                             \n",
      "------------------------------------------------------------------------------------------------------------------------------------------------------\n",
      "PRED: #Person1# 은 지미에게 운동하자고 제안한다. 그들은 금요일에 다리와 팔목을 운동하기로 결정하고, 3시 30분에 헬스장에서 만날 예정이다.\n",
      "GOLD: #Person1# 은 지미에게 운동하러 가자고 제안하고 팔과 배를 운동하도록 설득한다.                                                                       \n",
      "------------------------------------------------------------------------------------------------------------------------------------------------------\n",
      "PRED: #Person1# 은 건강에 해로운 음식을 먹는 것을 멈춰야 한다고 주장한다. 왜냐하면 요즘 사람들은 주로 과일, 채소, 닭고기를 먹기 시작했기 때문이다.\n",
      "GOLD: #Person1# 은 건강에 해로운 음식을 먹는 것을 멈추려는 계획을 세우고, #Person2# 는 자신의 건강한 레시피를 #Person1# 와 공유한다.                                                               \n",
      "------------------------------------------------------------------------------------------------------------------------------------------------------\n",
      "Not improve. Early stopping counter: 2/10\n",
      "\n",
      "Epoch 19/1000, Current Learning Rate: 0.000098\n"
     ]
    },
    {
     "name": "stderr",
     "output_type": "stream",
     "text": [
      "                                                                    \r"
     ]
    },
    {
     "name": "stdout",
     "output_type": "stream",
     "text": [
      "Train Loss: 0.125490, Valid Loss: 0.631726\n",
      "Rouge-1: 0.256095, Rouge-2: 0.080361, Rouge-l: 0.248150\n",
      "------------------------------------------------------------------------------------------------------------------------------------------------------\n",
      "PRED: #Person2# 는 숨쉬기가 힘들고, 운동을 할 때 주로 나타나며, 천식에 대한 검사를 받게 됩니다. 의사 선생님이 그를 폐 전문의에게 보내기로 결정했습니다.\n",
      "GOLD: #Person2# 는 숨쉬기에 어려움을 겪는다. 의사는 #Person1# 에게 이에 대해 묻고, #Person2# 를 폐 전문의에게 보낼 예정이다.                                                             \n",
      "------------------------------------------------------------------------------------------------------------------------------------------------------\n",
      "PRED: #Person1# 와 지미는 운동하기로 결정한다. 그들은 금요일에 다리와 팔목을 운동할 예정이다. 그들은 3시 30분에 헬스장에서 만나기로 한다.\n",
      "GOLD: #Person1# 은 지미에게 운동하러 가자고 제안하고 팔과 배를 운동하도록 설득한다.                                                                       \n",
      "------------------------------------------------------------------------------------------------------------------------------------------------------\n",
      "PRED: #Person1# 은 건강에 해로운 음식을 먹는 것을 멈춰야 한다고 생각한다. 왜냐하면 이제까지는 주로 과일, 채소, 그리고 닭고기를 먹었기 때문이다.\n",
      "GOLD: #Person1# 은 건강에 해로운 음식을 먹는 것을 멈추려는 계획을 세우고, #Person2# 는 자신의 건강한 레시피를 #Person1# 와 공유한다.                                                               \n",
      "------------------------------------------------------------------------------------------------------------------------------------------------------\n",
      "Not improve. Early stopping counter: 3/10\n",
      "\n",
      "Epoch 20/1000, Current Learning Rate: 0.000098\n"
     ]
    },
    {
     "name": "stderr",
     "output_type": "stream",
     "text": [
      "                                                                    \r"
     ]
    },
    {
     "name": "stdout",
     "output_type": "stream",
     "text": [
      "Train Loss: 0.113803, Valid Loss: 0.644240\n",
      "Rouge-1: 0.259893, Rouge-2: 0.083116, Rouge-l: 0.250434\n",
      "------------------------------------------------------------------------------------------------------------------------------------------------------\n",
      "PRED: #Person2# 는 숨쉬기가 힘들고, 운동을 할 때 주로 나타나며, 폐 전문의에게 검사를 받게 될 것입니다. 의사 선생님은 천식에 대한 검사를 진행할 예정입니다.\n",
      "GOLD: #Person2# 는 숨쉬기에 어려움을 겪는다. 의사는 #Person1# 에게 이에 대해 묻고, #Person2# 를 폐 전문의에게 보낼 예정이다.                                                             \n",
      "------------------------------------------------------------------------------------------------------------------------------------------------------\n",
      "PRED: #Person1# 와 지미는 운동하기로 결정한다. 그들은 금요일에 다리와 팔목을 운동할 예정이다. 그들은 3시 30분에 헬스장에서 만나기로 한다.\n",
      "GOLD: #Person1# 은 지미에게 운동하러 가자고 제안하고 팔과 배를 운동하도록 설득한다.                                                                       \n",
      "------------------------------------------------------------------------------------------------------------------------------------------------------\n",
      "PRED: #Person2# 는 건강에 해로운 음식을 먹는 것을 멈춰야 한다고 생각한다. 왜냐하면 지금은 주로 과일, 채소, 그리고 닭고기를 먹기 때문이다. 결국,\n",
      "GOLD: #Person1# 은 건강에 해로운 음식을 먹는 것을 멈추려는 계획을 세우고, #Person2# 는 자신의 건강한 레시피를 #Person1# 와 공유한다.                                                               \n",
      "------------------------------------------------------------------------------------------------------------------------------------------------------\n",
      "Not improve. Early stopping counter: 4/10\n",
      "\n",
      "Epoch 21/1000, Current Learning Rate: 0.000097\n"
     ]
    },
    {
     "name": "stderr",
     "output_type": "stream",
     "text": [
      "                                                                    \r"
     ]
    },
    {
     "name": "stdout",
     "output_type": "stream",
     "text": [
      "Train Loss: 0.103136, Valid Loss: 0.658679\n",
      "Rouge-1: 0.262211, Rouge-2: 0.085182, Rouge-l: 0.253734\n",
      "------------------------------------------------------------------------------------------------------------------------------------------------------\n",
      "PRED: #Person2# 는 숨쉬기가 힘들고 운동을 할 때 많이 나타나기 때문에 천식에 대한 검사를 받게 될 거라고 의사 선생님에게 말했습니다. 의사는 그를 폐 전문의에게 보내기로 결정했습니다.\n",
      "GOLD: #Person2# 는 숨쉬기에 어려움을 겪는다. 의사는 #Person1# 에게 이에 대해 묻고, #Person2# 를 폐 전문의에게 보낼 예정이다.                                                             \n",
      "------------------------------------------------------------------------------------------------------------------------------------------------------\n",
      "PRED: 지미와 금요일에 운동하기로 결정했다. 그들은 서로의 다리와 팔목을 보기로 결정하고, 3시 30분에 헬스장에서 만나기로 한다. ◇지미야, 운동하자. )는 주간 스케줄을 따르고 있고,\n",
      "GOLD: #Person1# 은 지미에게 운동하러 가자고 제안하고 팔과 배를 운동하도록 설득한다.                                                                       \n",
      "------------------------------------------------------------------------------------------------------------------------------------------------------\n",
      "PRED: #Person1# 은 건강에 해로운 음식을 먹는 것을 멈춰야 한다고 생각한다. 왜냐하면 그들은 이제 과일, 채소, 그리고 닭고기를 먹기 시작했기 때문이다.\n",
      "GOLD: #Person1# 은 건강에 해로운 음식을 먹는 것을 멈추려는 계획을 세우고, #Person2# 는 자신의 건강한 레시피를 #Person1# 와 공유한다.                                                               \n",
      "------------------------------------------------------------------------------------------------------------------------------------------------------\n",
      "Not improve. Early stopping counter: 5/10\n",
      "\n",
      "Epoch 22/1000, Current Learning Rate: 0.000096\n"
     ]
    },
    {
     "name": "stderr",
     "output_type": "stream",
     "text": [
      "                                                                    \r"
     ]
    },
    {
     "name": "stdout",
     "output_type": "stream",
     "text": [
      "Train Loss: 0.092766, Valid Loss: 0.671574\n",
      "Rouge-1: 0.258295, Rouge-2: 0.080773, Rouge-l: 0.249416\n",
      "------------------------------------------------------------------------------------------------------------------------------------------------------\n",
      "PRED: #Person2# 는 숨쉬기가 힘들고 운동을 할 때 주로 나타나기 때문에 천식에 대한 검사를 받고 싶어합니다. 의사는 그를 폐 전문의에게 보내기로 결정했습니다.\n",
      "GOLD: #Person2# 는 숨쉬기에 어려움을 겪는다. 의사는 #Person1# 에게 이에 대해 묻고, #Person2# 를 폐 전문의에게 보낼 예정이다.                                                             \n",
      "------------------------------------------------------------------------------------------------------------------------------------------------------\n",
      "PRED: #Person1# 은 지미에게 운동하자고 제안한다. 그들은 금요일에 다리와 팔목을 운동하기로 결정하고, 3시 30분에 헬스장에서 만날 예정이다.\n",
      "GOLD: #Person1# 은 지미에게 운동하러 가자고 제안하고 팔과 배를 운동하도록 설득한다.                                                                       \n",
      "------------------------------------------------------------------------------------------------------------------------------------------------------\n",
      "PRED: #Person2# 는 건강에 해로운 음식을 먹는 것을 멈춰야 한다고 생각한다. 왜냐하면, 그는 주로 과일, 채소, 그리고 닭고기를 먹기 때문이다. 그래서\n",
      "GOLD: #Person1# 은 건강에 해로운 음식을 먹는 것을 멈추려는 계획을 세우고, #Person2# 는 자신의 건강한 레시피를 #Person1# 와 공유한다.                                                               \n",
      "------------------------------------------------------------------------------------------------------------------------------------------------------\n",
      "Not improve. Early stopping counter: 6/10\n",
      "\n",
      "Epoch 23/1000, Current Learning Rate: 0.000096\n"
     ]
    },
    {
     "name": "stderr",
     "output_type": "stream",
     "text": [
      "                                                                    \r"
     ]
    },
    {
     "name": "stdout",
     "output_type": "stream",
     "text": [
      "Train Loss: 0.083883, Valid Loss: 0.683925\n",
      "Rouge-1: 0.260115, Rouge-2: 0.081548, Rouge-l: 0.251097\n",
      "------------------------------------------------------------------------------------------------------------------------------------------------------\n",
      "PRED: #Person2# 는 숨쉬기가 힘들고 운동을 할 때 주로 나타나기 때문에 천식에 대한 검사를 받게 될 거라고 의사에게 말했습니다. 의사는 그를 폐 전문의에게 보내기로 했습니다.\n",
      "GOLD: #Person2# 는 숨쉬기에 어려움을 겪는다. 의사는 #Person1# 에게 이에 대해 묻고, #Person2# 를 폐 전문의에게 보낼 예정이다.                                                             \n",
      "------------------------------------------------------------------------------------------------------------------------------------------------------\n",
      "PRED: #Person1# 와 지미는 운동하기로 결정한다. 그들은 금요일에 다리와 팔목을 운동할 예정이다. 그들은 3시 30분에 헬스장에서 만나기로 한다.\n",
      "GOLD: #Person1# 은 지미에게 운동하러 가자고 제안하고 팔과 배를 운동하도록 설득한다.                                                                       \n",
      "------------------------------------------------------------------------------------------------------------------------------------------------------\n",
      "PRED: #Person2# 는 건강에 해로운 음식을 먹는 것을 멈춰야 한다고 생각하며, 그 이유는 주로 과일, 채소, 그리고 닭고기를 먹기 때문이라고 설명한다.\n",
      "GOLD: #Person1# 은 건강에 해로운 음식을 먹는 것을 멈추려는 계획을 세우고, #Person2# 는 자신의 건강한 레시피를 #Person1# 와 공유한다.                                                               \n",
      "------------------------------------------------------------------------------------------------------------------------------------------------------\n",
      "Not improve. Early stopping counter: 7/10\n",
      "\n",
      "Epoch 24/1000, Current Learning Rate: 0.000095\n"
     ]
    },
    {
     "name": "stderr",
     "output_type": "stream",
     "text": [
      "                                                                    \r"
     ]
    },
    {
     "name": "stdout",
     "output_type": "stream",
     "text": [
      "Train Loss: 0.075548, Valid Loss: 0.690186\n",
      "Rouge-1: 0.259236, Rouge-2: 0.081130, Rouge-l: 0.251468\n",
      "------------------------------------------------------------------------------------------------------------------------------------------------------\n",
      "PRED: #Person2# 는 숨쉬기가 힘들고 운동을 할 때 주로 나타나기 때문에 천식에 대한 검사를 받게 될까봐 걱정한다. 의사는 그를 폐 전문의에게 보내기로 결정한다.\n",
      "GOLD: #Person2# 는 숨쉬기에 어려움을 겪는다. 의사는 #Person1# 에게 이에 대해 묻고, #Person2# 를 폐 전문의에게 보낼 예정이다.                                                             \n",
      "------------------------------------------------------------------------------------------------------------------------------------------------------\n",
      "PRED: #Person1# 와 지미는 운동하기로 결정한다. 그들은 금요일에 다리와 팔목을 운동할 예정이다. 그들은 3시 30분에 헬스장에서 만나기로 한다.\n",
      "GOLD: #Person1# 은 지미에게 운동하러 가자고 제안하고 팔과 배를 운동하도록 설득한다.                                                                       \n",
      "------------------------------------------------------------------------------------------------------------------------------------------------------\n",
      "PRED: #Person2# 는 건강에 해로운 음식을 먹는 것을 멈춰야 한다고 생각한다. 왜냐하면 그들은 과일, 채소, 그리고 닭고기를 먹기 시작했기 때문이다. 결국,\n",
      "GOLD: #Person1# 은 건강에 해로운 음식을 먹는 것을 멈추려는 계획을 세우고, #Person2# 는 자신의 건강한 레시피를 #Person1# 와 공유한다.                                                               \n",
      "------------------------------------------------------------------------------------------------------------------------------------------------------\n",
      "Not improve. Early stopping counter: 8/10\n",
      "\n",
      "Epoch 25/1000, Current Learning Rate: 0.000094\n"
     ]
    },
    {
     "name": "stderr",
     "output_type": "stream",
     "text": [
      "                                                                    \r"
     ]
    },
    {
     "name": "stdout",
     "output_type": "stream",
     "text": [
      "Train Loss: 0.067626, Valid Loss: 0.707518\n",
      "Rouge-1: 0.257548, Rouge-2: 0.080393, Rouge-l: 0.248544\n",
      "------------------------------------------------------------------------------------------------------------------------------------------------------\n",
      "PRED: #Person2# 는 최근에 숨쉬기가 힘들고, 운동을 할 때 주로 나타나기 때문에 천식에 대한 검사를 받게 될까봐 걱정하고 있습니다.. 의사는\n",
      "GOLD: #Person2# 는 숨쉬기에 어려움을 겪는다. 의사는 #Person1# 에게 이에 대해 묻고, #Person2# 를 폐 전문의에게 보낼 예정이다.                                                             \n",
      "------------------------------------------------------------------------------------------------------------------------------------------------------\n",
      "PRED: #Person1# 와 지미는 운동 계획에 대해 이야기한다. 그들은 금요일에 다리와 팔목을 운동하기로 결정하고, 3시 30분에 헬스장에서 만날 예정이다.\n",
      "GOLD: #Person1# 은 지미에게 운동하러 가자고 제안하고 팔과 배를 운동하도록 설득한다.                                                                       \n",
      "------------------------------------------------------------------------------------------------------------------------------------------------------\n",
      "PRED: #Person1# 은 건강에 해로운 음식을 먹는 것을 멈춰야 한다고 제안한다. 왜냐하면 그들은 건강하다는 것을 알고 있기 때문이다. 실제로 닭고기는 훨씬 더 건강해 보인다.\n",
      "GOLD: #Person1# 은 건강에 해로운 음식을 먹는 것을 멈추려는 계획을 세우고, #Person2# 는 자신의 건강한 레시피를 #Person1# 와 공유한다.                                                               \n",
      "------------------------------------------------------------------------------------------------------------------------------------------------------\n",
      "Not improve. Early stopping counter: 9/10\n",
      "\n",
      "Epoch 26/1000, Current Learning Rate: 0.000093\n"
     ]
    },
    {
     "name": "stderr",
     "output_type": "stream",
     "text": [
      "                                                                    \r"
     ]
    },
    {
     "name": "stdout",
     "output_type": "stream",
     "text": [
      "Train Loss: 0.060660, Valid Loss: 0.718938\n",
      "Rouge-1: 0.264583, Rouge-2: 0.084810, Rouge-l: 0.254733\n",
      "------------------------------------------------------------------------------------------------------------------------------------------------------\n",
      "PRED: #Person2# 는 숨쉬기가 힘들고, 알고 있는 알레르기는 없지만 운동을 할 때 많이 나타나기 때문에 천식에 대한 검사를 받게 될 거라고 말했습니다.\n",
      "GOLD: #Person2# 는 숨쉬기에 어려움을 겪는다. 의사는 #Person1# 에게 이에 대해 묻고, #Person2# 를 폐 전문의에게 보낼 예정이다.                                                             \n",
      "------------------------------------------------------------------------------------------------------------------------------------------------------\n",
      "PRED: #Person1# 과 지미는 운동하기로 결정하고, 지미가 주간 스케줄을 따르고 있기 때문에 금요일에 다리를 하기로 한다. 그들은 헬스장에서 만날 예정이다.\n",
      "GOLD: #Person1# 은 지미에게 운동하러 가자고 제안하고 팔과 배를 운동하도록 설득한다.                                                                       \n",
      "------------------------------------------------------------------------------------------------------------------------------------------------------\n",
      "PRED: #Person1# 은 건강에 해로운 음식을 먹는 것을 멈춰야 한다고 제안한다. 왜냐하면 그들은 주로 과일, 채소, 그리고 닭고기를 먹기 때문이다. 결국,\n",
      "GOLD: #Person1# 은 건강에 해로운 음식을 먹는 것을 멈추려는 계획을 세우고, #Person2# 는 자신의 건강한 레시피를 #Person1# 와 공유한다.                                                               \n",
      "------------------------------------------------------------------------------------------------------------------------------------------------------\n",
      "Not improve. Early stopping counter: 10/10\n",
      "Early stopping triggered.\n",
      "Training completed. Last model saved.\n"
     ]
    }
   ],
   "source": [
    "best_rouge = 0\n",
    "early_stopping_counter = 0\n",
    "best_val_loss = float('inf')\n",
    "writer = SummaryWriter(log_dir=logs_path)\n",
    "scheduler = CosineAnnealingWarmUpRestarts(optimizer, T_0=config['training']['T_0'], T_mult=config['training']['T_mult'], eta_max=config['training']['max_lr'],  T_up=config['training']['warmup_epochs'], gamma=config['training']['T_gamma'])\n",
    "\n",
    "for epoch in range(1, config['training']['epochs'] + 1):\n",
    "    current_lr = optimizer.param_groups[0]['lr']\n",
    "    print(f\"Epoch {epoch}/{config['training']['epochs']}, Current Learning Rate: {current_lr:.6f}\")\n",
    "    train_loss = train(epoch, model, device, train_loader, optimizer, writer, config['training']['accumulation_steps'])\n",
    "    val_loss, val_result, val_predictions, val_labels = validate(tokenizer, model, device, val_loader, writer, epoch)\n",
    "\n",
    "    # avg_rouge = (val_result['rouge-1'] + val_result['rouge-2'] + val_result['rouge-l']) / 3\n",
    "    print(f\"Train Loss: {train_loss:.6f}, Valid Loss: {val_loss:.6f}\")\n",
    "    print(f\"Rouge-1: {val_result['rouge-1']:.6f}, Rouge-2: {val_result['rouge-2']:.6f}, Rouge-l: {val_result['rouge-l']:.6f}\")\n",
    "\n",
    "    scheduler.step()\n",
    "    print('-'*150)\n",
    "    for i in range(3):\n",
    "        print(f\"PRED: {val_predictions[i].strip()}\")\n",
    "        print(f\"GOLD: {val_labels[i]}\")\n",
    "        print('-'*150)\n",
    "\n",
    "    # if avg_rouge > best_rouge:\n",
    "    if val_result['rouge-1'] > best_rouge:\n",
    "        # best_rouge = avg_rouge\n",
    "        best_rouge = val_result['rouge-1']\n",
    "        early_stopping_counter = 0 \n",
    "        torch.save(model.state_dict(), os.path.join(weights_path, 'best_finetune.pth'))\n",
    "        print(f\"New best model saved with average ROUGE: {best_rouge:.6f}\")\n",
    "\n",
    "    else:\n",
    "        early_stopping_counter += 1\n",
    "        print(f\"Not improve. Early stopping counter: {early_stopping_counter}/{config['training']['patience']}\")\n",
    "\n",
    "    if early_stopping_counter >= config['training']['patience']:\n",
    "        print(\"Early stopping triggered.\")\n",
    "        break\n",
    "\n",
    "    torch.save(model.state_dict(), os.path.join(weights_path, f'epoch-{epoch}_finetune.pth'))\n",
    "    print()\n",
    "\n",
    "writer.close()\n",
    "torch.save(model.state_dict(), os.path.join(weights_path, 'last_finetune.pth'))\n",
    "print(\"Training completed. Last model saved.\")"
   ]
  },
  {
   "cell_type": "code",
   "execution_count": 13,
   "metadata": {},
   "outputs": [],
   "source": [
    "def predict(tokenizer, model, device, test_loader, fname):\n",
    "    model.eval()\n",
    "    summary = []\n",
    "    with torch.no_grad():\n",
    "        for input_ids in tqdm(test_loader):\n",
    "            input_ids = input_ids.to(device, dtype=torch.long)\n",
    "\n",
    "            pred_ids = model.generate(\n",
    "                input_ids=input_ids,\n",
    "                max_length=config['inference']['generate_max_length'], \n",
    "                num_beams=config['inference']['num_beams'],\n",
    "                repetition_penalty=2.0, \n",
    "                length_penalty=1.0, \n",
    "                early_stopping=True,\n",
    "                no_repeat_ngram_size=2\n",
    "            )\n",
    "            for ids in pred_ids:\n",
    "                result = tokenizer.decode(ids)\n",
    "                summary.append(result)\n",
    "                \n",
    "    # remove_tokens = ['<usr>', f\"{tokenizer.unk_token}\", f\"{tokenizer.eos_token}\", f\"{tokenizer.pad_token}\"]\n",
    "    preprocessed_summary = summary.copy()\n",
    "    for token in remove_tokens:\n",
    "        preprocessed_summary = [sentence.replace(token,\" \") for sentence in preprocessed_summary]\n",
    "\n",
    "    output = pd.DataFrame(\n",
    "        {\n",
    "            \"fname\": fname,\n",
    "            \"summary\" : preprocessed_summary,\n",
    "        }\n",
    "    )\n",
    "    return output"
   ]
  },
  {
   "cell_type": "code",
   "execution_count": 14,
   "metadata": {},
   "outputs": [
    {
     "name": "stderr",
     "output_type": "stream",
     "text": [
      "  0%|          | 0/16 [00:00<?, ?it/s]/home/pervinco/miniconda3/envs/nlp-project/lib/python3.9/site-packages/transformers/generation/configuration_utils.py:615: UserWarning: `num_beams` is set to 1. However, `early_stopping` is set to `True` -- this flag is only used in beam-based generation modes. You should set `num_beams>1` or unset `early_stopping`. This was detected when initializing the generation config instance, which means the corresponding file may hold incorrect parameterization and should be fixed.\n",
      "  warnings.warn(\n",
      "/home/pervinco/miniconda3/envs/nlp-project/lib/python3.9/site-packages/transformers/generation/configuration_utils.py:634: UserWarning: `num_beams` is set to 1. However, `length_penalty` is set to `2.0` -- this flag is only used in beam-based generation modes. You should set `num_beams>1` or unset `length_penalty`. This was detected when initializing the generation config instance, which means the corresponding file may hold incorrect parameterization and should be fixed.\n",
      "  warnings.warn(\n",
      "/home/pervinco/miniconda3/envs/nlp-project/lib/python3.9/site-packages/transformers/generation/configuration_utils.py:615: UserWarning: `num_beams` is set to 1. However, `early_stopping` is set to `True` -- this flag is only used in beam-based generation modes. You should set `num_beams>1` or unset `early_stopping`.\n",
      "  warnings.warn(\n",
      "/home/pervinco/miniconda3/envs/nlp-project/lib/python3.9/site-packages/transformers/generation/configuration_utils.py:634: UserWarning: `num_beams` is set to 1. However, `length_penalty` is set to `2.0` -- this flag is only used in beam-based generation modes. You should set `num_beams>1` or unset `length_penalty`.\n",
      "  warnings.warn(\n",
      "100%|██████████| 16/16 [00:39<00:00,  2.47s/it]\n"
     ]
    }
   ],
   "source": [
    "model.load_state_dict(torch.load(f'{save_path}/weights/best_finetune.pth'))\n",
    "output = predict(tokenizer, model, device, test_loader, test_df['fname'])\n",
    "output.to_csv(f\"{save_path}/prediction.csv\", index=False)"
   ]
  },
  {
   "cell_type": "code",
   "execution_count": null,
   "metadata": {},
   "outputs": [],
   "source": []
  }
 ],
 "metadata": {
  "kernelspec": {
   "display_name": "nlp-project",
   "language": "python",
   "name": "python3"
  },
  "language_info": {
   "codemirror_mode": {
    "name": "ipython",
    "version": 3
   },
   "file_extension": ".py",
   "mimetype": "text/x-python",
   "name": "python",
   "nbconvert_exporter": "python",
   "pygments_lexer": "ipython3",
   "version": "3.9.19"
  }
 },
 "nbformat": 4,
 "nbformat_minor": 2
}
