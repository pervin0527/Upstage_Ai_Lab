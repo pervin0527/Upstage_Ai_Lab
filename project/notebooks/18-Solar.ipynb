{
 "cells": [
  {
   "cell_type": "code",
   "execution_count": 1,
   "metadata": {},
   "outputs": [],
   "source": [
    "import pandas as pd\n",
    "from tqdm import tqdm\n",
    "from openai import OpenAI"
   ]
  },
  {
   "cell_type": "code",
   "execution_count": 2,
   "metadata": {},
   "outputs": [],
   "source": [
    "client = OpenAI(\n",
    "    api_key=\"\",\n",
    "    base_url=\"https://api.upstage.ai/v1/solar\"\n",
    ")"
   ]
  },
  {
   "cell_type": "code",
   "execution_count": 3,
   "metadata": {},
   "outputs": [],
   "source": [
    "train_df = pd.read_csv(\"../dataset/cleaned_train.csv\")\n",
    "sample_df = pd.read_csv(\"../dataset/top5_samples.csv\")"
   ]
  },
  {
   "cell_type": "code",
   "execution_count": 4,
   "metadata": {},
   "outputs": [],
   "source": [
    "few_shot_samples = sample_df.head(10)\n",
    "few_shot_prompt = \"\"\n",
    "for idx, row in few_shot_samples.iterrows():\n",
    "    summary = row['summary']\n",
    "    dialogue = row['dialogue']\n",
    "    few_shot_prompt += f\"Summary:\\n{summary}\\nDialogue:\\n{dialogue}\\n\\n\""
   ]
  },
  {
   "cell_type": "code",
   "execution_count": 5,
   "metadata": {},
   "outputs": [],
   "source": [
    "# 시스템 프롬프트 설정\n",
    "system_prompt1 = {\n",
    "    \"role\": \"system\",\n",
    "    \"content\": (\n",
    "        \"You are a helpful assistant for generating dialogues from summaries. \"\n",
    "        \"Make sure not to generate any sentences in English or sentences enclosed in parentheses. \"\n",
    "        \"Ensure that each speaker's turn is separated by exactly one newline character, and avoid using double newlines. \"\n",
    "        \"The dialogue format should follow this structure: '#Person#: dialogue text'. All dialogues must be generated in Korean.\"\n",
    "    )\n",
    "}\n",
    "\n",
    "# Few-shot 대화 생성 함수\n",
    "def generate_dialogue_with_few_shot(summary):\n",
    "    try:\n",
    "        # User 프롬프트에 한국어로 대화 생성 요청 추가\n",
    "        user_prompt = (\n",
    "            f\"{few_shot_prompt}\\n\"\n",
    "            f\"Now generate a dialogue based on the following summary, ensuring the dialogue is entirely in Korean, \"\n",
    "            f\"with no English or sentences in parentheses. Ensure proper formatting as explained above:\\n{summary}\"\n",
    "        )\n",
    "        \n",
    "        response = client.chat.completions.create(\n",
    "            model=\"solar-1-mini-chat\",\n",
    "            messages=[\n",
    "                system_prompt1,\n",
    "                {\n",
    "                    \"role\": \"user\",\n",
    "                    \"content\": user_prompt\n",
    "                }\n",
    "            ],\n",
    "            stream=False  # Set to True if you want to use streaming\n",
    "        )\n",
    "        # 생성된 대화 텍스트 반환\n",
    "        return response.choices[0].message.content\n",
    "\n",
    "    except Exception as e:\n",
    "        print(f\"Error generating dialogue: {e}\")\n",
    "        return None"
   ]
  },
  {
   "cell_type": "code",
   "execution_count": 6,
   "metadata": {},
   "outputs": [
    {
     "name": "stderr",
     "output_type": "stream",
     "text": [
      "  1%|▏         | 147/9966 [08:19<6:24:17,  2.35s/it]"
     ]
    }
   ],
   "source": [
    "sampled_df = train_df.sample(frac=0.8, random_state=42).reset_index(drop=True)\n",
    "sampled_df['dialogue'] = None\n",
    "\n",
    "for idx, row in tqdm(sampled_df.iterrows(), total=len(sampled_df)):\n",
    "    generated_dialogue = generate_dialogue_with_few_shot(row['summary'])\n",
    "    # print(idx)\n",
    "    # print(f\"{generated_dialogue}\\n\")\n",
    "    sampled_df.at[idx, 'dialogue'] = generated_dialogue\n",
    "\n",
    "print(sampled_df[['summary', 'dialogue']].head())"
   ]
  },
  {
   "cell_type": "code",
   "execution_count": 7,
   "metadata": {},
   "outputs": [],
   "source": [
    "output_file_path = '../dataset/generated_dialogue.csv'\n",
    "sampled_df.to_csv(output_file_path, index=False)"
   ]
  }
 ],
 "metadata": {
  "kernelspec": {
   "display_name": "nlp-project",
   "language": "python",
   "name": "python3"
  },
  "language_info": {
   "codemirror_mode": {
    "name": "ipython",
    "version": 3
   },
   "file_extension": ".py",
   "mimetype": "text/x-python",
   "name": "python",
   "nbconvert_exporter": "python",
   "pygments_lexer": "ipython3",
   "version": "3.9.19"
  }
 },
 "nbformat": 4,
 "nbformat_minor": 2
}
