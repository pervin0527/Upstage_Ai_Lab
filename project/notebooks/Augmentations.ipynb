{
 "cells": [
  {
   "cell_type": "code",
   "execution_count": 1,
   "metadata": {},
   "outputs": [
    {
     "name": "stderr",
     "output_type": "stream",
     "text": [
      "/home/pervinco/miniconda3/envs/nlp-project/lib/python3.9/site-packages/tqdm/auto.py:21: TqdmWarning: IProgress not found. Please update jupyter and ipywidgets. See https://ipywidgets.readthedocs.io/en/stable/user_install.html\n",
      "  from .autonotebook import tqdm as notebook_tqdm\n"
     ]
    }
   ],
   "source": [
    "import re\n",
    "import random\n",
    "import pandas as pd\n",
    "import nlpaug.augmenter.word as naw\n",
    "\n",
    "from tqdm import tqdm\n",
    "from nlpaug.util import Action\n",
    "from koeda import EasyDataAugmentation, AEasierDataAugmentation\n",
    "from googletrans import Translator"
   ]
  },
  {
   "cell_type": "code",
   "execution_count": 2,
   "metadata": {},
   "outputs": [],
   "source": [
    "import time\n",
    "\n",
    "def timeit(func):\n",
    "    \"\"\"이 데코레이터는 함수의 실행 시간을 측정합니다.\"\"\"\n",
    "    def wrapper(*args, **kwargs):\n",
    "        start_time = time.time()  # 시작 시간 측정\n",
    "        result = func(*args, **kwargs)\n",
    "        end_time = time.time()    # 종료 시간 측정\n",
    "        elapsed_time = end_time - start_time\n",
    "        print(f\"'{func.__name__}' 함수 실행 시간: {elapsed_time:.4f}초\")\n",
    "        return result\n",
    "    return wrapper"
   ]
  },
  {
   "cell_type": "code",
   "execution_count": 3,
   "metadata": {},
   "outputs": [],
   "source": [
    "df = pd.read_csv('../dataset/cleaned_train.csv')"
   ]
  },
  {
   "cell_type": "code",
   "execution_count": 4,
   "metadata": {},
   "outputs": [],
   "source": [
    "idx = random.randint(0, 12000)\n",
    "sample = df.iloc[idx]['dialogue']"
   ]
  },
  {
   "cell_type": "code",
   "execution_count": 5,
   "metadata": {},
   "outputs": [],
   "source": [
    "@timeit\n",
    "def augment_text_data_with_EDA(text: str, repetition=1):\n",
    "    eda = EasyDataAugmentation(morpheme_analyzer=\"Mecab\")\n",
    "    \n",
    "    pattern = r'#.*?#:?'\n",
    "    \n",
    "    lines = text.split('\\n')\n",
    "    augmented_texts = []\n",
    "    \n",
    "    for line in lines:\n",
    "        matches = [(m.start(), m.end(), m.group()) for m in re.finditer(pattern, line)]\n",
    "        cleaned_line = line\n",
    "        for start, end, match in matches:\n",
    "            cleaned_line = cleaned_line.replace(match, \"\")\n",
    "        \n",
    "        result = eda(cleaned_line, p=(0.1, 0.1, 0.1, 0.1), repetition=repetition)\n",
    "        \n",
    "        for start, end, match in matches:\n",
    "            result = result[:start] + match + result[start:]\n",
    "        \n",
    "        augmented_texts.append(result.strip())\n",
    "\n",
    "    return augmented_texts"
   ]
  },
  {
   "cell_type": "code",
   "execution_count": 6,
   "metadata": {},
   "outputs": [
    {
     "name": "stdout",
     "output_type": "stream",
     "text": [
      "'augment_text_data_with_EDA' 함수 실행 시간: 0.0038초\n"
     ]
    },
    {
     "data": {
      "text/plain": [
       "['#Person1#:야, 너. 좀 빨리 못 평원 해? 다들 너 때문에 기다리고 있어.',\n",
       " '#Person2#:어떻게 나한테만 그렇게 말? 이런 기계 조작하는 어려워. 오른손잡이용으로 디자인된 거야.',\n",
       " '#Person1#:너는 항상 이런 기계 때문에왼손불평해. 하지만 을 쓰 사람만 있는 것도는아닌데.',\n",
       " '#Person2#:정말? 나랑 같은 사람 다른알데 없는 줄 았어.',\n",
       " '#Person1#:사실 말하면 나 연령 도 왼손잡이야.',\n",
       " '#Person2#:너?',\n",
       " '#Person1#:그래. 미리 익숙해져야 돼. 그러면 빠르게 할 수 있.',\n",
       " '#Person2#:그게 너가 한 야거?',\n",
       " '#Person1#:그래. 사실 양손을 다 쓰는 게 좋아.',\n",
       " '#Person2#:알겠어, 일자 시도해볼게.']"
      ]
     },
     "execution_count": 6,
     "metadata": {},
     "output_type": "execute_result"
    }
   ],
   "source": [
    "# print(sample)\n",
    "augment_text_data_with_EDA(sample)"
   ]
  },
  {
   "cell_type": "code",
   "execution_count": null,
   "metadata": {},
   "outputs": [],
   "source": []
  },
  {
   "cell_type": "code",
   "execution_count": 7,
   "metadata": {},
   "outputs": [],
   "source": [
    "@timeit\n",
    "def augment_text_data_with_AEDA(text, repetition):\n",
    "    \"\"\"입력된 문장에 대해서 AEDA를 통해 데이터 증강\"\"\"\n",
    "    aeda = AEasierDataAugmentation(morpheme_analyzer=\"Okt\", punctuations=[\".\", \",\", \"!\", \"?\", \";\", \":\"])\n",
    "\n",
    "    pattern = r'#.*?#:?'\n",
    "    lines = text.split('\\n')\n",
    "    augmented_texts = []\n",
    "    \n",
    "    for line in lines:\n",
    "        matches = [(m.start(), m.end(), m.group()) for m in re.finditer(pattern, line)]\n",
    "        \n",
    "        cleaned_line = line\n",
    "        for start, end, match in matches:\n",
    "            cleaned_line = cleaned_line.replace(match, \"\")\n",
    "    \n",
    "        result = aeda(text, p=0.1, repetition=repetition)\n",
    "    \n",
    "        for start, end, match in matches:\n",
    "            result = result[:start] + match + result[start:]\n",
    "        \n",
    "        augmented_texts.append(result.strip())\n",
    "\n",
    "    return augmented_texts"
   ]
  },
  {
   "cell_type": "code",
   "execution_count": 8,
   "metadata": {},
   "outputs": [
    {
     "name": "stdout",
     "output_type": "stream",
     "text": [
      "'augment_text_data_with_AEDA' 함수 실행 시간: 2.1973초\n"
     ]
    },
    {
     "data": {
      "text/plain": [
       "['#Person1#:#Person1#: 야, 너. 좀 빨리 못 해? 다들 너 때문에 기다리고 있어. #Person2#: 어떻게 나한테만 그렇게 말해? 이런 기계 조작하는 게 어려워. 오른손잡이용으로 . 디자인된 거야. #Person1#: 너는 항상 이런 , 기계 때문에 불평해. 하지만 왼손을 쓰는 사람만 있는 것도 아닌데. #Person2#: 정말? 나랑 같은 사람 다른 데 없는 줄 알았어 ! . #Person1#: 사실 말하면 나도 왼손잡이야. #Person2#: 너? #Person1#: 그래. 미리 익숙해져야 돼. 그러면 빠르게 할 수 있어 ? . #Person2#: 그게 너가 한 거야? #Person1#: 그래. ! 사실 양손을 다 쓰는 게 좋아. #Person2#: 알겠어, : 시도해볼게.',\n",
       " '#Person2#:#Person1#: 야, 너 ; . ? 좀 빨리 못 해? 다들 너 때문에 기다리고 ? 있어. #Person2#: 어떻게 나한테만 그렇게 말해 : ? ; 이런 기계 조작하는 게 어려워. 오른손잡이용으로 디자인된 거야. #Person1#: 너는 항상 이런 기계 때문에 불평해. 하지만 왼손을 쓰는 사람만 있는 것도 아닌데. #Person2#: 정말? 나랑 같은 사람 다른 데 없는 줄 알았어. #Person1#: 사실 말하면 나도 왼손잡이야. #Person2#: 너? #Person1#: 그래 ! . 미리 익숙해져야 돼. ! 그러면 빠르게 할 수 ; 있어. #Person2#: 그게 너 : 가 한 거야? ? #Person1#: 그래 ! . 사실 양손을 다 쓰는 게 좋아. . #Person2#: 알겠어, 시도해볼게.',\n",
       " '#Person1#:#Person1#: 야, 너. 좀 빨리 못 해? 다들 너 때문에 기다리고 있어. #Person2#: 어떻게 나한테만 그렇게 말해? 이런 기계 조작하는 게 어려워. 오른손잡이용으로 디자인된 거야. #Person1#: 너는 항상 이런 기계 때문에 불평해. 하지만 왼손을 쓰는 사람만 있는 것도 아닌데. #Person2#: 정말? 나랑 같은 사람 다른 데 없는 줄 알았어. #Person1#: 사실 말하면 나도 ; 왼손잡이야. #Person2#: 너? #Person1#: 그래. 미리 익숙해져야 돼. 그러면 빠르게 할 수 있어. #Person2#: 그게 너가 한 거야? #Person1#: 그래. 사실 양손을 다 쓰는 게 좋아. #Person2#: 알겠어, 시도해볼게.',\n",
       " '#Person2#:#Person1#: 야, 너. 좀 빨리 못 해? 다들 ! 너 때문에 기다리고 있어. #Person2#: 어떻게 나한테만 그렇게 말해? 이런 기계 조작하는 게 어려워. 오른손잡이 , 용으로 디자인 : 된 거야. #Person1#: 너는 항상 이런 기계 때문에 불평해. 하지만 왼손을 쓰는 사람만 있는 것도 아닌데. #Person2#: 정말? 나 , 랑 같은 사람 다른 데 없는 줄 알았어. #Person1#: 사실 . 말하면 나도 왼손잡이야. #Person2#: ! 너 ! ? ! #Person1#: 그래. 미리 ! 익숙해져야 돼. 그러면 빠르게 할 수 있어. ; #Person2#: 그게 너가 한 거야? #Person1#: 그래. 사실 양손을 다 쓰는 게 좋아. , #Person2#: 알겠어, , 시도해볼게.',\n",
       " '#Person1#:#Person1#: 야, 너. 좀 빨리 못 해? 다들 너 때문에 기다리고 있어 , . #Person2#: 어떻게 나한테만 그렇게 말해 . ? 이런 기계 조작하는 게 어려워. 오른손잡이용으로 ? 디자인된 거야. #Person1#: 너는 항상 이런 기계 때문에 불평해. 하지만 왼손을 쓰는 사람만 있는 것도 ! 아닌데. #Person2#: 정말? 나랑 같은 사람 다른 데 없는 줄 알았어. ; #Person1 ? #: 사실 말하면 나도 왼손잡이야. #Person2#: , 너? , #Person1#: 그래. 미리 익숙해져야 . 돼. 그러면 빠르게 할 수 있어. ? #Person2#: 그게 너가 한 거야? . #Person1#: 그래. 사실 양손 : 을 다 쓰는 게 좋아. #Person2#: 알겠어, 시도해볼게.',\n",
       " '#Person2#:#Person1#: 야, 너. 좀 빨리 못 해? ? 다들 너 때문에 기다리고 있어. #Person2#: 어떻게 나한테 ! 만 그렇게 ! 말해? 이런 기계 조작하는 게 어려워. 오른손잡이용으로 디자인 ! 된 거야. #Person1#: 너는 항상 이런 기계 때문에 불평해. 하지만 왼손을 쓰는 사람 . 만 : 있는 것도 아닌데. #Person2#: 정말? ! 나랑 같은 사람 다른 데 없는 줄 알았어 ; . #Person1#: 사실 말하면 나도 왼손잡이야. ? #Person2#: 너? #Person1#: 그래. 미리 익숙해져야 돼. 그러면 빠르게 할 수 있어. , #Person2#: 그게 너가 한 ? 거야? , #Person1#: 그래. 사실 양손을 다 쓰는 게 , 좋아. ? #Person2#: 알겠어, 시도해볼게.',\n",
       " '#Person1#:#Person1#: 야, 너. 좀 빨리 못 해? 다들 너 때문에 기다리고 있어. #Person2#: : 어떻게 나한테만 그렇게 말해? 이런 기계 ! 조작하는 게 어려워. 오른손잡이 . 용으로 디자인된 거야. #Person1#: ! 너는 항상 이런 기계 때문 . 에 불평 , 해. 하지만 왼손을 쓰는 사람만 있는 것도 아닌데. , #Person2#: 정말? 나랑 같은 사람 다른 데 없는 줄 알았어. #Person1#: 사실 말하면 나도 왼손잡이야. #Person2#: 너? #Person1#: 그래. 미리 익숙해져야 돼. 그러면 빠르게 할 수 있어. #Person2#: 그게 너가 한 거야? #Person1#: 그래. 사실 양손을 다 쓰는 게 좋아. #Person2#: ; 알겠어, 시도해볼게.',\n",
       " '#Person2#:#Person1#: 야, 너. 좀 빨리 못 해? . 다들 너 때문 ? 에 기다리고 있어. ; #Person2 . #: ; 어떻게 나 ? 한테만 그렇게 말해? 이런 기계 조작하는 게 어려워. 오른손잡이용으로 디자인된 거야. #Person1 ; #: 너는 항상 이런 기계 때문에 불평해. 하지만 왼손을 쓰는 사람만 있는 것도 아닌데. #Person2#: 정말? 나랑 같은 사람 다른 : 데 없는 줄 ? 알았어. : #Person1#: 사실 말하면 나도 왼손잡이야. #Person2#: 너? #Person1#: ; 그래. 미리 익숙해져야 돼. 그러면 빠르게 할 수 있어. #Person2#: 그게 ; 너가 한 거야? : #Person1#: 그래. 사실 양손을 다 쓰는 : 게 좋아. #Person2#: 알겠어, 시도해볼게.',\n",
       " '#Person1#:#Person1#: 야, 너. 좀 빨리 ; 못 해? 다들 너 때문에 기다리고 있어. #Person2#: 어떻게 나한테만 그렇게 말해 . ? 이런 기계 . 조작하는 게 . 어려워. 오른손잡이 . 용으로 디자인된 ? 거야. #Person1#: 너 ! 는 항상 이런 기계 때문에 불평해. 하지만 왼손을 쓰는 사람만 있는 것 , 도 아닌데. #Person2#: 정말? 나랑 같은 사람 다른 데 없는 줄 알았어. #Person1#: 사실 말하면 나도 왼손잡이야. #Person2#: . 너 , ? #Person1#: ! 그래. 미리 익숙해져야 돼. 그러면 빠르게 할 수 . 있어. #Person2#: 그게 너가 한 거야? #Person1#: 그래. 사실 양손을 다 쓰는 게 좋아. , #Person2#: 알겠어, 시도해볼게.',\n",
       " '#Person2#:#Person1#: 야, 너. 좀 빨리 못 해? . 다 ; 들 너 때문에 기다리고 있어. #Person2#: 어떻게 나한테만 그렇게 말해? ! 이런 기계 조작하는 게 어려워. 오른손잡이용으로 디자인된 거야 : . #Person1#: 너는 항상 이런 기계 ? 때문에 불평해. 하지만 왼손을 쓰는 사람만 , 있는 것 ! 도 아닌데. #Person2 : #: 정말 . ? 나랑 같은 사람 다른 데 없는 줄 알았어. ; #Person1#: 사실 말하면 나도 왼손잡이야. #Person2 ? #: 너? #Person1#: 그래. 미리 익숙해져야 돼. 그러면 빠르게 할 수 있어. #Person2#: 그게 너가 한 거야? #Person1#: 그래. 사실 : 양손을 ! 다 쓰는 게 좋아. #Person2#: 알겠어, . 시도해볼게 . .']"
      ]
     },
     "execution_count": 8,
     "metadata": {},
     "output_type": "execute_result"
    }
   ],
   "source": [
    "augment_text_data_with_AEDA(sample, 1)"
   ]
  },
  {
   "cell_type": "code",
   "execution_count": null,
   "metadata": {},
   "outputs": [],
   "source": []
  },
  {
   "cell_type": "code",
   "execution_count": 9,
   "metadata": {},
   "outputs": [],
   "source": [
    "@timeit\n",
    "def augment_text_data_with_BT(text, repetition):\n",
    "    \"\"\"입력된 문장에 대해서 BT를 통해 데이터 증강\"\"\"\n",
    "    translator = Translator()\n",
    "    result = []\n",
    "\n",
    "    # 패턴 정의: #문자열#: 또는 #문자열# 추출\n",
    "    pattern = r'#.*?#:?'\n",
    "    matches = [(m.start(), m.end(), m.group()) for m in re.finditer(pattern, text)]\n",
    "    \n",
    "    cleaned_text = text\n",
    "    for start, end, match in matches:\n",
    "        cleaned_text = cleaned_text.replace(match, \"\")\n",
    "\n",
    "    # 번역 실행 (한국어 > 영어 > 한국어)\n",
    "    for i in range(repetition):\n",
    "        translated = translator.translate(cleaned_text, src='ko', dest='en')\n",
    "        re_translated = translator.translate(translated.text, src='en', dest='ko')\n",
    "        augmented_text = re_translated.text\n",
    "        \n",
    "        for start, end, match in matches:\n",
    "            augmented_text = augmented_text[:start] + match + augmented_text[start:]\n",
    "        \n",
    "        result.append(augmented_text)\n",
    "    \n",
    "    return result"
   ]
  },
  {
   "cell_type": "code",
   "execution_count": 10,
   "metadata": {},
   "outputs": [
    {
     "name": "stdout",
     "output_type": "stream",
     "text": [
      "'augment_text_data_with_BT' 함수 실행 시간: 2.7491초\n"
     ]
    },
    {
     "data": {
      "text/plain": [
       "['#Person1#:이봐, 당신은 조금 빠르지 않습니까? 모두가 당신을 기다리고 있#Person2#:습니다.\\n나에게 어떻게 그렇게 말합니까?이 기계를 조작하기가 어렵습니다. 오른손 히트를 위해 설계#Person1#:되었습니다.\\n당신은 항상이 기계에 대해 불평하지만 왼손을 사용하는 사람은 아닙니다.\\n정#Person2#:말? 나 같은 사람은 없다고 생각했습니다.\\n사실, 나#Person1#:도 핸드를 남겼습니다.\\n너?\\n알겠#Person2#:습니다.#Person1#: 미리 익숙해 져야합니다. 그런 다음 빨리 할 수 \\u200b\\u200b있습니#Person2#:다.\\n당신은 그렇게 했습#Person1#:니까?\\n사실, 양손을 사용하는 것이 좋습니#Person2#:다.\\n좋아요, 시도해 볼게요.']"
      ]
     },
     "execution_count": 10,
     "metadata": {},
     "output_type": "execute_result"
    }
   ],
   "source": [
    "augment_text_data_with_BT(sample, 1)"
   ]
  },
  {
   "cell_type": "code",
   "execution_count": null,
   "metadata": {},
   "outputs": [],
   "source": []
  },
  {
   "cell_type": "code",
   "execution_count": 11,
   "metadata": {},
   "outputs": [],
   "source": [
    "def augment_text_data_with_NLPAug(text: str, repetition=1):\n",
    "    aug = naw.ContextualWordEmbsAug(\n",
    "        model_path='bert-base-multilingual-cased', action=\"substitute\"\n",
    "    )\n",
    "\n",
    "    pattern = r'#.*?#:?'\n",
    "    lines = text.split('\\n')\n",
    "    augmented_texts = []\n",
    "\n",
    "    for line in lines:\n",
    "        matches = [(m.start(), m.end(), m.group()) for m in re.finditer(pattern, line)]\n",
    "        cleaned_line = line\n",
    "        for start, end, match in matches:\n",
    "            cleaned_line = cleaned_line.replace(match, \"\")\n",
    "        \n",
    "        result = []\n",
    "        for _ in range(repetition):\n",
    "            augmented_line = aug.augment(cleaned_line)\n",
    "            for start, end, match in matches:\n",
    "                augmented_line = augmented_line[:start] + match + augmented_line[start:]\n",
    "            result.append(augmented_line.strip())\n",
    "\n",
    "        augmented_texts.extend(result)\n",
    "\n",
    "    return augmented_texts"
   ]
  },
  {
   "cell_type": "code",
   "execution_count": null,
   "metadata": {},
   "outputs": [],
   "source": []
  },
  {
   "cell_type": "code",
   "execution_count": 12,
   "metadata": {},
   "outputs": [],
   "source": [
    "# def augment_dataframe(df, repetition=1):\n",
    "#     augmented_rows = []\n",
    "\n",
    "#     for index, row in tqdm(df.iterrows(), total=df.shape[0], desc=\"Augmenting Data\"):\n",
    "#         original_dialogue = row['dialogue']\n",
    "#         summary = row['summary']\n",
    "#         topic = row['topic']\n",
    "\n",
    "#         eda_augmented_texts = augment_text_data_with_EDA(original_dialogue, repetition)\n",
    "#         aeda_augmented_texts = augment_text_data_with_AEDA(original_dialogue, repetition)\n",
    "#         bt_augmented_texts = augment_text_data_with_BT(original_dialogue, repetition)\n",
    "\n",
    "#         for text in eda_augmented_texts + bt_augmented_texts + aeda_augmented_texts:\n",
    "#         # for text in eda_augmented_texts + bt_augmented_texts:\n",
    "#             augmented_rows.append({\n",
    "#                 'dialogue': text,\n",
    "#                 'summary': summary,\n",
    "#                 'topic': topic\n",
    "#             })\n",
    "\n",
    "\n",
    "#     augmented_df = pd.DataFrame(augmented_rows)\n",
    "#     result_df = pd.concat([df, augmented_df], ignore_index=True)\n",
    "\n",
    "#     return result_df"
   ]
  },
  {
   "cell_type": "code",
   "execution_count": 13,
   "metadata": {},
   "outputs": [],
   "source": [
    "# augmented_df = augment_dataframe(df, repetition=1)"
   ]
  },
  {
   "cell_type": "code",
   "execution_count": 14,
   "metadata": {},
   "outputs": [],
   "source": [
    "# augmented_df.to_csv('../dataset/augmented_train.csv', index=False)"
   ]
  }
 ],
 "metadata": {
  "kernelspec": {
   "display_name": "nlp-project",
   "language": "python",
   "name": "python3"
  },
  "language_info": {
   "codemirror_mode": {
    "name": "ipython",
    "version": 3
   },
   "file_extension": ".py",
   "mimetype": "text/x-python",
   "name": "python",
   "nbconvert_exporter": "python",
   "pygments_lexer": "ipython3",
   "version": "3.9.19"
  }
 },
 "nbformat": 4,
 "nbformat_minor": 2
}
