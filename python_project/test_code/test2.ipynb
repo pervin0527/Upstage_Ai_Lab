{
 "cells": [
  {
   "cell_type": "code",
   "execution_count": 1,
   "metadata": {},
   "outputs": [],
   "source": [
    "import re\n",
    "import time\n",
    "\n",
    "from tqdm import tqdm\n",
    "from selenium import webdriver\n",
    "from selenium.webdriver.common.by import By\n",
    "from selenium.webdriver.chrome.options import Options\n",
    "from selenium.common.exceptions import NoSuchElementException"
   ]
  },
  {
   "cell_type": "code",
   "execution_count": 2,
   "metadata": {},
   "outputs": [],
   "source": [
    "browser = webdriver.Chrome()\n",
    "browser.get('https://www.wanted.co.kr/')"
   ]
  },
  {
   "cell_type": "code",
   "execution_count": 3,
   "metadata": {},
   "outputs": [],
   "source": [
    "## 네비게이션 바에서 [채용] 버튼 클릭.\n",
    "browser.find_element(By.CLASS_NAME, 'Menu_jobListLink__GYHAI').click()\n",
    "time.sleep(1.5)\n",
    "\n",
    "## 직군에서 [개발] 선택\n",
    "browser.find_element(By.CLASS_NAME, 'JobGroup_JobGroup__H1m1m').click()\n",
    "browser.find_element(By.XPATH, '//*[@id=\"__next\"]/div[3]/article/div/div[1]/section/ul/li[1]/a').click()\n",
    "\n",
    "## [개발 분야] 선택\n",
    "browser.find_element(By.CLASS_NAME, 'JobCategory_JobCategory__btn__k3EFe').click()\n",
    "browser.find_element(By.XPATH, '//*[@id=\"__next\"]/div[3]/article/div/div[2]/section/div[1]/div/button[9]').click()\n",
    "browser.find_element(By.CLASS_NAME, 'JobCategoryOverlay_JobCategoryOverlay__bottom__btn__GliIw').click()"
   ]
  },
  {
   "cell_type": "code",
   "execution_count": 4,
   "metadata": {},
   "outputs": [
    {
     "name": "stdout",
     "output_type": "stream",
     "text": [
      "12\n"
     ]
    }
   ],
   "source": [
    "time.sleep(1.5)\n",
    "container = browser.find_element(By.CLASS_NAME, 'List_List__FsLch')\n",
    "blocks = container.find_elements(By.CLASS_NAME, 'JobCard_JobCard__oZL4d')\n",
    "\n",
    "print(len(blocks))"
   ]
  },
  {
   "cell_type": "code",
   "execution_count": 8,
   "metadata": {},
   "outputs": [
    {
     "name": "stderr",
     "output_type": "stream",
     "text": [
      "  0%|          | 0/12 [00:12<?, ?it/s]"
     ]
    },
    {
     "name": "stdout",
     "output_type": "stream",
     "text": [
      "['백앤드 엔지니어는 이런 업무를 하시게 됩니다   자사의 Wep Application 및 Mobile App에 필요한 API 및 BackOffice 설계 및 개발  효율적이고 안정적인 서비스 운영을 위한 인프라 구조 및 성능 개선  다양한 외부 서비스와의 API 개발 연동   우리는 이런 분들과 함께하고 싶어요   사용자가 겪는 문제를 IT 기술을 통해 주도적으로 해결하려고 노력하는 사람  새로운 기술에 대해 거부감이 없고 끊임없이 도전하길 좋아하는 사람  팀원들과 기술을 공유하고 함께 성장하는걸 중요하게 생각하는 사람  되는걸 만드는 것 보다 잘 되는 걸 만들기 위해 노력하는 사람  자신의 의견을 적극적으로 말할 수 있는사람   우리팀은 이런 기술들을 활용합니다   Backend TypeScript Nestjs Expressjs in Nodejs  Frontend Reactjs Nextjs TypeScript JavaScript Zustand Recoil Redux emotionjs SCSS Webpack  Native App Flutter ReactNative  Block Chain Klyatn Polygon Luniverse LINE Blockchain Solidity  Database MySQL MongoDB DynamoDB  Infra AWS EC2 RDS Lambda SQS S3 Amplify Code Depoly etc Terraform k8s  Cowork GithubMonoRepo GitFlow Slack Notion Figma']\n",
      "[' 개발 경력 5년 이상 혹은 그에 준하는 역량을 갖추신 분  한 가지 개발언어TypeScript Kotlin Java Golang Python 등를 능숙하게 활용 가능하신 분  자료구조 알고리즘 네트워크 보안 등 기본적인 컴퓨터 공학 지식을 보유하신 분  RESTful API에 대한 충분한 이해와 개발 경험이 있으신 분  RDBMSMySQL에 대한 충분한 이해와 설계 경험이 있으신 분  AWS 기반 클라우드 환경에서 다양한 서비스 경험이 있으신 분  Git을 이용한 버전관리에 대한 이해가 있으신 분']\n",
      "[' 컴퓨터공학 전공 및 관련학과 우대  대용량 트래픽 대응을 위한 분산 시스템 운영 경험이 있으신 분  백앤드 성능 최적화 경험이 있으신 분  Linux 기반의 중소규모 서버 인프라 설계 및 셋팅 경험이 있으신 분  CICD에 대한 이해와 구축 경험이 있으신 분  테스트 자동화 경험이 있으신 분  블록체인 또는 AI 관련 기술에 관심이 있으신 분']\n"
     ]
    },
    {
     "name": "stderr",
     "output_type": "stream",
     "text": [
      "\n"
     ]
    }
   ],
   "source": [
    "total_data = []\n",
    "for i, block in tqdm(enumerate(blocks), total=len(blocks), leave=True):\n",
    "    card = block.find_element(By.TAG_NAME, 'a')\n",
    "    company_name = card.get_attribute('data-company-name')\n",
    "    title = card.get_attribute('data-position-name')\n",
    "    link = card.get_attribute('href')\n",
    "\n",
    "    card_browser = webdriver.Chrome()\n",
    "    card_browser.get(link)\n",
    "    time.sleep(1.5)\n",
    "\n",
    "    option_block = card_browser.find_element(By.CLASS_NAME, 'JobHeader_JobHeader__Tools__n5Vcg')\n",
    "    options = option_block.find_elements(By.CLASS_NAME, 'JobHeader_JobHeader__Tools__Company__Info__omnQX')\n",
    "    option_list = [x.text for x in options]\n",
    "    option_list = ','.join(option_list)\n",
    "\n",
    "    card_browser.find_element(By.CLASS_NAME, 'Button_Button__outlinedSizeLarge__n_OOf').click() ## 상세 정보 더 보기 버튼\n",
    "    div_blocks = card_browser.find_elements(By.CLASS_NAME, 'JobDescription_JobDescription__paragraph__Iwfqn')\n",
    "    \n",
    "    detail_fields = []\n",
    "    for db in div_blocks:\n",
    "        db_title = db.find_element(By.TAG_NAME, 'h3').text\n",
    "        \n",
    "        if db_title in ['주요업무', '자격요건', '우대사항']:\n",
    "            db_li = db.find_elements(By.TAG_NAME, 'span')\n",
    "            db_li = [re.sub(r'[^가-힣A-Za-z0-9\\s]', '', x.text).replace('\\n', ' ') for x in db_li]\n",
    "            detail_fields.extend(db_li)\n",
    "\n",
    "    break"
   ]
  }
 ],
 "metadata": {
  "kernelspec": {
   "display_name": "base",
   "language": "python",
   "name": "python3"
  },
  "language_info": {
   "codemirror_mode": {
    "name": "ipython",
    "version": 3
   },
   "file_extension": ".py",
   "mimetype": "text/x-python",
   "name": "python",
   "nbconvert_exporter": "python",
   "pygments_lexer": "ipython3",
   "version": "3.9.13"
  }
 },
 "nbformat": 4,
 "nbformat_minor": 2
}
